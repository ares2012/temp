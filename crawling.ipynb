{
  "cells": [
    {
      "cell_type": "markdown",
      "metadata": {
        "id": "v67O-Un0eO8K"
      },
      "source": [
        "<a target=\"_blank\" href=\"https://colab.research.google.com/github/ares2012/temp/blob/master/crawling.ipynb\">\n",
        "  <img src=\"https://colab.research.google.com/assets/colab-badge.svg\" alt=\"Open In Colab\"/>\n",
        "</a>"
      ]
    },
    {
      "cell_type": "markdown",
      "metadata": {
        "id": "IiMm0x1AcLPK"
      },
      "source": [
        "https://openincolab.com"
      ]
    },
    {
      "cell_type": "code",
      "execution_count": null,
      "metadata": {
        "id": "6sxvfkzdRXln"
      },
      "outputs": [],
      "source": [
        "from google.colab import drive\n",
        "drive.mount('/content/drive')"
      ]
    },
    {
      "cell_type": "code",
      "execution_count": null,
      "metadata": {
        "id": "xerYbGAGslw8"
      },
      "outputs": [],
      "source": [
        "import ssl\n",
        "\n",
        "context = ssl._create_unverified_context()\n",
        "ssl._create_default_https_context = ssl._create_unverified_context"
      ]
    },
    {
      "cell_type": "markdown",
      "metadata": {
        "id": "Q6j4Dw7-9zGY"
      },
      "source": [
        "##### Google search\n",
        "\n",
        "https://jungwoon.github.io/python/2018/03/20/Data-Analysis-With-Python-3.html"
      ]
    },
    {
      "cell_type": "code",
      "execution_count": null,
      "metadata": {
        "id": "8LCcoCazI_CX"
      },
      "outputs": [],
      "source": [
        "!pip install googlesearch-python --upgrade --quiet"
      ]
    },
    {
      "cell_type": "code",
      "execution_count": null,
      "metadata": {
        "colab": {
          "base_uri": "https://localhost:8080/",
          "height": 356
        },
        "id": "BBdkZvw-HX3P",
        "outputId": "7af90f81-9119-4928-c964-e18699f55aa0"
      },
      "outputs": [
        {
          "data": {
            "text/plain": [
              "(\"Google Search몇 초 안에 이동하지 않는 경우 여기를 클릭하세요.If you're having trouble accessing Google Search, pleaseclick here, or sendfeedback.\",)"
            ]
          },
          "execution_count": 2,
          "metadata": {},
          "output_type": "execute_result"
        }
      ],
      "source": [
        "import urllib.request\n",
        "from bs4 import BeautifulSoup\n",
        "\n",
        "url = 'https://google.com/search?q=BHP'\n",
        "\n",
        "# Perform the request\n",
        "request = urllib.request.Request(url)\n",
        "\n",
        "# Set a normal User Agent header, otherwise Google will block the request.\n",
        "request.add_header('User-Agent', 'Mozilla/5.0 (Macintosh; Intel Mac OS X 10_15_6) AppleWebKit/537.36 (KHTML, like Gecko) Chrome/87.0.4280.88 Safari/537.36')\n",
        "raw_response = urllib.request.urlopen(request, context=context).read()\n",
        "\n",
        "# Read the repsonse as a utf-8 string\n",
        "html = raw_response.decode(\"utf-8\")\n",
        "html\n",
        "\n",
        "soup = BeautifulSoup(html, \"html.parser\")\n",
        "soup.text, #soup.prettify(), soup.p['class'], soup.b.prettify()"
      ]
    },
    {
      "cell_type": "code",
      "execution_count": null,
      "metadata": {
        "id": "kcFsRjOjI_CZ"
      },
      "outputs": [],
      "source": [
        "from googlesearch import search\n",
        "\n",
        "proxy = 'http://API:@proxy.host.com:8080/'\n",
        "\n",
        "j = search(\"proxy test\", num_results=100, lang=\"en\", proxy=proxy, ssl_verify=False)\n",
        "for i in j:\n",
        "    print(i)"
      ]
    },
    {
      "cell_type": "code",
      "execution_count": null,
      "metadata": {
        "id": "g7WL7TsRI_Ca"
      },
      "outputs": [],
      "source": [
        "import urllib3\n",
        "\n",
        "urllib3.disable_warnings(urllib3.exceptions.InsecureRequestWarning)"
      ]
    },
    {
      "cell_type": "code",
      "execution_count": null,
      "metadata": {
        "colab": {
          "base_uri": "https://localhost:8080/",
          "height": 300
        },
        "id": "h3-IiwK--RKj",
        "outputId": "8a393ea7-6971-40e0-da69-e7e1e7ddd1f7"
      },
      "outputs": [
        {
          "data": {
            "text/plain": [
              "([SearchResult(url=https://www.bhp.com/, title=BHP: Our products help build a better, clearer future, description= What we produce. Copper for renewable energy. Iron ore and metallurgical coal for steel for new infrastructure. And potash to support more sustainable farming. ),\n",
              "  SearchResult(url=https://twitter.com/bhp?ref_src=twsrc%5Egoogle%7Ctwcamp%5Eserp%7Ctwgr%5Eauthor, title=, description=),\n",
              "  SearchResult(url=https://finance.yahoo.com/quote/BHP/, title=BHP Group Limited (BHP) Stock Price, News, Quote & History, description= BHP Group Limited operates as a resources company in Australia, Europe, China, Japan, India, South Korea, the rest of Asia, North America, South America, ... ),\n",
              "  SearchResult(url=http://www.bhp.com/, title=, description= BHP Group Limited, also known as Broken Hill Proprietary Company and formerly as BHP Billiton is an Australian multinational mining and metals public company that was founded in August 1885 and is headquartered in Melbourne.   Wikipedia ),\n",
              "  SearchResult(url=/search?num=12, title=  BHP (Iron ore company)  , description= BHP (Iron ore company) ),\n",
              "  SearchResult(url=https://www.google.com/search?num=12, title=, description=),\n",
              "  SearchResult(url=https://en.wikipedia.org/wiki/BHP, title=BHP - Wikipedia, description= BHP Billiton is an Australian multinational mining and metals public company that was founded in August 1885 and is headquartered in Melbourne. ),\n",
              "  SearchResult(url=https://au.linkedin.com/company/bhp, title=BHP - LinkedIn, description= We are supplying the resources the world needs to help build a better, clearer future. Copper for renewable energy. Potash for sustainable farming. ),\n",
              "  SearchResult(url=https://www.youtube.com/BHP, title=BHP - YouTube, description= Our purpose is to bring people and resources together to build a better world. ...more ...more bhp.comand 4 more links. Subscribe. ),\n",
              "  SearchResult(url=https://www.asx.com.au/markets/company/BHP, title=BHP share price and company information for ASX:BHP, description= View today's BHP share price, options, bonds, hybrids and warrants. View announcements, advanced pricing charts, trading status, fundamentals, ... )],\n",
              " 'https://www.bhp.com/',\n",
              " 'BHP: Our products help build a better, clearer future',\n",
              " ' What we produce. Copper for renewable energy. Iron ore and metallurgical coal for steel for new infrastructure. And potash to support more sustainable farming. ')"
            ]
          },
          "execution_count": 11,
          "metadata": {},
          "output_type": "execute_result"
        }
      ],
      "source": [
        "from googlesearch import search\n",
        "from bs4 import BeautifulSoup\n",
        "import requests\n",
        "\n",
        "import pandas as pd\n",
        "\n",
        "query = 'BHP'\n",
        "urls = []\n",
        "for url in search(query, num_results=10, advanced=True):\n",
        "  urls.append(url)\n",
        "\n",
        "urls, urls[0].url, urls[0].title, urls[0].description"
      ]
    },
    {
      "cell_type": "code",
      "execution_count": null,
      "metadata": {
        "id": "emk1YLtVI_Ca",
        "outputId": "2faafb93-ce44-4276-9526-954c095edcf9"
      },
      "outputs": [
        {
          "name": "stdout",
          "output_type": "stream",
          "text": [
            "READ TIMED OUT - SearchResult(url=https://www.bhp.com/, title=BHP: Our products help build a better, clearer future, description= What we produce. Copper for renewable energy. Iron ore and metallurgical coal for steel for new infrastructure. And potash to support more sustainable farming. )\n"
          ]
        },
        {
          "data": {
            "text/html": [
              "<div>\n",
              "<style scoped>\n",
              "    .dataframe tbody tr th:only-of-type {\n",
              "        vertical-align: middle;\n",
              "    }\n",
              "\n",
              "    .dataframe tbody tr th {\n",
              "        vertical-align: top;\n",
              "    }\n",
              "\n",
              "    .dataframe thead th {\n",
              "        text-align: right;\n",
              "    }\n",
              "</style>\n",
              "<table border=\"1\" class=\"dataframe\">\n",
              "  <thead>\n",
              "    <tr style=\"text-align: right;\">\n",
              "      <th></th>\n",
              "      <th>title</th>\n",
              "      <th>url</th>\n",
              "    </tr>\n",
              "  </thead>\n",
              "  <tbody>\n",
              "    <tr>\n",
              "      <th>0</th>\n",
              "      <td></td>\n",
              "      <td>SearchResult(url=https://twitter.com/bhp?ref_s...</td>\n",
              "    </tr>\n",
              "    <tr>\n",
              "      <th>1</th>\n",
              "      <td></td>\n",
              "      <td>SearchResult(url=https://finance.yahoo.com/quo...</td>\n",
              "    </tr>\n",
              "    <tr>\n",
              "      <th>2</th>\n",
              "      <td>Google</td>\n",
              "      <td>SearchResult(url=https://www.google.com/search...</td>\n",
              "    </tr>\n",
              "    <tr>\n",
              "      <th>3</th>\n",
              "      <td>BHP - Wikipedia</td>\n",
              "      <td>SearchResult(url=https://en.wikipedia.org/wiki...</td>\n",
              "    </tr>\n",
              "    <tr>\n",
              "      <th>4</th>\n",
              "      <td></td>\n",
              "      <td>SearchResult(url=https://au.linkedin.com/compa...</td>\n",
              "    </tr>\n",
              "    <tr>\n",
              "      <th>5</th>\n",
              "      <td>BHP - YouTube</td>\n",
              "      <td>SearchResult(url=https://www.youtube.com/BHP, ...</td>\n",
              "    </tr>\n",
              "    <tr>\n",
              "      <th>6</th>\n",
              "      <td></td>\n",
              "      <td>SearchResult(url=https://www.asx.com.au/market...</td>\n",
              "    </tr>\n",
              "  </tbody>\n",
              "</table>\n",
              "</div>"
            ],
            "text/plain": [
              "             title                                                url\n",
              "0                   SearchResult(url=https://twitter.com/bhp?ref_s...\n",
              "1                   SearchResult(url=https://finance.yahoo.com/quo...\n",
              "2           Google  SearchResult(url=https://www.google.com/search...\n",
              "3  BHP - Wikipedia  SearchResult(url=https://en.wikipedia.org/wiki...\n",
              "4                   SearchResult(url=https://au.linkedin.com/compa...\n",
              "5    BHP - YouTube  SearchResult(url=https://www.youtube.com/BHP, ...\n",
              "6                   SearchResult(url=https://www.asx.com.au/market..."
            ]
          },
          "execution_count": 12,
          "metadata": {},
          "output_type": "execute_result"
        }
      ],
      "source": [
        "'''불필요'''\n",
        "\n",
        "crawl_rst = dict()\n",
        "crawl_list = list()\n",
        "for url in urls[:]:\n",
        "  #print(url.url)\n",
        "  if (url.url).startswith('https://'):\n",
        "    try:\n",
        "      with requests.get(url.url, verify=False, timeout=3, stream=True) as url_result:\n",
        "        html = url_result.text\n",
        "        soup = BeautifulSoup(html, \"html.parser\")\n",
        "        text = soup.get_text()\n",
        "        #print(soup.title)\n",
        "        tt = ''\n",
        "        if soup.title is not None:\n",
        "          tt = soup.title.string\n",
        "          #print(soup.title.find_all(string=True))\n",
        "        #soup.b.prettify()\n",
        "        crawl_rst['title']=tt\n",
        "        crawl_rst['url']=url\n",
        "        crawl_list.append(crawl_rst.copy())\n",
        "        #print(crawl_list)\n",
        "    except requests.exceptions.ReadTimeout:\n",
        "      print (\"READ TIMED OUT -\", url)\n",
        "\n",
        "df=pd.DataFrame(crawl_list)\n",
        "df"
      ]
    },
    {
      "cell_type": "markdown",
      "metadata": {
        "id": "mFjZbLBNGyiW"
      },
      "source": [
        "##### Google News"
      ]
    },
    {
      "cell_type": "code",
      "execution_count": 88,
      "metadata": {
        "colab": {
          "base_uri": "https://localhost:8080/"
        },
        "id": "Uaa_bQlzBZ3S",
        "outputId": "14f62ea3-9857-48e2-814a-a18ce9fd5e71"
      },
      "outputs": [
        {
          "output_type": "stream",
          "name": "stdout",
          "text": [
            "\u001b[?25l   \u001b[90m━━━━━━━━━━━━━━━━━━━━━━━━━━━━━━━━━━━━━━━━\u001b[0m \u001b[32m0.0/295.7 kB\u001b[0m \u001b[31m?\u001b[0m eta \u001b[36m-:--:--\u001b[0m\r\u001b[2K   \u001b[90m━━━━━━━━━━━━━━━━━━━━━━━━━━━━━━━━━━━━━━━━\u001b[0m \u001b[32m295.7/295.7 kB\u001b[0m \u001b[31m14.8 MB/s\u001b[0m eta \u001b[36m0:00:00\u001b[0m\n",
            "\u001b[?25h"
          ]
        }
      ],
      "source": [
        "!pip install GoogleNews --upgrade --quiet"
      ]
    },
    {
      "cell_type": "code",
      "execution_count": 89,
      "metadata": {
        "colab": {
          "base_uri": "https://localhost:8080/"
        },
        "id": "FwDR0XhDBgLt",
        "outputId": "70a855b7-56a2-46e8-e162-7fae993f62ad"
      },
      "outputs": [
        {
          "output_type": "stream",
          "name": "stdout",
          "text": [
            "  Preparing metadata (setup.py) ... \u001b[?25l\u001b[?25hdone\n",
            "\u001b[2K     \u001b[90m━━━━━━━━━━━━━━━━━━━━━━━━━━━━━━━━━━━━━━━━\u001b[0m \u001b[32m7.4/7.4 MB\u001b[0m \u001b[31m36.2 MB/s\u001b[0m eta \u001b[36m0:00:00\u001b[0m\n",
            "\u001b[?25h  Preparing metadata (setup.py) ... \u001b[?25l\u001b[?25hdone\n",
            "  Preparing metadata (setup.py) ... \u001b[?25l\u001b[?25hdone\n",
            "  Preparing metadata (setup.py) ... \u001b[?25l\u001b[?25hdone\n",
            "\u001b[2K   \u001b[90m━━━━━━━━━━━━━━━━━━━━━━━━━━━━━━━━━━━━━━━━\u001b[0m \u001b[32m211.1/211.1 kB\u001b[0m \u001b[31m5.5 MB/s\u001b[0m eta \u001b[36m0:00:00\u001b[0m\n",
            "\u001b[2K   \u001b[90m━━━━━━━━━━━━━━━━━━━━━━━━━━━━━━━━━━━━━━━━\u001b[0m \u001b[32m81.3/81.3 kB\u001b[0m \u001b[31m4.6 MB/s\u001b[0m eta \u001b[36m0:00:00\u001b[0m\n",
            "\u001b[2K   \u001b[90m━━━━━━━━━━━━━━━━━━━━━━━━━━━━━━━━━━━━━━━━\u001b[0m \u001b[32m104.9/104.9 kB\u001b[0m \u001b[31m3.4 MB/s\u001b[0m eta \u001b[36m0:00:00\u001b[0m\n",
            "\u001b[?25h  Building wheel for tinysegmenter (setup.py) ... \u001b[?25l\u001b[?25hdone\n",
            "  Building wheel for feedfinder2 (setup.py) ... \u001b[?25l\u001b[?25hdone\n",
            "  Building wheel for jieba3k (setup.py) ... \u001b[?25l\u001b[?25hdone\n",
            "  Building wheel for sgmllib3k (setup.py) ... \u001b[?25l\u001b[?25hdone\n"
          ]
        }
      ],
      "source": [
        "!pip install newspaper3k --upgrade --quiet"
      ]
    },
    {
      "cell_type": "code",
      "execution_count": 91,
      "metadata": {
        "id": "eH0gDW1jB2Tl"
      },
      "outputs": [],
      "source": [
        "!pip install lxml lxml_html_clean  --upgrade --quiet"
      ]
    },
    {
      "cell_type": "code",
      "execution_count": 189,
      "metadata": {
        "id": "lwJl0gHlBXrs",
        "outputId": "a83d2a6d-0234-4610-a753-0f8a43eb51e2",
        "colab": {
          "base_uri": "https://localhost:8080/",
          "height": 276
        }
      },
      "outputs": [
        {
          "output_type": "execute_result",
          "data": {
            "text/plain": [
              "                                               title  desc    date  datetime  \\\n",
              "0  \"2050년까지 구리 수요 70% 증가\"…'광산 1위' BHP, 철광석 대신 '구리...  None  1월 22일       NaN   \n",
              "1    BHP CEO, 오늘 금속·광업 컨퍼런스에서 발표 예정 By Investing.com  None  2월 24일       NaN   \n",
              "2                 \"리오틴토-글렌코어, 합병 논의\"…글로벌 광산시장 판도 바뀔까  None  1월 17일       NaN   \n",
              "3                                 Brazil Britain BHP  None    7일 전       NaN   \n",
              "4                     사이클론 '젤리아' 강타…호주 철광석 허브 '또 비상'  None  2월 17일       NaN   \n",
              "\n",
              "                                                link  \\\n",
              "0  https://news.google.com/read/CBMiWkFVX3lxTE1WR...   \n",
              "1  https://news.google.com/read/CBMicEFVX3lxTE5SZ...   \n",
              "2  https://news.google.com/read/CBMiZkFVX3lxTE9Kd...   \n",
              "3  https://news.google.com/read/CBMiU0FVX3lxTE9pV...   \n",
              "4  https://news.google.com/read/CBMiXEFVX3lxTE1RZ...   \n",
              "\n",
              "                                                 img          media  site  \\\n",
              "0  https://news.google.com/api/attachments/CC8iK0...           한국경제  None   \n",
              "1                                               None  Investing.com  None   \n",
              "2  https://news.google.com/api/attachments/CC8iK0...          머니투데이  None   \n",
              "3  https://news.google.com/api/attachments/CC8iK0...         네이트 뉴스  None   \n",
              "4  https://news.google.com/api/attachments/CC8iL0...            더구루  None   \n",
              "\n",
              "  reporter  \n",
              "0     None  \n",
              "1     None  \n",
              "2     None  \n",
              "3     None  \n",
              "4     None  "
            ],
            "text/html": [
              "\n",
              "  <div id=\"df-8ad43434-fa4e-4384-9619-3fd481aff0eb\" class=\"colab-df-container\">\n",
              "    <div>\n",
              "<style scoped>\n",
              "    .dataframe tbody tr th:only-of-type {\n",
              "        vertical-align: middle;\n",
              "    }\n",
              "\n",
              "    .dataframe tbody tr th {\n",
              "        vertical-align: top;\n",
              "    }\n",
              "\n",
              "    .dataframe thead th {\n",
              "        text-align: right;\n",
              "    }\n",
              "</style>\n",
              "<table border=\"1\" class=\"dataframe\">\n",
              "  <thead>\n",
              "    <tr style=\"text-align: right;\">\n",
              "      <th></th>\n",
              "      <th>title</th>\n",
              "      <th>desc</th>\n",
              "      <th>date</th>\n",
              "      <th>datetime</th>\n",
              "      <th>link</th>\n",
              "      <th>img</th>\n",
              "      <th>media</th>\n",
              "      <th>site</th>\n",
              "      <th>reporter</th>\n",
              "    </tr>\n",
              "  </thead>\n",
              "  <tbody>\n",
              "    <tr>\n",
              "      <th>0</th>\n",
              "      <td>\"2050년까지 구리 수요 70% 증가\"…'광산 1위' BHP, 철광석 대신 '구리...</td>\n",
              "      <td>None</td>\n",
              "      <td>1월 22일</td>\n",
              "      <td>NaN</td>\n",
              "      <td>https://news.google.com/read/CBMiWkFVX3lxTE1WR...</td>\n",
              "      <td>https://news.google.com/api/attachments/CC8iK0...</td>\n",
              "      <td>한국경제</td>\n",
              "      <td>None</td>\n",
              "      <td>None</td>\n",
              "    </tr>\n",
              "    <tr>\n",
              "      <th>1</th>\n",
              "      <td>BHP CEO, 오늘 금속·광업 컨퍼런스에서 발표 예정 By Investing.com</td>\n",
              "      <td>None</td>\n",
              "      <td>2월 24일</td>\n",
              "      <td>NaN</td>\n",
              "      <td>https://news.google.com/read/CBMicEFVX3lxTE5SZ...</td>\n",
              "      <td>None</td>\n",
              "      <td>Investing.com</td>\n",
              "      <td>None</td>\n",
              "      <td>None</td>\n",
              "    </tr>\n",
              "    <tr>\n",
              "      <th>2</th>\n",
              "      <td>\"리오틴토-글렌코어, 합병 논의\"…글로벌 광산시장 판도 바뀔까</td>\n",
              "      <td>None</td>\n",
              "      <td>1월 17일</td>\n",
              "      <td>NaN</td>\n",
              "      <td>https://news.google.com/read/CBMiZkFVX3lxTE9Kd...</td>\n",
              "      <td>https://news.google.com/api/attachments/CC8iK0...</td>\n",
              "      <td>머니투데이</td>\n",
              "      <td>None</td>\n",
              "      <td>None</td>\n",
              "    </tr>\n",
              "    <tr>\n",
              "      <th>3</th>\n",
              "      <td>Brazil Britain BHP</td>\n",
              "      <td>None</td>\n",
              "      <td>7일 전</td>\n",
              "      <td>NaN</td>\n",
              "      <td>https://news.google.com/read/CBMiU0FVX3lxTE9pV...</td>\n",
              "      <td>https://news.google.com/api/attachments/CC8iK0...</td>\n",
              "      <td>네이트 뉴스</td>\n",
              "      <td>None</td>\n",
              "      <td>None</td>\n",
              "    </tr>\n",
              "    <tr>\n",
              "      <th>4</th>\n",
              "      <td>사이클론 '젤리아' 강타…호주 철광석 허브 '또 비상'</td>\n",
              "      <td>None</td>\n",
              "      <td>2월 17일</td>\n",
              "      <td>NaN</td>\n",
              "      <td>https://news.google.com/read/CBMiXEFVX3lxTE1RZ...</td>\n",
              "      <td>https://news.google.com/api/attachments/CC8iL0...</td>\n",
              "      <td>더구루</td>\n",
              "      <td>None</td>\n",
              "      <td>None</td>\n",
              "    </tr>\n",
              "  </tbody>\n",
              "</table>\n",
              "</div>\n",
              "    <div class=\"colab-df-buttons\">\n",
              "\n",
              "  <div class=\"colab-df-container\">\n",
              "    <button class=\"colab-df-convert\" onclick=\"convertToInteractive('df-8ad43434-fa4e-4384-9619-3fd481aff0eb')\"\n",
              "            title=\"Convert this dataframe to an interactive table.\"\n",
              "            style=\"display:none;\">\n",
              "\n",
              "  <svg xmlns=\"http://www.w3.org/2000/svg\" height=\"24px\" viewBox=\"0 -960 960 960\">\n",
              "    <path d=\"M120-120v-720h720v720H120Zm60-500h600v-160H180v160Zm220 220h160v-160H400v160Zm0 220h160v-160H400v160ZM180-400h160v-160H180v160Zm440 0h160v-160H620v160ZM180-180h160v-160H180v160Zm440 0h160v-160H620v160Z\"/>\n",
              "  </svg>\n",
              "    </button>\n",
              "\n",
              "  <style>\n",
              "    .colab-df-container {\n",
              "      display:flex;\n",
              "      gap: 12px;\n",
              "    }\n",
              "\n",
              "    .colab-df-convert {\n",
              "      background-color: #E8F0FE;\n",
              "      border: none;\n",
              "      border-radius: 50%;\n",
              "      cursor: pointer;\n",
              "      display: none;\n",
              "      fill: #1967D2;\n",
              "      height: 32px;\n",
              "      padding: 0 0 0 0;\n",
              "      width: 32px;\n",
              "    }\n",
              "\n",
              "    .colab-df-convert:hover {\n",
              "      background-color: #E2EBFA;\n",
              "      box-shadow: 0px 1px 2px rgba(60, 64, 67, 0.3), 0px 1px 3px 1px rgba(60, 64, 67, 0.15);\n",
              "      fill: #174EA6;\n",
              "    }\n",
              "\n",
              "    .colab-df-buttons div {\n",
              "      margin-bottom: 4px;\n",
              "    }\n",
              "\n",
              "    [theme=dark] .colab-df-convert {\n",
              "      background-color: #3B4455;\n",
              "      fill: #D2E3FC;\n",
              "    }\n",
              "\n",
              "    [theme=dark] .colab-df-convert:hover {\n",
              "      background-color: #434B5C;\n",
              "      box-shadow: 0px 1px 3px 1px rgba(0, 0, 0, 0.15);\n",
              "      filter: drop-shadow(0px 1px 2px rgba(0, 0, 0, 0.3));\n",
              "      fill: #FFFFFF;\n",
              "    }\n",
              "  </style>\n",
              "\n",
              "    <script>\n",
              "      const buttonEl =\n",
              "        document.querySelector('#df-8ad43434-fa4e-4384-9619-3fd481aff0eb button.colab-df-convert');\n",
              "      buttonEl.style.display =\n",
              "        google.colab.kernel.accessAllowed ? 'block' : 'none';\n",
              "\n",
              "      async function convertToInteractive(key) {\n",
              "        const element = document.querySelector('#df-8ad43434-fa4e-4384-9619-3fd481aff0eb');\n",
              "        const dataTable =\n",
              "          await google.colab.kernel.invokeFunction('convertToInteractive',\n",
              "                                                    [key], {});\n",
              "        if (!dataTable) return;\n",
              "\n",
              "        const docLinkHtml = 'Like what you see? Visit the ' +\n",
              "          '<a target=\"_blank\" href=https://colab.research.google.com/notebooks/data_table.ipynb>data table notebook</a>'\n",
              "          + ' to learn more about interactive tables.';\n",
              "        element.innerHTML = '';\n",
              "        dataTable['output_type'] = 'display_data';\n",
              "        await google.colab.output.renderOutput(dataTable, element);\n",
              "        const docLink = document.createElement('div');\n",
              "        docLink.innerHTML = docLinkHtml;\n",
              "        element.appendChild(docLink);\n",
              "      }\n",
              "    </script>\n",
              "  </div>\n",
              "\n",
              "\n",
              "<div id=\"df-102b512b-a55c-4059-82e0-1d852a4f4206\">\n",
              "  <button class=\"colab-df-quickchart\" onclick=\"quickchart('df-102b512b-a55c-4059-82e0-1d852a4f4206')\"\n",
              "            title=\"Suggest charts\"\n",
              "            style=\"display:none;\">\n",
              "\n",
              "<svg xmlns=\"http://www.w3.org/2000/svg\" height=\"24px\"viewBox=\"0 0 24 24\"\n",
              "     width=\"24px\">\n",
              "    <g>\n",
              "        <path d=\"M19 3H5c-1.1 0-2 .9-2 2v14c0 1.1.9 2 2 2h14c1.1 0 2-.9 2-2V5c0-1.1-.9-2-2-2zM9 17H7v-7h2v7zm4 0h-2V7h2v10zm4 0h-2v-4h2v4z\"/>\n",
              "    </g>\n",
              "</svg>\n",
              "  </button>\n",
              "\n",
              "<style>\n",
              "  .colab-df-quickchart {\n",
              "      --bg-color: #E8F0FE;\n",
              "      --fill-color: #1967D2;\n",
              "      --hover-bg-color: #E2EBFA;\n",
              "      --hover-fill-color: #174EA6;\n",
              "      --disabled-fill-color: #AAA;\n",
              "      --disabled-bg-color: #DDD;\n",
              "  }\n",
              "\n",
              "  [theme=dark] .colab-df-quickchart {\n",
              "      --bg-color: #3B4455;\n",
              "      --fill-color: #D2E3FC;\n",
              "      --hover-bg-color: #434B5C;\n",
              "      --hover-fill-color: #FFFFFF;\n",
              "      --disabled-bg-color: #3B4455;\n",
              "      --disabled-fill-color: #666;\n",
              "  }\n",
              "\n",
              "  .colab-df-quickchart {\n",
              "    background-color: var(--bg-color);\n",
              "    border: none;\n",
              "    border-radius: 50%;\n",
              "    cursor: pointer;\n",
              "    display: none;\n",
              "    fill: var(--fill-color);\n",
              "    height: 32px;\n",
              "    padding: 0;\n",
              "    width: 32px;\n",
              "  }\n",
              "\n",
              "  .colab-df-quickchart:hover {\n",
              "    background-color: var(--hover-bg-color);\n",
              "    box-shadow: 0 1px 2px rgba(60, 64, 67, 0.3), 0 1px 3px 1px rgba(60, 64, 67, 0.15);\n",
              "    fill: var(--button-hover-fill-color);\n",
              "  }\n",
              "\n",
              "  .colab-df-quickchart-complete:disabled,\n",
              "  .colab-df-quickchart-complete:disabled:hover {\n",
              "    background-color: var(--disabled-bg-color);\n",
              "    fill: var(--disabled-fill-color);\n",
              "    box-shadow: none;\n",
              "  }\n",
              "\n",
              "  .colab-df-spinner {\n",
              "    border: 2px solid var(--fill-color);\n",
              "    border-color: transparent;\n",
              "    border-bottom-color: var(--fill-color);\n",
              "    animation:\n",
              "      spin 1s steps(1) infinite;\n",
              "  }\n",
              "\n",
              "  @keyframes spin {\n",
              "    0% {\n",
              "      border-color: transparent;\n",
              "      border-bottom-color: var(--fill-color);\n",
              "      border-left-color: var(--fill-color);\n",
              "    }\n",
              "    20% {\n",
              "      border-color: transparent;\n",
              "      border-left-color: var(--fill-color);\n",
              "      border-top-color: var(--fill-color);\n",
              "    }\n",
              "    30% {\n",
              "      border-color: transparent;\n",
              "      border-left-color: var(--fill-color);\n",
              "      border-top-color: var(--fill-color);\n",
              "      border-right-color: var(--fill-color);\n",
              "    }\n",
              "    40% {\n",
              "      border-color: transparent;\n",
              "      border-right-color: var(--fill-color);\n",
              "      border-top-color: var(--fill-color);\n",
              "    }\n",
              "    60% {\n",
              "      border-color: transparent;\n",
              "      border-right-color: var(--fill-color);\n",
              "    }\n",
              "    80% {\n",
              "      border-color: transparent;\n",
              "      border-right-color: var(--fill-color);\n",
              "      border-bottom-color: var(--fill-color);\n",
              "    }\n",
              "    90% {\n",
              "      border-color: transparent;\n",
              "      border-bottom-color: var(--fill-color);\n",
              "    }\n",
              "  }\n",
              "</style>\n",
              "\n",
              "  <script>\n",
              "    async function quickchart(key) {\n",
              "      const quickchartButtonEl =\n",
              "        document.querySelector('#' + key + ' button');\n",
              "      quickchartButtonEl.disabled = true;  // To prevent multiple clicks.\n",
              "      quickchartButtonEl.classList.add('colab-df-spinner');\n",
              "      try {\n",
              "        const charts = await google.colab.kernel.invokeFunction(\n",
              "            'suggestCharts', [key], {});\n",
              "      } catch (error) {\n",
              "        console.error('Error during call to suggestCharts:', error);\n",
              "      }\n",
              "      quickchartButtonEl.classList.remove('colab-df-spinner');\n",
              "      quickchartButtonEl.classList.add('colab-df-quickchart-complete');\n",
              "    }\n",
              "    (() => {\n",
              "      let quickchartButtonEl =\n",
              "        document.querySelector('#df-102b512b-a55c-4059-82e0-1d852a4f4206 button');\n",
              "      quickchartButtonEl.style.display =\n",
              "        google.colab.kernel.accessAllowed ? 'block' : 'none';\n",
              "    })();\n",
              "  </script>\n",
              "</div>\n",
              "\n",
              "    </div>\n",
              "  </div>\n"
            ],
            "application/vnd.google.colaboratory.intrinsic+json": {
              "type": "dataframe",
              "variable_name": "df",
              "repr_error": "Out of range float values are not JSON compliant: nan"
            }
          },
          "metadata": {},
          "execution_count": 189
        }
      ],
      "source": [
        "from GoogleNews import GoogleNews\n",
        "from newspaper import Article\n",
        "import pandas as pd\n",
        "\n",
        "search_term = \"BHP\"\n",
        "\n",
        "googlenews=GoogleNews()\n",
        "googlenews.set_time_range('01/01/2025','03/20/2025')\n",
        "googlenews.set_lang('ko')\n",
        "#googlenews.set_period('7d')\n",
        "googlenews.set_encode('utf-8')\n",
        "#googlenews.set_topic('CAAqKggKIiRDQkFTRlFvSUwyMHZNRFp1ZEdvU0JYQjBMVUpTR2dKQ1VpZ0FQAQ')\n",
        "#googlenews.set_section('CAQiS0NCQVNNZ29JTDIwdk1EWnVkR29TQlhCMExVSlNHZ0pDVWlJT0NBUWFDZ29JTDIwdk1ESjJlRFFxQ3dvSkVnZEdkWFJsWW05c0tBQSouCAAqKggKIiRDQkFTRlFvSUwyMHZNRFp1ZEdvU0JYQjBMVUpTR2dKQ1VpZ0FQAVAB')\n",
        "\n",
        "googlenews.get_news(search_term)\n",
        "\n",
        "result=googlenews.result()\n",
        "df=pd.DataFrame(result)\n",
        "\n",
        "'''\n",
        "for i in range(2,20):\n",
        "    googlenews.getpage(i)\n",
        "    result=googlenews.result()\n",
        "    df=pd.DataFrame(result)\n",
        "'''\n",
        "\n",
        "df.head()"
      ]
    },
    {
      "cell_type": "code",
      "source": [
        "googlenews.get_links()"
      ],
      "metadata": {
        "id": "j1j3xsavb6yQ",
        "outputId": "407fb382-5728-4aed-a1b0-af5e8e60fd34",
        "colab": {
          "base_uri": "https://localhost:8080/"
        }
      },
      "execution_count": 190,
      "outputs": [
        {
          "output_type": "execute_result",
          "data": {
            "text/plain": [
              "['https://news.google.com/read/CBMiWkFVX3lxTE1WREVKWGV1TVFqLU9JdjRxb1ZFb040UWNhYnFkWjZ4amlCMkxpM1BGb0FCUm9WampGb0k0TXRXaFFCVDJWcWJ3LXUzQXlQbzd6dUdzeHp1V2JIUdIBVEFVX3lxTE1WbnE5RVAyem4xT2pXQWFmSUtCYVNZZjhLckpQMDNTM1pWdTZuUDEzaUJkNnMzdDlFdlpTRXJtYUVVcDlKdk54aEt6WHJsUlJQaXJ5ZQ?hl=ko&gl=KR&ceid=KR%3Ako',\n",
              " 'https://news.google.com/read/CBMicEFVX3lxTE5SZXA0UzhPakMwUWdTS3JoX0I4Q1Nva2MxVm5RUWh2MFN1NTFOWVY3TFllRUpoazI0Ql95MXViRUc0QmR5SF9oUGRINUYtQ1MxU2tjaHFHdmItUXZNYnhCbXNOVlFQZlJ1NkN6VW1pc3U?hl=ko&gl=KR&ceid=KR%3Ako',\n",
              " 'https://news.google.com/read/CBMiZkFVX3lxTE9Kd01kR3JtMlFScFIwZWV4UXp6QnBUWHFobnZOS0xRb05MRGJVdTczN2xoTUdJNG9TV3ZZc1djQTZLYUJjZ2RuZjdpY2UwTlNXSHd2dXdNQk5xRUpCcG4wcGpVTEJrZ9IBbkFVX3lxTE9FcXVnTjdvN0JMajFjNm85Mm9JaEItV2owZUNDYlBCOENzLWY3cE5yNU5vWmNickQzczhSVWhBVWxxX3FXZVltdzdDWFo3M1hQQWN1RmFOUzluSWlYdFdXdWVYWG9MNnBnWDktUVVB?hl=ko&gl=KR&ceid=KR%3Ako',\n",
              " 'https://news.google.com/read/CBMiU0FVX3lxTE9pV3VaNnBQRG14YlVEdkwwVmhUMmR1R1ZWeEpvakFDblluUU81U0Fhd3AxYl9KUGE5eGVabUhXZnhuSWlJN0NfNHBhSXNDWW1MTm1z?hl=ko&gl=KR&ceid=KR%3Ako',\n",
              " 'https://news.google.com/read/CBMiXEFVX3lxTE1RZDlYbGpUdUY4NjlORUk0eUtibUtDUDZpZDdtb2ZRM29aVjQ3XzN5OS15YVlkdUZBbVRYUGxRUEhMTFg2VThYM0ZBTTd2MU5XMThpSWFyNU5RcDZZ?hl=ko&gl=KR&ceid=KR%3Ako',\n",
              " 'https://news.google.com/read/CBMibEFVX3lxTE9vWEpWR1JiWjFvUmRWcDRIRWs2N3I5YUNVR0lHM2lwZjFEcGdjQU4yaWl4bFZFUHJGWEVQNTRQV1Vidm5LRDBDRE41YmQ5ZWsteDRYc0ZwUFhiSWcwMkFaSkRkeGxQYVpuZGdwYQ?hl=ko&gl=KR&ceid=KR%3Ako',\n",
              " 'https://news.google.com/read/CBMickFVX3lxTFBYWHFEUVFJZ3VRV2N0Um4tV1pVc3VnTFQ4N1ViOTRxYXk2bnRVWkowUkE3cU5sam9nV04xZzNhTXZrOFFaRFJaVmpaeWdZcDdoUFMtYUd6aXJCTndMZUo1Y3dHNV83MndfU0ZZcTNmdUstQQ?hl=ko&gl=KR&ceid=KR%3Ako',\n",
              " 'https://news.google.com/read/CBMigAFBVV95cUxQUURGRnRqSTlMUUQ3VXk5WUQtWXNMYS02cWpiT2dHQWRpWlVqTXBNend4YlpBNnd3aVMtT0dSSGNhc2xoZUEzSGQ0MkEwVkxMOWpOdkxYazM5RWpMQkU5YVJkZDViUXMtenY4dF96cWxxRlBtb0U4MHB1MFNoYUJVeg?hl=ko&gl=KR&ceid=KR%3Ako',\n",
              " 'https://news.google.com/read/CBMiaEFVX3lxTE8xRm1WM2lndmdETVdxdGxNaVlIX0NTYkgyTkFkWTBEMkVFX1hYX0dUckJpQ19SMC1Fc3dieUQtNWFyenhzRWlja0JtMllSZU5ELWxIbC12ckxwQU13Ti1XSUJLRk9XWWFC0gFsQVVfeXFMTUQ4X2l1Rm5nZHQ0MVJ2d0tVM0RnZTltaWF6LUk2M1hXZVpTWFNiTkN0RkREdWEtWndrQTNjS01Md0tMcWVQaW53NngxdkYyLVZjRVdQQ0xqTGFyVm5aeXE4N1dVRjQxZHBDRHly?hl=ko&gl=KR&ceid=KR%3Ako',\n",
              " 'https://news.google.com/read/CBMiUkFVX3lxTE54cGhLdnJQcjlMelM2VFNKSjU4VS1fdDJvaXJfQjVqZGRUY2dnd2J0ZE9nTk5wTlAwWVNBVXc1TFVyX1g5QWR3VG1wZ3RkLUJCdXc?hl=ko&gl=KR&ceid=KR%3Ako',\n",
              " 'https://news.google.com/read/CBMimgFBVV95cUxNcFpnYnhxa3dlTEpXQzJiUVNxRWYtdFFXeW55VWdtZjFYZTZwWE9Mc2xtZWdCekEtLVFRT2FIZEltWHRrTFpadU5BNW05UmNrcDBZRHd3dmhXd2J5YlNodWJBYTM4Wi1CSU43anJSR2I2dFRrc3hEWTQyVVpCem1aNnY1RUlNdG1GVHloSUVhWjVXX3J3RV9JeVJn?hl=ko&gl=KR&ceid=KR%3Ako',\n",
              " 'https://news.google.com/read/CBMiWkFVX3lxTE90a3Q3bjNiejRUaktRSmQ0Z0J5TkhWb0prUC15SUJxMVpBMGNQREExcHVXT2pXY1QxZ1BxOWNWUkpsMkV4Y2o3U2xTUnpuVmhScV9DbU15UjlqZ9IBVEFVX3lxTE90eVRQaW1id2pGY3ZVLWl5QWZteVltbTJBS0d1bC1sNjNqREpfWFFIcG9tdXpEZnY5OVFDS2daRXNPZ3piOGI0a25xbktmaEllWnZSdQ?hl=ko&gl=KR&ceid=KR%3Ako',\n",
              " 'https://news.google.com/read/CBMiU0FVX3lxTE81dXRlLWhrRk15X3BvLXRrT2dEdkhEY2kybVptcFJfU1ctZmVhRThtakNFREtWVGNTXy11N002dEpnR3dSZ05tRnkwdTZqMzNER1JB?hl=ko&gl=KR&ceid=KR%3Ako',\n",
              " 'https://news.google.com/read/CBMiYkFVX3lxTE8wdkhiOFlwamtmSDg4NmoxdmJTc29LcFFmVExQTG9vZXpWUUZPcnZSSko5ZmozLUF4TUZ3ZUg0OVR3ODBHeV9pekRyaEVHYVVpSzA1MzhJeTRzM2xTdklDUVN3?hl=ko&gl=KR&ceid=KR%3Ako',\n",
              " 'https://news.google.com/read/CBMibEFVX3lxTE12X3J6MXN2d2paaVctTkljTm43b25zZWtzXzJLRlQxdHpNTWVrM3lObk1zV0M0UmFxV0U3Q1JMaGp6cDVPRmtPWDh2S1FxUWhxNzE3YkZmZ2pYT3pNNEJnaGlKaEpQT0NZZDd4Rw?hl=ko&gl=KR&ceid=KR%3Ako',\n",
              " 'https://news.google.com/read/CBMiWkFVX3lxTE95ekF3aTVJeWxBS2tJakxFUlZSRmxlUm9yemNST0xpcGtxRjR6LXNHOHV5X0xQY2FwOUt2ZUVWVG5ENFZBcE4tMnhnbjUyRzI1MnlLaTVIZGdXZ9IBVEFVX3lxTE5kSlF5cE1qSFlSVEIwTUJjdlpQUzVPWkxhMlBQbHJJRVNvM0pmVXFHcnh3YW00cmszSUhmcEpqQUNjR0hGcG55TFlCRE9NYUZ6TFNXdA?hl=ko&gl=KR&ceid=KR%3Ako',\n",
              " 'https://news.google.com/read/CBMiWkFVX3lxTE93UzM1OE5fZ2NsYVh0UmdmRGJKcXh1dmFiMmZwbHVkRXp2eXFGNjREdGdPT2Q0R1RzeExfLUcxTUp5dnVsMFpvY1V3anZoWTNhRmFYT2ZNMWRYd9IBVEFVX3lxTE9zamtoeFlPZEhDd1I4Um9LUnBUVndvVEpoYkg0bVd4OWZGU3VpV0F2QnBoRWdOZlNrQjVxeFhFaWhRQkxTNWNNVWlod2J3cWdOTmhnXw?hl=ko&gl=KR&ceid=KR%3Ako',\n",
              " 'https://news.google.com/read/CBMia0FVX3lxTFBsUVZ0NlR5YjBBa1pPcEZVc1ZmbF9EZHp6Vl95UHFVbUd4ZUhRczljc01GQmhpTkVNXzZFUEtTVkYybE0ySkhSQ2NlOFNNcl9WWUZpbFZtTGRpOWE2ZFRDRGVnaUUwX0FWdVBv0gFwQVVfeXFMT0htR0RlVUV6d3JxNG9NNDVjVGNYWEdiTzBadHpJaXRSbjd0VU9JY20yQjA2eEZhemMzWXAwQnF6MUZOd3RxdXBjdjJ1R0ZjX3NlSVZuQXFJWm1sUVBBZkZWR3BldFpKenBpeEc2QVh1Yg?hl=ko&gl=KR&ceid=KR%3Ako',\n",
              " 'https://news.google.com/read/CBMiYEFVX3lxTE9CUmtneU1HOHgxZWtNOUd2M1l0Q0dCMzZTUEJuMndJYnpjQk1RRWNwR3NiVnVVejNnSGwyaTNMdU45cDQyY3k0dDdCd2RBajh4SEJGZGM5cC13VXJPLU9DRw?hl=ko&gl=KR&ceid=KR%3Ako',\n",
              " 'https://news.google.com/read/CBMia0FVX3lxTFBXM2YzX0lRcDREZWVvNFYxdXdCTHVPSlR6cm0wMlhVNVRyTHd2ZTRFV2kzSmdZYTNobVZlUmxPQWlIeTVWRGUyQmRSN1FsN0FUaDQzUUVIR3NqOVM2X3AwaTdnODdBZzNFalp30gFwQVVfeXFMTUtqbHpLd1Nha2lmeU40MzQ5TXJDZm9QREloWFdDU3ZDb0pIeFlRVFdEQWlTMzlWVGswU3BHY3RQOUw1LV9Ba1dndF91WjZMaDM1d2Y1cUF0V2JRcGtROHBiRVJiS1ZMU2g4QWdYdzVsYw?hl=ko&gl=KR&ceid=KR%3Ako',\n",
              " 'https://news.google.com/read/CBMiaEFVX3lxTE91ejAwLV95UlU2b2pxWGJpWDJqeGdpa1p2aE02QkU2QkVWbEczSGRtZEViNWtTbkh3ZlVSMTA2TUJaZEZ4RUxNcjR3WDhydlR2SElOeDQ0cTNjTWQzeFNDbl8zNDhqZVNu0gFsQVVfeXFMUDd1OXBQcW1kMWZsYmxWbmZHclNVLWUyTVVZZ2tjNWVLYVNPeDBGUWZpcDJoUmNvcjU3NmNRLXd4YURlVXdacERmY3FtZ1l3MmFDdFp1OVpHejdQNnBlcWFMMGduX2pxblI0bGhP?hl=ko&gl=KR&ceid=KR%3Ako',\n",
              " 'https://news.google.com/read/CBMiYEFVX3lxTE5tN1E3SHZyOU51a2hMSjAyX1AwMG1kNjAzT1o4X1pENnFsQzhMcEk2M3QtUjBkd2g0WlpRaERHYUJoZ2NoVXNWN3NxcWFHT1pQWm1QM25lSlIyTGtjLThZdA?hl=ko&gl=KR&ceid=KR%3Ako',\n",
              " 'https://news.google.com/read/CBMilgRBVV95cUxOeFBlZ2hUcW84T1dqLWFYOXZ2LTd5MUpKN29aTWNvekVwLTlOWlR2V1RIWmUzTEVHcWJXS05lblowZnFJTGF3bFNvTS1GaWFzLXg2WVFObGFiMDkzeGV4R1FoSzlZcllYcjJLempaUFlvdDU1ODROTXlLU2d3ek5WU3NGWFE2RHFKUV8wOHA3emFBamZxd0N1TVhkMWJnbXB3LXRuMEUtc0FuSW9NN2tlMkx3NC13UERsZVJGdllGbF9RNy1mMk1JdWJ5T09lWHl6cF9ZYl85VnhYeW9Wdm92b05tNmVSNHhURnRpcFdHTDl3dmJ1QXlSc1hPRXJ3dElYaDlSWHpIV0VVb21jVHJ3d1NZRGptYjZVcWxBTDF6bEI3dmZiYXhvNzdZUER0UTJjV1VoejB3enpIWlZGYTU4VDFTS1pseGVjclE2d2ZTY0RJdmdNVTRNaUxUVnUtaWx4Vm00TkhyMTJKOWJDcTh6U2cySW11RGZrdEktNlNwaWpHcW1PemhJRjdCM1J5TnVXWWlXS01xU0E2S29qam9jb0NJT3RZYTlRaHR1OXZteWpWSjd1TnBjRk9qMjhBZ1o0V2ppdGdJMG9odXRjbTdIdjNjV1ZVTVAyME9UeExqeGxCLTd1ZTVzOXdoYXhWbFpCMmFiOV85MjlDWWh0bzNiTTBTd21WN0pIQkVlaHd2dmsxOVptbkE?hl=ko&gl=KR&ceid=KR%3Ako',\n",
              " 'https://news.google.com/read/CBMi-wJBVV95cUxOMFRmWmhiWURta1ZGYmVucENGRW8zbVF6N2RCX0N5dGNibVhCZWp0WDFucDBxa3pOeVVlSUd5SGJKZVFkYXpxaHQ3eXJzUGVGbE9Ud0s3cjN5NkpRZU1fcFRreHRQRV9Nc1dDaGo0Y2FiTzZJRjFJWnVKVWtULXM4WHlScTNKSnR2b0FTa1dJMFhYNUtPcngwTDdGRGZHRzdDVHhhc0RTTmRUTFA5V0tGR1lIWmZFb0pHVmFBTTZSNktrT3hVSC00X2t2ZnNGTEgzOGQxZ2dlWkwzY2dUZkZ1aGUzUnpiYXBtRmFWVmFnM1NCVHhGOEdWcHFWSVJXbEJwcGo5SWRHbXRzdFVwX1BSYVJvNlllMURDdHNFSl9qVmpjMmloX1FwczFBV1pzcVNuay1lQkZqN3JCYkZBTGlScE1iNTdxSGlPNklaUHpHLXR6TENyMTFzV2tNN3h6QWszci1sWnV4cTFMWGxKcEJTOHpWbWRsUzhtTnhN?hl=ko&gl=KR&ceid=KR%3Ako',\n",
              " 'https://news.google.com/read/CBMi9AJBVV95cUxPTzZnQ1JHYzhLdE9lQ0ZkekVfdnhOUFhrb3pWZGNudE9rcE40czZFakJpSm91OWtzTUc4d1BwVXBLYlJ5N0ZMSWhKWmRSY0ZISGxWS2ppbnVDbEdhd2h4RHZCUHp3ZWhxZE5hNmdPNEFOMWh0REhiVXI5eW5JVnZ1ektRRW5JbGlZTXo0UFFyVDAzMDJ5UXJJNUpoQVRiUWw4a3lweXhpRmh0VzNaUjRrSjNlYTZmYUxHR2ttWFlnM2lDQTZOZE4zOENaeXN3Vy1STmZRZmFFNjlFaFZPU0ZDQ2ExRW9pSTdzZmJUOWp0aHA0c29DYzZ5MGVGVjBrUXIyZGkzZ0N5TWJXQXdUc2ZBamx0VWdfaGMzY2tOR1BINlhNTTFNMG8wM0U2Q3dHdHZVWHFYay1CNWlpYThOOUdnNjh6ZkxDUkZxRTJLcU1OMnBlR2ZNLU5Jdk9fOFA2c1hqX2ZuM2ZFcXlncmZKMGluTE5lSHE?hl=ko&gl=KR&ceid=KR%3Ako',\n",
              " 'https://news.google.com/read/CBMi6AJBVV95cUxORi14TXNkMlNLelhKMm5WMi1YVXFiR2hfNFE1enJVeVB0ZmVlRGdaaVFXcnN0LVVIdkF4QkNadW1ycUtBbXZlb1FFVkhaUkg5TktSZ3c0RlVzQ3BBMmRuTmpldEUyQ0pYRHVYYml0M0Fpd2Q2N0NJdFNLQk45am5USDNkclBudnQ5MzhfTDJTd05Mck9Pc1BCMDdfVW0xbm5MbDZXOUx5YXBoU1cxSFd6RzBlaEZFRG9LeU91VHdpNG83OUdlTmRVV0hkcXh0bWdvVm5iSG02aHRQVEN3a2F3MnRiajdjNlA0Q3ZlQWZVRnE5MzZEVjhYS3paT3FqbHg4OEdOREZzTUdzZDNvZHVSel9KZTFrYWhjQndnalo0QVpxdUJVS1p1LUp4SmZzeEctVmJkMWlQTE5fWElNRzhWWXJjV3BZeWlpMkhnQklVTXVJQjc2MUN4QlZkeWFzbXBSOC1JWmZ4cWk?hl=ko&gl=KR&ceid=KR%3Ako']"
            ]
          },
          "metadata": {},
          "execution_count": 190
        }
      ]
    },
    {
      "cell_type": "code",
      "source": [
        "pip install googlenewsdecoder --upgrade --quiet"
      ],
      "metadata": {
        "id": "OoJLDFYmdF5S",
        "outputId": "59ebc78b-9cc8-4ac0-a5f9-28d4a352fa41",
        "colab": {
          "base_uri": "https://localhost:8080/"
        }
      },
      "execution_count": 196,
      "outputs": [
        {
          "output_type": "stream",
          "name": "stdout",
          "text": [
            "\u001b[?25l   \u001b[90m━━━━━━━━━━━━━━━━━━━━━━━━━━━━━━━━━━━━━━━━\u001b[0m \u001b[32m0.0/5.7 MB\u001b[0m \u001b[31m?\u001b[0m eta \u001b[36m-:--:--\u001b[0m\r\u001b[2K   \u001b[91m━━━━━━━━━━━━━━━━━━━━━━━━━━━━━━\u001b[0m\u001b[90m╺\u001b[0m\u001b[90m━━━━━━━━━\u001b[0m \u001b[32m4.3/5.7 MB\u001b[0m \u001b[31m128.6 MB/s\u001b[0m eta \u001b[36m0:00:01\u001b[0m\r\u001b[2K   \u001b[91m━━━━━━━━━━━━━━━━━━━━━━━━━━━━━━━━━━━━━━━\u001b[0m\u001b[91m╸\u001b[0m \u001b[32m5.7/5.7 MB\u001b[0m \u001b[31m131.5 MB/s\u001b[0m eta \u001b[36m0:00:01\u001b[0m\r\u001b[2K   \u001b[90m━━━━━━━━━━━━━━━━━━━━━━━━━━━━━━━━━━━━━━━━\u001b[0m \u001b[32m5.7/5.7 MB\u001b[0m \u001b[31m77.1 MB/s\u001b[0m eta \u001b[36m0:00:00\u001b[0m\n",
            "\u001b[?25h"
          ]
        }
      ]
    },
    {
      "cell_type": "code",
      "source": [
        "from googlenewsdecoder import gnewsdecoder\n",
        "\n",
        "interval_time = 1  # interval is optional, default is None\n",
        "\n",
        "source_url = googlenews.get_links()[0]\n",
        "\n",
        "try:\n",
        "    decoded_url = gnewsdecoder(source_url, interval=interval_time)\n",
        "\n",
        "    if decoded_url.get(\"status\"):\n",
        "        print(\"Decoded URL:\", decoded_url[\"decoded_url\"])\n",
        "    else:\n",
        "        print(\"Error:\", decoded_url[\"message\"])\n",
        "except Exception as e:\n",
        "    print(f\"Error occurred: {e}\")"
      ],
      "metadata": {
        "id": "E4VHvd2bdJ6L",
        "outputId": "8d97fd7c-8773-4a6e-caa0-b27207cbe860",
        "colab": {
          "base_uri": "https://localhost:8080/"
        }
      },
      "execution_count": 197,
      "outputs": [
        {
          "output_type": "stream",
          "name": "stdout",
          "text": [
            "Decoded URL: https://www.hankyung.com/article/202501221606i\n"
          ]
        }
      ]
    },
    {
      "cell_type": "code",
      "source": [
        "from GoogleNews import GoogleNews\n",
        "from newspaper import Article\n",
        "import pandas as pd\n",
        "\n",
        "search_term = \"BHP\"\n",
        "\n",
        "googlenews=GoogleNews(lang='kr', encode='utf-8', start='01/01/2005', end='01/31/2005')\n",
        "googlenews.search(search_term)\n",
        "\n",
        "\n",
        "result=googlenews.result()\n",
        "df=pd.DataFrame(result)\n",
        "\n",
        "'''\n",
        "for i in range(2,20):\n",
        "    googlenews.getpage(i)\n",
        "    result=googlenews.result()\n",
        "    df=pd.DataFrame(result)\n",
        "'''\n",
        "\n",
        "df.head()"
      ],
      "metadata": {
        "id": "g7h7QaLZZoDT",
        "outputId": "2fc3f980-3b90-4853-9615-854188b1adfd",
        "colab": {
          "base_uri": "https://localhost:8080/",
          "height": 293
        }
      },
      "execution_count": 183,
      "outputs": [
        {
          "output_type": "execute_result",
          "data": {
            "text/plain": [
              "                                               title  \\\n",
              "0               세계최대광산기업 BHP, 경쟁사 인수추진…세계구리 10% 생산가능   \n",
              "1        '땅 파서 1년에 73조 벌었다'…광산업 제왕 호주 BHP [글로벌 종목탐구]   \n",
              "2  Renault 5 Turbo 3E: 540 BHP Electric Hatch Lau...   \n",
              "3  Mercedes-Benz to discontinue A-Class; will foc...   \n",
              "4                     Should I buy BHP shares today?   \n",
              "\n",
              "                       media   date  datetime  \\\n",
              "0                       연합뉴스  0개월 전       NaN   \n",
              "1          한국경제 - 성공을 부르는 습관  9개월 전       NaN   \n",
              "2          BBC TopGear India   8분 전       NaN   \n",
              "3                   Team-BHP   8분 전       NaN   \n",
              "4  The Motley Fool Australia   2일 전       NaN   \n",
              "\n",
              "                                                desc  \\\n",
              "0  '빅 오스트레일리아'라는 별명을 가진 BHP는 2001년 호주 BHP와 영국 빌리턴...   \n",
              "1  높은 이익률과 풍부한 배당금. 호주 멜버른에 본사를 둔 BHP는 명실상부 글로벌 광...   \n",
              "2  Renault unveils the 5 Turbo 3E, an electric ho...   \n",
              "3  With the A-Class gone, the new CLA will be the...   \n",
              "4  With copper prices rising and iron ore prices ...   \n",
              "\n",
              "                                                link  \\\n",
              "0  https://www.yna.co.kr/view/AKR2024042515220010...   \n",
              "1  https://www.hankyung.com/article/202405226158i...   \n",
              "2  https://www.topgearmag.in/news/cars/renault-5-...   \n",
              "3  https://www.team-bhp.com/news/mercedes-benz-di...   \n",
              "4  https://www.fool.com.au/2025/03/18/should-i-bu...   \n",
              "\n",
              "                                                 img  \n",
              "0  data:image/gif;base64,R0lGODlhAQABAIAAAP//////...  \n",
              "1  data:image/gif;base64,R0lGODlhAQABAIAAAP//////...  \n",
              "2  data:image/gif;base64,R0lGODlhAQABAIAAAP//////...  \n",
              "3  data:image/gif;base64,R0lGODlhAQABAIAAAP//////...  \n",
              "4  data:image/gif;base64,R0lGODlhAQABAIAAAP//////...  "
            ],
            "text/html": [
              "\n",
              "  <div id=\"df-88665469-347f-4151-97fc-f8559628789f\" class=\"colab-df-container\">\n",
              "    <div>\n",
              "<style scoped>\n",
              "    .dataframe tbody tr th:only-of-type {\n",
              "        vertical-align: middle;\n",
              "    }\n",
              "\n",
              "    .dataframe tbody tr th {\n",
              "        vertical-align: top;\n",
              "    }\n",
              "\n",
              "    .dataframe thead th {\n",
              "        text-align: right;\n",
              "    }\n",
              "</style>\n",
              "<table border=\"1\" class=\"dataframe\">\n",
              "  <thead>\n",
              "    <tr style=\"text-align: right;\">\n",
              "      <th></th>\n",
              "      <th>title</th>\n",
              "      <th>media</th>\n",
              "      <th>date</th>\n",
              "      <th>datetime</th>\n",
              "      <th>desc</th>\n",
              "      <th>link</th>\n",
              "      <th>img</th>\n",
              "    </tr>\n",
              "  </thead>\n",
              "  <tbody>\n",
              "    <tr>\n",
              "      <th>0</th>\n",
              "      <td>세계최대광산기업 BHP, 경쟁사 인수추진…세계구리 10% 생산가능</td>\n",
              "      <td>연합뉴스</td>\n",
              "      <td>0개월 전</td>\n",
              "      <td>NaN</td>\n",
              "      <td>'빅 오스트레일리아'라는 별명을 가진 BHP는 2001년 호주 BHP와 영국 빌리턴...</td>\n",
              "      <td>https://www.yna.co.kr/view/AKR2024042515220010...</td>\n",
              "      <td>data:image/gif;base64,R0lGODlhAQABAIAAAP//////...</td>\n",
              "    </tr>\n",
              "    <tr>\n",
              "      <th>1</th>\n",
              "      <td>'땅 파서 1년에 73조 벌었다'…광산업 제왕 호주 BHP [글로벌 종목탐구]</td>\n",
              "      <td>한국경제 - 성공을 부르는 습관</td>\n",
              "      <td>9개월 전</td>\n",
              "      <td>NaN</td>\n",
              "      <td>높은 이익률과 풍부한 배당금. 호주 멜버른에 본사를 둔 BHP는 명실상부 글로벌 광...</td>\n",
              "      <td>https://www.hankyung.com/article/202405226158i...</td>\n",
              "      <td>data:image/gif;base64,R0lGODlhAQABAIAAAP//////...</td>\n",
              "    </tr>\n",
              "    <tr>\n",
              "      <th>2</th>\n",
              "      <td>Renault 5 Turbo 3E: 540 BHP Electric Hatch Lau...</td>\n",
              "      <td>BBC TopGear India</td>\n",
              "      <td>8분 전</td>\n",
              "      <td>NaN</td>\n",
              "      <td>Renault unveils the 5 Turbo 3E, an electric ho...</td>\n",
              "      <td>https://www.topgearmag.in/news/cars/renault-5-...</td>\n",
              "      <td>data:image/gif;base64,R0lGODlhAQABAIAAAP//////...</td>\n",
              "    </tr>\n",
              "    <tr>\n",
              "      <th>3</th>\n",
              "      <td>Mercedes-Benz to discontinue A-Class; will foc...</td>\n",
              "      <td>Team-BHP</td>\n",
              "      <td>8분 전</td>\n",
              "      <td>NaN</td>\n",
              "      <td>With the A-Class gone, the new CLA will be the...</td>\n",
              "      <td>https://www.team-bhp.com/news/mercedes-benz-di...</td>\n",
              "      <td>data:image/gif;base64,R0lGODlhAQABAIAAAP//////...</td>\n",
              "    </tr>\n",
              "    <tr>\n",
              "      <th>4</th>\n",
              "      <td>Should I buy BHP shares today?</td>\n",
              "      <td>The Motley Fool Australia</td>\n",
              "      <td>2일 전</td>\n",
              "      <td>NaN</td>\n",
              "      <td>With copper prices rising and iron ore prices ...</td>\n",
              "      <td>https://www.fool.com.au/2025/03/18/should-i-bu...</td>\n",
              "      <td>data:image/gif;base64,R0lGODlhAQABAIAAAP//////...</td>\n",
              "    </tr>\n",
              "  </tbody>\n",
              "</table>\n",
              "</div>\n",
              "    <div class=\"colab-df-buttons\">\n",
              "\n",
              "  <div class=\"colab-df-container\">\n",
              "    <button class=\"colab-df-convert\" onclick=\"convertToInteractive('df-88665469-347f-4151-97fc-f8559628789f')\"\n",
              "            title=\"Convert this dataframe to an interactive table.\"\n",
              "            style=\"display:none;\">\n",
              "\n",
              "  <svg xmlns=\"http://www.w3.org/2000/svg\" height=\"24px\" viewBox=\"0 -960 960 960\">\n",
              "    <path d=\"M120-120v-720h720v720H120Zm60-500h600v-160H180v160Zm220 220h160v-160H400v160Zm0 220h160v-160H400v160ZM180-400h160v-160H180v160Zm440 0h160v-160H620v160ZM180-180h160v-160H180v160Zm440 0h160v-160H620v160Z\"/>\n",
              "  </svg>\n",
              "    </button>\n",
              "\n",
              "  <style>\n",
              "    .colab-df-container {\n",
              "      display:flex;\n",
              "      gap: 12px;\n",
              "    }\n",
              "\n",
              "    .colab-df-convert {\n",
              "      background-color: #E8F0FE;\n",
              "      border: none;\n",
              "      border-radius: 50%;\n",
              "      cursor: pointer;\n",
              "      display: none;\n",
              "      fill: #1967D2;\n",
              "      height: 32px;\n",
              "      padding: 0 0 0 0;\n",
              "      width: 32px;\n",
              "    }\n",
              "\n",
              "    .colab-df-convert:hover {\n",
              "      background-color: #E2EBFA;\n",
              "      box-shadow: 0px 1px 2px rgba(60, 64, 67, 0.3), 0px 1px 3px 1px rgba(60, 64, 67, 0.15);\n",
              "      fill: #174EA6;\n",
              "    }\n",
              "\n",
              "    .colab-df-buttons div {\n",
              "      margin-bottom: 4px;\n",
              "    }\n",
              "\n",
              "    [theme=dark] .colab-df-convert {\n",
              "      background-color: #3B4455;\n",
              "      fill: #D2E3FC;\n",
              "    }\n",
              "\n",
              "    [theme=dark] .colab-df-convert:hover {\n",
              "      background-color: #434B5C;\n",
              "      box-shadow: 0px 1px 3px 1px rgba(0, 0, 0, 0.15);\n",
              "      filter: drop-shadow(0px 1px 2px rgba(0, 0, 0, 0.3));\n",
              "      fill: #FFFFFF;\n",
              "    }\n",
              "  </style>\n",
              "\n",
              "    <script>\n",
              "      const buttonEl =\n",
              "        document.querySelector('#df-88665469-347f-4151-97fc-f8559628789f button.colab-df-convert');\n",
              "      buttonEl.style.display =\n",
              "        google.colab.kernel.accessAllowed ? 'block' : 'none';\n",
              "\n",
              "      async function convertToInteractive(key) {\n",
              "        const element = document.querySelector('#df-88665469-347f-4151-97fc-f8559628789f');\n",
              "        const dataTable =\n",
              "          await google.colab.kernel.invokeFunction('convertToInteractive',\n",
              "                                                    [key], {});\n",
              "        if (!dataTable) return;\n",
              "\n",
              "        const docLinkHtml = 'Like what you see? Visit the ' +\n",
              "          '<a target=\"_blank\" href=https://colab.research.google.com/notebooks/data_table.ipynb>data table notebook</a>'\n",
              "          + ' to learn more about interactive tables.';\n",
              "        element.innerHTML = '';\n",
              "        dataTable['output_type'] = 'display_data';\n",
              "        await google.colab.output.renderOutput(dataTable, element);\n",
              "        const docLink = document.createElement('div');\n",
              "        docLink.innerHTML = docLinkHtml;\n",
              "        element.appendChild(docLink);\n",
              "      }\n",
              "    </script>\n",
              "  </div>\n",
              "\n",
              "\n",
              "<div id=\"df-e965b809-a2ee-4ebb-a38f-63746e928a70\">\n",
              "  <button class=\"colab-df-quickchart\" onclick=\"quickchart('df-e965b809-a2ee-4ebb-a38f-63746e928a70')\"\n",
              "            title=\"Suggest charts\"\n",
              "            style=\"display:none;\">\n",
              "\n",
              "<svg xmlns=\"http://www.w3.org/2000/svg\" height=\"24px\"viewBox=\"0 0 24 24\"\n",
              "     width=\"24px\">\n",
              "    <g>\n",
              "        <path d=\"M19 3H5c-1.1 0-2 .9-2 2v14c0 1.1.9 2 2 2h14c1.1 0 2-.9 2-2V5c0-1.1-.9-2-2-2zM9 17H7v-7h2v7zm4 0h-2V7h2v10zm4 0h-2v-4h2v4z\"/>\n",
              "    </g>\n",
              "</svg>\n",
              "  </button>\n",
              "\n",
              "<style>\n",
              "  .colab-df-quickchart {\n",
              "      --bg-color: #E8F0FE;\n",
              "      --fill-color: #1967D2;\n",
              "      --hover-bg-color: #E2EBFA;\n",
              "      --hover-fill-color: #174EA6;\n",
              "      --disabled-fill-color: #AAA;\n",
              "      --disabled-bg-color: #DDD;\n",
              "  }\n",
              "\n",
              "  [theme=dark] .colab-df-quickchart {\n",
              "      --bg-color: #3B4455;\n",
              "      --fill-color: #D2E3FC;\n",
              "      --hover-bg-color: #434B5C;\n",
              "      --hover-fill-color: #FFFFFF;\n",
              "      --disabled-bg-color: #3B4455;\n",
              "      --disabled-fill-color: #666;\n",
              "  }\n",
              "\n",
              "  .colab-df-quickchart {\n",
              "    background-color: var(--bg-color);\n",
              "    border: none;\n",
              "    border-radius: 50%;\n",
              "    cursor: pointer;\n",
              "    display: none;\n",
              "    fill: var(--fill-color);\n",
              "    height: 32px;\n",
              "    padding: 0;\n",
              "    width: 32px;\n",
              "  }\n",
              "\n",
              "  .colab-df-quickchart:hover {\n",
              "    background-color: var(--hover-bg-color);\n",
              "    box-shadow: 0 1px 2px rgba(60, 64, 67, 0.3), 0 1px 3px 1px rgba(60, 64, 67, 0.15);\n",
              "    fill: var(--button-hover-fill-color);\n",
              "  }\n",
              "\n",
              "  .colab-df-quickchart-complete:disabled,\n",
              "  .colab-df-quickchart-complete:disabled:hover {\n",
              "    background-color: var(--disabled-bg-color);\n",
              "    fill: var(--disabled-fill-color);\n",
              "    box-shadow: none;\n",
              "  }\n",
              "\n",
              "  .colab-df-spinner {\n",
              "    border: 2px solid var(--fill-color);\n",
              "    border-color: transparent;\n",
              "    border-bottom-color: var(--fill-color);\n",
              "    animation:\n",
              "      spin 1s steps(1) infinite;\n",
              "  }\n",
              "\n",
              "  @keyframes spin {\n",
              "    0% {\n",
              "      border-color: transparent;\n",
              "      border-bottom-color: var(--fill-color);\n",
              "      border-left-color: var(--fill-color);\n",
              "    }\n",
              "    20% {\n",
              "      border-color: transparent;\n",
              "      border-left-color: var(--fill-color);\n",
              "      border-top-color: var(--fill-color);\n",
              "    }\n",
              "    30% {\n",
              "      border-color: transparent;\n",
              "      border-left-color: var(--fill-color);\n",
              "      border-top-color: var(--fill-color);\n",
              "      border-right-color: var(--fill-color);\n",
              "    }\n",
              "    40% {\n",
              "      border-color: transparent;\n",
              "      border-right-color: var(--fill-color);\n",
              "      border-top-color: var(--fill-color);\n",
              "    }\n",
              "    60% {\n",
              "      border-color: transparent;\n",
              "      border-right-color: var(--fill-color);\n",
              "    }\n",
              "    80% {\n",
              "      border-color: transparent;\n",
              "      border-right-color: var(--fill-color);\n",
              "      border-bottom-color: var(--fill-color);\n",
              "    }\n",
              "    90% {\n",
              "      border-color: transparent;\n",
              "      border-bottom-color: var(--fill-color);\n",
              "    }\n",
              "  }\n",
              "</style>\n",
              "\n",
              "  <script>\n",
              "    async function quickchart(key) {\n",
              "      const quickchartButtonEl =\n",
              "        document.querySelector('#' + key + ' button');\n",
              "      quickchartButtonEl.disabled = true;  // To prevent multiple clicks.\n",
              "      quickchartButtonEl.classList.add('colab-df-spinner');\n",
              "      try {\n",
              "        const charts = await google.colab.kernel.invokeFunction(\n",
              "            'suggestCharts', [key], {});\n",
              "      } catch (error) {\n",
              "        console.error('Error during call to suggestCharts:', error);\n",
              "      }\n",
              "      quickchartButtonEl.classList.remove('colab-df-spinner');\n",
              "      quickchartButtonEl.classList.add('colab-df-quickchart-complete');\n",
              "    }\n",
              "    (() => {\n",
              "      let quickchartButtonEl =\n",
              "        document.querySelector('#df-e965b809-a2ee-4ebb-a38f-63746e928a70 button');\n",
              "      quickchartButtonEl.style.display =\n",
              "        google.colab.kernel.accessAllowed ? 'block' : 'none';\n",
              "    })();\n",
              "  </script>\n",
              "</div>\n",
              "\n",
              "    </div>\n",
              "  </div>\n"
            ],
            "application/vnd.google.colaboratory.intrinsic+json": {
              "type": "dataframe",
              "variable_name": "df",
              "summary": "{\n  \"name\": \"df\",\n  \"rows\": 10,\n  \"fields\": [\n    {\n      \"column\": \"title\",\n      \"properties\": {\n        \"dtype\": \"string\",\n        \"num_unique_values\": 10,\n        \"samples\": [\n          \"ABB to deliver world\\u2019s largest production capacity mine hoist to BHP Jansen Potash Project\",\n          \"'\\ub545 \\ud30c\\uc11c 1\\ub144\\uc5d0 73\\uc870 \\ubc8c\\uc5c8\\ub2e4'\\u2026\\uad11\\uc0b0\\uc5c5 \\uc81c\\uc655 \\ud638\\uc8fc BHP [\\uae00\\ub85c\\ubc8c \\uc885\\ubaa9\\ud0d0\\uad6c]\",\n          \"Cobre Secures $25M BHP Investment for Botswana Copper Exploration\"\n        ],\n        \"semantic_type\": \"\",\n        \"description\": \"\"\n      }\n    },\n    {\n      \"column\": \"media\",\n      \"properties\": {\n        \"dtype\": \"string\",\n        \"num_unique_values\": 10,\n        \"samples\": [\n          \"African Mining Market\",\n          \"\\ud55c\\uad6d\\uacbd\\uc81c - \\uc131\\uacf5\\uc744 \\ubd80\\ub974\\ub294 \\uc2b5\\uad00\",\n          \"Investing News Network\"\n        ],\n        \"semantic_type\": \"\",\n        \"description\": \"\"\n      }\n    },\n    {\n      \"column\": \"date\",\n      \"properties\": {\n        \"dtype\": \"string\",\n        \"num_unique_values\": 8,\n        \"samples\": [\n          \"9\\uac1c\\uc6d4 \\uc804\",\n          \"5\\uac1c\\uc6d4 \\uc804\",\n          \"0\\uac1c\\uc6d4 \\uc804\"\n        ],\n        \"semantic_type\": \"\",\n        \"description\": \"\"\n      }\n    },\n    {\n      \"column\": \"datetime\",\n      \"properties\": {\n        \"dtype\": \"number\",\n        \"std\": null,\n        \"min\": null,\n        \"max\": null,\n        \"num_unique_values\": 0,\n        \"samples\": [],\n        \"semantic_type\": \"\",\n        \"description\": \"\"\n      }\n    },\n    {\n      \"column\": \"desc\",\n      \"properties\": {\n        \"dtype\": \"string\",\n        \"num_unique_values\": 10,\n        \"samples\": [],\n        \"semantic_type\": \"\",\n        \"description\": \"\"\n      }\n    },\n    {\n      \"column\": \"link\",\n      \"properties\": {\n        \"dtype\": \"string\",\n        \"num_unique_values\": 10,\n        \"samples\": [],\n        \"semantic_type\": \"\",\n        \"description\": \"\"\n      }\n    },\n    {\n      \"column\": \"img\",\n      \"properties\": {\n        \"dtype\": \"category\",\n        \"num_unique_values\": 1,\n        \"samples\": [],\n        \"semantic_type\": \"\",\n        \"description\": \"\"\n      }\n    }\n  ]\n}"
            }
          },
          "metadata": {},
          "execution_count": 183
        }
      ]
    },
    {
      "cell_type": "code",
      "source": [
        "googlenews.get_links()"
      ],
      "metadata": {
        "id": "W7ElWFXuZdmF",
        "outputId": "b0a518b0-d7af-4555-b689-bf83ab53979e",
        "colab": {
          "base_uri": "https://localhost:8080/"
        }
      },
      "execution_count": 188,
      "outputs": [
        {
          "output_type": "execute_result",
          "data": {
            "text/plain": [
              "['https://www.yna.co.kr/view/AKR20240425152200104&ved=2ahUKEwiP5oamj5iMAxUuFVkFHT_hJugQxfQBegQICRAC&usg=AOvVaw2mUGwrDYzVMvWPk1Fas5qA',\n",
              " 'https://www.hankyung.com/article/202405226158i&ved=2ahUKEwiP5oamj5iMAxUuFVkFHT_hJugQxfQBegQIChAC&usg=AOvVaw22c5Q6xZeYpnXQO_g50OYy',\n",
              " 'https://www.topgearmag.in/news/cars/renault-5-turbo-3e-a-french-pocket-rocket&ved=2ahUKEwiP5oamj5iMAxUuFVkFHT_hJugQxfQBegQIAhAC&usg=AOvVaw2SIge_fXUUbf942xlroNl9',\n",
              " 'https://www.team-bhp.com/news/mercedes-benz-discontinue-class-will-focus-suvs&ved=2ahUKEwiP5oamj5iMAxUuFVkFHT_hJugQxfQBegQIAxAC&usg=AOvVaw2dcjpcqVDgv9dc_CvHAaYb',\n",
              " 'https://www.fool.com.au/2025/03/18/should-i-buy-bhp-shares-today/&ved=2ahUKEwiP5oamj5iMAxUuFVkFHT_hJugQxfQBegQIBhAC&usg=AOvVaw3_jjmXz56ENlOeylgCaU_y',\n",
              " 'https://investingnews.com/cobre-secures-25m-bhp-investment-for-botswana-copper-exploration/&ved=2ahUKEwiP5oamj5iMAxUuFVkFHT_hJugQxfQBegQICBAC&usg=AOvVaw2ecMshZdNcV26lj9uNnpm_',\n",
              " 'https://ieefa.org/resources/bhp-lagging-its-peers-scope-3-and-steel-technology-transition&ved=2ahUKEwiP5oamj5iMAxUuFVkFHT_hJugQxfQBegQIBBAC&usg=AOvVaw0AjtvmE0b6dQra1IxMf7xy',\n",
              " 'https://www.reuters.com/markets/commodities/bhp-rio-tinto-talk-up-energy-transition-bet-minimal-trump-fallout-russell-2025-02-20/&ved=2ahUKEwiP5oamj5iMAxUuFVkFHT_hJugQxfQBegQIBRAC&usg=AOvVaw0egPIasysyQA5-2GV1DBhU',\n",
              " 'https://africanminingmarket.com/abb-to-deliver-worlds-largest-production-capacity-mine-hoist-to-bhp-jansen-potash-project/21501/&ved=2ahUKEwiP5oamj5iMAxUuFVkFHT_hJugQxfQBegQIBxAC&usg=AOvVaw1cA_DOAmqUf_sv5qpAeRRB',\n",
              " 'https://www.zawya.com/en/projects/mining/australia-bhp-earns-right-to-take-75-stake-in-cobres-botswana-projects-up4w7grx&ved=2ahUKEwiP5oamj5iMAxUuFVkFHT_hJugQxfQBegQIARAC&usg=AOvVaw1ptBU050rj_ghDcEre_CZt']"
            ]
          },
          "metadata": {},
          "execution_count": 188
        }
      ]
    },
    {
      "cell_type": "markdown",
      "metadata": {
        "id": "1GpBkhQgslw_"
      },
      "source": [
        "https://boringariel.tistory.com/68\n",
        "https://scrapeops.io/python-web-scraping-playbook/newspaper3k/"
      ]
    },
    {
      "cell_type": "code",
      "execution_count": null,
      "metadata": {
        "id": "s9dkVK0Tslw_"
      },
      "outputs": [],
      "source": [
        "from selenium import webdriver\n",
        "\n",
        "# selenium headless mode\n",
        "options = webdriver.ChromeOptions()\n",
        "options.add_argument('headless')\n",
        "driver = webdriver.Chrome(options=options)"
      ]
    },
    {
      "cell_type": "code",
      "execution_count": 186,
      "metadata": {
        "id": "H9unJm7QslxA",
        "outputId": "de92834f-d6e2-4a22-9934-60973fc1cad9",
        "colab": {
          "base_uri": "https://localhost:8080/",
          "height": 426
        }
      },
      "outputs": [
        {
          "output_type": "stream",
          "name": "stderr",
          "text": [
            "[nltk_data] Downloading package punkt_tab to /root/nltk_data...\n",
            "[nltk_data]   Package punkt_tab is already up-to-date!\n"
          ]
        },
        {
          "output_type": "stream",
          "name": "stdout",
          "text": [
            "7\n",
            "9\n"
          ]
        },
        {
          "output_type": "execute_result",
          "data": {
            "text/plain": [
              "    Date                                              Media  \\\n",
              "0  0개월 전                                               연합뉴스   \n",
              "1  9개월 전                                  한국경제 - 성공을 부르는 습관   \n",
              "2   8분 전                                  BBC TopGear India   \n",
              "3   8분 전                                           Team-BHP   \n",
              "4   2일 전                          The Motley Fool Australia   \n",
              "5   1주 전                             Investing News Network   \n",
              "6  5개월 전  Institute for Energy Economics and Financial A...   \n",
              "7   1주 전                              African Mining Market   \n",
              "\n",
              "                                               Title  \\\n",
              "0               세계최대광산기업 BHP, 경쟁사 인수추진…세계구리 10% 생산가능   \n",
              "1        '땅 파서 1년에 73조 벌었다'…광산업 제왕 호주 BHP [글로벌 종목탐구]   \n",
              "2  Renault 5 Turbo 3E: 540 BHP Electric Hatch Lau...   \n",
              "3  Mercedes-Benz to discontinue A-Class; will foc...   \n",
              "4                     Should I buy BHP shares today?   \n",
              "5  Cobre Secures $25M BHP Investment for Botswana...   \n",
              "6  BHP is lagging its peers on Scope 3 and steel ...   \n",
              "7  ABB to deliver world’s largest production capa...   \n",
              "\n",
              "                                             Article  \\\n",
              "0  박의래기자 구독 구독중 이전 다음\\n\\n英업체 앵글로 아메리칸에 인수합병 제안 …주...   \n",
              "1  ※한경 마켓PRO 텔레그램을 구독하시면 프리미엄 투자 콘텐츠를 보다 편리하게 볼 수...   \n",
              "2  Renault, the French automaker with a penchant ...   \n",
              "3  With the A-Class gone, the new CLA will be the...   \n",
              "4  BHP shares have outperformed the benchmark dur...   \n",
              "5                                                      \n",
              "6  This analysis is for information and education...   \n",
              "7  ABB has been selected by global mining company...   \n",
              "\n",
              "                                             Summary  \n",
              "0  호주 BHP 그룹은 이날 성명을 통해 앵글로 아메리칸 주주들에게 인수 합병 조건으로...  \n",
              "1  그렇지만 미국, 캐나다, 호주 등 자원 부국에는 땅을 파서 막대한 수익을 내는 기업...  \n",
              "2  Range, Charging, and a Pit Stop for Masala Cha...  \n",
              "3  With the A-Class gone, the new CLA will be the...  \n",
              "4  Learn MoreBHP Group Ltd (ASX: BHP) shares have...  \n",
              "5                                                     \n",
              "6  BHP is planning to stick to the production of ...  \n",
              "7  ABB has been selected by global mining company...  "
            ],
            "text/html": [
              "\n",
              "  <div id=\"df-e692a25d-c9df-40e4-9622-091d25f5fc5c\" class=\"colab-df-container\">\n",
              "    <div>\n",
              "<style scoped>\n",
              "    .dataframe tbody tr th:only-of-type {\n",
              "        vertical-align: middle;\n",
              "    }\n",
              "\n",
              "    .dataframe tbody tr th {\n",
              "        vertical-align: top;\n",
              "    }\n",
              "\n",
              "    .dataframe thead th {\n",
              "        text-align: right;\n",
              "    }\n",
              "</style>\n",
              "<table border=\"1\" class=\"dataframe\">\n",
              "  <thead>\n",
              "    <tr style=\"text-align: right;\">\n",
              "      <th></th>\n",
              "      <th>Date</th>\n",
              "      <th>Media</th>\n",
              "      <th>Title</th>\n",
              "      <th>Article</th>\n",
              "      <th>Summary</th>\n",
              "    </tr>\n",
              "  </thead>\n",
              "  <tbody>\n",
              "    <tr>\n",
              "      <th>0</th>\n",
              "      <td>0개월 전</td>\n",
              "      <td>연합뉴스</td>\n",
              "      <td>세계최대광산기업 BHP, 경쟁사 인수추진…세계구리 10% 생산가능</td>\n",
              "      <td>박의래기자 구독 구독중 이전 다음\\n\\n英업체 앵글로 아메리칸에 인수합병 제안 …주...</td>\n",
              "      <td>호주 BHP 그룹은 이날 성명을 통해 앵글로 아메리칸 주주들에게 인수 합병 조건으로...</td>\n",
              "    </tr>\n",
              "    <tr>\n",
              "      <th>1</th>\n",
              "      <td>9개월 전</td>\n",
              "      <td>한국경제 - 성공을 부르는 습관</td>\n",
              "      <td>'땅 파서 1년에 73조 벌었다'…광산업 제왕 호주 BHP [글로벌 종목탐구]</td>\n",
              "      <td>※한경 마켓PRO 텔레그램을 구독하시면 프리미엄 투자 콘텐츠를 보다 편리하게 볼 수...</td>\n",
              "      <td>그렇지만 미국, 캐나다, 호주 등 자원 부국에는 땅을 파서 막대한 수익을 내는 기업...</td>\n",
              "    </tr>\n",
              "    <tr>\n",
              "      <th>2</th>\n",
              "      <td>8분 전</td>\n",
              "      <td>BBC TopGear India</td>\n",
              "      <td>Renault 5 Turbo 3E: 540 BHP Electric Hatch Lau...</td>\n",
              "      <td>Renault, the French automaker with a penchant ...</td>\n",
              "      <td>Range, Charging, and a Pit Stop for Masala Cha...</td>\n",
              "    </tr>\n",
              "    <tr>\n",
              "      <th>3</th>\n",
              "      <td>8분 전</td>\n",
              "      <td>Team-BHP</td>\n",
              "      <td>Mercedes-Benz to discontinue A-Class; will foc...</td>\n",
              "      <td>With the A-Class gone, the new CLA will be the...</td>\n",
              "      <td>With the A-Class gone, the new CLA will be the...</td>\n",
              "    </tr>\n",
              "    <tr>\n",
              "      <th>4</th>\n",
              "      <td>2일 전</td>\n",
              "      <td>The Motley Fool Australia</td>\n",
              "      <td>Should I buy BHP shares today?</td>\n",
              "      <td>BHP shares have outperformed the benchmark dur...</td>\n",
              "      <td>Learn MoreBHP Group Ltd (ASX: BHP) shares have...</td>\n",
              "    </tr>\n",
              "    <tr>\n",
              "      <th>5</th>\n",
              "      <td>1주 전</td>\n",
              "      <td>Investing News Network</td>\n",
              "      <td>Cobre Secures $25M BHP Investment for Botswana...</td>\n",
              "      <td></td>\n",
              "      <td></td>\n",
              "    </tr>\n",
              "    <tr>\n",
              "      <th>6</th>\n",
              "      <td>5개월 전</td>\n",
              "      <td>Institute for Energy Economics and Financial A...</td>\n",
              "      <td>BHP is lagging its peers on Scope 3 and steel ...</td>\n",
              "      <td>This analysis is for information and education...</td>\n",
              "      <td>BHP is planning to stick to the production of ...</td>\n",
              "    </tr>\n",
              "    <tr>\n",
              "      <th>7</th>\n",
              "      <td>1주 전</td>\n",
              "      <td>African Mining Market</td>\n",
              "      <td>ABB to deliver world’s largest production capa...</td>\n",
              "      <td>ABB has been selected by global mining company...</td>\n",
              "      <td>ABB has been selected by global mining company...</td>\n",
              "    </tr>\n",
              "  </tbody>\n",
              "</table>\n",
              "</div>\n",
              "    <div class=\"colab-df-buttons\">\n",
              "\n",
              "  <div class=\"colab-df-container\">\n",
              "    <button class=\"colab-df-convert\" onclick=\"convertToInteractive('df-e692a25d-c9df-40e4-9622-091d25f5fc5c')\"\n",
              "            title=\"Convert this dataframe to an interactive table.\"\n",
              "            style=\"display:none;\">\n",
              "\n",
              "  <svg xmlns=\"http://www.w3.org/2000/svg\" height=\"24px\" viewBox=\"0 -960 960 960\">\n",
              "    <path d=\"M120-120v-720h720v720H120Zm60-500h600v-160H180v160Zm220 220h160v-160H400v160Zm0 220h160v-160H400v160ZM180-400h160v-160H180v160Zm440 0h160v-160H620v160ZM180-180h160v-160H180v160Zm440 0h160v-160H620v160Z\"/>\n",
              "  </svg>\n",
              "    </button>\n",
              "\n",
              "  <style>\n",
              "    .colab-df-container {\n",
              "      display:flex;\n",
              "      gap: 12px;\n",
              "    }\n",
              "\n",
              "    .colab-df-convert {\n",
              "      background-color: #E8F0FE;\n",
              "      border: none;\n",
              "      border-radius: 50%;\n",
              "      cursor: pointer;\n",
              "      display: none;\n",
              "      fill: #1967D2;\n",
              "      height: 32px;\n",
              "      padding: 0 0 0 0;\n",
              "      width: 32px;\n",
              "    }\n",
              "\n",
              "    .colab-df-convert:hover {\n",
              "      background-color: #E2EBFA;\n",
              "      box-shadow: 0px 1px 2px rgba(60, 64, 67, 0.3), 0px 1px 3px 1px rgba(60, 64, 67, 0.15);\n",
              "      fill: #174EA6;\n",
              "    }\n",
              "\n",
              "    .colab-df-buttons div {\n",
              "      margin-bottom: 4px;\n",
              "    }\n",
              "\n",
              "    [theme=dark] .colab-df-convert {\n",
              "      background-color: #3B4455;\n",
              "      fill: #D2E3FC;\n",
              "    }\n",
              "\n",
              "    [theme=dark] .colab-df-convert:hover {\n",
              "      background-color: #434B5C;\n",
              "      box-shadow: 0px 1px 3px 1px rgba(0, 0, 0, 0.15);\n",
              "      filter: drop-shadow(0px 1px 2px rgba(0, 0, 0, 0.3));\n",
              "      fill: #FFFFFF;\n",
              "    }\n",
              "  </style>\n",
              "\n",
              "    <script>\n",
              "      const buttonEl =\n",
              "        document.querySelector('#df-e692a25d-c9df-40e4-9622-091d25f5fc5c button.colab-df-convert');\n",
              "      buttonEl.style.display =\n",
              "        google.colab.kernel.accessAllowed ? 'block' : 'none';\n",
              "\n",
              "      async function convertToInteractive(key) {\n",
              "        const element = document.querySelector('#df-e692a25d-c9df-40e4-9622-091d25f5fc5c');\n",
              "        const dataTable =\n",
              "          await google.colab.kernel.invokeFunction('convertToInteractive',\n",
              "                                                    [key], {});\n",
              "        if (!dataTable) return;\n",
              "\n",
              "        const docLinkHtml = 'Like what you see? Visit the ' +\n",
              "          '<a target=\"_blank\" href=https://colab.research.google.com/notebooks/data_table.ipynb>data table notebook</a>'\n",
              "          + ' to learn more about interactive tables.';\n",
              "        element.innerHTML = '';\n",
              "        dataTable['output_type'] = 'display_data';\n",
              "        await google.colab.output.renderOutput(dataTable, element);\n",
              "        const docLink = document.createElement('div');\n",
              "        docLink.innerHTML = docLinkHtml;\n",
              "        element.appendChild(docLink);\n",
              "      }\n",
              "    </script>\n",
              "  </div>\n",
              "\n",
              "\n",
              "<div id=\"df-f0d4c2e7-4a9f-4042-b87e-e1f617c0841a\">\n",
              "  <button class=\"colab-df-quickchart\" onclick=\"quickchart('df-f0d4c2e7-4a9f-4042-b87e-e1f617c0841a')\"\n",
              "            title=\"Suggest charts\"\n",
              "            style=\"display:none;\">\n",
              "\n",
              "<svg xmlns=\"http://www.w3.org/2000/svg\" height=\"24px\"viewBox=\"0 0 24 24\"\n",
              "     width=\"24px\">\n",
              "    <g>\n",
              "        <path d=\"M19 3H5c-1.1 0-2 .9-2 2v14c0 1.1.9 2 2 2h14c1.1 0 2-.9 2-2V5c0-1.1-.9-2-2-2zM9 17H7v-7h2v7zm4 0h-2V7h2v10zm4 0h-2v-4h2v4z\"/>\n",
              "    </g>\n",
              "</svg>\n",
              "  </button>\n",
              "\n",
              "<style>\n",
              "  .colab-df-quickchart {\n",
              "      --bg-color: #E8F0FE;\n",
              "      --fill-color: #1967D2;\n",
              "      --hover-bg-color: #E2EBFA;\n",
              "      --hover-fill-color: #174EA6;\n",
              "      --disabled-fill-color: #AAA;\n",
              "      --disabled-bg-color: #DDD;\n",
              "  }\n",
              "\n",
              "  [theme=dark] .colab-df-quickchart {\n",
              "      --bg-color: #3B4455;\n",
              "      --fill-color: #D2E3FC;\n",
              "      --hover-bg-color: #434B5C;\n",
              "      --hover-fill-color: #FFFFFF;\n",
              "      --disabled-bg-color: #3B4455;\n",
              "      --disabled-fill-color: #666;\n",
              "  }\n",
              "\n",
              "  .colab-df-quickchart {\n",
              "    background-color: var(--bg-color);\n",
              "    border: none;\n",
              "    border-radius: 50%;\n",
              "    cursor: pointer;\n",
              "    display: none;\n",
              "    fill: var(--fill-color);\n",
              "    height: 32px;\n",
              "    padding: 0;\n",
              "    width: 32px;\n",
              "  }\n",
              "\n",
              "  .colab-df-quickchart:hover {\n",
              "    background-color: var(--hover-bg-color);\n",
              "    box-shadow: 0 1px 2px rgba(60, 64, 67, 0.3), 0 1px 3px 1px rgba(60, 64, 67, 0.15);\n",
              "    fill: var(--button-hover-fill-color);\n",
              "  }\n",
              "\n",
              "  .colab-df-quickchart-complete:disabled,\n",
              "  .colab-df-quickchart-complete:disabled:hover {\n",
              "    background-color: var(--disabled-bg-color);\n",
              "    fill: var(--disabled-fill-color);\n",
              "    box-shadow: none;\n",
              "  }\n",
              "\n",
              "  .colab-df-spinner {\n",
              "    border: 2px solid var(--fill-color);\n",
              "    border-color: transparent;\n",
              "    border-bottom-color: var(--fill-color);\n",
              "    animation:\n",
              "      spin 1s steps(1) infinite;\n",
              "  }\n",
              "\n",
              "  @keyframes spin {\n",
              "    0% {\n",
              "      border-color: transparent;\n",
              "      border-bottom-color: var(--fill-color);\n",
              "      border-left-color: var(--fill-color);\n",
              "    }\n",
              "    20% {\n",
              "      border-color: transparent;\n",
              "      border-left-color: var(--fill-color);\n",
              "      border-top-color: var(--fill-color);\n",
              "    }\n",
              "    30% {\n",
              "      border-color: transparent;\n",
              "      border-left-color: var(--fill-color);\n",
              "      border-top-color: var(--fill-color);\n",
              "      border-right-color: var(--fill-color);\n",
              "    }\n",
              "    40% {\n",
              "      border-color: transparent;\n",
              "      border-right-color: var(--fill-color);\n",
              "      border-top-color: var(--fill-color);\n",
              "    }\n",
              "    60% {\n",
              "      border-color: transparent;\n",
              "      border-right-color: var(--fill-color);\n",
              "    }\n",
              "    80% {\n",
              "      border-color: transparent;\n",
              "      border-right-color: var(--fill-color);\n",
              "      border-bottom-color: var(--fill-color);\n",
              "    }\n",
              "    90% {\n",
              "      border-color: transparent;\n",
              "      border-bottom-color: var(--fill-color);\n",
              "    }\n",
              "  }\n",
              "</style>\n",
              "\n",
              "  <script>\n",
              "    async function quickchart(key) {\n",
              "      const quickchartButtonEl =\n",
              "        document.querySelector('#' + key + ' button');\n",
              "      quickchartButtonEl.disabled = true;  // To prevent multiple clicks.\n",
              "      quickchartButtonEl.classList.add('colab-df-spinner');\n",
              "      try {\n",
              "        const charts = await google.colab.kernel.invokeFunction(\n",
              "            'suggestCharts', [key], {});\n",
              "      } catch (error) {\n",
              "        console.error('Error during call to suggestCharts:', error);\n",
              "      }\n",
              "      quickchartButtonEl.classList.remove('colab-df-spinner');\n",
              "      quickchartButtonEl.classList.add('colab-df-quickchart-complete');\n",
              "    }\n",
              "    (() => {\n",
              "      let quickchartButtonEl =\n",
              "        document.querySelector('#df-f0d4c2e7-4a9f-4042-b87e-e1f617c0841a button');\n",
              "      quickchartButtonEl.style.display =\n",
              "        google.colab.kernel.accessAllowed ? 'block' : 'none';\n",
              "    })();\n",
              "  </script>\n",
              "</div>\n",
              "\n",
              "  <div id=\"id_c1b0bde6-0ce4-4419-b8d0-b71333c23e4c\">\n",
              "    <style>\n",
              "      .colab-df-generate {\n",
              "        background-color: #E8F0FE;\n",
              "        border: none;\n",
              "        border-radius: 50%;\n",
              "        cursor: pointer;\n",
              "        display: none;\n",
              "        fill: #1967D2;\n",
              "        height: 32px;\n",
              "        padding: 0 0 0 0;\n",
              "        width: 32px;\n",
              "      }\n",
              "\n",
              "      .colab-df-generate:hover {\n",
              "        background-color: #E2EBFA;\n",
              "        box-shadow: 0px 1px 2px rgba(60, 64, 67, 0.3), 0px 1px 3px 1px rgba(60, 64, 67, 0.15);\n",
              "        fill: #174EA6;\n",
              "      }\n",
              "\n",
              "      [theme=dark] .colab-df-generate {\n",
              "        background-color: #3B4455;\n",
              "        fill: #D2E3FC;\n",
              "      }\n",
              "\n",
              "      [theme=dark] .colab-df-generate:hover {\n",
              "        background-color: #434B5C;\n",
              "        box-shadow: 0px 1px 3px 1px rgba(0, 0, 0, 0.15);\n",
              "        filter: drop-shadow(0px 1px 2px rgba(0, 0, 0, 0.3));\n",
              "        fill: #FFFFFF;\n",
              "      }\n",
              "    </style>\n",
              "    <button class=\"colab-df-generate\" onclick=\"generateWithVariable('news_df')\"\n",
              "            title=\"Generate code using this dataframe.\"\n",
              "            style=\"display:none;\">\n",
              "\n",
              "  <svg xmlns=\"http://www.w3.org/2000/svg\" height=\"24px\"viewBox=\"0 0 24 24\"\n",
              "       width=\"24px\">\n",
              "    <path d=\"M7,19H8.4L18.45,9,17,7.55,7,17.6ZM5,21V16.75L18.45,3.32a2,2,0,0,1,2.83,0l1.4,1.43a1.91,1.91,0,0,1,.58,1.4,1.91,1.91,0,0,1-.58,1.4L9.25,21ZM18.45,9,17,7.55Zm-12,3A5.31,5.31,0,0,0,4.9,8.1,5.31,5.31,0,0,0,1,6.5,5.31,5.31,0,0,0,4.9,4.9,5.31,5.31,0,0,0,6.5,1,5.31,5.31,0,0,0,8.1,4.9,5.31,5.31,0,0,0,12,6.5,5.46,5.46,0,0,0,6.5,12Z\"/>\n",
              "  </svg>\n",
              "    </button>\n",
              "    <script>\n",
              "      (() => {\n",
              "      const buttonEl =\n",
              "        document.querySelector('#id_c1b0bde6-0ce4-4419-b8d0-b71333c23e4c button.colab-df-generate');\n",
              "      buttonEl.style.display =\n",
              "        google.colab.kernel.accessAllowed ? 'block' : 'none';\n",
              "\n",
              "      buttonEl.onclick = () => {\n",
              "        google.colab.notebook.generateWithVariable('news_df');\n",
              "      }\n",
              "      })();\n",
              "    </script>\n",
              "  </div>\n",
              "\n",
              "    </div>\n",
              "  </div>\n"
            ],
            "application/vnd.google.colaboratory.intrinsic+json": {
              "type": "dataframe",
              "variable_name": "news_df",
              "summary": "{\n  \"name\": \"news_df\",\n  \"rows\": 8,\n  \"fields\": [\n    {\n      \"column\": \"Date\",\n      \"properties\": {\n        \"dtype\": \"string\",\n        \"num_unique_values\": 6,\n        \"samples\": [\n          \"0\\uac1c\\uc6d4 \\uc804\",\n          \"9\\uac1c\\uc6d4 \\uc804\",\n          \"5\\uac1c\\uc6d4 \\uc804\"\n        ],\n        \"semantic_type\": \"\",\n        \"description\": \"\"\n      }\n    },\n    {\n      \"column\": \"Media\",\n      \"properties\": {\n        \"dtype\": \"string\",\n        \"num_unique_values\": 8,\n        \"samples\": [\n          \"\\ud55c\\uad6d\\uacbd\\uc81c - \\uc131\\uacf5\\uc744 \\ubd80\\ub974\\ub294 \\uc2b5\\uad00\",\n          \"Investing News Network\",\n          \"\\uc5f0\\ud569\\ub274\\uc2a4\"\n        ],\n        \"semantic_type\": \"\",\n        \"description\": \"\"\n      }\n    },\n    {\n      \"column\": \"Title\",\n      \"properties\": {\n        \"dtype\": \"string\",\n        \"num_unique_values\": 8,\n        \"samples\": [\n          \"'\\ub545 \\ud30c\\uc11c 1\\ub144\\uc5d0 73\\uc870 \\ubc8c\\uc5c8\\ub2e4'\\u2026\\uad11\\uc0b0\\uc5c5 \\uc81c\\uc655 \\ud638\\uc8fc BHP [\\uae00\\ub85c\\ubc8c \\uc885\\ubaa9\\ud0d0\\uad6c]\",\n          \"Cobre Secures $25M BHP Investment for Botswana Copper Exploration\",\n          \"\\uc138\\uacc4\\ucd5c\\ub300\\uad11\\uc0b0\\uae30\\uc5c5 BHP, \\uacbd\\uc7c1\\uc0ac \\uc778\\uc218\\ucd94\\uc9c4\\u2026\\uc138\\uacc4\\uad6c\\ub9ac 10% \\uc0dd\\uc0b0\\uac00\\ub2a5\"\n        ],\n        \"semantic_type\": \"\",\n        \"description\": \"\"\n      }\n    },\n    {\n      \"column\": \"Article\",\n      \"properties\": {\n        \"dtype\": \"string\",\n        \"num_unique_values\": 8,\n        \"samples\": [\n          \"\\u203b\\ud55c\\uacbd \\ub9c8\\ucf13PRO \\ud154\\ub808\\uadf8\\ub7a8\\uc744 \\uad6c\\ub3c5\\ud558\\uc2dc\\uba74 \\ud504\\ub9ac\\ubbf8\\uc5c4 \\ud22c\\uc790 \\ucf58\\ud150\\uce20\\ub97c \\ubcf4\\ub2e4 \\ud3b8\\ub9ac\\ud558\\uac8c \\ubcfc \\uc218 \\uc788\\uc2b5\\ub2c8\\ub2e4. \\ud154\\ub808\\uadf8\\ub818\\uc5d0\\uc11c \\u2018\\ub9c8\\ucf13PRO\\u2019\\ub97c \\uac80\\uc0c9\\ud558\\uba74 \\uac00\\uc785\\ud560 \\uc218 \\uc788\\uc2b5\\ub2c8\\ub2e4.\\n\\n\\uc0ac\\uc9c4=\\uac8c\\ud2f0\\uc774\\ubbf8\\uc9c0\\n\\n\\uc575\\uae00\\ub85c\\uc544\\uba54\\ub9ac\\uce78 \\uc778\\uc218 '\\uc0bc\\uace0\\ucd08\\ub824' \\uc2e4\\ud328...\\\"\\ud3ec\\uae30\\ub294 \\uc5c6\\ub2e4\\\"\\n\\n\\uc0ac\\uc9c4=\\ub85c\\uc774\\ud130\\n\\n\\ub192\\uc740 \\uc774\\uc775\\ub960\\uacfc \\ud48d\\ubd80\\ud55c \\ubc30\\ub2f9\\uae08\\n\\n\\ud55c\\uad6d\\uc5d0\\uc120 '\\ub545\\ud30c\\uc11c \\uc7a5\\uc0ac\\ud558\\ub0d0'\\ub294 \\ub9d0\\uc744 \\uc774\\ub530\\uae08 \\ud55c\\ub2e4. \\ub545\\uc744 \\ud30c\\ubd24\\uc790 \\uc544\\ubb34\\uac83\\ub3c4 \\uc548 \\ub098\\uc628\\ub2e4\\ub294 \\uc804\\uc81c\\uac00 \\uae54\\ub824\\uc788\\ub2e4. \\uadf8\\ub807\\uc9c0\\ub9cc \\ubbf8\\uad6d, \\uce90\\ub098\\ub2e4, \\ud638\\uc8fc \\ub4f1 \\uc790\\uc6d0 \\ubd80\\uad6d\\uc5d0\\ub294 \\ub545\\uc744 \\ud30c\\uc11c \\ub9c9\\ub300\\ud55c \\uc218\\uc775\\uc744 \\ub0b4\\ub294 \\uae30\\uc5c5\\uc774 \\uc801\\uc9c0 \\uc54a\\ub2e4. \\uc138\\uacc4 \\ucd5c\\ub300 \\uad11\\uc0b0\\uae30\\uc5c5\\uc778 \\ud638\\uc8fc\\uc758 BHP\\uac00 \\ub300\\ud45c\\uc801\\uc774\\ub2e4. \\uc774 \\ud68c\\uc0ac\\ub294 \\uc9c0\\uc18d\\uc801\\uc778 \\uae30\\uc5c5 \\uc778\\uc218 \\ud569\\ubcd1\\uacfc \\ub2e4\\uc591\\ud55c \\uad11\\ubb3c\\u00b7\\uc5d0\\ub108\\uc9c0 \\uc790\\uc6d0 \\uac1c\\ubc1c\\ub85c \\ubcc0\\uc2e0\\uc744 \\uac70\\ub4ed\\ud558\\uba70 140\\ub144\\uac04 \\uc0b4\\uc544\\ub0a8\\uc544, \\uae00\\ub85c\\ubc8c \\uad11\\uc0b0\\uc5c5\\uacc4\\ub97c \\uc9c0\\ubc30\\ud558\\uace0 \\uc788\\ub2e4.\\ucf54\\ub85c\\ub09819 \\ud32c\\ub370\\ubbf9 \\uc774\\ud6c4 \\uc6d0\\uc790\\uc7ac \\uac00\\uaca9 \\uae09\\ub4f1\\uc73c\\ub85c \\uc5f0\\uac04 \\uc218\\uc2ed\\uc870\\uc6d0\\uc758 \\uc218\\uc775\\uc744 \\uc62c\\ub838\\ub2e4. \\ub545 \\ud30c\\uc11c \\uc7a5\\uc0ac\\ud558\\ub294 \\uae30\\uc5c5\\ub2f5\\uac8c \\uc601\\uc5c5\\uc774\\uc775\\ub960\\uc774 40%\\ub97c \\uc624\\ub974\\ub0b4\\ub9b0\\ub2e4. \\ud638\\uc8fc\\uc758 1\\uc778\\ub2f9 \\uad6d\\ubbfc\\uc18c\\ub4dd(2022\\ub144 \\uae30\\uc900)\\uc774 \\ud55c\\uad6d\\uc758 \\ub450 \\ubc30\\uac00 \\ub118\\ub294 6\\ub9cc5000\\ub2ec\\ub7ec\\uc5d0 \\uc774\\ub974\\ub294 \\ube44\\uacb0\\uc774\\ub2e4. BHP\\ub294 \\uc774\\ub97c \\ubc14\\ud0d5\\uc73c\\ub85c \\ud604\\uc7ac \\ub0a8\\uc544\\ud504\\ub9ac\\uce74\\uacf5\\ud654\\uad6d\\uc5d0 \\uae30\\ubc18\\uc744 \\ub454 \\uc601\\uad6d \\uad11\\uc0b0\\uae30\\uc5c5 \\uc575\\uae00\\ub85c\\uc544\\uba54\\ub9ac\\uce78 \\uc778\\uc218\\ub97c \\ucd94\\uc9c4 \\uc911\\uc774\\ub2e4. \\uce5c\\ud658\\uacbd \\uaddc\\uc81c\\ub85c \\uc218\\uc775\\uc131\\uc774 \\uc545\\ud654\\ud558\\ub294 \\ucca0\\uad11\\uc11d\\uacfc \\uc11d\\ud0c4 \\ub300\\uc2e0 \\uad6c\\ub9ac \\uc0dd\\uc0b0\\uc5d0 \\ub354\\uc6b1 \\uc9d1\\uc911\\ud558\\uaca0\\ub2e4\\ub294 \\uc804\\ub7b5\\uc774\\ub2e4.22\\uc77c(\\ud604\\uc9c0\\uc2dc\\uac04) \\ub85c\\uc774\\ud130\\ud1b5\\uc2e0\\uc5d0 \\ub530\\ub974\\uba74 \\uc575\\uae00\\ub85c\\uc544\\uba54\\ub9ac\\uce78\\uc740 BHP\\uc758 \\uc138 \\ubc88\\uc9f8 \\uc778\\uc218 \\uc81c\\uc548\\uc744 \\uac70\\uc808\\ud588\\ub2e4. \\uadf8\\ub7ec\\ub098 \\ud611\\uc0c1\\uc758 \\ubd88\\uc528\\ub294 \\uaebc\\uc9c0\\uc9c0 \\uc54a\\uc558\\uace0 \\uc575\\uae00\\ub85c\\uc544\\uba54\\ub9ac\\uce78\\uc740 \\uc870\\uac74\\uc744 \\ubcc0\\uacbd\\ud55c \\ucd94\\uac00 \\uc81c\\uc548\\uc744 \\uc694\\uccad\\ud588\\ub2e4. \\ub2f9\\ucd08 390\\uc5b5\\ub2ec\\ub7ec\\uc5d0\\uc11c \\uc2dc\\uc791\\ud55c \\uc778\\uc218\\uac00\\uc561\\uc740 \\uc138 \\ubc88\\uc9f8 \\uc81c\\uc548\\uc5d0\\uc120 492\\uc5b5\\ub2ec\\ub7ec\\uae4c\\uc9c0 \\uce58\\uc19f\\uc558\\ub2e4. \\uc2dc\\uc7a5\\uc5d0\\uc120 '\\uc2b9\\uc790\\uc758 \\uc800\\uc8fc' \\uc6b0\\ub824\\uac00 \\ub098\\uc628\\ub2e4. \\uadf8\\ub7ec\\ub098 BHP\\ub294 \\uc9c0\\ub09c\\ud574 5\\uc6d4\\uc5d0\\ub3c4 \\ud638\\uc8fc \\uad6c\\ub9ac \\uad11\\uc0b0\\uc5c5\\uccb4 \\uc624\\uc988\\ubbf8\\ub124\\ub784\\uc744 60\\uc5b5\\ub2ec\\ub7ec(\\uc57d 8\\uc8702500\\uc5b5 \\uc6d0)\\uc5d0 \\uc778\\uc218\\ud558\\ub294 \\ub4f1 \\uad6c\\ub9ac \\uad11\\uc0b0 \\ud655\\ubcf4\\uc5d0 \\uc0ac\\ud65c\\uc744 \\uac78\\uace0 \\uc788\\ub2e4. \\uc804\\uae30\\ucc28\\uc640 \\uce5c\\ud658\\uacbd \\uc804\\ub825 \\uc778\\ud504\\ub77c\\ub97c \\ube44\\ub86f\\ud574 \\uc778\\uacf5\\uc9c0\\ub2a5(AI) \\ub370\\uc774\\ud130\\uc13c\\ud130 \\ub4f1\\uc5d0 \\uad6c\\ub9ac \\uc218\\uc694\\uac00 \\ud3ed\\uc99d\\ud560 \\uac83\\uc73c\\ub85c \\uc608\\uc0c1\\ub418\\uc5b4\\uc11c\\ub2e4. \\ucd5c\\uadfc \\uad6c\\ub9ac \\uac00\\uaca9\\uc740 t\\ub2f9 1\\ub9cc\\ub2ec\\ub7ec\\ub97c \\ub118\\uc5b4 \\uc0ac\\uc0c1 \\ucd5c\\uace0\\uac00\\ub97c \\uae30\\ub85d \\uc911\\uc774\\ub2e4. BHP\\uac00 \\uc575\\uae00\\ub85c\\uc544\\uba54\\ub9ac\\uce78\\uc758 \\uad11\\uc0b0\\uc744 \\uc778\\uc218\\ud560 \\uacbd\\uc6b0 \\uc0dd\\uc0b0\\ub7c9 \\uc810\\uc720\\uc728 10%\\ub97c \\ub118\\uc5b4\\uc11c\\uba70, \\uad6c\\ub9ac \\ubd80\\ubb38 1\\uc704\\uc778 \\uce60\\ub808 \\ucf54\\ub378\\ucf54\\uc640 \\uc5b4\\uae68\\ub97c \\ub098\\ub780\\ud788 \\ud560 \\uc218 \\uc788\\uc744 \\uac83\\uc73c\\ub85c \\uc608\\uc0c1\\ub41c\\ub2e4.\\uc778\\uc218 \\ud611\\uc0c1\\uc774 \\ub09c\\ud56d\\uc744 \\uacaa\\ub294 \\uac83\\uc740 \\uc575\\uae00\\ub85c\\uc544\\uba54\\ub9ac\\uce78\\uc758 \\uc9c0\\ubd84 7.4%\\ub97c \\ubcf4\\uc720\\ud55c 2\\ub300 \\uc8fc\\uc8fc\\uc778 \\ub0a8\\uc544\\uacf5 \\uad6d\\uc601\\uacf5\\uacf5\\ud22c\\uc790\\uacf5\\uc0ac(SAPIC)\\uac00 \\ud611\\uc0c1\\uc5d0 \\uc801\\uadf9\\uc801\\uc73c\\ub85c \\uac1c\\uc785\\ud558\\uace0 \\uc788\\uae30 \\ub54c\\ubb38\\uc73c\\ub85c \\uc54c\\ub824\\uc84c\\ub2e4. BHP\\uac00 \\uc575\\uae00\\ub85c\\uc544\\uba54\\ub9ac\\uce78\\uc744 \\uc778\\uc218\\ud558\\uba74 \\uce60\\ub808\\uc640 \\ud398\\ub8e8\\uc758 \\uad6c\\ub9ac \\uad11\\uc0b0\\ub9cc \\ub0a8\\uae30\\uace0 \\ub0a8\\uc544\\uacf5\\uc5d0 \\uc788\\ub294 \\uc790\\uc0b0\\ub4e4\\uc740 \\ub300\\uac70 \\ucc98\\ubd84\\ud560 \\uac83\\uc73c\\ub85c \\uc608\\uc0c1\\ub418\\uc790 \\uc774\\uc5d0 \\ubc18\\ub300\\ud55c\\ub2e4\\ub294 \\uc598\\uae30\\ub2e4. \\ub2e4\\ub9cc \\ud611\\uc0c1\\uacfc \\uad00\\uacc4\\uc5c6\\uc774 \\uc575\\uae00\\ub85c\\uc544\\uba54\\ub9ac\\uce78\\uc740 \\uad6c\\uc870\\uc870\\uc815\\uc744 \\ucd94\\uc9c4\\ud558\\uace0 \\uc788\\uc5b4 \\uadf8\\ub8f9 \\ud574\\uccb4\\ub294 \\ubd88\\uac00\\ud53c\\ud558\\ub2e4. \\uc575\\uae00\\ub85c\\uc544\\uba54\\ub9ac\\uce78\\uc758 \\ub358\\ucee8 \\uc644\\ube14\\ub798\\ub4dc \\ucd5c\\uace0\\uacbd\\uc601\\uc790(CEO)\\ub294 \\uc9c0\\ub09c 2\\uc77c \\\"\\ubc31\\uae08, \\ub2e4\\uc774\\uc544\\ubaac\\ub4dc, \\uc11d\\ud0c4 \\uc0ac\\uc5c5\\uc744 \\uc911\\ub2e8\\ud558\\uace0, \\uc778\\uae30 \\uc5c6\\ub294 \\uc6b0\\ub4dc\\uc2a4\\ubbf8\\uc2a4 \\ube44\\ub8cc \\ud504\\ub85c\\uc81d\\ud2b8\\ub97c \\uc5f0\\uae30\\ud558\\uaca0\\ub2e4\\\"\\uace0 \\ubc1c\\ud45c\\ud588\\ub2e4.BHP \\uc8fc\\uc2dd\\uc740 \\ud638\\uc8fc\\uc640 \\uc601\\uad6d\\uc5d0 \\uc0c1\\uc7a5\\ub3fc \\uc788\\uace0 \\ubbf8\\uad6d \\ub274\\uc695 \\uc99d\\uc2dc\\uc5d0\\ub3c4 \\uc8fc\\uc2dd\\uc608\\ud0c1\\uc99d\\uc11c(ADR)\\ub85c \\uc0c1\\uc7a5\\ub3fc \\uc788\\ub2e4. BHP \\uc8fc\\uac00\\ub294 \\uc575\\uae00\\ub85c\\uc544\\uba54\\ub9ac\\uce78 \\uc778\\uc218 \\ud611\\uc0c1\\uc774 \\ud638\\uc7ac\\ub85c \\uc791\\uc6a9\\ud558\\uba74\\uc11c \\uc9c0\\ub09c 21\\uc77c 3\\uac1c\\uc6d4 \\ub9cc\\uc5d0 \\ucd5c\\uace0\\uac00\\uc778 61.63\\ub2ec\\ub7ec(\\ub274\\uc695 ADR=\\uc8fc\\uc2dd 2\\uc8fc)\\ub97c \\uae30\\ub85d\\ud588\\ub2e4. \\ub2e4\\ub9cc \\uc774\\ub0a0 \\uc778\\uc218 \\ubd88\\ubc1c \\ud6c4 58.73\\ub2ec\\ub7ec\\ub85c 1.3%\\uac00\\ub7c9 \\ud558\\ub77d\\ud588\\ub2e4. \\ub2e4\\ub9cc \\uacbd\\uae30 \\uce68\\uccb4 \\uc6b0\\ub824 \\ub4f1\\uc73c\\ub85c \\uc8fc\\uac00\\uac00 \\uc774\\ub2ec \\ucd08 55\\ub2ec\\ub7ec\\uc120\\uae4c\\uc9c0 \\ub5a8\\uc5b4\\uc84c\\ub358 \\ub54c\\uc640\\ub294 \\ubd84\\uc704\\uae30\\uac00 \\ub2ec\\ub77c\\uc84c\\ub2e4. \\ub9b0\\ub4e0 \\ud398\\uc774\\uac74 JP\\ubaa8\\uac04 \\uc5f0\\uad6c\\uc6d0\\uc740 \\ubcf4\\uace0\\uc11c\\ub97c \\ud1b5\\ud574 \\\"BHP\\ub294 \\ub2e4\\uac01\\ud654\\ub41c \\uad11\\uc5c5 \\ud68c\\uc0ac\\ub85c \\uc5ec\\ub7ec \\uc9c0\\uc5ed\\uc5d0\\uc11c \\ucca0\\uad11\\uc11d, \\uad6c\\ub9ac, \\uc11d\\ud0c4, \\ub2c8\\ucf08 \\ub4f1 \\ub2e4\\uc591\\ud55c \\uad11\\ubb3c\\uc744 \\uc0dd\\uc0b0\\ud55c\\ub2e4\\\"\\uba70 \\\"\\uac15\\ub825\\ud55c \\ud604\\uae08 \\ucc3d\\ucd9c\\ub825\\uc73c\\ub85c \\uc8fc\\uc8fc \\uc218\\uc775\\ub960\\uc744 \\uc9c0\\uc18d\\ud574\\uc11c \\uac1c\\uc120\\ud558\\uace0 \\uc788\\ub2e4\\\"\\uba70 \\uc8fc\\uc2dd \\ub9e4\\uc218(\\ube44\\uc911 \\ud655\\ub300)\\ub97c \\ucd94\\ucc9c\\ud588\\ub2e4.\\ud638\\uc8fc \\uba5c\\ubc84\\ub978\\uc5d0 \\ubcf8\\uc0ac\\ub97c \\ub454 BHP\\ub294 \\uba85\\uc2e4\\uc0c1\\ubd80 \\uae00\\ub85c\\ubc8c \\uad11\\uc0b0\\uc5c5\\uacc4 1\\uc704 \\uae30\\uc5c5\\uc774\\ub2e4. \\uc2dc\\uac00\\ucd1d\\uc561 1556\\uc5b57000\\ub9cc\\ub2ec\\ub7ec\\ub85c, 2\\uc704 \\ub9ac\\uc624\\ud2f4\\ud1a0\\uc758 \\uc2dc\\ucd1d 1266\\uc5b56000\\ub9cc\\ub2ec\\ub7ec\\ub97c \\ub300\\ud3ed \\uc6c3\\ub3c8\\ub2e4. \\ub9e4\\ucd9c \\uae30\\uc900\\uc73c\\ub85c\\ub3c4 \\uad11\\uc0b0\\uc5c5\\uacc4 \\uc120\\ub450\\ub2e4. \\uc2a4\\uc704\\uc2a4\\uc758 \\uae00\\ub79c\\ucf54\\uc5b4\\uac00 \\ucd1d\\ub9e4\\ucd9c\\uc740 \\ub354 \\ub9ce\\uc9c0\\ub9cc \\uc774 \\ud68c\\uc0ac\\ub294 \\uc790\\uc6d0 \\uc911\\uac1c\\uc5c5\\uc774 \\uba54\\uc778\\uc774\\uba70, \\uc911\\uac1c\\uc5c5 \\ub9e4\\ucd9c\\uc744 \\ube80 \\uad11\\uc0b0\\uc5c5 \\ub9e4\\ucd9c\\uc740 BHP\\ubcf4\\ub2e4 \\uc801\\ub2e4. BHP\\ub294 \\ud638\\uc8fc\\ubfd0\\ub9cc \\uc544\\ub2c8\\ub77c \\ubbf8\\uad6d\\uacfc \\uce90\\ub098\\ub2e4, \\uce60\\ub808\\uc640 \\ud398\\ub8e8, \\ube0c\\ub77c\\uc9c8 \\ub4f1\\uc5d0\\uc11c \\uad11\\uc0b0\\uc744 \\uc6b4\\uc601\\ud574 \\ucca0\\uad11\\uc11d\\uacfc \\uc11d\\ud0c4\\uc744 \\ube44\\ub86f\\ud574 \\uad6c\\ub9ac, \\ud0c4\\uc0b0\\uce7c\\uc298 \\ub4f1\\uc744 \\uc0dd\\uc0b0\\ud55c\\ub2e4. \\ud55c\\uad6d\\uc758 \\ud3ec\\uc2a4\\ucf54 \\uc5ed\\uc2dc BHP\\uc5d0\\uc11c \\ub300\\ub7c9\\uc758 \\ucca0\\uad11\\uc11d\\uacfc \\uc11d\\ud0c4\\uc744 \\uacf5\\uae09\\ubc1b\\ub294\\ub2e4.\\uc9c0\\ub09c\\ud574(\\ud68c\\uacc4\\uc5f0\\ub3c4 \\uae30\\uc900\\u00b72022\\ub144 7\\uc6d4~2023\\ub144 6\\uc6d4) \\ub9e4\\ucd9c\\uc740 538\\uc5b52000\\ub9cc\\ub2ec\\ub7ec(\\uc57d 73\\uc8704600\\uc5b5\\uc6d0)\\uc5d0 \\ub2ec\\ud55c\\ub2e4. \\uc0ac\\uc0c1 \\ucd5c\\ub300 \\ub9e4\\ucd9c\\uc744 \\uae30\\ub85d\\ud55c \\ud55c\\uad6d \\ub300\\uae30\\uc5c5 LG\\uc804\\uc790\\uc640 \\uc5c7\\ube44\\uc2b7\\ud558\\ub2e4. LG\\uc804\\uc790\\uc758 \\uc791\\ub144 \\ub9e4\\ucd9c\\uc740 84\\uc8702278\\uc5b5\\uc6d0\\uc774\\uc5c8\\ub2e4. \\ub2e4\\ub9cc BHP\\uac00 2022\\ub144 \\uae30\\ub85d\\ud55c 651\\uc5b5\\ub2ec\\ub7ec(\\uc57d 88\\uc8708615\\uc5b5\\uc6d0)\\uc758 \\ub9e4\\ucd9c\\ubcf4\\ub2e4\\ub294 \\uc801\\ub2e4. BHP\\uc758 \\uc0ac\\uc0c1 \\ucd5c\\ub300 \\ub9e4\\ucd9c\\uc561\\uc740 2011\\ub144 \\uae30\\ub85d\\ud55c 704\\uc5b58000\\ub9cc\\ub2ec\\ub7ec(\\uc57d 96\\uc8702000\\uc5b5\\uc6d0)\\ub2e4.\\ub354\\uc6b1 \\ub208\\uc5d0 \\ub744\\ub294 \\uac83\\uc740 \\ub192\\uc740 \\uc601\\uc5c5\\uc774\\uc775\\ub960\\uc774\\ub2e4. \\uc9c0\\ub09c\\ud574 \\uc601\\uc5c5\\uc774\\uc775\\ub960 41.5%\\uc5d0 \\ud574\\ub2f9\\ud558\\ub294 223\\uc5b54000\\ub9cc\\ub2ec\\ub7ec(30\\uc8704900\\uc5b5\\uc6d0)\\uc758 \\uc601\\uc5c5\\uc774\\uc775\\uc744 \\ub0c8\\ub2e4. \\ucc38\\uace0\\ub85c \\uc9c0\\ub09c\\ud574 LG\\uc804\\uc790\\uc758 \\uc601\\uc5c5\\uc774\\uc775\\uc740 3\\uc8705491\\uc5b5\\uc6d0\\uc774\\uc5c8\\ub2e4. BHP\\ub294 \\ucf54\\ub85c\\ub09819 \\ud32c\\ub370\\ubbf9\\uc73c\\ub85c \\uc790\\uc6d0 \\uac00\\uaca9\\uc774 \\ud3ed\\ub4f1\\ud588\\ub358 2022\\ub144\\uc5d0\\ub294 \\uc601\\uc5c5\\uc774\\uc775\\uc774 341\\uc5b53000\\ub9cc\\ub2ec\\ub7ec(\\uc57d 46\\uc8706000\\uc5b5\\uc6d0)\\uc5d0 \\ub2ec\\ud588\\uace0, \\uadf8 \\uae30\\uac04\\uc5d0 \\ud55c \\uc8fc(\\ub274\\uc695 ADR=\\uc8fc\\uc2dd 2\\uc8fc)\\ub2f9 6.5\\ub2ec\\ub7ec\\uac00\\ub7c9\\uc744 \\uc8fc\\uc8fc\\ub4e4\\uc5d0\\uac8c \\ubc30\\ub2f9\\ud588\\ub2e4. \\uacfc\\uac70 \\uc11c\\uad6c \\uc5f4\\uac15\\ub4e4\\uc774 \\uc790\\uc6d0\\uc744 \\ub193\\uace0 \\uc804\\uc7c1\\ub3c4 \\ubd88\\uc0ac\\ud55c \\uc774\\uc720\\ub97c \\uc774\\ud574\\ud560 \\uc218 \\uc788\\ub294 \\ub300\\ubaa9\\uc774\\ub2e4.BHP\\ub294 1885\\ub144 \\ud638\\uc8fc \\ub274\\uc0ac\\uc6b0\\uc2a4\\uc6e8\\uc77c\\uc2a4\\uc8fc \\uc2e4\\ubc84\\ud134\\uc758 \\uc740\\u00b7\\uc544\\uc5f0 \\uad11\\uc0b0 \\ub9c8\\uc744\\uc5d0\\uc11c \\uc124\\ub9bd\\ub410\\ub2e4. BHP\\ub294 'Broken Hill Proprietary company'\\uc758 \\uc57d\\uc790\\ub2e4. \\ud55c\\ub54c \\uc11d\\uc720\\uc640 \\ucc9c\\uc5f0\\uac00\\uc2a4 \\uac1c\\ubc1c\\uc0ac\\uc5c5\\ub3c4 \\ud588\\uc73c\\ub098 2017~2018\\ub144 \\uc11d\\uc720\\uc640 \\uc170\\uc77c\\uac00\\uc2a4 \\uc790\\uc0b0\\uc744 BP\\uc5d0, \\ucc9c\\uc5f0\\uac00\\uc2a4\\uc804\\uc740 \\uba54\\ub9ac\\ud2b8\\uc5d0\\ub108\\uc9c0\\uc5d0 \\ub9e4\\uac01\\ud588\\ub2e4. 2001\\ub144 \\ub124\\ub35c\\ub780\\ub4dc\\uacc4 \\uad11\\uc0b0\\uae30\\uc5c5 \\ube4c\\ub9ac\\ud134\\uacfc \\ud569\\ubcd1\\ud574 \\ud55c\\ub54c BHP\\ube4c\\ub9ac\\ud134\\uc774\\ub77c\\uace0 \\ubd88\\ub838\\uace0, 2017\\ub144 \\ube4c\\ub9ac\\ud134 \\uc790\\uc0b0\\uc744 \\ub300\\uac70 \\ub9e4\\uac01\\ud558\\uba74\\uc11c \\ub2e4\\uc2dc BHP\\uac00 \\ub410\\ub2e4.\\uc774\\ud604\\uc77c \\uae30\\uc790 hiuneal@hankyung.com\",\n          \"\",\n          \"\\ubc15\\uc758\\ub798\\uae30\\uc790 \\uad6c\\ub3c5 \\uad6c\\ub3c5\\uc911 \\uc774\\uc804 \\ub2e4\\uc74c\\n\\n\\u82f1\\uc5c5\\uccb4 \\uc575\\uae00\\ub85c \\uc544\\uba54\\ub9ac\\uce78\\uc5d0 \\uc778\\uc218\\ud569\\ubcd1 \\uc81c\\uc548 \\u2026\\uc8fc\\uc8fc\\ub4e4\\uc5d0 53\\uc8704\\ucc9c\\uc5b5\\uc6d0 \\uc81c\\uc2dc \\uc81c\\uc548\\uc561\\ubcf4\\ub2e4 \\ub192\\uc740 \\uc2dc\\uc7a5\\uac00\\uce58\\u00b7\\ubc18\\ub3c5\\uc810 \\uc774\\uc288 \\ub4f1\\uc740 '\\ud569\\ubcd1 \\ub09c\\uad00'\\n\\n\\uc774\\ubbf8\\uc9c0 \\ud655\\ub300 \\ud638\\uc8fc BHP \\uadf8\\ub8f9 [\\ub85c\\uc774\\ud130 \\uc5f0\\ud569\\ub274\\uc2a4 \\uc790\\ub8cc\\uc0ac\\uc9c4]\\n\\n(\\uc790\\uce74\\ub974\\ud0c0=\\uc5f0\\ud569\\ub274\\uc2a4) \\ubc15\\uc758\\ub798 \\ud2b9\\ud30c\\uc6d0 = \\uc138\\uacc4 \\ucd5c\\ub300 \\uad11\\uc0b0 \\uae30\\uc5c5 BHP\\uac00 \\uacbd\\uc7c1\\uc0ac\\uc778 \\uc601\\uad6d \\uad11\\uc0b0\\uc5c5\\uccb4 \\uc575\\uae00\\ub85c \\uc544\\uba54\\ub9ac\\uce78\\uc5d0 \\uc778\\uc218 \\ud569\\ubcd1\\uc744 \\uc81c\\uc548\\ud588\\ub2e4\\uace0 \\ub85c\\uc774\\ud130\\u00b7AFP \\ud1b5\\uc2e0 \\ub4f1\\uc774 25\\uc77c(\\ud604\\uc9c0\\uc2dc\\uac04) \\ubcf4\\ub3c4\\ud588\\ub2e4.\\n\\n\\ud638\\uc8fc BHP \\uadf8\\ub8f9\\uc740 \\uc774\\ub0a0 \\uc131\\uba85\\uc744 \\ud1b5\\ud574 \\uc575\\uae00\\ub85c \\uc544\\uba54\\ub9ac\\uce78 \\uc8fc\\uc8fc\\ub4e4\\uc5d0\\uac8c \\uc778\\uc218 \\ud569\\ubcd1 \\uc870\\uac74\\uc73c\\ub85c \\uc8fc\\ub2f9 \\uc57d 25.08\\ud30c\\uc6b4\\ub4dc(\\uc57d 4\\ub9cc3\\ucc9c100\\uc6d0), \\ucd1d 311\\uc5b5\\ud30c\\uc6b4\\ub4dc(\\uc57d 53\\uc8704\\ucc9c\\uc5b5\\uc6d0)\\ub97c \\uc81c\\uc548\\ud588\\ub2e4\\uace0 \\ubc1d\\ud614\\ub2e4. \\uc774\\ub294 \\uc804\\ub0a0 \\uc885\\uac00(\\ub7f0\\ub358 \\uc8fc\\uc2dd\\uc2dc\\uc7a5 \\uae30\\uc900) \\ub300\\ube44 14% \\ub192\\uc740 \\uc218\\uc900\\uc774\\ub2e4.\\n\\n\\uc575\\uae00\\ub85c \\uc544\\uba54\\ub9ac\\uce78\\ub3c4 BHP\\ub85c\\ubd80\\ud130 \\uc778\\uc218 \\ud569\\ubcd1 \\uc81c\\uc548\\uc744 \\ubc1b\\uc558\\ub2e4\\uba70 \\uc774\\uc0ac\\ud68c\\uac00 \\uace0\\ubb38\\ub4e4\\uacfc \\ud568\\uaed8 \\uc81c\\uc548\\uc744 \\uac80\\ud1a0 \\uc911\\uc774\\ub77c\\uace0 \\ubc1d\\ud614\\ub2e4.\\n\\n\\uc774 \\uc18c\\uc2dd\\uc774 \\uc54c\\ub824\\uc9c0\\uba74\\uc11c \\uc774\\ub0a0 \\ub7f0\\ub358 \\uc8fc\\uc2dd\\uc2dc\\uc7a5\\uc5d0\\uc11c \\uc575\\uae00\\ub85c \\uc544\\uba54\\ub9ac\\uce78 \\uc8fc\\uac00\\ub294 12.7% \\uae09\\ub4f1\\ud588\\uc73c\\uba70 \\uc601\\uad6d FTSE100 \\uc9c0\\uc218\\ub3c4 \\uc7a5\\uc911 \\uc0ac\\uc0c1 \\ucd5c\\uace0\\uce58\\ub97c \\uacbd\\uc2e0\\ud588\\ub2e4.\\n\\n'\\ube45 \\uc624\\uc2a4\\ud2b8\\ub808\\uc77c\\ub9ac\\uc544'\\ub77c\\ub294 \\ubcc4\\uba85\\uc744 \\uac00\\uc9c4 BHP\\ub294 2001\\ub144 \\ud638\\uc8fc BHP\\uc640 \\uc601\\uad6d \\ube4c\\ub9ac\\ud134\\uc774 \\ud569\\ubcd1\\ud574 \\ud0c4\\uc0dd\\ud55c \\ud68c\\uc0ac\\ub85c \\uc2dc\\uac00 \\ucd1d\\uc561\\ub9cc 1\\ucc9c480\\uc5b5\\ub2ec\\ub7ec(\\uc57d 203\\uc8705\\ucc9c\\uc5b5\\uc6d0)\\uc778 \\uc138\\uacc4 \\ucd5c\\ub300 \\uad11\\uc0b0\\ud68c\\uc0ac\\ub2e4.\\n\\nBHP\\ub294 \\uac00\\uc2a4\\ub098 \\uc11d\\ud0c4 \\ub4f1 \\uae30\\uc874 \\uc5d0\\ub108\\uc9c0 \\uad00\\ub828 \\uc0ac\\uc5c5\\uc5d0\\uc11c \\ubc97\\uc5b4\\ub098 \\uc9c0\\ub09c \\uba87 \\ub144 \\uc0ac\\uc774\\uc5d0\\ub294 \\uad6c\\ub9ac\\ub098 \\ub2c8\\ucf08 \\ub4f1 \\uad11\\ubb3c \\ucc44\\uad74 \\uc0b0\\uc5c5\\uc5d0 \\uc9d1\\uc911\\ud558\\uace0 \\uc788\\ub2e4.\\n\\n\\n\\n\\uc774\\ubbf8\\uc9c0 \\ud655\\ub300 \\uce60\\ub808 \\uad6c\\ub9ac \\uad11\\uc0b0 \\uce60\\ub808 \\uc0b0\\ud2f0\\uc544\\uace0\\uc2dc \\uc778\\uadfc \\ub85c\\uc2a4 \\uc548\\ub370\\uc2a4\\uc0b0\\ub9e5\\uc5d0 \\uc788\\ub294 \\uc575\\uae00\\ub85c \\uc544\\uba54\\ub9ac\\uce78\\uc758 \\ub85c\\uc2a4 \\ube0c\\ub860\\uc138\\uc2a4 \\uad6c\\ub9ac \\uad11\\uc0b0.\\n\\n[\\ub85c\\uc774\\ud130 \\uc5f0\\ud569\\ub274\\uc2a4 \\uc790\\ub8cc\\uc0ac\\uc9c4]\\n\\nBHP\\uac00 \\uc575\\uae00\\ub85c \\uc544\\uba54\\ub9ac\\uce78 \\uc778\\uc218\\uc5d0 \\ub098\\uc120 \\uac83\\uc740 \\ud2b9\\ubcc4\\ud788 \\uad6c\\ub9ac \\uc0dd\\uc0b0\\ub7c9\\uc744 \\ub354 \\ub9ce\\uc774 \\ud655\\ubcf4\\ud558\\uae30 \\uc704\\ud55c \\uac83\\uc73c\\ub85c \\ud574\\uc11d\\ub41c\\ub2e4. BHP\\ub294 \\uc9c0\\ub09c\\ud574 5\\uc6d4\\uc5d0\\ub3c4 \\ud638\\uc8fc \\uad6c\\ub9ac \\uad11\\uc0b0\\uc5c5\\uccb4 \\uc624\\uc988 \\ubbf8\\ub124\\ub784\\uc744 60\\uc5b5\\ub2ec\\ub7ec(\\uc57d 8\\uc8702\\ucc9c500\\uc5b5\\uc6d0)\\uc5d0 \\uc778\\uc218\\ud588\\ub2e4.\\n\\n\\uc575\\uae00\\ub85c \\uc544\\uba54\\ub9ac\\uce78\\uc740 \\ub0a8\\ubbf8\\uc5d0 \\ub300\\uaddc\\ubaa8 \\uad6c\\ub9ac \\uad11\\uc0b0\\uc744 \\ubcf4\\uc720\\ud558\\uace0 \\uc788\\ub2e4. BHP\\ub294 \\uc575\\uae00\\ub85c \\uc544\\uba54\\ub9ac\\uce78 \\uc778\\uc218\\ub97c \\uc81c\\uc548\\ud558\\uba74\\uc11c \\ub0a8\\uc544\\ud504\\ub9ac\\uce74\\uacf5\\ud654\\uad6d\\uc5d0 \\uc788\\ub294 \\ubc31\\uae08\\uacfc \\ucca0\\uad11\\uc11d \\uad11\\uc0b0\\uc740 \\uc815\\ub9ac\\ud558\\ub294 \\uac83\\uc744 \\uc870\\uac74\\uc73c\\ub85c \\ub0b4\\uac74 \\uac83\\uc73c\\ub85c \\uc804\\ud574\\uc84c\\ub2e4.\\n\\n\\uad6c\\ub9ac\\ub294 \\uc804\\uae30\\uc790\\ub3d9\\ucc28, \\uc804\\ub825\\ub9dd, \\ud48d\\ub825 \\ud130\\ube48 \\uc81c\\uc870 \\ub4f1 \\uc5ec\\ub7ec \\uc0b0\\uc5c5\\uc5d0 \\ub450\\ub8e8 \\uc4f0\\uc774\\ub294 \\ud544\\uc218 \\uad11\\ubb3c\\ub85c \\uc5d0\\ub108\\uc9c0 \\uc804\\ud658 \\uc0dd\\ud0dc\\uacc4\\uc758 \\ud575\\uc2ec \\uae08\\uc18d\\uc73c\\ub85c \\uaf3d\\ud78c\\ub2e4.\\n\\n\\uc528\\ud2f0\\uc740\\ud589\\uc740 \\ucd5c\\uadfc \\ubcf4\\uace0\\uc11c\\uc5d0\\uc11c \\uad6c\\ub9ac \\uc218\\uc694\\uac00 2030\\ub144\\uae4c\\uc9c0 \\uc9c0\\uae08\\ubcf4\\ub2e4 420\\ub9cct \\ub298\\uc5b4\\ub0a0 \\uac83\\uc73c\\ub85c \\ubcf4\\uc778\\ub2e4\\uba70 \\uc62c\\ud574 \\ub9d0\\uc5d0\\ub294 \\uad6c\\ub9ac \\uac00\\uaca9\\uc774 1t\\uc5d0 1\\ub9cc\\ub2ec\\ub7ec\\ub97c \\ub118\\uc5b4\\uc124 \\uac83\\uc73c\\ub85c \\uc608\\uce21\\ud588\\ub2e4.\\n\\n\\uc774\\ub7f0 \\uc0c1\\ud669\\uc5d0\\uc11c \\uc5f0\\uac04 \\uc57d 120\\ub9cct\\uc758 \\uad6c\\ub9ac\\ub97c \\uc0dd\\uc0b0\\ud558\\ub294 BHP\\uc640 \\uc57d 83\\ub9cct\\uc744 \\uc0dd\\uc0b0\\ud558\\ub294 \\uc575\\uae00\\ub85c \\uc544\\uba54\\ub9ac\\uce78\\uc774 \\ud569\\ubcd1\\ud560 \\uacbd\\uc6b0 \\uc804 \\uc138\\uacc4 \\uc0dd\\uc0b0\\ub7c9\\uc758 10%\\ub97c \\ucc28\\uc9c0\\ud574 \\uc138\\uacc4 \\uad6c\\ub9ac \\uc2dc\\uc7a5\\uc5d0 \\uc9c0\\uac01\\ubcc0\\ub3d9\\uc744 \\uc77c\\uc73c\\ud0ac \\uac83\\uc73c\\ub85c \\uc804\\ubb38\\uac00\\ub4e4\\uc740 \\ub0b4\\ub2e4\\ubd24\\ub2e4.\\n\\n\\ud558\\uc9c0\\ub9cc \\ubbf8\\uad6d \\ud22c\\uc790\\uc740\\ud589 \\uc81c\\ud504\\ub9ac\\uc2a4\\uc758 \\uc6d0\\uc790\\uc7ac \\uc560\\ub110\\ub9ac\\uc2a4\\ud2b8 \\ud06c\\ub9ac\\uc2a4\\ud1a0\\ud37c \\ub77c\\ud398\\ubbf8\\ub098\\ub294 \\uc774\\ubc88 \\uc778\\uc218 \\ud569\\ubcd1\\uc5d0\\ub294 \\uc5ec\\ub7ec \\ub09c\\uad00\\uc774 \\uc788\\ub2e4\\uace0 \\ube14\\ub8f8\\ubc84\\uadf8\\uc5d0 \\ub9d0\\ud588\\ub2e4.\\n\\n\\uadf8\\ub294 \\uc6b0\\uc120 \\uc575\\uae00\\ub85c \\uc544\\uba54\\ub9ac\\uce78\\uc758 \\uc2dc\\uc7a5\\uac00\\uce58\\ub294 BHP\\uac00 \\uc81c\\uc548\\ud55c \\uae08\\uc561\\ubcf4\\ub2e4 \\ub192\\uc740 426\\uc5b5\\ub2ec\\ub7ec(\\uc57d 58\\uc8706\\ucc9c\\uc5b5\\uc6d0)\\ub85c \\ucd94\\uc815\\ub3fc \\ub2e4\\ub978 \\uad11\\uc0b0\\ud68c\\uc0ac\\ub4e4\\uc774 \\uc785\\ucc30 \\uacbd\\uc7c1\\uc5d0 \\ub6f0\\uc5b4\\ub4e4 \\uac83\\uc73c\\ub85c \\uc608\\uc0c1\\ud588\\ub2e4. BHP\\uac00 \\uc575\\uae00\\ub85c \\uc544\\uba54\\ub9ac\\uce78\\uc744 \\uc778\\uc218\\ud558\\ub824\\uba74 \\ud604\\uc7ac \\uc81c\\uc548\\ud55c \\uae08\\uc561\\ubcf4\\ub2e4 \\ub354 \\ub9ce\\uc740 \\ub3c8\\uc744 \\ud22c\\uc790\\ud574\\uc57c \\ud55c\\ub2e4\\uace0 \\ubcf8 \\uac83\\uc774\\ub2e4.\\n\\n\\ub610 \\ud569\\ubcd1 \\ud68c\\uc0ac\\uc758 \\uad6c\\ub9ac \\uc0dd\\uc0b0 \\uc810\\uc720\\uc728\\uc774 10%\\uc5d0 \\uc774\\ub974\\uba74 \\uad6c\\ub9ac \\uc2dc\\uc7a5\\uc5d0\\uc11c BHP\\uc758 \\uc601\\ud5a5\\ub825\\uc774 \\ub108\\ubb34 \\ucee4\\uc838 \\uc8fc\\uc694\\uad6d\\uc758 \\ubc18\\ub3c5\\uc810 \\ub2f9\\uad6d\\uc774 \\ud569\\ubcd1\\uc744 \\ub9c9\\uc744 \\uac83\\uc73c\\ub85c \\uc804\\ub9dd\\ud588\\ub2e4.\\n\\n\\ub77c\\ud398\\ubbf8\\ub098\\ub294 \\uc804 \\uc138\\uacc4 \\ub9ce\\uc740 \\uad6d\\uac00\\uac00 \\uad6c\\ub9ac\\ub97c \\uc804\\ub7b5 \\uad11\\ubb3c\\ub85c \\uac04\\uc8fc\\ud558\\uace0 \\uc788\\ub2e4\\uba70 \\\"\\ubc18\\ub3c5\\uc810 \\uc774\\uc288\\uac00 \\uc774\\ubc88 \\uac70\\ub798\\uc5d0\\uc11c \\ubb38\\uc81c\\uac00 \\ub420 \\uc218 \\uc788\\ub2e4\\\"\\uace0 \\ub9d0\\ud588\\ub2e4.\\n\\n\\uc774\\ubbf8\\uc9c0 \\ud655\\ub300 \\uc601\\uad6d \\uad11\\uc0b0\\ud68c\\uc0ac \\uc575\\uae00\\ub85c \\uc544\\uba54\\ub9ac\\uce78 \\ub85c\\uace0 [\\ub85c\\uc774\\ud130 \\uc5f0\\ud569\\ub274\\uc2a4 \\uc790\\ub8cc\\uc0ac\\uc9c4]\\n\\nlaecorp@yna.co.kr\\n\\n\\n\\n\\uc81c\\ubcf4\\ub294 \\uce74\\uce74\\uc624\\ud1a1 okjebo <\\uc800\\uc791\\uad8c\\uc790(c) \\uc5f0\\ud569\\ub274\\uc2a4, \\ubb34\\ub2e8 \\uc804\\uc7ac-\\uc7ac\\ubc30\\ud3ec, AI \\ud559\\uc2b5 \\ubc0f \\ud65c\\uc6a9 \\uae08\\uc9c0>\"\n        ],\n        \"semantic_type\": \"\",\n        \"description\": \"\"\n      }\n    },\n    {\n      \"column\": \"Summary\",\n      \"properties\": {\n        \"dtype\": \"string\",\n        \"num_unique_values\": 8,\n        \"samples\": [\n          \"\\uadf8\\ub807\\uc9c0\\ub9cc \\ubbf8\\uad6d, \\uce90\\ub098\\ub2e4, \\ud638\\uc8fc \\ub4f1 \\uc790\\uc6d0 \\ubd80\\uad6d\\uc5d0\\ub294 \\ub545\\uc744 \\ud30c\\uc11c \\ub9c9\\ub300\\ud55c \\uc218\\uc775\\uc744 \\ub0b4\\ub294 \\uae30\\uc5c5\\uc774 \\uc801\\uc9c0 \\uc54a\\ub2e4.\\n\\uadf8\\ub7ec\\ub098 BHP\\ub294 \\uc9c0\\ub09c\\ud574 5\\uc6d4\\uc5d0\\ub3c4 \\ud638\\uc8fc \\uad6c\\ub9ac \\uad11\\uc0b0\\uc5c5\\uccb4 \\uc624\\uc988\\ubbf8\\ub124\\ub784\\uc744 60\\uc5b5\\ub2ec\\ub7ec(\\uc57d 8\\uc8702500\\uc5b5 \\uc6d0)\\uc5d0 \\uc778\\uc218\\ud558\\ub294 \\ub4f1 \\uad6c\\ub9ac \\uad11\\uc0b0 \\ud655\\ubcf4\\uc5d0 \\uc0ac\\ud65c\\uc744 \\uac78\\uace0 \\uc788\\ub2e4.\\n\\ub2e4\\ub9cc BHP\\uac00 2022\\ub144 \\uae30\\ub85d\\ud55c 651\\uc5b5\\ub2ec\\ub7ec(\\uc57d 88\\uc8708615\\uc5b5\\uc6d0)\\uc758 \\ub9e4\\ucd9c\\ubcf4\\ub2e4\\ub294 \\uc801\\ub2e4.\\nBHP\\ub294 \\ucf54\\ub85c\\ub09819 \\ud32c\\ub370\\ubbf9\\uc73c\\ub85c \\uc790\\uc6d0 \\uac00\\uaca9\\uc774 \\ud3ed\\ub4f1\\ud588\\ub358 2022\\ub144\\uc5d0\\ub294 \\uc601\\uc5c5\\uc774\\uc775\\uc774 341\\uc5b53000\\ub9cc\\ub2ec\\ub7ec(\\uc57d 46\\uc8706000\\uc5b5\\uc6d0)\\uc5d0 \\ub2ec\\ud588\\uace0, \\uadf8 \\uae30\\uac04\\uc5d0 \\ud55c \\uc8fc(\\ub274\\uc695 ADR=\\uc8fc\\uc2dd 2\\uc8fc)\\ub2f9 6.5\\ub2ec\\ub7ec\\uac00\\ub7c9\\uc744 \\uc8fc\\uc8fc\\ub4e4\\uc5d0\\uac8c \\ubc30\\ub2f9\\ud588\\ub2e4.\\n\\uacfc\\uac70 \\uc11c\\uad6c \\uc5f4\\uac15\\ub4e4\\uc774 \\uc790\\uc6d0\\uc744 \\ub193\\uace0 \\uc804\\uc7c1\\ub3c4 \\ubd88\\uc0ac\\ud55c \\uc774\\uc720\\ub97c \\uc774\\ud574\\ud560 \\uc218 \\uc788\\ub294 \\ub300\\ubaa9\\uc774\\ub2e4.BHP\\ub294 1885\\ub144 \\ud638\\uc8fc \\ub274\\uc0ac\\uc6b0\\uc2a4\\uc6e8\\uc77c\\uc2a4\\uc8fc \\uc2e4\\ubc84\\ud134\\uc758 \\uc740\\u00b7\\uc544\\uc5f0 \\uad11\\uc0b0 \\ub9c8\\uc744\\uc5d0\\uc11c \\uc124\\ub9bd\\ub410\\ub2e4.\",\n          \"\",\n          \"\\ud638\\uc8fc BHP \\uadf8\\ub8f9\\uc740 \\uc774\\ub0a0 \\uc131\\uba85\\uc744 \\ud1b5\\ud574 \\uc575\\uae00\\ub85c \\uc544\\uba54\\ub9ac\\uce78 \\uc8fc\\uc8fc\\ub4e4\\uc5d0\\uac8c \\uc778\\uc218 \\ud569\\ubcd1 \\uc870\\uac74\\uc73c\\ub85c \\uc8fc\\ub2f9 \\uc57d 25.08\\ud30c\\uc6b4\\ub4dc(\\uc57d 4\\ub9cc3\\ucc9c100\\uc6d0), \\ucd1d 311\\uc5b5\\ud30c\\uc6b4\\ub4dc(\\uc57d 53\\uc8704\\ucc9c\\uc5b5\\uc6d0)\\ub97c \\uc81c\\uc548\\ud588\\ub2e4\\uace0 \\ubc1d\\ud614\\ub2e4.\\n\\uc575\\uae00\\ub85c \\uc544\\uba54\\ub9ac\\uce78\\ub3c4 BHP\\ub85c\\ubd80\\ud130 \\uc778\\uc218 \\ud569\\ubcd1 \\uc81c\\uc548\\uc744 \\ubc1b\\uc558\\ub2e4\\uba70 \\uc774\\uc0ac\\ud68c\\uac00 \\uace0\\ubb38\\ub4e4\\uacfc \\ud568\\uaed8 \\uc81c\\uc548\\uc744 \\uac80\\ud1a0 \\uc911\\uc774\\ub77c\\uace0 \\ubc1d\\ud614\\ub2e4.\\n\\uc774 \\uc18c\\uc2dd\\uc774 \\uc54c\\ub824\\uc9c0\\uba74\\uc11c \\uc774\\ub0a0 \\ub7f0\\ub358 \\uc8fc\\uc2dd\\uc2dc\\uc7a5\\uc5d0\\uc11c \\uc575\\uae00\\ub85c \\uc544\\uba54\\ub9ac\\uce78 \\uc8fc\\uac00\\ub294 12.7% \\uae09\\ub4f1\\ud588\\uc73c\\uba70 \\uc601\\uad6d FTSE100 \\uc9c0\\uc218\\ub3c4 \\uc7a5\\uc911 \\uc0ac\\uc0c1 \\ucd5c\\uace0\\uce58\\ub97c \\uacbd\\uc2e0\\ud588\\ub2e4.\\nBHP\\ub294 \\uc575\\uae00\\ub85c \\uc544\\uba54\\ub9ac\\uce78 \\uc778\\uc218\\ub97c \\uc81c\\uc548\\ud558\\uba74\\uc11c \\ub0a8\\uc544\\ud504\\ub9ac\\uce74\\uacf5\\ud654\\uad6d\\uc5d0 \\uc788\\ub294 \\ubc31\\uae08\\uacfc \\ucca0\\uad11\\uc11d \\uad11\\uc0b0\\uc740 \\uc815\\ub9ac\\ud558\\ub294 \\uac83\\uc744 \\uc870\\uac74\\uc73c\\ub85c \\ub0b4\\uac74 \\uac83\\uc73c\\ub85c \\uc804\\ud574\\uc84c\\ub2e4.\\n\\uc774\\ubbf8\\uc9c0 \\ud655\\ub300 \\uc601\\uad6d \\uad11\\uc0b0\\ud68c\\uc0ac \\uc575\\uae00\\ub85c \\uc544\\uba54\\ub9ac\\uce78 \\ub85c\\uace0 [\\ub85c\\uc774\\ud130 \\uc5f0\\ud569\\ub274\\uc2a4 \\uc790\\ub8cc\\uc0ac\\uc9c4]laecorp@yna.co.kr\\uc81c\\ubcf4\\ub294 \\uce74\\uce74\\uc624\\ud1a1 okjebo <\\uc800\\uc791\\uad8c\\uc790(c) \\uc5f0\\ud569\\ub274\\uc2a4, \\ubb34\\ub2e8 \\uc804\\uc7ac-\\uc7ac\\ubc30\\ud3ec, AI \\ud559\\uc2b5 \\ubc0f \\ud65c\\uc6a9 \\uae08\\uc9c0>\"\n        ],\n        \"semantic_type\": \"\",\n        \"description\": \"\"\n      }\n    }\n  ]\n}"
            }
          },
          "metadata": {},
          "execution_count": 186
        }
      ],
      "source": [
        "from newspaper import Config\n",
        "import nltk\n",
        "nltk.download('punkt_tab')\n",
        "\n",
        "user_agent = 'Mozilla/5.0 (Macintosh; Intel Mac OS X 10_11_5) AppleWebKit/537.36 (KHTML, like Gecko) Chrome/50.0.2661.102 Safari/537.36'\n",
        "config = Config()\n",
        "config.browser_user_agent = user_agent\n",
        "config.request_timeout = 3\n",
        "#config.http_success_only = False\n",
        "\n",
        "list=[]\n",
        "for ind in df.index[:]:\n",
        "    dict={}\n",
        "    news_url = df['link'][ind].split('&')[0]\n",
        "    try:\n",
        "        article = Article(news_url, config=config)\n",
        "        #response = requests.get(news_url, verify=False)\n",
        "        #article.download(input_html=response.text)\n",
        "        article.download()\n",
        "        article.parse()\n",
        "        article.nlp()\n",
        "        dict['Date']=df['date'][ind]\n",
        "        dict['Media']=df['media'][ind]\n",
        "        dict['Title']=article.title\n",
        "        dict['Article']=article.text\n",
        "        dict['Summary']=article.summary\n",
        "        list.append(dict)\n",
        "    except: # ssl error\n",
        "        print(ind)\n",
        "        pass\n",
        "        '''\n",
        "        driver.get(news_url)\n",
        "        article.download(input_html=driver.page_source)\n",
        "        article.parse()\n",
        "        article.nlp()\n",
        "        dict['Date']=df['date'][ind]\n",
        "        dict['Media']=df['media'][ind]\n",
        "        dict['Title']=article.title\n",
        "        dict['Article']=article.text\n",
        "        dict['Summary']=article.summary\n",
        "        list.append(dict)\n",
        "        '''\n",
        "\n",
        "news_df=pd.DataFrame(list)\n",
        "#news_df.to_excel(\"articles.xlsx\")\n",
        "\n",
        "news_df"
      ]
    },
    {
      "cell_type": "code",
      "execution_count": 187,
      "metadata": {
        "id": "l2EkcD21I_Cc",
        "outputId": "cb252bbd-9239-497e-a12a-8b49d5bd6b48",
        "colab": {
          "base_uri": "https://localhost:8080/"
        }
      },
      "outputs": [
        {
          "output_type": "execute_result",
          "data": {
            "text/plain": [
              "('박의래기자 구독 구독중 이전 다음\\n\\n英업체 앵글로 아메리칸에 인수합병 제안 …주주들에 53조4천억원 제시 제안액보다 높은 시장가치·반독점 이슈 등은 \\'합병 난관\\'\\n\\n이미지 확대 호주 BHP 그룹 [로이터 연합뉴스 자료사진]\\n\\n(자카르타=연합뉴스) 박의래 특파원 = 세계 최대 광산 기업 BHP가 경쟁사인 영국 광산업체 앵글로 아메리칸에 인수 합병을 제안했다고 로이터·AFP 통신 등이 25일(현지시간) 보도했다.\\n\\n호주 BHP 그룹은 이날 성명을 통해 앵글로 아메리칸 주주들에게 인수 합병 조건으로 주당 약 25.08파운드(약 4만3천100원), 총 311억파운드(약 53조4천억원)를 제안했다고 밝혔다. 이는 전날 종가(런던 주식시장 기준) 대비 14% 높은 수준이다.\\n\\n앵글로 아메리칸도 BHP로부터 인수 합병 제안을 받았다며 이사회가 고문들과 함께 제안을 검토 중이라고 밝혔다.\\n\\n이 소식이 알려지면서 이날 런던 주식시장에서 앵글로 아메리칸 주가는 12.7% 급등했으며 영국 FTSE100 지수도 장중 사상 최고치를 경신했다.\\n\\n\\'빅 오스트레일리아\\'라는 별명을 가진 BHP는 2001년 호주 BHP와 영국 빌리턴이 합병해 탄생한 회사로 시가 총액만 1천480억달러(약 203조5천억원)인 세계 최대 광산회사다.\\n\\nBHP는 가스나 석탄 등 기존 에너지 관련 사업에서 벗어나 지난 몇 년 사이에는 구리나 니켈 등 광물 채굴 산업에 집중하고 있다.\\n\\n\\n\\n이미지 확대 칠레 구리 광산 칠레 산티아고시 인근 로스 안데스산맥에 있는 앵글로 아메리칸의 로스 브론세스 구리 광산.\\n\\n[로이터 연합뉴스 자료사진]\\n\\nBHP가 앵글로 아메리칸 인수에 나선 것은 특별히 구리 생산량을 더 많이 확보하기 위한 것으로 해석된다. BHP는 지난해 5월에도 호주 구리 광산업체 오즈 미네랄을 60억달러(약 8조2천500억원)에 인수했다.\\n\\n앵글로 아메리칸은 남미에 대규모 구리 광산을 보유하고 있다. BHP는 앵글로 아메리칸 인수를 제안하면서 남아프리카공화국에 있는 백금과 철광석 광산은 정리하는 것을 조건으로 내건 것으로 전해졌다.\\n\\n구리는 전기자동차, 전력망, 풍력 터빈 제조 등 여러 산업에 두루 쓰이는 필수 광물로 에너지 전환 생태계의 핵심 금속으로 꼽힌다.\\n\\n씨티은행은 최근 보고서에서 구리 수요가 2030년까지 지금보다 420만t 늘어날 것으로 보인다며 올해 말에는 구리 가격이 1t에 1만달러를 넘어설 것으로 예측했다.\\n\\n이런 상황에서 연간 약 120만t의 구리를 생산하는 BHP와 약 83만t을 생산하는 앵글로 아메리칸이 합병할 경우 전 세계 생산량의 10%를 차지해 세계 구리 시장에 지각변동을 일으킬 것으로 전문가들은 내다봤다.\\n\\n하지만 미국 투자은행 제프리스의 원자재 애널리스트 크리스토퍼 라페미나는 이번 인수 합병에는 여러 난관이 있다고 블룸버그에 말했다.\\n\\n그는 우선 앵글로 아메리칸의 시장가치는 BHP가 제안한 금액보다 높은 426억달러(약 58조6천억원)로 추정돼 다른 광산회사들이 입찰 경쟁에 뛰어들 것으로 예상했다. BHP가 앵글로 아메리칸을 인수하려면 현재 제안한 금액보다 더 많은 돈을 투자해야 한다고 본 것이다.\\n\\n또 합병 회사의 구리 생산 점유율이 10%에 이르면 구리 시장에서 BHP의 영향력이 너무 커져 주요국의 반독점 당국이 합병을 막을 것으로 전망했다.\\n\\n라페미나는 전 세계 많은 국가가 구리를 전략 광물로 간주하고 있다며 \"반독점 이슈가 이번 거래에서 문제가 될 수 있다\"고 말했다.\\n\\n이미지 확대 영국 광산회사 앵글로 아메리칸 로고 [로이터 연합뉴스 자료사진]\\n\\nlaecorp@yna.co.kr\\n\\n\\n\\n제보는 카카오톡 okjebo <저작권자(c) 연합뉴스, 무단 전재-재배포, AI 학습 및 활용 금지>',\n",
              " '호주 BHP 그룹은 이날 성명을 통해 앵글로 아메리칸 주주들에게 인수 합병 조건으로 주당 약 25.08파운드(약 4만3천100원), 총 311억파운드(약 53조4천억원)를 제안했다고 밝혔다.\\n앵글로 아메리칸도 BHP로부터 인수 합병 제안을 받았다며 이사회가 고문들과 함께 제안을 검토 중이라고 밝혔다.\\n이 소식이 알려지면서 이날 런던 주식시장에서 앵글로 아메리칸 주가는 12.7% 급등했으며 영국 FTSE100 지수도 장중 사상 최고치를 경신했다.\\nBHP는 앵글로 아메리칸 인수를 제안하면서 남아프리카공화국에 있는 백금과 철광석 광산은 정리하는 것을 조건으로 내건 것으로 전해졌다.\\n이미지 확대 영국 광산회사 앵글로 아메리칸 로고 [로이터 연합뉴스 자료사진]laecorp@yna.co.kr제보는 카카오톡 okjebo <저작권자(c) 연합뉴스, 무단 전재-재배포, AI 학습 및 활용 금지>')"
            ]
          },
          "metadata": {},
          "execution_count": 187
        }
      ],
      "source": [
        "#driver.quit()\n",
        "\n",
        "news_df['Article'][0], news_df['Summary'][0]"
      ]
    },
    {
      "cell_type": "code",
      "execution_count": null,
      "metadata": {
        "id": "TIHA01-oI_Cd",
        "outputId": "892f43b1-0041-4aef-8240-40674f4f9bbc"
      },
      "outputs": [
        {
          "data": {
            "text/html": [
              "<div>\n",
              "<style scoped>\n",
              "    .dataframe tbody tr th:only-of-type {\n",
              "        vertical-align: middle;\n",
              "    }\n",
              "\n",
              "    .dataframe tbody tr th {\n",
              "        vertical-align: top;\n",
              "    }\n",
              "\n",
              "    .dataframe thead th {\n",
              "        text-align: right;\n",
              "    }\n",
              "</style>\n",
              "<table border=\"1\" class=\"dataframe\">\n",
              "  <thead>\n",
              "    <tr style=\"text-align: right;\">\n",
              "      <th></th>\n",
              "      <th>title</th>\n",
              "      <th>media</th>\n",
              "      <th>date</th>\n",
              "      <th>datetime</th>\n",
              "      <th>desc</th>\n",
              "      <th>link</th>\n",
              "      <th>img</th>\n",
              "    </tr>\n",
              "  </thead>\n",
              "  <tbody>\n",
              "    <tr>\n",
              "      <th>0</th>\n",
              "      <td>2025 MG Comet EV launched at Rs 4.99 lakh</td>\n",
              "      <td>Team-BHP</td>\n",
              "      <td>2 hours ago</td>\n",
              "      <td>2025-03-20 07:41:20.141401</td>\n",
              "      <td>The Comet EV now gets new features such as a r...</td>\n",
              "      <td>https://www.team-bhp.com/news/2025-mg-comet-ev...</td>\n",
              "      <td>data:image/gif;base64,R0lGODlhAQABAIAAAP//////...</td>\n",
              "    </tr>\n",
              "    <tr>\n",
              "      <th>1</th>\n",
              "      <td>Tobias Wagner and his electric trucking adventure</td>\n",
              "      <td>Team-BHP</td>\n",
              "      <td>3 hours ago</td>\n",
              "      <td>2025-03-20 06:41:20.143400</td>\n",
              "      <td>I have been following the youtube channel of T...</td>\n",
              "      <td>https://www.team-bhp.com/forum/electric-cars/2...</td>\n",
              "      <td>data:image/gif;base64,R0lGODlhAQABAIAAAP//////...</td>\n",
              "    </tr>\n",
              "    <tr>\n",
              "      <th>2</th>\n",
              "      <td>Ducati Scrambler Icon Dark launched at Rs 9.97...</td>\n",
              "      <td>Team-BHP</td>\n",
              "      <td>4 hours ago</td>\n",
              "      <td>2025-03-20 05:41:20.144400</td>\n",
              "      <td>Ducati has launched the Scrambler Icon Dark in...</td>\n",
              "      <td>https://www.team-bhp.com/news/ducati-scrambler...</td>\n",
              "      <td>data:image/gif;base64,R0lGODlhAQABAIAAAP//////...</td>\n",
              "    </tr>\n",
              "    <tr>\n",
              "      <th>3</th>\n",
              "      <td>Maruti Suzuki Tour S based on new-gen Dzire la...</td>\n",
              "      <td>Team-BHP</td>\n",
              "      <td>4 hours ago</td>\n",
              "      <td>2025-03-20 05:41:20.145401</td>\n",
              "      <td>The Tour S is priced at Rs 6.79 lakh for the p...</td>\n",
              "      <td>https://www.team-bhp.com/news/maruti-suzuki-to...</td>\n",
              "      <td>data:image/gif;base64,R0lGODlhAQABAIAAAP//////...</td>\n",
              "    </tr>\n",
              "    <tr>\n",
              "      <th>4</th>\n",
              "      <td>Ultraviolette Tesseract surpasses 50,000 bookings</td>\n",
              "      <td>Team-BHP</td>\n",
              "      <td>7 hours ago</td>\n",
              "      <td>2025-03-20 02:41:20.146400</td>\n",
              "      <td>The Tesseract comes with three battery options...</td>\n",
              "      <td>https://www.team-bhp.com/news/ultraviolette-te...</td>\n",
              "      <td>data:image/gif;base64,R0lGODlhAQABAIAAAP//////...</td>\n",
              "    </tr>\n",
              "    <tr>\n",
              "      <th>...</th>\n",
              "      <td>...</td>\n",
              "      <td>...</td>\n",
              "      <td>...</td>\n",
              "      <td>...</td>\n",
              "      <td>...</td>\n",
              "      <td>...</td>\n",
              "      <td>...</td>\n",
              "    </tr>\n",
              "    <tr>\n",
              "      <th>175</th>\n",
              "      <td>TVS Apache RTX 300 ADV design patent filed in ...</td>\n",
              "      <td>Team-BHP</td>\n",
              "      <td>2 days ago</td>\n",
              "      <td>2025-03-18 09:44:52.985809</td>\n",
              "      <td>The patent image reveals a road-biased ADV tha...</td>\n",
              "      <td>https://www.team-bhp.com/news/tvs-apache-rtx-3...</td>\n",
              "      <td>data:image/gif;base64,R0lGODlhAQABAIAAAP//////...</td>\n",
              "    </tr>\n",
              "    <tr>\n",
              "      <th>176</th>\n",
              "      <td>8 mid-size bikes in India</td>\n",
              "      <td>India Today</td>\n",
              "      <td>2 days ago</td>\n",
              "      <td>2025-03-18 09:44:52.992763</td>\n",
              "      <td>The Royal Enfield Hunter 350 is powered by a 3...</td>\n",
              "      <td>https://www.indiatoday.in/visualstories/auto/8...</td>\n",
              "      <td>data:image/gif;base64,R0lGODlhAQABAIAAAP//////...</td>\n",
              "    </tr>\n",
              "    <tr>\n",
              "      <th>177</th>\n",
              "      <td>Limited edition Jeep Compass Sandstorm launche...</td>\n",
              "      <td>Team-BHP</td>\n",
              "      <td>2 days ago</td>\n",
              "      <td>2025-03-18 09:44:52.999803</td>\n",
              "      <td>Jeep has launched the Compass Sandstorm Editio...</td>\n",
              "      <td>https://www.team-bhp.com/news/limited-edition-...</td>\n",
              "      <td>data:image/gif;base64,R0lGODlhAQABAIAAAP//////...</td>\n",
              "    </tr>\n",
              "    <tr>\n",
              "      <th>178</th>\n",
              "      <td>Skoda Auto VW India achieves 5 lakh engine pro...</td>\n",
              "      <td>Team-BHP</td>\n",
              "      <td>2 days ago</td>\n",
              "      <td>2025-03-18 09:44:53.005811</td>\n",
              "      <td>Skoda Auto VW India has achieved a new product...</td>\n",
              "      <td>https://www.team-bhp.com/news/skoda-auto-vw-in...</td>\n",
              "      <td>data:image/gif;base64,R0lGODlhAQABAIAAAP//////...</td>\n",
              "    </tr>\n",
              "    <tr>\n",
              "      <th>179</th>\n",
              "      <td>Atria Investments Inc Has $376,000 Stake in BH...</td>\n",
              "      <td>Defense World</td>\n",
              "      <td>2 days ago</td>\n",
              "      <td>2025-03-18 09:44:53.012763</td>\n",
              "      <td>Read Atria Investments Inc Has $376000 Stake i...</td>\n",
              "      <td>https://www.defenseworld.net/2025/03/17/atria-...</td>\n",
              "      <td>data:image/gif;base64,R0lGODlhAQABAIAAAP//////...</td>\n",
              "    </tr>\n",
              "  </tbody>\n",
              "</table>\n",
              "<p>180 rows × 7 columns</p>\n",
              "</div>"
            ],
            "text/plain": [
              "                                                 title          media  \\\n",
              "0            2025 MG Comet EV launched at Rs 4.99 lakh       Team-BHP   \n",
              "1    Tobias Wagner and his electric trucking adventure       Team-BHP   \n",
              "2    Ducati Scrambler Icon Dark launched at Rs 9.97...       Team-BHP   \n",
              "3    Maruti Suzuki Tour S based on new-gen Dzire la...       Team-BHP   \n",
              "4    Ultraviolette Tesseract surpasses 50,000 bookings       Team-BHP   \n",
              "..                                                 ...            ...   \n",
              "175  TVS Apache RTX 300 ADV design patent filed in ...       Team-BHP   \n",
              "176                          8 mid-size bikes in India    India Today   \n",
              "177  Limited edition Jeep Compass Sandstorm launche...       Team-BHP   \n",
              "178  Skoda Auto VW India achieves 5 lakh engine pro...       Team-BHP   \n",
              "179  Atria Investments Inc Has $376,000 Stake in BH...  Defense World   \n",
              "\n",
              "            date                   datetime  \\\n",
              "0    2 hours ago 2025-03-20 07:41:20.141401   \n",
              "1    3 hours ago 2025-03-20 06:41:20.143400   \n",
              "2    4 hours ago 2025-03-20 05:41:20.144400   \n",
              "3    4 hours ago 2025-03-20 05:41:20.145401   \n",
              "4    7 hours ago 2025-03-20 02:41:20.146400   \n",
              "..           ...                        ...   \n",
              "175   2 days ago 2025-03-18 09:44:52.985809   \n",
              "176   2 days ago 2025-03-18 09:44:52.992763   \n",
              "177   2 days ago 2025-03-18 09:44:52.999803   \n",
              "178   2 days ago 2025-03-18 09:44:53.005811   \n",
              "179   2 days ago 2025-03-18 09:44:53.012763   \n",
              "\n",
              "                                                  desc  \\\n",
              "0    The Comet EV now gets new features such as a r...   \n",
              "1    I have been following the youtube channel of T...   \n",
              "2    Ducati has launched the Scrambler Icon Dark in...   \n",
              "3    The Tour S is priced at Rs 6.79 lakh for the p...   \n",
              "4    The Tesseract comes with three battery options...   \n",
              "..                                                 ...   \n",
              "175  The patent image reveals a road-biased ADV tha...   \n",
              "176  The Royal Enfield Hunter 350 is powered by a 3...   \n",
              "177  Jeep has launched the Compass Sandstorm Editio...   \n",
              "178  Skoda Auto VW India has achieved a new product...   \n",
              "179  Read Atria Investments Inc Has $376000 Stake i...   \n",
              "\n",
              "                                                  link  \\\n",
              "0    https://www.team-bhp.com/news/2025-mg-comet-ev...   \n",
              "1    https://www.team-bhp.com/forum/electric-cars/2...   \n",
              "2    https://www.team-bhp.com/news/ducati-scrambler...   \n",
              "3    https://www.team-bhp.com/news/maruti-suzuki-to...   \n",
              "4    https://www.team-bhp.com/news/ultraviolette-te...   \n",
              "..                                                 ...   \n",
              "175  https://www.team-bhp.com/news/tvs-apache-rtx-3...   \n",
              "176  https://www.indiatoday.in/visualstories/auto/8...   \n",
              "177  https://www.team-bhp.com/news/limited-edition-...   \n",
              "178  https://www.team-bhp.com/news/skoda-auto-vw-in...   \n",
              "179  https://www.defenseworld.net/2025/03/17/atria-...   \n",
              "\n",
              "                                                   img  \n",
              "0    data:image/gif;base64,R0lGODlhAQABAIAAAP//////...  \n",
              "1    data:image/gif;base64,R0lGODlhAQABAIAAAP//////...  \n",
              "2    data:image/gif;base64,R0lGODlhAQABAIAAAP//////...  \n",
              "3    data:image/gif;base64,R0lGODlhAQABAIAAAP//////...  \n",
              "4    data:image/gif;base64,R0lGODlhAQABAIAAAP//////...  \n",
              "..                                                 ...  \n",
              "175  data:image/gif;base64,R0lGODlhAQABAIAAAP//////...  \n",
              "176  data:image/gif;base64,R0lGODlhAQABAIAAAP//////...  \n",
              "177  data:image/gif;base64,R0lGODlhAQABAIAAAP//////...  \n",
              "178  data:image/gif;base64,R0lGODlhAQABAIAAAP//////...  \n",
              "179  data:image/gif;base64,R0lGODlhAQABAIAAAP//////...  \n",
              "\n",
              "[180 rows x 7 columns]"
            ]
          },
          "execution_count": 19,
          "metadata": {},
          "output_type": "execute_result"
        }
      ],
      "source": [
        "# Initial list of results - it will contain a list of dictionaries (dict).\n",
        "results = []\n",
        "\n",
        "# Contains the final results = news filtered by the criteria\n",
        "# (news that in their description contains the search term).\n",
        "final_results = []\n",
        "\n",
        "# Get first 4 pages with the results and append those results to the list - you can set any other range according to  your needs:\n",
        "for page in range(1,4):\n",
        "  googlenews.getpage(page) # Consider add an timer for avoid multiple calls and get \"HTTP Error 429: Too Many Requests\" error.\n",
        "  results.extend(googlenews.result())\n",
        "\n",
        "# Remove duplicates and include to the \"final_results\" list\n",
        "# only the news that includes in their description the search term:\n",
        "for item in results:\n",
        "  if (item not in final_results and (search_term in item[\"desc\"])):\n",
        "    final_results.append(item)\n",
        "\n",
        "# Build and show the final dataframe:\n",
        "df=pd.DataFrame(results)\n",
        "df"
      ]
    },
    {
      "cell_type": "markdown",
      "metadata": {
        "id": "iJRNMZ4JI_Cd"
      },
      "source": [
        "##### melon with BeautifulSoup"
      ]
    },
    {
      "cell_type": "code",
      "execution_count": null,
      "metadata": {
        "id": "6WOHbGe8I_Cd",
        "outputId": "d7142c7c-f662-4b4c-b697-f274bff4d8ee"
      },
      "outputs": [
        {
          "name": "stdout",
          "output_type": "stream",
          "text": [
            "1. G-DRAGON - TOO BAD (feat. Anderson .Paak)\n",
            "2. 조째즈 - 모르시나요(PROD.로코베리)\n",
            "3. 제니 (JENNIE) - like JENNIE\n",
            "4. G-DRAGON - HOME SWEET HOME (feat. 태양, 대성)\n",
            "5. IVE (아이브) - REBEL HEART\n",
            "6. WOODZ - Drowning\n",
            "7. 황가람 - 나는 반딧불\n",
            "8. aespa - Whiplash\n",
            "9. BOYNEXTDOOR - 오늘만 I LOVE YOU\n",
            "10. IVE (아이브) - ATTITUDE\n",
            "11. 로제 (ROSÉ) - APT.\n",
            "12. G-DRAGON - TAKE ME\n",
            "13. 로제 (ROSÉ) - toxic till the end\n",
            "14. DAY6 (데이식스) - HAPPY\n",
            "15. G-DRAGON - PO￦ER\n",
            "16. 로이킴 - 내게 사랑이 뭐냐고 물어본다면\n",
            "17. 황가람 - 미치게 그리워서\n",
            "18. PLAVE - Dash\n",
            "19. 이클립스 (ECLIPSE) - 소나기\n",
            "20. BABYMONSTER - DRIP\n",
            "21. KiiiKiii (키키) - I DO ME\n",
            "22. 이창섭 - 천상연\n",
            "23. DAY6 (데이식스) - Welcome to the Show\n",
            "24. aespa - Supernova\n",
            "25. DAY6 (데이식스) - 한 페이지가 될 수 있게\n",
            "26. Hearts2Hearts (하츠투하츠) - The Chase\n",
            "27. PLAVE - RIZZ\n",
            "28. 이무진 - 청춘만화\n",
            "29. 임영웅 - 사랑은 늘 도망가\n",
            "30. LE SSERAFIM (르세라핌) - HOT\n",
            "31. 순순희(지환) - 슬픈 초대장\n",
            "32. aespa - UP (KARINA Solo)\n",
            "33. PLAVE - Island\n",
            "34. AKMU (악뮤) - 어떻게 이별까지 사랑하겠어, 널 사랑하는 거지\n",
            "35. QWER - 내 이름 맑음\n",
            "36. PLAVE - Chroma Drift\n",
            "37. DAY6 (데이식스) - 예뻤어\n",
            "38. Lady Gaga - Die With A Smile\n",
            "39. PLAVE - 12:32 (A to T)\n",
            "40. 아이유 - Love wins all\n",
            "41. 임영웅 - 우리들의 블루스\n",
            "42. 재쓰비 (JAESSBEE) - 너와의 모든 지금\n",
            "43. QWER - 고민중독\n",
            "44. G-DRAGON - DRAMA\n",
            "45. NewJeans - How Sweet\n",
            "46. G-DRAGON - 무제(無題) (Untitled, 2014)\n",
            "47. 임영웅 - 온기\n",
            "48. 너드커넥션 (Nerd Connection) - 그대만 있다면 (여름날 우리 X 너드커넥션 (Nerd Connection))\n",
            "49. 성시경 - 너의 모든 순간\n",
            "50. 오반(OVAN) - Flower\n"
          ]
        }
      ],
      "source": [
        "from bs4 import BeautifulSoup\n",
        "\n",
        "headers = {'User-Agent' : 'Mozilla/5.0 (Windows NT 10.0; Win64; x64)AppleWebKit/537.36 (KHTML, like Gecko) Chrome/73.0.3683.86 Safari/537.36'}\n",
        "data = requests.get('https://www.melon.com/chart/', headers=headers, verify=False)\n",
        "\n",
        "soup = BeautifulSoup(data.text, 'html.parser')\n",
        "\n",
        "# print(soup)\n",
        "\n",
        "top_100 = soup.select('#lst50 > td > div') #tr로 이루어진 list\n",
        "\n",
        "for tr in top_100 :\n",
        "    rank = tr.select_one('span.rank')\n",
        "\n",
        "    if rank is not None:\n",
        "        print(rank.text, end=\". \")\n",
        "\n",
        "    title = tr.select_one('div > div.ellipsis.rank01 > span > a')\n",
        "\n",
        "    if title is not None:\n",
        "        artist = tr.select_one('div.ellipsis.rank02 > a').text\n",
        "        print(artist,'-', title.text)\n",
        "\n"
      ]
    },
    {
      "cell_type": "markdown",
      "metadata": {
        "id": "dBZSGOWLJNAI"
      },
      "source": [
        "##### Selenium in colab"
      ]
    },
    {
      "cell_type": "code",
      "execution_count": null,
      "metadata": {
        "colab": {
          "base_uri": "https://localhost:8080/"
        },
        "id": "c9bEa36BJVVK",
        "outputId": "a763f981-9d28-459c-f1c0-7f26cb9a253e"
      },
      "outputs": [
        {
          "name": "stdout",
          "output_type": "stream",
          "text": [
            "Python 3.11.1\n"
          ]
        },
        {
          "ename": "ModuleNotFoundError",
          "evalue": "No module named 'selenium'",
          "output_type": "error",
          "traceback": [
            "\u001b[31m---------------------------------------------------------------------------\u001b[39m",
            "\u001b[31mModuleNotFoundError\u001b[39m                       Traceback (most recent call last)",
            "\u001b[36mCell\u001b[39m\u001b[36m \u001b[39m\u001b[32mIn[1]\u001b[39m\u001b[32m, line 5\u001b[39m\n\u001b[32m      2\u001b[39m get_ipython().system(\u001b[33m'\u001b[39m\u001b[33mpython --version\u001b[39m\u001b[33m'\u001b[39m)\n\u001b[32m      4\u001b[39m \u001b[38;5;66;03m# Selenium을 확인하려면 다음과 같이 사용해야 합니다.\u001b[39;00m\n\u001b[32m----> \u001b[39m\u001b[32m5\u001b[39m \u001b[38;5;28;01mimport\u001b[39;00m\u001b[38;5;250m \u001b[39m\u001b[34;01mselenium\u001b[39;00m\n\u001b[32m      6\u001b[39m \u001b[38;5;28mprint\u001b[39m(selenium.__version__)\n",
            "\u001b[31mModuleNotFoundError\u001b[39m: No module named 'selenium'"
          ]
        }
      ],
      "source": [
        "# 느낌표를 붙이면 Shell 명령어로 실행됩니다.\n",
        "!python --version\n",
        "\n",
        "# Selenium을 확인하려면 다음과 같이 사용해야 합니다.\n",
        "import selenium\n",
        "print(selenium.__version__)"
      ]
    },
    {
      "cell_type": "code",
      "execution_count": null,
      "metadata": {
        "id": "seCu8rYoslxB",
        "outputId": "7535cae2-7e95-48d0-8694-8201d3616a81"
      },
      "outputs": [
        {
          "name": "stderr",
          "output_type": "stream",
          "text": [
            "\n",
            "[notice] A new release of pip available: 22.3.1 -> 25.0.1\n",
            "[notice] To update, run: python.exe -m pip install --upgrade pip\n"
          ]
        }
      ],
      "source": [
        "!pip install selenium --upgrade --quiet"
      ]
    },
    {
      "cell_type": "code",
      "execution_count": null,
      "metadata": {
        "collapsed": true,
        "id": "y6qHymi6JeKC"
      },
      "outputs": [],
      "source": [
        "# 코랩을 시작할 때 아래코드를 한 번 돌려줍니다.\n",
        "!apt-get update\n",
        "!apt install chromium-chromedriver\n",
        "!cp /usr/lib/chromium-browser/chromedriver /usr/bin"
      ]
    },
    {
      "cell_type": "code",
      "execution_count": 111,
      "metadata": {
        "id": "o7Yg8ozwJkxC"
      },
      "outputs": [],
      "source": [
        "from selenium import webdriver\n",
        "from selenium.webdriver.common.by import By\n",
        "from selenium.webdriver.common.keys import Keys\n",
        "from selenium.webdriver.chrome.service import Service"
      ]
    },
    {
      "cell_type": "code",
      "execution_count": 114,
      "metadata": {
        "id": "uNdVZ5J9slxB",
        "outputId": "eb1820fd-0410-4e58-e870-02aabb497a8f",
        "colab": {
          "base_uri": "https://localhost:8080/",
          "height": 338
        }
      },
      "outputs": [
        {
          "output_type": "error",
          "ename": "WebDriverException",
          "evalue": "Message: Service /usr/bin/chromedriver unexpectedly exited. Status code was: 1\n",
          "traceback": [
            "\u001b[0;31m---------------------------------------------------------------------------\u001b[0m",
            "\u001b[0;31mWebDriverException\u001b[0m                        Traceback (most recent call last)",
            "\u001b[0;32m<ipython-input-114-a3e07aeedd04>\u001b[0m in \u001b[0;36m<cell line: 0>\u001b[0;34m()\u001b[0m\n\u001b[1;32m      6\u001b[0m \u001b[0moptions\u001b[0m\u001b[0;34m.\u001b[0m\u001b[0madd_argument\u001b[0m\u001b[0;34m(\u001b[0m\u001b[0;34m'--disable-dev-shm-usage'\u001b[0m\u001b[0;34m)\u001b[0m\u001b[0;34m\u001b[0m\u001b[0;34m\u001b[0m\u001b[0m\n\u001b[1;32m      7\u001b[0m \u001b[0;31m#driver = webdriver.Chrome('chromedriver', options=options)\u001b[0m\u001b[0;34m\u001b[0m\u001b[0;34m\u001b[0m\u001b[0m\n\u001b[0;32m----> 8\u001b[0;31m \u001b[0mdriver\u001b[0m \u001b[0;34m=\u001b[0m \u001b[0mwebdriver\u001b[0m\u001b[0;34m.\u001b[0m\u001b[0mChrome\u001b[0m\u001b[0;34m(\u001b[0m\u001b[0mservice\u001b[0m\u001b[0;34m=\u001b[0m\u001b[0mservice\u001b[0m\u001b[0;34m,\u001b[0m \u001b[0moptions\u001b[0m\u001b[0;34m=\u001b[0m\u001b[0moptions\u001b[0m\u001b[0;34m)\u001b[0m\u001b[0;34m\u001b[0m\u001b[0;34m\u001b[0m\u001b[0m\n\u001b[0m",
            "\u001b[0;32m/usr/local/lib/python3.11/dist-packages/selenium/webdriver/chrome/webdriver.py\u001b[0m in \u001b[0;36m__init__\u001b[0;34m(self, options, service, keep_alive)\u001b[0m\n\u001b[1;32m     43\u001b[0m         \u001b[0moptions\u001b[0m \u001b[0;34m=\u001b[0m \u001b[0moptions\u001b[0m \u001b[0;32mif\u001b[0m \u001b[0moptions\u001b[0m \u001b[0;32melse\u001b[0m \u001b[0mOptions\u001b[0m\u001b[0;34m(\u001b[0m\u001b[0;34m)\u001b[0m\u001b[0;34m\u001b[0m\u001b[0;34m\u001b[0m\u001b[0m\n\u001b[1;32m     44\u001b[0m \u001b[0;34m\u001b[0m\u001b[0m\n\u001b[0;32m---> 45\u001b[0;31m         super().__init__(\n\u001b[0m\u001b[1;32m     46\u001b[0m             \u001b[0mbrowser_name\u001b[0m\u001b[0;34m=\u001b[0m\u001b[0mDesiredCapabilities\u001b[0m\u001b[0;34m.\u001b[0m\u001b[0mCHROME\u001b[0m\u001b[0;34m[\u001b[0m\u001b[0;34m\"browserName\"\u001b[0m\u001b[0;34m]\u001b[0m\u001b[0;34m,\u001b[0m\u001b[0;34m\u001b[0m\u001b[0;34m\u001b[0m\u001b[0m\n\u001b[1;32m     47\u001b[0m             \u001b[0mvendor_prefix\u001b[0m\u001b[0;34m=\u001b[0m\u001b[0;34m\"goog\"\u001b[0m\u001b[0;34m,\u001b[0m\u001b[0;34m\u001b[0m\u001b[0;34m\u001b[0m\u001b[0m\n",
            "\u001b[0;32m/usr/local/lib/python3.11/dist-packages/selenium/webdriver/chromium/webdriver.py\u001b[0m in \u001b[0;36m__init__\u001b[0;34m(self, browser_name, vendor_prefix, options, service, keep_alive)\u001b[0m\n\u001b[1;32m     53\u001b[0m \u001b[0;34m\u001b[0m\u001b[0m\n\u001b[1;32m     54\u001b[0m         \u001b[0mself\u001b[0m\u001b[0;34m.\u001b[0m\u001b[0mservice\u001b[0m\u001b[0;34m.\u001b[0m\u001b[0mpath\u001b[0m \u001b[0;34m=\u001b[0m \u001b[0mself\u001b[0m\u001b[0;34m.\u001b[0m\u001b[0mservice\u001b[0m\u001b[0;34m.\u001b[0m\u001b[0menv_path\u001b[0m\u001b[0;34m(\u001b[0m\u001b[0;34m)\u001b[0m \u001b[0;32mor\u001b[0m \u001b[0mfinder\u001b[0m\u001b[0;34m.\u001b[0m\u001b[0mget_driver_path\u001b[0m\u001b[0;34m(\u001b[0m\u001b[0;34m)\u001b[0m\u001b[0;34m\u001b[0m\u001b[0;34m\u001b[0m\u001b[0m\n\u001b[0;32m---> 55\u001b[0;31m         \u001b[0mself\u001b[0m\u001b[0;34m.\u001b[0m\u001b[0mservice\u001b[0m\u001b[0;34m.\u001b[0m\u001b[0mstart\u001b[0m\u001b[0;34m(\u001b[0m\u001b[0;34m)\u001b[0m\u001b[0;34m\u001b[0m\u001b[0;34m\u001b[0m\u001b[0m\n\u001b[0m\u001b[1;32m     56\u001b[0m \u001b[0;34m\u001b[0m\u001b[0m\n\u001b[1;32m     57\u001b[0m         executor = ChromiumRemoteConnection(\n",
            "\u001b[0;32m/usr/local/lib/python3.11/dist-packages/selenium/webdriver/common/service.py\u001b[0m in \u001b[0;36mstart\u001b[0;34m(self)\u001b[0m\n\u001b[1;32m    111\u001b[0m         \u001b[0mcount\u001b[0m \u001b[0;34m=\u001b[0m \u001b[0;36m0\u001b[0m\u001b[0;34m\u001b[0m\u001b[0;34m\u001b[0m\u001b[0m\n\u001b[1;32m    112\u001b[0m         \u001b[0;32mwhile\u001b[0m \u001b[0;32mTrue\u001b[0m\u001b[0;34m:\u001b[0m\u001b[0;34m\u001b[0m\u001b[0;34m\u001b[0m\u001b[0m\n\u001b[0;32m--> 113\u001b[0;31m             \u001b[0mself\u001b[0m\u001b[0;34m.\u001b[0m\u001b[0massert_process_still_running\u001b[0m\u001b[0;34m(\u001b[0m\u001b[0;34m)\u001b[0m\u001b[0;34m\u001b[0m\u001b[0;34m\u001b[0m\u001b[0m\n\u001b[0m\u001b[1;32m    114\u001b[0m             \u001b[0;32mif\u001b[0m \u001b[0mself\u001b[0m\u001b[0;34m.\u001b[0m\u001b[0mis_connectable\u001b[0m\u001b[0;34m(\u001b[0m\u001b[0;34m)\u001b[0m\u001b[0;34m:\u001b[0m\u001b[0;34m\u001b[0m\u001b[0;34m\u001b[0m\u001b[0m\n\u001b[1;32m    115\u001b[0m                 \u001b[0;32mbreak\u001b[0m\u001b[0;34m\u001b[0m\u001b[0;34m\u001b[0m\u001b[0m\n",
            "\u001b[0;32m/usr/local/lib/python3.11/dist-packages/selenium/webdriver/common/service.py\u001b[0m in \u001b[0;36massert_process_still_running\u001b[0;34m(self)\u001b[0m\n\u001b[1;32m    124\u001b[0m         \u001b[0mreturn_code\u001b[0m \u001b[0;34m=\u001b[0m \u001b[0mself\u001b[0m\u001b[0;34m.\u001b[0m\u001b[0mprocess\u001b[0m\u001b[0;34m.\u001b[0m\u001b[0mpoll\u001b[0m\u001b[0;34m(\u001b[0m\u001b[0;34m)\u001b[0m\u001b[0;34m\u001b[0m\u001b[0;34m\u001b[0m\u001b[0m\n\u001b[1;32m    125\u001b[0m         \u001b[0;32mif\u001b[0m \u001b[0mreturn_code\u001b[0m\u001b[0;34m:\u001b[0m\u001b[0;34m\u001b[0m\u001b[0;34m\u001b[0m\u001b[0m\n\u001b[0;32m--> 126\u001b[0;31m             \u001b[0;32mraise\u001b[0m \u001b[0mWebDriverException\u001b[0m\u001b[0;34m(\u001b[0m\u001b[0;34mf\"Service {self._path} unexpectedly exited. Status code was: {return_code}\"\u001b[0m\u001b[0;34m)\u001b[0m\u001b[0;34m\u001b[0m\u001b[0;34m\u001b[0m\u001b[0m\n\u001b[0m\u001b[1;32m    127\u001b[0m \u001b[0;34m\u001b[0m\u001b[0m\n\u001b[1;32m    128\u001b[0m     \u001b[0;32mdef\u001b[0m \u001b[0mis_connectable\u001b[0m\u001b[0;34m(\u001b[0m\u001b[0mself\u001b[0m\u001b[0;34m)\u001b[0m \u001b[0;34m->\u001b[0m \u001b[0mbool\u001b[0m\u001b[0;34m:\u001b[0m\u001b[0;34m\u001b[0m\u001b[0;34m\u001b[0m\u001b[0m\n",
            "\u001b[0;31mWebDriverException\u001b[0m: Message: Service /usr/bin/chromedriver unexpectedly exited. Status code was: 1\n"
          ]
        }
      ],
      "source": [
        "service = Service(executable_path=r'/usr/bin/chromedriver')\n",
        "\n",
        "options = webdriver.ChromeOptions()\n",
        "options.add_argument('--headless')        # Head-less 설정\n",
        "options.add_argument('--no-sandbox')\n",
        "options.add_argument('--disable-dev-shm-usage')\n",
        "#driver = webdriver.Chrome('chromedriver', options=options)\n",
        "driver = webdriver.Chrome(service=service, options=options)"
      ]
    },
    {
      "cell_type": "code",
      "execution_count": null,
      "metadata": {
        "id": "mlejHT1kKoHr"
      },
      "outputs": [],
      "source": [
        "!pip install chromedriver-autoinstaller --upgrade --quiet"
      ]
    },
    {
      "cell_type": "code",
      "execution_count": 115,
      "metadata": {
        "id": "6HbGxOfAKrNi"
      },
      "outputs": [],
      "source": [
        "import sys\n",
        "sys.path.insert(0,'/usr/lib/chromium-browser/chromedriver')"
      ]
    },
    {
      "cell_type": "code",
      "execution_count": 116,
      "metadata": {
        "id": "97GD56uwKlh6"
      },
      "outputs": [],
      "source": [
        "import time\n",
        "import pandas as pd\n",
        "from bs4 import BeautifulSoup\n",
        "from selenium import webdriver\n",
        "import chromedriver_autoinstaller\n",
        "\n",
        "# setup chrome options\n",
        "chrome_options = webdriver.ChromeOptions()\n",
        "chrome_options.add_argument('--headless') # ensure GUI is off\n",
        "chrome_options.add_argument('--no-sandbox')\n",
        "chrome_options.add_argument('--disable-dev-shm-usage')  # set path to chromedriver as per your configuration\n",
        "chrome_options.add_argument('lang=ko_KR') # 한국어\n",
        "chrome_options.headless = True\n",
        "\n",
        "# set path to chromedriver as per your configuration\n",
        "chromedriver_autoinstaller.install()\n",
        "\n",
        "# set the target URL\n",
        "url = \"put-url-here-to-scrape\"\n",
        "\n",
        "# set up the webdriver\n",
        "driver = webdriver.Chrome(options=chrome_options)"
      ]
    },
    {
      "cell_type": "code",
      "execution_count": null,
      "metadata": {
        "colab": {
          "base_uri": "https://localhost:8080/"
        },
        "id": "3drMc1YUL7NR",
        "outputId": "dd28e89e-6cf9-40cb-d3ba-399ebba58adc"
      },
      "outputs": [
        {
          "name": "stdout",
          "output_type": "stream",
          "text": [
            "Google <selenium.webdriver.chrome.webdriver.WebDriver (session=\"4b073af0c26f23786afcb61fbd84f599\")>\n"
          ]
        }
      ],
      "source": [
        "url = \"https://www.google.com/\"  # set up the webdriver\n",
        "driver = webdriver.Chrome(options=chrome_options)\n",
        "\n",
        "# driver 작동 테스트\n",
        "driver.get(url)\n",
        "driver.implicitly_wait(3) # element가 로드될 때까지 지정한 시간만큼 대기할 수 있도록 설정\n",
        "# driver.get_screenshot_as_file('google_screen.png')\n",
        "title = driver.title\n",
        "#driver.close()\n",
        "\n",
        "print(title, driver)"
      ]
    },
    {
      "cell_type": "code",
      "execution_count": null,
      "metadata": {
        "colab": {
          "base_uri": "https://localhost:8080/"
        },
        "id": "wxfL3sksUZYl",
        "outputId": "932b35ee-d019-4a7e-bc46-d5bbd6e5b2f0"
      },
      "outputs": [
        {
          "data": {
            "text/plain": [
              "True"
            ]
          },
          "execution_count": 71,
          "metadata": {},
          "output_type": "execute_result"
        }
      ],
      "source": [
        "# 클릭하기\n",
        "driver.find_element(By.XPATH,'//*[@id=\"APjFqb\"]').click()\n",
        "\n",
        "driver.save_screenshot('click.png')"
      ]
    },
    {
      "cell_type": "code",
      "execution_count": null,
      "metadata": {
        "colab": {
          "base_uri": "https://localhost:8080/"
        },
        "id": "Mrq43EDgSx-M",
        "outputId": "40b8f246-fe9b-43db-d0f6-e7c8e25b80a9"
      },
      "outputs": [
        {
          "data": {
            "text/plain": [
              "True"
            ]
          },
          "execution_count": 65,
          "metadata": {},
          "output_type": "execute_result"
        }
      ],
      "source": [
        "# 값 입력하기\n",
        "driver.find_element(By.XPATH,'//*[@id=\"APjFqb\"]').send_keys(\"tistory\")\n",
        "\n",
        "driver.save_screenshot('tistory.png')"
      ]
    },
    {
      "cell_type": "code",
      "execution_count": null,
      "metadata": {
        "colab": {
          "base_uri": "https://localhost:8080/"
        },
        "id": "ZOgImAo3Uly1",
        "outputId": "66d76e06-4ad6-4665-91eb-d5b993440fbf"
      },
      "outputs": [
        {
          "data": {
            "text/plain": [
              "True"
            ]
          },
          "execution_count": 82,
          "metadata": {},
          "output_type": "execute_result"
        }
      ],
      "source": [
        "# 키보드 입력하기\n",
        "driver.find_element(By.XPATH,'//*[@id=\"APjFqb\"]').send_keys(\"tistory\")\n",
        "#driver.find_element(By.XPATH,'//*[@id=\"APjFqb\"]').send_keys(Keys.ENTER)\n",
        "driver.find_element(By.XPATH,'//*[@id=\"APjFqb\"]').send_keys(Keys.RETURN)\n",
        "\n",
        "driver.save_screenshot('enter.png') #둘다 안먹힘"
      ]
    },
    {
      "cell_type": "code",
      "execution_count": null,
      "metadata": {
        "colab": {
          "base_uri": "https://localhost:8080/"
        },
        "id": "qz_fdjBaTQhP",
        "outputId": "e7190717-44e6-487a-bba4-699a0e7c6a5e"
      },
      "outputs": [
        {
          "data": {
            "text/plain": [
              "True"
            ]
          },
          "execution_count": 86,
          "metadata": {},
          "output_type": "execute_result"
        }
      ],
      "source": [
        "clk = driver.find_element(By.NAME, 'q')\n",
        "clk.send_keys(\"naver\")\n",
        "clk.submit()\n",
        "time.sleep(3)\n",
        "\n",
        "driver.save_screenshot('naver.png')\n",
        "\n",
        "#로봇이 아닙니다."
      ]
    },
    {
      "cell_type": "code",
      "execution_count": 113,
      "metadata": {
        "id": "Gb8GhJcRMW-y",
        "outputId": "b32d406b-99a1-4f0b-d0b3-65d207349d9c",
        "colab": {
          "base_uri": "https://localhost:8080/"
        }
      },
      "outputs": [
        {
          "output_type": "stream",
          "name": "stderr",
          "text": [
            "WARNING:urllib3.connectionpool:Retrying (Retry(total=2, connect=None, read=None, redirect=None, status=None)) after connection broken by 'NewConnectionError('<urllib3.connection.HTTPConnection object at 0x7852565d3a10>: Failed to establish a new connection: [Errno 111] Connection refused')': /session/4b073af0c26f23786afcb61fbd84f599\n",
            "WARNING:urllib3.connectionpool:Retrying (Retry(total=1, connect=None, read=None, redirect=None, status=None)) after connection broken by 'NewConnectionError('<urllib3.connection.HTTPConnection object at 0x7852565d1d90>: Failed to establish a new connection: [Errno 111] Connection refused')': /session/4b073af0c26f23786afcb61fbd84f599\n",
            "WARNING:urllib3.connectionpool:Retrying (Retry(total=0, connect=None, read=None, redirect=None, status=None)) after connection broken by 'NewConnectionError('<urllib3.connection.HTTPConnection object at 0x785256587d90>: Failed to establish a new connection: [Errno 111] Connection refused')': /session/4b073af0c26f23786afcb61fbd84f599\n"
          ]
        }
      ],
      "source": [
        "# 자원회수 - 코드 실행 마지막에 quit driver\n",
        "driver.quit()"
      ]
    },
    {
      "cell_type": "code",
      "execution_count": null,
      "metadata": {
        "colab": {
          "base_uri": "https://localhost:8080/"
        },
        "id": "nyFBGpIbS6BM",
        "outputId": "1c671b1e-10ac-43fc-a364-84fd7fc6aa41"
      },
      "outputs": [
        {
          "name": "stdout",
          "output_type": "stream",
          "text": [
            "['484DFD2AB7D0E2718AE00F000F3D6B9B']\n",
            "484DFD2AB7D0E2718AE00F000F3D6B9B\n"
          ]
        }
      ],
      "source": [
        "print(driver.window_handles)\n",
        "print(driver.current_window_handle)"
      ]
    },
    {
      "cell_type": "code",
      "execution_count": null,
      "metadata": {
        "id": "oif_u_W1slxD"
      },
      "outputs": [],
      "source": [
        "#service = Service(executable_path=r'.chromedriver.exe')\n",
        "url = \"https://www.google.com/\"  # set up the webdriver\n",
        "driver = webdriver.Chrome()\n",
        "\n",
        "# driver 작동 테스트\n",
        "driver.get(url)\n",
        "\n",
        "clk = driver.find_element(By.NAME, 'q')\n",
        "clk.send_keys(\"naver\")\n",
        "clk.submit()\n",
        "\n",
        "#로봇이 아닙니다."
      ]
    },
    {
      "cell_type": "code",
      "execution_count": null,
      "metadata": {
        "colab": {
          "base_uri": "https://localhost:8080/"
        },
        "id": "Eyc5-ZB3SP4Z",
        "outputId": "7dfc05d5-89d5-4033-fbbe-2bf4a5e14d33"
      },
      "outputs": [
        {
          "data": {
            "text/plain": [
              "[]"
            ]
          },
          "execution_count": 45,
          "metadata": {},
          "output_type": "execute_result"
        }
      ],
      "source": [
        "from bs4 import BeautifulSoup\n",
        "\n",
        "html = driver.page_source\n",
        "soup = BeautifulSoup(html)\n",
        "\n",
        "v = soup.select('.yuRUbf')\n",
        "v"
      ]
    },
    {
      "cell_type": "code",
      "execution_count": null,
      "metadata": {
        "id": "7vOusizVSq77"
      },
      "outputs": [],
      "source": [
        "for i in v:\n",
        "    print(i.select_one('.LC20lb.DKV0Md').text)\n",
        "    print(i.a.attrs['href'])\n",
        "    print()\n",
        "\n",
        "print('done')\n",
        "\n",
        "#driver.close()"
      ]
    },
    {
      "cell_type": "code",
      "execution_count": null,
      "metadata": {
        "id": "Mt7SjNT0slxD"
      },
      "outputs": [],
      "source": [
        "def selenium_scroll_option():\n",
        "  SCROLL_PAUSE_SEC = 3\n",
        "\n",
        "  # 스크롤 높이 가져옴\n",
        "  last_height = driver.execute_script(\"return document.body.scrollHeight\")\n",
        "\n",
        "  while True:\n",
        "    # 끝까지 스크롤 다운\n",
        "    driver.execute_script(\"window.scrollTo(0, document.body.scrollHeight);\")\n",
        "\n",
        "    # 10초 대기\n",
        "    time.sleep(SCROLL_PAUSE_SEC)\n",
        "\n",
        "    # 스크롤 다운 후 스크롤 높이 다시 가져옴\n",
        "    new_height = driver.execute_script(\"return document.body.scrollHeight\")\n",
        "\n",
        "    if new_height == last_height:\n",
        "        break\n",
        "    last_height = new_height"
      ]
    },
    {
      "cell_type": "code",
      "execution_count": null,
      "metadata": {
        "colab": {
          "base_uri": "https://localhost:8080/"
        },
        "id": "X6DykIPwMBy5",
        "outputId": "5aa69e7a-ed9d-426c-c0ca-75ba569876d2"
      },
      "outputs": [
        {
          "name": "stdout",
          "output_type": "stream",
          "text": [
            "검색할 키워드를 입력 : shark\n",
            "저장할 이미지 이름 : shark\n"
          ]
        },
        {
          "ename": "AttributeError",
          "evalue": "'WebDriver' object has no attribute 'find_elements_by_xpath'",
          "output_type": "error",
          "traceback": [
            "\u001b[0;31m---------------------------------------------------------------------------\u001b[0m",
            "\u001b[0;31mAttributeError\u001b[0m                            Traceback (most recent call last)",
            "\u001b[0;32m<ipython-input-28-65fffe44104e>\u001b[0m in \u001b[0;36m<cell line: 0>\u001b[0;34m()\u001b[0m\n\u001b[1;32m     23\u001b[0m \u001b[0;31m# 클래스를 찾고 해당 클래스의 src 리스트를 만들자\u001b[0m\u001b[0;34m\u001b[0m\u001b[0;34m\u001b[0m\u001b[0m\n\u001b[1;32m     24\u001b[0m \u001b[0mselenium_scroll_option\u001b[0m\u001b[0;34m(\u001b[0m\u001b[0;34m)\u001b[0m \u001b[0;31m# 스크롤하여 이미지를 많이 확보\u001b[0m\u001b[0;34m\u001b[0m\u001b[0;34m\u001b[0m\u001b[0m\n\u001b[0;32m---> 25\u001b[0;31m \u001b[0mdriver\u001b[0m\u001b[0;34m.\u001b[0m\u001b[0mfind_elements_by_xpath\u001b[0m\u001b[0;34m(\u001b[0m\u001b[0;34m'//*[@id=\"islmp\"]/div/div/div/div/div[3]/div[2]/input'\u001b[0m\u001b[0;34m)\u001b[0m\u001b[0;34m[\u001b[0m\u001b[0;36m0\u001b[0m\u001b[0;34m]\u001b[0m\u001b[0;34m.\u001b[0m\u001b[0mclick\u001b[0m\u001b[0;34m(\u001b[0m\u001b[0;34m)\u001b[0m \u001b[0;31m# 이미지 더보기 클릭\u001b[0m\u001b[0;34m\u001b[0m\u001b[0;34m\u001b[0m\u001b[0m\n\u001b[0m\u001b[1;32m     26\u001b[0m \u001b[0mselenium_scroll_option\u001b[0m\u001b[0;34m(\u001b[0m\u001b[0;34m)\u001b[0m\u001b[0;34m\u001b[0m\u001b[0;34m\u001b[0m\u001b[0m\n\u001b[1;32m     27\u001b[0m \u001b[0;34m\u001b[0m\u001b[0m\n",
            "\u001b[0;31mAttributeError\u001b[0m: 'WebDriver' object has no attribute 'find_elements_by_xpath'"
          ]
        }
      ],
      "source": [
        "courbet = \"/content/drive/MyDrive/Colab Notebooks/\"\n",
        "\n",
        "# 키워드 검색하기\n",
        "\n",
        "base_url = \"https://www.google.co.kr/imghp?hl=ko\" # 구글 이미지 검색\n",
        "keyword = input(\"검색할 키워드를 입력 : \")\n",
        "# print(type(a))\n",
        "image_name = input(\"저장할 이미지 이름 : \")\n",
        "\n",
        "\n",
        "driver = webdriver.Chrome(options=chrome_options)\n",
        "driver.get(base_url)\n",
        "\n",
        "# driver.find_element(\"xpath\",'//*[@id=\"APjFqb\"]') # 검색창 /html/body/div[1]/div[3]/form/div[1]/div[1]/div[1]/div/div[2]/textarea\n",
        "# browser = driver.find_element(By.ID, \"APjFqb\")\n",
        "\n",
        "browser =  driver.find_element(By.NAME, \"q\")\n",
        "browser.clear()\n",
        "browser.send_keys(keyword)\n",
        "browser.send_keys(Keys.RETURN)\n",
        "\n",
        "\n",
        "# 클래스를 찾고 해당 클래스의 src 리스트를 만들자\n",
        "selenium_scroll_option() # 스크롤하여 이미지를 많이 확보\n",
        "#driver.find_elements_by_xpath('//*[@id=\"islmp\"]/div/div/div/div/div[3]/div[2]/input')[0].click() # 이미지 더보기 클릭\n",
        "#selenium_scroll_option()\n",
        "\n",
        "'''이미지 src요소를 리스트업해서 이미지 url 저장'''\n",
        "\n",
        "images = driver.find_elements(By.CSS_SELECTOR,\".rg_i.Q4LuWd\") #  클래스 네임에서 공백은 .을 찍어줌\n",
        "images_url = []\n",
        "for i in images:\n",
        "    if i.get_attribute('src')!= None :\n",
        "        images_url.append(i.get_attribute('src'))\n",
        "    else :\n",
        "        images_url.append(i.get_attribute('data-src'))\n",
        "driver.close()\n",
        "\n",
        "# 겹치는 이미지 url 제거\n",
        "print(len(pd.DataFrame(images_url)))\n",
        "print(\"전체 다운로드한 이미지 개수: {}\\n동일한 이미지를 제거한 이미지 개수: {}\".format(len(images_url), len(pd.DataFrame(images_url)[0].unique())))\n",
        "images_url=pd.DataFrame(images_url)[0].unique()\n",
        "\n",
        "#'''해당하는 파일에 이미지 다운로드'''\n",
        "#\n",
        "if image_name == 'shark' :\n",
        "   for t, url in enumerate(images_url, 0):\n",
        "      urlretrieve(url, shark + image_name + '_' + str(t) + '.jpg')\n",
        "   driver.close()\n",
        "#\n",
        "#elif image_name == 'whale' :\n",
        "#   for t, url in enumerate(images_url, 0):\n",
        "#      urlretrieve(url, whale + image_name + '_' + str(t) + '.jpg')\n",
        "#   driver.close()\n",
        "#\n",
        "#elif image_name == 'dolphin' :\n",
        "#   for t, url in enumerate(images_url, 0):\n",
        "#      urlretrieve(url, dolphin + image_name + '_' + str(t) + '.jpg')\n",
        "#   driver.close()"
      ]
    },
    {
      "cell_type": "markdown",
      "metadata": {
        "id": "RzfVX5zaHGd2"
      },
      "source": [
        "##### GDELT"
      ]
    },
    {
      "cell_type": "code",
      "execution_count": null,
      "metadata": {
        "colab": {
          "base_uri": "https://localhost:8080/"
        },
        "id": "4nuRJlCgJhIy",
        "outputId": "f5cfeb42-c1b0-4068-aaa7-18a0064f70a0"
      },
      "outputs": [
        {
          "data": {
            "text/plain": [
              "(4479,\n",
              " ['20250317.export.CSV.zip',\n",
              "  '20250316.export.CSV.zip',\n",
              "  '20250315.export.CSV.zip',\n",
              "  '20250314.export.CSV.zip',\n",
              "  '20250313.export.CSV.zip'])"
            ]
          },
          "execution_count": 121,
          "metadata": {},
          "output_type": "execute_result"
        }
      ],
      "source": [
        "import requests\n",
        "import lxml.html as lh\n",
        "\n",
        "gdelt_base_url = 'http://data.gdeltproject.org/events/'\n",
        "\n",
        "# get the list of all the links on the gdelt file page\n",
        "page = requests.get(gdelt_base_url+'index.html')\n",
        "doc = lh.fromstring(page.content)\n",
        "link_list = doc.xpath(\"//*/ul/li/a/@href\")\n",
        "\n",
        "# separate out those links that begin with four digits\n",
        "file_list = [x for x in link_list if str.isdigit(x[0:4])]\n",
        "len(file_list), file_list[0:5]"
      ]
    },
    {
      "cell_type": "code",
      "execution_count": null,
      "metadata": {
        "colab": {
          "base_uri": "https://localhost:8080/",
          "height": 262
        },
        "id": "cCNImevPJlVi",
        "outputId": "5c5acd88-e6f6-4594-ba53-0ff50264ffeb"
      },
      "outputs": [
        {
          "data": {
            "text/html": [
              "<pre style=\"white-space:pre;overflow-x:auto;line-height:normal;font-family:Menlo,'DejaVu Sans Mono',consolas,'Courier New',monospace\"><span style=\"color: #008080; text-decoration-color: #008080; font-weight: bold\">20250317.</span>export.CSV.zip\n",
              "</pre>\n"
            ],
            "text/plain": [
              "\u001b[1;36m20250317.\u001b[0mexport.CSV.zip\n"
            ]
          },
          "metadata": {},
          "output_type": "display_data"
        },
        {
          "data": {
            "text/html": [
              "<pre style=\"white-space:pre;overflow-x:auto;line-height:normal;font-family:Menlo,'DejaVu Sans Mono',consolas,'Courier New',monospace\">extracting,\n",
              "</pre>\n"
            ],
            "text/plain": [
              "extracting,\n"
            ]
          },
          "metadata": {},
          "output_type": "display_data"
        },
        {
          "data": {
            "text/html": [
              "<pre style=\"white-space:pre;overflow-x:auto;line-height:normal;font-family:Menlo,'DejaVu Sans Mono',consolas,'Courier New',monospace\">parsing,\n",
              "</pre>\n"
            ],
            "text/plain": [
              "parsing,\n"
            ]
          },
          "metadata": {},
          "output_type": "display_data"
        },
        {
          "ename": "IndexError",
          "evalue": "list index out of range",
          "output_type": "error",
          "traceback": [
            "\u001b[0;31m---------------------------------------------------------------------------\u001b[0m",
            "\u001b[0;31mIndexError\u001b[0m                                Traceback (most recent call last)",
            "\u001b[0;32m<ipython-input-137-5173b8b9490a>\u001b[0m in \u001b[0;36m<cell line: 0>\u001b[0;34m()\u001b[0m\n\u001b[1;32m     36\u001b[0m             \u001b[0;32mfor\u001b[0m \u001b[0mline\u001b[0m \u001b[0;32min\u001b[0m \u001b[0minfile\u001b[0m\u001b[0;34m:\u001b[0m\u001b[0;34m\u001b[0m\u001b[0;34m\u001b[0m\u001b[0m\n\u001b[1;32m     37\u001b[0m                 \u001b[0;31m# extract lines with our interest country code\u001b[0m\u001b[0;34m\u001b[0m\u001b[0;34m\u001b[0m\u001b[0m\n\u001b[0;32m---> 38\u001b[0;31m                 \u001b[0;32mif\u001b[0m \u001b[0mfips_country_code\u001b[0m \u001b[0;32min\u001b[0m \u001b[0moperator\u001b[0m\u001b[0;34m.\u001b[0m\u001b[0mitemgetter\u001b[0m\u001b[0;34m(\u001b[0m\u001b[0;36m51\u001b[0m\u001b[0;34m,\u001b[0m \u001b[0;36m37\u001b[0m\u001b[0;34m,\u001b[0m \u001b[0;36m44\u001b[0m\u001b[0;34m)\u001b[0m\u001b[0;34m(\u001b[0m\u001b[0mline\u001b[0m\u001b[0;34m.\u001b[0m\u001b[0msplit\u001b[0m\u001b[0;34m(\u001b[0m\u001b[0;34m'\\t'\u001b[0m\u001b[0;34m)\u001b[0m\u001b[0;34m)\u001b[0m\u001b[0;34m:\u001b[0m\u001b[0;34m\u001b[0m\u001b[0;34m\u001b[0m\u001b[0m\n\u001b[0m\u001b[1;32m     39\u001b[0m                     \u001b[0moutfile\u001b[0m\u001b[0;34m.\u001b[0m\u001b[0mwrite\u001b[0m\u001b[0;34m(\u001b[0m\u001b[0mline\u001b[0m\u001b[0;34m)\u001b[0m\u001b[0;34m\u001b[0m\u001b[0;34m\u001b[0m\u001b[0m\n\u001b[1;32m     40\u001b[0m             \u001b[0moutfilecounter\u001b[0m \u001b[0;34m+=\u001b[0m\u001b[0;36m1\u001b[0m\u001b[0;34m\u001b[0m\u001b[0;34m\u001b[0m\u001b[0m\n",
            "\u001b[0;31mIndexError\u001b[0m: list index out of range"
          ]
        }
      ],
      "source": [
        "import os.path\n",
        "import urllib\n",
        "import zipfile\n",
        "import glob\n",
        "import operator\n",
        "\n",
        "infilecounter = 0\n",
        "outfilecounter = 0\n",
        "\n",
        "local_path = './GDELT_Data/'\n",
        "#fips_country_code = 'UK'\n",
        "fips_country_code = 'AU'\n",
        "\n",
        "\n",
        "for compressed_file in file_list[infilecounter:]:\n",
        "    print(compressed_file)\n",
        "\n",
        "    # if we dont have the compressed file stored locally, go get it. Keep trying if necessary.\n",
        "    while not os.path.isfile(local_path+compressed_file):\n",
        "        print( 'downloading,',)\n",
        "        urllib.request.urlretrieve(url=gdelt_base_url+compressed_file,\n",
        "                           filename=local_path+compressed_file)\n",
        "\n",
        "    # extract the contents of the compressed file to a temporary directory\n",
        "    print( 'extracting,',)\n",
        "    z = zipfile.ZipFile(file=local_path+compressed_file, mode='r')\n",
        "    z.extractall(path=local_path+'tmp/')\n",
        "\n",
        "    # parse each of the csv files in the working directory,\n",
        "    print( 'parsing,',)\n",
        "    for infile_name in glob.glob(local_path+'tmp/*'):\n",
        "        outfile_name = local_path+'country/'+fips_country_code+'%04i.tsv'%outfilecounter\n",
        "\n",
        "        # open the infile and outfile\n",
        "        with open(infile_name, mode='r') as infile, open(outfile_name, mode='w') as outfile:\n",
        "            for line in infile:\n",
        "                # extract lines with our interest country code\n",
        "                if fips_country_code in operator.itemgetter(51, 37, 44)(line.split('\\t')):\n",
        "                    outfile.write(line)\n",
        "            outfilecounter +=1\n",
        "\n",
        "        # delete the temporary file\n",
        "        os.remove(infile_name)\n",
        "    infilecounter +=1\n",
        "    print( 'done')"
      ]
    },
    {
      "cell_type": "code",
      "execution_count": null,
      "metadata": {
        "colab": {
          "base_uri": "https://localhost:8080/",
          "height": 356
        },
        "id": "GrjDwsm7KhW2",
        "outputId": "94e7f4c8-8198-458a-a58a-db743fa1b077"
      },
      "outputs": [
        {
          "ename": "FileNotFoundError",
          "evalue": "[Errno 2] No such file or directory: 'CSV.header.fieldids.xlsx'",
          "output_type": "error",
          "traceback": [
            "\u001b[0;31m---------------------------------------------------------------------------\u001b[0m",
            "\u001b[0;31mFileNotFoundError\u001b[0m                         Traceback (most recent call last)",
            "\u001b[0;32m<ipython-input-132-71fd55693368>\u001b[0m in \u001b[0;36m<cell line: 0>\u001b[0;34m()\u001b[0m\n\u001b[1;32m      3\u001b[0m \u001b[0;34m\u001b[0m\u001b[0m\n\u001b[1;32m      4\u001b[0m \u001b[0;31m# Get the GDELT field names from a helper file\u001b[0m\u001b[0;34m\u001b[0m\u001b[0;34m\u001b[0m\u001b[0m\n\u001b[0;32m----> 5\u001b[0;31m colnames = pd.read_excel('CSV.header.fieldids.xlsx', sheet_name='Sheet1', \n\u001b[0m\u001b[1;32m      6\u001b[0m                          index_col='Column ID', usecols=[0,1])['Field Name']\n\u001b[1;32m      7\u001b[0m \u001b[0;34m\u001b[0m\u001b[0m\n",
            "\u001b[0;32m/usr/local/lib/python3.11/dist-packages/pandas/io/excel/_base.py\u001b[0m in \u001b[0;36mread_excel\u001b[0;34m(io, sheet_name, header, names, index_col, usecols, dtype, engine, converters, true_values, false_values, skiprows, nrows, na_values, keep_default_na, na_filter, verbose, parse_dates, date_parser, date_format, thousands, decimal, comment, skipfooter, storage_options, dtype_backend, engine_kwargs)\u001b[0m\n\u001b[1;32m    493\u001b[0m     \u001b[0;32mif\u001b[0m \u001b[0;32mnot\u001b[0m \u001b[0misinstance\u001b[0m\u001b[0;34m(\u001b[0m\u001b[0mio\u001b[0m\u001b[0;34m,\u001b[0m \u001b[0mExcelFile\u001b[0m\u001b[0;34m)\u001b[0m\u001b[0;34m:\u001b[0m\u001b[0;34m\u001b[0m\u001b[0;34m\u001b[0m\u001b[0m\n\u001b[1;32m    494\u001b[0m         \u001b[0mshould_close\u001b[0m \u001b[0;34m=\u001b[0m \u001b[0;32mTrue\u001b[0m\u001b[0;34m\u001b[0m\u001b[0;34m\u001b[0m\u001b[0m\n\u001b[0;32m--> 495\u001b[0;31m         io = ExcelFile(\n\u001b[0m\u001b[1;32m    496\u001b[0m             \u001b[0mio\u001b[0m\u001b[0;34m,\u001b[0m\u001b[0;34m\u001b[0m\u001b[0;34m\u001b[0m\u001b[0m\n\u001b[1;32m    497\u001b[0m             \u001b[0mstorage_options\u001b[0m\u001b[0;34m=\u001b[0m\u001b[0mstorage_options\u001b[0m\u001b[0;34m,\u001b[0m\u001b[0;34m\u001b[0m\u001b[0;34m\u001b[0m\u001b[0m\n",
            "\u001b[0;32m/usr/local/lib/python3.11/dist-packages/pandas/io/excel/_base.py\u001b[0m in \u001b[0;36m__init__\u001b[0;34m(self, path_or_buffer, engine, storage_options, engine_kwargs)\u001b[0m\n\u001b[1;32m   1548\u001b[0m                 \u001b[0mext\u001b[0m \u001b[0;34m=\u001b[0m \u001b[0;34m\"xls\"\u001b[0m\u001b[0;34m\u001b[0m\u001b[0;34m\u001b[0m\u001b[0m\n\u001b[1;32m   1549\u001b[0m             \u001b[0;32melse\u001b[0m\u001b[0;34m:\u001b[0m\u001b[0;34m\u001b[0m\u001b[0;34m\u001b[0m\u001b[0m\n\u001b[0;32m-> 1550\u001b[0;31m                 ext = inspect_excel_format(\n\u001b[0m\u001b[1;32m   1551\u001b[0m                     \u001b[0mcontent_or_path\u001b[0m\u001b[0;34m=\u001b[0m\u001b[0mpath_or_buffer\u001b[0m\u001b[0;34m,\u001b[0m \u001b[0mstorage_options\u001b[0m\u001b[0;34m=\u001b[0m\u001b[0mstorage_options\u001b[0m\u001b[0;34m\u001b[0m\u001b[0;34m\u001b[0m\u001b[0m\n\u001b[1;32m   1552\u001b[0m                 )\n",
            "\u001b[0;32m/usr/local/lib/python3.11/dist-packages/pandas/io/excel/_base.py\u001b[0m in \u001b[0;36minspect_excel_format\u001b[0;34m(content_or_path, storage_options)\u001b[0m\n\u001b[1;32m   1400\u001b[0m         \u001b[0mcontent_or_path\u001b[0m \u001b[0;34m=\u001b[0m \u001b[0mBytesIO\u001b[0m\u001b[0;34m(\u001b[0m\u001b[0mcontent_or_path\u001b[0m\u001b[0;34m)\u001b[0m\u001b[0;34m\u001b[0m\u001b[0;34m\u001b[0m\u001b[0m\n\u001b[1;32m   1401\u001b[0m \u001b[0;34m\u001b[0m\u001b[0m\n\u001b[0;32m-> 1402\u001b[0;31m     with get_handle(\n\u001b[0m\u001b[1;32m   1403\u001b[0m         \u001b[0mcontent_or_path\u001b[0m\u001b[0;34m,\u001b[0m \u001b[0;34m\"rb\"\u001b[0m\u001b[0;34m,\u001b[0m \u001b[0mstorage_options\u001b[0m\u001b[0;34m=\u001b[0m\u001b[0mstorage_options\u001b[0m\u001b[0;34m,\u001b[0m \u001b[0mis_text\u001b[0m\u001b[0;34m=\u001b[0m\u001b[0;32mFalse\u001b[0m\u001b[0;34m\u001b[0m\u001b[0;34m\u001b[0m\u001b[0m\n\u001b[1;32m   1404\u001b[0m     ) as handle:\n",
            "\u001b[0;32m/usr/local/lib/python3.11/dist-packages/pandas/io/common.py\u001b[0m in \u001b[0;36mget_handle\u001b[0;34m(path_or_buf, mode, encoding, compression, memory_map, is_text, errors, storage_options)\u001b[0m\n\u001b[1;32m    880\u001b[0m         \u001b[0;32melse\u001b[0m\u001b[0;34m:\u001b[0m\u001b[0;34m\u001b[0m\u001b[0;34m\u001b[0m\u001b[0m\n\u001b[1;32m    881\u001b[0m             \u001b[0;31m# Binary mode\u001b[0m\u001b[0;34m\u001b[0m\u001b[0;34m\u001b[0m\u001b[0m\n\u001b[0;32m--> 882\u001b[0;31m             \u001b[0mhandle\u001b[0m \u001b[0;34m=\u001b[0m \u001b[0mopen\u001b[0m\u001b[0;34m(\u001b[0m\u001b[0mhandle\u001b[0m\u001b[0;34m,\u001b[0m \u001b[0mioargs\u001b[0m\u001b[0;34m.\u001b[0m\u001b[0mmode\u001b[0m\u001b[0;34m)\u001b[0m\u001b[0;34m\u001b[0m\u001b[0;34m\u001b[0m\u001b[0m\n\u001b[0m\u001b[1;32m    883\u001b[0m         \u001b[0mhandles\u001b[0m\u001b[0;34m.\u001b[0m\u001b[0mappend\u001b[0m\u001b[0;34m(\u001b[0m\u001b[0mhandle\u001b[0m\u001b[0;34m)\u001b[0m\u001b[0;34m\u001b[0m\u001b[0;34m\u001b[0m\u001b[0m\n\u001b[1;32m    884\u001b[0m \u001b[0;34m\u001b[0m\u001b[0m\n",
            "\u001b[0;31mFileNotFoundError\u001b[0m: [Errno 2] No such file or directory: 'CSV.header.fieldids.xlsx'"
          ]
        }
      ],
      "source": [
        "import glob\n",
        "import pandas as pd\n",
        "\n",
        "# Get the GDELT field names from a helper file\n",
        "colnames = pd.read_excel('CSV.header.fieldids.xlsx', sheet_name='Sheet1',\n",
        "                         index_col='Column ID', usecols=[0,1])['Field Name']\n",
        "\n",
        "# Build DataFrames from each of the intermediary files\n",
        "files = glob.glob(local_path+'country/'+fips_country_code+'*')\n",
        "DFlist = []\n",
        "for active_file in files:\n",
        "    print( active_file)\n",
        "    DFlist.append(pd.read_csv(active_file, sep='\\t', header=None, dtype=str,\n",
        "                              names=colnames, index_col=['GLOBALEVENTID']))\n",
        "\n",
        "# Merge the file-based dataframes and save a pickle\n",
        "DF = pd.concat(DFlist)\n",
        "DF.to_pickle(local_path+'backup'+fips_country_code+'.pickle')\n",
        "\n",
        "# once everythin is safely stored away, remove the temporary files\n",
        "for active_file in files:\n",
        "    os.remove(active_file)"
      ]
    }
  ],
  "metadata": {
    "colab": {
      "provenance": []
    },
    "kernelspec": {
      "display_name": "Python 3",
      "name": "python3"
    },
    "language_info": {
      "codemirror_mode": {
        "name": "ipython",
        "version": 3
      },
      "file_extension": ".py",
      "mimetype": "text/x-python",
      "name": "python",
      "nbconvert_exporter": "python",
      "pygments_lexer": "ipython3",
      "version": "3.11.1"
    }
  },
  "nbformat": 4,
  "nbformat_minor": 0
}