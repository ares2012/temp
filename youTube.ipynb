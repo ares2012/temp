{
  "nbformat": 4,
  "nbformat_minor": 0,
  "metadata": {
    "colab": {
      "provenance": []
    },
    "kernelspec": {
      "name": "python3",
      "display_name": "Python 3"
    },
    "language_info": {
      "name": "python"
    }
  },
  "cells": [
    {
      "cell_type": "markdown",
      "source": [
        "<a target=\"_blank\" href=\"https://colab.research.google.com/github/ares2012/temp/blob/master/youTube.ipynb\">\n",
        "  <img src=\"https://colab.research.google.com/assets/colab-badge.svg\" alt=\"Open In Colab\"/>\n",
        "</a>\n",
        "\n",
        "애플에서 크롬 쿠키를 못찾아서 CAPTCHA 인증 이슈 발생"
      ],
      "metadata": {
        "id": "hIKBRj2L1reY"
      }
    },
    {
      "cell_type": "code",
      "source": [
        "from google.colab import drive\n",
        "drive.mount('/content/drive')"
      ],
      "metadata": {
        "colab": {
          "base_uri": "https://localhost:8080/"
        },
        "id": "cu9YOllM1LCr",
        "outputId": "e191b08c-049b-47a6-845c-08e6e20c68af"
      },
      "execution_count": null,
      "outputs": [
        {
          "output_type": "stream",
          "name": "stdout",
          "text": [
            "Mounted at /content/drive\n"
          ]
        }
      ]
    },
    {
      "cell_type": "markdown",
      "source": [
        "https://codingstorywithme.tistory.com/102"
      ],
      "metadata": {
        "id": "j9ZdTaieagP8"
      }
    },
    {
      "cell_type": "code",
      "source": [
        "!pip install yt_dlp --upgrade --quiet"
      ],
      "metadata": {
        "id": "kDIvYjXUKlhJ",
        "outputId": "be620187-511c-42e8-e563-6500bda7fddb",
        "colab": {
          "base_uri": "https://localhost:8080/"
        }
      },
      "execution_count": 1,
      "outputs": [
        {
          "output_type": "stream",
          "name": "stdout",
          "text": [
            "\u001b[2K     \u001b[90m━━━━━━━━━━━━━━━━━━━━━━━━━━━━━━━━━━━━━━━\u001b[0m \u001b[32m174.3/174.3 kB\u001b[0m \u001b[31m3.3 MB/s\u001b[0m eta \u001b[36m0:00:00\u001b[0m\n",
            "\u001b[2K   \u001b[90m━━━━━━━━━━━━━━━━━━━━━━━━━━━━━━━━━━━━━━━━\u001b[0m \u001b[32m3.3/3.3 MB\u001b[0m \u001b[31m38.7 MB/s\u001b[0m eta \u001b[36m0:00:00\u001b[0m\n",
            "\u001b[?25h"
          ]
        }
      ]
    },
    {
      "cell_type": "code",
      "source": [
        "import yt_dlp\n",
        "import os\n",
        "\n",
        "def download_audio(link): #bestvideo+bestaudio/best\n",
        "    with yt_dlp.YoutubeDL({'extract_video': True, 'format': 'bestvideo+bestaudio/best'\n",
        "    , 'outtmpl': '%(title)s.mp4', 'merge_output_format': 'mp4'}) as video:\n",
        "        info_dict = video.extract_info(link, download = True)\n",
        "        video_title = info_dict['title']\n",
        "        print(video_title)\n",
        "        #video.download(link)\n",
        "\n",
        "download_audio('https://www.youtube.com/watch?v=ekr2nIex040')"
      ],
      "metadata": {
        "colab": {
          "base_uri": "https://localhost:8080/"
        },
        "id": "waYmpLP-7rkb",
        "outputId": "dab5cc7f-3841-43da-a206-05ae03cf0979"
      },
      "execution_count": null,
      "outputs": [
        {
          "output_type": "stream",
          "name": "stdout",
          "text": [
            "[youtube] Extracting URL: https://www.youtube.com/watch?v=ekr2nIex040\n",
            "[youtube] ekr2nIex040: Downloading webpage\n",
            "[youtube] ekr2nIex040: Downloading ios player API JSON\n",
            "[youtube] ekr2nIex040: Downloading mweb player API JSON\n",
            "[youtube] ekr2nIex040: Downloading m3u8 information\n",
            "[info] ekr2nIex040: Downloading 1 format(s): 401+251\n",
            "[download] Destination: ROSÉ & Bruno Mars - APT. (Official Music Video).f401.mp4\n",
            "[download] 100% of  277.18MiB in 00:00:03 at 80.75MiB/s  \n",
            "[download] Destination: ROSÉ & Bruno Mars - APT. (Official Music Video).f251.webm\n",
            "[download] 100% of    2.59MiB in 00:00:00 at 32.53MiB/s  \n",
            "[Merger] Merging formats into \"ROSÉ & Bruno Mars - APT. (Official Music Video).mp4\"\n",
            "Deleting original file ROSÉ & Bruno Mars - APT. (Official Music Video).f251.webm (pass -k to keep)\n",
            "Deleting original file ROSÉ & Bruno Mars - APT. (Official Music Video).f401.mp4 (pass -k to keep)\n",
            "ROSÉ & Bruno Mars - APT. (Official Music Video)\n"
          ]
        }
      ]
    },
    {
      "cell_type": "code",
      "source": [
        "import yt_dlp\n",
        "import os\n",
        "\n",
        "def download_audio(link):\n",
        "    with yt_dlp.YoutubeDL({'extract_audio': True, 'format': 'bestaudio', 'outtmpl': '%(title)s.mp3', 'verbose': True}) as video:\n",
        "        info_dict = video.extract_info(link, download = True)\n",
        "        video_title = info_dict['title']\n",
        "        print(video_title)\n",
        "        #video.download(link)\n",
        "\n",
        "download_audio('https://www.youtube.com/watch?v=ekr2nIex040')"
      ],
      "metadata": {
        "id": "gMrhf9aAKnXB",
        "outputId": "0b9f2acd-ba20-434d-e8f5-ea804f69e9e8",
        "colab": {
          "base_uri": "https://localhost:8080/"
        }
      },
      "execution_count": null,
      "outputs": [
        {
          "output_type": "stream",
          "name": "stdout",
          "text": [
            "[youtube] Extracting URL: https://www.youtube.com/watch?v=ekr2nIex040\n",
            "[youtube] ekr2nIex040: Downloading webpage\n",
            "[youtube] ekr2nIex040: Downloading ios player API JSON\n",
            "[youtube] ekr2nIex040: Downloading mweb player API JSON\n",
            "[youtube] ekr2nIex040: Downloading m3u8 information\n",
            "[info] ekr2nIex040: Downloading 1 format(s): 251\n",
            "[download] Destination: ROSÉ & Bruno Mars - APT. (Official Music Video).mp3\n",
            "[download] 100% of    2.59MiB in 00:00:03 at 881.24KiB/s \n",
            "ROSÉ & Bruno Mars - APT. (Official Music Video)\n"
          ]
        }
      ]
    },
    {
      "cell_type": "code",
      "source": [
        "import yt_dlp\n",
        "\n",
        "YDL_OPTIONS = {\n",
        "    'format': 'bestaudio*',\n",
        "    'noplaylist': True,\n",
        "    'verbose': True,\n",
        "    'outtmpl': 'KPopDemonHuntersMusic-%(autonumber)s.%(title)s.mp3'\n",
        "}\n",
        "\n",
        "url='https://www.youtube.com/playlist?list=PLIx2W_gDlNxew8dgSdMn-s-T9noRgJEMA'\n",
        "with yt_dlp.YoutubeDL(YDL_OPTIONS) as ydl:\n",
        "    info = ydl.extract_info(url, download=True)"
      ],
      "metadata": {
        "colab": {
          "base_uri": "https://localhost:8080/"
        },
        "id": "r6atyCchFcyU",
        "outputId": "5aed91d4-07be-4ed1-e73d-a4fb934b4ebc",
        "collapsed": true
      },
      "execution_count": 2,
      "outputs": [
        {
          "output_type": "stream",
          "name": "stderr",
          "text": [
            "[debug] Encodings: locale utf-8, fs utf-8, pref utf-8, out UTF-8 (No ANSI), error UTF-8 (No ANSI), screen UTF-8 (No ANSI)\n",
            "[debug] yt-dlp version stable@2025.06.25 from yt-dlp/yt-dlp [1838a1ce5] (pip) API\n",
            "[debug] params: {'format': 'bestaudio*', 'noplaylist': True, 'verbose': True, 'outtmpl': 'KPopDemonHuntersMusic-%(autonumber)s.%(title)s.mp3', 'compat_opts': set(), 'http_headers': {'User-Agent': 'Mozilla/5.0 (Windows NT 10.0; Win64; x64) AppleWebKit/537.36 (KHTML, like Gecko) Chrome/96.0.4664.93 Safari/537.36', 'Accept': 'text/html,application/xhtml+xml,application/xml;q=0.9,*/*;q=0.8', 'Accept-Language': 'en-us,en;q=0.5', 'Sec-Fetch-Mode': 'navigate'}}\n",
            "[debug] Python 3.11.13 (CPython x86_64 64bit) - Linux-6.1.123+-x86_64-with-glibc2.35 (OpenSSL 3.0.2 15 Mar 2022, glibc 2.35)\n",
            "[debug] exe versions: ffmpeg 4.4.2 (setts), ffprobe 4.4.2\n",
            "[debug] Optional libraries: Cryptodome-3.23.0, certifi-2025.06.15, curl_cffi-0.11.4, requests-2.32.3, secretstorage-3.3.3, sqlite3-3.37.2, urllib3-2.4.0, websockets-15.0.1\n",
            "[debug] Proxy map: {'colab_language_server': '/usr/colab/bin/language_service'}\n",
            "[debug] Request Handlers: urllib, requests, websockets, curl_cffi\n",
            "[debug] Plugin directories: none\n",
            "[debug] Loaded 1860 extractors\n"
          ]
        },
        {
          "output_type": "stream",
          "name": "stdout",
          "text": [
            "[youtube:tab] Extracting URL: https://www.youtube.com/playlist?list=PLIx2W_gDlNxew8dgSdMn-s-T9noRgJEMA\n",
            "[youtube:tab] PLIx2W_gDlNxew8dgSdMn-s-T9noRgJEMA: Downloading webpage\n",
            "[youtube:tab] PLIx2W_gDlNxew8dgSdMn-s-T9noRgJEMA: Redownloading playlist API JSON with unavailable videos\n",
            "[download] Downloading playlist: KPop Demon Hunters Music\n",
            "[youtube:tab] PLIx2W_gDlNxew8dgSdMn-s-T9noRgJEMA page 1: Downloading API JSON\n",
            "[youtube:tab] Playlist KPop Demon Hunters Music: Downloading 18 items of 18\n"
          ]
        },
        {
          "output_type": "stream",
          "name": "stderr",
          "text": [
            "[debug] The information of all playlist entries will be held in memory\n"
          ]
        },
        {
          "output_type": "stream",
          "name": "stdout",
          "text": [
            "[download] Downloading item 1 of 18\n"
          ]
        },
        {
          "output_type": "stream",
          "name": "stderr",
          "text": [
            "[debug] [youtube] [pot] PO Token Providers: none\n",
            "[debug] [youtube] [pot] PO Token Cache Providers: memory\n",
            "[debug] [youtube] [pot] PO Token Cache Spec Providers: webpo\n"
          ]
        },
        {
          "output_type": "stream",
          "name": "stdout",
          "text": [
            "[youtube] Extracting URL: https://www.youtube.com/watch?v=yebNIHKAC4A\n",
            "[youtube] yebNIHKAC4A: Downloading webpage\n",
            "[youtube] yebNIHKAC4A: Downloading tv client config\n",
            "[youtube] yebNIHKAC4A: Downloading player a10d7fcc-main\n"
          ]
        },
        {
          "output_type": "stream",
          "name": "stderr",
          "text": [
            "[debug] Saving youtube-sts.a10d7fcc-main to cache\n"
          ]
        },
        {
          "output_type": "stream",
          "name": "stdout",
          "text": [
            "[youtube] yebNIHKAC4A: Downloading tv player API JSON\n",
            "[youtube] yebNIHKAC4A: Downloading ios player API JSON\n"
          ]
        },
        {
          "output_type": "stream",
          "name": "stderr",
          "text": [
            "[debug] [youtube] Extracting signature function a10d7fcc-main-108\n",
            "[debug] Saving youtube-sigfuncs.a10d7fcc-main-108 to cache\n",
            "[debug] [youtube] Decrypted nsig BBIhq35zL20meYouo8Ok0 => OctSQHeSHGPQqw\n",
            "[debug] Saving youtube-nsig.a10d7fcc-main to cache\n",
            "[debug] [youtube] Decrypted nsig KWI8bLL9cXZPNkq_2uM5B => qk4jHnzDqGEr6w\n",
            "[debug] [youtube] Extracting signature function a10d7fcc-main-104\n",
            "[debug] Saving youtube-sigfuncs.a10d7fcc-main-104 to cache\n",
            "[debug] [youtube] yebNIHKAC4A: ios client https formats require a GVS PO Token which was not provided. They will be skipped as they may yield HTTP Error 403. You can manually pass a GVS PO Token for this client with --extractor-args \"youtube:po_token=ios.gvs+XXX\". For more information, refer to  https://github.com/yt-dlp/yt-dlp/wiki/PO-Token-Guide . To enable these broken formats anyway, pass --extractor-args \"youtube:formats=missing_pot\"\n"
          ]
        },
        {
          "output_type": "stream",
          "name": "stdout",
          "text": [
            "[youtube] yebNIHKAC4A: Downloading m3u8 information\n"
          ]
        },
        {
          "output_type": "stream",
          "name": "stderr",
          "text": [
            "[debug] Sort order given by extractor: quality, res, fps, hdr:12, source, vcodec, channels, acodec, lang, proto\n",
            "[debug] Formats sorted by: hasvid, ie_pref, quality, res, fps, hdr:12(7), source, vcodec, channels, acodec, lang, proto, size, br, asr, vext, aext, hasaud, id\n"
          ]
        },
        {
          "output_type": "stream",
          "name": "stdout",
          "text": [
            "[info] yebNIHKAC4A: Downloading 1 format(s): 18\n"
          ]
        },
        {
          "output_type": "stream",
          "name": "stderr",
          "text": [
            "[debug] Invoking http downloader on \"https://rr3---sn-5uaeznls.googlevideo.com/videoplayback?expire=1751294856&ei=KE9iaJOCGda1kucPweO-sAI&ip=35.229.88.102&id=o-AA8I1e2EBt09Un10VkQ8XwlCQz_XbEdBZAOHKnq3Tish&itag=18&source=youtube&requiressl=yes&xpc=EgVo2aDSNQ%3D%3D&met=1751273256%2C&mh=Fb&mm=31%2C29&mn=sn-5uaeznls%2Csn-5ualdnls&ms=au%2Crdu&mv=m&mvi=3&pl=20&rms=au%2Cau&ctier=L&bui=AY1jyLNe7OObMg_R5LHDg_-NPYWuMiferJvzr9D0ocbpazGzV2-HuVGFm-kmn0uaRWJlrmpY17GB329i&spc=l3OVKVKh18L_7qsN40WibMiQsa5cGYFSWcP2_j2AJxnwyFR9CbIbGCsn9JMEwSHE2w&vprv=1&svpuc=1&mime=video%2Fmp4&ns=uDF4le4ab9Zzw_2kp10kvNEQ&rqh=1&gir=yes&clen=13805729&ratebypass=yes&dur=198.832&lmt=1750805741869938&mt=1751272866&fvip=3&lmw=1&c=TVHTML5&sefc=1&txp=4538534&n=OctSQHeSHGPQqw&sparams=expire%2Cei%2Cip%2Cid%2Citag%2Csource%2Crequiressl%2Cxpc%2Cctier%2Cbui%2Cspc%2Cvprv%2Csvpuc%2Cmime%2Cns%2Crqh%2Cgir%2Cclen%2Cratebypass%2Cdur%2Clmt&lsparams=met%2Cmh%2Cmm%2Cmn%2Cms%2Cmv%2Cmvi%2Cpl%2Crms&lsig=APaTxxMwRQIhALE3m4h0LulBL9C8JKE4YknPeLoUId7fxpni6Hr0VBUeAiBLTX9EbD5MFEJEtgOTQ4plVX49jxwkzVANDSTzFHtdAg%3D%3D&sig=AJfQdSswRgIhAN40UVx5XKvfsa1TQ3OJjUj-kQs2trIHF94IvsBH1qbiAiEAtYvP6PyVro6qKCwHqXYRBGDjAszpGO-60creodQ2jPE%3D\"\n"
          ]
        },
        {
          "output_type": "stream",
          "name": "stdout",
          "text": [
            "[download] Destination: KPopDemonHuntersMusic-00001.“Golden” Official Lyric Video ｜ KPop Demon Hunters ｜ Sony Animation.mp3\n",
            "[download] 100% of   13.17MiB in 00:00:00 at 43.01MiB/s  \n",
            "[download] Downloading item 2 of 18\n",
            "[youtube] Extracting URL: https://www.youtube.com/watch?v=l8Dr7vzMSVE\n",
            "[youtube] l8Dr7vzMSVE: Downloading webpage\n",
            "[youtube] l8Dr7vzMSVE: Downloading tv client config\n",
            "[youtube] l8Dr7vzMSVE: Downloading tv player API JSON\n",
            "[youtube] l8Dr7vzMSVE: Downloading ios player API JSON\n"
          ]
        },
        {
          "output_type": "stream",
          "name": "stderr",
          "text": [
            "[debug] [youtube] Decrypted nsig IeIOMQ-dt722JOyImGN05 => bBzylsTy7Lgkow\n",
            "[debug] [youtube] Decrypted nsig e-IVKBDXv9MOC31rAl08q => 9vFisdDGIkeDaw\n",
            "[debug] [youtube] l8Dr7vzMSVE: ios client https formats require a GVS PO Token which was not provided. They will be skipped as they may yield HTTP Error 403. You can manually pass a GVS PO Token for this client with --extractor-args \"youtube:po_token=ios.gvs+XXX\". For more information, refer to  https://github.com/yt-dlp/yt-dlp/wiki/PO-Token-Guide . To enable these broken formats anyway, pass --extractor-args \"youtube:formats=missing_pot\"\n"
          ]
        },
        {
          "output_type": "stream",
          "name": "stdout",
          "text": [
            "[youtube] l8Dr7vzMSVE: Downloading m3u8 information\n"
          ]
        },
        {
          "output_type": "stream",
          "name": "stderr",
          "text": [
            "[debug] Sort order given by extractor: quality, res, fps, hdr:12, source, vcodec, channels, acodec, lang, proto\n",
            "[debug] Formats sorted by: hasvid, ie_pref, quality, res, fps, hdr:12(7), source, vcodec, channels, acodec, lang, proto, size, br, asr, vext, aext, hasaud, id\n"
          ]
        },
        {
          "output_type": "stream",
          "name": "stdout",
          "text": [
            "[info] l8Dr7vzMSVE: Downloading 1 format(s): 18\n"
          ]
        },
        {
          "output_type": "stream",
          "name": "stderr",
          "text": [
            "[debug] Invoking http downloader on \"https://rr2---sn-5uaezny6.googlevideo.com/videoplayback?expire=1751294862&ei=Lk9iaIWOH7nCkucPjvf0uQI&ip=35.229.88.102&id=o-AIZClXFeZpaqfNi1bu1cnkuBMwHquJAN0T6_qLuIsk-6&itag=18&source=youtube&requiressl=yes&xpc=EgVo2aDSNQ%3D%3D&met=1751273262%2C&mh=RM&mm=31%2C26&mn=sn-5uaezny6%2Csn-a5meknzl&ms=au%2Conr&mv=m&mvi=2&pl=20&rms=au%2Cau&ctier=L&bui=AY1jyLPYrpBn9SLT7OxW6N6Lusp5Ia1lmsdzpskQbzaOGJWILzXCkXO8VEDnM2cUf3ePxzqU8HEMIGMx&spc=l3OVKUmoJ-dQHGsrvsJ2mPiKWKqttrVdbF1jWvJHOhmepxF8OWSeJ8q1FwgY7e6lbw&vprv=1&svpuc=1&mime=video%2Fmp4&ns=OQ3IXuuRa6AH8FmLqrfK9sgQ&rqh=1&gir=yes&clen=15841769&ratebypass=yes&dur=187.338&lmt=1750710229952176&mt=1751272866&fvip=1&lmw=1&c=TVHTML5&sefc=1&txp=5538534&n=bBzylsTy7Lgkow&sparams=expire%2Cei%2Cip%2Cid%2Citag%2Csource%2Crequiressl%2Cxpc%2Cctier%2Cbui%2Cspc%2Cvprv%2Csvpuc%2Cmime%2Cns%2Crqh%2Cgir%2Cclen%2Cratebypass%2Cdur%2Clmt&lsparams=met%2Cmh%2Cmm%2Cmn%2Cms%2Cmv%2Cmvi%2Cpl%2Crms&lsig=APaTxxMwRAIga_Mjz8bsgrwU2X0YVviGdFx9uKr67MczFdyYHTQJ5T0CIDJEnOdPOXBQtRINCuzww0DFfvm2n9Oz9jyyBzkaESaV&sig=AJfQdSswRQIgIOsI-5hmB6nnTfXKRR0uCcQ7A_zp05FseEZM-Qa0wyQCIQCQkuYu5pgaxYijeeGDDuEk16oVGijTnyimo2BJKXr0CA%3D%3D\"\n"
          ]
        },
        {
          "output_type": "stream",
          "name": "stdout",
          "text": [
            "[download] Destination: KPopDemonHuntersMusic-00002.“Takedown” Official Lyric Video feat. Jeongyeon, Jihyo and Chaeyoung from TWICE ｜ KPop Demon Hunters.mp3\n",
            "[download] 100% of   15.11MiB in 00:00:00 at 47.59MiB/s  \n",
            "[download] Downloading item 3 of 18\n",
            "[youtube] Extracting URL: https://www.youtube.com/watch?v=QGsevnbItdU\n",
            "[youtube] QGsevnbItdU: Downloading webpage\n",
            "[youtube] QGsevnbItdU: Downloading tv client config\n",
            "[youtube] QGsevnbItdU: Downloading tv player API JSON\n",
            "[youtube] QGsevnbItdU: Downloading ios player API JSON\n"
          ]
        },
        {
          "output_type": "stream",
          "name": "stderr",
          "text": [
            "[debug] [youtube] Decrypted nsig v0sQzXTvLrZmENZw6EQwg => kpH6nzF2ZCZwhg\n",
            "[debug] [youtube] Decrypted nsig t50R82G86h-CRtDR2-tor => gndOoGKWNLbDtQ\n",
            "[debug] [youtube] QGsevnbItdU: ios client https formats require a GVS PO Token which was not provided. They will be skipped as they may yield HTTP Error 403. You can manually pass a GVS PO Token for this client with --extractor-args \"youtube:po_token=ios.gvs+XXX\". For more information, refer to  https://github.com/yt-dlp/yt-dlp/wiki/PO-Token-Guide . To enable these broken formats anyway, pass --extractor-args \"youtube:formats=missing_pot\"\n"
          ]
        },
        {
          "output_type": "stream",
          "name": "stdout",
          "text": [
            "[youtube] QGsevnbItdU: Downloading m3u8 information\n"
          ]
        },
        {
          "output_type": "stream",
          "name": "stderr",
          "text": [
            "[debug] Sort order given by extractor: quality, res, fps, hdr:12, source, vcodec, channels, acodec, lang, proto\n",
            "[debug] Formats sorted by: hasvid, ie_pref, quality, res, fps, hdr:12(7), source, vcodec, channels, acodec, lang, proto, size, br, asr, vext, aext, hasaud, id\n"
          ]
        },
        {
          "output_type": "stream",
          "name": "stdout",
          "text": [
            "[info] QGsevnbItdU: Downloading 1 format(s): 18\n"
          ]
        },
        {
          "output_type": "stream",
          "name": "stderr",
          "text": [
            "[debug] Invoking http downloader on \"https://rr3---sn-5ualdnsr.googlevideo.com/videoplayback?expire=1751294865&ei=MU9iaISAB_KAkucPmO-n8Ac&ip=35.229.88.102&id=o-AF3EOXd_HuUKVNXIAkknQUKR1zlqY0MI22tIUTfn0sa9&itag=18&source=youtube&requiressl=yes&xpc=EgVo2aDSNQ%3D%3D&met=1751273265%2C&mh=nx&mm=31%2C26&mn=sn-5ualdnsr%2Csn-a5mlrnls&ms=au%2Conr&mv=m&mvi=3&pl=20&rms=au%2Cau&ctier=L&bui=AY1jyLPPBgIc18ojE4vA6A7OyoPM3cPHZkupLRD1XiN5XZRK7hLiFZmG0vmre4bnhNIViRKSxm0uEefZ&spc=l3OVKZ3BLQDLDR3vF4b-RNZq4vJDDYtHNk6YAhspWqPuqeH0d6y5RGhSDOxyquJ-Tg&vprv=1&svpuc=1&mime=video%2Fmp4&ns=v8tVhaJfqbKTwOiy91BEtR4Q&rqh=1&gir=yes&clen=14775509&ratebypass=yes&dur=183.832&lmt=1750718637229164&mt=1751272866&fvip=2&lmw=1&c=TVHTML5&sefc=1&txp=5538534&n=kpH6nzF2ZCZwhg&sparams=expire%2Cei%2Cip%2Cid%2Citag%2Csource%2Crequiressl%2Cxpc%2Cctier%2Cbui%2Cspc%2Cvprv%2Csvpuc%2Cmime%2Cns%2Crqh%2Cgir%2Cclen%2Cratebypass%2Cdur%2Clmt&lsparams=met%2Cmh%2Cmm%2Cmn%2Cms%2Cmv%2Cmvi%2Cpl%2Crms&lsig=APaTxxMwRQIgRQQ_5S8Eq_nQ_LuCPga2QxH5D2N2vCsVy0R1f9xYD9cCIQCL0-ySkmZCpW7FWTMLzzcAyZxBraF7cR6gQHF5kssZvw%3D%3D&sig=AJfQdSswRgIhAK5gp4VSCfbq7HKM9UL3CKmNeTb1QhFjWcz4vzxo86rsAiEA55yEewTPWPSl3MbYvSU9V7zTySFaM14CcVzgZYBlzt8%3D\"\n"
          ]
        },
        {
          "output_type": "stream",
          "name": "stdout",
          "text": [
            "[download] Destination: KPopDemonHuntersMusic-00003.＂How It's Done＂ Official Lyric Video ｜ KPop Demon Hunters ｜ Sony Animation.mp3\n",
            "[download] 100% of   14.09MiB in 00:00:00 at 45.37MiB/s  \n",
            "[download] Downloading item 4 of 18\n",
            "[youtube] Extracting URL: https://www.youtube.com/watch?v=983bBbJx0Mk\n",
            "[youtube] 983bBbJx0Mk: Downloading webpage\n",
            "[youtube] 983bBbJx0Mk: Downloading tv client config\n",
            "[youtube] 983bBbJx0Mk: Downloading tv player API JSON\n",
            "[youtube] 983bBbJx0Mk: Downloading ios player API JSON\n"
          ]
        },
        {
          "output_type": "stream",
          "name": "stderr",
          "text": [
            "[debug] [youtube] Decrypted nsig qHIr4YUFEvtX2c1XptEvo => 9u_r-Ak1uUnq4w\n",
            "[debug] [youtube] Decrypted nsig m0IWpujVXeDSYxrLR2tbc => -x-mt6FJ4VFqvw\n",
            "[debug] [youtube] 983bBbJx0Mk: ios client https formats require a GVS PO Token which was not provided. They will be skipped as they may yield HTTP Error 403. You can manually pass a GVS PO Token for this client with --extractor-args \"youtube:po_token=ios.gvs+XXX\". For more information, refer to  https://github.com/yt-dlp/yt-dlp/wiki/PO-Token-Guide . To enable these broken formats anyway, pass --extractor-args \"youtube:formats=missing_pot\"\n"
          ]
        },
        {
          "output_type": "stream",
          "name": "stdout",
          "text": [
            "[youtube] 983bBbJx0Mk: Downloading m3u8 information\n"
          ]
        },
        {
          "output_type": "stream",
          "name": "stderr",
          "text": [
            "[debug] Sort order given by extractor: quality, res, fps, hdr:12, source, vcodec, channels, acodec, lang, proto\n",
            "[debug] Formats sorted by: hasvid, ie_pref, quality, res, fps, hdr:12(7), source, vcodec, channels, acodec, lang, proto, size, br, asr, vext, aext, hasaud, id\n"
          ]
        },
        {
          "output_type": "stream",
          "name": "stdout",
          "text": [
            "[info] 983bBbJx0Mk: Downloading 1 format(s): 18\n"
          ]
        },
        {
          "output_type": "stream",
          "name": "stderr",
          "text": [
            "[debug] Invoking http downloader on \"https://rr3---sn-5ualdnlr.googlevideo.com/videoplayback?expire=1751294867&ei=M09iaObhKMy3kucPwPCF0A0&ip=35.229.88.102&id=o-AHw5u0b0Ca5QFowB9h0L6eWICiD559nZeh0X9iGp6xsH&itag=18&source=youtube&requiressl=yes&xpc=EgVo2aDSNQ%3D%3D&met=1751273267%2C&mh=Zq&mm=31%2C26&mn=sn-5ualdnlr%2Csn-a5m7lnl6&ms=au%2Conr&mv=m&mvi=3&pl=20&rms=au%2Cau&ctier=L&bui=AY1jyLMuB9RduLoPE1eOzI_P0K-vKMIOG2-m_3NdwyPunFyMFRra_eo2kwKPTO9McojbXK4FdDt54hqQ&spc=l3OVKfHfiuvvXgQAdoVCYxtjetbqysJsz1-vI_6xJ10ioTdzE0iCrAJon3o7w8GAog&vprv=1&svpuc=1&mime=video%2Fmp4&ns=RjE0x7ejOxGdSbOIij4ePy8Q&rqh=1&gir=yes&clen=12966618&ratebypass=yes&dur=170.109&lmt=1750715219114680&mt=1751272866&fvip=5&lmw=1&c=TVHTML5&sefc=1&txp=5538534&n=9u_r-Ak1uUnq4w&sparams=expire%2Cei%2Cip%2Cid%2Citag%2Csource%2Crequiressl%2Cxpc%2Cctier%2Cbui%2Cspc%2Cvprv%2Csvpuc%2Cmime%2Cns%2Crqh%2Cgir%2Cclen%2Cratebypass%2Cdur%2Clmt&lsparams=met%2Cmh%2Cmm%2Cmn%2Cms%2Cmv%2Cmvi%2Cpl%2Crms&lsig=APaTxxMwRgIhANqIxCW8xR1w5fr8X5J2If4IICOxTEtvFweRgBJ_H097AiEA9zFKdf98xAleOF94gtKmTbVlKltdZzxmytd74FOVYwM%3D&sig=AJfQdSswRAIgS_i_pAwjvoEhVR-Ro-3zm_IXdJ8yLYxCceHOj5KN1DQCIDjOOH1v8iA43j3OdpZlYxEADgWhogreHcDbG_N-_Xq1\"\n"
          ]
        },
        {
          "output_type": "stream",
          "name": "stdout",
          "text": [
            "[download] Destination: KPopDemonHuntersMusic-00004.＂Soda Pop＂ Official Lyric Video ｜ KPop Demon Hunters ｜ Sony Animation.mp3\n",
            "[download] 100% of   12.37MiB in 00:00:00 at 39.73MiB/s  \n",
            "[download] Downloading item 5 of 18\n",
            "[youtube] Extracting URL: https://www.youtube.com/watch?v=cWppAbqm9I8\n",
            "[youtube] cWppAbqm9I8: Downloading webpage\n",
            "[youtube] cWppAbqm9I8: Downloading tv client config\n",
            "[youtube] cWppAbqm9I8: Downloading tv player API JSON\n",
            "[youtube] cWppAbqm9I8: Downloading ios player API JSON\n"
          ]
        },
        {
          "output_type": "stream",
          "name": "stderr",
          "text": [
            "[debug] [youtube] Decrypted nsig kAsEbUeB6aDFOKpYxzlF5 => q__pbwdbAGsRDg\n",
            "[debug] [youtube] Decrypted nsig OsIfYBcQoQzxknp6nXaDT => uHY1Od59_yVJyw\n",
            "[debug] [youtube] cWppAbqm9I8: ios client https formats require a GVS PO Token which was not provided. They will be skipped as they may yield HTTP Error 403. You can manually pass a GVS PO Token for this client with --extractor-args \"youtube:po_token=ios.gvs+XXX\". For more information, refer to  https://github.com/yt-dlp/yt-dlp/wiki/PO-Token-Guide . To enable these broken formats anyway, pass --extractor-args \"youtube:formats=missing_pot\"\n"
          ]
        },
        {
          "output_type": "stream",
          "name": "stdout",
          "text": [
            "[youtube] cWppAbqm9I8: Downloading m3u8 information\n"
          ]
        },
        {
          "output_type": "stream",
          "name": "stderr",
          "text": [
            "[debug] Sort order given by extractor: quality, res, fps, hdr:12, source, vcodec, channels, acodec, lang, proto\n",
            "[debug] Formats sorted by: hasvid, ie_pref, quality, res, fps, hdr:12(7), source, vcodec, channels, acodec, lang, proto, size, br, asr, vext, aext, hasaud, id\n"
          ]
        },
        {
          "output_type": "stream",
          "name": "stdout",
          "text": [
            "[info] cWppAbqm9I8: Downloading 1 format(s): 18\n"
          ]
        },
        {
          "output_type": "stream",
          "name": "stderr",
          "text": [
            "[debug] Invoking http downloader on \"https://rr3---sn-5uaeznyz.googlevideo.com/videoplayback?expire=1751294871&ei=N09iaNiTB9OBkucP2bmoiQ4&ip=35.229.88.102&id=o-AA-QGCkIDPynzk0l6_IcJIRt9Q1K0epsX3pSJT3atKnJ&itag=18&source=youtube&requiressl=yes&xpc=EgVo2aDSNQ%3D%3D&met=1751273271%2C&mh=4t&mm=31%2C29&mn=sn-5uaeznyz%2Csn-5ualdnll&ms=au%2Crdu&mv=m&mvi=3&pl=20&rms=au%2Cau&ctier=L&bui=AY1jyLOZX7FPZG3_xHgiLCrcsDv-Lp0vFkKYO0jx5oL5qE7ILlgtZZTYgBjbtwsWRq_kXMn4yICCgZ3g&spc=l3OVKRljDOeVrdsuGkmIhkU7nMMNypFeTJ_k2UgzKSqhproAIvTUlYGryRnt1eYaFQ&vprv=1&svpuc=1&mime=video%2Fmp4&ns=9esqKcw-f_jSr_4PcPT54rEQ&rqh=1&gir=yes&clen=7844341&ratebypass=yes&dur=119.838&lmt=1751153020265536&mt=1751272866&fvip=4&lmw=1&c=TVHTML5&sefc=1&txp=4538534&n=q__pbwdbAGsRDg&sparams=expire%2Cei%2Cip%2Cid%2Citag%2Csource%2Crequiressl%2Cxpc%2Cctier%2Cbui%2Cspc%2Cvprv%2Csvpuc%2Cmime%2Cns%2Crqh%2Cgir%2Cclen%2Cratebypass%2Cdur%2Clmt&sig=AJfQdSswRAIgCSgRq1BlRGs6w54fBLzC7zgka_EonCKaZKCWoEwI96wCIGKoBiLbjHTDBW__cxB8bGP5l1GJ1eitolCtaEXohxJc&lsparams=met%2Cmh%2Cmm%2Cmn%2Cms%2Cmv%2Cmvi%2Cpl%2Crms&lsig=APaTxxMwRQIhAKPHFYKOUpimfuG9DVYrKwTNsoCuHPLNfyp8CEBDkoGoAiBiSrzUOy2kB9paZ37TbJnM3HELiQTL1GB0PHmd7rfBCA%3D%3D\"\n"
          ]
        },
        {
          "output_type": "stream",
          "name": "stdout",
          "text": [
            "[download] Destination: KPopDemonHuntersMusic-00005.＂Your Idol＂ ｜ Official Song Clip ｜ KPop Demon Hunters ｜ Sony Animation.mp3\n",
            "[download] 100% of    7.48MiB in 00:00:00 at 47.53MiB/s  \n",
            "[download] Downloading item 6 of 18\n",
            "[youtube] Extracting URL: https://www.youtube.com/watch?v=fjOeJssZX_Q\n",
            "[youtube] fjOeJssZX_Q: Downloading webpage\n",
            "[youtube] fjOeJssZX_Q: Downloading tv client config\n",
            "[youtube] fjOeJssZX_Q: Downloading tv player API JSON\n",
            "[youtube] fjOeJssZX_Q: Downloading ios player API JSON\n"
          ]
        },
        {
          "output_type": "stream",
          "name": "stderr",
          "text": [
            "[debug] [youtube] Decrypted nsig vqI13nEfxZTbBxE06qiJw => QKtHA_3fZR1M1w\n",
            "[debug] [youtube] Decrypted nsig zaMgC1EbK2j62ymiAOQE1 => wUsyPFPamjFefA\n",
            "[debug] [youtube] fjOeJssZX_Q: ios client https formats require a GVS PO Token which was not provided. They will be skipped as they may yield HTTP Error 403. You can manually pass a GVS PO Token for this client with --extractor-args \"youtube:po_token=ios.gvs+XXX\". For more information, refer to  https://github.com/yt-dlp/yt-dlp/wiki/PO-Token-Guide . To enable these broken formats anyway, pass --extractor-args \"youtube:formats=missing_pot\"\n"
          ]
        },
        {
          "output_type": "stream",
          "name": "stdout",
          "text": [
            "[youtube] fjOeJssZX_Q: Downloading m3u8 information\n"
          ]
        },
        {
          "output_type": "stream",
          "name": "stderr",
          "text": [
            "[debug] Sort order given by extractor: quality, res, fps, hdr:12, source, vcodec, channels, acodec, lang, proto\n",
            "[debug] Formats sorted by: hasvid, ie_pref, quality, res, fps, hdr:12(7), source, vcodec, channels, acodec, lang, proto, size, br, asr, vext, aext, hasaud, id\n"
          ]
        },
        {
          "output_type": "stream",
          "name": "stdout",
          "text": [
            "[info] fjOeJssZX_Q: Downloading 1 format(s): 18\n"
          ]
        },
        {
          "output_type": "stream",
          "name": "stderr",
          "text": [
            "[debug] Invoking http downloader on \"https://rr4---sn-2o5ua5-53.googlevideo.com/videoplayback?expire=1751294873&ei=OU9iaLDFKYCVkucP-e_Q4A8&ip=35.229.88.102&id=o-AOqsN_VtJlw2z-UCDxTNT_sgXM6H6mXr7p3NhQF1M3Jz&itag=18&source=youtube&requiressl=yes&xpc=EgVo2aDSNQ%3D%3D&met=1751273273%2C&mh=iA&mm=31%2C26&mn=sn-2o5ua5-53%2Csn-a5mekn6s&ms=au%2Conr&mv=m&mvi=4&pl=20&rms=au%2Cau&ctier=L&bui=AY1jyLMI779CHDYwe2THSgPotceXASs2Zg3AefhO238RHjI9lu9TGFqy6pZNYYvvGDWhZqUOm-zhDHuR&spc=l3OVKRcsUnfT9dcT14kH7nXKLx6cdykWBaYdmDlnerJgmPOXpo2AoqusAeiQramIFw&vprv=1&svpuc=1&mime=video%2Fmp4&ns=-h9PeBYrtR0nKfAZNAbl8J8Q&rqh=1&gir=yes&clen=9971006&ratebypass=yes&dur=192.052&lmt=1750973293741977&mt=1751272866&fvip=3&lmw=1&c=TVHTML5&sefc=1&txp=5538534&n=QKtHA_3fZR1M1w&sparams=expire%2Cei%2Cip%2Cid%2Citag%2Csource%2Crequiressl%2Cxpc%2Cctier%2Cbui%2Cspc%2Cvprv%2Csvpuc%2Cmime%2Cns%2Crqh%2Cgir%2Cclen%2Cratebypass%2Cdur%2Clmt&sig=AJfQdSswRgIhAJXuRTZxXM6GJa8-88_iSk1qgBan0gyHVUyFk-PU0BoLAiEA5cdFVmtIfpWDr3FjlCBipLE2LcLN_yh1b6BxC9BYWtw%3D&lsparams=met%2Cmh%2Cmm%2Cmn%2Cms%2Cmv%2Cmvi%2Cpl%2Crms&lsig=APaTxxMwRQIhANFRteDjCLDJMPV5YA62RSgE-NGSuLvtnVKLeJsZTSZvAiBpJ1rCFgsG3JojAKcAmjIuufrtNRWkby6Fe0vzvr3gug%3D%3D\"\n"
          ]
        },
        {
          "output_type": "stream",
          "name": "stdout",
          "text": [
            "[download] Destination: KPopDemonHuntersMusic-00006.＂Free＂ ｜ Official Lyric Video ｜ Sony Animation.mp3\n",
            "[download] 100% of    9.51MiB in 00:00:00 at 54.13MiB/s  \n",
            "[download] Downloading item 7 of 18\n",
            "[youtube] Extracting URL: https://www.youtube.com/watch?v=nMNvAnkIFyM\n",
            "[youtube] nMNvAnkIFyM: Downloading webpage\n",
            "[youtube] nMNvAnkIFyM: Downloading tv client config\n",
            "[youtube] nMNvAnkIFyM: Downloading tv player API JSON\n",
            "[youtube] nMNvAnkIFyM: Downloading ios player API JSON\n"
          ]
        },
        {
          "output_type": "stream",
          "name": "stderr",
          "text": [
            "[debug] [youtube] Decrypted nsig nLsNUjaDmY359_LtkJt2l => Ho7RkXoACxypRg\n",
            "[debug] [youtube] Decrypted nsig 60si9xyACqjctYUZghTkH => GA3YR9FSe5Q5Eg\n",
            "[debug] [youtube] nMNvAnkIFyM: ios client https formats require a GVS PO Token which was not provided. They will be skipped as they may yield HTTP Error 403. You can manually pass a GVS PO Token for this client with --extractor-args \"youtube:po_token=ios.gvs+XXX\". For more information, refer to  https://github.com/yt-dlp/yt-dlp/wiki/PO-Token-Guide . To enable these broken formats anyway, pass --extractor-args \"youtube:formats=missing_pot\"\n"
          ]
        },
        {
          "output_type": "stream",
          "name": "stdout",
          "text": [
            "[youtube] nMNvAnkIFyM: Downloading m3u8 information\n"
          ]
        },
        {
          "output_type": "stream",
          "name": "stderr",
          "text": [
            "[debug] Sort order given by extractor: quality, res, fps, hdr:12, source, vcodec, channels, acodec, lang, proto\n",
            "[debug] Formats sorted by: hasvid, ie_pref, quality, res, fps, hdr:12(7), source, vcodec, channels, acodec, lang, proto, size, br, asr, vext, aext, hasaud, id\n"
          ]
        },
        {
          "output_type": "stream",
          "name": "stdout",
          "text": [
            "[info] nMNvAnkIFyM: Downloading 1 format(s): 18\n"
          ]
        },
        {
          "output_type": "stream",
          "name": "stderr",
          "text": [
            "[debug] Invoking http downloader on \"https://rr3---sn-5ualdnsr.googlevideo.com/videoplayback?expire=1751294876&ei=PE9iaN7QE4nEkucPw5DjiQI&ip=35.229.88.102&id=o-AD6fYlrelbeZv1YkNOJce4IPzy0hLpv170MV-s1BZ3Cy&itag=18&source=youtube&requiressl=yes&xpc=EgVo2aDSNQ%3D%3D&met=1751273276%2C&mh=4H&mm=31%2C29&mn=sn-5ualdnsr%2Csn-5uaeznld&ms=au%2Crdu&mv=m&mvi=3&pl=20&rms=au%2Cau&ctier=L&gcr=us&bui=AY1jyLPp7l2_0ZS3kue5NK9v0b6sXbbvvA3uZjoXOU5ASym8jg30Ew_T4K0v6KtOjIW2_KBFPZLchf55&spc=l3OVKTRseFMZ6t0lzAk8iAmOUxUw1HWB-Drq24n2o5YyJAPxJfqkAhWsRoTqYU_Uig&vprv=1&svpuc=1&mime=video%2Fmp4&ns=JCISQDjBcV02CQqlnN8jSc0Q&rqh=1&gir=yes&clen=3756052&ratebypass=yes&dur=181.231&lmt=1751006282678836&mt=1751272866&fvip=5&lmw=1&c=TVHTML5&sefc=1&txp=5538534&n=Ho7RkXoACxypRg&sparams=expire%2Cei%2Cip%2Cid%2Citag%2Csource%2Crequiressl%2Cxpc%2Cctier%2Cgcr%2Cbui%2Cspc%2Cvprv%2Csvpuc%2Cmime%2Cns%2Crqh%2Cgir%2Cclen%2Cratebypass%2Cdur%2Clmt&lsparams=met%2Cmh%2Cmm%2Cmn%2Cms%2Cmv%2Cmvi%2Cpl%2Crms&lsig=APaTxxMwRgIhALW7oKVXvXIgcCTu8-4TeWN2YZJkFqyKkMg8XSOKqwJoAiEAm6t0-oiMLTpneN3wYS8Zaj7Viv-kY01bu_00N_AtkPA%3D&sig=AJfQdSswRAIgdityZmxOkuq3_KFwA32Vyz1lwxmEAq19QWegUgl0_GMCIG1EzqYjMnvj3VYHPB7AbgA-znl3oNlbjLVzB8FnlP7e\"\n"
          ]
        },
        {
          "output_type": "stream",
          "name": "stdout",
          "text": [
            "[download] Destination: KPopDemonHuntersMusic-00007.“TAKEDOWN” (JEONGYEON, JIHYO, CHAEYOUNG) KPop Demon Hunters  ｜ TWICE.mp3\n",
            "[download] 100% of    3.58MiB in 00:00:00 at 20.28MiB/s  \n",
            "[download] Downloading item 8 of 18\n",
            "[youtube] Extracting URL: https://www.youtube.com/watch?v=5TCOCqw1A58\n",
            "[youtube] 5TCOCqw1A58: Downloading webpage\n",
            "[youtube] 5TCOCqw1A58: Downloading tv client config\n",
            "[youtube] 5TCOCqw1A58: Downloading tv player API JSON\n",
            "[youtube] 5TCOCqw1A58: Downloading ios player API JSON\n"
          ]
        },
        {
          "output_type": "stream",
          "name": "stderr",
          "text": [
            "[debug] [youtube] Decrypted nsig Zc0RUPGSajbkVHedlqxBW => mcEworR7O2O5xQ\n",
            "[debug] [youtube] Decrypted nsig u1sbQJTLE2gIDtqCOf6QS => CI_sKlGmgihXVg\n",
            "[debug] [youtube] 5TCOCqw1A58: ios client https formats require a GVS PO Token which was not provided. They will be skipped as they may yield HTTP Error 403. You can manually pass a GVS PO Token for this client with --extractor-args \"youtube:po_token=ios.gvs+XXX\". For more information, refer to  https://github.com/yt-dlp/yt-dlp/wiki/PO-Token-Guide . To enable these broken formats anyway, pass --extractor-args \"youtube:formats=missing_pot\"\n"
          ]
        },
        {
          "output_type": "stream",
          "name": "stdout",
          "text": [
            "[youtube] 5TCOCqw1A58: Downloading m3u8 information\n"
          ]
        },
        {
          "output_type": "stream",
          "name": "stderr",
          "text": [
            "[debug] Sort order given by extractor: quality, res, fps, hdr:12, source, vcodec, channels, acodec, lang, proto\n",
            "[debug] Formats sorted by: hasvid, ie_pref, quality, res, fps, hdr:12(7), source, vcodec, channels, acodec, lang, proto, size, br, asr, vext, aext, hasaud, id\n"
          ]
        },
        {
          "output_type": "stream",
          "name": "stdout",
          "text": [
            "[info] 5TCOCqw1A58: Downloading 1 format(s): 18\n"
          ]
        },
        {
          "output_type": "stream",
          "name": "stderr",
          "text": [
            "[debug] Invoking http downloader on \"https://rr4---sn-5uaeznel.googlevideo.com/videoplayback?expire=1751294878&ei=Pk9iaP6cMbO2kucP_eXMoA4&ip=35.229.88.102&id=o-AISxDC_bQ214tLg0wlnsprlWPUTEzWbtuRLD5fY_2N61&itag=18&source=youtube&requiressl=yes&xpc=EgVo2aDSNQ%3D%3D&met=1751273278%2C&mh=1n&mm=31%2C29&mn=sn-5uaeznel%2Csn-5ualdns6&ms=au%2Crdu&mv=m&mvi=4&pl=20&rms=au%2Cau&ctier=L&gcr=us&bui=AY1jyLP5CWfVvixLSshIKIwWqZxTRhe8WoER1FLXzOkss9RyEZDYuHvD-hlDmlIaS9paSsIr9uGYbLqy&spc=l3OVKfYLnz-FwGY46035uE22S27E3_BMjtndBSavDGiIPbjXn4EOfAqyFJkcO_gapA&vprv=1&svpuc=1&mime=video%2Fmp4&ns=nnn2i3eZcBtTGzcqwxHcGXAQ&rqh=1&gir=yes&clen=3823146&ratebypass=yes&dur=175.101&lmt=1751145029838812&mt=1751272866&fvip=1&lmw=1&c=TVHTML5&sefc=1&txp=5538534&n=mcEworR7O2O5xQ&sparams=expire%2Cei%2Cip%2Cid%2Citag%2Csource%2Crequiressl%2Cxpc%2Cctier%2Cgcr%2Cbui%2Cspc%2Cvprv%2Csvpuc%2Cmime%2Cns%2Crqh%2Cgir%2Cclen%2Cratebypass%2Cdur%2Clmt&lsparams=met%2Cmh%2Cmm%2Cmn%2Cms%2Cmv%2Cmvi%2Cpl%2Crms&lsig=APaTxxMwRQIhANzoUzb1lXDOlyC20q-NbKHZKOmmHCM3T0aRiIgErLdPAiAubX7TawbQCCsWPJLmkRMvjPSmBPDUDhxW4YrH3UwAzA%3D%3D&sig=AJfQdSswRAIgZ8O9IS8zxyHvwUjMgUAYLcNdDyLP14F5H30OGBZYjVwCIDX4c7uieC5vk9j771yK5BWF2sfraPkEueuDtMYAJi_6\"\n"
          ]
        },
        {
          "output_type": "stream",
          "name": "stdout",
          "text": [
            "[download] Destination: KPopDemonHuntersMusic-00008.“How It's Done” KPop Demon Hunters (Soundtrack from the Netflix Film) ｜ HUNTR⧸X.mp3\n",
            "[download] 100% of    3.65MiB in 00:00:00 at 22.80MiB/s  \n",
            "[download] Downloading item 9 of 18\n",
            "[youtube] Extracting URL: https://www.youtube.com/watch?v=9cZ7Nl3Ynxo\n",
            "[youtube] 9cZ7Nl3Ynxo: Downloading webpage\n",
            "[youtube] 9cZ7Nl3Ynxo: Downloading tv client config\n",
            "[youtube] 9cZ7Nl3Ynxo: Downloading tv player API JSON\n",
            "[youtube] 9cZ7Nl3Ynxo: Downloading ios player API JSON\n"
          ]
        },
        {
          "output_type": "stream",
          "name": "stderr",
          "text": [
            "[debug] [youtube] Decrypted nsig uY0HSkLeX-h7ATqLWJOgR => IcijeYBOryPjmQ\n",
            "[debug] [youtube] Decrypted nsig NTImtpfnohicYUk_raEke => OrRIV1wSlz-J3w\n",
            "[debug] [youtube] 9cZ7Nl3Ynxo: ios client https formats require a GVS PO Token which was not provided. They will be skipped as they may yield HTTP Error 403. You can manually pass a GVS PO Token for this client with --extractor-args \"youtube:po_token=ios.gvs+XXX\". For more information, refer to  https://github.com/yt-dlp/yt-dlp/wiki/PO-Token-Guide . To enable these broken formats anyway, pass --extractor-args \"youtube:formats=missing_pot\"\n"
          ]
        },
        {
          "output_type": "stream",
          "name": "stdout",
          "text": [
            "[youtube] 9cZ7Nl3Ynxo: Downloading m3u8 information\n"
          ]
        },
        {
          "output_type": "stream",
          "name": "stderr",
          "text": [
            "[debug] Sort order given by extractor: quality, res, fps, hdr:12, source, vcodec, channels, acodec, lang, proto\n",
            "[debug] Formats sorted by: hasvid, ie_pref, quality, res, fps, hdr:12(7), source, vcodec, channels, acodec, lang, proto, size, br, asr, vext, aext, hasaud, id\n"
          ]
        },
        {
          "output_type": "stream",
          "name": "stdout",
          "text": [
            "[info] 9cZ7Nl3Ynxo: Downloading 1 format(s): 18\n"
          ]
        },
        {
          "output_type": "stream",
          "name": "stderr",
          "text": [
            "[debug] Invoking http downloader on \"https://rr5---sn-5uaeznes.googlevideo.com/videoplayback?expire=1751294881&ei=QU9iaMSiEI20kucPzJ7WgQ4&ip=35.229.88.102&id=o-AI26sb72baMHDvglbS38eTE42XbG0m91ngGqdYCb8JiN&itag=18&source=youtube&requiressl=yes&xpc=EgVo2aDSNQ%3D%3D&met=1751273281%2C&mh=hl&mm=31%2C26&mn=sn-5uaeznes%2Csn-a5mekn6k&ms=au%2Conr&mv=m&mvi=5&pl=20&rms=au%2Cau&ctier=L&gcr=us&bui=AY1jyLN3GvtKuwMPIybg06cQtXpfAlLh8vAaDjbqj9tIiuBuAsLOB5x8H2QO8vBJD-CN5Nu1TzDtfplm&spc=l3OVKXFEeKVGgY44BLGjbK93mJeJZALuoU88Yj09Nal4SivXxjTU_XfNsUV5FHsS3Q&vprv=1&svpuc=1&mime=video%2Fmp4&ns=GsfD9UwaU8UeijKHTB0WHvsQ&rqh=1&gir=yes&clen=3092626&ratebypass=yes&dur=150.743&lmt=1750993556729058&mt=1751272866&fvip=3&lmw=1&c=TVHTML5&sefc=1&txp=5438534&n=IcijeYBOryPjmQ&sparams=expire%2Cei%2Cip%2Cid%2Citag%2Csource%2Crequiressl%2Cxpc%2Cctier%2Cgcr%2Cbui%2Cspc%2Cvprv%2Csvpuc%2Cmime%2Cns%2Crqh%2Cgir%2Cclen%2Cratebypass%2Cdur%2Clmt&lsparams=met%2Cmh%2Cmm%2Cmn%2Cms%2Cmv%2Cmvi%2Cpl%2Crms&lsig=APaTxxMwRgIhANYrDADAgvH5MKPsW8-mxiE3IyOExrGqroinv3wR_DzVAiEAoXKXUmume65FC62fANt_oJle-KA3TwtOEja1F1Sz3dA%3D&sig=AJfQdSswRAIgNavmlwoEKsfrckveuimFG1Yd6nt7YaVU6n2_niJkh1wCIDf9VdAGopVo4VV_Gr-Ek9wLa5pxT8lGYjsTkXNb08Tf\"\n"
          ]
        },
        {
          "output_type": "stream",
          "name": "stdout",
          "text": [
            "[download] Destination: KPopDemonHuntersMusic-00009.“Soda Pop” KPop Demon Hunters (Soundtrack from the Netflix Film) ｜ Saja Boys.mp3\n",
            "[download] 100% of    2.95MiB in 00:00:00 at 16.69MiB/s  \n",
            "[download] Downloading item 10 of 18\n",
            "[youtube] Extracting URL: https://www.youtube.com/watch?v=fPLAgY5bU1Y\n",
            "[youtube] fPLAgY5bU1Y: Downloading webpage\n",
            "[youtube] fPLAgY5bU1Y: Downloading tv client config\n",
            "[youtube] fPLAgY5bU1Y: Downloading tv player API JSON\n",
            "[youtube] fPLAgY5bU1Y: Downloading ios player API JSON\n"
          ]
        },
        {
          "output_type": "stream",
          "name": "stderr",
          "text": [
            "[debug] [youtube] Decrypted nsig gYIqAFf_rmL8CCCyVKFjW => axwEZhBRe1hkFw\n",
            "[debug] [youtube] Decrypted nsig 5O0plCXFwYf3jYXGeVtX2 => QvQfYert5GsVnQ\n",
            "[debug] [youtube] fPLAgY5bU1Y: ios client https formats require a GVS PO Token which was not provided. They will be skipped as they may yield HTTP Error 403. You can manually pass a GVS PO Token for this client with --extractor-args \"youtube:po_token=ios.gvs+XXX\". For more information, refer to  https://github.com/yt-dlp/yt-dlp/wiki/PO-Token-Guide . To enable these broken formats anyway, pass --extractor-args \"youtube:formats=missing_pot\"\n"
          ]
        },
        {
          "output_type": "stream",
          "name": "stdout",
          "text": [
            "[youtube] fPLAgY5bU1Y: Downloading m3u8 information\n"
          ]
        },
        {
          "output_type": "stream",
          "name": "stderr",
          "text": [
            "[debug] Sort order given by extractor: quality, res, fps, hdr:12, source, vcodec, channels, acodec, lang, proto\n",
            "[debug] Formats sorted by: hasvid, ie_pref, quality, res, fps, hdr:12(7), source, vcodec, channels, acodec, lang, proto, size, br, asr, vext, aext, hasaud, id\n"
          ]
        },
        {
          "output_type": "stream",
          "name": "stdout",
          "text": [
            "[info] fPLAgY5bU1Y: Downloading 1 format(s): 18\n"
          ]
        },
        {
          "output_type": "stream",
          "name": "stderr",
          "text": [
            "[debug] Invoking http downloader on \"https://rr2---sn-5uaeznes.googlevideo.com/videoplayback?expire=1751294884&ei=RE9iaJO-D76BkucPiPjIwA4&ip=35.229.88.102&id=o-AJAOqweC6zFaDVLeWuBqYajR3UsvibJfZezXjRKnbCcx&itag=18&source=youtube&requiressl=yes&xpc=EgVo2aDSNQ%3D%3D&met=1751273284%2C&mh=JU&mm=31%2C29&mn=sn-5uaeznes%2Csn-5ualdnsr&ms=au%2Crdu&mv=m&mvi=2&pl=20&rms=au%2Cau&ctier=L&gcr=us&bui=AY1jyLPg1F_GYpW9CLY62ssO9D5HzxGawBHHqbytomV2LQpm43gtoNZslq417Lc5IJWX1TV4h53CLKAa&spc=l3OVKQEzEW1Bc_NXKp0hwbuV2TIZTyrPZi47DUX3H0ZnQf_u6UH8rPMSu0dMHYrhGQ&vprv=1&svpuc=1&mime=video%2Fmp4&ns=PzZnxmtJeGmUtcK8xCwjgxkQ&rqh=1&gir=yes&clen=3895242&ratebypass=yes&dur=193.979&lmt=1751071080478102&mt=1751272866&fvip=4&lmw=1&c=TVHTML5&sefc=1&txp=5538534&n=axwEZhBRe1hkFw&sparams=expire%2Cei%2Cip%2Cid%2Citag%2Csource%2Crequiressl%2Cxpc%2Cctier%2Cgcr%2Cbui%2Cspc%2Cvprv%2Csvpuc%2Cmime%2Cns%2Crqh%2Cgir%2Cclen%2Cratebypass%2Cdur%2Clmt&lsparams=met%2Cmh%2Cmm%2Cmn%2Cms%2Cmv%2Cmvi%2Cpl%2Crms&lsig=APaTxxMwRQIgYuf1GYOztN-Cv6kQBzHrU595jRgd61Yeg0_9VMfhLHECIQDNWRlsKs4By8NIYH8H6JEvMO7bc05tobUJmWK2BspHeQ%3D%3D&sig=AJfQdSswRQIhAPcRmNf-gHcsVI1Mpo6VqeDyFGvMiVHNu0g-5q4TN1NhAiBX_9rO0Z4hOaO2OPlgCes2xz5dWrVRvaStK6zN63MlXQ%3D%3D\"\n"
          ]
        },
        {
          "output_type": "stream",
          "name": "stdout",
          "text": [
            "[download] Destination: KPopDemonHuntersMusic-00010.“Golden” KPop Demon Hunters (Soundtrack from the Netflix Film) ｜ HUNTR⧸X.mp3\n",
            "[download] 100% of    3.71MiB in 00:00:00 at 21.00MiB/s  \n",
            "[download] Downloading item 11 of 18\n",
            "[youtube] Extracting URL: https://www.youtube.com/watch?v=Ve_a9CXjlQc\n",
            "[youtube] Ve_a9CXjlQc: Downloading webpage\n",
            "[youtube] Ve_a9CXjlQc: Downloading tv client config\n",
            "[youtube] Ve_a9CXjlQc: Downloading tv player API JSON\n",
            "[youtube] Ve_a9CXjlQc: Downloading ios player API JSON\n"
          ]
        },
        {
          "output_type": "stream",
          "name": "stderr",
          "text": [
            "[debug] [youtube] Decrypted nsig Zl0fWNFJhJ3m3dUnnXTa6 => 51uyOp-It5-BhQ\n",
            "[debug] [youtube] Decrypted nsig 3b08OF-J5__YsTmhKokCH => bTC8HhQ8O70nNQ\n",
            "[debug] [youtube] Ve_a9CXjlQc: ios client https formats require a GVS PO Token which was not provided. They will be skipped as they may yield HTTP Error 403. You can manually pass a GVS PO Token for this client with --extractor-args \"youtube:po_token=ios.gvs+XXX\". For more information, refer to  https://github.com/yt-dlp/yt-dlp/wiki/PO-Token-Guide . To enable these broken formats anyway, pass --extractor-args \"youtube:formats=missing_pot\"\n"
          ]
        },
        {
          "output_type": "stream",
          "name": "stdout",
          "text": [
            "[youtube] Ve_a9CXjlQc: Downloading m3u8 information\n"
          ]
        },
        {
          "output_type": "stream",
          "name": "stderr",
          "text": [
            "[debug] Sort order given by extractor: quality, res, fps, hdr:12, source, vcodec, channels, acodec, lang, proto\n",
            "[debug] Formats sorted by: hasvid, ie_pref, quality, res, fps, hdr:12(7), source, vcodec, channels, acodec, lang, proto, size, br, asr, vext, aext, hasaud, id\n"
          ]
        },
        {
          "output_type": "stream",
          "name": "stdout",
          "text": [
            "[info] Ve_a9CXjlQc: Downloading 1 format(s): 18\n"
          ]
        },
        {
          "output_type": "stream",
          "name": "stderr",
          "text": [
            "[debug] Invoking http downloader on \"https://rr1---sn-5ualdns7.googlevideo.com/videoplayback?expire=1751294886&ei=Rk9iaJ-7MuO2kucP9L2jgAI&ip=35.229.88.102&id=o-ADixrHmrG9tmg0BYp4c7fO_19kUVO3Ix6YOZVQumeaGJ&itag=18&source=youtube&requiressl=yes&xpc=EgVo2aDSNQ%3D%3D&met=1751273286%2C&mh=10&mm=31%2C29&mn=sn-5ualdns7%2Csn-5uaeznss&ms=au%2Crdu&mv=m&mvi=1&pl=20&rms=au%2Cau&ctier=L&gcr=us&bui=AY1jyLN3ClS-W3DVXLoBGvlNgBiVa42xqW4KNXoDcuzoPDA9Cl8KUM-UW545bbKJOqV98Mmw5rW99Wo2&spc=l3OVKQO2ZyQPGt_W9q1cmAunMdborans80Ty_LBJcZBdDhzeOL2FL3_S4mgnUikL3Q&vprv=1&svpuc=1&mime=video%2Fmp4&ns=5zNkGcKlN8siWIOPYSxlnPwQ&rqh=1&gir=yes&clen=4161223&ratebypass=yes&dur=181.092&lmt=1750982015929228&mt=1751272866&fvip=5&lmw=1&c=TVHTML5&sefc=1&txp=5538534&n=51uyOp-It5-BhQ&sparams=expire%2Cei%2Cip%2Cid%2Citag%2Csource%2Crequiressl%2Cxpc%2Cctier%2Cgcr%2Cbui%2Cspc%2Cvprv%2Csvpuc%2Cmime%2Cns%2Crqh%2Cgir%2Cclen%2Cratebypass%2Cdur%2Clmt&lsparams=met%2Cmh%2Cmm%2Cmn%2Cms%2Cmv%2Cmvi%2Cpl%2Crms&lsig=APaTxxMwRQIhAPVcwj4CUokaCB51i310XyhxTYjyYSUIjDN8UvzJzuIgAiAEQvydux7Ycv9IrOLCSFUiAgDx-4xnDZCfmO7_gMn04g%3D%3D&sig=AJfQdSswRgIhAIeEhrTFTJEG119uyQVbzRGZ5mlwir7Cs-wjD7VCvK6-AiEA6Z4MlOauLDFlIdbOdmNJTQBadRlDMP5epnNwdIuc_2s%3D\"\n"
          ]
        },
        {
          "output_type": "stream",
          "name": "stdout",
          "text": [
            "[download] Destination: KPopDemonHuntersMusic-00011.“Takedown” KPop Demon Hunters (Soundtrack from the Netflix Film) ｜ HUNTR⧸X.mp3\n",
            "[download] 100% of    3.97MiB in 00:00:00 at 27.95MiB/s  \n",
            "[download] Downloading item 12 of 18\n",
            "[youtube] Extracting URL: https://www.youtube.com/watch?v=Cl5TAwak7UI\n",
            "[youtube] Cl5TAwak7UI: Downloading webpage\n",
            "[youtube] Cl5TAwak7UI: Downloading tv client config\n",
            "[youtube] Cl5TAwak7UI: Downloading tv player API JSON\n",
            "[youtube] Cl5TAwak7UI: Downloading ios player API JSON\n"
          ]
        },
        {
          "output_type": "stream",
          "name": "stderr",
          "text": [
            "[debug] [youtube] Decrypted nsig Q90xZScvkhCAJDHsd3u1_ => QKMM4uOzjo-YFQ\n",
            "[debug] [youtube] Decrypted nsig ojM2L1-YGTlnMChlaojqy => pXuPBFYYWzI9bA\n",
            "[debug] [youtube] Cl5TAwak7UI: ios client https formats require a GVS PO Token which was not provided. They will be skipped as they may yield HTTP Error 403. You can manually pass a GVS PO Token for this client with --extractor-args \"youtube:po_token=ios.gvs+XXX\". For more information, refer to  https://github.com/yt-dlp/yt-dlp/wiki/PO-Token-Guide . To enable these broken formats anyway, pass --extractor-args \"youtube:formats=missing_pot\"\n"
          ]
        },
        {
          "output_type": "stream",
          "name": "stdout",
          "text": [
            "[youtube] Cl5TAwak7UI: Downloading m3u8 information\n"
          ]
        },
        {
          "output_type": "stream",
          "name": "stderr",
          "text": [
            "[debug] Sort order given by extractor: quality, res, fps, hdr:12, source, vcodec, channels, acodec, lang, proto\n",
            "[debug] Formats sorted by: hasvid, ie_pref, quality, res, fps, hdr:12(7), source, vcodec, channels, acodec, lang, proto, size, br, asr, vext, aext, hasaud, id\n"
          ]
        },
        {
          "output_type": "stream",
          "name": "stdout",
          "text": [
            "[info] Cl5TAwak7UI: Downloading 1 format(s): 18\n"
          ]
        },
        {
          "output_type": "stream",
          "name": "stderr",
          "text": [
            "[debug] Invoking http downloader on \"https://rr4---sn-5ualdns7.googlevideo.com/videoplayback?expire=1751294889&ei=SU9iaLDCEdaVkucPtOPa6A8&ip=35.229.88.102&id=o-AIY1UEeaHQtyoVede8I7CDT-0tqaX_51p1GKuPIZpgJt&itag=18&source=youtube&requiressl=yes&xpc=EgVo2aDSNQ%3D%3D&met=1751273289%2C&mh=Dt&mm=31%2C29&mn=sn-5ualdns7%2Csn-5uaeznel&ms=au%2Crdu&mv=m&mvi=4&pl=20&rms=au%2Cau&ctier=L&bui=AY1jyLOe8UssJs_vIc1xe5M2EGlvr4SDjiT4rItdBwG--ZBmik2vcJc4WSws-Vaos9VRDffPgTIrfjr5&spc=l3OVKdttIATZ_jaHQ5QswZDoEGOQrU781-docUW01U3PmbZqnWCjsP_yGvTZBv8JOA&vprv=1&svpuc=1&mime=video%2Fmp4&ns=WC5VcrjE0f7oNZ4o1UIUBiUQ&rqh=1&gir=yes&clen=2942040&ratebypass=yes&dur=168.692&lmt=1750990456815988&mt=1751272866&fvip=2&lmw=1&c=TVHTML5&sefc=1&txp=5438534&n=QKMM4uOzjo-YFQ&sparams=expire%2Cei%2Cip%2Cid%2Citag%2Csource%2Crequiressl%2Cxpc%2Cctier%2Cbui%2Cspc%2Cvprv%2Csvpuc%2Cmime%2Cns%2Crqh%2Cgir%2Cclen%2Cratebypass%2Cdur%2Clmt&lsparams=met%2Cmh%2Cmm%2Cmn%2Cms%2Cmv%2Cmvi%2Cpl%2Crms&lsig=APaTxxMwRQIgfLP_gLqa3gqrCqxbt6kQq8qnYkL-W2FA8Qwry1bqo50CIQCAGsmvv2uYwYiJ8QOUwlbW3MToNyvN5D8O6M99TyQW-g%3D%3D&sig=AJfQdSswRQIgRf3mXhaRQO1LkCyZ43-uOrVva-DGUdRPdbW68MHRIugCIQCj4VaXoPa5ZDxqznHNLbJCRALJEezScV96pKm6CGWNfw%3D%3D\"\n"
          ]
        },
        {
          "output_type": "stream",
          "name": "stdout",
          "text": [
            "[download] Destination: KPopDemonHuntersMusic-00012.“Strategy” KPop Demon Hunters (Soundtrack from the Netflix Film) ｜ TWICE.mp3\n",
            "[download] 100% of    2.81MiB in 00:00:00 at 17.38MiB/s  \n",
            "[download] Downloading item 13 of 18\n",
            "[youtube] Extracting URL: https://www.youtube.com/watch?v=mq2dq_KeV0M\n",
            "[youtube] mq2dq_KeV0M: Downloading webpage\n",
            "[youtube] mq2dq_KeV0M: Downloading tv client config\n",
            "[youtube] mq2dq_KeV0M: Downloading tv player API JSON\n",
            "[youtube] mq2dq_KeV0M: Downloading ios player API JSON\n"
          ]
        },
        {
          "output_type": "stream",
          "name": "stderr",
          "text": [
            "[debug] [youtube] Decrypted nsig ap0mZdTuOZSEZRAVkgPoU => Q3kQVR2WYQ4a4Q\n",
            "[debug] [youtube] Decrypted nsig JaMUUFUdIRcXbiIM0UhaX => p9VnrhPI_vvIMA\n",
            "[debug] [youtube] mq2dq_KeV0M: ios client https formats require a GVS PO Token which was not provided. They will be skipped as they may yield HTTP Error 403. You can manually pass a GVS PO Token for this client with --extractor-args \"youtube:po_token=ios.gvs+XXX\". For more information, refer to  https://github.com/yt-dlp/yt-dlp/wiki/PO-Token-Guide . To enable these broken formats anyway, pass --extractor-args \"youtube:formats=missing_pot\"\n"
          ]
        },
        {
          "output_type": "stream",
          "name": "stdout",
          "text": [
            "[youtube] mq2dq_KeV0M: Downloading m3u8 information\n"
          ]
        },
        {
          "output_type": "stream",
          "name": "stderr",
          "text": [
            "[debug] Sort order given by extractor: quality, res, fps, hdr:12, source, vcodec, channels, acodec, lang, proto\n",
            "[debug] Formats sorted by: hasvid, ie_pref, quality, res, fps, hdr:12(7), source, vcodec, channels, acodec, lang, proto, size, br, asr, vext, aext, hasaud, id\n"
          ]
        },
        {
          "output_type": "stream",
          "name": "stdout",
          "text": [
            "[info] mq2dq_KeV0M: Downloading 1 format(s): 18\n"
          ]
        },
        {
          "output_type": "stream",
          "name": "stderr",
          "text": [
            "[debug] Invoking http downloader on \"https://rr4---sn-2o5ua5-53.googlevideo.com/videoplayback?expire=1751294891&ei=S09iaOywNLm6kucPqr_52AM&ip=35.229.88.102&id=o-AOO0VecdBNjqJfCAv2J1Bxzmxt1mWa52ffT7t2CVfba6&itag=18&source=youtube&requiressl=yes&xpc=EgVo2aDSNQ%3D%3D&met=1751273291%2C&mh=T5&mm=31%2C29&mn=sn-2o5ua5-53%2Csn-5ualdnsl&ms=au%2Crdu&mv=m&mvi=4&pl=20&rms=au%2Cau&ctier=L&gcr=us&bui=AY1jyLNIW7WzsMYQlkdgFMTRcBxh07dtIvQrgii2I1H2A_Tp3ISaO_p_RX7GjT5WjVIzGFURkVoMmbr9&spc=l3OVKf9b-7-NrBI_fPxdRS_S1B844ql6m_rC78ad06i4HqBU1Djzkyl2OwLjhNOkgw&vprv=1&svpuc=1&mime=video%2Fmp4&ns=jkBPQbaEYzD5oB9cGy_Q3EgQ&rqh=1&gir=yes&clen=3949455&ratebypass=yes&dur=191.053&lmt=1751082000489529&mt=1751272866&fvip=3&lmw=1&c=TVHTML5&sefc=1&txp=4538534&n=Q3kQVR2WYQ4a4Q&sparams=expire%2Cei%2Cip%2Cid%2Citag%2Csource%2Crequiressl%2Cxpc%2Cctier%2Cgcr%2Cbui%2Cspc%2Cvprv%2Csvpuc%2Cmime%2Cns%2Crqh%2Cgir%2Cclen%2Cratebypass%2Cdur%2Clmt&lsparams=met%2Cmh%2Cmm%2Cmn%2Cms%2Cmv%2Cmvi%2Cpl%2Crms&lsig=APaTxxMwRQIhALxyef_CaGOuj9XJTvtC9ZCelMiMPf2-u663p95CVp4eAiAImBxbBUOcEihaSlQvj9GRpFqRxSKE5V1nUQe9NwZMpQ%3D%3D&sig=AJfQdSswRgIhAJ4t4ps2HDan4OvvzhBHMW7H7DXoNz1NXs8qaIXa-Y1CAiEApVqzngx2JBCJPGH0u_usvckfEfUsuVeEDXI7d6wxUy4%3D\"\n"
          ]
        },
        {
          "output_type": "stream",
          "name": "stdout",
          "text": [
            "[download] Destination: KPopDemonHuntersMusic-00013.“Your Idol” KPop Demon Hunters (Soundtrack from the Netflix Film) ｜ Saja Boys.mp3\n",
            "[download] 100% of    3.77MiB in 00:00:00 at 24.90MiB/s  \n",
            "[download] Downloading item 14 of 18\n",
            "[youtube] Extracting URL: https://www.youtube.com/watch?v=dfNu_0Mffu0\n",
            "[youtube] dfNu_0Mffu0: Downloading webpage\n",
            "[youtube] dfNu_0Mffu0: Downloading tv client config\n",
            "[youtube] dfNu_0Mffu0: Downloading tv player API JSON\n",
            "[youtube] dfNu_0Mffu0: Downloading ios player API JSON\n"
          ]
        },
        {
          "output_type": "stream",
          "name": "stderr",
          "text": [
            "[debug] [youtube] Decrypted nsig kX0_sqEFX9amxL5kqjdNs => CSuyy2AjR9iB_Q\n",
            "[debug] [youtube] Decrypted nsig D8MFkMr-RyiVjwdSImoUh => x88lcoNqeEuu7A\n",
            "[debug] [youtube] dfNu_0Mffu0: ios client https formats require a GVS PO Token which was not provided. They will be skipped as they may yield HTTP Error 403. You can manually pass a GVS PO Token for this client with --extractor-args \"youtube:po_token=ios.gvs+XXX\". For more information, refer to  https://github.com/yt-dlp/yt-dlp/wiki/PO-Token-Guide . To enable these broken formats anyway, pass --extractor-args \"youtube:formats=missing_pot\"\n"
          ]
        },
        {
          "output_type": "stream",
          "name": "stdout",
          "text": [
            "[youtube] dfNu_0Mffu0: Downloading m3u8 information\n"
          ]
        },
        {
          "output_type": "stream",
          "name": "stderr",
          "text": [
            "[debug] Sort order given by extractor: quality, res, fps, hdr:12, source, vcodec, channels, acodec, lang, proto\n",
            "[debug] Formats sorted by: hasvid, ie_pref, quality, res, fps, hdr:12(7), source, vcodec, channels, acodec, lang, proto, size, br, asr, vext, aext, hasaud, id\n"
          ]
        },
        {
          "output_type": "stream",
          "name": "stdout",
          "text": [
            "[info] dfNu_0Mffu0: Downloading 1 format(s): 18\n"
          ]
        },
        {
          "output_type": "stream",
          "name": "stderr",
          "text": [
            "[debug] Invoking http downloader on \"https://rr2---sn-5ualdnsk.googlevideo.com/videoplayback?expire=1751294894&ei=Tk9iaMLVKu-VkucPj-uq8Q4&ip=35.229.88.102&id=o-AJfbnyeVXrYPpLWJzJL_VwihZTIcTWzddIFhzQVdgTbK&itag=18&source=youtube&requiressl=yes&xpc=EgVo2aDSNQ%3D%3D&met=1751273294%2C&mh=s4&mm=31%2C26&mn=sn-5ualdnsk%2Csn-a5mlrnll&ms=au%2Conr&mv=m&mvi=2&pl=20&rms=au%2Cau&ctier=L&gcr=us&bui=AY1jyLOUxSEXCIVHxg0-oOlKehOX_R9vZB_l2Pgc8mOblFcOyIjXwVGkFnos7kjQHXdUW07xXHBWbHDx&spc=l3OVKQb3sXAZTvVhXrlia3fIgJ0XYWehuU5iLKViXW8TvbB4Z0TrTJfXAq_pcOb8sw&vprv=1&svpuc=1&mime=video%2Fmp4&ns=vaBQgYL0VoLHJWK-ez6Z3JgQ&rqh=1&gir=yes&clen=3551588&ratebypass=yes&dur=186.641&lmt=1751120233681354&mt=1751272866&fvip=5&lmw=1&c=TVHTML5&sefc=1&txp=5538534&n=CSuyy2AjR9iB_Q&sparams=expire%2Cei%2Cip%2Cid%2Citag%2Csource%2Crequiressl%2Cxpc%2Cctier%2Cgcr%2Cbui%2Cspc%2Cvprv%2Csvpuc%2Cmime%2Cns%2Crqh%2Cgir%2Cclen%2Cratebypass%2Cdur%2Clmt&lsparams=met%2Cmh%2Cmm%2Cmn%2Cms%2Cmv%2Cmvi%2Cpl%2Crms&lsig=APaTxxMwRQIhAIq5oZUfauoFiruySmOMvTrzsQfegeNtvBbPM4zCherpAiB-1QoYpAwV4ot_IpvSZfsDD_udC4-Th6ug29tKnPYcKw%3D%3D&sig=AJfQdSswRQIgOrwR_E7gc_wUDI-sXKrSpFDJxBqYhyHBNUMi0Y0CNsQCIQD7aUxJfopgqkQAZ12szwDUiLQHjfNaKe3tlehuZctoMg%3D%3D\"\n"
          ]
        },
        {
          "output_type": "stream",
          "name": "stdout",
          "text": [
            "[download] Destination: KPopDemonHuntersMusic-00014.“Free” KPop Demon Hunters (Soundtrack from the Netflix Film) ｜ Rumi, Jinu.mp3\n",
            "[download] 100% of    3.39MiB in 00:00:00 at 20.93MiB/s  \n",
            "[download] Downloading item 15 of 18\n",
            "[youtube] Extracting URL: https://www.youtube.com/watch?v=-3WxYln6NWk\n",
            "[youtube] -3WxYln6NWk: Downloading webpage\n",
            "[youtube] -3WxYln6NWk: Downloading tv client config\n",
            "[youtube] -3WxYln6NWk: Downloading tv player API JSON\n",
            "[youtube] -3WxYln6NWk: Downloading ios player API JSON\n"
          ]
        },
        {
          "output_type": "stream",
          "name": "stderr",
          "text": [
            "[debug] [youtube] Decrypted nsig i40B4tbk7dwLzDfrVWwXE => PMnX85Jtz5mRrQ\n",
            "[debug] [youtube] Decrypted nsig 8ssTGAxIDWCyzeliMGvoU => x0Eiqc5W2C6S9g\n",
            "[debug] [youtube] -3WxYln6NWk: ios client https formats require a GVS PO Token which was not provided. They will be skipped as they may yield HTTP Error 403. You can manually pass a GVS PO Token for this client with --extractor-args \"youtube:po_token=ios.gvs+XXX\". For more information, refer to  https://github.com/yt-dlp/yt-dlp/wiki/PO-Token-Guide . To enable these broken formats anyway, pass --extractor-args \"youtube:formats=missing_pot\"\n"
          ]
        },
        {
          "output_type": "stream",
          "name": "stdout",
          "text": [
            "[youtube] -3WxYln6NWk: Downloading m3u8 information\n"
          ]
        },
        {
          "output_type": "stream",
          "name": "stderr",
          "text": [
            "[debug] Sort order given by extractor: quality, res, fps, hdr:12, source, vcodec, channels, acodec, lang, proto\n",
            "[debug] Formats sorted by: hasvid, ie_pref, quality, res, fps, hdr:12(7), source, vcodec, channels, acodec, lang, proto, size, br, asr, vext, aext, hasaud, id\n"
          ]
        },
        {
          "output_type": "stream",
          "name": "stdout",
          "text": [
            "[info] -3WxYln6NWk: Downloading 1 format(s): 18\n"
          ]
        },
        {
          "output_type": "stream",
          "name": "stderr",
          "text": [
            "[debug] Invoking http downloader on \"https://rr3---sn-5ualdnsk.googlevideo.com/videoplayback?expire=1751294897&ei=UU9iaJbQDu-BkucPoIauiAU&ip=35.229.88.102&id=o-AEPjC0EJ7RyTOAwgxki0Dq2hVqMuKPDt1IFNFkQ7xxl7&itag=18&source=youtube&requiressl=yes&xpc=EgVo2aDSNQ%3D%3D&met=1751273297%2C&mh=tn&mm=31%2C26&mn=sn-5ualdnsk%2Csn-a5msen7l&ms=au%2Conr&mv=m&mvi=3&pl=20&rms=au%2Cau&ctier=L&gcr=us&bui=AY1jyLP9o2pW0nMrOUlkjyIGI1Bw0jg2BYdX7nVXaNqGcPVwPjtdIyqW43H8P2dZS3Y-S-I7mLxXPWLa&spc=l3OVKauFvDJN9UjiR66EjoVYkh45sm907JAr7ZVEYTK7e5XBOz927Oxvv2vdzr0wOA&vprv=1&svpuc=1&mime=video%2Fmp4&ns=f664P8N_9wR3Nqhc8Ct4xwAQ&rqh=1&gir=yes&clen=5561311&ratebypass=yes&dur=249.173&lmt=1751072083811681&mt=1751272866&fvip=2&lmw=1&c=TVHTML5&sefc=1&txp=4538534&n=PMnX85Jtz5mRrQ&sparams=expire%2Cei%2Cip%2Cid%2Citag%2Csource%2Crequiressl%2Cxpc%2Cctier%2Cgcr%2Cbui%2Cspc%2Cvprv%2Csvpuc%2Cmime%2Cns%2Crqh%2Cgir%2Cclen%2Cratebypass%2Cdur%2Clmt&lsparams=met%2Cmh%2Cmm%2Cmn%2Cms%2Cmv%2Cmvi%2Cpl%2Crms&lsig=APaTxxMwRQIhAIyYNALbAvttJiQzWCZcIktpwXswOZu9BCd-ag5aWjzhAiAGMIS-8rShtxmhPMHFaRbQUvTcjQ1wPnHkz0AHg6I_NQ%3D%3D&sig=AJfQdSswRQIgefIYkEg8G0BZGxpSdc0Ag-Z51hHk7dgVBENCOQhjKAwCIQDC5kmPEtAwSKeb35RSVG3OOLCsSKwXrqupTgDOY01bVQ%3D%3D\"\n"
          ]
        },
        {
          "output_type": "stream",
          "name": "stdout",
          "text": [
            "[download] Destination: KPopDemonHuntersMusic-00015.“What It Sounds Like” KPop Demon Hunters (Soundtrack from the Netflix Film) ｜ HUNTR⧸X.mp3\n",
            "[download] 100% of    5.30MiB in 00:00:00 at 34.61MiB/s  \n",
            "[download] Downloading item 16 of 18\n",
            "[youtube] Extracting URL: https://www.youtube.com/watch?v=F5Hoj29NK5Y\n",
            "[youtube] F5Hoj29NK5Y: Downloading webpage\n",
            "[youtube] F5Hoj29NK5Y: Downloading tv client config\n",
            "[youtube] F5Hoj29NK5Y: Downloading tv player API JSON\n",
            "[youtube] F5Hoj29NK5Y: Downloading ios player API JSON\n"
          ]
        },
        {
          "output_type": "stream",
          "name": "stderr",
          "text": [
            "[debug] [youtube] Decrypted nsig _lMqEEpF9n8ntjLQMQ-mL => av0PZg-UQKAZwA\n",
            "[debug] [youtube] Decrypted nsig A6IUCny223cGlxEqjkoOr => tLiar_Lk28rdWw\n",
            "[debug] [youtube] F5Hoj29NK5Y: ios client https formats require a GVS PO Token which was not provided. They will be skipped as they may yield HTTP Error 403. You can manually pass a GVS PO Token for this client with --extractor-args \"youtube:po_token=ios.gvs+XXX\". For more information, refer to  https://github.com/yt-dlp/yt-dlp/wiki/PO-Token-Guide . To enable these broken formats anyway, pass --extractor-args \"youtube:formats=missing_pot\"\n"
          ]
        },
        {
          "output_type": "stream",
          "name": "stdout",
          "text": [
            "[youtube] F5Hoj29NK5Y: Downloading m3u8 information\n"
          ]
        },
        {
          "output_type": "stream",
          "name": "stderr",
          "text": [
            "[debug] Sort order given by extractor: quality, res, fps, hdr:12, source, vcodec, channels, acodec, lang, proto\n",
            "[debug] Formats sorted by: hasvid, ie_pref, quality, res, fps, hdr:12(7), source, vcodec, channels, acodec, lang, proto, size, br, asr, vext, aext, hasaud, id\n"
          ]
        },
        {
          "output_type": "stream",
          "name": "stdout",
          "text": [
            "[info] F5Hoj29NK5Y: Downloading 1 format(s): 18\n"
          ]
        },
        {
          "output_type": "stream",
          "name": "stderr",
          "text": [
            "[debug] Invoking http downloader on \"https://rr1---sn-5ualdnsd.googlevideo.com/videoplayback?expire=1751294899&ei=U09iaPa9JdGBkucP0tucyQg&ip=35.229.88.102&id=o-AGKJRr210gmtTVWhkciBDZMwpMta5ryqONFkfVP3hAmI&itag=18&source=youtube&requiressl=yes&xpc=EgVo2aDSNQ%3D%3D&met=1751273299%2C&mh=zD&mm=31%2C29&mn=sn-5ualdnsd%2Csn-5uaeznsl&ms=au%2Crdu&mv=m&mvi=1&pl=20&rms=au%2Cau&ctier=L&gcr=us&bui=AY1jyLPaOlhuSxtF30u7JUvWHTNwX2l34B6gnTCzf_5IZq3LEkaKQQEBqeLvmyf4VXa9ra9uriFTv3AK&spc=l3OVKaSFzacDPjRHJ94gaD515HzijF-dBQwkjUqLgoujh2w_cGPok5SjRiFSXKDrUg&vprv=1&svpuc=1&mime=video%2Fmp4&ns=8BrW-zwSNtHxbvc2PBsOIe0Q&rqh=1&gir=yes&clen=3606471&ratebypass=yes&dur=184.598&lmt=1751045059044825&mt=1751272866&fvip=3&lmw=1&c=TVHTML5&sefc=1&txp=4438534&n=av0PZg-UQKAZwA&sparams=expire%2Cei%2Cip%2Cid%2Citag%2Csource%2Crequiressl%2Cxpc%2Cctier%2Cgcr%2Cbui%2Cspc%2Cvprv%2Csvpuc%2Cmime%2Cns%2Crqh%2Cgir%2Cclen%2Cratebypass%2Cdur%2Clmt&lsparams=met%2Cmh%2Cmm%2Cmn%2Cms%2Cmv%2Cmvi%2Cpl%2Crms&lsig=APaTxxMwRQIhAPTvcuqyuQa6oBzUT-Ct2xFav8fQCIkRQz3NYtQ_oGMIAiAGPdj0-Jg8mcovDnVF-6wtmUXsOEKMpoKcY--Q9HWlPw%3D%3D&sig=AJfQdSswRgIhAJFzMpiolCBZt2Zpf5iBVChyH_KiR_wWQhc-qvWNiEzrAiEAyq8e26rNN3AwZIOuCTaqHuMucsjv5naqCLlcALCLrkg%3D\"\n"
          ]
        },
        {
          "output_type": "stream",
          "name": "stdout",
          "text": [
            "[download] Destination: KPopDemonHuntersMusic-00016.“Love, Maybe” KPop Demon Hunters (Soundtrack from the Netflix Film) ｜ MeloMance.mp3\n",
            "[download] 100% of    3.44MiB in 00:00:00 at 19.36MiB/s  \n",
            "[download] Downloading item 17 of 18\n",
            "[youtube] Extracting URL: https://www.youtube.com/watch?v=llk7sEqIXd0\n",
            "[youtube] llk7sEqIXd0: Downloading webpage\n",
            "[youtube] llk7sEqIXd0: Downloading tv client config\n",
            "[youtube] llk7sEqIXd0: Downloading tv player API JSON\n",
            "[youtube] llk7sEqIXd0: Downloading ios player API JSON\n"
          ]
        },
        {
          "output_type": "stream",
          "name": "stderr",
          "text": [
            "[debug] [youtube] Decrypted nsig vdsqXp-kheqV5Bp3lpGOL => AWkFZ1Sk5K2Y8g\n",
            "[debug] [youtube] Decrypted nsig DUIRkhdYWadmwqLILmB-a => IGQSoVxwyVPo8w\n",
            "[debug] [youtube] llk7sEqIXd0: ios client https formats require a GVS PO Token which was not provided. They will be skipped as they may yield HTTP Error 403. You can manually pass a GVS PO Token for this client with --extractor-args \"youtube:po_token=ios.gvs+XXX\". For more information, refer to  https://github.com/yt-dlp/yt-dlp/wiki/PO-Token-Guide . To enable these broken formats anyway, pass --extractor-args \"youtube:formats=missing_pot\"\n"
          ]
        },
        {
          "output_type": "stream",
          "name": "stdout",
          "text": [
            "[youtube] llk7sEqIXd0: Downloading m3u8 information\n"
          ]
        },
        {
          "output_type": "stream",
          "name": "stderr",
          "text": [
            "[debug] Sort order given by extractor: quality, res, fps, hdr:12, source, vcodec, channels, acodec, lang, proto\n",
            "[debug] Formats sorted by: hasvid, ie_pref, quality, res, fps, hdr:12(7), source, vcodec, channels, acodec, lang, proto, size, br, asr, vext, aext, hasaud, id\n"
          ]
        },
        {
          "output_type": "stream",
          "name": "stdout",
          "text": [
            "[info] llk7sEqIXd0: Downloading 1 format(s): 18\n"
          ]
        },
        {
          "output_type": "stream",
          "name": "stderr",
          "text": [
            "[debug] Invoking http downloader on \"https://rr2---sn-5ualdnss.googlevideo.com/videoplayback?expire=1751294901&ei=VU9iaKDRO8q0kucP38WxmA4&ip=35.229.88.102&id=o-AMhQbGOnQ-0EKIbJfGpBKcZHge9bTgmb1wSwMYj12uad&itag=18&source=youtube&requiressl=yes&xpc=EgVo2aDSNQ%3D%3D&met=1751273301%2C&mh=zg&mm=31%2C29&mn=sn-5ualdnss%2Csn-5uaeznyz&ms=au%2Crdu&mv=m&mvi=2&pl=20&rms=au%2Cau&ctier=L&gcr=us&bui=AY1jyLPPr_nh4ENArEFeIl4Kxn-WcnLe2jPjUEIEAgqqgubzcP7zFPV7OWRQcB2V6sQ-I1zQNWP4u17C&spc=l3OVKdxHHNc9uWIyGvBA1Q3toGmWZZqxP-y1dcX8hLfUI6TOQXifpFgLAdBHFXjyIA&vprv=1&svpuc=1&mime=video%2Fmp4&ns=OyRoHSk72zKswUbrvTnr8hoQ&rqh=1&gir=yes&clen=2373415&ratebypass=yes&dur=221.239&lmt=1750966664155352&mt=1751272866&fvip=4&lmw=1&c=TVHTML5&sefc=1&txp=6309224&n=AWkFZ1Sk5K2Y8g&sparams=expire%2Cei%2Cip%2Cid%2Citag%2Csource%2Crequiressl%2Cxpc%2Cctier%2Cgcr%2Cbui%2Cspc%2Cvprv%2Csvpuc%2Cmime%2Cns%2Crqh%2Cgir%2Cclen%2Cratebypass%2Cdur%2Clmt&lsparams=met%2Cmh%2Cmm%2Cmn%2Cms%2Cmv%2Cmvi%2Cpl%2Crms&lsig=APaTxxMwRgIhAKGcpCZYUPyvkoxLRLlypOpOerRb5Rg9HgSJZ5Tq5j_UAiEAm9VH-DkpTgPGDgavuOyK6vwb6GAdE08ZlGARtAUWqR4%3D&sig=AJfQdSswRAIgTB2iFDFo8UnrN_9Xu3nq2n9ResI5dNnkQbkQuDe5qZoCIEyhuTe039M-fQScmV5ui0ZmBdwh870pR6grbCKm5Sjk\"\n"
          ]
        },
        {
          "output_type": "stream",
          "name": "stdout",
          "text": [
            "[download] Destination: KPopDemonHuntersMusic-00017.“Path” KPop Demon Hunters (Soundtrack from the Netflix Film) ｜ Jokers.mp3\n",
            "[download] 100% of    2.26MiB in 00:00:00 at 5.29MiB/s   \n",
            "[download] Downloading item 18 of 18\n",
            "[youtube] Extracting URL: https://www.youtube.com/watch?v=GhNstxrgg7Q\n",
            "[youtube] GhNstxrgg7Q: Downloading webpage\n",
            "[youtube] GhNstxrgg7Q: Downloading tv client config\n",
            "[youtube] GhNstxrgg7Q: Downloading tv player API JSON\n",
            "[youtube] GhNstxrgg7Q: Downloading ios player API JSON\n"
          ]
        },
        {
          "output_type": "stream",
          "name": "stderr",
          "text": [
            "[debug] [youtube] Decrypted nsig 0K08ewjonLXQEw45LsUUz => AlW0H8nqyPZAZQ\n",
            "[debug] [youtube] Decrypted nsig YTspVvu2pGkXtXuXh_d-6 => Qa8HY7wwTaQkxg\n",
            "[debug] [youtube] GhNstxrgg7Q: ios client https formats require a GVS PO Token which was not provided. They will be skipped as they may yield HTTP Error 403. You can manually pass a GVS PO Token for this client with --extractor-args \"youtube:po_token=ios.gvs+XXX\". For more information, refer to  https://github.com/yt-dlp/yt-dlp/wiki/PO-Token-Guide . To enable these broken formats anyway, pass --extractor-args \"youtube:formats=missing_pot\"\n"
          ]
        },
        {
          "output_type": "stream",
          "name": "stdout",
          "text": [
            "[youtube] GhNstxrgg7Q: Downloading m3u8 information\n"
          ]
        },
        {
          "output_type": "stream",
          "name": "stderr",
          "text": [
            "[debug] Sort order given by extractor: quality, res, fps, hdr:12, source, vcodec, channels, acodec, lang, proto\n",
            "[debug] Formats sorted by: hasvid, ie_pref, quality, res, fps, hdr:12(7), source, vcodec, channels, acodec, lang, proto, size, br, asr, vext, aext, hasaud, id\n"
          ]
        },
        {
          "output_type": "stream",
          "name": "stdout",
          "text": [
            "[info] GhNstxrgg7Q: Downloading 1 format(s): 18\n"
          ]
        },
        {
          "output_type": "stream",
          "name": "stderr",
          "text": [
            "[debug] Invoking http downloader on \"https://rr1---sn-5uaeznl6.googlevideo.com/videoplayback?expire=1751294904&ei=WE9iaJbuM72pkucPhOCV6A0&ip=35.229.88.102&id=o-ADiFNQhtU5ubc7DwCl6ZKotHSSbTgmiMWkEeRJo4QbBp&itag=18&source=youtube&requiressl=yes&xpc=EgVo2aDSNQ%3D%3D&met=1751273304%2C&mh=N3&mm=31%2C26&mn=sn-5uaeznl6%2Csn-a5mekndz&ms=au%2Conr&mv=m&mvi=1&pl=20&rms=au%2Cau&ctier=L&gcr=us&bui=AY1jyLPZA89oeGdlj8qPeLj8IygtnGc-x7jG6861NDMGPLdUXq7PD2dFeCb1XlwYBx5nFuaCo7wLwstx&spc=l3OVKWGI6U-c1QF3-uEe3Ec9cw9I-DTHaiuZW3-mi6H8wUJJXAy9XI4BLPU4agyGjQ&vprv=1&svpuc=1&mime=video%2Fmp4&ns=C2k9jJ6bVPfSIA0NA0fAl7YQ&rqh=1&gir=yes&clen=3881207&ratebypass=yes&dur=179.304&lmt=1751039268344455&mt=1751272866&fvip=3&lmw=1&c=TVHTML5&sefc=1&txp=6319224&n=AlW0H8nqyPZAZQ&sparams=expire%2Cei%2Cip%2Cid%2Citag%2Csource%2Crequiressl%2Cxpc%2Cctier%2Cgcr%2Cbui%2Cspc%2Cvprv%2Csvpuc%2Cmime%2Cns%2Crqh%2Cgir%2Cclen%2Cratebypass%2Cdur%2Clmt&lsparams=met%2Cmh%2Cmm%2Cmn%2Cms%2Cmv%2Cmvi%2Cpl%2Crms&lsig=APaTxxMwRQIhAOgCyG_WZjWSz3P3FkRFrjelWU3Dxadt0Q9ZsAJSRm1FAiAkKQlbl-fqO4mjQ-xBVOFJPj2kvdLYw-fkWfgQ-3wQGQ%3D%3D&sig=AJfQdSswRQIgZIfDVk4x9y4CMzah4yWKNsBp7hb8fOuQ--h0LctyIxUCIQDp_F4VFGDNL_vXqSl5fT3zDYrx7x2d_rMSLM4b2dcS2Q%3D%3D\"\n"
          ]
        },
        {
          "output_type": "stream",
          "name": "stdout",
          "text": [
            "[download] Destination: KPopDemonHuntersMusic-00018.“Score Suite” KPop Demon Hunters (Soundtrack from the Netflix Film) ｜ Marcelo Zarvos.mp3\n",
            "[download] 100% of    3.70MiB in 00:00:00 at 21.28MiB/s  \n",
            "[download] Finished downloading playlist: KPop Demon Hunters Music\n"
          ]
        }
      ]
    },
    {
      "cell_type": "code",
      "source": [
        "import os\n",
        "path = \"/content/\"\n",
        "folder = \"KPopDemonHuntersMusic\"\n",
        "\n",
        "for file in os.listdir(path):\n",
        "    if file.startswith(folder):\n",
        "      #new = file.replace('DAY6 ＂', '')\n",
        "      #new = new.replace('＂ M⧸V', '')\n",
        "      #new = new.replace('000', '')\n",
        "      new = file.replace(folder, '')\n",
        "      print(file, new)\n",
        "      os.rename(path + file, path + folder + \"/\" + new)\n",
        "\n",
        "for file in os.listdir(path+folder):\n",
        "    if file.startswith(\"-000\"):\n",
        "      new = file.replace(\"-000\", '')\n",
        "      print(file, new)\n",
        "      os.rename(path + folder + \"/\" + file, path + folder + \"/\" + new)\n",
        "\n",
        "then = os.listdir(path)\n",
        "print(then)"
      ],
      "metadata": {
        "id": "8lOZh_UpCtZI",
        "outputId": "23189f99-d5bc-44f6-8197-f6981cfa4c25",
        "colab": {
          "base_uri": "https://localhost:8080/"
        }
      },
      "execution_count": 4,
      "outputs": [
        {
          "output_type": "stream",
          "name": "stdout",
          "text": [
            "-00016.“Love, Maybe” KPop Demon Hunters (Soundtrack from the Netflix Film) ｜ MeloMance.mp3 16.“Love, Maybe” KPop Demon Hunters (Soundtrack from the Netflix Film) ｜ MeloMance.mp3\n",
            "-00007.“TAKEDOWN” (JEONGYEON, JIHYO, CHAEYOUNG) KPop Demon Hunters  ｜ TWICE.mp3 07.“TAKEDOWN” (JEONGYEON, JIHYO, CHAEYOUNG) KPop Demon Hunters  ｜ TWICE.mp3\n",
            "-00014.“Free” KPop Demon Hunters (Soundtrack from the Netflix Film) ｜ Rumi, Jinu.mp3 14.“Free” KPop Demon Hunters (Soundtrack from the Netflix Film) ｜ Rumi, Jinu.mp3\n",
            "-00015.“What It Sounds Like” KPop Demon Hunters (Soundtrack from the Netflix Film) ｜ HUNTR⧸X.mp3 15.“What It Sounds Like” KPop Demon Hunters (Soundtrack from the Netflix Film) ｜ HUNTR⧸X.mp3\n",
            "-00018.“Score Suite” KPop Demon Hunters (Soundtrack from the Netflix Film) ｜ Marcelo Zarvos.mp3 18.“Score Suite” KPop Demon Hunters (Soundtrack from the Netflix Film) ｜ Marcelo Zarvos.mp3\n",
            "-00013.“Your Idol” KPop Demon Hunters (Soundtrack from the Netflix Film) ｜ Saja Boys.mp3 13.“Your Idol” KPop Demon Hunters (Soundtrack from the Netflix Film) ｜ Saja Boys.mp3\n",
            "-00010.“Golden” KPop Demon Hunters (Soundtrack from the Netflix Film) ｜ HUNTR⧸X.mp3 10.“Golden” KPop Demon Hunters (Soundtrack from the Netflix Film) ｜ HUNTR⧸X.mp3\n",
            "-00003.＂How It's Done＂ Official Lyric Video ｜ KPop Demon Hunters ｜ Sony Animation.mp3 03.＂How It's Done＂ Official Lyric Video ｜ KPop Demon Hunters ｜ Sony Animation.mp3\n",
            "-00005.＂Your Idol＂ ｜ Official Song Clip ｜ KPop Demon Hunters ｜ Sony Animation.mp3 05.＂Your Idol＂ ｜ Official Song Clip ｜ KPop Demon Hunters ｜ Sony Animation.mp3\n",
            "-00008.“How It's Done” KPop Demon Hunters (Soundtrack from the Netflix Film) ｜ HUNTR⧸X.mp3 08.“How It's Done” KPop Demon Hunters (Soundtrack from the Netflix Film) ｜ HUNTR⧸X.mp3\n",
            "-00017.“Path” KPop Demon Hunters (Soundtrack from the Netflix Film) ｜ Jokers.mp3 17.“Path” KPop Demon Hunters (Soundtrack from the Netflix Film) ｜ Jokers.mp3\n",
            "-00006.＂Free＂ ｜ Official Lyric Video ｜ Sony Animation.mp3 06.＂Free＂ ｜ Official Lyric Video ｜ Sony Animation.mp3\n",
            "-00012.“Strategy” KPop Demon Hunters (Soundtrack from the Netflix Film) ｜ TWICE.mp3 12.“Strategy” KPop Demon Hunters (Soundtrack from the Netflix Film) ｜ TWICE.mp3\n",
            "-00009.“Soda Pop” KPop Demon Hunters (Soundtrack from the Netflix Film) ｜ Saja Boys.mp3 09.“Soda Pop” KPop Demon Hunters (Soundtrack from the Netflix Film) ｜ Saja Boys.mp3\n",
            "-00004.＂Soda Pop＂ Official Lyric Video ｜ KPop Demon Hunters ｜ Sony Animation.mp3 04.＂Soda Pop＂ Official Lyric Video ｜ KPop Demon Hunters ｜ Sony Animation.mp3\n",
            "-00011.“Takedown” KPop Demon Hunters (Soundtrack from the Netflix Film) ｜ HUNTR⧸X.mp3 11.“Takedown” KPop Demon Hunters (Soundtrack from the Netflix Film) ｜ HUNTR⧸X.mp3\n",
            "-00002.“Takedown” Official Lyric Video feat. Jeongyeon, Jihyo and Chaeyoung from TWICE ｜ KPop Demon Hunters.mp3 02.“Takedown” Official Lyric Video feat. Jeongyeon, Jihyo and Chaeyoung from TWICE ｜ KPop Demon Hunters.mp3\n",
            "-00001.“Golden” Official Lyric Video ｜ KPop Demon Hunters ｜ Sony Animation.mp3 01.“Golden” Official Lyric Video ｜ KPop Demon Hunters ｜ Sony Animation.mp3\n",
            "['.config', 'KPopDemonHuntersMusic', '.ipynb_checkpoints', 'sample_data']\n"
          ]
        }
      ]
    },
    {
      "cell_type": "code",
      "source": [
        "# prompt: download file to local\n",
        "\n",
        "from google.colab import files\n",
        "for file in os.listdir(path+folder):\n",
        "  files.download(path + folder + \"/\" + file)"
      ],
      "metadata": {
        "id": "6zhFHQ4oEGNV",
        "outputId": "b9d673d7-a881-4f0a-e672-e29d7391fca5",
        "colab": {
          "base_uri": "https://localhost:8080/",
          "height": 17
        }
      },
      "execution_count": 7,
      "outputs": [
        {
          "output_type": "display_data",
          "data": {
            "text/plain": [
              "<IPython.core.display.Javascript object>"
            ],
            "application/javascript": [
              "\n",
              "    async function download(id, filename, size) {\n",
              "      if (!google.colab.kernel.accessAllowed) {\n",
              "        return;\n",
              "      }\n",
              "      const div = document.createElement('div');\n",
              "      const label = document.createElement('label');\n",
              "      label.textContent = `Downloading \"${filename}\": `;\n",
              "      div.appendChild(label);\n",
              "      const progress = document.createElement('progress');\n",
              "      progress.max = size;\n",
              "      div.appendChild(progress);\n",
              "      document.body.appendChild(div);\n",
              "\n",
              "      const buffers = [];\n",
              "      let downloaded = 0;\n",
              "\n",
              "      const channel = await google.colab.kernel.comms.open(id);\n",
              "      // Send a message to notify the kernel that we're ready.\n",
              "      channel.send({})\n",
              "\n",
              "      for await (const message of channel.messages) {\n",
              "        // Send a message to notify the kernel that we're ready.\n",
              "        channel.send({})\n",
              "        if (message.buffers) {\n",
              "          for (const buffer of message.buffers) {\n",
              "            buffers.push(buffer);\n",
              "            downloaded += buffer.byteLength;\n",
              "            progress.value = downloaded;\n",
              "          }\n",
              "        }\n",
              "      }\n",
              "      const blob = new Blob(buffers, {type: 'application/binary'});\n",
              "      const a = document.createElement('a');\n",
              "      a.href = window.URL.createObjectURL(blob);\n",
              "      a.download = filename;\n",
              "      div.appendChild(a);\n",
              "      a.click();\n",
              "      div.remove();\n",
              "    }\n",
              "  "
            ]
          },
          "metadata": {}
        },
        {
          "output_type": "display_data",
          "data": {
            "text/plain": [
              "<IPython.core.display.Javascript object>"
            ],
            "application/javascript": [
              "download(\"download_0f000452-29eb-4f64-a185-6baa447fc5f6\", \"07.\\u201cTAKEDOWN\\u201d (JEONGYEON, JIHYO, CHAEYOUNG) KPop Demon Hunters  \\uff5c TWICE.mp3\", 3756052)"
            ]
          },
          "metadata": {}
        },
        {
          "output_type": "display_data",
          "data": {
            "text/plain": [
              "<IPython.core.display.Javascript object>"
            ],
            "application/javascript": [
              "\n",
              "    async function download(id, filename, size) {\n",
              "      if (!google.colab.kernel.accessAllowed) {\n",
              "        return;\n",
              "      }\n",
              "      const div = document.createElement('div');\n",
              "      const label = document.createElement('label');\n",
              "      label.textContent = `Downloading \"${filename}\": `;\n",
              "      div.appendChild(label);\n",
              "      const progress = document.createElement('progress');\n",
              "      progress.max = size;\n",
              "      div.appendChild(progress);\n",
              "      document.body.appendChild(div);\n",
              "\n",
              "      const buffers = [];\n",
              "      let downloaded = 0;\n",
              "\n",
              "      const channel = await google.colab.kernel.comms.open(id);\n",
              "      // Send a message to notify the kernel that we're ready.\n",
              "      channel.send({})\n",
              "\n",
              "      for await (const message of channel.messages) {\n",
              "        // Send a message to notify the kernel that we're ready.\n",
              "        channel.send({})\n",
              "        if (message.buffers) {\n",
              "          for (const buffer of message.buffers) {\n",
              "            buffers.push(buffer);\n",
              "            downloaded += buffer.byteLength;\n",
              "            progress.value = downloaded;\n",
              "          }\n",
              "        }\n",
              "      }\n",
              "      const blob = new Blob(buffers, {type: 'application/binary'});\n",
              "      const a = document.createElement('a');\n",
              "      a.href = window.URL.createObjectURL(blob);\n",
              "      a.download = filename;\n",
              "      div.appendChild(a);\n",
              "      a.click();\n",
              "      div.remove();\n",
              "    }\n",
              "  "
            ]
          },
          "metadata": {}
        },
        {
          "output_type": "display_data",
          "data": {
            "text/plain": [
              "<IPython.core.display.Javascript object>"
            ],
            "application/javascript": [
              "download(\"download_42fbc666-faf2-4e5a-804c-c1f8c0d82ffb\", \"16.\\u201cLove, Maybe\\u201d KPop Demon Hunters (Soundtrack from the Netflix Film) \\uff5c MeloMance.mp3\", 3606471)"
            ]
          },
          "metadata": {}
        },
        {
          "output_type": "display_data",
          "data": {
            "text/plain": [
              "<IPython.core.display.Javascript object>"
            ],
            "application/javascript": [
              "\n",
              "    async function download(id, filename, size) {\n",
              "      if (!google.colab.kernel.accessAllowed) {\n",
              "        return;\n",
              "      }\n",
              "      const div = document.createElement('div');\n",
              "      const label = document.createElement('label');\n",
              "      label.textContent = `Downloading \"${filename}\": `;\n",
              "      div.appendChild(label);\n",
              "      const progress = document.createElement('progress');\n",
              "      progress.max = size;\n",
              "      div.appendChild(progress);\n",
              "      document.body.appendChild(div);\n",
              "\n",
              "      const buffers = [];\n",
              "      let downloaded = 0;\n",
              "\n",
              "      const channel = await google.colab.kernel.comms.open(id);\n",
              "      // Send a message to notify the kernel that we're ready.\n",
              "      channel.send({})\n",
              "\n",
              "      for await (const message of channel.messages) {\n",
              "        // Send a message to notify the kernel that we're ready.\n",
              "        channel.send({})\n",
              "        if (message.buffers) {\n",
              "          for (const buffer of message.buffers) {\n",
              "            buffers.push(buffer);\n",
              "            downloaded += buffer.byteLength;\n",
              "            progress.value = downloaded;\n",
              "          }\n",
              "        }\n",
              "      }\n",
              "      const blob = new Blob(buffers, {type: 'application/binary'});\n",
              "      const a = document.createElement('a');\n",
              "      a.href = window.URL.createObjectURL(blob);\n",
              "      a.download = filename;\n",
              "      div.appendChild(a);\n",
              "      a.click();\n",
              "      div.remove();\n",
              "    }\n",
              "  "
            ]
          },
          "metadata": {}
        },
        {
          "output_type": "display_data",
          "data": {
            "text/plain": [
              "<IPython.core.display.Javascript object>"
            ],
            "application/javascript": [
              "download(\"download_2d0d2700-8dc6-4d70-ab65-8e7f4181e96b\", \"10.\\u201cGolden\\u201d KPop Demon Hunters (Soundtrack from the Netflix Film) \\uff5c HUNTR\\u29f8X.mp3\", 3895242)"
            ]
          },
          "metadata": {}
        },
        {
          "output_type": "display_data",
          "data": {
            "text/plain": [
              "<IPython.core.display.Javascript object>"
            ],
            "application/javascript": [
              "\n",
              "    async function download(id, filename, size) {\n",
              "      if (!google.colab.kernel.accessAllowed) {\n",
              "        return;\n",
              "      }\n",
              "      const div = document.createElement('div');\n",
              "      const label = document.createElement('label');\n",
              "      label.textContent = `Downloading \"${filename}\": `;\n",
              "      div.appendChild(label);\n",
              "      const progress = document.createElement('progress');\n",
              "      progress.max = size;\n",
              "      div.appendChild(progress);\n",
              "      document.body.appendChild(div);\n",
              "\n",
              "      const buffers = [];\n",
              "      let downloaded = 0;\n",
              "\n",
              "      const channel = await google.colab.kernel.comms.open(id);\n",
              "      // Send a message to notify the kernel that we're ready.\n",
              "      channel.send({})\n",
              "\n",
              "      for await (const message of channel.messages) {\n",
              "        // Send a message to notify the kernel that we're ready.\n",
              "        channel.send({})\n",
              "        if (message.buffers) {\n",
              "          for (const buffer of message.buffers) {\n",
              "            buffers.push(buffer);\n",
              "            downloaded += buffer.byteLength;\n",
              "            progress.value = downloaded;\n",
              "          }\n",
              "        }\n",
              "      }\n",
              "      const blob = new Blob(buffers, {type: 'application/binary'});\n",
              "      const a = document.createElement('a');\n",
              "      a.href = window.URL.createObjectURL(blob);\n",
              "      a.download = filename;\n",
              "      div.appendChild(a);\n",
              "      a.click();\n",
              "      div.remove();\n",
              "    }\n",
              "  "
            ]
          },
          "metadata": {}
        },
        {
          "output_type": "display_data",
          "data": {
            "text/plain": [
              "<IPython.core.display.Javascript object>"
            ],
            "application/javascript": [
              "download(\"download_6bc59169-8dc5-4db6-a68e-60ea93cb88b4\", \"04.\\uff02Soda Pop\\uff02 Official Lyric Video \\uff5c KPop Demon Hunters \\uff5c Sony Animation.mp3\", 12966618)"
            ]
          },
          "metadata": {}
        },
        {
          "output_type": "display_data",
          "data": {
            "text/plain": [
              "<IPython.core.display.Javascript object>"
            ],
            "application/javascript": [
              "\n",
              "    async function download(id, filename, size) {\n",
              "      if (!google.colab.kernel.accessAllowed) {\n",
              "        return;\n",
              "      }\n",
              "      const div = document.createElement('div');\n",
              "      const label = document.createElement('label');\n",
              "      label.textContent = `Downloading \"${filename}\": `;\n",
              "      div.appendChild(label);\n",
              "      const progress = document.createElement('progress');\n",
              "      progress.max = size;\n",
              "      div.appendChild(progress);\n",
              "      document.body.appendChild(div);\n",
              "\n",
              "      const buffers = [];\n",
              "      let downloaded = 0;\n",
              "\n",
              "      const channel = await google.colab.kernel.comms.open(id);\n",
              "      // Send a message to notify the kernel that we're ready.\n",
              "      channel.send({})\n",
              "\n",
              "      for await (const message of channel.messages) {\n",
              "        // Send a message to notify the kernel that we're ready.\n",
              "        channel.send({})\n",
              "        if (message.buffers) {\n",
              "          for (const buffer of message.buffers) {\n",
              "            buffers.push(buffer);\n",
              "            downloaded += buffer.byteLength;\n",
              "            progress.value = downloaded;\n",
              "          }\n",
              "        }\n",
              "      }\n",
              "      const blob = new Blob(buffers, {type: 'application/binary'});\n",
              "      const a = document.createElement('a');\n",
              "      a.href = window.URL.createObjectURL(blob);\n",
              "      a.download = filename;\n",
              "      div.appendChild(a);\n",
              "      a.click();\n",
              "      div.remove();\n",
              "    }\n",
              "  "
            ]
          },
          "metadata": {}
        },
        {
          "output_type": "display_data",
          "data": {
            "text/plain": [
              "<IPython.core.display.Javascript object>"
            ],
            "application/javascript": [
              "download(\"download_cb602a0c-5acc-4427-889b-f9b55cd6f646\", \"11.\\u201cTakedown\\u201d KPop Demon Hunters (Soundtrack from the Netflix Film) \\uff5c HUNTR\\u29f8X.mp3\", 4161223)"
            ]
          },
          "metadata": {}
        },
        {
          "output_type": "display_data",
          "data": {
            "text/plain": [
              "<IPython.core.display.Javascript object>"
            ],
            "application/javascript": [
              "\n",
              "    async function download(id, filename, size) {\n",
              "      if (!google.colab.kernel.accessAllowed) {\n",
              "        return;\n",
              "      }\n",
              "      const div = document.createElement('div');\n",
              "      const label = document.createElement('label');\n",
              "      label.textContent = `Downloading \"${filename}\": `;\n",
              "      div.appendChild(label);\n",
              "      const progress = document.createElement('progress');\n",
              "      progress.max = size;\n",
              "      div.appendChild(progress);\n",
              "      document.body.appendChild(div);\n",
              "\n",
              "      const buffers = [];\n",
              "      let downloaded = 0;\n",
              "\n",
              "      const channel = await google.colab.kernel.comms.open(id);\n",
              "      // Send a message to notify the kernel that we're ready.\n",
              "      channel.send({})\n",
              "\n",
              "      for await (const message of channel.messages) {\n",
              "        // Send a message to notify the kernel that we're ready.\n",
              "        channel.send({})\n",
              "        if (message.buffers) {\n",
              "          for (const buffer of message.buffers) {\n",
              "            buffers.push(buffer);\n",
              "            downloaded += buffer.byteLength;\n",
              "            progress.value = downloaded;\n",
              "          }\n",
              "        }\n",
              "      }\n",
              "      const blob = new Blob(buffers, {type: 'application/binary'});\n",
              "      const a = document.createElement('a');\n",
              "      a.href = window.URL.createObjectURL(blob);\n",
              "      a.download = filename;\n",
              "      div.appendChild(a);\n",
              "      a.click();\n",
              "      div.remove();\n",
              "    }\n",
              "  "
            ]
          },
          "metadata": {}
        },
        {
          "output_type": "display_data",
          "data": {
            "text/plain": [
              "<IPython.core.display.Javascript object>"
            ],
            "application/javascript": [
              "download(\"download_9569a601-f079-434a-a7be-d76dda2aa044\", \"02.\\u201cTakedown\\u201d Official Lyric Video feat. Jeongyeon, Jihyo and Chaeyoung from TWICE \\uff5c KPop Demon Hunters.mp3\", 15841769)"
            ]
          },
          "metadata": {}
        },
        {
          "output_type": "display_data",
          "data": {
            "text/plain": [
              "<IPython.core.display.Javascript object>"
            ],
            "application/javascript": [
              "\n",
              "    async function download(id, filename, size) {\n",
              "      if (!google.colab.kernel.accessAllowed) {\n",
              "        return;\n",
              "      }\n",
              "      const div = document.createElement('div');\n",
              "      const label = document.createElement('label');\n",
              "      label.textContent = `Downloading \"${filename}\": `;\n",
              "      div.appendChild(label);\n",
              "      const progress = document.createElement('progress');\n",
              "      progress.max = size;\n",
              "      div.appendChild(progress);\n",
              "      document.body.appendChild(div);\n",
              "\n",
              "      const buffers = [];\n",
              "      let downloaded = 0;\n",
              "\n",
              "      const channel = await google.colab.kernel.comms.open(id);\n",
              "      // Send a message to notify the kernel that we're ready.\n",
              "      channel.send({})\n",
              "\n",
              "      for await (const message of channel.messages) {\n",
              "        // Send a message to notify the kernel that we're ready.\n",
              "        channel.send({})\n",
              "        if (message.buffers) {\n",
              "          for (const buffer of message.buffers) {\n",
              "            buffers.push(buffer);\n",
              "            downloaded += buffer.byteLength;\n",
              "            progress.value = downloaded;\n",
              "          }\n",
              "        }\n",
              "      }\n",
              "      const blob = new Blob(buffers, {type: 'application/binary'});\n",
              "      const a = document.createElement('a');\n",
              "      a.href = window.URL.createObjectURL(blob);\n",
              "      a.download = filename;\n",
              "      div.appendChild(a);\n",
              "      a.click();\n",
              "      div.remove();\n",
              "    }\n",
              "  "
            ]
          },
          "metadata": {}
        },
        {
          "output_type": "display_data",
          "data": {
            "text/plain": [
              "<IPython.core.display.Javascript object>"
            ],
            "application/javascript": [
              "download(\"download_745ff0fd-b233-48cb-9ef2-539f10b2b637\", \"09.\\u201cSoda Pop\\u201d KPop Demon Hunters (Soundtrack from the Netflix Film) \\uff5c Saja Boys.mp3\", 3092626)"
            ]
          },
          "metadata": {}
        },
        {
          "output_type": "display_data",
          "data": {
            "text/plain": [
              "<IPython.core.display.Javascript object>"
            ],
            "application/javascript": [
              "\n",
              "    async function download(id, filename, size) {\n",
              "      if (!google.colab.kernel.accessAllowed) {\n",
              "        return;\n",
              "      }\n",
              "      const div = document.createElement('div');\n",
              "      const label = document.createElement('label');\n",
              "      label.textContent = `Downloading \"${filename}\": `;\n",
              "      div.appendChild(label);\n",
              "      const progress = document.createElement('progress');\n",
              "      progress.max = size;\n",
              "      div.appendChild(progress);\n",
              "      document.body.appendChild(div);\n",
              "\n",
              "      const buffers = [];\n",
              "      let downloaded = 0;\n",
              "\n",
              "      const channel = await google.colab.kernel.comms.open(id);\n",
              "      // Send a message to notify the kernel that we're ready.\n",
              "      channel.send({})\n",
              "\n",
              "      for await (const message of channel.messages) {\n",
              "        // Send a message to notify the kernel that we're ready.\n",
              "        channel.send({})\n",
              "        if (message.buffers) {\n",
              "          for (const buffer of message.buffers) {\n",
              "            buffers.push(buffer);\n",
              "            downloaded += buffer.byteLength;\n",
              "            progress.value = downloaded;\n",
              "          }\n",
              "        }\n",
              "      }\n",
              "      const blob = new Blob(buffers, {type: 'application/binary'});\n",
              "      const a = document.createElement('a');\n",
              "      a.href = window.URL.createObjectURL(blob);\n",
              "      a.download = filename;\n",
              "      div.appendChild(a);\n",
              "      a.click();\n",
              "      div.remove();\n",
              "    }\n",
              "  "
            ]
          },
          "metadata": {}
        },
        {
          "output_type": "display_data",
          "data": {
            "text/plain": [
              "<IPython.core.display.Javascript object>"
            ],
            "application/javascript": [
              "download(\"download_df4600d0-44e1-480d-be7f-16ad0e8ef2f3\", \"06.\\uff02Free\\uff02 \\uff5c Official Lyric Video \\uff5c Sony Animation.mp3\", 9971006)"
            ]
          },
          "metadata": {}
        },
        {
          "output_type": "display_data",
          "data": {
            "text/plain": [
              "<IPython.core.display.Javascript object>"
            ],
            "application/javascript": [
              "\n",
              "    async function download(id, filename, size) {\n",
              "      if (!google.colab.kernel.accessAllowed) {\n",
              "        return;\n",
              "      }\n",
              "      const div = document.createElement('div');\n",
              "      const label = document.createElement('label');\n",
              "      label.textContent = `Downloading \"${filename}\": `;\n",
              "      div.appendChild(label);\n",
              "      const progress = document.createElement('progress');\n",
              "      progress.max = size;\n",
              "      div.appendChild(progress);\n",
              "      document.body.appendChild(div);\n",
              "\n",
              "      const buffers = [];\n",
              "      let downloaded = 0;\n",
              "\n",
              "      const channel = await google.colab.kernel.comms.open(id);\n",
              "      // Send a message to notify the kernel that we're ready.\n",
              "      channel.send({})\n",
              "\n",
              "      for await (const message of channel.messages) {\n",
              "        // Send a message to notify the kernel that we're ready.\n",
              "        channel.send({})\n",
              "        if (message.buffers) {\n",
              "          for (const buffer of message.buffers) {\n",
              "            buffers.push(buffer);\n",
              "            downloaded += buffer.byteLength;\n",
              "            progress.value = downloaded;\n",
              "          }\n",
              "        }\n",
              "      }\n",
              "      const blob = new Blob(buffers, {type: 'application/binary'});\n",
              "      const a = document.createElement('a');\n",
              "      a.href = window.URL.createObjectURL(blob);\n",
              "      a.download = filename;\n",
              "      div.appendChild(a);\n",
              "      a.click();\n",
              "      div.remove();\n",
              "    }\n",
              "  "
            ]
          },
          "metadata": {}
        },
        {
          "output_type": "display_data",
          "data": {
            "text/plain": [
              "<IPython.core.display.Javascript object>"
            ],
            "application/javascript": [
              "download(\"download_bd64af53-6974-4965-b885-f93cff103393\", \"03.\\uff02How It's Done\\uff02 Official Lyric Video \\uff5c KPop Demon Hunters \\uff5c Sony Animation.mp3\", 14775509)"
            ]
          },
          "metadata": {}
        },
        {
          "output_type": "display_data",
          "data": {
            "text/plain": [
              "<IPython.core.display.Javascript object>"
            ],
            "application/javascript": [
              "\n",
              "    async function download(id, filename, size) {\n",
              "      if (!google.colab.kernel.accessAllowed) {\n",
              "        return;\n",
              "      }\n",
              "      const div = document.createElement('div');\n",
              "      const label = document.createElement('label');\n",
              "      label.textContent = `Downloading \"${filename}\": `;\n",
              "      div.appendChild(label);\n",
              "      const progress = document.createElement('progress');\n",
              "      progress.max = size;\n",
              "      div.appendChild(progress);\n",
              "      document.body.appendChild(div);\n",
              "\n",
              "      const buffers = [];\n",
              "      let downloaded = 0;\n",
              "\n",
              "      const channel = await google.colab.kernel.comms.open(id);\n",
              "      // Send a message to notify the kernel that we're ready.\n",
              "      channel.send({})\n",
              "\n",
              "      for await (const message of channel.messages) {\n",
              "        // Send a message to notify the kernel that we're ready.\n",
              "        channel.send({})\n",
              "        if (message.buffers) {\n",
              "          for (const buffer of message.buffers) {\n",
              "            buffers.push(buffer);\n",
              "            downloaded += buffer.byteLength;\n",
              "            progress.value = downloaded;\n",
              "          }\n",
              "        }\n",
              "      }\n",
              "      const blob = new Blob(buffers, {type: 'application/binary'});\n",
              "      const a = document.createElement('a');\n",
              "      a.href = window.URL.createObjectURL(blob);\n",
              "      a.download = filename;\n",
              "      div.appendChild(a);\n",
              "      a.click();\n",
              "      div.remove();\n",
              "    }\n",
              "  "
            ]
          },
          "metadata": {}
        },
        {
          "output_type": "display_data",
          "data": {
            "text/plain": [
              "<IPython.core.display.Javascript object>"
            ],
            "application/javascript": [
              "download(\"download_60248cdb-e55d-4363-bf29-8c902f0780a0\", \"18.\\u201cScore Suite\\u201d KPop Demon Hunters (Soundtrack from the Netflix Film) \\uff5c Marcelo Zarvos.mp3\", 3881207)"
            ]
          },
          "metadata": {}
        },
        {
          "output_type": "display_data",
          "data": {
            "text/plain": [
              "<IPython.core.display.Javascript object>"
            ],
            "application/javascript": [
              "\n",
              "    async function download(id, filename, size) {\n",
              "      if (!google.colab.kernel.accessAllowed) {\n",
              "        return;\n",
              "      }\n",
              "      const div = document.createElement('div');\n",
              "      const label = document.createElement('label');\n",
              "      label.textContent = `Downloading \"${filename}\": `;\n",
              "      div.appendChild(label);\n",
              "      const progress = document.createElement('progress');\n",
              "      progress.max = size;\n",
              "      div.appendChild(progress);\n",
              "      document.body.appendChild(div);\n",
              "\n",
              "      const buffers = [];\n",
              "      let downloaded = 0;\n",
              "\n",
              "      const channel = await google.colab.kernel.comms.open(id);\n",
              "      // Send a message to notify the kernel that we're ready.\n",
              "      channel.send({})\n",
              "\n",
              "      for await (const message of channel.messages) {\n",
              "        // Send a message to notify the kernel that we're ready.\n",
              "        channel.send({})\n",
              "        if (message.buffers) {\n",
              "          for (const buffer of message.buffers) {\n",
              "            buffers.push(buffer);\n",
              "            downloaded += buffer.byteLength;\n",
              "            progress.value = downloaded;\n",
              "          }\n",
              "        }\n",
              "      }\n",
              "      const blob = new Blob(buffers, {type: 'application/binary'});\n",
              "      const a = document.createElement('a');\n",
              "      a.href = window.URL.createObjectURL(blob);\n",
              "      a.download = filename;\n",
              "      div.appendChild(a);\n",
              "      a.click();\n",
              "      div.remove();\n",
              "    }\n",
              "  "
            ]
          },
          "metadata": {}
        },
        {
          "output_type": "display_data",
          "data": {
            "text/plain": [
              "<IPython.core.display.Javascript object>"
            ],
            "application/javascript": [
              "download(\"download_9c3036c0-61a6-4375-9dae-1a18ecfcd80b\", \"08.\\u201cHow It's Done\\u201d KPop Demon Hunters (Soundtrack from the Netflix Film) \\uff5c HUNTR\\u29f8X.mp3\", 3823146)"
            ]
          },
          "metadata": {}
        },
        {
          "output_type": "display_data",
          "data": {
            "text/plain": [
              "<IPython.core.display.Javascript object>"
            ],
            "application/javascript": [
              "\n",
              "    async function download(id, filename, size) {\n",
              "      if (!google.colab.kernel.accessAllowed) {\n",
              "        return;\n",
              "      }\n",
              "      const div = document.createElement('div');\n",
              "      const label = document.createElement('label');\n",
              "      label.textContent = `Downloading \"${filename}\": `;\n",
              "      div.appendChild(label);\n",
              "      const progress = document.createElement('progress');\n",
              "      progress.max = size;\n",
              "      div.appendChild(progress);\n",
              "      document.body.appendChild(div);\n",
              "\n",
              "      const buffers = [];\n",
              "      let downloaded = 0;\n",
              "\n",
              "      const channel = await google.colab.kernel.comms.open(id);\n",
              "      // Send a message to notify the kernel that we're ready.\n",
              "      channel.send({})\n",
              "\n",
              "      for await (const message of channel.messages) {\n",
              "        // Send a message to notify the kernel that we're ready.\n",
              "        channel.send({})\n",
              "        if (message.buffers) {\n",
              "          for (const buffer of message.buffers) {\n",
              "            buffers.push(buffer);\n",
              "            downloaded += buffer.byteLength;\n",
              "            progress.value = downloaded;\n",
              "          }\n",
              "        }\n",
              "      }\n",
              "      const blob = new Blob(buffers, {type: 'application/binary'});\n",
              "      const a = document.createElement('a');\n",
              "      a.href = window.URL.createObjectURL(blob);\n",
              "      a.download = filename;\n",
              "      div.appendChild(a);\n",
              "      a.click();\n",
              "      div.remove();\n",
              "    }\n",
              "  "
            ]
          },
          "metadata": {}
        },
        {
          "output_type": "display_data",
          "data": {
            "text/plain": [
              "<IPython.core.display.Javascript object>"
            ],
            "application/javascript": [
              "download(\"download_c811d688-0910-4f21-8f05-7b9ac4461a3f\", \"15.\\u201cWhat It Sounds Like\\u201d KPop Demon Hunters (Soundtrack from the Netflix Film) \\uff5c HUNTR\\u29f8X.mp3\", 5561311)"
            ]
          },
          "metadata": {}
        },
        {
          "output_type": "display_data",
          "data": {
            "text/plain": [
              "<IPython.core.display.Javascript object>"
            ],
            "application/javascript": [
              "\n",
              "    async function download(id, filename, size) {\n",
              "      if (!google.colab.kernel.accessAllowed) {\n",
              "        return;\n",
              "      }\n",
              "      const div = document.createElement('div');\n",
              "      const label = document.createElement('label');\n",
              "      label.textContent = `Downloading \"${filename}\": `;\n",
              "      div.appendChild(label);\n",
              "      const progress = document.createElement('progress');\n",
              "      progress.max = size;\n",
              "      div.appendChild(progress);\n",
              "      document.body.appendChild(div);\n",
              "\n",
              "      const buffers = [];\n",
              "      let downloaded = 0;\n",
              "\n",
              "      const channel = await google.colab.kernel.comms.open(id);\n",
              "      // Send a message to notify the kernel that we're ready.\n",
              "      channel.send({})\n",
              "\n",
              "      for await (const message of channel.messages) {\n",
              "        // Send a message to notify the kernel that we're ready.\n",
              "        channel.send({})\n",
              "        if (message.buffers) {\n",
              "          for (const buffer of message.buffers) {\n",
              "            buffers.push(buffer);\n",
              "            downloaded += buffer.byteLength;\n",
              "            progress.value = downloaded;\n",
              "          }\n",
              "        }\n",
              "      }\n",
              "      const blob = new Blob(buffers, {type: 'application/binary'});\n",
              "      const a = document.createElement('a');\n",
              "      a.href = window.URL.createObjectURL(blob);\n",
              "      a.download = filename;\n",
              "      div.appendChild(a);\n",
              "      a.click();\n",
              "      div.remove();\n",
              "    }\n",
              "  "
            ]
          },
          "metadata": {}
        },
        {
          "output_type": "display_data",
          "data": {
            "text/plain": [
              "<IPython.core.display.Javascript object>"
            ],
            "application/javascript": [
              "download(\"download_5fa79ca6-9afb-470e-95cc-02fea62c57f9\", \"13.\\u201cYour Idol\\u201d KPop Demon Hunters (Soundtrack from the Netflix Film) \\uff5c Saja Boys.mp3\", 3949455)"
            ]
          },
          "metadata": {}
        },
        {
          "output_type": "display_data",
          "data": {
            "text/plain": [
              "<IPython.core.display.Javascript object>"
            ],
            "application/javascript": [
              "\n",
              "    async function download(id, filename, size) {\n",
              "      if (!google.colab.kernel.accessAllowed) {\n",
              "        return;\n",
              "      }\n",
              "      const div = document.createElement('div');\n",
              "      const label = document.createElement('label');\n",
              "      label.textContent = `Downloading \"${filename}\": `;\n",
              "      div.appendChild(label);\n",
              "      const progress = document.createElement('progress');\n",
              "      progress.max = size;\n",
              "      div.appendChild(progress);\n",
              "      document.body.appendChild(div);\n",
              "\n",
              "      const buffers = [];\n",
              "      let downloaded = 0;\n",
              "\n",
              "      const channel = await google.colab.kernel.comms.open(id);\n",
              "      // Send a message to notify the kernel that we're ready.\n",
              "      channel.send({})\n",
              "\n",
              "      for await (const message of channel.messages) {\n",
              "        // Send a message to notify the kernel that we're ready.\n",
              "        channel.send({})\n",
              "        if (message.buffers) {\n",
              "          for (const buffer of message.buffers) {\n",
              "            buffers.push(buffer);\n",
              "            downloaded += buffer.byteLength;\n",
              "            progress.value = downloaded;\n",
              "          }\n",
              "        }\n",
              "      }\n",
              "      const blob = new Blob(buffers, {type: 'application/binary'});\n",
              "      const a = document.createElement('a');\n",
              "      a.href = window.URL.createObjectURL(blob);\n",
              "      a.download = filename;\n",
              "      div.appendChild(a);\n",
              "      a.click();\n",
              "      div.remove();\n",
              "    }\n",
              "  "
            ]
          },
          "metadata": {}
        },
        {
          "output_type": "display_data",
          "data": {
            "text/plain": [
              "<IPython.core.display.Javascript object>"
            ],
            "application/javascript": [
              "download(\"download_6eb45e6b-c5ad-447b-ac10-a13a50a408a9\", \"17.\\u201cPath\\u201d KPop Demon Hunters (Soundtrack from the Netflix Film) \\uff5c Jokers.mp3\", 2373415)"
            ]
          },
          "metadata": {}
        },
        {
          "output_type": "display_data",
          "data": {
            "text/plain": [
              "<IPython.core.display.Javascript object>"
            ],
            "application/javascript": [
              "\n",
              "    async function download(id, filename, size) {\n",
              "      if (!google.colab.kernel.accessAllowed) {\n",
              "        return;\n",
              "      }\n",
              "      const div = document.createElement('div');\n",
              "      const label = document.createElement('label');\n",
              "      label.textContent = `Downloading \"${filename}\": `;\n",
              "      div.appendChild(label);\n",
              "      const progress = document.createElement('progress');\n",
              "      progress.max = size;\n",
              "      div.appendChild(progress);\n",
              "      document.body.appendChild(div);\n",
              "\n",
              "      const buffers = [];\n",
              "      let downloaded = 0;\n",
              "\n",
              "      const channel = await google.colab.kernel.comms.open(id);\n",
              "      // Send a message to notify the kernel that we're ready.\n",
              "      channel.send({})\n",
              "\n",
              "      for await (const message of channel.messages) {\n",
              "        // Send a message to notify the kernel that we're ready.\n",
              "        channel.send({})\n",
              "        if (message.buffers) {\n",
              "          for (const buffer of message.buffers) {\n",
              "            buffers.push(buffer);\n",
              "            downloaded += buffer.byteLength;\n",
              "            progress.value = downloaded;\n",
              "          }\n",
              "        }\n",
              "      }\n",
              "      const blob = new Blob(buffers, {type: 'application/binary'});\n",
              "      const a = document.createElement('a');\n",
              "      a.href = window.URL.createObjectURL(blob);\n",
              "      a.download = filename;\n",
              "      div.appendChild(a);\n",
              "      a.click();\n",
              "      div.remove();\n",
              "    }\n",
              "  "
            ]
          },
          "metadata": {}
        },
        {
          "output_type": "display_data",
          "data": {
            "text/plain": [
              "<IPython.core.display.Javascript object>"
            ],
            "application/javascript": [
              "download(\"download_28a29407-cb3d-44f3-8794-580e743b88b1\", \"01.\\u201cGolden\\u201d Official Lyric Video \\uff5c KPop Demon Hunters \\uff5c Sony Animation.mp3\", 13805729)"
            ]
          },
          "metadata": {}
        },
        {
          "output_type": "display_data",
          "data": {
            "text/plain": [
              "<IPython.core.display.Javascript object>"
            ],
            "application/javascript": [
              "\n",
              "    async function download(id, filename, size) {\n",
              "      if (!google.colab.kernel.accessAllowed) {\n",
              "        return;\n",
              "      }\n",
              "      const div = document.createElement('div');\n",
              "      const label = document.createElement('label');\n",
              "      label.textContent = `Downloading \"${filename}\": `;\n",
              "      div.appendChild(label);\n",
              "      const progress = document.createElement('progress');\n",
              "      progress.max = size;\n",
              "      div.appendChild(progress);\n",
              "      document.body.appendChild(div);\n",
              "\n",
              "      const buffers = [];\n",
              "      let downloaded = 0;\n",
              "\n",
              "      const channel = await google.colab.kernel.comms.open(id);\n",
              "      // Send a message to notify the kernel that we're ready.\n",
              "      channel.send({})\n",
              "\n",
              "      for await (const message of channel.messages) {\n",
              "        // Send a message to notify the kernel that we're ready.\n",
              "        channel.send({})\n",
              "        if (message.buffers) {\n",
              "          for (const buffer of message.buffers) {\n",
              "            buffers.push(buffer);\n",
              "            downloaded += buffer.byteLength;\n",
              "            progress.value = downloaded;\n",
              "          }\n",
              "        }\n",
              "      }\n",
              "      const blob = new Blob(buffers, {type: 'application/binary'});\n",
              "      const a = document.createElement('a');\n",
              "      a.href = window.URL.createObjectURL(blob);\n",
              "      a.download = filename;\n",
              "      div.appendChild(a);\n",
              "      a.click();\n",
              "      div.remove();\n",
              "    }\n",
              "  "
            ]
          },
          "metadata": {}
        },
        {
          "output_type": "display_data",
          "data": {
            "text/plain": [
              "<IPython.core.display.Javascript object>"
            ],
            "application/javascript": [
              "download(\"download_3921bc3d-2b12-4a9a-a0fd-146f70f82756\", \"05.\\uff02Your Idol\\uff02 \\uff5c Official Song Clip \\uff5c KPop Demon Hunters \\uff5c Sony Animation.mp3\", 7844341)"
            ]
          },
          "metadata": {}
        },
        {
          "output_type": "display_data",
          "data": {
            "text/plain": [
              "<IPython.core.display.Javascript object>"
            ],
            "application/javascript": [
              "\n",
              "    async function download(id, filename, size) {\n",
              "      if (!google.colab.kernel.accessAllowed) {\n",
              "        return;\n",
              "      }\n",
              "      const div = document.createElement('div');\n",
              "      const label = document.createElement('label');\n",
              "      label.textContent = `Downloading \"${filename}\": `;\n",
              "      div.appendChild(label);\n",
              "      const progress = document.createElement('progress');\n",
              "      progress.max = size;\n",
              "      div.appendChild(progress);\n",
              "      document.body.appendChild(div);\n",
              "\n",
              "      const buffers = [];\n",
              "      let downloaded = 0;\n",
              "\n",
              "      const channel = await google.colab.kernel.comms.open(id);\n",
              "      // Send a message to notify the kernel that we're ready.\n",
              "      channel.send({})\n",
              "\n",
              "      for await (const message of channel.messages) {\n",
              "        // Send a message to notify the kernel that we're ready.\n",
              "        channel.send({})\n",
              "        if (message.buffers) {\n",
              "          for (const buffer of message.buffers) {\n",
              "            buffers.push(buffer);\n",
              "            downloaded += buffer.byteLength;\n",
              "            progress.value = downloaded;\n",
              "          }\n",
              "        }\n",
              "      }\n",
              "      const blob = new Blob(buffers, {type: 'application/binary'});\n",
              "      const a = document.createElement('a');\n",
              "      a.href = window.URL.createObjectURL(blob);\n",
              "      a.download = filename;\n",
              "      div.appendChild(a);\n",
              "      a.click();\n",
              "      div.remove();\n",
              "    }\n",
              "  "
            ]
          },
          "metadata": {}
        },
        {
          "output_type": "display_data",
          "data": {
            "text/plain": [
              "<IPython.core.display.Javascript object>"
            ],
            "application/javascript": [
              "download(\"download_2582045b-ce91-461c-b5a1-7e64631db623\", \"14.\\u201cFree\\u201d KPop Demon Hunters (Soundtrack from the Netflix Film) \\uff5c Rumi, Jinu.mp3\", 3551588)"
            ]
          },
          "metadata": {}
        },
        {
          "output_type": "display_data",
          "data": {
            "text/plain": [
              "<IPython.core.display.Javascript object>"
            ],
            "application/javascript": [
              "\n",
              "    async function download(id, filename, size) {\n",
              "      if (!google.colab.kernel.accessAllowed) {\n",
              "        return;\n",
              "      }\n",
              "      const div = document.createElement('div');\n",
              "      const label = document.createElement('label');\n",
              "      label.textContent = `Downloading \"${filename}\": `;\n",
              "      div.appendChild(label);\n",
              "      const progress = document.createElement('progress');\n",
              "      progress.max = size;\n",
              "      div.appendChild(progress);\n",
              "      document.body.appendChild(div);\n",
              "\n",
              "      const buffers = [];\n",
              "      let downloaded = 0;\n",
              "\n",
              "      const channel = await google.colab.kernel.comms.open(id);\n",
              "      // Send a message to notify the kernel that we're ready.\n",
              "      channel.send({})\n",
              "\n",
              "      for await (const message of channel.messages) {\n",
              "        // Send a message to notify the kernel that we're ready.\n",
              "        channel.send({})\n",
              "        if (message.buffers) {\n",
              "          for (const buffer of message.buffers) {\n",
              "            buffers.push(buffer);\n",
              "            downloaded += buffer.byteLength;\n",
              "            progress.value = downloaded;\n",
              "          }\n",
              "        }\n",
              "      }\n",
              "      const blob = new Blob(buffers, {type: 'application/binary'});\n",
              "      const a = document.createElement('a');\n",
              "      a.href = window.URL.createObjectURL(blob);\n",
              "      a.download = filename;\n",
              "      div.appendChild(a);\n",
              "      a.click();\n",
              "      div.remove();\n",
              "    }\n",
              "  "
            ]
          },
          "metadata": {}
        },
        {
          "output_type": "display_data",
          "data": {
            "text/plain": [
              "<IPython.core.display.Javascript object>"
            ],
            "application/javascript": [
              "download(\"download_3238c594-62fa-49ae-8cad-a773d2b336b8\", \"12.\\u201cStrategy\\u201d KPop Demon Hunters (Soundtrack from the Netflix Film) \\uff5c TWICE.mp3\", 2942040)"
            ]
          },
          "metadata": {}
        }
      ]
    },
    {
      "cell_type": "code",
      "source": [
        "import os\n",
        "path = \"/content/\"\n",
        "\n",
        "for file in os.listdir(path):\n",
        "    if file.startswith(\"MOONRISE\"):\n",
        "      #new = file.replace('DAY6 ＂', '')\n",
        "      #new = new.replace('＂ M⧸V', '')\n",
        "      #new = new.replace('000', '')\n",
        "      new = file.replace('MOONRISE', 'DAY6|MOONRISE')\n",
        "      print(file, new)\n",
        "      os.rename(path + file, path + new)\n",
        "\n",
        "then = os.listdir(path)\n",
        "print(then)"
      ],
      "metadata": {
        "colab": {
          "base_uri": "https://localhost:8080/"
        },
        "id": "bHlwGLyjOkmc",
        "outputId": "e2d09741-36bc-41d1-c954-1cc774cdce77"
      },
      "execution_count": null,
      "outputs": [
        {
          "output_type": "stream",
          "name": "stdout",
          "text": [
            "MOONRISE-08.I Loved You.mp3 DAY6|MOONRISE-08.I Loved You.mp3\n",
            "MOONRISE-04.남겨둘게 I'll Remember.mp3 DAY6|MOONRISE-04.남겨둘게 I'll Remember.mp3\n",
            "MOONRISE-09.When you love someone(그렇더라고요).mp3 DAY6|MOONRISE-09.When you love someone(그렇더라고요).mp3\n",
            "MOONRISE-02.I like you(좋아합니다).mp3 DAY6|MOONRISE-02.I like you(좋아합니다).mp3\n",
            "MOONRISE-01.Better Better.mp3 DAY6|MOONRISE-01.Better Better.mp3\n",
            "MOONRISE-12.누군가 필요해 I Need Somebody.mp3 DAY6|MOONRISE-12.누군가 필요해 I Need Somebody.mp3\n",
            "MOONRISE-05.놀래! Whatever!.mp3 DAY6|MOONRISE-05.놀래! Whatever!.mp3\n",
            "MOONRISE-06.Be Lazy.mp3 DAY6|MOONRISE-06.Be Lazy.mp3\n",
            "MOONRISE-07.Hi Hello.mp3 DAY6|MOONRISE-07.Hi Hello.mp3\n",
            "MOONRISE-10.All Alone(혼자야).mp3 DAY6|MOONRISE-10.All Alone(혼자야).mp3\n",
            "MOONRISE-13.노력해볼게요 I'll Try.mp3 DAY6|MOONRISE-13.노력해볼게요 I'll Try.mp3\n",
            "MOONRISE-11.쏟아진다 Pouring.mp3 DAY6|MOONRISE-11.쏟아진다 Pouring.mp3\n",
            "MOONRISE-03.What Can I Do(좋은걸 뭐 어떡해).mp3 DAY6|MOONRISE-03.What Can I Do(좋은걸 뭐 어떡해).mp3\n",
            "['.config', 'DAY6|MOONRISE-07.Hi Hello.mp3', 'DAY6|MOONRISE-10.All Alone(혼자야).mp3', 'DAY6|MOONRISE-05.놀래! Whatever!.mp3', '.ipynb_checkpoints', 'DAY6|MOONRISE-11.쏟아진다 Pouring.mp3', \"aespa 에스파 'Whiplash' MV.mp4\", 'DAY6|MOONRISE-06.Be Lazy.mp3', 'DAY6|MOONRISE-08.I Loved You.mp3', \"NCT 127 엔시티 127 '영웅 (英雄; Kick It)' MV.mp3\", \"DAY6|MOONRISE-13.노력해볼게요 I'll Try.mp3\", \"aespa 에스파 'Whiplash' MV.mp3\", 'DAY6|MOONRISE-02.I like you(좋아합니다).mp3', \"NCT 127 엔시티 127 '영웅 (英雄; Kick It)' MV.mp4\", \"aespa 에스파 'Supernova' MV.mp3\", \"aespa 에스파 'Supernova' MV.mp4\", 'DAY6|MOONRISE-09.When you love someone(그렇더라고요).mp3', 'DAY6(데이식스)-SUNRISE', 'DAY6|MOONRISE-03.What Can I Do(좋은걸 뭐 어떡해).mp3', \"DAY6|MOONRISE-04.남겨둘게 I'll Remember.mp3\", 'DAY6|MOONRISE-12.누군가 필요해 I Need Somebody.mp3', 'ROSÉ & Bruno Mars - APT. (Official Music Video).mp4', 'DAY6|MOONRISE-01.Better Better.mp3', 'ROSÉ & Bruno Mars - APT. (Official Music Video).mp3', 'sample_data']\n"
          ]
        }
      ]
    },
    {
      "cell_type": "code",
      "source": [],
      "metadata": {
        "id": "4UEfdDRbK-Xg"
      },
      "execution_count": null,
      "outputs": []
    },
    {
      "cell_type": "code",
      "source": [
        "!pip install moviepy"
      ],
      "metadata": {
        "colab": {
          "base_uri": "https://localhost:8080/"
        },
        "id": "LWaamXHb_guE",
        "outputId": "e65da1b8-c83d-48ce-b663-f9794f58dd6c"
      },
      "execution_count": null,
      "outputs": [
        {
          "output_type": "stream",
          "name": "stdout",
          "text": [
            "Requirement already satisfied: moviepy in /usr/local/lib/python3.10/dist-packages (1.0.3)\n",
            "Requirement already satisfied: decorator<5.0,>=4.0.2 in /usr/local/lib/python3.10/dist-packages (from moviepy) (4.4.2)\n",
            "Requirement already satisfied: imageio<3.0,>=2.5 in /usr/local/lib/python3.10/dist-packages (from moviepy) (2.36.1)\n",
            "Requirement already satisfied: imageio_ffmpeg>=0.2.0 in /usr/local/lib/python3.10/dist-packages (from moviepy) (0.5.1)\n",
            "Requirement already satisfied: tqdm<5.0,>=4.11.2 in /usr/local/lib/python3.10/dist-packages (from moviepy) (4.66.6)\n",
            "Requirement already satisfied: numpy>=1.17.3 in /usr/local/lib/python3.10/dist-packages (from moviepy) (1.26.4)\n",
            "Requirement already satisfied: requests<3.0,>=2.8.1 in /usr/local/lib/python3.10/dist-packages (from moviepy) (2.32.3)\n",
            "Requirement already satisfied: proglog<=1.0.0 in /usr/local/lib/python3.10/dist-packages (from moviepy) (0.1.10)\n",
            "Requirement already satisfied: pillow>=8.3.2 in /usr/local/lib/python3.10/dist-packages (from imageio<3.0,>=2.5->moviepy) (11.0.0)\n",
            "Requirement already satisfied: setuptools in /usr/local/lib/python3.10/dist-packages (from imageio_ffmpeg>=0.2.0->moviepy) (75.1.0)\n",
            "Requirement already satisfied: charset-normalizer<4,>=2 in /usr/local/lib/python3.10/dist-packages (from requests<3.0,>=2.8.1->moviepy) (3.4.0)\n",
            "Requirement already satisfied: idna<4,>=2.5 in /usr/local/lib/python3.10/dist-packages (from requests<3.0,>=2.8.1->moviepy) (3.10)\n",
            "Requirement already satisfied: urllib3<3,>=1.21.1 in /usr/local/lib/python3.10/dist-packages (from requests<3.0,>=2.8.1->moviepy) (2.2.3)\n",
            "Requirement already satisfied: certifi>=2017.4.17 in /usr/local/lib/python3.10/dist-packages (from requests<3.0,>=2.8.1->moviepy) (2024.8.30)\n"
          ]
        }
      ]
    },
    {
      "cell_type": "code",
      "source": [
        "from moviepy.editor import VideoFileClip\n",
        "\n",
        "def extract_audio_from_video(video_file_path, audio_file_path):\n",
        "  # mp4 등 비디오 파일 불러오기\n",
        "  video = VideoFileClip(video_file_path)\n",
        "  print(video.filename)\n",
        "  #audio = video.set_audio(video.audio)\n",
        "\n",
        "  # 오디오를 추출하여 mp3 파일로 저장\n",
        "  video.audio.write_audiofile(audio_file_path)\n",
        "\n",
        "video_file = '/content/ROSÉ & Bruno Mars - APT. (Official Music Video).mp4'  # 변환하고 싶은 비디오 파일의 경로\n",
        "audio_file = '/content/ROSÉ-APT.mp3'  # 저장할 오디오 파일의 경로, 이름 지정\n",
        "\n",
        "extract_audio_from_video(video_file, audio_file)"
      ],
      "metadata": {
        "colab": {
          "base_uri": "https://localhost:8080/",
          "height": 315
        },
        "id": "8OgPJSOF_e9f",
        "outputId": "23b2515e-7416-4b60-c5d0-33b117062646"
      },
      "execution_count": null,
      "outputs": [
        {
          "output_type": "stream",
          "name": "stdout",
          "text": [
            "/content/ROSÉ & Bruno Mars - APT. (Official Music Video).mp4\n"
          ]
        },
        {
          "output_type": "error",
          "ename": "AttributeError",
          "evalue": "'NoneType' object has no attribute 'write_audiofile'",
          "traceback": [
            "\u001b[0;31m---------------------------------------------------------------------------\u001b[0m",
            "\u001b[0;31mAttributeError\u001b[0m                            Traceback (most recent call last)",
            "\u001b[0;32m<ipython-input-23-83e837281790>\u001b[0m in \u001b[0;36m<cell line: 15>\u001b[0;34m()\u001b[0m\n\u001b[1;32m     13\u001b[0m \u001b[0maudio_file\u001b[0m \u001b[0;34m=\u001b[0m \u001b[0;34m'/content/ROSÉ-APT.mp3'\u001b[0m  \u001b[0;31m# 저장할 오디오 파일의 경로, 이름 지정\u001b[0m\u001b[0;34m\u001b[0m\u001b[0;34m\u001b[0m\u001b[0m\n\u001b[1;32m     14\u001b[0m \u001b[0;34m\u001b[0m\u001b[0m\n\u001b[0;32m---> 15\u001b[0;31m \u001b[0mextract_audio_from_video\u001b[0m\u001b[0;34m(\u001b[0m\u001b[0mvideo_file\u001b[0m\u001b[0;34m,\u001b[0m \u001b[0maudio_file\u001b[0m\u001b[0;34m)\u001b[0m\u001b[0;34m\u001b[0m\u001b[0;34m\u001b[0m\u001b[0m\n\u001b[0m",
            "\u001b[0;32m<ipython-input-23-83e837281790>\u001b[0m in \u001b[0;36mextract_audio_from_video\u001b[0;34m(video_file_path, audio_file_path)\u001b[0m\n\u001b[1;32m      8\u001b[0m \u001b[0;34m\u001b[0m\u001b[0m\n\u001b[1;32m      9\u001b[0m   \u001b[0;31m# 오디오를 추출하여 mp3 파일로 저장\u001b[0m\u001b[0;34m\u001b[0m\u001b[0;34m\u001b[0m\u001b[0m\n\u001b[0;32m---> 10\u001b[0;31m   \u001b[0mvideo\u001b[0m\u001b[0;34m.\u001b[0m\u001b[0maudio\u001b[0m\u001b[0;34m.\u001b[0m\u001b[0mwrite_audiofile\u001b[0m\u001b[0;34m(\u001b[0m\u001b[0maudio_file_path\u001b[0m\u001b[0;34m)\u001b[0m\u001b[0;34m\u001b[0m\u001b[0;34m\u001b[0m\u001b[0m\n\u001b[0m\u001b[1;32m     11\u001b[0m \u001b[0;34m\u001b[0m\u001b[0m\n\u001b[1;32m     12\u001b[0m \u001b[0mvideo_file\u001b[0m \u001b[0;34m=\u001b[0m \u001b[0;34m'/content/ROSÉ & Bruno Mars - APT. (Official Music Video).mp4'\u001b[0m  \u001b[0;31m# 변환하고 싶은 비디오 파일의 경로\u001b[0m\u001b[0;34m\u001b[0m\u001b[0;34m\u001b[0m\u001b[0m\n",
            "\u001b[0;31mAttributeError\u001b[0m: 'NoneType' object has no attribute 'write_audiofile'"
          ]
        }
      ]
    },
    {
      "cell_type": "code",
      "source": [
        "!pip install youtube_dl"
      ],
      "metadata": {
        "id": "u98m-Q1GDUqQ",
        "outputId": "ec453085-2af2-456f-d8ae-1ced05fb7ef7",
        "colab": {
          "base_uri": "https://localhost:8080/"
        }
      },
      "execution_count": null,
      "outputs": [
        {
          "output_type": "stream",
          "name": "stdout",
          "text": [
            "Collecting youtube_dl\n",
            "  Downloading youtube_dl-2021.12.17-py2.py3-none-any.whl.metadata (1.5 kB)\n",
            "Downloading youtube_dl-2021.12.17-py2.py3-none-any.whl (1.9 MB)\n",
            "\u001b[2K   \u001b[90m━━━━━━━━━━━━━━━━━━━━━━━━━━━━━━━━━━━━━━━━\u001b[0m \u001b[32m1.9/1.9 MB\u001b[0m \u001b[31m10.5 MB/s\u001b[0m eta \u001b[36m0:00:00\u001b[0m\n",
            "\u001b[?25hInstalling collected packages: youtube_dl\n",
            "Successfully installed youtube_dl-2021.12.17\n"
          ]
        }
      ]
    },
    {
      "cell_type": "code",
      "source": [
        "!pip install --upgrade --force-reinstall \"git+https://github.com/ytdl-org/youtube-dl.git\""
      ],
      "metadata": {
        "id": "ju9ZnCuHFsvo",
        "outputId": "96eb2042-d533-453c-db4b-5cf627bd1e5a",
        "colab": {
          "base_uri": "https://localhost:8080/"
        }
      },
      "execution_count": null,
      "outputs": [
        {
          "output_type": "stream",
          "name": "stdout",
          "text": [
            "Collecting git+https://github.com/ytdl-org/youtube-dl.git\n",
            "  Cloning https://github.com/ytdl-org/youtube-dl.git to /tmp/pip-req-build-cgrm5i_9\n",
            "  Running command git clone --filter=blob:none --quiet https://github.com/ytdl-org/youtube-dl.git /tmp/pip-req-build-cgrm5i_9\n",
            "  Resolved https://github.com/ytdl-org/youtube-dl.git to commit c5098961b04ce83f4615f2a846c84f803b072639\n",
            "  Preparing metadata (setup.py) ... \u001b[?25l\u001b[?25hdone\n",
            "Building wheels for collected packages: youtube_dl\n",
            "  Building wheel for youtube_dl (setup.py) ... \u001b[?25l\u001b[?25hdone\n",
            "  Created wheel for youtube_dl: filename=youtube_dl-2021.12.17-py2.py3-none-any.whl size=1969896 sha256=ecbcb46af4acc044557016120972b30f5d2fe06afba957b0a3b135a48b9b1035\n",
            "  Stored in directory: /tmp/pip-ephem-wheel-cache-056xo49e/wheels/64/8e/40/866e846163e3e4859bbe820ff8847ec97f4320864f1525aa9a\n",
            "Successfully built youtube_dl\n",
            "Installing collected packages: youtube_dl\n",
            "  Attempting uninstall: youtube_dl\n",
            "    Found existing installation: youtube-dl 2021.12.17\n",
            "    Uninstalling youtube-dl-2021.12.17:\n",
            "      Successfully uninstalled youtube-dl-2021.12.17\n",
            "Successfully installed youtube_dl-2021.12.17\n"
          ]
        }
      ]
    },
    {
      "cell_type": "code",
      "source": [
        "! youtube-dl -f \"best/best\" -ciw -o \"%(title)s.%(ext)s\" -v -x https://www.youtube.com/watch?v=ekr2nIex040"
      ],
      "metadata": {
        "colab": {
          "base_uri": "https://localhost:8080/"
        },
        "id": "ZjQ7-lpX6eCA",
        "outputId": "1c72b640-6235-4e25-8ced-d77df72a753b"
      },
      "execution_count": null,
      "outputs": [
        {
          "output_type": "stream",
          "name": "stdout",
          "text": [
            "[debug] System config: []\n",
            "[debug] User config: []\n",
            "[debug] Custom config: []\n",
            "[debug] Command-line args: ['-f', 'best/best', '-ciw', '-o', '%(title)s.%(ext)s', '-v', '-x', 'https://www.youtube.com/watch?v=ekr2nIex040']\n",
            "[debug] Encodings: locale UTF-8, fs utf-8, out utf-8, pref UTF-8\n",
            "[debug] youtube-dl version 2021.12.17\n",
            "[debug] Python 3.10.12 (CPython x86_64 64bit) - Linux-6.1.85+-x86_64-with-glibc2.35 - OpenSSL 3.0.2 15 Mar 2022 - glibc 2.35\n",
            "[debug] exe versions: ffmpeg 4.4.2, ffprobe 4.4.2\n",
            "[debug] Proxy map: {'colab_language_server': '/usr/colab/bin/language_service'}\n",
            "[youtube] ekr2nIex040: Downloading webpage\n",
            "[debug] [youtube] Extracting signature function js_3bb1f723_106\n",
            "[youtube] ekr2nIex040: Downloading player 3bb1f723\n",
            "\u001b[0;33mWARNING:\u001b[0m [youtube] ekr2nIex040: Signature extraction failed: Some formats may be missing\n",
            "[debug] [youtube] Could not find JS function \"decodeURIComponent\"; please report this issue on https://github.com/ytdl-org/youtube-dl/issues , using the appropriate issue template. Make sure you are using the latest version; see  https://github.com/ytdl-org/youtube-dl/#user-content-installation  on how to update. Be sure to call youtube-dl with the --verbose option and include the complete output.\n",
            "[debug] [youtube] Extracting signature function js_3bb1f723_110\n",
            "\u001b[0;31mERROR:\u001b[0m No video formats found; please report this issue on https://github.com/ytdl-org/youtube-dl/issues , using the appropriate issue template. Make sure you are using the latest version; see  https://github.com/ytdl-org/youtube-dl/#user-content-installation  on how to update. Be sure to call youtube-dl with the --verbose option and include the complete output.\n",
            "Traceback (most recent call last):\n",
            "  File \"/usr/local/lib/python3.10/dist-packages/youtube_dl/YoutubeDL.py\", line 875, in wrapper\n",
            "    return func(self, *args, **kwargs)\n",
            "  File \"/usr/local/lib/python3.10/dist-packages/youtube_dl/YoutubeDL.py\", line 971, in __extract_info\n",
            "    ie_result = ie.extract(url)\n",
            "  File \"/usr/local/lib/python3.10/dist-packages/youtube_dl/extractor/common.py\", line 571, in extract\n",
            "    ie_result = self._real_extract(url)\n",
            "  File \"/usr/local/lib/python3.10/dist-packages/youtube_dl/extractor/youtube.py\", line 2250, in _real_extract\n",
            "    self._sort_formats(formats)\n",
            "  File \"/usr/local/lib/python3.10/dist-packages/youtube_dl/extractor/common.py\", line 1558, in _sort_formats\n",
            "    raise ExtractorError('No video formats found')\n",
            "youtube_dl.utils.ExtractorError: No video formats found; please report this issue on https://github.com/ytdl-org/youtube-dl/issues , using the appropriate issue template. Make sure you are using the latest version; see  https://github.com/ytdl-org/youtube-dl/#user-content-installation  on how to update. Be sure to call youtube-dl with the --verbose option and include the complete output.\n",
            "\n"
          ]
        }
      ]
    },
    {
      "cell_type": "code",
      "source": [
        "import youtube_dl"
      ],
      "metadata": {
        "id": "S40DxWJVDP1h"
      },
      "execution_count": null,
      "outputs": []
    },
    {
      "cell_type": "code",
      "source": [
        "import os\n",
        "\n",
        "output_dir = './'\n",
        "download_path = os.path.join(output_dir, '%(id)s-%(title)s.%(ext)s')\n",
        "#download_path = './중식이-나는반딧불.mp3'"
      ],
      "metadata": {
        "id": "PzKxGw23EPir"
      },
      "execution_count": null,
      "outputs": []
    },
    {
      "cell_type": "code",
      "source": [
        "ydl_opts = {\n",
        "            'format': 'bestvideo/best',  # 가장 좋은 화질로 선택(화질을 선택하여 다운로드 가능)\n",
        "            'outtmpl': download_path, # 다운로드 경로 설정\n",
        "            'writesubtitles': 'best', # 자막 다운로드(자막이 없는 경우 다운로드 X)\n",
        "            'writethumbnail': 'best',  # 영상 thumbnail 다운로드\n",
        "            'writeautomaticsub': True, # 자동 생성된 자막 다운로드\n",
        "            'subtitleslangs': 'en'  # 자막 언어가 영어인 경우(다른 언어로 변경 가능)\n",
        "        }"
      ],
      "metadata": {
        "id": "UdjpL_XEDqZg"
      },
      "execution_count": null,
      "outputs": []
    },
    {
      "cell_type": "code",
      "source": [
        "youtube_dl.YoutubeDL(ydl_opts).download(['https://www.youtube.com/watch?v=ekr2nIex040'])"
      ],
      "metadata": {
        "id": "01fQQjJsDm-x",
        "outputId": "da1535ce-8a3d-4d26-b12d-9ae2c2b9159c",
        "colab": {
          "base_uri": "https://localhost:8080/",
          "height": 567
        }
      },
      "execution_count": null,
      "outputs": [
        {
          "output_type": "stream",
          "name": "stdout",
          "text": [
            "[youtube] ekr2nIex040: Downloading webpage\n",
            "[youtube] ekr2nIex040: Downloading player 3bb1f723\n"
          ]
        },
        {
          "output_type": "stream",
          "name": "stderr",
          "text": [
            "WARNING: [youtube] ekr2nIex040: Signature extraction failed: Some formats may be missing\n",
            "ERROR: No video formats found; please report this issue on https://github.com/ytdl-org/youtube-dl/issues , using the appropriate issue template. Make sure you are using the latest version; see  https://github.com/ytdl-org/youtube-dl/#user-content-installation  on how to update. Be sure to call youtube-dl with the --verbose option and include the complete output.\n"
          ]
        },
        {
          "output_type": "error",
          "ename": "DownloadError",
          "evalue": "ERROR: No video formats found; please report this issue on https://github.com/ytdl-org/youtube-dl/issues , using the appropriate issue template. Make sure you are using the latest version; see  https://github.com/ytdl-org/youtube-dl/#user-content-installation  on how to update. Be sure to call youtube-dl with the --verbose option and include the complete output.",
          "traceback": [
            "\u001b[0;31m---------------------------------------------------------------------------\u001b[0m",
            "\u001b[0;31mExtractorError\u001b[0m                            Traceback (most recent call last)",
            "\u001b[0;32m/usr/local/lib/python3.10/dist-packages/youtube_dl/YoutubeDL.py\u001b[0m in \u001b[0;36mwrapper\u001b[0;34m(self, *args, **kwargs)\u001b[0m\n\u001b[1;32m    874\u001b[0m             \u001b[0;32mtry\u001b[0m\u001b[0;34m:\u001b[0m\u001b[0;34m\u001b[0m\u001b[0;34m\u001b[0m\u001b[0m\n\u001b[0;32m--> 875\u001b[0;31m                 \u001b[0;32mreturn\u001b[0m \u001b[0mfunc\u001b[0m\u001b[0;34m(\u001b[0m\u001b[0mself\u001b[0m\u001b[0;34m,\u001b[0m \u001b[0;34m*\u001b[0m\u001b[0margs\u001b[0m\u001b[0;34m,\u001b[0m \u001b[0;34m**\u001b[0m\u001b[0mkwargs\u001b[0m\u001b[0;34m)\u001b[0m\u001b[0;34m\u001b[0m\u001b[0;34m\u001b[0m\u001b[0m\n\u001b[0m\u001b[1;32m    876\u001b[0m             \u001b[0;32mexcept\u001b[0m \u001b[0mGeoRestrictedError\u001b[0m \u001b[0;32mas\u001b[0m \u001b[0me\u001b[0m\u001b[0;34m:\u001b[0m\u001b[0;34m\u001b[0m\u001b[0;34m\u001b[0m\u001b[0m\n",
            "\u001b[0;32m/usr/local/lib/python3.10/dist-packages/youtube_dl/YoutubeDL.py\u001b[0m in \u001b[0;36m__extract_info\u001b[0;34m(self, url, ie, download, extra_info, process)\u001b[0m\n\u001b[1;32m    970\u001b[0m \u001b[0;34m\u001b[0m\u001b[0m\n\u001b[0;32m--> 971\u001b[0;31m         \u001b[0mie_result\u001b[0m \u001b[0;34m=\u001b[0m \u001b[0mie\u001b[0m\u001b[0;34m.\u001b[0m\u001b[0mextract\u001b[0m\u001b[0;34m(\u001b[0m\u001b[0murl\u001b[0m\u001b[0;34m)\u001b[0m\u001b[0;34m\u001b[0m\u001b[0;34m\u001b[0m\u001b[0m\n\u001b[0m\u001b[1;32m    972\u001b[0m         \u001b[0;32mif\u001b[0m \u001b[0mie_result\u001b[0m \u001b[0;32mis\u001b[0m \u001b[0;32mNone\u001b[0m\u001b[0;34m:\u001b[0m  \u001b[0;31m# Finished already (backwards compatibility; listformats and friends should be moved here)\u001b[0m\u001b[0;34m\u001b[0m\u001b[0;34m\u001b[0m\u001b[0m\n",
            "\u001b[0;32m/usr/local/lib/python3.10/dist-packages/youtube_dl/extractor/common.py\u001b[0m in \u001b[0;36mextract\u001b[0;34m(self, url)\u001b[0m\n\u001b[1;32m    570\u001b[0m                     \u001b[0mself\u001b[0m\u001b[0;34m.\u001b[0m\u001b[0minitialize\u001b[0m\u001b[0;34m(\u001b[0m\u001b[0;34m)\u001b[0m\u001b[0;34m\u001b[0m\u001b[0;34m\u001b[0m\u001b[0m\n\u001b[0;32m--> 571\u001b[0;31m                     \u001b[0mie_result\u001b[0m \u001b[0;34m=\u001b[0m \u001b[0mself\u001b[0m\u001b[0;34m.\u001b[0m\u001b[0m_real_extract\u001b[0m\u001b[0;34m(\u001b[0m\u001b[0murl\u001b[0m\u001b[0;34m)\u001b[0m\u001b[0;34m\u001b[0m\u001b[0;34m\u001b[0m\u001b[0m\n\u001b[0m\u001b[1;32m    572\u001b[0m                     \u001b[0;32mif\u001b[0m \u001b[0mself\u001b[0m\u001b[0;34m.\u001b[0m\u001b[0m_x_forwarded_for_ip\u001b[0m\u001b[0;34m:\u001b[0m\u001b[0;34m\u001b[0m\u001b[0;34m\u001b[0m\u001b[0m\n",
            "\u001b[0;32m/usr/local/lib/python3.10/dist-packages/youtube_dl/extractor/youtube.py\u001b[0m in \u001b[0;36m_real_extract\u001b[0;34m(self, url)\u001b[0m\n\u001b[1;32m   2249\u001b[0m \u001b[0;34m\u001b[0m\u001b[0m\n\u001b[0;32m-> 2250\u001b[0;31m         \u001b[0mself\u001b[0m\u001b[0;34m.\u001b[0m\u001b[0m_sort_formats\u001b[0m\u001b[0;34m(\u001b[0m\u001b[0mformats\u001b[0m\u001b[0;34m)\u001b[0m\u001b[0;34m\u001b[0m\u001b[0;34m\u001b[0m\u001b[0m\n\u001b[0m\u001b[1;32m   2251\u001b[0m \u001b[0;34m\u001b[0m\u001b[0m\n",
            "\u001b[0;32m/usr/local/lib/python3.10/dist-packages/youtube_dl/extractor/common.py\u001b[0m in \u001b[0;36m_sort_formats\u001b[0;34m(self, formats, field_preference)\u001b[0m\n\u001b[1;32m   1557\u001b[0m         \u001b[0;32mif\u001b[0m \u001b[0;32mnot\u001b[0m \u001b[0mformats\u001b[0m\u001b[0;34m:\u001b[0m\u001b[0;34m\u001b[0m\u001b[0;34m\u001b[0m\u001b[0m\n\u001b[0;32m-> 1558\u001b[0;31m             \u001b[0;32mraise\u001b[0m \u001b[0mExtractorError\u001b[0m\u001b[0;34m(\u001b[0m\u001b[0;34m'No video formats found'\u001b[0m\u001b[0;34m)\u001b[0m\u001b[0;34m\u001b[0m\u001b[0;34m\u001b[0m\u001b[0m\n\u001b[0m\u001b[1;32m   1559\u001b[0m \u001b[0;34m\u001b[0m\u001b[0m\n",
            "\u001b[0;31mExtractorError\u001b[0m: No video formats found; please report this issue on https://github.com/ytdl-org/youtube-dl/issues , using the appropriate issue template. Make sure you are using the latest version; see  https://github.com/ytdl-org/youtube-dl/#user-content-installation  on how to update. Be sure to call youtube-dl with the --verbose option and include the complete output.",
            "\nDuring handling of the above exception, another exception occurred:\n",
            "\u001b[0;31mDownloadError\u001b[0m                             Traceback (most recent call last)",
            "\u001b[0;32m<ipython-input-9-d7c1bfba4411>\u001b[0m in \u001b[0;36m<cell line: 1>\u001b[0;34m()\u001b[0m\n\u001b[0;32m----> 1\u001b[0;31m \u001b[0myoutube_dl\u001b[0m\u001b[0;34m.\u001b[0m\u001b[0mYoutubeDL\u001b[0m\u001b[0;34m(\u001b[0m\u001b[0mydl_opts\u001b[0m\u001b[0;34m)\u001b[0m\u001b[0;34m.\u001b[0m\u001b[0mdownload\u001b[0m\u001b[0;34m(\u001b[0m\u001b[0;34m[\u001b[0m\u001b[0;34m'https://www.youtube.com/watch?v=ekr2nIex040'\u001b[0m\u001b[0;34m]\u001b[0m\u001b[0;34m)\u001b[0m\u001b[0;34m\u001b[0m\u001b[0;34m\u001b[0m\u001b[0m\n\u001b[0m",
            "\u001b[0;32m/usr/local/lib/python3.10/dist-packages/youtube_dl/YoutubeDL.py\u001b[0m in \u001b[0;36mdownload\u001b[0;34m(self, url_list)\u001b[0m\n\u001b[1;32m   2251\u001b[0m             \u001b[0;32mtry\u001b[0m\u001b[0;34m:\u001b[0m\u001b[0;34m\u001b[0m\u001b[0;34m\u001b[0m\u001b[0m\n\u001b[1;32m   2252\u001b[0m                 \u001b[0;31m# It also downloads the videos\u001b[0m\u001b[0;34m\u001b[0m\u001b[0;34m\u001b[0m\u001b[0m\n\u001b[0;32m-> 2253\u001b[0;31m                 res = self.extract_info(\n\u001b[0m\u001b[1;32m   2254\u001b[0m                     url, force_generic_extractor=self.params.get('force_generic_extractor', False))\n\u001b[1;32m   2255\u001b[0m             \u001b[0;32mexcept\u001b[0m \u001b[0mUnavailableVideoError\u001b[0m\u001b[0;34m:\u001b[0m\u001b[0;34m\u001b[0m\u001b[0;34m\u001b[0m\u001b[0m\n",
            "\u001b[0;32m/usr/local/lib/python3.10/dist-packages/youtube_dl/YoutubeDL.py\u001b[0m in \u001b[0;36mextract_info\u001b[0;34m(self, url, download, ie_key, extra_info, process, force_generic_extractor)\u001b[0m\n\u001b[1;32m    866\u001b[0m                                     'and will probably not work.')\n\u001b[1;32m    867\u001b[0m \u001b[0;34m\u001b[0m\u001b[0m\n\u001b[0;32m--> 868\u001b[0;31m             \u001b[0;32mreturn\u001b[0m \u001b[0mself\u001b[0m\u001b[0;34m.\u001b[0m\u001b[0m__extract_info\u001b[0m\u001b[0;34m(\u001b[0m\u001b[0murl\u001b[0m\u001b[0;34m,\u001b[0m \u001b[0mie\u001b[0m\u001b[0;34m,\u001b[0m \u001b[0mdownload\u001b[0m\u001b[0;34m,\u001b[0m \u001b[0mextra_info\u001b[0m\u001b[0;34m,\u001b[0m \u001b[0mprocess\u001b[0m\u001b[0;34m)\u001b[0m\u001b[0;34m\u001b[0m\u001b[0;34m\u001b[0m\u001b[0m\n\u001b[0m\u001b[1;32m    869\u001b[0m         \u001b[0;32melse\u001b[0m\u001b[0;34m:\u001b[0m\u001b[0;34m\u001b[0m\u001b[0;34m\u001b[0m\u001b[0m\n\u001b[1;32m    870\u001b[0m             \u001b[0mself\u001b[0m\u001b[0;34m.\u001b[0m\u001b[0mreport_error\u001b[0m\u001b[0;34m(\u001b[0m\u001b[0;34m'no suitable InfoExtractor for URL %s'\u001b[0m \u001b[0;34m%\u001b[0m \u001b[0murl\u001b[0m\u001b[0;34m)\u001b[0m\u001b[0;34m\u001b[0m\u001b[0;34m\u001b[0m\u001b[0m\n",
            "\u001b[0;32m/usr/local/lib/python3.10/dist-packages/youtube_dl/YoutubeDL.py\u001b[0m in \u001b[0;36mwrapper\u001b[0;34m(self, *args, **kwargs)\u001b[0m\n\u001b[1;32m    882\u001b[0m                 \u001b[0mself\u001b[0m\u001b[0;34m.\u001b[0m\u001b[0mreport_error\u001b[0m\u001b[0;34m(\u001b[0m\u001b[0mmsg\u001b[0m\u001b[0;34m)\u001b[0m\u001b[0;34m\u001b[0m\u001b[0;34m\u001b[0m\u001b[0m\n\u001b[1;32m    883\u001b[0m             \u001b[0;32mexcept\u001b[0m \u001b[0mExtractorError\u001b[0m \u001b[0;32mas\u001b[0m \u001b[0me\u001b[0m\u001b[0;34m:\u001b[0m  \u001b[0;31m# An error we somewhat expected\u001b[0m\u001b[0;34m\u001b[0m\u001b[0;34m\u001b[0m\u001b[0m\n\u001b[0;32m--> 884\u001b[0;31m                 \u001b[0mself\u001b[0m\u001b[0;34m.\u001b[0m\u001b[0mreport_error\u001b[0m\u001b[0;34m(\u001b[0m\u001b[0mcompat_str\u001b[0m\u001b[0;34m(\u001b[0m\u001b[0me\u001b[0m\u001b[0;34m)\u001b[0m\u001b[0;34m,\u001b[0m \u001b[0mtb\u001b[0m\u001b[0;34m=\u001b[0m\u001b[0me\u001b[0m\u001b[0;34m.\u001b[0m\u001b[0mformat_traceback\u001b[0m\u001b[0;34m(\u001b[0m\u001b[0;34m)\u001b[0m\u001b[0;34m)\u001b[0m\u001b[0;34m\u001b[0m\u001b[0;34m\u001b[0m\u001b[0m\n\u001b[0m\u001b[1;32m    885\u001b[0m             \u001b[0;32mexcept\u001b[0m \u001b[0mMaxDownloadsReached\u001b[0m\u001b[0;34m:\u001b[0m\u001b[0;34m\u001b[0m\u001b[0;34m\u001b[0m\u001b[0m\n\u001b[1;32m    886\u001b[0m                 \u001b[0;32mraise\u001b[0m\u001b[0;34m\u001b[0m\u001b[0;34m\u001b[0m\u001b[0m\n",
            "\u001b[0;32m/usr/local/lib/python3.10/dist-packages/youtube_dl/YoutubeDL.py\u001b[0m in \u001b[0;36mreport_error\u001b[0;34m(self, message, *args, **kwargs)\u001b[0m\n\u001b[1;32m    676\u001b[0m             \u001b[0m_msg_header\u001b[0m \u001b[0;34m=\u001b[0m \u001b[0;34m'ERROR:'\u001b[0m\u001b[0;34m\u001b[0m\u001b[0;34m\u001b[0m\u001b[0m\n\u001b[1;32m    677\u001b[0m         \u001b[0mkwargs\u001b[0m\u001b[0;34m[\u001b[0m\u001b[0;34m'message'\u001b[0m\u001b[0;34m]\u001b[0m \u001b[0;34m=\u001b[0m \u001b[0;34m'%s %s'\u001b[0m \u001b[0;34m%\u001b[0m \u001b[0;34m(\u001b[0m\u001b[0m_msg_header\u001b[0m\u001b[0;34m,\u001b[0m \u001b[0mmessage\u001b[0m\u001b[0;34m)\u001b[0m\u001b[0;34m\u001b[0m\u001b[0;34m\u001b[0m\u001b[0m\n\u001b[0;32m--> 678\u001b[0;31m         \u001b[0mself\u001b[0m\u001b[0;34m.\u001b[0m\u001b[0mtrouble\u001b[0m\u001b[0;34m(\u001b[0m\u001b[0;34m*\u001b[0m\u001b[0margs\u001b[0m\u001b[0;34m,\u001b[0m \u001b[0;34m**\u001b[0m\u001b[0mkwargs\u001b[0m\u001b[0;34m)\u001b[0m\u001b[0;34m\u001b[0m\u001b[0;34m\u001b[0m\u001b[0m\n\u001b[0m\u001b[1;32m    679\u001b[0m \u001b[0;34m\u001b[0m\u001b[0m\n\u001b[1;32m    680\u001b[0m     \u001b[0;32mdef\u001b[0m \u001b[0mreport_unscoped_cookies\u001b[0m\u001b[0;34m(\u001b[0m\u001b[0mself\u001b[0m\u001b[0;34m,\u001b[0m \u001b[0;34m*\u001b[0m\u001b[0margs\u001b[0m\u001b[0;34m,\u001b[0m \u001b[0;34m**\u001b[0m\u001b[0mkwargs\u001b[0m\u001b[0;34m)\u001b[0m\u001b[0;34m:\u001b[0m\u001b[0;34m\u001b[0m\u001b[0;34m\u001b[0m\u001b[0m\n",
            "\u001b[0;32m/usr/local/lib/python3.10/dist-packages/youtube_dl/YoutubeDL.py\u001b[0m in \u001b[0;36mtrouble\u001b[0;34m(self, *args, **kwargs)\u001b[0m\n\u001b[1;32m    639\u001b[0m             \u001b[0;32melse\u001b[0m\u001b[0;34m:\u001b[0m\u001b[0;34m\u001b[0m\u001b[0;34m\u001b[0m\u001b[0m\n\u001b[1;32m    640\u001b[0m                 \u001b[0mexc_info\u001b[0m \u001b[0;34m=\u001b[0m \u001b[0msys\u001b[0m\u001b[0;34m.\u001b[0m\u001b[0mexc_info\u001b[0m\u001b[0;34m(\u001b[0m\u001b[0;34m)\u001b[0m\u001b[0;34m\u001b[0m\u001b[0;34m\u001b[0m\u001b[0m\n\u001b[0;32m--> 641\u001b[0;31m             \u001b[0;32mraise\u001b[0m \u001b[0mDownloadError\u001b[0m\u001b[0;34m(\u001b[0m\u001b[0mmessage\u001b[0m\u001b[0;34m,\u001b[0m \u001b[0mexc_info\u001b[0m\u001b[0;34m)\u001b[0m\u001b[0;34m\u001b[0m\u001b[0;34m\u001b[0m\u001b[0m\n\u001b[0m\u001b[1;32m    642\u001b[0m         \u001b[0mself\u001b[0m\u001b[0;34m.\u001b[0m\u001b[0m_download_retcode\u001b[0m \u001b[0;34m=\u001b[0m \u001b[0;36m1\u001b[0m\u001b[0;34m\u001b[0m\u001b[0;34m\u001b[0m\u001b[0m\n\u001b[1;32m    643\u001b[0m \u001b[0;34m\u001b[0m\u001b[0m\n",
            "\u001b[0;31mDownloadError\u001b[0m: ERROR: No video formats found; please report this issue on https://github.com/ytdl-org/youtube-dl/issues , using the appropriate issue template. Make sure you are using the latest version; see  https://github.com/ytdl-org/youtube-dl/#user-content-installation  on how to update. Be sure to call youtube-dl with the --verbose option and include the complete output."
          ]
        }
      ]
    },
    {
      "cell_type": "code",
      "source": [
        "ydl_opts = {'extract_audio': True, 'format': 'bestaudio', 'outtmpl': '%(id)s-%(title)s.mp3'}"
      ],
      "metadata": {
        "id": "fhdIA6OPP8IU"
      },
      "execution_count": null,
      "outputs": []
    },
    {
      "cell_type": "code",
      "source": [
        "!youtube-dl -f \"bestaudio/best\" -ciw -o \"%(title)s.%(ext)s\" -v --extract-audio --audio-quality 0 --audio-format mp3 https://www.youtube.com/watch?v=Fz1cJ5XRI6I"
      ],
      "metadata": {
        "id": "XNklSmG_IO6o",
        "outputId": "986a9ff8-95a6-41b3-9344-d541d3ae0723",
        "colab": {
          "base_uri": "https://localhost:8080/"
        }
      },
      "execution_count": null,
      "outputs": [
        {
          "output_type": "stream",
          "name": "stdout",
          "text": [
            "[debug] System config: []\n",
            "[debug] User config: []\n",
            "[debug] Custom config: []\n",
            "[debug] Command-line args: ['-f', 'bestaudio/best', '-ciw', '-o', '%(title)s.%(ext)s', '-v', '--extract-audio', '--audio-quality', '0', '--audio-format', 'mp3', 'https://www.youtube.com/watch?v=Fz1cJ5XRI6I']\n",
            "[debug] Encodings: locale UTF-8, fs utf-8, out utf-8, pref UTF-8\n",
            "[debug] youtube-dl version 2021.12.17\n",
            "[debug] Python 3.10.12 (CPython x86_64 64bit) - Linux-6.1.85+-x86_64-with-glibc2.35 - OpenSSL 3.0.2 15 Mar 2022 - glibc 2.35\n",
            "[debug] exe versions: ffmpeg 4.4.2, ffprobe 4.4.2\n",
            "[debug] Proxy map: {'colab_language_server': '/usr/colab/bin/language_service'}\n",
            "[youtube] Fz1cJ5XRI6I: Downloading webpage\n",
            "[debug] [youtube] Extracting signature function js_62ccfae7_103\n",
            "[debug] [youtube] Decrypted nsig dXeP6lR5k52O_QsD0Rn => uRgrFTAbFRrKHg\n",
            "[debug] [youtube] Extracting signature function js_62ccfae7_107\n",
            "[debug] [youtube] Decrypted nsig fBSDX4cyzKG9u4dUeud => Drjfh_fP0rCdlg\n",
            "[debug] Invoking downloader on 'https://rr3---sn-5uaezny6.googlevideo.com/videoplayback?expire=1733731098&ei=uk5WZ-HcGOO6kucP77XJ8A4&ip=35.231.199.207&id=o-AJZao5WV0cQ_zvOwp5NWBGneYfVLM8ltACZagN1VWj2K&itag=251&source=youtube&requiressl=yes&xpc=EgVo2aDSNQ%3D%3D&met=1733709498%2C&mh=52&mm=31%2C26&mn=sn-5uaezny6%2Csn-a5meknd6&ms=au%2Conr&mv=m&mvi=3&pl=17&rms=au%2Cau&initcwndbps=9395000&bui=AQn3pFTg2MDCYhZHoLXy3L_MvV1ah9WBusC754Z-wczlzLPMiSrSAlUWs4jVTt9gd0aCfX9ab2qZM3jE&spc=qtApAdUbEXwXJEIjtFJWI-BYqXLUhl-ZkMkVXXmHEHFtIXUJJ1bIsos63A1QPYQ&vprv=1&svpuc=1&mime=audio%2Fwebm&ns=6ZPlt_k8eC9iJ0Ii-z2jOzsQ&rqh=1&gir=yes&clen=3933168&dur=214.041&lmt=1592655595290361&mt=1733709171&fvip=3&keepalive=yes&fexp=51326932%2C51335594%2C51347747%2C51355912&c=WEB&sefc=1&txp=5431432&n=Drjfh_fP0rCdlg&sparams=expire%2Cei%2Cip%2Cid%2Citag%2Csource%2Crequiressl%2Cxpc%2Cbui%2Cspc%2Cvprv%2Csvpuc%2Cmime%2Cns%2Crqh%2Cgir%2Cclen%2Cdur%2Clmt&lsparams=met%2Cmh%2Cmm%2Cmn%2Cms%2Cmv%2Cmvi%2Cpl%2Crms%2Cinitcwndbps&lsig=AGluJ3MwRQIgHgcnpGOPNtCljRBRL-X3ysE6ezneOW5puV61VfYXZ6ACIQDh3iIj5cjCzchuItmQTVyszRo5JrtDULJRTrYSzLf9Xw%3D%3D&sig=AJfQdSswRQIgK7Js7f6BWgEcvZMlARs_9wrFUZaOs84vqZKYNcgbw-sCIQDFLmKot9oCmYB7jxbq_AgMjKLRHnYdpcZihPH60gz_Cw%3D%3D'\n",
            "[dashsegments] Total fragments: 1\n",
            "[download] Destination: 중식이 (LUNCH)_나는 반딧불 [PurplePine Entertainment].webm\n",
            "[download] Got server HTTP error: HTTP Error 403: Forbidden. Retrying fragment 1 (attempt 1 of 10)...\n",
            "[download] Got server HTTP error: HTTP Error 403: Forbidden. Retrying fragment 1 (attempt 2 of 10)...\n",
            "[download] Got server HTTP error: HTTP Error 403: Forbidden. Retrying fragment 1 (attempt 3 of 10)...\n",
            "[download] Got server HTTP error: HTTP Error 403: Forbidden. Retrying fragment 1 (attempt 4 of 10)...\n",
            "[download] Got server HTTP error: HTTP Error 403: Forbidden. Retrying fragment 1 (attempt 5 of 10)...\n",
            "[download] Got server HTTP error: HTTP Error 403: Forbidden. Retrying fragment 1 (attempt 6 of 10)...\n",
            "[download] Got server HTTP error: HTTP Error 403: Forbidden. Retrying fragment 1 (attempt 7 of 10)...\n",
            "[download] Got server HTTP error: HTTP Error 403: Forbidden. Retrying fragment 1 (attempt 8 of 10)...\n",
            "[download] Got server HTTP error: HTTP Error 403: Forbidden. Retrying fragment 1 (attempt 9 of 10)...\n",
            "[download] Got server HTTP error: HTTP Error 403: Forbidden. Retrying fragment 1 (attempt 10 of 10)...\n",
            "\u001b[0;31mERROR:\u001b[0m giving up after 10 fragment retries\n",
            "  File \"/usr/local/bin/youtube-dl\", line 8, in <module>\n",
            "    sys.exit(main())\n",
            "  File \"/usr/local/lib/python3.10/dist-packages/youtube_dl/__init__.py\", line 477, in main\n",
            "    _real_main(argv)\n",
            "  File \"/usr/local/lib/python3.10/dist-packages/youtube_dl/__init__.py\", line 467, in _real_main\n",
            "    retcode = ydl.download(all_urls)\n",
            "  File \"/usr/local/lib/python3.10/dist-packages/youtube_dl/YoutubeDL.py\", line 2253, in download\n",
            "    res = self.extract_info(\n",
            "  File \"/usr/local/lib/python3.10/dist-packages/youtube_dl/YoutubeDL.py\", line 868, in extract_info\n",
            "    return self.__extract_info(url, ie, download, extra_info, process)\n",
            "  File \"/usr/local/lib/python3.10/dist-packages/youtube_dl/YoutubeDL.py\", line 875, in wrapper\n",
            "    return func(self, *args, **kwargs)\n",
            "  File \"/usr/local/lib/python3.10/dist-packages/youtube_dl/YoutubeDL.py\", line 982, in __extract_info\n",
            "    return self.process_ie_result(ie_result, download, extra_info)\n",
            "  File \"/usr/local/lib/python3.10/dist-packages/youtube_dl/YoutubeDL.py\", line 1016, in process_ie_result\n",
            "    return self.process_video_result(ie_result, download=download)\n",
            "  File \"/usr/local/lib/python3.10/dist-packages/youtube_dl/YoutubeDL.py\", line 1860, in process_video_result\n",
            "    self.process_info(new_info)\n",
            "  File \"/usr/local/lib/python3.10/dist-packages/youtube_dl/YoutubeDL.py\", line 138, in wrapper\n",
            "    return func(self, *args, **kwargs)\n",
            "  File \"/usr/local/lib/python3.10/dist-packages/youtube_dl/YoutubeDL.py\", line 2158, in process_info\n",
            "    success = dl(filename, info_dict)\n",
            "  File \"/usr/local/lib/python3.10/dist-packages/youtube_dl/YoutubeDL.py\", line 2088, in dl\n",
            "    return fd.download(name, new_info)\n",
            "  File \"/usr/local/lib/python3.10/dist-packages/youtube_dl/downloader/common.py\", line 380, in download\n",
            "    return self.real_download(filename, info_dict)\n",
            "  File \"/usr/local/lib/python3.10/dist-packages/youtube_dl/downloader/dash.py\", line 78, in real_download\n",
            "    self.report_error('giving up after %s fragment retries' % count)\n",
            "  File \"/usr/local/lib/python3.10/dist-packages/youtube_dl/downloader/common.py\", line 175, in report_error\n",
            "    self.ydl.report_error(*args, **kargs)\n",
            "  File \"/usr/local/lib/python3.10/dist-packages/youtube_dl/YoutubeDL.py\", line 678, in report_error\n",
            "    self.trouble(*args, **kwargs)\n",
            "  File \"/usr/local/lib/python3.10/dist-packages/youtube_dl/YoutubeDL.py\", line 630, in trouble\n",
            "    tb_data = traceback.format_list(traceback.extract_stack())\n",
            "\n"
          ]
        }
      ]
    },
    {
      "cell_type": "code",
      "source": [
        "! youtube-dl -x --audio-format mp3 https://www.youtube.com/watch?v=Fz1cJ5XRI6I"
      ],
      "metadata": {
        "id": "Gz0bkHoVHYBp",
        "outputId": "4156bdb2-c892-4147-905f-06a87730c025",
        "colab": {
          "base_uri": "https://localhost:8080/"
        }
      },
      "execution_count": null,
      "outputs": [
        {
          "output_type": "stream",
          "name": "stdout",
          "text": [
            "[youtube] Fz1cJ5XRI6I: Downloading webpage\n",
            "[dashsegments] Total fragments: 1\n",
            "[download] Destination: 중식이 (LUNCH)_나는 반딧불 [PurplePine Entertainment]-Fz1cJ5XRI6I.webm\n",
            "[download] Got server HTTP error: HTTP Error 403: Forbidden. Retrying fragment 1 (attempt 1 of 10)...\n",
            "[download] Got server HTTP error: HTTP Error 403: Forbidden. Retrying fragment 1 (attempt 2 of 10)...\n",
            "[download] Got server HTTP error: HTTP Error 403: Forbidden. Retrying fragment 1 (attempt 3 of 10)...\n",
            "[download] Got server HTTP error: HTTP Error 403: Forbidden. Retrying fragment 1 (attempt 4 of 10)...\n",
            "[download] Got server HTTP error: HTTP Error 403: Forbidden. Retrying fragment 1 (attempt 5 of 10)...\n",
            "[download] Got server HTTP error: HTTP Error 403: Forbidden. Retrying fragment 1 (attempt 6 of 10)...\n",
            "[download] Got server HTTP error: HTTP Error 403: Forbidden. Retrying fragment 1 (attempt 7 of 10)...\n",
            "[download] Got server HTTP error: HTTP Error 403: Forbidden. Retrying fragment 1 (attempt 8 of 10)...\n",
            "[download] Got server HTTP error: HTTP Error 403: Forbidden. Retrying fragment 1 (attempt 9 of 10)...\n",
            "[download] Got server HTTP error: HTTP Error 403: Forbidden. Retrying fragment 1 (attempt 10 of 10)...\n",
            "\u001b[0;31mERROR:\u001b[0m giving up after 10 fragment retries\n"
          ]
        }
      ]
    },
    {
      "cell_type": "code",
      "source": [],
      "metadata": {
        "id": "SlQUCl0FGLLZ"
      },
      "execution_count": null,
      "outputs": []
    },
    {
      "cell_type": "code",
      "source": [
        "!pip uninstall -y pytube"
      ],
      "metadata": {
        "colab": {
          "base_uri": "https://localhost:8080/"
        },
        "id": "mYcPhBCCRd3D",
        "outputId": "9429a179-9319-43b4-faa5-fad36f4e5d58"
      },
      "execution_count": null,
      "outputs": [
        {
          "output_type": "stream",
          "name": "stdout",
          "text": [
            "\u001b[33mWARNING: Skipping pytube as it is not installed.\u001b[0m\u001b[33m\n",
            "\u001b[0m"
          ]
        }
      ]
    },
    {
      "cell_type": "code",
      "source": [
        "!pip install pytubefix==6.7.0"
      ],
      "metadata": {
        "colab": {
          "base_uri": "https://localhost:8080/"
        },
        "id": "uqMvmm7lRfCi",
        "outputId": "e79463f9-986b-456d-c3d0-08198c4eeb1f"
      },
      "execution_count": null,
      "outputs": [
        {
          "output_type": "stream",
          "name": "stdout",
          "text": [
            "Collecting pytubefix==6.7.0\n",
            "  Downloading pytubefix-6.7.0-py3-none-any.whl.metadata (4.3 kB)\n",
            "Downloading pytubefix-6.7.0-py3-none-any.whl (73 kB)\n",
            "\u001b[?25l   \u001b[90m━━━━━━━━━━━━━━━━━━━━━━━━━━━━━━━━━━━━━━━━\u001b[0m \u001b[32m0.0/73.5 kB\u001b[0m \u001b[31m?\u001b[0m eta \u001b[36m-:--:--\u001b[0m\r\u001b[2K   \u001b[90m━━━━━━━━━━━━━━━━━━━━━━━━━━━━━━━━━━━━━━━━\u001b[0m \u001b[32m73.5/73.5 kB\u001b[0m \u001b[31m4.5 MB/s\u001b[0m eta \u001b[36m0:00:00\u001b[0m\n",
            "\u001b[?25hInstalling collected packages: pytubefix\n",
            "Successfully installed pytubefix-6.7.0\n"
          ]
        }
      ]
    },
    {
      "cell_type": "code",
      "source": [
        "from pytubefix import YouTube\n",
        "from pytubefix import Playlist\n",
        "from pytubefix.cli import on_progress"
      ],
      "metadata": {
        "id": "C8TwHibwQtA7"
      },
      "execution_count": null,
      "outputs": []
    },
    {
      "cell_type": "code",
      "source": [
        "PlayOne_url = \"https://www.youtube.com/watch?v=1u1UCZZCWcM&list=OLAK5uy_lFTlAqHXfxj43EXstz8wwQTspPi3ddlRo&index=2\"\n",
        "\n",
        "print(YouTube(PlayOne_url).author, YouTube(PlayOne_url).title, YouTube(PlayOne_url).views)"
      ],
      "metadata": {
        "id": "vNeIqC0xRxw9"
      },
      "execution_count": null,
      "outputs": []
    },
    {
      "cell_type": "code",
      "source": [
        "YouTube(PlayOne_url).streams.get_highest_resolution().download(\n",
        "        output_path=\"/content/drive/MyDrive/\", filename=\"김민기 - 봉우리.mp4\")"
      ],
      "metadata": {
        "id": "T6nnKbgtR2YQ"
      },
      "execution_count": null,
      "outputs": []
    },
    {
      "cell_type": "code",
      "source": [
        "! rm -rf ./*.mp3"
      ],
      "metadata": {
        "id": "VDABJ_5qvHhu"
      },
      "execution_count": null,
      "outputs": []
    },
    {
      "cell_type": "code",
      "source": [
        "Playlist_url = 'https://www.youtube.com/playlist?list=OLAK5uy_mFmT3mK0WaPwLosHC1SGCKu6PmAAwC2Nc'"
      ],
      "metadata": {
        "id": "0una1e_kY5QC"
      },
      "execution_count": null,
      "outputs": []
    },
    {
      "cell_type": "code",
      "source": [
        "pl = Playlist(Playlist_url)\n",
        "\n",
        "i=0\n",
        "for video in pl.videos:\n",
        "    i = i+1\n",
        "    ys = video.streams.get_audio_only()\n",
        "    ys.download(output_path=\"./\", filename=\"Erik_Satie-\"+\"_\".join(ys.title.split(' ')[1:]), mp3=True)"
      ],
      "metadata": {
        "id": "aMbJy0C_vQzk"
      },
      "execution_count": null,
      "outputs": []
    },
    {
      "cell_type": "code",
      "source": [
        "pl = Playlist(Playlist_url)\n",
        "\n",
        "i=0\n",
        "for video in pl.videos:\n",
        "    i = i+1\n",
        "    ys = video.streams.get_audio_only()\n",
        "    ys.download(output_path=\"./\", filename=\"Erik_Satie-Gymnopédie\"+str(i), mp3=True)"
      ],
      "metadata": {
        "id": "F_ZxbHwHY3u7"
      },
      "execution_count": null,
      "outputs": []
    },
    {
      "cell_type": "code",
      "source": [
        "yt = YouTube(PlayOne_url, on_progress_callback = on_progress)\n",
        "print(yt.title)\n",
        "\n",
        "ys = yt.streams.get_audio_only()\n",
        "ys.download(output_path=\"./\", filename=\"Erik_Satie-Gymnopédie2\", mp3=True)"
      ],
      "metadata": {
        "colab": {
          "base_uri": "https://localhost:8080/",
          "height": 53
        },
        "id": "ENqOPKABXkz3",
        "outputId": "bfe99028-adf2-47b7-b89d-dec2c9cdc34f"
      },
      "execution_count": null,
      "outputs": [
        {
          "output_type": "stream",
          "name": "stdout",
          "text": [
            "Gymnopédie No. 2\n"
          ]
        },
        {
          "output_type": "execute_result",
          "data": {
            "text/plain": [
              "'/content/Erik_Satie-Gymnopédie2.mp3'"
            ],
            "application/vnd.google.colaboratory.intrinsic+json": {
              "type": "string"
            }
          },
          "metadata": {},
          "execution_count": 49
        }
      ]
    },
    {
      "cell_type": "code",
      "source": [
        "YouTube(PlayOne_url).streams.filter(only_audio=True).all()[0].download(\n",
        "        output_path=\"./\", filename=\"Erik_Satie-Gymnopédie2\", mp3=True)"
      ],
      "metadata": {
        "colab": {
          "base_uri": "https://localhost:8080/",
          "height": 70
        },
        "id": "2IWKvUHCR3kj",
        "outputId": "575b5f9d-57b1-4ffb-e89d-faa8a011eccb"
      },
      "execution_count": null,
      "outputs": [
        {
          "output_type": "stream",
          "name": "stderr",
          "text": [
            "<ipython-input-20-42eafc52bb5c>:1: DeprecationWarning: Call to deprecated function all (This object can be treated as a list, all() is useless).\n",
            "  YouTube(test).streams.filter(only_audio=True).all()[0].download(\n"
          ]
        },
        {
          "output_type": "execute_result",
          "data": {
            "text/plain": [
              "'/content/Erik Satie - Gymnopédie2.mp3'"
            ],
            "application/vnd.google.colaboratory.intrinsic+json": {
              "type": "string"
            }
          },
          "metadata": {},
          "execution_count": 20
        }
      ]
    },
    {
      "cell_type": "code",
      "source": [
        "!pip install music_tag"
      ],
      "metadata": {
        "colab": {
          "base_uri": "https://localhost:8080/"
        },
        "id": "0xXkTlFBgNEP",
        "outputId": "15bb4f5c-9501-496f-a163-a3f1a68080ab"
      },
      "execution_count": null,
      "outputs": [
        {
          "output_type": "stream",
          "name": "stdout",
          "text": [
            "Collecting music_tag\n",
            "  Downloading music-tag-0.4.3.tar.gz (23 kB)\n",
            "  Preparing metadata (setup.py) ... \u001b[?25l\u001b[?25hdone\n",
            "Collecting mutagen (from music_tag)\n",
            "  Downloading mutagen-1.47.0-py3-none-any.whl.metadata (1.7 kB)\n",
            "Downloading mutagen-1.47.0-py3-none-any.whl (194 kB)\n",
            "\u001b[2K   \u001b[90m━━━━━━━━━━━━━━━━━━━━━━━━━━━━━━━━━━━━━━━━\u001b[0m \u001b[32m194.4/194.4 kB\u001b[0m \u001b[31m5.0 MB/s\u001b[0m eta \u001b[36m0:00:00\u001b[0m\n",
            "\u001b[?25hBuilding wheels for collected packages: music_tag\n",
            "  Building wheel for music_tag (setup.py) ... \u001b[?25l\u001b[?25hdone\n",
            "  Created wheel for music_tag: filename=music_tag-0.4.3-py3-none-any.whl size=23134 sha256=c85be4655eddf5cdbce3df938035faaf651723ff874cf02ccbb1dd87e97cb7ad\n",
            "  Stored in directory: /root/.cache/pip/wheels/01/0f/13/47de578c4d6baa8a5ac3a708d6dffab11d7e75b93c1b26b3d6\n",
            "Successfully built music_tag\n",
            "Installing collected packages: mutagen, music_tag\n",
            "Successfully installed music_tag-0.4.3 mutagen-1.47.0\n"
          ]
        }
      ]
    },
    {
      "cell_type": "code",
      "source": [
        "import os\n",
        "import music_tag\n",
        "\n",
        "files = os.listdir('.')\n",
        "for file in files:\n",
        "  if not os.path.isdir(file):\n",
        "    f=music_tag.load_file(file)\n",
        "    #print(f.filename)\n",
        "    f['title'] = f.filename.split('-')[1].split('.')[0]\n",
        "    f['artist'] = f.filename.split('-')[0]\n",
        "    f.save()\n",
        "    #print(f['title'], f['artist'])#, f['tracktitle']"
      ],
      "metadata": {
        "id": "b3abnmJ2wpMf"
      },
      "execution_count": null,
      "outputs": []
    },
    {
      "cell_type": "code",
      "source": [
        "import zipfile\n",
        "\n",
        "with zipfile.ZipFile('Erik_Satie.zip', 'w') as zip_ref:\n",
        "  for file in files:\n",
        "    if not os.path.isdir(file):\n",
        "      zip_ref.write(file)"
      ],
      "metadata": {
        "id": "0mcdCUUeytoO"
      },
      "execution_count": null,
      "outputs": []
    },
    {
      "cell_type": "code",
      "source": [
        "import music_tag\n",
        "\n",
        "f = music_tag.load_file(\"/content/Erik_Satie-Gymnopédie3.mp3\")\n",
        "f.filename"
      ],
      "metadata": {
        "id": "wUDfpCkewkmk"
      },
      "execution_count": null,
      "outputs": []
    },
    {
      "cell_type": "code",
      "source": [
        "f.filename.split('-')[0].split('/'), f.filename.split('-')[1].split('.')"
      ],
      "metadata": {
        "colab": {
          "base_uri": "https://localhost:8080/"
        },
        "id": "Nx5xh3UQS2vY",
        "outputId": "bef8b416-6fc4-42c1-e5e1-b76907717d12"
      },
      "execution_count": null,
      "outputs": [
        {
          "output_type": "execute_result",
          "data": {
            "text/plain": [
              "(['', 'content', 'Erik_Satie'], ['Gymnopédie2', 'mp3'])"
            ]
          },
          "metadata": {},
          "execution_count": 51
        }
      ]
    },
    {
      "cell_type": "code",
      "source": [
        "f['title'] = f.filename.split('-')[1].split('.')[0]\n",
        "f['artist'] = f.filename.split('-')[0].split('/')[2]\n",
        "f.save(), f['title'], f['artist'], f['tracktitle']"
      ],
      "metadata": {
        "colab": {
          "base_uri": "https://localhost:8080/"
        },
        "id": "4p_XG-aSgS6d",
        "outputId": "5bed895b-ae0c-4f37-e2ff-43ede9e021f3"
      },
      "execution_count": null,
      "outputs": [
        {
          "output_type": "execute_result",
          "data": {
            "text/plain": [
              "(None,\n",
              " <MetadataItem: Gymnopédie3>,\n",
              " <MetadataItem: Erik_Satie>,\n",
              " <MetadataItem: Gymnopédie3>)"
            ]
          },
          "metadata": {},
          "execution_count": 78
        }
      ]
    },
    {
      "cell_type": "code",
      "source": [
        "art = f['artwork']"
      ],
      "metadata": {
        "colab": {
          "base_uri": "https://localhost:8080/"
        },
        "id": "IvjVtHgjUuVe",
        "outputId": "60f759cd-0b4e-4afb-eeb6-08ed2d4f26cd"
      },
      "execution_count": null,
      "outputs": [
        {
          "output_type": "stream",
          "name": "stderr",
          "text": [
            "/usr/local/lib/python3.10/dist-packages/ipykernel/ipkernel.py:283: DeprecationWarning: `should_run_async` will not call `transform_cell` automatically in the future. Please pass the result to `transformed_cell` argument and any exception that happen during thetransform in `preprocessing_exc_tuple` in IPython 7.17 and above.\n",
            "  and should_run_async(code)\n"
          ]
        }
      ]
    },
    {
      "cell_type": "code",
      "source": [
        "# set artwork\n",
        "with open('/content/channels4_profile.jpg', 'rb') as img_in:\n",
        "    f['artwork'] = img_in.read()\n",
        "with open('/content/channels4_profile.jpg', 'rb') as img_in:\n",
        "    f.append_tag('artwork', img_in.read())"
      ],
      "metadata": {
        "id": "7dSNGLmxhGGv"
      },
      "execution_count": null,
      "outputs": []
    },
    {
      "cell_type": "code",
      "source": [
        "f.get_artwork(), f.set_artwork()"
      ],
      "metadata": {
        "colab": {
          "base_uri": "https://localhost:8080/",
          "height": 141
        },
        "id": "2JEbBCofZhHL",
        "outputId": "ce65da76-0401-4bcd-9969-d6fbe3e60fd8"
      },
      "execution_count": null,
      "outputs": [
        {
          "output_type": "error",
          "ename": "AttributeError",
          "evalue": "'Mp4File' object has no attribute 'get_artwork'",
          "traceback": [
            "\u001b[0;31m---------------------------------------------------------------------------\u001b[0m",
            "\u001b[0;31mAttributeError\u001b[0m                            Traceback (most recent call last)",
            "\u001b[0;32m<ipython-input-65-f2c3df99c260>\u001b[0m in \u001b[0;36m<cell line: 1>\u001b[0;34m()\u001b[0m\n\u001b[0;32m----> 1\u001b[0;31m \u001b[0mf\u001b[0m\u001b[0;34m.\u001b[0m\u001b[0mget_artwork\u001b[0m\u001b[0;34m(\u001b[0m\u001b[0;34m)\u001b[0m\u001b[0;34m\u001b[0m\u001b[0;34m\u001b[0m\u001b[0m\n\u001b[0m",
            "\u001b[0;31mAttributeError\u001b[0m: 'Mp4File' object has no attribute 'get_artwork'"
          ]
        }
      ]
    },
    {
      "cell_type": "code",
      "source": [
        "# Note: `art` is a MetadataItem. Use ``art.value`` if there is\n",
        "#       only one image embeded in the file. This will raise a\n",
        "#       ValueError if there is more than one image. You can also\n",
        "#       use ``art.first``, or iterate through ``art.values``.\n",
        "\n",
        "art.first.mime  # -> 'image/jpeg'\n",
        "art.first.width  # -> 1280\n",
        "art.first.height  # -> 1280\n",
        "art.first.depth  # -> 24\n",
        "art.first.data  # -> b'... raw image data ...'\n",
        "\n",
        "art.first.mime , art.first.width , art.first.height , art.first.depth #, art.first.data, art.value"
      ],
      "metadata": {
        "colab": {
          "base_uri": "https://localhost:8080/"
        },
        "id": "jwLnxSzkVLCZ",
        "outputId": "d44bf6d1-df8f-4476-abb7-d5b318b3a740"
      },
      "execution_count": null,
      "outputs": [
        {
          "output_type": "execute_result",
          "data": {
            "text/plain": [
              "('image/jpeg', 160, 160, 24)"
            ]
          },
          "metadata": {},
          "execution_count": 62
        }
      ]
    },
    {
      "cell_type": "code",
      "source": [
        "# Make a thumbnail (requires Pillow)\n",
        "art.first.thumbnail([64, 64])  # -> pillow image\n",
        "art.first.raw_thumbnail([64, 64])  # -> b'... raw thumbnail data ...'"
      ],
      "metadata": {
        "id": "nlAp_mLNZdzP"
      },
      "execution_count": null,
      "outputs": []
    },
    {
      "cell_type": "code",
      "source": [
        "f.tag_map"
      ],
      "metadata": {
        "colab": {
          "base_uri": "https://localhost:8080/"
        },
        "id": "hNog6f0EZzYx",
        "outputId": "f85f4139-54bb-4358-db36-2d2a37bbc8f3"
      },
      "execution_count": null,
      "outputs": [
        {
          "output_type": "stream",
          "name": "stderr",
          "text": [
            "/usr/local/lib/python3.10/dist-packages/ipykernel/ipkernel.py:283: DeprecationWarning: `should_run_async` will not call `transform_cell` automatically in the future. Please pass the result to `transformed_cell` argument and any exception that happen during thetransform in `preprocessing_exc_tuple` in IPython 7.17 and above.\n",
            "  and should_run_async(code)\n"
          ]
        },
        {
          "output_type": "execute_result",
          "data": {
            "text/plain": [
              "{'tracktitle': TAG_MAP_ENTRY(getter='©nam', setter='©nam', remover=None, type=<class 'str'>, sanitizer=None),\n",
              " 'artist': TAG_MAP_ENTRY(getter='©ART', setter='©ART', remover=None, type=<class 'str'>, sanitizer=None),\n",
              " 'album': TAG_MAP_ENTRY(getter='©alb', setter='©alb', remover=None, type=<class 'str'>, sanitizer=None),\n",
              " 'albumartist': TAG_MAP_ENTRY(getter='aART', setter='aART', remover=None, type=<class 'str'>, sanitizer=None),\n",
              " 'composer': TAG_MAP_ENTRY(getter='©wrt', setter='©wrt', remover=None, type=<class 'str'>, sanitizer=None),\n",
              " 'tracknumber': TAG_MAP_ENTRY(getter=<function get_tracknum at 0x7a9942543f40>, setter=<function set_tracknum at 0x7a9942544040>, remover=None, type=<class 'int'>, sanitizer=None),\n",
              " 'totaltracks': TAG_MAP_ENTRY(getter=<function get_totaltracks at 0x7a99425440d0>, setter=<function set_totaltracks at 0x7a9942544160>, remover=None, type=<class 'int'>, sanitizer=None),\n",
              " 'discnumber': TAG_MAP_ENTRY(getter=<function get_discnum at 0x7a99425441f0>, setter=<function set_discnum at 0x7a9942544280>, remover=None, type=<class 'int'>, sanitizer=None),\n",
              " 'totaldiscs': TAG_MAP_ENTRY(getter=<function get_totaldiscs at 0x7a9942544310>, setter=<function set_totaldiscs at 0x7a99425443a0>, remover=None, type=<class 'int'>, sanitizer=None),\n",
              " 'genre': TAG_MAP_ENTRY(getter='©gen', setter='©gen', remover=None, type=<class 'str'>, sanitizer=None),\n",
              " 'year': TAG_MAP_ENTRY(getter='©day', setter='©day', remover=None, type=<class 'int'>, sanitizer=<function sanitize_year at 0x7a9942630ee0>),\n",
              " 'compilation': TAG_MAP_ENTRY(getter='cpil', setter='cpil', remover=None, type=<class 'bool'>, sanitizer=<function sanitize_bool at 0x7a9942631000>),\n",
              " 'lyrics': TAG_MAP_ENTRY(getter='©lyr', setter='©lyr', remover=None, type=<class 'str'>, sanitizer=None),\n",
              " 'isrc': TAG_MAP_ENTRY(getter=<function Mp4File.<lambda> at 0x7a9942544700>, setter=<function Mp4File.<lambda> at 0x7a9942544790>, remover='----:com.apple.iTunes:ISRC', type=<class 'str'>, sanitizer=None),\n",
              " 'comment': TAG_MAP_ENTRY(getter='©cmt', setter='©cmt', remover=None, type=<class 'str'>, sanitizer=None),\n",
              " 'artwork': TAG_MAP_ENTRY(getter=<function get_artwork at 0x7a9942544430>, setter=<function set_artwork at 0x7a99425444c0>, remover=None, type=<class 'music_tag.file.Artwork'>, sanitizer=None),\n",
              " '#bitrate': TAG_MAP_ENTRY(getter='bitrate', setter=<function setter_not_implemented at 0x7a9942630e50>, remover=None, type=<class 'int'>, sanitizer=None),\n",
              " '#codec': TAG_MAP_ENTRY(getter='codec', setter=<function setter_not_implemented at 0x7a9942630e50>, remover=None, type=<class 'str'>, sanitizer=None),\n",
              " '#length': TAG_MAP_ENTRY(getter='length', setter=<function setter_not_implemented at 0x7a9942630e50>, remover=None, type=<class 'float'>, sanitizer=None),\n",
              " '#channels': TAG_MAP_ENTRY(getter='channels', setter=<function setter_not_implemented at 0x7a9942630e50>, remover=None, type=<class 'int'>, sanitizer=None),\n",
              " '#bitspersample': TAG_MAP_ENTRY(getter='bits_per_sample', setter=<function setter_not_implemented at 0x7a9942630e50>, remover=None, type=<class 'int'>, sanitizer=None),\n",
              " '#samplerate': TAG_MAP_ENTRY(getter='sample_rate', setter=<function setter_not_implemented at 0x7a9942630e50>, remover=None, type=<class 'int'>, sanitizer=None)}"
            ]
          },
          "metadata": {},
          "execution_count": 66
        }
      ]
    }
  ]
}