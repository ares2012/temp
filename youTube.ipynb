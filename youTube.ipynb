{
  "nbformat": 4,
  "nbformat_minor": 0,
  "metadata": {
    "colab": {
      "provenance": []
    },
    "kernelspec": {
      "name": "python3",
      "display_name": "Python 3"
    },
    "language_info": {
      "name": "python"
    }
  },
  "cells": [
    {
      "cell_type": "markdown",
      "source": [
        "<a target=\"_blank\" href=\"https://colab.research.google.com/github/ares2012/gogo/blob/master/youTube.ipynb\">\n",
        "  <img src=\"https://colab.research.google.com/assets/colab-badge.svg\" alt=\"Open In Colab\"/>\n",
        "</a>"
      ],
      "metadata": {
        "id": "hIKBRj2L1reY"
      }
    },
    {
      "cell_type": "code",
      "source": [
        "from google.colab import drive\n",
        "drive.mount('/content/drive')"
      ],
      "metadata": {
        "colab": {
          "base_uri": "https://localhost:8080/"
        },
        "id": "cu9YOllM1LCr",
        "outputId": "e191b08c-049b-47a6-845c-08e6e20c68af"
      },
      "execution_count": null,
      "outputs": [
        {
          "output_type": "stream",
          "name": "stdout",
          "text": [
            "Mounted at /content/drive\n"
          ]
        }
      ]
    },
    {
      "cell_type": "code",
      "source": [
        "!pip uninstall -y pytube"
      ],
      "metadata": {
        "colab": {
          "base_uri": "https://localhost:8080/"
        },
        "id": "mYcPhBCCRd3D",
        "outputId": "9429a179-9319-43b4-faa5-fad36f4e5d58"
      },
      "execution_count": null,
      "outputs": [
        {
          "output_type": "stream",
          "name": "stdout",
          "text": [
            "\u001b[33mWARNING: Skipping pytube as it is not installed.\u001b[0m\u001b[33m\n",
            "\u001b[0m"
          ]
        }
      ]
    },
    {
      "cell_type": "code",
      "source": [
        "!pip install pytubefix==6.7.0"
      ],
      "metadata": {
        "colab": {
          "base_uri": "https://localhost:8080/"
        },
        "id": "uqMvmm7lRfCi",
        "outputId": "e79463f9-986b-456d-c3d0-08198c4eeb1f"
      },
      "execution_count": null,
      "outputs": [
        {
          "output_type": "stream",
          "name": "stdout",
          "text": [
            "Collecting pytubefix==6.7.0\n",
            "  Downloading pytubefix-6.7.0-py3-none-any.whl.metadata (4.3 kB)\n",
            "Downloading pytubefix-6.7.0-py3-none-any.whl (73 kB)\n",
            "\u001b[?25l   \u001b[90m━━━━━━━━━━━━━━━━━━━━━━━━━━━━━━━━━━━━━━━━\u001b[0m \u001b[32m0.0/73.5 kB\u001b[0m \u001b[31m?\u001b[0m eta \u001b[36m-:--:--\u001b[0m\r\u001b[2K   \u001b[90m━━━━━━━━━━━━━━━━━━━━━━━━━━━━━━━━━━━━━━━━\u001b[0m \u001b[32m73.5/73.5 kB\u001b[0m \u001b[31m4.5 MB/s\u001b[0m eta \u001b[36m0:00:00\u001b[0m\n",
            "\u001b[?25hInstalling collected packages: pytubefix\n",
            "Successfully installed pytubefix-6.7.0\n"
          ]
        }
      ]
    },
    {
      "cell_type": "code",
      "source": [
        "from pytubefix import YouTube\n",
        "from pytubefix import Playlist\n",
        "from pytubefix.cli import on_progress"
      ],
      "metadata": {
        "id": "C8TwHibwQtA7"
      },
      "execution_count": null,
      "outputs": []
    },
    {
      "cell_type": "code",
      "source": [
        "PlayOne_url = \"https://www.youtube.com/watch?v=1u1UCZZCWcM&list=OLAK5uy_lFTlAqHXfxj43EXstz8wwQTspPi3ddlRo&index=2\"\n",
        "\n",
        "print(YouTube(PlayOne_url).author, YouTube(PlayOne_url).title, YouTube(PlayOne_url).views)"
      ],
      "metadata": {
        "id": "vNeIqC0xRxw9"
      },
      "execution_count": null,
      "outputs": []
    },
    {
      "cell_type": "code",
      "source": [
        "YouTube(PlayOne_url).streams.get_highest_resolution().download(\n",
        "        output_path=\"/content/drive/MyDrive/\", filename=\"김민기 - 봉우리.mp4\")"
      ],
      "metadata": {
        "id": "T6nnKbgtR2YQ"
      },
      "execution_count": null,
      "outputs": []
    },
    {
      "cell_type": "code",
      "source": [
        "! rm -rf ./*.mp3"
      ],
      "metadata": {
        "id": "VDABJ_5qvHhu"
      },
      "execution_count": null,
      "outputs": []
    },
    {
      "cell_type": "code",
      "source": [
        "Playlist_url = 'https://www.youtube.com/playlist?list=OLAK5uy_mFmT3mK0WaPwLosHC1SGCKu6PmAAwC2Nc'"
      ],
      "metadata": {
        "id": "0una1e_kY5QC"
      },
      "execution_count": null,
      "outputs": []
    },
    {
      "cell_type": "code",
      "source": [
        "pl = Playlist(Playlist_url)\n",
        "\n",
        "i=0\n",
        "for video in pl.videos:\n",
        "    i = i+1\n",
        "    ys = video.streams.get_audio_only()\n",
        "    ys.download(output_path=\"./\", filename=\"Erik_Satie-\"+\"_\".join(ys.title.split(' ')[1:]), mp3=True)"
      ],
      "metadata": {
        "id": "aMbJy0C_vQzk"
      },
      "execution_count": null,
      "outputs": []
    },
    {
      "cell_type": "code",
      "source": [
        "pl = Playlist(Playlist_url)\n",
        "\n",
        "i=0\n",
        "for video in pl.videos:\n",
        "    i = i+1\n",
        "    ys = video.streams.get_audio_only()\n",
        "    ys.download(output_path=\"./\", filename=\"Erik_Satie-Gymnopédie\"+str(i), mp3=True)"
      ],
      "metadata": {
        "id": "F_ZxbHwHY3u7"
      },
      "execution_count": null,
      "outputs": []
    },
    {
      "cell_type": "code",
      "source": [
        "yt = YouTube(PlayOne_url, on_progress_callback = on_progress)\n",
        "print(yt.title)\n",
        "\n",
        "ys = yt.streams.get_audio_only()\n",
        "ys.download(output_path=\"./\", filename=\"Erik_Satie-Gymnopédie2\", mp3=True)"
      ],
      "metadata": {
        "colab": {
          "base_uri": "https://localhost:8080/",
          "height": 53
        },
        "id": "ENqOPKABXkz3",
        "outputId": "bfe99028-adf2-47b7-b89d-dec2c9cdc34f"
      },
      "execution_count": null,
      "outputs": [
        {
          "output_type": "stream",
          "name": "stdout",
          "text": [
            "Gymnopédie No. 2\n"
          ]
        },
        {
          "output_type": "execute_result",
          "data": {
            "text/plain": [
              "'/content/Erik_Satie-Gymnopédie2.mp3'"
            ],
            "application/vnd.google.colaboratory.intrinsic+json": {
              "type": "string"
            }
          },
          "metadata": {},
          "execution_count": 49
        }
      ]
    },
    {
      "cell_type": "code",
      "source": [
        "YouTube(PlayOne_url).streams.filter(only_audio=True).all()[0].download(\n",
        "        output_path=\"./\", filename=\"Erik_Satie-Gymnopédie2\", mp3=True)"
      ],
      "metadata": {
        "colab": {
          "base_uri": "https://localhost:8080/",
          "height": 70
        },
        "id": "2IWKvUHCR3kj",
        "outputId": "575b5f9d-57b1-4ffb-e89d-faa8a011eccb"
      },
      "execution_count": null,
      "outputs": [
        {
          "output_type": "stream",
          "name": "stderr",
          "text": [
            "<ipython-input-20-42eafc52bb5c>:1: DeprecationWarning: Call to deprecated function all (This object can be treated as a list, all() is useless).\n",
            "  YouTube(test).streams.filter(only_audio=True).all()[0].download(\n"
          ]
        },
        {
          "output_type": "execute_result",
          "data": {
            "text/plain": [
              "'/content/Erik Satie - Gymnopédie2.mp3'"
            ],
            "application/vnd.google.colaboratory.intrinsic+json": {
              "type": "string"
            }
          },
          "metadata": {},
          "execution_count": 20
        }
      ]
    },
    {
      "cell_type": "code",
      "source": [
        "!pip install music_tag"
      ],
      "metadata": {
        "colab": {
          "base_uri": "https://localhost:8080/"
        },
        "id": "0xXkTlFBgNEP",
        "outputId": "28b1b083-f427-4d66-a3ee-9c724fbd2654"
      },
      "execution_count": null,
      "outputs": [
        {
          "output_type": "stream",
          "name": "stdout",
          "text": [
            "Requirement already satisfied: music_tag in /usr/local/lib/python3.10/dist-packages (0.4.3)\n",
            "Requirement already satisfied: mutagen in /usr/local/lib/python3.10/dist-packages (from music_tag) (1.47.0)\n"
          ]
        }
      ]
    },
    {
      "cell_type": "code",
      "source": [
        "import os\n",
        "import music_tag\n",
        "\n",
        "files = os.listdir('.')\n",
        "for file in files:\n",
        "  if not os.path.isdir(file):\n",
        "    f=music_tag.load_file(file)\n",
        "    #print(f.filename)\n",
        "    f['title'] = f.filename.split('-')[1].split('.')[0]\n",
        "    f['artist'] = f.filename.split('-')[0]\n",
        "    f.save()\n",
        "    #print(f['title'], f['artist'])#, f['tracktitle']"
      ],
      "metadata": {
        "id": "b3abnmJ2wpMf"
      },
      "execution_count": null,
      "outputs": []
    },
    {
      "cell_type": "code",
      "source": [
        "import zipfile\n",
        "\n",
        "with zipfile.ZipFile('Erik_Satie.zip', 'w') as zip_ref:\n",
        "  for file in files:\n",
        "    if not os.path.isdir(file):\n",
        "      zip_ref.write(file)"
      ],
      "metadata": {
        "id": "0mcdCUUeytoO"
      },
      "execution_count": null,
      "outputs": []
    },
    {
      "cell_type": "code",
      "source": [
        "import music_tag\n",
        "\n",
        "f = music_tag.load_file(\"/content/Erik_Satie-Gymnopédie3.mp3\")\n",
        "f.filename"
      ],
      "metadata": {
        "id": "wUDfpCkewkmk"
      },
      "execution_count": null,
      "outputs": []
    },
    {
      "cell_type": "code",
      "source": [
        "f.filename.split('-')[0].split('/'), f.filename.split('-')[1].split('.')"
      ],
      "metadata": {
        "colab": {
          "base_uri": "https://localhost:8080/"
        },
        "id": "Nx5xh3UQS2vY",
        "outputId": "bef8b416-6fc4-42c1-e5e1-b76907717d12"
      },
      "execution_count": null,
      "outputs": [
        {
          "output_type": "execute_result",
          "data": {
            "text/plain": [
              "(['', 'content', 'Erik_Satie'], ['Gymnopédie2', 'mp3'])"
            ]
          },
          "metadata": {},
          "execution_count": 51
        }
      ]
    },
    {
      "cell_type": "code",
      "source": [
        "f['title'] = f.filename.split('-')[1].split('.')[0]\n",
        "f['artist'] = f.filename.split('-')[0].split('/')[2]\n",
        "f.save(), f['title'], f['artist'], f['tracktitle']"
      ],
      "metadata": {
        "colab": {
          "base_uri": "https://localhost:8080/"
        },
        "id": "4p_XG-aSgS6d",
        "outputId": "5bed895b-ae0c-4f37-e2ff-43ede9e021f3"
      },
      "execution_count": null,
      "outputs": [
        {
          "output_type": "execute_result",
          "data": {
            "text/plain": [
              "(None,\n",
              " <MetadataItem: Gymnopédie3>,\n",
              " <MetadataItem: Erik_Satie>,\n",
              " <MetadataItem: Gymnopédie3>)"
            ]
          },
          "metadata": {},
          "execution_count": 78
        }
      ]
    },
    {
      "cell_type": "code",
      "source": [
        "art = f['artwork']"
      ],
      "metadata": {
        "colab": {
          "base_uri": "https://localhost:8080/"
        },
        "id": "IvjVtHgjUuVe",
        "outputId": "60f759cd-0b4e-4afb-eeb6-08ed2d4f26cd"
      },
      "execution_count": null,
      "outputs": [
        {
          "output_type": "stream",
          "name": "stderr",
          "text": [
            "/usr/local/lib/python3.10/dist-packages/ipykernel/ipkernel.py:283: DeprecationWarning: `should_run_async` will not call `transform_cell` automatically in the future. Please pass the result to `transformed_cell` argument and any exception that happen during thetransform in `preprocessing_exc_tuple` in IPython 7.17 and above.\n",
            "  and should_run_async(code)\n"
          ]
        }
      ]
    },
    {
      "cell_type": "code",
      "source": [
        "# set artwork\n",
        "with open('/content/channels4_profile.jpg', 'rb') as img_in:\n",
        "    f['artwork'] = img_in.read()\n",
        "with open('/content/channels4_profile.jpg', 'rb') as img_in:\n",
        "    f.append_tag('artwork', img_in.read())"
      ],
      "metadata": {
        "id": "7dSNGLmxhGGv"
      },
      "execution_count": null,
      "outputs": []
    },
    {
      "cell_type": "code",
      "source": [
        "f.get_artwork(), f.set_artwork()"
      ],
      "metadata": {
        "colab": {
          "base_uri": "https://localhost:8080/",
          "height": 141
        },
        "id": "2JEbBCofZhHL",
        "outputId": "ce65da76-0401-4bcd-9969-d6fbe3e60fd8"
      },
      "execution_count": null,
      "outputs": [
        {
          "output_type": "error",
          "ename": "AttributeError",
          "evalue": "'Mp4File' object has no attribute 'get_artwork'",
          "traceback": [
            "\u001b[0;31m---------------------------------------------------------------------------\u001b[0m",
            "\u001b[0;31mAttributeError\u001b[0m                            Traceback (most recent call last)",
            "\u001b[0;32m<ipython-input-65-f2c3df99c260>\u001b[0m in \u001b[0;36m<cell line: 1>\u001b[0;34m()\u001b[0m\n\u001b[0;32m----> 1\u001b[0;31m \u001b[0mf\u001b[0m\u001b[0;34m.\u001b[0m\u001b[0mget_artwork\u001b[0m\u001b[0;34m(\u001b[0m\u001b[0;34m)\u001b[0m\u001b[0;34m\u001b[0m\u001b[0;34m\u001b[0m\u001b[0m\n\u001b[0m",
            "\u001b[0;31mAttributeError\u001b[0m: 'Mp4File' object has no attribute 'get_artwork'"
          ]
        }
      ]
    },
    {
      "cell_type": "code",
      "source": [
        "# Note: `art` is a MetadataItem. Use ``art.value`` if there is\n",
        "#       only one image embeded in the file. This will raise a\n",
        "#       ValueError if there is more than one image. You can also\n",
        "#       use ``art.first``, or iterate through ``art.values``.\n",
        "\n",
        "art.first.mime  # -> 'image/jpeg'\n",
        "art.first.width  # -> 1280\n",
        "art.first.height  # -> 1280\n",
        "art.first.depth  # -> 24\n",
        "art.first.data  # -> b'... raw image data ...'\n",
        "\n",
        "art.first.mime , art.first.width , art.first.height , art.first.depth #, art.first.data, art.value"
      ],
      "metadata": {
        "colab": {
          "base_uri": "https://localhost:8080/"
        },
        "id": "jwLnxSzkVLCZ",
        "outputId": "d44bf6d1-df8f-4476-abb7-d5b318b3a740"
      },
      "execution_count": null,
      "outputs": [
        {
          "output_type": "execute_result",
          "data": {
            "text/plain": [
              "('image/jpeg', 160, 160, 24)"
            ]
          },
          "metadata": {},
          "execution_count": 62
        }
      ]
    },
    {
      "cell_type": "code",
      "source": [
        "# Make a thumbnail (requires Pillow)\n",
        "art.first.thumbnail([64, 64])  # -> pillow image\n",
        "art.first.raw_thumbnail([64, 64])  # -> b'... raw thumbnail data ...'"
      ],
      "metadata": {
        "id": "nlAp_mLNZdzP"
      },
      "execution_count": null,
      "outputs": []
    },
    {
      "cell_type": "code",
      "source": [
        "f.tag_map"
      ],
      "metadata": {
        "colab": {
          "base_uri": "https://localhost:8080/"
        },
        "id": "hNog6f0EZzYx",
        "outputId": "f85f4139-54bb-4358-db36-2d2a37bbc8f3"
      },
      "execution_count": null,
      "outputs": [
        {
          "output_type": "stream",
          "name": "stderr",
          "text": [
            "/usr/local/lib/python3.10/dist-packages/ipykernel/ipkernel.py:283: DeprecationWarning: `should_run_async` will not call `transform_cell` automatically in the future. Please pass the result to `transformed_cell` argument and any exception that happen during thetransform in `preprocessing_exc_tuple` in IPython 7.17 and above.\n",
            "  and should_run_async(code)\n"
          ]
        },
        {
          "output_type": "execute_result",
          "data": {
            "text/plain": [
              "{'tracktitle': TAG_MAP_ENTRY(getter='©nam', setter='©nam', remover=None, type=<class 'str'>, sanitizer=None),\n",
              " 'artist': TAG_MAP_ENTRY(getter='©ART', setter='©ART', remover=None, type=<class 'str'>, sanitizer=None),\n",
              " 'album': TAG_MAP_ENTRY(getter='©alb', setter='©alb', remover=None, type=<class 'str'>, sanitizer=None),\n",
              " 'albumartist': TAG_MAP_ENTRY(getter='aART', setter='aART', remover=None, type=<class 'str'>, sanitizer=None),\n",
              " 'composer': TAG_MAP_ENTRY(getter='©wrt', setter='©wrt', remover=None, type=<class 'str'>, sanitizer=None),\n",
              " 'tracknumber': TAG_MAP_ENTRY(getter=<function get_tracknum at 0x7a9942543f40>, setter=<function set_tracknum at 0x7a9942544040>, remover=None, type=<class 'int'>, sanitizer=None),\n",
              " 'totaltracks': TAG_MAP_ENTRY(getter=<function get_totaltracks at 0x7a99425440d0>, setter=<function set_totaltracks at 0x7a9942544160>, remover=None, type=<class 'int'>, sanitizer=None),\n",
              " 'discnumber': TAG_MAP_ENTRY(getter=<function get_discnum at 0x7a99425441f0>, setter=<function set_discnum at 0x7a9942544280>, remover=None, type=<class 'int'>, sanitizer=None),\n",
              " 'totaldiscs': TAG_MAP_ENTRY(getter=<function get_totaldiscs at 0x7a9942544310>, setter=<function set_totaldiscs at 0x7a99425443a0>, remover=None, type=<class 'int'>, sanitizer=None),\n",
              " 'genre': TAG_MAP_ENTRY(getter='©gen', setter='©gen', remover=None, type=<class 'str'>, sanitizer=None),\n",
              " 'year': TAG_MAP_ENTRY(getter='©day', setter='©day', remover=None, type=<class 'int'>, sanitizer=<function sanitize_year at 0x7a9942630ee0>),\n",
              " 'compilation': TAG_MAP_ENTRY(getter='cpil', setter='cpil', remover=None, type=<class 'bool'>, sanitizer=<function sanitize_bool at 0x7a9942631000>),\n",
              " 'lyrics': TAG_MAP_ENTRY(getter='©lyr', setter='©lyr', remover=None, type=<class 'str'>, sanitizer=None),\n",
              " 'isrc': TAG_MAP_ENTRY(getter=<function Mp4File.<lambda> at 0x7a9942544700>, setter=<function Mp4File.<lambda> at 0x7a9942544790>, remover='----:com.apple.iTunes:ISRC', type=<class 'str'>, sanitizer=None),\n",
              " 'comment': TAG_MAP_ENTRY(getter='©cmt', setter='©cmt', remover=None, type=<class 'str'>, sanitizer=None),\n",
              " 'artwork': TAG_MAP_ENTRY(getter=<function get_artwork at 0x7a9942544430>, setter=<function set_artwork at 0x7a99425444c0>, remover=None, type=<class 'music_tag.file.Artwork'>, sanitizer=None),\n",
              " '#bitrate': TAG_MAP_ENTRY(getter='bitrate', setter=<function setter_not_implemented at 0x7a9942630e50>, remover=None, type=<class 'int'>, sanitizer=None),\n",
              " '#codec': TAG_MAP_ENTRY(getter='codec', setter=<function setter_not_implemented at 0x7a9942630e50>, remover=None, type=<class 'str'>, sanitizer=None),\n",
              " '#length': TAG_MAP_ENTRY(getter='length', setter=<function setter_not_implemented at 0x7a9942630e50>, remover=None, type=<class 'float'>, sanitizer=None),\n",
              " '#channels': TAG_MAP_ENTRY(getter='channels', setter=<function setter_not_implemented at 0x7a9942630e50>, remover=None, type=<class 'int'>, sanitizer=None),\n",
              " '#bitspersample': TAG_MAP_ENTRY(getter='bits_per_sample', setter=<function setter_not_implemented at 0x7a9942630e50>, remover=None, type=<class 'int'>, sanitizer=None),\n",
              " '#samplerate': TAG_MAP_ENTRY(getter='sample_rate', setter=<function setter_not_implemented at 0x7a9942630e50>, remover=None, type=<class 'int'>, sanitizer=None)}"
            ]
          },
          "metadata": {},
          "execution_count": 66
        }
      ]
    }
  ]
}