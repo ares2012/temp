{
  "nbformat": 4,
  "nbformat_minor": 0,
  "metadata": {
    "colab": {
      "provenance": []
    },
    "kernelspec": {
      "name": "python3",
      "display_name": "Python 3"
    },
    "language_info": {
      "name": "python"
    }
  },
  "cells": [
    {
      "cell_type": "markdown",
      "source": [
        "<a target=\"_blank\" href=\"https://colab.research.google.com/github/ares2012/temp/blob/master/youTube.ipynb\">\n",
        "  <img src=\"https://colab.research.google.com/assets/colab-badge.svg\" alt=\"Open In Colab\"/>\n",
        "</a>"
      ],
      "metadata": {
        "id": "hIKBRj2L1reY"
      }
    },
    {
      "cell_type": "code",
      "source": [
        "from google.colab import drive\n",
        "drive.mount('/content/drive')"
      ],
      "metadata": {
        "colab": {
          "base_uri": "https://localhost:8080/"
        },
        "id": "cu9YOllM1LCr",
        "outputId": "e191b08c-049b-47a6-845c-08e6e20c68af"
      },
      "execution_count": null,
      "outputs": [
        {
          "output_type": "stream",
          "name": "stdout",
          "text": [
            "Mounted at /content/drive\n"
          ]
        }
      ]
    },
    {
      "cell_type": "code",
      "source": [
        "!pip install yt_dlp"
      ],
      "metadata": {
        "id": "kDIvYjXUKlhJ",
        "outputId": "1f75a771-a074-4067-ae6c-6806c7824ebf",
        "colab": {
          "base_uri": "https://localhost:8080/"
        }
      },
      "execution_count": 10,
      "outputs": [
        {
          "output_type": "stream",
          "name": "stdout",
          "text": [
            "Collecting yt_dlp\n",
            "  Downloading yt_dlp-2024.12.6-py3-none-any.whl.metadata (172 kB)\n",
            "\u001b[?25l     \u001b[90m━━━━━━━━━━━━━━━━━━━━━━━━━━━━━━━━━━━━━━━━\u001b[0m \u001b[32m0.0/172.1 kB\u001b[0m \u001b[31m?\u001b[0m eta \u001b[36m-:--:--\u001b[0m\r\u001b[2K     \u001b[91m━━━━━━━━━━━━━━━━━━━━━━━━━━━━━━━━━━━━━━\u001b[0m\u001b[90m╺\u001b[0m\u001b[90m━\u001b[0m \u001b[32m163.8/172.1 kB\u001b[0m \u001b[31m5.6 MB/s\u001b[0m eta \u001b[36m0:00:01\u001b[0m\r\u001b[2K     \u001b[90m━━━━━━━━━━━━━━━━━━━━━━━━━━━━━━━━━━━━━━━━\u001b[0m \u001b[32m172.1/172.1 kB\u001b[0m \u001b[31m3.7 MB/s\u001b[0m eta \u001b[36m0:00:00\u001b[0m\n",
            "\u001b[?25hDownloading yt_dlp-2024.12.6-py3-none-any.whl (3.2 MB)\n",
            "\u001b[2K   \u001b[90m━━━━━━━━━━━━━━━━━━━━━━━━━━━━━━━━━━━━━━━━\u001b[0m \u001b[32m3.2/3.2 MB\u001b[0m \u001b[31m46.0 MB/s\u001b[0m eta \u001b[36m0:00:00\u001b[0m\n",
            "\u001b[?25hInstalling collected packages: yt_dlp\n",
            "Successfully installed yt_dlp-2024.12.6\n"
          ]
        }
      ]
    },
    {
      "cell_type": "code",
      "source": [
        "import yt_dlp\n",
        "import os\n",
        "\n",
        "def download_audio(link):\n",
        "    with yt_dlp.YoutubeDL({'extract_video': True, 'format': 'bestvideo', 'outtmpl': '%(title)s.mp4'}) as video:\n",
        "        info_dict = video.extract_info(link, download = True)\n",
        "        video_title = info_dict['title']\n",
        "        print(video_title)\n",
        "        #video.download(link)\n",
        "\n",
        "download_audio('https://www.youtube.com/watch?v=2OvyA2__Eas')"
      ],
      "metadata": {
        "id": "waYmpLP-7rkb",
        "outputId": "75eb411f-c353-4579-eaa2-60f9af4428bc",
        "colab": {
          "base_uri": "https://localhost:8080/"
        }
      },
      "execution_count": 14,
      "outputs": [
        {
          "output_type": "stream",
          "name": "stdout",
          "text": [
            "[youtube] Extracting URL: https://www.youtube.com/watch?v=2OvyA2__Eas\n",
            "[youtube] 2OvyA2__Eas: Downloading webpage\n",
            "[youtube] 2OvyA2__Eas: Downloading ios player API JSON\n",
            "[youtube] 2OvyA2__Eas: Downloading mweb player API JSON\n",
            "[youtube] 2OvyA2__Eas: Downloading m3u8 information\n",
            "[info] 2OvyA2__Eas: Downloading 1 format(s): 401\n",
            "[download] Destination: NCT 127 엔시티 127 '영웅 (英雄; Kick It)' MV.mp4\n",
            "[download] 100% of  352.53MiB in 00:00:46 at 7.66MiB/s   \n",
            "NCT 127 엔시티 127 '영웅 (英雄; Kick It)' MV\n"
          ]
        }
      ]
    },
    {
      "cell_type": "code",
      "source": [
        "import yt_dlp\n",
        "import os\n",
        "\n",
        "def download_audio(link):\n",
        "    with yt_dlp.YoutubeDL({'extract_audio': True, 'format': 'bestaudio', 'outtmpl': '%(title)s.mp3'}) as video:\n",
        "        info_dict = video.extract_info(link, download = True)\n",
        "        video_title = info_dict['title']\n",
        "        print(video_title)\n",
        "        #video.download(link)\n",
        "\n",
        "download_audio('https://www.youtube.com/watch?v=ekr2nIex040')"
      ],
      "metadata": {
        "id": "gMrhf9aAKnXB",
        "outputId": "0b9f2acd-ba20-434d-e8f5-ea804f69e9e8",
        "colab": {
          "base_uri": "https://localhost:8080/"
        }
      },
      "execution_count": 28,
      "outputs": [
        {
          "output_type": "stream",
          "name": "stdout",
          "text": [
            "[youtube] Extracting URL: https://www.youtube.com/watch?v=ekr2nIex040\n",
            "[youtube] ekr2nIex040: Downloading webpage\n",
            "[youtube] ekr2nIex040: Downloading ios player API JSON\n",
            "[youtube] ekr2nIex040: Downloading mweb player API JSON\n",
            "[youtube] ekr2nIex040: Downloading m3u8 information\n",
            "[info] ekr2nIex040: Downloading 1 format(s): 251\n",
            "[download] Destination: ROSÉ & Bruno Mars - APT. (Official Music Video).mp3\n",
            "[download] 100% of    2.59MiB in 00:00:03 at 881.24KiB/s \n",
            "ROSÉ & Bruno Mars - APT. (Official Music Video)\n"
          ]
        }
      ]
    },
    {
      "cell_type": "code",
      "source": [
        "import yt_dlp\n",
        "\n",
        "YDL_OPTIONS = {\n",
        "    'format': 'bestaudio*',\n",
        "    'noplaylist': True,\n",
        "    'outtmpl': '%(title)s.mp3'\n",
        "}\n",
        "\n",
        "url='https://www.youtube.com/playlist?list=OLAK5uy_nuCjRIbS1lraoSDGmkc5DNJXMYmJ0Jd74'\n",
        "with yt_dlp.YoutubeDL(YDL_OPTIONS) as ydl:\n",
        "    info = ydl.extract_info(url, download=True)"
      ],
      "metadata": {
        "id": "r6atyCchFcyU",
        "outputId": "a22b9b50-14a9-4c81-c9d8-e08e3b158a76",
        "colab": {
          "base_uri": "https://localhost:8080/"
        }
      },
      "execution_count": 32,
      "outputs": [
        {
          "output_type": "stream",
          "name": "stdout",
          "text": [
            "[youtube:tab] Extracting URL: https://www.youtube.com/playlist?list=OLAK5uy_nuCjRIbS1lraoSDGmkc5DNJXMYmJ0Jd74\n",
            "[youtube:tab] OLAK5uy_nuCjRIbS1lraoSDGmkc5DNJXMYmJ0Jd74: Downloading webpage\n",
            "[youtube:tab] OLAK5uy_nuCjRIbS1lraoSDGmkc5DNJXMYmJ0Jd74: Redownloading playlist API JSON with unavailable videos\n",
            "[download] Downloading playlist: SUNRISE\n",
            "[youtube:tab] Playlist SUNRISE: Downloading 14 items of 14\n",
            "[download] Downloading item 1 of 14\n",
            "[youtube] Extracting URL: https://www.youtube.com/watch?v=v13D8TCmvBQ\n",
            "[youtube] v13D8TCmvBQ: Downloading webpage\n",
            "[youtube] v13D8TCmvBQ: Downloading ios player API JSON\n",
            "[youtube] v13D8TCmvBQ: Downloading mweb player API JSON\n",
            "[youtube] v13D8TCmvBQ: Downloading m3u8 information\n",
            "[info] v13D8TCmvBQ: Downloading 1 format(s): 18\n",
            "[download] Destination: 오늘은 내게 Lean on Me.mp3\n",
            "[download] 100% of    3.72MiB in 00:00:00 at 24.93MiB/s  \n",
            "[download] Downloading item 2 of 14\n",
            "[youtube] Extracting URL: https://www.youtube.com/watch?v=g4V36AfI4Ng\n",
            "[youtube] g4V36AfI4Ng: Downloading webpage\n",
            "[youtube] g4V36AfI4Ng: Downloading ios player API JSON\n",
            "[youtube] g4V36AfI4Ng: Downloading mweb player API JSON\n",
            "[youtube] g4V36AfI4Ng: Downloading m3u8 information\n",
            "[info] g4V36AfI4Ng: Downloading 1 format(s): 18\n",
            "[download] Destination: DAY6 ＂I Smile (반드시 웃는다)＂ M⧸V.mp3\n",
            "[download] 100% of    9.67MiB in 00:00:00 at 33.74MiB/s  \n",
            "[download] Downloading item 3 of 14\n",
            "[youtube] Extracting URL: https://www.youtube.com/watch?v=F90_ggrg-ts\n",
            "[youtube] F90_ggrg-ts: Downloading webpage\n",
            "[youtube] F90_ggrg-ts: Downloading ios player API JSON\n",
            "[youtube] F90_ggrg-ts: Downloading mweb player API JSON\n",
            "[youtube] F90_ggrg-ts: Downloading m3u8 information\n",
            "[info] F90_ggrg-ts: Downloading 1 format(s): 18\n",
            "[download] Destination: Man in a Movie.mp3\n",
            "[download] 100% of    4.36MiB in 00:00:00 at 8.31MiB/s   \n",
            "[download] Downloading item 4 of 14\n",
            "[youtube] Extracting URL: https://www.youtube.com/watch?v=O3nFopIjmjI\n",
            "[youtube] O3nFopIjmjI: Downloading webpage\n",
            "[youtube] O3nFopIjmjI: Downloading ios player API JSON\n",
            "[youtube] O3nFopIjmjI: Downloading mweb player API JSON\n",
            "[youtube] O3nFopIjmjI: Downloading m3u8 information\n",
            "[info] O3nFopIjmjI: Downloading 1 format(s): 18\n",
            "[download] Destination: DAY6 ＂I Wait(아 왜)＂ M⧸V.mp3\n",
            "[download] 100% of   12.28MiB in 00:00:00 at 20.59MiB/s  \n",
            "[download] Downloading item 5 of 14\n",
            "[youtube] Extracting URL: https://www.youtube.com/watch?v=dwywhL1PenQ\n",
            "[youtube] dwywhL1PenQ: Downloading webpage\n",
            "[youtube] dwywhL1PenQ: Downloading ios player API JSON\n",
            "[youtube] dwywhL1PenQ: Downloading mweb player API JSON\n",
            "[youtube] dwywhL1PenQ: Downloading m3u8 information\n",
            "[info] dwywhL1PenQ: Downloading 1 format(s): 18\n",
            "[download] Destination: DAY6 ＂How Can I Say(어떻게 말해)＂ M⧸V.mp3\n",
            "[download] 100% of    6.78MiB in 00:00:00 at 38.46MiB/s  \n",
            "[download] Downloading item 6 of 14\n",
            "[youtube] Extracting URL: https://www.youtube.com/watch?v=1-1TGNmQqZA\n",
            "[youtube] 1-1TGNmQqZA: Downloading webpage\n",
            "[youtube] 1-1TGNmQqZA: Downloading ios player API JSON\n",
            "[youtube] 1-1TGNmQqZA: Downloading mweb player API JSON\n",
            "[youtube] 1-1TGNmQqZA: Downloading m3u8 information\n",
            "[info] 1-1TGNmQqZA: Downloading 1 format(s): 18\n",
            "[download] Destination: DAY6 ＂Letting Go(놓아 놓아 놓아)＂ M⧸V.mp3\n",
            "[download] 100% of    9.47MiB in 00:00:00 at 35.46MiB/s  \n",
            "[download] Downloading item 7 of 14\n",
            "[youtube] Extracting URL: https://www.youtube.com/watch?v=gTDffF08ag0\n",
            "[youtube] gTDffF08ag0: Downloading webpage\n",
            "[youtube] gTDffF08ag0: Downloading ios player API JSON\n",
            "[youtube] gTDffF08ag0: Downloading mweb player API JSON\n",
            "[youtube] gTDffF08ag0: Downloading m3u8 information\n",
            "[info] gTDffF08ag0: Downloading 1 format(s): 18\n",
            "[download] Destination: 그럴 텐데 I Would.mp3\n",
            "[download] 100% of    4.29MiB in 00:00:00 at 6.76MiB/s   \n",
            "[download] Downloading item 8 of 14\n",
            "[youtube] Extracting URL: https://www.youtube.com/watch?v=k-S7aS0o7y4\n",
            "[youtube] k-S7aS0o7y4: Downloading webpage\n",
            "[youtube] k-S7aS0o7y4: Downloading ios player API JSON\n",
            "[youtube] k-S7aS0o7y4: Downloading mweb player API JSON\n",
            "[youtube] k-S7aS0o7y4: Downloading m3u8 information\n",
            "[info] k-S7aS0o7y4: Downloading 1 format(s): 18\n",
            "[download] Destination: 겨울이 간다 Goodbye Winter.mp3\n",
            "[download] 100% of    3.60MiB in 00:00:00 at 5.95MiB/s   \n",
            "[download] Downloading item 9 of 14\n",
            "[youtube] Extracting URL: https://www.youtube.com/watch?v=ZmHQbzbM8pI\n",
            "[youtube] ZmHQbzbM8pI: Downloading webpage\n",
            "[youtube] ZmHQbzbM8pI: Downloading ios player API JSON\n",
            "[youtube] ZmHQbzbM8pI: Downloading mweb player API JSON\n",
            "[youtube] ZmHQbzbM8pI: Downloading m3u8 information\n",
            "[info] ZmHQbzbM8pI: Downloading 1 format(s): 18\n",
            "[download] Destination: DAY6 ＂I'm Serious(장난 아닌데)＂ M⧸V.mp3\n",
            "[download] 100% of    7.03MiB in 00:00:00 at 26.96MiB/s  \n",
            "[download] Downloading item 10 of 14\n",
            "[youtube] Extracting URL: https://www.youtube.com/watch?v=9Xlje3foRmY\n",
            "[youtube] 9Xlje3foRmY: Downloading webpage\n",
            "[youtube] 9Xlje3foRmY: Downloading ios player API JSON\n",
            "[youtube] 9Xlje3foRmY: Downloading mweb player API JSON\n",
            "[youtube] 9Xlje3foRmY: Downloading m3u8 information\n",
            "[info] 9Xlje3foRmY: Downloading 1 format(s): 18\n",
            "[download] Destination: Say Wow.mp3\n",
            "[download] 100% of    3.63MiB in 00:00:00 at 7.07MiB/s   \n",
            "[download] Downloading item 11 of 14\n",
            "[youtube] Extracting URL: https://www.youtube.com/watch?v=NAW0idSQ6Zs\n",
            "[youtube] NAW0idSQ6Zs: Downloading webpage\n",
            "[youtube] NAW0idSQ6Zs: Downloading ios player API JSON\n",
            "[youtube] NAW0idSQ6Zs: Downloading mweb player API JSON\n",
            "[youtube] NAW0idSQ6Zs: Downloading m3u8 information\n",
            "[info] NAW0idSQ6Zs: Downloading 1 format(s): 18\n",
            "[download] Destination: DAY6 ＂DANCE DANCE＂ M⧸V.mp3\n",
            "[download] 100% of   14.08MiB in 00:00:00 at 21.38MiB/s  \n",
            "[download] Downloading item 12 of 14\n",
            "[youtube] Extracting URL: https://www.youtube.com/watch?v=h6CsFNWRfzc\n",
            "[youtube] h6CsFNWRfzc: Downloading webpage\n",
            "[youtube] h6CsFNWRfzc: Downloading ios player API JSON\n",
            "[youtube] h6CsFNWRfzc: Downloading mweb player API JSON\n",
            "[youtube] h6CsFNWRfzc: Downloading m3u8 information\n",
            "[info] h6CsFNWRfzc: Downloading 1 format(s): 18\n",
            "[download] Destination: My Day.mp3\n",
            "[download] 100% of    3.48MiB in 00:00:00 at 7.15MiB/s   \n",
            "[download] Downloading item 13 of 14\n",
            "[youtube] Extracting URL: https://www.youtube.com/watch?v=BS7tz2rAOSA\n",
            "[youtube] BS7tz2rAOSA: Downloading webpage\n",
            "[youtube] BS7tz2rAOSA: Downloading ios player API JSON\n",
            "[youtube] BS7tz2rAOSA: Downloading mweb player API JSON\n",
            "[youtube] BS7tz2rAOSA: Downloading m3u8 information\n",
            "[info] BS7tz2rAOSA: Downloading 1 format(s): 18\n",
            "[download] Destination: DAY6 ＂You Were Beautiful(예뻤어)＂ M⧸V.mp3\n",
            "[download] 100% of    9.20MiB in 00:00:00 at 26.19MiB/s  \n",
            "[download] Downloading item 14 of 14\n",
            "[youtube] Extracting URL: https://www.youtube.com/watch?v=x3sFsHrUyLQ\n",
            "[youtube] x3sFsHrUyLQ: Downloading webpage\n",
            "[youtube] x3sFsHrUyLQ: Downloading ios player API JSON\n",
            "[youtube] x3sFsHrUyLQ: Downloading mweb player API JSON\n",
            "[youtube] x3sFsHrUyLQ: Downloading m3u8 information\n",
            "[info] x3sFsHrUyLQ: Downloading 1 format(s): 18\n",
            "[download] Destination: DAY6 ＂Congratulations＂ M⧸V.mp3\n",
            "[download] 100% of   10.14MiB in 00:00:00 at 20.30MiB/s  \n",
            "[download] Finished downloading playlist: SUNRISE\n"
          ]
        }
      ]
    },
    {
      "cell_type": "code",
      "source": [],
      "metadata": {
        "id": "4UEfdDRbK-Xg"
      },
      "execution_count": null,
      "outputs": []
    },
    {
      "cell_type": "code",
      "source": [
        "!pip install moviepy"
      ],
      "metadata": {
        "id": "LWaamXHb_guE",
        "outputId": "e65da1b8-c83d-48ce-b663-f9794f58dd6c",
        "colab": {
          "base_uri": "https://localhost:8080/"
        }
      },
      "execution_count": 15,
      "outputs": [
        {
          "output_type": "stream",
          "name": "stdout",
          "text": [
            "Requirement already satisfied: moviepy in /usr/local/lib/python3.10/dist-packages (1.0.3)\n",
            "Requirement already satisfied: decorator<5.0,>=4.0.2 in /usr/local/lib/python3.10/dist-packages (from moviepy) (4.4.2)\n",
            "Requirement already satisfied: imageio<3.0,>=2.5 in /usr/local/lib/python3.10/dist-packages (from moviepy) (2.36.1)\n",
            "Requirement already satisfied: imageio_ffmpeg>=0.2.0 in /usr/local/lib/python3.10/dist-packages (from moviepy) (0.5.1)\n",
            "Requirement already satisfied: tqdm<5.0,>=4.11.2 in /usr/local/lib/python3.10/dist-packages (from moviepy) (4.66.6)\n",
            "Requirement already satisfied: numpy>=1.17.3 in /usr/local/lib/python3.10/dist-packages (from moviepy) (1.26.4)\n",
            "Requirement already satisfied: requests<3.0,>=2.8.1 in /usr/local/lib/python3.10/dist-packages (from moviepy) (2.32.3)\n",
            "Requirement already satisfied: proglog<=1.0.0 in /usr/local/lib/python3.10/dist-packages (from moviepy) (0.1.10)\n",
            "Requirement already satisfied: pillow>=8.3.2 in /usr/local/lib/python3.10/dist-packages (from imageio<3.0,>=2.5->moviepy) (11.0.0)\n",
            "Requirement already satisfied: setuptools in /usr/local/lib/python3.10/dist-packages (from imageio_ffmpeg>=0.2.0->moviepy) (75.1.0)\n",
            "Requirement already satisfied: charset-normalizer<4,>=2 in /usr/local/lib/python3.10/dist-packages (from requests<3.0,>=2.8.1->moviepy) (3.4.0)\n",
            "Requirement already satisfied: idna<4,>=2.5 in /usr/local/lib/python3.10/dist-packages (from requests<3.0,>=2.8.1->moviepy) (3.10)\n",
            "Requirement already satisfied: urllib3<3,>=1.21.1 in /usr/local/lib/python3.10/dist-packages (from requests<3.0,>=2.8.1->moviepy) (2.2.3)\n",
            "Requirement already satisfied: certifi>=2017.4.17 in /usr/local/lib/python3.10/dist-packages (from requests<3.0,>=2.8.1->moviepy) (2024.8.30)\n"
          ]
        }
      ]
    },
    {
      "cell_type": "code",
      "source": [
        "from moviepy.editor import VideoFileClip\n",
        "\n",
        "def extract_audio_from_video(video_file_path, audio_file_path):\n",
        "  # mp4 등 비디오 파일 불러오기\n",
        "  video = VideoFileClip(video_file_path)\n",
        "  print(video.filename)\n",
        "  #audio = video.set_audio(video.audio)\n",
        "\n",
        "  # 오디오를 추출하여 mp3 파일로 저장\n",
        "  video.audio.write_audiofile(audio_file_path)\n",
        "\n",
        "video_file = '/content/ROSÉ & Bruno Mars - APT. (Official Music Video).mp4'  # 변환하고 싶은 비디오 파일의 경로\n",
        "audio_file = '/content/ROSÉ-APT.mp3'  # 저장할 오디오 파일의 경로, 이름 지정\n",
        "\n",
        "extract_audio_from_video(video_file, audio_file)"
      ],
      "metadata": {
        "id": "8OgPJSOF_e9f",
        "outputId": "23b2515e-7416-4b60-c5d0-33b117062646",
        "colab": {
          "base_uri": "https://localhost:8080/",
          "height": 315
        }
      },
      "execution_count": 23,
      "outputs": [
        {
          "output_type": "stream",
          "name": "stdout",
          "text": [
            "/content/ROSÉ & Bruno Mars - APT. (Official Music Video).mp4\n"
          ]
        },
        {
          "output_type": "error",
          "ename": "AttributeError",
          "evalue": "'NoneType' object has no attribute 'write_audiofile'",
          "traceback": [
            "\u001b[0;31m---------------------------------------------------------------------------\u001b[0m",
            "\u001b[0;31mAttributeError\u001b[0m                            Traceback (most recent call last)",
            "\u001b[0;32m<ipython-input-23-83e837281790>\u001b[0m in \u001b[0;36m<cell line: 15>\u001b[0;34m()\u001b[0m\n\u001b[1;32m     13\u001b[0m \u001b[0maudio_file\u001b[0m \u001b[0;34m=\u001b[0m \u001b[0;34m'/content/ROSÉ-APT.mp3'\u001b[0m  \u001b[0;31m# 저장할 오디오 파일의 경로, 이름 지정\u001b[0m\u001b[0;34m\u001b[0m\u001b[0;34m\u001b[0m\u001b[0m\n\u001b[1;32m     14\u001b[0m \u001b[0;34m\u001b[0m\u001b[0m\n\u001b[0;32m---> 15\u001b[0;31m \u001b[0mextract_audio_from_video\u001b[0m\u001b[0;34m(\u001b[0m\u001b[0mvideo_file\u001b[0m\u001b[0;34m,\u001b[0m \u001b[0maudio_file\u001b[0m\u001b[0;34m)\u001b[0m\u001b[0;34m\u001b[0m\u001b[0;34m\u001b[0m\u001b[0m\n\u001b[0m",
            "\u001b[0;32m<ipython-input-23-83e837281790>\u001b[0m in \u001b[0;36mextract_audio_from_video\u001b[0;34m(video_file_path, audio_file_path)\u001b[0m\n\u001b[1;32m      8\u001b[0m \u001b[0;34m\u001b[0m\u001b[0m\n\u001b[1;32m      9\u001b[0m   \u001b[0;31m# 오디오를 추출하여 mp3 파일로 저장\u001b[0m\u001b[0;34m\u001b[0m\u001b[0;34m\u001b[0m\u001b[0m\n\u001b[0;32m---> 10\u001b[0;31m   \u001b[0mvideo\u001b[0m\u001b[0;34m.\u001b[0m\u001b[0maudio\u001b[0m\u001b[0;34m.\u001b[0m\u001b[0mwrite_audiofile\u001b[0m\u001b[0;34m(\u001b[0m\u001b[0maudio_file_path\u001b[0m\u001b[0;34m)\u001b[0m\u001b[0;34m\u001b[0m\u001b[0;34m\u001b[0m\u001b[0m\n\u001b[0m\u001b[1;32m     11\u001b[0m \u001b[0;34m\u001b[0m\u001b[0m\n\u001b[1;32m     12\u001b[0m \u001b[0mvideo_file\u001b[0m \u001b[0;34m=\u001b[0m \u001b[0;34m'/content/ROSÉ & Bruno Mars - APT. (Official Music Video).mp4'\u001b[0m  \u001b[0;31m# 변환하고 싶은 비디오 파일의 경로\u001b[0m\u001b[0;34m\u001b[0m\u001b[0;34m\u001b[0m\u001b[0m\n",
            "\u001b[0;31mAttributeError\u001b[0m: 'NoneType' object has no attribute 'write_audiofile'"
          ]
        }
      ]
    },
    {
      "cell_type": "code",
      "source": [
        "!pip install youtube_dl"
      ],
      "metadata": {
        "id": "u98m-Q1GDUqQ",
        "outputId": "ec453085-2af2-456f-d8ae-1ced05fb7ef7",
        "colab": {
          "base_uri": "https://localhost:8080/"
        }
      },
      "execution_count": 1,
      "outputs": [
        {
          "output_type": "stream",
          "name": "stdout",
          "text": [
            "Collecting youtube_dl\n",
            "  Downloading youtube_dl-2021.12.17-py2.py3-none-any.whl.metadata (1.5 kB)\n",
            "Downloading youtube_dl-2021.12.17-py2.py3-none-any.whl (1.9 MB)\n",
            "\u001b[2K   \u001b[90m━━━━━━━━━━━━━━━━━━━━━━━━━━━━━━━━━━━━━━━━\u001b[0m \u001b[32m1.9/1.9 MB\u001b[0m \u001b[31m10.5 MB/s\u001b[0m eta \u001b[36m0:00:00\u001b[0m\n",
            "\u001b[?25hInstalling collected packages: youtube_dl\n",
            "Successfully installed youtube_dl-2021.12.17\n"
          ]
        }
      ]
    },
    {
      "cell_type": "code",
      "source": [
        "!pip install --upgrade --force-reinstall \"git+https://github.com/ytdl-org/youtube-dl.git\""
      ],
      "metadata": {
        "id": "ju9ZnCuHFsvo",
        "outputId": "96eb2042-d533-453c-db4b-5cf627bd1e5a",
        "colab": {
          "base_uri": "https://localhost:8080/"
        }
      },
      "execution_count": 2,
      "outputs": [
        {
          "output_type": "stream",
          "name": "stdout",
          "text": [
            "Collecting git+https://github.com/ytdl-org/youtube-dl.git\n",
            "  Cloning https://github.com/ytdl-org/youtube-dl.git to /tmp/pip-req-build-cgrm5i_9\n",
            "  Running command git clone --filter=blob:none --quiet https://github.com/ytdl-org/youtube-dl.git /tmp/pip-req-build-cgrm5i_9\n",
            "  Resolved https://github.com/ytdl-org/youtube-dl.git to commit c5098961b04ce83f4615f2a846c84f803b072639\n",
            "  Preparing metadata (setup.py) ... \u001b[?25l\u001b[?25hdone\n",
            "Building wheels for collected packages: youtube_dl\n",
            "  Building wheel for youtube_dl (setup.py) ... \u001b[?25l\u001b[?25hdone\n",
            "  Created wheel for youtube_dl: filename=youtube_dl-2021.12.17-py2.py3-none-any.whl size=1969896 sha256=ecbcb46af4acc044557016120972b30f5d2fe06afba957b0a3b135a48b9b1035\n",
            "  Stored in directory: /tmp/pip-ephem-wheel-cache-056xo49e/wheels/64/8e/40/866e846163e3e4859bbe820ff8847ec97f4320864f1525aa9a\n",
            "Successfully built youtube_dl\n",
            "Installing collected packages: youtube_dl\n",
            "  Attempting uninstall: youtube_dl\n",
            "    Found existing installation: youtube-dl 2021.12.17\n",
            "    Uninstalling youtube-dl-2021.12.17:\n",
            "      Successfully uninstalled youtube-dl-2021.12.17\n",
            "Successfully installed youtube_dl-2021.12.17\n"
          ]
        }
      ]
    },
    {
      "cell_type": "code",
      "source": [
        "! youtube-dl -f \"best/best\" -ciw -o \"%(title)s.%(ext)s\" -v -x https://www.youtube.com/watch?v=ekr2nIex040"
      ],
      "metadata": {
        "id": "ZjQ7-lpX6eCA",
        "outputId": "1c72b640-6235-4e25-8ced-d77df72a753b",
        "colab": {
          "base_uri": "https://localhost:8080/"
        }
      },
      "execution_count": 7,
      "outputs": [
        {
          "output_type": "stream",
          "name": "stdout",
          "text": [
            "[debug] System config: []\n",
            "[debug] User config: []\n",
            "[debug] Custom config: []\n",
            "[debug] Command-line args: ['-f', 'best/best', '-ciw', '-o', '%(title)s.%(ext)s', '-v', '-x', 'https://www.youtube.com/watch?v=ekr2nIex040']\n",
            "[debug] Encodings: locale UTF-8, fs utf-8, out utf-8, pref UTF-8\n",
            "[debug] youtube-dl version 2021.12.17\n",
            "[debug] Python 3.10.12 (CPython x86_64 64bit) - Linux-6.1.85+-x86_64-with-glibc2.35 - OpenSSL 3.0.2 15 Mar 2022 - glibc 2.35\n",
            "[debug] exe versions: ffmpeg 4.4.2, ffprobe 4.4.2\n",
            "[debug] Proxy map: {'colab_language_server': '/usr/colab/bin/language_service'}\n",
            "[youtube] ekr2nIex040: Downloading webpage\n",
            "[debug] [youtube] Extracting signature function js_3bb1f723_106\n",
            "[youtube] ekr2nIex040: Downloading player 3bb1f723\n",
            "\u001b[0;33mWARNING:\u001b[0m [youtube] ekr2nIex040: Signature extraction failed: Some formats may be missing\n",
            "[debug] [youtube] Could not find JS function \"decodeURIComponent\"; please report this issue on https://github.com/ytdl-org/youtube-dl/issues , using the appropriate issue template. Make sure you are using the latest version; see  https://github.com/ytdl-org/youtube-dl/#user-content-installation  on how to update. Be sure to call youtube-dl with the --verbose option and include the complete output.\n",
            "[debug] [youtube] Extracting signature function js_3bb1f723_110\n",
            "\u001b[0;31mERROR:\u001b[0m No video formats found; please report this issue on https://github.com/ytdl-org/youtube-dl/issues , using the appropriate issue template. Make sure you are using the latest version; see  https://github.com/ytdl-org/youtube-dl/#user-content-installation  on how to update. Be sure to call youtube-dl with the --verbose option and include the complete output.\n",
            "Traceback (most recent call last):\n",
            "  File \"/usr/local/lib/python3.10/dist-packages/youtube_dl/YoutubeDL.py\", line 875, in wrapper\n",
            "    return func(self, *args, **kwargs)\n",
            "  File \"/usr/local/lib/python3.10/dist-packages/youtube_dl/YoutubeDL.py\", line 971, in __extract_info\n",
            "    ie_result = ie.extract(url)\n",
            "  File \"/usr/local/lib/python3.10/dist-packages/youtube_dl/extractor/common.py\", line 571, in extract\n",
            "    ie_result = self._real_extract(url)\n",
            "  File \"/usr/local/lib/python3.10/dist-packages/youtube_dl/extractor/youtube.py\", line 2250, in _real_extract\n",
            "    self._sort_formats(formats)\n",
            "  File \"/usr/local/lib/python3.10/dist-packages/youtube_dl/extractor/common.py\", line 1558, in _sort_formats\n",
            "    raise ExtractorError('No video formats found')\n",
            "youtube_dl.utils.ExtractorError: No video formats found; please report this issue on https://github.com/ytdl-org/youtube-dl/issues , using the appropriate issue template. Make sure you are using the latest version; see  https://github.com/ytdl-org/youtube-dl/#user-content-installation  on how to update. Be sure to call youtube-dl with the --verbose option and include the complete output.\n",
            "\n"
          ]
        }
      ]
    },
    {
      "cell_type": "code",
      "source": [
        "import youtube_dl"
      ],
      "metadata": {
        "id": "S40DxWJVDP1h"
      },
      "execution_count": 3,
      "outputs": []
    },
    {
      "cell_type": "code",
      "source": [
        "import os\n",
        "\n",
        "output_dir = './'\n",
        "download_path = os.path.join(output_dir, '%(id)s-%(title)s.%(ext)s')\n",
        "#download_path = './중식이-나는반딧불.mp3'"
      ],
      "metadata": {
        "id": "PzKxGw23EPir"
      },
      "execution_count": 4,
      "outputs": []
    },
    {
      "cell_type": "code",
      "source": [
        "ydl_opts = {\n",
        "            'format': 'bestvideo/best',  # 가장 좋은 화질로 선택(화질을 선택하여 다운로드 가능)\n",
        "            'outtmpl': download_path, # 다운로드 경로 설정\n",
        "            'writesubtitles': 'best', # 자막 다운로드(자막이 없는 경우 다운로드 X)\n",
        "            'writethumbnail': 'best',  # 영상 thumbnail 다운로드\n",
        "            'writeautomaticsub': True, # 자동 생성된 자막 다운로드\n",
        "            'subtitleslangs': 'en'  # 자막 언어가 영어인 경우(다른 언어로 변경 가능)\n",
        "        }"
      ],
      "metadata": {
        "id": "UdjpL_XEDqZg"
      },
      "execution_count": 8,
      "outputs": []
    },
    {
      "cell_type": "code",
      "source": [
        "youtube_dl.YoutubeDL(ydl_opts).download(['https://www.youtube.com/watch?v=ekr2nIex040'])"
      ],
      "metadata": {
        "id": "01fQQjJsDm-x",
        "outputId": "da1535ce-8a3d-4d26-b12d-9ae2c2b9159c",
        "colab": {
          "base_uri": "https://localhost:8080/",
          "height": 567
        }
      },
      "execution_count": 9,
      "outputs": [
        {
          "output_type": "stream",
          "name": "stdout",
          "text": [
            "[youtube] ekr2nIex040: Downloading webpage\n",
            "[youtube] ekr2nIex040: Downloading player 3bb1f723\n"
          ]
        },
        {
          "output_type": "stream",
          "name": "stderr",
          "text": [
            "WARNING: [youtube] ekr2nIex040: Signature extraction failed: Some formats may be missing\n",
            "ERROR: No video formats found; please report this issue on https://github.com/ytdl-org/youtube-dl/issues , using the appropriate issue template. Make sure you are using the latest version; see  https://github.com/ytdl-org/youtube-dl/#user-content-installation  on how to update. Be sure to call youtube-dl with the --verbose option and include the complete output.\n"
          ]
        },
        {
          "output_type": "error",
          "ename": "DownloadError",
          "evalue": "ERROR: No video formats found; please report this issue on https://github.com/ytdl-org/youtube-dl/issues , using the appropriate issue template. Make sure you are using the latest version; see  https://github.com/ytdl-org/youtube-dl/#user-content-installation  on how to update. Be sure to call youtube-dl with the --verbose option and include the complete output.",
          "traceback": [
            "\u001b[0;31m---------------------------------------------------------------------------\u001b[0m",
            "\u001b[0;31mExtractorError\u001b[0m                            Traceback (most recent call last)",
            "\u001b[0;32m/usr/local/lib/python3.10/dist-packages/youtube_dl/YoutubeDL.py\u001b[0m in \u001b[0;36mwrapper\u001b[0;34m(self, *args, **kwargs)\u001b[0m\n\u001b[1;32m    874\u001b[0m             \u001b[0;32mtry\u001b[0m\u001b[0;34m:\u001b[0m\u001b[0;34m\u001b[0m\u001b[0;34m\u001b[0m\u001b[0m\n\u001b[0;32m--> 875\u001b[0;31m                 \u001b[0;32mreturn\u001b[0m \u001b[0mfunc\u001b[0m\u001b[0;34m(\u001b[0m\u001b[0mself\u001b[0m\u001b[0;34m,\u001b[0m \u001b[0;34m*\u001b[0m\u001b[0margs\u001b[0m\u001b[0;34m,\u001b[0m \u001b[0;34m**\u001b[0m\u001b[0mkwargs\u001b[0m\u001b[0;34m)\u001b[0m\u001b[0;34m\u001b[0m\u001b[0;34m\u001b[0m\u001b[0m\n\u001b[0m\u001b[1;32m    876\u001b[0m             \u001b[0;32mexcept\u001b[0m \u001b[0mGeoRestrictedError\u001b[0m \u001b[0;32mas\u001b[0m \u001b[0me\u001b[0m\u001b[0;34m:\u001b[0m\u001b[0;34m\u001b[0m\u001b[0;34m\u001b[0m\u001b[0m\n",
            "\u001b[0;32m/usr/local/lib/python3.10/dist-packages/youtube_dl/YoutubeDL.py\u001b[0m in \u001b[0;36m__extract_info\u001b[0;34m(self, url, ie, download, extra_info, process)\u001b[0m\n\u001b[1;32m    970\u001b[0m \u001b[0;34m\u001b[0m\u001b[0m\n\u001b[0;32m--> 971\u001b[0;31m         \u001b[0mie_result\u001b[0m \u001b[0;34m=\u001b[0m \u001b[0mie\u001b[0m\u001b[0;34m.\u001b[0m\u001b[0mextract\u001b[0m\u001b[0;34m(\u001b[0m\u001b[0murl\u001b[0m\u001b[0;34m)\u001b[0m\u001b[0;34m\u001b[0m\u001b[0;34m\u001b[0m\u001b[0m\n\u001b[0m\u001b[1;32m    972\u001b[0m         \u001b[0;32mif\u001b[0m \u001b[0mie_result\u001b[0m \u001b[0;32mis\u001b[0m \u001b[0;32mNone\u001b[0m\u001b[0;34m:\u001b[0m  \u001b[0;31m# Finished already (backwards compatibility; listformats and friends should be moved here)\u001b[0m\u001b[0;34m\u001b[0m\u001b[0;34m\u001b[0m\u001b[0m\n",
            "\u001b[0;32m/usr/local/lib/python3.10/dist-packages/youtube_dl/extractor/common.py\u001b[0m in \u001b[0;36mextract\u001b[0;34m(self, url)\u001b[0m\n\u001b[1;32m    570\u001b[0m                     \u001b[0mself\u001b[0m\u001b[0;34m.\u001b[0m\u001b[0minitialize\u001b[0m\u001b[0;34m(\u001b[0m\u001b[0;34m)\u001b[0m\u001b[0;34m\u001b[0m\u001b[0;34m\u001b[0m\u001b[0m\n\u001b[0;32m--> 571\u001b[0;31m                     \u001b[0mie_result\u001b[0m \u001b[0;34m=\u001b[0m \u001b[0mself\u001b[0m\u001b[0;34m.\u001b[0m\u001b[0m_real_extract\u001b[0m\u001b[0;34m(\u001b[0m\u001b[0murl\u001b[0m\u001b[0;34m)\u001b[0m\u001b[0;34m\u001b[0m\u001b[0;34m\u001b[0m\u001b[0m\n\u001b[0m\u001b[1;32m    572\u001b[0m                     \u001b[0;32mif\u001b[0m \u001b[0mself\u001b[0m\u001b[0;34m.\u001b[0m\u001b[0m_x_forwarded_for_ip\u001b[0m\u001b[0;34m:\u001b[0m\u001b[0;34m\u001b[0m\u001b[0;34m\u001b[0m\u001b[0m\n",
            "\u001b[0;32m/usr/local/lib/python3.10/dist-packages/youtube_dl/extractor/youtube.py\u001b[0m in \u001b[0;36m_real_extract\u001b[0;34m(self, url)\u001b[0m\n\u001b[1;32m   2249\u001b[0m \u001b[0;34m\u001b[0m\u001b[0m\n\u001b[0;32m-> 2250\u001b[0;31m         \u001b[0mself\u001b[0m\u001b[0;34m.\u001b[0m\u001b[0m_sort_formats\u001b[0m\u001b[0;34m(\u001b[0m\u001b[0mformats\u001b[0m\u001b[0;34m)\u001b[0m\u001b[0;34m\u001b[0m\u001b[0;34m\u001b[0m\u001b[0m\n\u001b[0m\u001b[1;32m   2251\u001b[0m \u001b[0;34m\u001b[0m\u001b[0m\n",
            "\u001b[0;32m/usr/local/lib/python3.10/dist-packages/youtube_dl/extractor/common.py\u001b[0m in \u001b[0;36m_sort_formats\u001b[0;34m(self, formats, field_preference)\u001b[0m\n\u001b[1;32m   1557\u001b[0m         \u001b[0;32mif\u001b[0m \u001b[0;32mnot\u001b[0m \u001b[0mformats\u001b[0m\u001b[0;34m:\u001b[0m\u001b[0;34m\u001b[0m\u001b[0;34m\u001b[0m\u001b[0m\n\u001b[0;32m-> 1558\u001b[0;31m             \u001b[0;32mraise\u001b[0m \u001b[0mExtractorError\u001b[0m\u001b[0;34m(\u001b[0m\u001b[0;34m'No video formats found'\u001b[0m\u001b[0;34m)\u001b[0m\u001b[0;34m\u001b[0m\u001b[0;34m\u001b[0m\u001b[0m\n\u001b[0m\u001b[1;32m   1559\u001b[0m \u001b[0;34m\u001b[0m\u001b[0m\n",
            "\u001b[0;31mExtractorError\u001b[0m: No video formats found; please report this issue on https://github.com/ytdl-org/youtube-dl/issues , using the appropriate issue template. Make sure you are using the latest version; see  https://github.com/ytdl-org/youtube-dl/#user-content-installation  on how to update. Be sure to call youtube-dl with the --verbose option and include the complete output.",
            "\nDuring handling of the above exception, another exception occurred:\n",
            "\u001b[0;31mDownloadError\u001b[0m                             Traceback (most recent call last)",
            "\u001b[0;32m<ipython-input-9-d7c1bfba4411>\u001b[0m in \u001b[0;36m<cell line: 1>\u001b[0;34m()\u001b[0m\n\u001b[0;32m----> 1\u001b[0;31m \u001b[0myoutube_dl\u001b[0m\u001b[0;34m.\u001b[0m\u001b[0mYoutubeDL\u001b[0m\u001b[0;34m(\u001b[0m\u001b[0mydl_opts\u001b[0m\u001b[0;34m)\u001b[0m\u001b[0;34m.\u001b[0m\u001b[0mdownload\u001b[0m\u001b[0;34m(\u001b[0m\u001b[0;34m[\u001b[0m\u001b[0;34m'https://www.youtube.com/watch?v=ekr2nIex040'\u001b[0m\u001b[0;34m]\u001b[0m\u001b[0;34m)\u001b[0m\u001b[0;34m\u001b[0m\u001b[0;34m\u001b[0m\u001b[0m\n\u001b[0m",
            "\u001b[0;32m/usr/local/lib/python3.10/dist-packages/youtube_dl/YoutubeDL.py\u001b[0m in \u001b[0;36mdownload\u001b[0;34m(self, url_list)\u001b[0m\n\u001b[1;32m   2251\u001b[0m             \u001b[0;32mtry\u001b[0m\u001b[0;34m:\u001b[0m\u001b[0;34m\u001b[0m\u001b[0;34m\u001b[0m\u001b[0m\n\u001b[1;32m   2252\u001b[0m                 \u001b[0;31m# It also downloads the videos\u001b[0m\u001b[0;34m\u001b[0m\u001b[0;34m\u001b[0m\u001b[0m\n\u001b[0;32m-> 2253\u001b[0;31m                 res = self.extract_info(\n\u001b[0m\u001b[1;32m   2254\u001b[0m                     url, force_generic_extractor=self.params.get('force_generic_extractor', False))\n\u001b[1;32m   2255\u001b[0m             \u001b[0;32mexcept\u001b[0m \u001b[0mUnavailableVideoError\u001b[0m\u001b[0;34m:\u001b[0m\u001b[0;34m\u001b[0m\u001b[0;34m\u001b[0m\u001b[0m\n",
            "\u001b[0;32m/usr/local/lib/python3.10/dist-packages/youtube_dl/YoutubeDL.py\u001b[0m in \u001b[0;36mextract_info\u001b[0;34m(self, url, download, ie_key, extra_info, process, force_generic_extractor)\u001b[0m\n\u001b[1;32m    866\u001b[0m                                     'and will probably not work.')\n\u001b[1;32m    867\u001b[0m \u001b[0;34m\u001b[0m\u001b[0m\n\u001b[0;32m--> 868\u001b[0;31m             \u001b[0;32mreturn\u001b[0m \u001b[0mself\u001b[0m\u001b[0;34m.\u001b[0m\u001b[0m__extract_info\u001b[0m\u001b[0;34m(\u001b[0m\u001b[0murl\u001b[0m\u001b[0;34m,\u001b[0m \u001b[0mie\u001b[0m\u001b[0;34m,\u001b[0m \u001b[0mdownload\u001b[0m\u001b[0;34m,\u001b[0m \u001b[0mextra_info\u001b[0m\u001b[0;34m,\u001b[0m \u001b[0mprocess\u001b[0m\u001b[0;34m)\u001b[0m\u001b[0;34m\u001b[0m\u001b[0;34m\u001b[0m\u001b[0m\n\u001b[0m\u001b[1;32m    869\u001b[0m         \u001b[0;32melse\u001b[0m\u001b[0;34m:\u001b[0m\u001b[0;34m\u001b[0m\u001b[0;34m\u001b[0m\u001b[0m\n\u001b[1;32m    870\u001b[0m             \u001b[0mself\u001b[0m\u001b[0;34m.\u001b[0m\u001b[0mreport_error\u001b[0m\u001b[0;34m(\u001b[0m\u001b[0;34m'no suitable InfoExtractor for URL %s'\u001b[0m \u001b[0;34m%\u001b[0m \u001b[0murl\u001b[0m\u001b[0;34m)\u001b[0m\u001b[0;34m\u001b[0m\u001b[0;34m\u001b[0m\u001b[0m\n",
            "\u001b[0;32m/usr/local/lib/python3.10/dist-packages/youtube_dl/YoutubeDL.py\u001b[0m in \u001b[0;36mwrapper\u001b[0;34m(self, *args, **kwargs)\u001b[0m\n\u001b[1;32m    882\u001b[0m                 \u001b[0mself\u001b[0m\u001b[0;34m.\u001b[0m\u001b[0mreport_error\u001b[0m\u001b[0;34m(\u001b[0m\u001b[0mmsg\u001b[0m\u001b[0;34m)\u001b[0m\u001b[0;34m\u001b[0m\u001b[0;34m\u001b[0m\u001b[0m\n\u001b[1;32m    883\u001b[0m             \u001b[0;32mexcept\u001b[0m \u001b[0mExtractorError\u001b[0m \u001b[0;32mas\u001b[0m \u001b[0me\u001b[0m\u001b[0;34m:\u001b[0m  \u001b[0;31m# An error we somewhat expected\u001b[0m\u001b[0;34m\u001b[0m\u001b[0;34m\u001b[0m\u001b[0m\n\u001b[0;32m--> 884\u001b[0;31m                 \u001b[0mself\u001b[0m\u001b[0;34m.\u001b[0m\u001b[0mreport_error\u001b[0m\u001b[0;34m(\u001b[0m\u001b[0mcompat_str\u001b[0m\u001b[0;34m(\u001b[0m\u001b[0me\u001b[0m\u001b[0;34m)\u001b[0m\u001b[0;34m,\u001b[0m \u001b[0mtb\u001b[0m\u001b[0;34m=\u001b[0m\u001b[0me\u001b[0m\u001b[0;34m.\u001b[0m\u001b[0mformat_traceback\u001b[0m\u001b[0;34m(\u001b[0m\u001b[0;34m)\u001b[0m\u001b[0;34m)\u001b[0m\u001b[0;34m\u001b[0m\u001b[0;34m\u001b[0m\u001b[0m\n\u001b[0m\u001b[1;32m    885\u001b[0m             \u001b[0;32mexcept\u001b[0m \u001b[0mMaxDownloadsReached\u001b[0m\u001b[0;34m:\u001b[0m\u001b[0;34m\u001b[0m\u001b[0;34m\u001b[0m\u001b[0m\n\u001b[1;32m    886\u001b[0m                 \u001b[0;32mraise\u001b[0m\u001b[0;34m\u001b[0m\u001b[0;34m\u001b[0m\u001b[0m\n",
            "\u001b[0;32m/usr/local/lib/python3.10/dist-packages/youtube_dl/YoutubeDL.py\u001b[0m in \u001b[0;36mreport_error\u001b[0;34m(self, message, *args, **kwargs)\u001b[0m\n\u001b[1;32m    676\u001b[0m             \u001b[0m_msg_header\u001b[0m \u001b[0;34m=\u001b[0m \u001b[0;34m'ERROR:'\u001b[0m\u001b[0;34m\u001b[0m\u001b[0;34m\u001b[0m\u001b[0m\n\u001b[1;32m    677\u001b[0m         \u001b[0mkwargs\u001b[0m\u001b[0;34m[\u001b[0m\u001b[0;34m'message'\u001b[0m\u001b[0;34m]\u001b[0m \u001b[0;34m=\u001b[0m \u001b[0;34m'%s %s'\u001b[0m \u001b[0;34m%\u001b[0m \u001b[0;34m(\u001b[0m\u001b[0m_msg_header\u001b[0m\u001b[0;34m,\u001b[0m \u001b[0mmessage\u001b[0m\u001b[0;34m)\u001b[0m\u001b[0;34m\u001b[0m\u001b[0;34m\u001b[0m\u001b[0m\n\u001b[0;32m--> 678\u001b[0;31m         \u001b[0mself\u001b[0m\u001b[0;34m.\u001b[0m\u001b[0mtrouble\u001b[0m\u001b[0;34m(\u001b[0m\u001b[0;34m*\u001b[0m\u001b[0margs\u001b[0m\u001b[0;34m,\u001b[0m \u001b[0;34m**\u001b[0m\u001b[0mkwargs\u001b[0m\u001b[0;34m)\u001b[0m\u001b[0;34m\u001b[0m\u001b[0;34m\u001b[0m\u001b[0m\n\u001b[0m\u001b[1;32m    679\u001b[0m \u001b[0;34m\u001b[0m\u001b[0m\n\u001b[1;32m    680\u001b[0m     \u001b[0;32mdef\u001b[0m \u001b[0mreport_unscoped_cookies\u001b[0m\u001b[0;34m(\u001b[0m\u001b[0mself\u001b[0m\u001b[0;34m,\u001b[0m \u001b[0;34m*\u001b[0m\u001b[0margs\u001b[0m\u001b[0;34m,\u001b[0m \u001b[0;34m**\u001b[0m\u001b[0mkwargs\u001b[0m\u001b[0;34m)\u001b[0m\u001b[0;34m:\u001b[0m\u001b[0;34m\u001b[0m\u001b[0;34m\u001b[0m\u001b[0m\n",
            "\u001b[0;32m/usr/local/lib/python3.10/dist-packages/youtube_dl/YoutubeDL.py\u001b[0m in \u001b[0;36mtrouble\u001b[0;34m(self, *args, **kwargs)\u001b[0m\n\u001b[1;32m    639\u001b[0m             \u001b[0;32melse\u001b[0m\u001b[0;34m:\u001b[0m\u001b[0;34m\u001b[0m\u001b[0;34m\u001b[0m\u001b[0m\n\u001b[1;32m    640\u001b[0m                 \u001b[0mexc_info\u001b[0m \u001b[0;34m=\u001b[0m \u001b[0msys\u001b[0m\u001b[0;34m.\u001b[0m\u001b[0mexc_info\u001b[0m\u001b[0;34m(\u001b[0m\u001b[0;34m)\u001b[0m\u001b[0;34m\u001b[0m\u001b[0;34m\u001b[0m\u001b[0m\n\u001b[0;32m--> 641\u001b[0;31m             \u001b[0;32mraise\u001b[0m \u001b[0mDownloadError\u001b[0m\u001b[0;34m(\u001b[0m\u001b[0mmessage\u001b[0m\u001b[0;34m,\u001b[0m \u001b[0mexc_info\u001b[0m\u001b[0;34m)\u001b[0m\u001b[0;34m\u001b[0m\u001b[0;34m\u001b[0m\u001b[0m\n\u001b[0m\u001b[1;32m    642\u001b[0m         \u001b[0mself\u001b[0m\u001b[0;34m.\u001b[0m\u001b[0m_download_retcode\u001b[0m \u001b[0;34m=\u001b[0m \u001b[0;36m1\u001b[0m\u001b[0;34m\u001b[0m\u001b[0;34m\u001b[0m\u001b[0m\n\u001b[1;32m    643\u001b[0m \u001b[0;34m\u001b[0m\u001b[0m\n",
            "\u001b[0;31mDownloadError\u001b[0m: ERROR: No video formats found; please report this issue on https://github.com/ytdl-org/youtube-dl/issues , using the appropriate issue template. Make sure you are using the latest version; see  https://github.com/ytdl-org/youtube-dl/#user-content-installation  on how to update. Be sure to call youtube-dl with the --verbose option and include the complete output."
          ]
        }
      ]
    },
    {
      "cell_type": "code",
      "source": [
        "ydl_opts = {'extract_audio': True, 'format': 'bestaudio', 'outtmpl': '%(id)s-%(title)s.mp3'}"
      ],
      "metadata": {
        "id": "fhdIA6OPP8IU"
      },
      "execution_count": null,
      "outputs": []
    },
    {
      "cell_type": "code",
      "source": [
        "!youtube-dl -f \"bestaudio/best\" -ciw -o \"%(title)s.%(ext)s\" -v --extract-audio --audio-quality 0 --audio-format mp3 https://www.youtube.com/watch?v=Fz1cJ5XRI6I"
      ],
      "metadata": {
        "id": "XNklSmG_IO6o",
        "outputId": "986a9ff8-95a6-41b3-9344-d541d3ae0723",
        "colab": {
          "base_uri": "https://localhost:8080/"
        }
      },
      "execution_count": null,
      "outputs": [
        {
          "output_type": "stream",
          "name": "stdout",
          "text": [
            "[debug] System config: []\n",
            "[debug] User config: []\n",
            "[debug] Custom config: []\n",
            "[debug] Command-line args: ['-f', 'bestaudio/best', '-ciw', '-o', '%(title)s.%(ext)s', '-v', '--extract-audio', '--audio-quality', '0', '--audio-format', 'mp3', 'https://www.youtube.com/watch?v=Fz1cJ5XRI6I']\n",
            "[debug] Encodings: locale UTF-8, fs utf-8, out utf-8, pref UTF-8\n",
            "[debug] youtube-dl version 2021.12.17\n",
            "[debug] Python 3.10.12 (CPython x86_64 64bit) - Linux-6.1.85+-x86_64-with-glibc2.35 - OpenSSL 3.0.2 15 Mar 2022 - glibc 2.35\n",
            "[debug] exe versions: ffmpeg 4.4.2, ffprobe 4.4.2\n",
            "[debug] Proxy map: {'colab_language_server': '/usr/colab/bin/language_service'}\n",
            "[youtube] Fz1cJ5XRI6I: Downloading webpage\n",
            "[debug] [youtube] Extracting signature function js_62ccfae7_103\n",
            "[debug] [youtube] Decrypted nsig dXeP6lR5k52O_QsD0Rn => uRgrFTAbFRrKHg\n",
            "[debug] [youtube] Extracting signature function js_62ccfae7_107\n",
            "[debug] [youtube] Decrypted nsig fBSDX4cyzKG9u4dUeud => Drjfh_fP0rCdlg\n",
            "[debug] Invoking downloader on 'https://rr3---sn-5uaezny6.googlevideo.com/videoplayback?expire=1733731098&ei=uk5WZ-HcGOO6kucP77XJ8A4&ip=35.231.199.207&id=o-AJZao5WV0cQ_zvOwp5NWBGneYfVLM8ltACZagN1VWj2K&itag=251&source=youtube&requiressl=yes&xpc=EgVo2aDSNQ%3D%3D&met=1733709498%2C&mh=52&mm=31%2C26&mn=sn-5uaezny6%2Csn-a5meknd6&ms=au%2Conr&mv=m&mvi=3&pl=17&rms=au%2Cau&initcwndbps=9395000&bui=AQn3pFTg2MDCYhZHoLXy3L_MvV1ah9WBusC754Z-wczlzLPMiSrSAlUWs4jVTt9gd0aCfX9ab2qZM3jE&spc=qtApAdUbEXwXJEIjtFJWI-BYqXLUhl-ZkMkVXXmHEHFtIXUJJ1bIsos63A1QPYQ&vprv=1&svpuc=1&mime=audio%2Fwebm&ns=6ZPlt_k8eC9iJ0Ii-z2jOzsQ&rqh=1&gir=yes&clen=3933168&dur=214.041&lmt=1592655595290361&mt=1733709171&fvip=3&keepalive=yes&fexp=51326932%2C51335594%2C51347747%2C51355912&c=WEB&sefc=1&txp=5431432&n=Drjfh_fP0rCdlg&sparams=expire%2Cei%2Cip%2Cid%2Citag%2Csource%2Crequiressl%2Cxpc%2Cbui%2Cspc%2Cvprv%2Csvpuc%2Cmime%2Cns%2Crqh%2Cgir%2Cclen%2Cdur%2Clmt&lsparams=met%2Cmh%2Cmm%2Cmn%2Cms%2Cmv%2Cmvi%2Cpl%2Crms%2Cinitcwndbps&lsig=AGluJ3MwRQIgHgcnpGOPNtCljRBRL-X3ysE6ezneOW5puV61VfYXZ6ACIQDh3iIj5cjCzchuItmQTVyszRo5JrtDULJRTrYSzLf9Xw%3D%3D&sig=AJfQdSswRQIgK7Js7f6BWgEcvZMlARs_9wrFUZaOs84vqZKYNcgbw-sCIQDFLmKot9oCmYB7jxbq_AgMjKLRHnYdpcZihPH60gz_Cw%3D%3D'\n",
            "[dashsegments] Total fragments: 1\n",
            "[download] Destination: 중식이 (LUNCH)_나는 반딧불 [PurplePine Entertainment].webm\n",
            "[download] Got server HTTP error: HTTP Error 403: Forbidden. Retrying fragment 1 (attempt 1 of 10)...\n",
            "[download] Got server HTTP error: HTTP Error 403: Forbidden. Retrying fragment 1 (attempt 2 of 10)...\n",
            "[download] Got server HTTP error: HTTP Error 403: Forbidden. Retrying fragment 1 (attempt 3 of 10)...\n",
            "[download] Got server HTTP error: HTTP Error 403: Forbidden. Retrying fragment 1 (attempt 4 of 10)...\n",
            "[download] Got server HTTP error: HTTP Error 403: Forbidden. Retrying fragment 1 (attempt 5 of 10)...\n",
            "[download] Got server HTTP error: HTTP Error 403: Forbidden. Retrying fragment 1 (attempt 6 of 10)...\n",
            "[download] Got server HTTP error: HTTP Error 403: Forbidden. Retrying fragment 1 (attempt 7 of 10)...\n",
            "[download] Got server HTTP error: HTTP Error 403: Forbidden. Retrying fragment 1 (attempt 8 of 10)...\n",
            "[download] Got server HTTP error: HTTP Error 403: Forbidden. Retrying fragment 1 (attempt 9 of 10)...\n",
            "[download] Got server HTTP error: HTTP Error 403: Forbidden. Retrying fragment 1 (attempt 10 of 10)...\n",
            "\u001b[0;31mERROR:\u001b[0m giving up after 10 fragment retries\n",
            "  File \"/usr/local/bin/youtube-dl\", line 8, in <module>\n",
            "    sys.exit(main())\n",
            "  File \"/usr/local/lib/python3.10/dist-packages/youtube_dl/__init__.py\", line 477, in main\n",
            "    _real_main(argv)\n",
            "  File \"/usr/local/lib/python3.10/dist-packages/youtube_dl/__init__.py\", line 467, in _real_main\n",
            "    retcode = ydl.download(all_urls)\n",
            "  File \"/usr/local/lib/python3.10/dist-packages/youtube_dl/YoutubeDL.py\", line 2253, in download\n",
            "    res = self.extract_info(\n",
            "  File \"/usr/local/lib/python3.10/dist-packages/youtube_dl/YoutubeDL.py\", line 868, in extract_info\n",
            "    return self.__extract_info(url, ie, download, extra_info, process)\n",
            "  File \"/usr/local/lib/python3.10/dist-packages/youtube_dl/YoutubeDL.py\", line 875, in wrapper\n",
            "    return func(self, *args, **kwargs)\n",
            "  File \"/usr/local/lib/python3.10/dist-packages/youtube_dl/YoutubeDL.py\", line 982, in __extract_info\n",
            "    return self.process_ie_result(ie_result, download, extra_info)\n",
            "  File \"/usr/local/lib/python3.10/dist-packages/youtube_dl/YoutubeDL.py\", line 1016, in process_ie_result\n",
            "    return self.process_video_result(ie_result, download=download)\n",
            "  File \"/usr/local/lib/python3.10/dist-packages/youtube_dl/YoutubeDL.py\", line 1860, in process_video_result\n",
            "    self.process_info(new_info)\n",
            "  File \"/usr/local/lib/python3.10/dist-packages/youtube_dl/YoutubeDL.py\", line 138, in wrapper\n",
            "    return func(self, *args, **kwargs)\n",
            "  File \"/usr/local/lib/python3.10/dist-packages/youtube_dl/YoutubeDL.py\", line 2158, in process_info\n",
            "    success = dl(filename, info_dict)\n",
            "  File \"/usr/local/lib/python3.10/dist-packages/youtube_dl/YoutubeDL.py\", line 2088, in dl\n",
            "    return fd.download(name, new_info)\n",
            "  File \"/usr/local/lib/python3.10/dist-packages/youtube_dl/downloader/common.py\", line 380, in download\n",
            "    return self.real_download(filename, info_dict)\n",
            "  File \"/usr/local/lib/python3.10/dist-packages/youtube_dl/downloader/dash.py\", line 78, in real_download\n",
            "    self.report_error('giving up after %s fragment retries' % count)\n",
            "  File \"/usr/local/lib/python3.10/dist-packages/youtube_dl/downloader/common.py\", line 175, in report_error\n",
            "    self.ydl.report_error(*args, **kargs)\n",
            "  File \"/usr/local/lib/python3.10/dist-packages/youtube_dl/YoutubeDL.py\", line 678, in report_error\n",
            "    self.trouble(*args, **kwargs)\n",
            "  File \"/usr/local/lib/python3.10/dist-packages/youtube_dl/YoutubeDL.py\", line 630, in trouble\n",
            "    tb_data = traceback.format_list(traceback.extract_stack())\n",
            "\n"
          ]
        }
      ]
    },
    {
      "cell_type": "code",
      "source": [
        "! youtube-dl -x --audio-format mp3 https://www.youtube.com/watch?v=Fz1cJ5XRI6I"
      ],
      "metadata": {
        "id": "Gz0bkHoVHYBp",
        "outputId": "4156bdb2-c892-4147-905f-06a87730c025",
        "colab": {
          "base_uri": "https://localhost:8080/"
        }
      },
      "execution_count": null,
      "outputs": [
        {
          "output_type": "stream",
          "name": "stdout",
          "text": [
            "[youtube] Fz1cJ5XRI6I: Downloading webpage\n",
            "[dashsegments] Total fragments: 1\n",
            "[download] Destination: 중식이 (LUNCH)_나는 반딧불 [PurplePine Entertainment]-Fz1cJ5XRI6I.webm\n",
            "[download] Got server HTTP error: HTTP Error 403: Forbidden. Retrying fragment 1 (attempt 1 of 10)...\n",
            "[download] Got server HTTP error: HTTP Error 403: Forbidden. Retrying fragment 1 (attempt 2 of 10)...\n",
            "[download] Got server HTTP error: HTTP Error 403: Forbidden. Retrying fragment 1 (attempt 3 of 10)...\n",
            "[download] Got server HTTP error: HTTP Error 403: Forbidden. Retrying fragment 1 (attempt 4 of 10)...\n",
            "[download] Got server HTTP error: HTTP Error 403: Forbidden. Retrying fragment 1 (attempt 5 of 10)...\n",
            "[download] Got server HTTP error: HTTP Error 403: Forbidden. Retrying fragment 1 (attempt 6 of 10)...\n",
            "[download] Got server HTTP error: HTTP Error 403: Forbidden. Retrying fragment 1 (attempt 7 of 10)...\n",
            "[download] Got server HTTP error: HTTP Error 403: Forbidden. Retrying fragment 1 (attempt 8 of 10)...\n",
            "[download] Got server HTTP error: HTTP Error 403: Forbidden. Retrying fragment 1 (attempt 9 of 10)...\n",
            "[download] Got server HTTP error: HTTP Error 403: Forbidden. Retrying fragment 1 (attempt 10 of 10)...\n",
            "\u001b[0;31mERROR:\u001b[0m giving up after 10 fragment retries\n"
          ]
        }
      ]
    },
    {
      "cell_type": "code",
      "source": [],
      "metadata": {
        "id": "SlQUCl0FGLLZ"
      },
      "execution_count": null,
      "outputs": []
    },
    {
      "cell_type": "code",
      "source": [
        "!pip uninstall -y pytube"
      ],
      "metadata": {
        "colab": {
          "base_uri": "https://localhost:8080/"
        },
        "id": "mYcPhBCCRd3D",
        "outputId": "9429a179-9319-43b4-faa5-fad36f4e5d58"
      },
      "execution_count": null,
      "outputs": [
        {
          "output_type": "stream",
          "name": "stdout",
          "text": [
            "\u001b[33mWARNING: Skipping pytube as it is not installed.\u001b[0m\u001b[33m\n",
            "\u001b[0m"
          ]
        }
      ]
    },
    {
      "cell_type": "code",
      "source": [
        "!pip install pytubefix==6.7.0"
      ],
      "metadata": {
        "colab": {
          "base_uri": "https://localhost:8080/"
        },
        "id": "uqMvmm7lRfCi",
        "outputId": "e79463f9-986b-456d-c3d0-08198c4eeb1f"
      },
      "execution_count": null,
      "outputs": [
        {
          "output_type": "stream",
          "name": "stdout",
          "text": [
            "Collecting pytubefix==6.7.0\n",
            "  Downloading pytubefix-6.7.0-py3-none-any.whl.metadata (4.3 kB)\n",
            "Downloading pytubefix-6.7.0-py3-none-any.whl (73 kB)\n",
            "\u001b[?25l   \u001b[90m━━━━━━━━━━━━━━━━━━━━━━━━━━━━━━━━━━━━━━━━\u001b[0m \u001b[32m0.0/73.5 kB\u001b[0m \u001b[31m?\u001b[0m eta \u001b[36m-:--:--\u001b[0m\r\u001b[2K   \u001b[90m━━━━━━━━━━━━━━━━━━━━━━━━━━━━━━━━━━━━━━━━\u001b[0m \u001b[32m73.5/73.5 kB\u001b[0m \u001b[31m4.5 MB/s\u001b[0m eta \u001b[36m0:00:00\u001b[0m\n",
            "\u001b[?25hInstalling collected packages: pytubefix\n",
            "Successfully installed pytubefix-6.7.0\n"
          ]
        }
      ]
    },
    {
      "cell_type": "code",
      "source": [
        "from pytubefix import YouTube\n",
        "from pytubefix import Playlist\n",
        "from pytubefix.cli import on_progress"
      ],
      "metadata": {
        "id": "C8TwHibwQtA7"
      },
      "execution_count": null,
      "outputs": []
    },
    {
      "cell_type": "code",
      "source": [
        "PlayOne_url = \"https://www.youtube.com/watch?v=1u1UCZZCWcM&list=OLAK5uy_lFTlAqHXfxj43EXstz8wwQTspPi3ddlRo&index=2\"\n",
        "\n",
        "print(YouTube(PlayOne_url).author, YouTube(PlayOne_url).title, YouTube(PlayOne_url).views)"
      ],
      "metadata": {
        "id": "vNeIqC0xRxw9"
      },
      "execution_count": null,
      "outputs": []
    },
    {
      "cell_type": "code",
      "source": [
        "YouTube(PlayOne_url).streams.get_highest_resolution().download(\n",
        "        output_path=\"/content/drive/MyDrive/\", filename=\"김민기 - 봉우리.mp4\")"
      ],
      "metadata": {
        "id": "T6nnKbgtR2YQ"
      },
      "execution_count": null,
      "outputs": []
    },
    {
      "cell_type": "code",
      "source": [
        "! rm -rf ./*.mp3"
      ],
      "metadata": {
        "id": "VDABJ_5qvHhu"
      },
      "execution_count": null,
      "outputs": []
    },
    {
      "cell_type": "code",
      "source": [
        "Playlist_url = 'https://www.youtube.com/playlist?list=OLAK5uy_mFmT3mK0WaPwLosHC1SGCKu6PmAAwC2Nc'"
      ],
      "metadata": {
        "id": "0una1e_kY5QC"
      },
      "execution_count": null,
      "outputs": []
    },
    {
      "cell_type": "code",
      "source": [
        "pl = Playlist(Playlist_url)\n",
        "\n",
        "i=0\n",
        "for video in pl.videos:\n",
        "    i = i+1\n",
        "    ys = video.streams.get_audio_only()\n",
        "    ys.download(output_path=\"./\", filename=\"Erik_Satie-\"+\"_\".join(ys.title.split(' ')[1:]), mp3=True)"
      ],
      "metadata": {
        "id": "aMbJy0C_vQzk"
      },
      "execution_count": null,
      "outputs": []
    },
    {
      "cell_type": "code",
      "source": [
        "pl = Playlist(Playlist_url)\n",
        "\n",
        "i=0\n",
        "for video in pl.videos:\n",
        "    i = i+1\n",
        "    ys = video.streams.get_audio_only()\n",
        "    ys.download(output_path=\"./\", filename=\"Erik_Satie-Gymnopédie\"+str(i), mp3=True)"
      ],
      "metadata": {
        "id": "F_ZxbHwHY3u7"
      },
      "execution_count": null,
      "outputs": []
    },
    {
      "cell_type": "code",
      "source": [
        "yt = YouTube(PlayOne_url, on_progress_callback = on_progress)\n",
        "print(yt.title)\n",
        "\n",
        "ys = yt.streams.get_audio_only()\n",
        "ys.download(output_path=\"./\", filename=\"Erik_Satie-Gymnopédie2\", mp3=True)"
      ],
      "metadata": {
        "colab": {
          "base_uri": "https://localhost:8080/",
          "height": 53
        },
        "id": "ENqOPKABXkz3",
        "outputId": "bfe99028-adf2-47b7-b89d-dec2c9cdc34f"
      },
      "execution_count": null,
      "outputs": [
        {
          "output_type": "stream",
          "name": "stdout",
          "text": [
            "Gymnopédie No. 2\n"
          ]
        },
        {
          "output_type": "execute_result",
          "data": {
            "text/plain": [
              "'/content/Erik_Satie-Gymnopédie2.mp3'"
            ],
            "application/vnd.google.colaboratory.intrinsic+json": {
              "type": "string"
            }
          },
          "metadata": {},
          "execution_count": 49
        }
      ]
    },
    {
      "cell_type": "code",
      "source": [
        "YouTube(PlayOne_url).streams.filter(only_audio=True).all()[0].download(\n",
        "        output_path=\"./\", filename=\"Erik_Satie-Gymnopédie2\", mp3=True)"
      ],
      "metadata": {
        "colab": {
          "base_uri": "https://localhost:8080/",
          "height": 70
        },
        "id": "2IWKvUHCR3kj",
        "outputId": "575b5f9d-57b1-4ffb-e89d-faa8a011eccb"
      },
      "execution_count": null,
      "outputs": [
        {
          "output_type": "stream",
          "name": "stderr",
          "text": [
            "<ipython-input-20-42eafc52bb5c>:1: DeprecationWarning: Call to deprecated function all (This object can be treated as a list, all() is useless).\n",
            "  YouTube(test).streams.filter(only_audio=True).all()[0].download(\n"
          ]
        },
        {
          "output_type": "execute_result",
          "data": {
            "text/plain": [
              "'/content/Erik Satie - Gymnopédie2.mp3'"
            ],
            "application/vnd.google.colaboratory.intrinsic+json": {
              "type": "string"
            }
          },
          "metadata": {},
          "execution_count": 20
        }
      ]
    },
    {
      "cell_type": "code",
      "source": [
        "!pip install music_tag"
      ],
      "metadata": {
        "colab": {
          "base_uri": "https://localhost:8080/"
        },
        "id": "0xXkTlFBgNEP",
        "outputId": "15bb4f5c-9501-496f-a163-a3f1a68080ab"
      },
      "execution_count": 25,
      "outputs": [
        {
          "output_type": "stream",
          "name": "stdout",
          "text": [
            "Collecting music_tag\n",
            "  Downloading music-tag-0.4.3.tar.gz (23 kB)\n",
            "  Preparing metadata (setup.py) ... \u001b[?25l\u001b[?25hdone\n",
            "Collecting mutagen (from music_tag)\n",
            "  Downloading mutagen-1.47.0-py3-none-any.whl.metadata (1.7 kB)\n",
            "Downloading mutagen-1.47.0-py3-none-any.whl (194 kB)\n",
            "\u001b[2K   \u001b[90m━━━━━━━━━━━━━━━━━━━━━━━━━━━━━━━━━━━━━━━━\u001b[0m \u001b[32m194.4/194.4 kB\u001b[0m \u001b[31m5.0 MB/s\u001b[0m eta \u001b[36m0:00:00\u001b[0m\n",
            "\u001b[?25hBuilding wheels for collected packages: music_tag\n",
            "  Building wheel for music_tag (setup.py) ... \u001b[?25l\u001b[?25hdone\n",
            "  Created wheel for music_tag: filename=music_tag-0.4.3-py3-none-any.whl size=23134 sha256=c85be4655eddf5cdbce3df938035faaf651723ff874cf02ccbb1dd87e97cb7ad\n",
            "  Stored in directory: /root/.cache/pip/wheels/01/0f/13/47de578c4d6baa8a5ac3a708d6dffab11d7e75b93c1b26b3d6\n",
            "Successfully built music_tag\n",
            "Installing collected packages: mutagen, music_tag\n",
            "Successfully installed music_tag-0.4.3 mutagen-1.47.0\n"
          ]
        }
      ]
    },
    {
      "cell_type": "code",
      "source": [
        "import os\n",
        "import music_tag\n",
        "\n",
        "files = os.listdir('.')\n",
        "for file in files:\n",
        "  if not os.path.isdir(file):\n",
        "    f=music_tag.load_file(file)\n",
        "    #print(f.filename)\n",
        "    f['title'] = f.filename.split('-')[1].split('.')[0]\n",
        "    f['artist'] = f.filename.split('-')[0]\n",
        "    f.save()\n",
        "    #print(f['title'], f['artist'])#, f['tracktitle']"
      ],
      "metadata": {
        "id": "b3abnmJ2wpMf"
      },
      "execution_count": null,
      "outputs": []
    },
    {
      "cell_type": "code",
      "source": [
        "import zipfile\n",
        "\n",
        "with zipfile.ZipFile('Erik_Satie.zip', 'w') as zip_ref:\n",
        "  for file in files:\n",
        "    if not os.path.isdir(file):\n",
        "      zip_ref.write(file)"
      ],
      "metadata": {
        "id": "0mcdCUUeytoO"
      },
      "execution_count": null,
      "outputs": []
    },
    {
      "cell_type": "code",
      "source": [
        "import music_tag\n",
        "\n",
        "f = music_tag.load_file(\"/content/Erik_Satie-Gymnopédie3.mp3\")\n",
        "f.filename"
      ],
      "metadata": {
        "id": "wUDfpCkewkmk"
      },
      "execution_count": null,
      "outputs": []
    },
    {
      "cell_type": "code",
      "source": [
        "f.filename.split('-')[0].split('/'), f.filename.split('-')[1].split('.')"
      ],
      "metadata": {
        "colab": {
          "base_uri": "https://localhost:8080/"
        },
        "id": "Nx5xh3UQS2vY",
        "outputId": "bef8b416-6fc4-42c1-e5e1-b76907717d12"
      },
      "execution_count": null,
      "outputs": [
        {
          "output_type": "execute_result",
          "data": {
            "text/plain": [
              "(['', 'content', 'Erik_Satie'], ['Gymnopédie2', 'mp3'])"
            ]
          },
          "metadata": {},
          "execution_count": 51
        }
      ]
    },
    {
      "cell_type": "code",
      "source": [
        "f['title'] = f.filename.split('-')[1].split('.')[0]\n",
        "f['artist'] = f.filename.split('-')[0].split('/')[2]\n",
        "f.save(), f['title'], f['artist'], f['tracktitle']"
      ],
      "metadata": {
        "colab": {
          "base_uri": "https://localhost:8080/"
        },
        "id": "4p_XG-aSgS6d",
        "outputId": "5bed895b-ae0c-4f37-e2ff-43ede9e021f3"
      },
      "execution_count": null,
      "outputs": [
        {
          "output_type": "execute_result",
          "data": {
            "text/plain": [
              "(None,\n",
              " <MetadataItem: Gymnopédie3>,\n",
              " <MetadataItem: Erik_Satie>,\n",
              " <MetadataItem: Gymnopédie3>)"
            ]
          },
          "metadata": {},
          "execution_count": 78
        }
      ]
    },
    {
      "cell_type": "code",
      "source": [
        "art = f['artwork']"
      ],
      "metadata": {
        "colab": {
          "base_uri": "https://localhost:8080/"
        },
        "id": "IvjVtHgjUuVe",
        "outputId": "60f759cd-0b4e-4afb-eeb6-08ed2d4f26cd"
      },
      "execution_count": null,
      "outputs": [
        {
          "output_type": "stream",
          "name": "stderr",
          "text": [
            "/usr/local/lib/python3.10/dist-packages/ipykernel/ipkernel.py:283: DeprecationWarning: `should_run_async` will not call `transform_cell` automatically in the future. Please pass the result to `transformed_cell` argument and any exception that happen during thetransform in `preprocessing_exc_tuple` in IPython 7.17 and above.\n",
            "  and should_run_async(code)\n"
          ]
        }
      ]
    },
    {
      "cell_type": "code",
      "source": [
        "# set artwork\n",
        "with open('/content/channels4_profile.jpg', 'rb') as img_in:\n",
        "    f['artwork'] = img_in.read()\n",
        "with open('/content/channels4_profile.jpg', 'rb') as img_in:\n",
        "    f.append_tag('artwork', img_in.read())"
      ],
      "metadata": {
        "id": "7dSNGLmxhGGv"
      },
      "execution_count": null,
      "outputs": []
    },
    {
      "cell_type": "code",
      "source": [
        "f.get_artwork(), f.set_artwork()"
      ],
      "metadata": {
        "colab": {
          "base_uri": "https://localhost:8080/",
          "height": 141
        },
        "id": "2JEbBCofZhHL",
        "outputId": "ce65da76-0401-4bcd-9969-d6fbe3e60fd8"
      },
      "execution_count": null,
      "outputs": [
        {
          "output_type": "error",
          "ename": "AttributeError",
          "evalue": "'Mp4File' object has no attribute 'get_artwork'",
          "traceback": [
            "\u001b[0;31m---------------------------------------------------------------------------\u001b[0m",
            "\u001b[0;31mAttributeError\u001b[0m                            Traceback (most recent call last)",
            "\u001b[0;32m<ipython-input-65-f2c3df99c260>\u001b[0m in \u001b[0;36m<cell line: 1>\u001b[0;34m()\u001b[0m\n\u001b[0;32m----> 1\u001b[0;31m \u001b[0mf\u001b[0m\u001b[0;34m.\u001b[0m\u001b[0mget_artwork\u001b[0m\u001b[0;34m(\u001b[0m\u001b[0;34m)\u001b[0m\u001b[0;34m\u001b[0m\u001b[0;34m\u001b[0m\u001b[0m\n\u001b[0m",
            "\u001b[0;31mAttributeError\u001b[0m: 'Mp4File' object has no attribute 'get_artwork'"
          ]
        }
      ]
    },
    {
      "cell_type": "code",
      "source": [
        "# Note: `art` is a MetadataItem. Use ``art.value`` if there is\n",
        "#       only one image embeded in the file. This will raise a\n",
        "#       ValueError if there is more than one image. You can also\n",
        "#       use ``art.first``, or iterate through ``art.values``.\n",
        "\n",
        "art.first.mime  # -> 'image/jpeg'\n",
        "art.first.width  # -> 1280\n",
        "art.first.height  # -> 1280\n",
        "art.first.depth  # -> 24\n",
        "art.first.data  # -> b'... raw image data ...'\n",
        "\n",
        "art.first.mime , art.first.width , art.first.height , art.first.depth #, art.first.data, art.value"
      ],
      "metadata": {
        "colab": {
          "base_uri": "https://localhost:8080/"
        },
        "id": "jwLnxSzkVLCZ",
        "outputId": "d44bf6d1-df8f-4476-abb7-d5b318b3a740"
      },
      "execution_count": null,
      "outputs": [
        {
          "output_type": "execute_result",
          "data": {
            "text/plain": [
              "('image/jpeg', 160, 160, 24)"
            ]
          },
          "metadata": {},
          "execution_count": 62
        }
      ]
    },
    {
      "cell_type": "code",
      "source": [
        "# Make a thumbnail (requires Pillow)\n",
        "art.first.thumbnail([64, 64])  # -> pillow image\n",
        "art.first.raw_thumbnail([64, 64])  # -> b'... raw thumbnail data ...'"
      ],
      "metadata": {
        "id": "nlAp_mLNZdzP"
      },
      "execution_count": null,
      "outputs": []
    },
    {
      "cell_type": "code",
      "source": [
        "f.tag_map"
      ],
      "metadata": {
        "colab": {
          "base_uri": "https://localhost:8080/"
        },
        "id": "hNog6f0EZzYx",
        "outputId": "f85f4139-54bb-4358-db36-2d2a37bbc8f3"
      },
      "execution_count": null,
      "outputs": [
        {
          "output_type": "stream",
          "name": "stderr",
          "text": [
            "/usr/local/lib/python3.10/dist-packages/ipykernel/ipkernel.py:283: DeprecationWarning: `should_run_async` will not call `transform_cell` automatically in the future. Please pass the result to `transformed_cell` argument and any exception that happen during thetransform in `preprocessing_exc_tuple` in IPython 7.17 and above.\n",
            "  and should_run_async(code)\n"
          ]
        },
        {
          "output_type": "execute_result",
          "data": {
            "text/plain": [
              "{'tracktitle': TAG_MAP_ENTRY(getter='©nam', setter='©nam', remover=None, type=<class 'str'>, sanitizer=None),\n",
              " 'artist': TAG_MAP_ENTRY(getter='©ART', setter='©ART', remover=None, type=<class 'str'>, sanitizer=None),\n",
              " 'album': TAG_MAP_ENTRY(getter='©alb', setter='©alb', remover=None, type=<class 'str'>, sanitizer=None),\n",
              " 'albumartist': TAG_MAP_ENTRY(getter='aART', setter='aART', remover=None, type=<class 'str'>, sanitizer=None),\n",
              " 'composer': TAG_MAP_ENTRY(getter='©wrt', setter='©wrt', remover=None, type=<class 'str'>, sanitizer=None),\n",
              " 'tracknumber': TAG_MAP_ENTRY(getter=<function get_tracknum at 0x7a9942543f40>, setter=<function set_tracknum at 0x7a9942544040>, remover=None, type=<class 'int'>, sanitizer=None),\n",
              " 'totaltracks': TAG_MAP_ENTRY(getter=<function get_totaltracks at 0x7a99425440d0>, setter=<function set_totaltracks at 0x7a9942544160>, remover=None, type=<class 'int'>, sanitizer=None),\n",
              " 'discnumber': TAG_MAP_ENTRY(getter=<function get_discnum at 0x7a99425441f0>, setter=<function set_discnum at 0x7a9942544280>, remover=None, type=<class 'int'>, sanitizer=None),\n",
              " 'totaldiscs': TAG_MAP_ENTRY(getter=<function get_totaldiscs at 0x7a9942544310>, setter=<function set_totaldiscs at 0x7a99425443a0>, remover=None, type=<class 'int'>, sanitizer=None),\n",
              " 'genre': TAG_MAP_ENTRY(getter='©gen', setter='©gen', remover=None, type=<class 'str'>, sanitizer=None),\n",
              " 'year': TAG_MAP_ENTRY(getter='©day', setter='©day', remover=None, type=<class 'int'>, sanitizer=<function sanitize_year at 0x7a9942630ee0>),\n",
              " 'compilation': TAG_MAP_ENTRY(getter='cpil', setter='cpil', remover=None, type=<class 'bool'>, sanitizer=<function sanitize_bool at 0x7a9942631000>),\n",
              " 'lyrics': TAG_MAP_ENTRY(getter='©lyr', setter='©lyr', remover=None, type=<class 'str'>, sanitizer=None),\n",
              " 'isrc': TAG_MAP_ENTRY(getter=<function Mp4File.<lambda> at 0x7a9942544700>, setter=<function Mp4File.<lambda> at 0x7a9942544790>, remover='----:com.apple.iTunes:ISRC', type=<class 'str'>, sanitizer=None),\n",
              " 'comment': TAG_MAP_ENTRY(getter='©cmt', setter='©cmt', remover=None, type=<class 'str'>, sanitizer=None),\n",
              " 'artwork': TAG_MAP_ENTRY(getter=<function get_artwork at 0x7a9942544430>, setter=<function set_artwork at 0x7a99425444c0>, remover=None, type=<class 'music_tag.file.Artwork'>, sanitizer=None),\n",
              " '#bitrate': TAG_MAP_ENTRY(getter='bitrate', setter=<function setter_not_implemented at 0x7a9942630e50>, remover=None, type=<class 'int'>, sanitizer=None),\n",
              " '#codec': TAG_MAP_ENTRY(getter='codec', setter=<function setter_not_implemented at 0x7a9942630e50>, remover=None, type=<class 'str'>, sanitizer=None),\n",
              " '#length': TAG_MAP_ENTRY(getter='length', setter=<function setter_not_implemented at 0x7a9942630e50>, remover=None, type=<class 'float'>, sanitizer=None),\n",
              " '#channels': TAG_MAP_ENTRY(getter='channels', setter=<function setter_not_implemented at 0x7a9942630e50>, remover=None, type=<class 'int'>, sanitizer=None),\n",
              " '#bitspersample': TAG_MAP_ENTRY(getter='bits_per_sample', setter=<function setter_not_implemented at 0x7a9942630e50>, remover=None, type=<class 'int'>, sanitizer=None),\n",
              " '#samplerate': TAG_MAP_ENTRY(getter='sample_rate', setter=<function setter_not_implemented at 0x7a9942630e50>, remover=None, type=<class 'int'>, sanitizer=None)}"
            ]
          },
          "metadata": {},
          "execution_count": 66
        }
      ]
    }
  ]
}