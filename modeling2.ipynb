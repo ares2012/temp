{
  "nbformat": 4,
  "nbformat_minor": 0,
  "metadata": {
    "colab": {
      "provenance": []
    },
    "kernelspec": {
      "name": "python3",
      "display_name": "Python 3"
    },
    "language_info": {
      "name": "python"
    },
    "widgets": {
      "application/vnd.jupyter.widget-state+json": {
        "a279819a203d47498e4cfad1a7b6c9be": {
          "model_module": "@jupyter-widgets/controls",
          "model_name": "HBoxModel",
          "model_module_version": "1.5.0",
          "state": {
            "_dom_classes": [],
            "_model_module": "@jupyter-widgets/controls",
            "_model_module_version": "1.5.0",
            "_model_name": "HBoxModel",
            "_view_count": null,
            "_view_module": "@jupyter-widgets/controls",
            "_view_module_version": "1.5.0",
            "_view_name": "HBoxView",
            "box_style": "",
            "children": [
              "IPY_MODEL_79404b575b844615bc3d909a9a7157c7",
              "IPY_MODEL_fe403f6f20ca466297c131ec018d778d",
              "IPY_MODEL_92e165933c3c4c4d8e8883d739fb3efa"
            ],
            "layout": "IPY_MODEL_d769345ef7084bf6bf34117c28c7e6da"
          }
        },
        "79404b575b844615bc3d909a9a7157c7": {
          "model_module": "@jupyter-widgets/controls",
          "model_name": "HTMLModel",
          "model_module_version": "1.5.0",
          "state": {
            "_dom_classes": [],
            "_model_module": "@jupyter-widgets/controls",
            "_model_module_version": "1.5.0",
            "_model_name": "HTMLModel",
            "_view_count": null,
            "_view_module": "@jupyter-widgets/controls",
            "_view_module_version": "1.5.0",
            "_view_name": "HTMLView",
            "description": "",
            "description_tooltip": null,
            "layout": "IPY_MODEL_00c3cf3fa22d4c0492c1a03fe7a42ae3",
            "placeholder": "​",
            "style": "IPY_MODEL_298a58cc496e45a091c2b5665551597c",
            "value": "Batches: 100%"
          }
        },
        "fe403f6f20ca466297c131ec018d778d": {
          "model_module": "@jupyter-widgets/controls",
          "model_name": "FloatProgressModel",
          "model_module_version": "1.5.0",
          "state": {
            "_dom_classes": [],
            "_model_module": "@jupyter-widgets/controls",
            "_model_module_version": "1.5.0",
            "_model_name": "FloatProgressModel",
            "_view_count": null,
            "_view_module": "@jupyter-widgets/controls",
            "_view_module_version": "1.5.0",
            "_view_name": "ProgressView",
            "bar_style": "success",
            "description": "",
            "description_tooltip": null,
            "layout": "IPY_MODEL_85eaac4f43094a758598fcc3c3551fd9",
            "max": 12,
            "min": 0,
            "orientation": "horizontal",
            "style": "IPY_MODEL_ab7e140db6af40ecbcdc135d82c1d54e",
            "value": 12
          }
        },
        "92e165933c3c4c4d8e8883d739fb3efa": {
          "model_module": "@jupyter-widgets/controls",
          "model_name": "HTMLModel",
          "model_module_version": "1.5.0",
          "state": {
            "_dom_classes": [],
            "_model_module": "@jupyter-widgets/controls",
            "_model_module_version": "1.5.0",
            "_model_name": "HTMLModel",
            "_view_count": null,
            "_view_module": "@jupyter-widgets/controls",
            "_view_module_version": "1.5.0",
            "_view_name": "HTMLView",
            "description": "",
            "description_tooltip": null,
            "layout": "IPY_MODEL_c5f45f7c46fb4b0caead8c96b75b1a14",
            "placeholder": "​",
            "style": "IPY_MODEL_007b85ee59554d1d996482e2abf988d6",
            "value": " 12/12 [02:18&lt;00:00, 10.94s/it]"
          }
        },
        "d769345ef7084bf6bf34117c28c7e6da": {
          "model_module": "@jupyter-widgets/base",
          "model_name": "LayoutModel",
          "model_module_version": "1.2.0",
          "state": {
            "_model_module": "@jupyter-widgets/base",
            "_model_module_version": "1.2.0",
            "_model_name": "LayoutModel",
            "_view_count": null,
            "_view_module": "@jupyter-widgets/base",
            "_view_module_version": "1.2.0",
            "_view_name": "LayoutView",
            "align_content": null,
            "align_items": null,
            "align_self": null,
            "border": null,
            "bottom": null,
            "display": null,
            "flex": null,
            "flex_flow": null,
            "grid_area": null,
            "grid_auto_columns": null,
            "grid_auto_flow": null,
            "grid_auto_rows": null,
            "grid_column": null,
            "grid_gap": null,
            "grid_row": null,
            "grid_template_areas": null,
            "grid_template_columns": null,
            "grid_template_rows": null,
            "height": null,
            "justify_content": null,
            "justify_items": null,
            "left": null,
            "margin": null,
            "max_height": null,
            "max_width": null,
            "min_height": null,
            "min_width": null,
            "object_fit": null,
            "object_position": null,
            "order": null,
            "overflow": null,
            "overflow_x": null,
            "overflow_y": null,
            "padding": null,
            "right": null,
            "top": null,
            "visibility": null,
            "width": null
          }
        },
        "00c3cf3fa22d4c0492c1a03fe7a42ae3": {
          "model_module": "@jupyter-widgets/base",
          "model_name": "LayoutModel",
          "model_module_version": "1.2.0",
          "state": {
            "_model_module": "@jupyter-widgets/base",
            "_model_module_version": "1.2.0",
            "_model_name": "LayoutModel",
            "_view_count": null,
            "_view_module": "@jupyter-widgets/base",
            "_view_module_version": "1.2.0",
            "_view_name": "LayoutView",
            "align_content": null,
            "align_items": null,
            "align_self": null,
            "border": null,
            "bottom": null,
            "display": null,
            "flex": null,
            "flex_flow": null,
            "grid_area": null,
            "grid_auto_columns": null,
            "grid_auto_flow": null,
            "grid_auto_rows": null,
            "grid_column": null,
            "grid_gap": null,
            "grid_row": null,
            "grid_template_areas": null,
            "grid_template_columns": null,
            "grid_template_rows": null,
            "height": null,
            "justify_content": null,
            "justify_items": null,
            "left": null,
            "margin": null,
            "max_height": null,
            "max_width": null,
            "min_height": null,
            "min_width": null,
            "object_fit": null,
            "object_position": null,
            "order": null,
            "overflow": null,
            "overflow_x": null,
            "overflow_y": null,
            "padding": null,
            "right": null,
            "top": null,
            "visibility": null,
            "width": null
          }
        },
        "298a58cc496e45a091c2b5665551597c": {
          "model_module": "@jupyter-widgets/controls",
          "model_name": "DescriptionStyleModel",
          "model_module_version": "1.5.0",
          "state": {
            "_model_module": "@jupyter-widgets/controls",
            "_model_module_version": "1.5.0",
            "_model_name": "DescriptionStyleModel",
            "_view_count": null,
            "_view_module": "@jupyter-widgets/base",
            "_view_module_version": "1.2.0",
            "_view_name": "StyleView",
            "description_width": ""
          }
        },
        "85eaac4f43094a758598fcc3c3551fd9": {
          "model_module": "@jupyter-widgets/base",
          "model_name": "LayoutModel",
          "model_module_version": "1.2.0",
          "state": {
            "_model_module": "@jupyter-widgets/base",
            "_model_module_version": "1.2.0",
            "_model_name": "LayoutModel",
            "_view_count": null,
            "_view_module": "@jupyter-widgets/base",
            "_view_module_version": "1.2.0",
            "_view_name": "LayoutView",
            "align_content": null,
            "align_items": null,
            "align_self": null,
            "border": null,
            "bottom": null,
            "display": null,
            "flex": null,
            "flex_flow": null,
            "grid_area": null,
            "grid_auto_columns": null,
            "grid_auto_flow": null,
            "grid_auto_rows": null,
            "grid_column": null,
            "grid_gap": null,
            "grid_row": null,
            "grid_template_areas": null,
            "grid_template_columns": null,
            "grid_template_rows": null,
            "height": null,
            "justify_content": null,
            "justify_items": null,
            "left": null,
            "margin": null,
            "max_height": null,
            "max_width": null,
            "min_height": null,
            "min_width": null,
            "object_fit": null,
            "object_position": null,
            "order": null,
            "overflow": null,
            "overflow_x": null,
            "overflow_y": null,
            "padding": null,
            "right": null,
            "top": null,
            "visibility": null,
            "width": null
          }
        },
        "ab7e140db6af40ecbcdc135d82c1d54e": {
          "model_module": "@jupyter-widgets/controls",
          "model_name": "ProgressStyleModel",
          "model_module_version": "1.5.0",
          "state": {
            "_model_module": "@jupyter-widgets/controls",
            "_model_module_version": "1.5.0",
            "_model_name": "ProgressStyleModel",
            "_view_count": null,
            "_view_module": "@jupyter-widgets/base",
            "_view_module_version": "1.2.0",
            "_view_name": "StyleView",
            "bar_color": null,
            "description_width": ""
          }
        },
        "c5f45f7c46fb4b0caead8c96b75b1a14": {
          "model_module": "@jupyter-widgets/base",
          "model_name": "LayoutModel",
          "model_module_version": "1.2.0",
          "state": {
            "_model_module": "@jupyter-widgets/base",
            "_model_module_version": "1.2.0",
            "_model_name": "LayoutModel",
            "_view_count": null,
            "_view_module": "@jupyter-widgets/base",
            "_view_module_version": "1.2.0",
            "_view_name": "LayoutView",
            "align_content": null,
            "align_items": null,
            "align_self": null,
            "border": null,
            "bottom": null,
            "display": null,
            "flex": null,
            "flex_flow": null,
            "grid_area": null,
            "grid_auto_columns": null,
            "grid_auto_flow": null,
            "grid_auto_rows": null,
            "grid_column": null,
            "grid_gap": null,
            "grid_row": null,
            "grid_template_areas": null,
            "grid_template_columns": null,
            "grid_template_rows": null,
            "height": null,
            "justify_content": null,
            "justify_items": null,
            "left": null,
            "margin": null,
            "max_height": null,
            "max_width": null,
            "min_height": null,
            "min_width": null,
            "object_fit": null,
            "object_position": null,
            "order": null,
            "overflow": null,
            "overflow_x": null,
            "overflow_y": null,
            "padding": null,
            "right": null,
            "top": null,
            "visibility": null,
            "width": null
          }
        },
        "007b85ee59554d1d996482e2abf988d6": {
          "model_module": "@jupyter-widgets/controls",
          "model_name": "DescriptionStyleModel",
          "model_module_version": "1.5.0",
          "state": {
            "_model_module": "@jupyter-widgets/controls",
            "_model_module_version": "1.5.0",
            "_model_name": "DescriptionStyleModel",
            "_view_count": null,
            "_view_module": "@jupyter-widgets/base",
            "_view_module_version": "1.2.0",
            "_view_name": "StyleView",
            "description_width": ""
          }
        }
      }
    }
  },
  "cells": [
    {
      "cell_type": "markdown",
      "source": [
        "<a target=\"_blank\" href=\"https://colab.research.google.com/github/ares2012/temp/blob/master/Open_in_Colab.ipynb\">\n",
        "  <img src=\"https://colab.research.google.com/assets/colab-badge.svg\" alt=\"Open In Colab\"/>\n",
        "</a>"
      ],
      "metadata": {
        "id": "v67O-Un0eO8K"
      }
    },
    {
      "cell_type": "markdown",
      "source": [
        "https://openincolab.com"
      ],
      "metadata": {
        "id": "IiMm0x1AcLPK"
      }
    },
    {
      "cell_type": "code",
      "source": [
        "from google.colab import drive\n",
        "drive.mount('/content/drive')"
      ],
      "metadata": {
        "id": "6sxvfkzdRXln"
      },
      "execution_count": null,
      "outputs": []
    },
    {
      "cell_type": "code",
      "source": [
        "# Upload ipynb\n",
        "from google.colab import files\n",
        "uploaded = files.upload()"
      ],
      "metadata": {
        "id": "5un1Xi3eyJZP",
        "outputId": "dce61875-b291-4690-ffeb-ab4582442fb2",
        "colab": {
          "base_uri": "https://localhost:8080/",
          "height": 77
        }
      },
      "execution_count": 6,
      "outputs": [
        {
          "output_type": "display_data",
          "data": {
            "text/plain": [
              "<IPython.core.display.HTML object>"
            ],
            "text/html": [
              "\n",
              "     <input type=\"file\" id=\"files-e2c4b35f-6e4c-44d8-9784-0ee48385db11\" name=\"files[]\" multiple disabled\n",
              "        style=\"border:none\" />\n",
              "     <output id=\"result-e2c4b35f-6e4c-44d8-9784-0ee48385db11\">\n",
              "      Upload widget is only available when the cell has been executed in the\n",
              "      current browser session. Please rerun this cell to enable.\n",
              "      </output>\n",
              "      <script>// Copyright 2017 Google LLC\n",
              "//\n",
              "// Licensed under the Apache License, Version 2.0 (the \"License\");\n",
              "// you may not use this file except in compliance with the License.\n",
              "// You may obtain a copy of the License at\n",
              "//\n",
              "//      http://www.apache.org/licenses/LICENSE-2.0\n",
              "//\n",
              "// Unless required by applicable law or agreed to in writing, software\n",
              "// distributed under the License is distributed on an \"AS IS\" BASIS,\n",
              "// WITHOUT WARRANTIES OR CONDITIONS OF ANY KIND, either express or implied.\n",
              "// See the License for the specific language governing permissions and\n",
              "// limitations under the License.\n",
              "\n",
              "/**\n",
              " * @fileoverview Helpers for google.colab Python module.\n",
              " */\n",
              "(function(scope) {\n",
              "function span(text, styleAttributes = {}) {\n",
              "  const element = document.createElement('span');\n",
              "  element.textContent = text;\n",
              "  for (const key of Object.keys(styleAttributes)) {\n",
              "    element.style[key] = styleAttributes[key];\n",
              "  }\n",
              "  return element;\n",
              "}\n",
              "\n",
              "// Max number of bytes which will be uploaded at a time.\n",
              "const MAX_PAYLOAD_SIZE = 100 * 1024;\n",
              "\n",
              "function _uploadFiles(inputId, outputId) {\n",
              "  const steps = uploadFilesStep(inputId, outputId);\n",
              "  const outputElement = document.getElementById(outputId);\n",
              "  // Cache steps on the outputElement to make it available for the next call\n",
              "  // to uploadFilesContinue from Python.\n",
              "  outputElement.steps = steps;\n",
              "\n",
              "  return _uploadFilesContinue(outputId);\n",
              "}\n",
              "\n",
              "// This is roughly an async generator (not supported in the browser yet),\n",
              "// where there are multiple asynchronous steps and the Python side is going\n",
              "// to poll for completion of each step.\n",
              "// This uses a Promise to block the python side on completion of each step,\n",
              "// then passes the result of the previous step as the input to the next step.\n",
              "function _uploadFilesContinue(outputId) {\n",
              "  const outputElement = document.getElementById(outputId);\n",
              "  const steps = outputElement.steps;\n",
              "\n",
              "  const next = steps.next(outputElement.lastPromiseValue);\n",
              "  return Promise.resolve(next.value.promise).then((value) => {\n",
              "    // Cache the last promise value to make it available to the next\n",
              "    // step of the generator.\n",
              "    outputElement.lastPromiseValue = value;\n",
              "    return next.value.response;\n",
              "  });\n",
              "}\n",
              "\n",
              "/**\n",
              " * Generator function which is called between each async step of the upload\n",
              " * process.\n",
              " * @param {string} inputId Element ID of the input file picker element.\n",
              " * @param {string} outputId Element ID of the output display.\n",
              " * @return {!Iterable<!Object>} Iterable of next steps.\n",
              " */\n",
              "function* uploadFilesStep(inputId, outputId) {\n",
              "  const inputElement = document.getElementById(inputId);\n",
              "  inputElement.disabled = false;\n",
              "\n",
              "  const outputElement = document.getElementById(outputId);\n",
              "  outputElement.innerHTML = '';\n",
              "\n",
              "  const pickedPromise = new Promise((resolve) => {\n",
              "    inputElement.addEventListener('change', (e) => {\n",
              "      resolve(e.target.files);\n",
              "    });\n",
              "  });\n",
              "\n",
              "  const cancel = document.createElement('button');\n",
              "  inputElement.parentElement.appendChild(cancel);\n",
              "  cancel.textContent = 'Cancel upload';\n",
              "  const cancelPromise = new Promise((resolve) => {\n",
              "    cancel.onclick = () => {\n",
              "      resolve(null);\n",
              "    };\n",
              "  });\n",
              "\n",
              "  // Wait for the user to pick the files.\n",
              "  const files = yield {\n",
              "    promise: Promise.race([pickedPromise, cancelPromise]),\n",
              "    response: {\n",
              "      action: 'starting',\n",
              "    }\n",
              "  };\n",
              "\n",
              "  cancel.remove();\n",
              "\n",
              "  // Disable the input element since further picks are not allowed.\n",
              "  inputElement.disabled = true;\n",
              "\n",
              "  if (!files) {\n",
              "    return {\n",
              "      response: {\n",
              "        action: 'complete',\n",
              "      }\n",
              "    };\n",
              "  }\n",
              "\n",
              "  for (const file of files) {\n",
              "    const li = document.createElement('li');\n",
              "    li.append(span(file.name, {fontWeight: 'bold'}));\n",
              "    li.append(span(\n",
              "        `(${file.type || 'n/a'}) - ${file.size} bytes, ` +\n",
              "        `last modified: ${\n",
              "            file.lastModifiedDate ? file.lastModifiedDate.toLocaleDateString() :\n",
              "                                    'n/a'} - `));\n",
              "    const percent = span('0% done');\n",
              "    li.appendChild(percent);\n",
              "\n",
              "    outputElement.appendChild(li);\n",
              "\n",
              "    const fileDataPromise = new Promise((resolve) => {\n",
              "      const reader = new FileReader();\n",
              "      reader.onload = (e) => {\n",
              "        resolve(e.target.result);\n",
              "      };\n",
              "      reader.readAsArrayBuffer(file);\n",
              "    });\n",
              "    // Wait for the data to be ready.\n",
              "    let fileData = yield {\n",
              "      promise: fileDataPromise,\n",
              "      response: {\n",
              "        action: 'continue',\n",
              "      }\n",
              "    };\n",
              "\n",
              "    // Use a chunked sending to avoid message size limits. See b/62115660.\n",
              "    let position = 0;\n",
              "    do {\n",
              "      const length = Math.min(fileData.byteLength - position, MAX_PAYLOAD_SIZE);\n",
              "      const chunk = new Uint8Array(fileData, position, length);\n",
              "      position += length;\n",
              "\n",
              "      const base64 = btoa(String.fromCharCode.apply(null, chunk));\n",
              "      yield {\n",
              "        response: {\n",
              "          action: 'append',\n",
              "          file: file.name,\n",
              "          data: base64,\n",
              "        },\n",
              "      };\n",
              "\n",
              "      let percentDone = fileData.byteLength === 0 ?\n",
              "          100 :\n",
              "          Math.round((position / fileData.byteLength) * 100);\n",
              "      percent.textContent = `${percentDone}% done`;\n",
              "\n",
              "    } while (position < fileData.byteLength);\n",
              "  }\n",
              "\n",
              "  // All done.\n",
              "  yield {\n",
              "    response: {\n",
              "      action: 'complete',\n",
              "    }\n",
              "  };\n",
              "}\n",
              "\n",
              "scope.google = scope.google || {};\n",
              "scope.google.colab = scope.google.colab || {};\n",
              "scope.google.colab._files = {\n",
              "  _uploadFiles,\n",
              "  _uploadFilesContinue,\n",
              "};\n",
              "})(self);\n",
              "</script> "
            ]
          },
          "metadata": {}
        },
        {
          "output_type": "stream",
          "name": "stdout",
          "text": [
            "Saving NewClob.csv to NewClob.csv\n"
          ]
        }
      ]
    },
    {
      "cell_type": "code",
      "source": [
        "# -*- coding: utf-8 -*-\n",
        "import matplotlib.pyplot as plt\n",
        "import matplotlib as mpl\n",
        "from matplotlib import rc\n",
        "import platform\n",
        "\n",
        "# 한글 폰트 설정\n",
        "if platform.system() == 'Windows':\n",
        "    fontprop = 'Malgun Gothic'\n",
        "    rc('font', family=fontprop)  # Windows의 경우\n",
        "elif platform.system() == 'Darwin':  # macOS\n",
        "    rc('font', family='AppleGothic')\n",
        "else:  # Linux\n",
        "    rc('font', family='NanumGothic')\n",
        "\n",
        "\n",
        "import pandas as pd\n",
        "import numpy as np\n",
        "\n",
        "f0='New_Clob.csv'; f3='summary_kw_clob2.csv'\n",
        "df0 = pd.read_csv(f0); df3 = pd.read_csv(f3)\n",
        "#print(df0.index, df3.index)  # Print the indices of both DataFrames\n",
        "\n",
        "\n",
        "merged_df = df0.join(df3, how='inner')\n",
        "#print(merged_df)\n",
        "\n",
        "filtered_df = merged_df[merged_df['news_importance'] >= 4]\n",
        "#print(filtered_df.keywords, filtered_df.CONTENTS, filtered_df.summary, filtered_df.keyword_reason, filtered_df.importance_reason)  # Print the filtered DataFrame\n",
        "#print(filtered_df)"
      ],
      "metadata": {
        "id": "kgTMqykzx9B2"
      },
      "execution_count": 10,
      "outputs": []
    },
    {
      "cell_type": "code",
      "source": [
        "!pip install rank_bm25 squarify --quiet --upgrade"
      ],
      "metadata": {
        "id": "2rK__ZF0zbq4"
      },
      "execution_count": 13,
      "outputs": []
    },
    {
      "cell_type": "code",
      "source": [
        "from rank_bm25 import BM25Okapi\n",
        "\n",
        "# 문서 데이터\n",
        "#documents = filtered_df['CONTENTS'].tolist()\n",
        "documents = merged_df['CONTENTS'].tolist()\n",
        "\n",
        "# 문서를 토큰화\n",
        "def tokenizer(sent):\n",
        "  return sent.split(\" \")\n",
        "tokenized_documents = [tokenizer(str(doc)) for doc in documents]\n",
        "\n",
        "# BM25 모델 생성\n",
        "bm25 = BM25Okapi(tokenized_documents)\n",
        "\n",
        "# 쿼리\n",
        "query = \"니켈 공급망\"\n",
        "tokenized_query = tokenizer(query)\n",
        "\n",
        "# 각 문서와 쿼리 간의 BM25 점수 계산\n",
        "scores = bm25.get_scores(tokenized_query)\n",
        "\n",
        "'''\n",
        "# 결과 출력\n",
        "for i, score in enumerate(scores):\n",
        "    print(f\"Document {i + 1}: BM25 Score = {score:.4f}\")\n",
        "'''\n",
        "\n",
        "print(bm25.get_top_n(tokenized_query, documents, n=2))\n",
        "\n",
        "# BM25 점수를 merged_df에 추가\n",
        "merged_df['bm25_score'] = scores\n",
        "# BM25 점수를 기준으로 내림차순 정렬\n",
        "sorted_df = merged_df.sort_values(by='bm25_score', ascending=False)\n",
        "\n",
        "\n",
        "import squarify\n",
        "\n",
        "# BM25 점수를 기준으로 상위 10개의 키워드와 점수를 딕셔너리로 생성\n",
        "top_10 = sorted_df.nlargest(10, 'bm25_score')\n",
        "top_10['keywords'] = top_10['keywords'].apply(lambda x: ','.join([x.split(',')[i] + ('\\n' if (i + 1) % 3 == 0 else '') for i in range(len(x.split(',')))]))\n",
        "#top_10['keywords'] = top_10['keywords'].apply(lambda x: '\\n'.join([x[i:i+20] for i in range(0, len(x), 20)]))  # 20자 단위로 줄바꿈\n",
        "sorted_twos = list(zip(top_10['keywords'], top_10['bm25_score']))\n",
        "sorted_dict = dict(sorted_twos)\n",
        "\n",
        "plt.figure(figsize=(12, 10))\n",
        "\n",
        "# 빈도값을 0~1까지 값을 갖도록 min-max 표준화\n",
        "norm = mpl.colors.Normalize(vmin=min(sorted_dict.values()),\n",
        "                            vmax=max(sorted_dict.values()))\n",
        "\n",
        "# 정규화된 값을 matplotlib의 cm(color map)에서 Blue 에 적용\n",
        "colors = [mpl.cm.Blues(norm(value)) for value in sorted_dict.values()]\n",
        "\n",
        "# squarify 플랏생성(label 단어, 박스 크기는 빈도, 색깔르 cm.Blue, 투명도는 30%\n",
        "squarify.plot(label=sorted_dict.keys(),\n",
        "              sizes=sorted_dict.values(),\n",
        "              color=colors,\n",
        "              alpha=.7)\n",
        "#plt.show()\n",
        "\n",
        "\n"
      ],
      "metadata": {
        "collapsed": true,
        "id": "343LFxabzaPB",
        "outputId": "d21a65df-7618-4a73-9279-2f0f23f2085d",
        "colab": {
          "base_uri": "https://localhost:8080/",
          "height": 1000
        }
      },
      "execution_count": 14,
      "outputs": [
        {
          "output_type": "stream",
          "name": "stdout",
          "text": [
            "['세계 최대 규모의 광산업체인 BHP가 니켈 가격 급락과 인도네시아의 생산 급증에 따른 전 세계적인 공급 과잉으로 인해 올해 10월부터 니켈 웨스트(Nickel West) 사업을 중단하기로 결정했다. 해당 사업에는 퀸나나 정련소와 칼쿠를리 제련소, 마운트 키이쓰와 라인스터 광산, 웨스트 머스그레이브(West Musgrave) 개발이 포함된다. 올해 초 시장에 니켈 가격이 급락함에 따라 니켈 웨스트 사업부를 폐쇄하는 것을 고려한다고 밝혔던 BHP는 2027년 2월까지 니켈 웨스트와 웨스트 머스그레이브 프로젝트에 영향을 미치는 결정을 재검토할 것이라고 밝혔다. 제랄딘 슬래터리(Geraldine Slattery) BHP 호주 사장은 성명을 통해 호주에서의 다른 니켈 기업들과 마찬가지로 우리는 니켈의 세계적 과잉 공급으로 인한 상당한 경제적 어려움을 극복하지 못했다라고 말했다. BHP는 해당 사업부의 2,500명의 직원에게 회사의 다른 사업부로의 재배치 기회나 해고 수당을 제공할 것이라고 전했다. 또한 사업 중단으로 인해 영향을 받는 지역사회와 기업을 지원하기 위해 2,000만 호주 달러의 기금을 설립할 예정이다. 또한 2월에 발표한 사업의 장부 가치에 대한 35억 달러의 손상 비용에 3억 달러의 비현금 손상을 추가했다. 마들렌 킹(Madeleine King) 호주 자원부 장관은 BHP의 결정에 대해 실망의 뜻을 나타내며 연방 정부가 BHP와 니켈 부문과 협력해 호주 니켈 생산의 지속을 지원하기 위한 정책 대응에 임했다고 언급했다. 인도네시아에서 저렴한 니켈 공급이 급증하면서 서호주에서 오랫동안 이어져 온 니켈 광산 가동이 점차 중단되고 있다. 지난해 인도네시아의 니켈 생산량은 전 세계의 49%를 차지한 것으로 추산되는데, 인도네시아의 생산비중은 불과 8년 전만 해도 5% 미만에 그쳤었다. BHP의 니켈 웨스트(Nickel West) BHP의 니켈 웨스트 프로젝트가 중단되면 호주에는 IGO의 노바(Nova)와 포레스태니아(Forrestania), 글렌코어의 무린무린(Murrin Murrin) 등 3개의 니켈 광산만 운영하게 된다. 그마저도 노바와 포레스태니아 광산도 2년 내에 폐쇄될 예정이다. 인도네시아발 공급 상황은 여전하지만 호주는 지난 2월 니켈을 핵심 광물로 등재했다. 호주 총리는 친환경 정책에 대한 광범위한 정책 지원을 준비하고 향후 전기차 관련 광물 산업에서 핵심 우위를 점하기 위해 니켈을 핵심 광물로 분류해 위기에 처한 업계가 수십억 달러의 저렴한 정부 대출을 받을 수 있도록 하겠다고 밝힌 바 있다. 니켈이 중요 광물 목록에 포함되면서 니켈 회사는 중요 광물 시설에 26억 달러(60억 호주 달러) 규모의 저금리 대출을 제공하는 관련 보조금 프로그램에 따라 자금 조달을 받을 수 있게 됐다. 맥쿼리(Macquarie)를 포함한 전문가들은 가격이 바닥을 친 것은 최대 생산국인 인도네시아에서 나오는 니켈 생산량이 증가했기 때문이라고 분석했다. 이러한 과잉 공급으로 인해 니켈 광산의 절반이 현재 가격으로는 수익을 낼 수 없어 니켈 산업이 위기에 처하게 됐다. 전 세계 니켈 생산업체는 이러한 영향을 줄이기 위한 조치를 취하고 있다. 앵글로아메리칸(Anglo American)은 니켈 사업부를 매각하거나 폐쇄하는 옵션을 모색하고 있으며 글렌코어는 뉴칼레도니아 섬에서 일부 사업을 중단하고 매각하기로 결정했다 .', '가전과 자동차 , 건설 등 주요 연관 수요 산업의 내수 부진이 이어지는 가운데 최근 스테인리스의 주 원료인 LME 니켈 가격이 간만에 1만 7천 달러대를 넘어서면서 관련업계의 이목이 집중되고 있다. 최근 1년 간 LME 니켈 일일 거래가격 추이니켈가격의 강세장이 이어질 경우 보통 스테인리스 제품의 가격인상으로 이어지기 때문이다. 물론 최근 LME 니켈가격은 2거래일 연속 상승세를 보였다. 강세장의 지속 여부는 좀 더 지켜봐야 할 것으로 보인다. 스테인리스 유통 거래 가격이 상당 기간 보합세로 유지된 가운데 니켈의 상승 움직임이 시장 내 거래 활기를 불어넣을지도 관전포인트다. 그러나 스테인리스 연관 수요 산업의 침체가 지속되고 있는 점과 환율 강세, AD 규제 등에 따른 국내 가격 상대적 고점 형성 등으로 스테인리스 소재를 사용하는 제조 및 수요업체들의 경우 니켈 가격의 상승은 소재 매입원가 상승으로 이어져 달갑지 않은 상황이다. 매입원가를 판매 가격에 반영하기가 어려운 상황이 이어지고 있기 때문이다. 이는 유통업계도 마찬가지다. 니켈가격의 상승으로 시장 내 활기가 돌고 가격인상의 분위기가 형성되는 것은 긍정적이지만, 메이커들이 선제적으로 매입단가를 먼저 인상하여 제시할 경우 단가 적용의 시차 발생으로 손실 부담 가능성도 커지기 때문이다. 니켈가격의 상승이 상당 기간 지속될 경우 일단 해외 밀들의 한국향 오퍼가격은 묻고 따지지도 않고 인상 제시할 것으로 예상된다. 국내 밀들의 경우 속내는 좀 더 복잡해질 것으로 보인다. 최근 시장의 분위기와 중소 제조업체들의 상황을 고려했을 때 매입원가를 당장 며칠의 니켈가격 상승만으로 가격을 인상하는데 부담이 따를 수밖에 없기 때문이다. 특히 니켈가격이 한참 내려가는 시점에서는 시장안정화 명목 하에 인하에 적극적으로 나서지 않았던 영향도 있다. 최근 3년 간 LME 니켈 월 평균 가격 추이 니켈가격 상승 요인은LME 니켈 3개월물 official 가격이 22일 기준 전 거래일 대비 515달러 상승하여 톤당 17,240달러로 거래됐다. 니켈 시장의 약세 흐름이 장기간 나타나면서 니켈 제련 및 생산업체들 중심의 공급 조절이 확산된 가운데 니켈 가격이은 올해 들어 처음으로 톤당 1만 7천 달러대를 넘어섰다.메이저 니켈 광산 기업인 Anglo American사가 보유 자산 리뷰를 실시하겠다고 밝히면서 브라질 Barro Alto 니켈 광산에 대해 5억 달러에 달하는 상각 처리를 진행했다. Anglo American사가 적자를 내고 있는 니켈 광산의 조업을 중단할 가능성도 제기됐다. 메이저 니켈 광산 기업인 BHP사도 호주 Nickel West 사업부의 조업을 중단할 가능성을 최근 시사한 바 있으며, 프랑스 광산 기업인 Eramet사는 뉴칼레도니아 니켈 사업부인 SLN사의 부채 탕감을 위해 프랑스 정부와 협상을 진행하고 있는 것으로 알려졌다. 니켈 광산 기업인 First Quantum사는 호주 Ravensthorpe 니켈 광산의 조업을 중단했다. 뉴칼레도니아 Koniambo 니켈 광산의 다수 지분을 보유한 Glencore사도 지난주 니켈 광산 가동 중단을 결정했다. 주요 니켈 광산 기업들의 감산 혹은 가동 중단 뿐 아니라 최근 미국 정부가 러시아 비철금속 산업을 제재할 가능성이 높아지면서 니켈가격 상승에 영향을 준 것으로 분석됐다. 최근 백악관은 러시아 야권 지도자 알렉세이 나발니 사망의 책임이 러시아 정부에게 있다고 지적하며, 러시아에 대한 추가 제재를 실시할 것이라고 밝혔다. 러시아 Norilsk사는 인도네시아 기업을 제외하고 세계 2위 니켈 광산생산 기업이다. 한편, 중국 정부의 경기 부양 정책이 부동산 경기 회복으로 이어질 것이라는 기대도 니켈 가격을 지지한 것으로 분석됐다. 지난 20일 중국 인민은행은 5년물 대출우대금리(LPR)를 25bp 인하한다고 발표한 바 있다.']\n"
          ]
        },
        {
          "output_type": "execute_result",
          "data": {
            "text/plain": [
              "<Axes: >"
            ]
          },
          "metadata": {},
          "execution_count": 14
        },
        {
          "output_type": "stream",
          "name": "stderr",
          "text": [
            "WARNING:matplotlib.font_manager:findfont: Font family 'NanumGothic' not found.\n",
            "WARNING:matplotlib.font_manager:findfont: Font family 'NanumGothic' not found.\n",
            "WARNING:matplotlib.font_manager:findfont: Font family 'NanumGothic' not found.\n",
            "WARNING:matplotlib.font_manager:findfont: Font family 'NanumGothic' not found.\n",
            "WARNING:matplotlib.font_manager:findfont: Font family 'NanumGothic' not found.\n",
            "WARNING:matplotlib.font_manager:findfont: Font family 'NanumGothic' not found.\n",
            "WARNING:matplotlib.font_manager:findfont: Font family 'NanumGothic' not found.\n",
            "WARNING:matplotlib.font_manager:findfont: Font family 'NanumGothic' not found.\n",
            "WARNING:matplotlib.font_manager:findfont: Font family 'NanumGothic' not found.\n",
            "WARNING:matplotlib.font_manager:findfont: Font family 'NanumGothic' not found.\n",
            "WARNING:matplotlib.font_manager:findfont: Font family 'NanumGothic' not found.\n",
            "WARNING:matplotlib.font_manager:findfont: Font family 'NanumGothic' not found.\n",
            "WARNING:matplotlib.font_manager:findfont: Font family 'NanumGothic' not found.\n",
            "WARNING:matplotlib.font_manager:findfont: Font family 'NanumGothic' not found.\n",
            "WARNING:matplotlib.font_manager:findfont: Font family 'NanumGothic' not found.\n",
            "WARNING:matplotlib.font_manager:findfont: Font family 'NanumGothic' not found.\n",
            "WARNING:matplotlib.font_manager:findfont: Font family 'NanumGothic' not found.\n",
            "WARNING:matplotlib.font_manager:findfont: Font family 'NanumGothic' not found.\n",
            "WARNING:matplotlib.font_manager:findfont: Font family 'NanumGothic' not found.\n",
            "WARNING:matplotlib.font_manager:findfont: Font family 'NanumGothic' not found.\n",
            "/usr/local/lib/python3.11/dist-packages/IPython/core/events.py:89: UserWarning: Glyph 45768 (\\N{HANGUL SYLLABLE NI}) missing from font(s) DejaVu Sans.\n",
            "  func(*args, **kwargs)\n",
            "/usr/local/lib/python3.11/dist-packages/IPython/core/events.py:89: UserWarning: Glyph 53000 (\\N{HANGUL SYLLABLE KEL}) missing from font(s) DejaVu Sans.\n",
            "  func(*args, **kwargs)\n",
            "/usr/local/lib/python3.11/dist-packages/IPython/core/events.py:89: UserWarning: Glyph 54840 (\\N{HANGUL SYLLABLE HO}) missing from font(s) DejaVu Sans.\n",
            "  func(*args, **kwargs)\n",
            "/usr/local/lib/python3.11/dist-packages/IPython/core/events.py:89: UserWarning: Glyph 51452 (\\N{HANGUL SYLLABLE JU}) missing from font(s) DejaVu Sans.\n",
            "  func(*args, **kwargs)\n",
            "/usr/local/lib/python3.11/dist-packages/IPython/core/events.py:89: UserWarning: Glyph 51064 (\\N{HANGUL SYLLABLE IN}) missing from font(s) DejaVu Sans.\n",
            "  func(*args, **kwargs)\n",
            "/usr/local/lib/python3.11/dist-packages/IPython/core/events.py:89: UserWarning: Glyph 46020 (\\N{HANGUL SYLLABLE DO}) missing from font(s) DejaVu Sans.\n",
            "  func(*args, **kwargs)\n",
            "/usr/local/lib/python3.11/dist-packages/IPython/core/events.py:89: UserWarning: Glyph 45348 (\\N{HANGUL SYLLABLE NE}) missing from font(s) DejaVu Sans.\n",
            "  func(*args, **kwargs)\n",
            "/usr/local/lib/python3.11/dist-packages/IPython/core/events.py:89: UserWarning: Glyph 49884 (\\N{HANGUL SYLLABLE SI}) missing from font(s) DejaVu Sans.\n",
            "  func(*args, **kwargs)\n",
            "/usr/local/lib/python3.11/dist-packages/IPython/core/events.py:89: UserWarning: Glyph 50500 (\\N{HANGUL SYLLABLE A}) missing from font(s) DejaVu Sans.\n",
            "  func(*args, **kwargs)\n",
            "WARNING:matplotlib.font_manager:findfont: Font family 'NanumGothic' not found.\n",
            "/usr/local/lib/python3.11/dist-packages/IPython/core/events.py:89: UserWarning: Glyph 44305 (\\N{HANGUL SYLLABLE GWANG}) missing from font(s) DejaVu Sans.\n",
            "  func(*args, **kwargs)\n",
            "/usr/local/lib/python3.11/dist-packages/IPython/core/events.py:89: UserWarning: Glyph 49328 (\\N{HANGUL SYLLABLE SAN}) missing from font(s) DejaVu Sans.\n",
            "  func(*args, **kwargs)\n",
            "/usr/local/lib/python3.11/dist-packages/IPython/core/events.py:89: UserWarning: Glyph 50629 (\\N{HANGUL SYLLABLE EOB}) missing from font(s) DejaVu Sans.\n",
            "  func(*args, **kwargs)\n",
            "WARNING:matplotlib.font_manager:findfont: Font family 'NanumGothic' not found.\n",
            "WARNING:matplotlib.font_manager:findfont: Font family 'NanumGothic' not found.\n",
            "WARNING:matplotlib.font_manager:findfont: Font family 'NanumGothic' not found.\n",
            "/usr/local/lib/python3.11/dist-packages/IPython/core/events.py:89: UserWarning: Glyph 51473 (\\N{HANGUL SYLLABLE JUNG}) missing from font(s) DejaVu Sans.\n",
            "  func(*args, **kwargs)\n",
            "/usr/local/lib/python3.11/dist-packages/IPython/core/events.py:89: UserWarning: Glyph 44397 (\\N{HANGUL SYLLABLE GUG}) missing from font(s) DejaVu Sans.\n",
            "  func(*args, **kwargs)\n",
            "/usr/local/lib/python3.11/dist-packages/IPython/core/events.py:89: UserWarning: Glyph 47084 (\\N{HANGUL SYLLABLE REO}) missing from font(s) DejaVu Sans.\n",
            "  func(*args, **kwargs)\n",
            "WARNING:matplotlib.font_manager:findfont: Font family 'NanumGothic' not found.\n",
            "WARNING:matplotlib.font_manager:findfont: Font family 'NanumGothic' not found.\n",
            "WARNING:matplotlib.font_manager:findfont: Font family 'NanumGothic' not found.\n",
            "WARNING:matplotlib.font_manager:findfont: Font family 'NanumGothic' not found.\n",
            "WARNING:matplotlib.font_manager:findfont: Font family 'NanumGothic' not found.\n",
            "WARNING:matplotlib.font_manager:findfont: Font family 'NanumGothic' not found.\n",
            "WARNING:matplotlib.font_manager:findfont: Font family 'NanumGothic' not found.\n",
            "WARNING:matplotlib.font_manager:findfont: Font family 'NanumGothic' not found.\n",
            "WARNING:matplotlib.font_manager:findfont: Font family 'NanumGothic' not found.\n",
            "WARNING:matplotlib.font_manager:findfont: Font family 'NanumGothic' not found.\n",
            "WARNING:matplotlib.font_manager:findfont: Font family 'NanumGothic' not found.\n",
            "/usr/local/lib/python3.11/dist-packages/IPython/core/events.py:89: UserWarning: Glyph 44221 (\\N{HANGUL SYLLABLE GYEONG}) missing from font(s) DejaVu Sans.\n",
            "  func(*args, **kwargs)\n",
            "/usr/local/lib/python3.11/dist-packages/IPython/core/events.py:89: UserWarning: Glyph 51228 (\\N{HANGUL SYLLABLE JE}) missing from font(s) DejaVu Sans.\n",
            "  func(*args, **kwargs)\n",
            "/usr/local/lib/python3.11/dist-packages/IPython/core/events.py:89: UserWarning: Glyph 51116 (\\N{HANGUL SYLLABLE JAE}) missing from font(s) DejaVu Sans.\n",
            "  func(*args, **kwargs)\n",
            "/usr/local/lib/python3.11/dist-packages/IPython/core/events.py:89: UserWarning: Glyph 44048 (\\N{HANGUL SYLLABLE GAM}) missing from font(s) DejaVu Sans.\n",
            "  func(*args, **kwargs)\n",
            "/usr/local/lib/python3.11/dist-packages/IPython/core/events.py:89: UserWarning: Glyph 51613 (\\N{HANGUL SYLLABLE JEUNG}) missing from font(s) DejaVu Sans.\n",
            "  func(*args, **kwargs)\n",
            "/usr/local/lib/python3.11/dist-packages/IPython/core/events.py:89: UserWarning: Glyph 49688 (\\N{HANGUL SYLLABLE SU}) missing from font(s) DejaVu Sans.\n",
            "  func(*args, **kwargs)\n",
            "/usr/local/lib/python3.11/dist-packages/IPython/core/events.py:89: UserWarning: Glyph 50836 (\\N{HANGUL SYLLABLE YO}) missing from font(s) DejaVu Sans.\n",
            "  func(*args, **kwargs)\n",
            "WARNING:matplotlib.font_manager:findfont: Font family 'NanumGothic' not found.\n",
            "/usr/local/lib/python3.11/dist-packages/IPython/core/events.py:89: UserWarning: Glyph 47932 (\\N{HANGUL SYLLABLE MUL}) missing from font(s) DejaVu Sans.\n",
            "  func(*args, **kwargs)\n",
            "/usr/local/lib/python3.11/dist-packages/IPython/core/events.py:89: UserWarning: Glyph 55148 (\\N{HANGUL SYLLABLE HYI}) missing from font(s) DejaVu Sans.\n",
            "  func(*args, **kwargs)\n",
            "/usr/local/lib/python3.11/dist-packages/IPython/core/events.py:89: UserWarning: Glyph 44480 (\\N{HANGUL SYLLABLE GWI}) missing from font(s) DejaVu Sans.\n",
            "  func(*args, **kwargs)\n",
            "/usr/local/lib/python3.11/dist-packages/IPython/core/events.py:89: UserWarning: Glyph 48516 (\\N{HANGUL SYLLABLE BUN}) missing from font(s) DejaVu Sans.\n",
            "  func(*args, **kwargs)\n",
            "/usr/local/lib/python3.11/dist-packages/IPython/core/events.py:89: UserWarning: Glyph 51137 (\\N{HANGUL SYLLABLE JAENG}) missing from font(s) DejaVu Sans.\n",
            "  func(*args, **kwargs)\n",
            "/usr/local/lib/python3.11/dist-packages/IPython/core/events.py:89: UserWarning: Glyph 52293 (\\N{HANGUL SYLLABLE CAEG}) missing from font(s) DejaVu Sans.\n",
            "  func(*args, **kwargs)\n",
            "/usr/local/lib/python3.11/dist-packages/IPython/core/events.py:89: UserWarning: Glyph 51076 (\\N{HANGUL SYLLABLE IM}) missing from font(s) DejaVu Sans.\n",
            "  func(*args, **kwargs)\n",
            "WARNING:matplotlib.font_manager:findfont: Font family 'NanumGothic' not found.\n",
            "/usr/local/lib/python3.11/dist-packages/IPython/core/events.py:89: UserWarning: Glyph 52384 (\\N{HANGUL SYLLABLE CEOL}) missing from font(s) DejaVu Sans.\n",
            "  func(*args, **kwargs)\n",
            "/usr/local/lib/python3.11/dist-packages/IPython/core/events.py:89: UserWarning: Glyph 44053 (\\N{HANGUL SYLLABLE GANG}) missing from font(s) DejaVu Sans.\n",
            "  func(*args, **kwargs)\n",
            "/usr/local/lib/python3.11/dist-packages/IPython/core/events.py:89: UserWarning: Glyph 51060 (\\N{HANGUL SYLLABLE I}) missing from font(s) DejaVu Sans.\n",
            "  func(*args, **kwargs)\n",
            "/usr/local/lib/python3.11/dist-packages/IPython/core/events.py:89: UserWarning: Glyph 52264 (\\N{HANGUL SYLLABLE CA}) missing from font(s) DejaVu Sans.\n",
            "  func(*args, **kwargs)\n",
            "/usr/local/lib/python3.11/dist-packages/IPython/core/events.py:89: UserWarning: Glyph 51204 (\\N{HANGUL SYLLABLE JEON}) missing from font(s) DejaVu Sans.\n",
            "  func(*args, **kwargs)\n",
            "/usr/local/lib/python3.11/dist-packages/IPython/core/events.py:89: UserWarning: Glyph 51648 (\\N{HANGUL SYLLABLE JI}) missing from font(s) DejaVu Sans.\n",
            "  func(*args, **kwargs)\n",
            "WARNING:matplotlib.font_manager:findfont: Font family 'NanumGothic' not found.\n",
            "WARNING:matplotlib.font_manager:findfont: Font family 'NanumGothic' not found.\n",
            "WARNING:matplotlib.font_manager:findfont: Font family 'NanumGothic' not found.\n",
            "WARNING:matplotlib.font_manager:findfont: Font family 'NanumGothic' not found.\n",
            "WARNING:matplotlib.font_manager:findfont: Font family 'NanumGothic' not found.\n",
            "WARNING:matplotlib.font_manager:findfont: Font family 'NanumGothic' not found.\n",
            "/usr/local/lib/python3.11/dist-packages/IPython/core/events.py:89: UserWarning: Glyph 48652 (\\N{HANGUL SYLLABLE BEU}) missing from font(s) DejaVu Sans.\n",
            "  func(*args, **kwargs)\n",
            "/usr/local/lib/python3.11/dist-packages/IPython/core/events.py:89: UserWarning: Glyph 46972 (\\N{HANGUL SYLLABLE RA}) missing from font(s) DejaVu Sans.\n",
            "  func(*args, **kwargs)\n",
            "/usr/local/lib/python3.11/dist-packages/IPython/core/events.py:89: UserWarning: Glyph 51656 (\\N{HANGUL SYLLABLE JIL}) missing from font(s) DejaVu Sans.\n",
            "  func(*args, **kwargs)\n",
            "/usr/local/lib/python3.11/dist-packages/IPython/core/events.py:89: UserWarning: Glyph 52880 (\\N{HANGUL SYLLABLE KAE}) missing from font(s) DejaVu Sans.\n",
            "  func(*args, **kwargs)\n",
            "/usr/local/lib/python3.11/dist-packages/IPython/core/events.py:89: UserWarning: Glyph 45208 (\\N{HANGUL SYLLABLE NA}) missing from font(s) DejaVu Sans.\n",
            "  func(*args, **kwargs)\n",
            "/usr/local/lib/python3.11/dist-packages/IPython/core/events.py:89: UserWarning: Glyph 45796 (\\N{HANGUL SYLLABLE DA}) missing from font(s) DejaVu Sans.\n",
            "  func(*args, **kwargs)\n",
            "WARNING:matplotlib.font_manager:findfont: Font family 'NanumGothic' not found.\n",
            "WARNING:matplotlib.font_manager:findfont: Font family 'NanumGothic' not found.\n",
            "WARNING:matplotlib.font_manager:findfont: Font family 'NanumGothic' not found.\n",
            "WARNING:matplotlib.font_manager:findfont: Font family 'NanumGothic' not found.\n",
            "WARNING:matplotlib.font_manager:findfont: Font family 'NanumGothic' not found.\n",
            "WARNING:matplotlib.font_manager:findfont: Font family 'NanumGothic' not found.\n",
            "WARNING:matplotlib.font_manager:findfont: Font family 'NanumGothic' not found.\n",
            "WARNING:matplotlib.font_manager:findfont: Font family 'NanumGothic' not found.\n",
            "WARNING:matplotlib.font_manager:findfont: Font family 'NanumGothic' not found.\n",
            "WARNING:matplotlib.font_manager:findfont: Font family 'NanumGothic' not found.\n",
            "/usr/local/lib/python3.11/dist-packages/IPython/core/events.py:89: UserWarning: Glyph 48372 (\\N{HANGUL SYLLABLE BO}) missing from font(s) DejaVu Sans.\n",
            "  func(*args, **kwargs)\n",
            "/usr/local/lib/python3.11/dist-packages/IPython/core/events.py:89: UserWarning: Glyph 51312 (\\N{HANGUL SYLLABLE JO}) missing from font(s) DejaVu Sans.\n",
            "  func(*args, **kwargs)\n",
            "/usr/local/lib/python3.11/dist-packages/IPython/core/events.py:89: UserWarning: Glyph 44552 (\\N{HANGUL SYLLABLE GEUM}) missing from font(s) DejaVu Sans.\n",
            "  func(*args, **kwargs)\n",
            "WARNING:matplotlib.font_manager:findfont: Font family 'NanumGothic' not found.\n",
            "WARNING:matplotlib.font_manager:findfont: Font family 'NanumGothic' not found.\n",
            "WARNING:matplotlib.font_manager:findfont: Font family 'NanumGothic' not found.\n",
            "WARNING:matplotlib.font_manager:findfont: Font family 'NanumGothic' not found.\n",
            "WARNING:matplotlib.font_manager:findfont: Font family 'NanumGothic' not found.\n",
            "WARNING:matplotlib.font_manager:findfont: Font family 'NanumGothic' not found.\n",
            "WARNING:matplotlib.font_manager:findfont: Font family 'NanumGothic' not found.\n",
            "WARNING:matplotlib.font_manager:findfont: Font family 'NanumGothic' not found.\n",
            "WARNING:matplotlib.font_manager:findfont: Font family 'NanumGothic' not found.\n",
            "WARNING:matplotlib.font_manager:findfont: Font family 'NanumGothic' not found.\n",
            "WARNING:matplotlib.font_manager:findfont: Font family 'NanumGothic' not found.\n",
            "WARNING:matplotlib.font_manager:findfont: Font family 'NanumGothic' not found.\n",
            "WARNING:matplotlib.font_manager:findfont: Font family 'NanumGothic' not found.\n",
            "WARNING:matplotlib.font_manager:findfont: Font family 'NanumGothic' not found.\n",
            "WARNING:matplotlib.font_manager:findfont: Font family 'NanumGothic' not found.\n",
            "/usr/local/lib/python3.11/dist-packages/IPython/core/events.py:89: UserWarning: Glyph 45684 (\\N{HANGUL SYLLABLE NYU}) missing from font(s) DejaVu Sans.\n",
            "  func(*args, **kwargs)\n",
            "/usr/local/lib/python3.11/dist-packages/IPython/core/events.py:89: UserWarning: Glyph 52860 (\\N{HANGUL SYLLABLE KAL}) missing from font(s) DejaVu Sans.\n",
            "  func(*args, **kwargs)\n",
            "/usr/local/lib/python3.11/dist-packages/IPython/core/events.py:89: UserWarning: Glyph 47112 (\\N{HANGUL SYLLABLE RE}) missing from font(s) DejaVu Sans.\n",
            "  func(*args, **kwargs)\n",
            "WARNING:matplotlib.font_manager:findfont: Font family 'NanumGothic' not found.\n",
            "WARNING:matplotlib.font_manager:findfont: Font family 'NanumGothic' not found.\n",
            "WARNING:matplotlib.font_manager:findfont: Font family 'NanumGothic' not found.\n",
            "WARNING:matplotlib.font_manager:findfont: Font family 'NanumGothic' not found.\n",
            "WARNING:matplotlib.font_manager:findfont: Font family 'NanumGothic' not found.\n",
            "WARNING:matplotlib.font_manager:findfont: Font family 'NanumGothic' not found.\n",
            "WARNING:matplotlib.font_manager:findfont: Font family 'NanumGothic' not found.\n",
            "WARNING:matplotlib.font_manager:findfont: Font family 'NanumGothic' not found.\n",
            "WARNING:matplotlib.font_manager:findfont: Font family 'NanumGothic' not found.\n",
            "WARNING:matplotlib.font_manager:findfont: Font family 'NanumGothic' not found.\n",
            "WARNING:matplotlib.font_manager:findfont: Font family 'NanumGothic' not found.\n",
            "WARNING:matplotlib.font_manager:findfont: Font family 'NanumGothic' not found.\n",
            "WARNING:matplotlib.font_manager:findfont: Font family 'NanumGothic' not found.\n",
            "WARNING:matplotlib.font_manager:findfont: Font family 'NanumGothic' not found.\n",
            "WARNING:matplotlib.font_manager:findfont: Font family 'NanumGothic' not found.\n",
            "WARNING:matplotlib.font_manager:findfont: Font family 'NanumGothic' not found.\n",
            "WARNING:matplotlib.font_manager:findfont: Font family 'NanumGothic' not found.\n",
            "WARNING:matplotlib.font_manager:findfont: Font family 'NanumGothic' not found.\n",
            "WARNING:matplotlib.font_manager:findfont: Font family 'NanumGothic' not found.\n",
            "WARNING:matplotlib.font_manager:findfont: Font family 'NanumGothic' not found.\n",
            "WARNING:matplotlib.font_manager:findfont: Font family 'NanumGothic' not found.\n",
            "WARNING:matplotlib.font_manager:findfont: Font family 'NanumGothic' not found.\n",
            "WARNING:matplotlib.font_manager:findfont: Font family 'NanumGothic' not found.\n",
            "WARNING:matplotlib.font_manager:findfont: Font family 'NanumGothic' not found.\n",
            "WARNING:matplotlib.font_manager:findfont: Font family 'NanumGothic' not found.\n",
            "/usr/local/lib/python3.11/dist-packages/IPython/core/pylabtools.py:151: UserWarning: Glyph 45768 (\\N{HANGUL SYLLABLE NI}) missing from font(s) DejaVu Sans.\n",
            "  fig.canvas.print_figure(bytes_io, **kw)\n",
            "/usr/local/lib/python3.11/dist-packages/IPython/core/pylabtools.py:151: UserWarning: Glyph 53000 (\\N{HANGUL SYLLABLE KEL}) missing from font(s) DejaVu Sans.\n",
            "  fig.canvas.print_figure(bytes_io, **kw)\n",
            "/usr/local/lib/python3.11/dist-packages/IPython/core/pylabtools.py:151: UserWarning: Glyph 54840 (\\N{HANGUL SYLLABLE HO}) missing from font(s) DejaVu Sans.\n",
            "  fig.canvas.print_figure(bytes_io, **kw)\n",
            "/usr/local/lib/python3.11/dist-packages/IPython/core/pylabtools.py:151: UserWarning: Glyph 51452 (\\N{HANGUL SYLLABLE JU}) missing from font(s) DejaVu Sans.\n",
            "  fig.canvas.print_figure(bytes_io, **kw)\n",
            "/usr/local/lib/python3.11/dist-packages/IPython/core/pylabtools.py:151: UserWarning: Glyph 51064 (\\N{HANGUL SYLLABLE IN}) missing from font(s) DejaVu Sans.\n",
            "  fig.canvas.print_figure(bytes_io, **kw)\n",
            "/usr/local/lib/python3.11/dist-packages/IPython/core/pylabtools.py:151: UserWarning: Glyph 46020 (\\N{HANGUL SYLLABLE DO}) missing from font(s) DejaVu Sans.\n",
            "  fig.canvas.print_figure(bytes_io, **kw)\n",
            "/usr/local/lib/python3.11/dist-packages/IPython/core/pylabtools.py:151: UserWarning: Glyph 45348 (\\N{HANGUL SYLLABLE NE}) missing from font(s) DejaVu Sans.\n",
            "  fig.canvas.print_figure(bytes_io, **kw)\n",
            "/usr/local/lib/python3.11/dist-packages/IPython/core/pylabtools.py:151: UserWarning: Glyph 49884 (\\N{HANGUL SYLLABLE SI}) missing from font(s) DejaVu Sans.\n",
            "  fig.canvas.print_figure(bytes_io, **kw)\n",
            "/usr/local/lib/python3.11/dist-packages/IPython/core/pylabtools.py:151: UserWarning: Glyph 50500 (\\N{HANGUL SYLLABLE A}) missing from font(s) DejaVu Sans.\n",
            "  fig.canvas.print_figure(bytes_io, **kw)\n",
            "WARNING:matplotlib.font_manager:findfont: Font family 'NanumGothic' not found.\n",
            "/usr/local/lib/python3.11/dist-packages/IPython/core/pylabtools.py:151: UserWarning: Glyph 44305 (\\N{HANGUL SYLLABLE GWANG}) missing from font(s) DejaVu Sans.\n",
            "  fig.canvas.print_figure(bytes_io, **kw)\n",
            "/usr/local/lib/python3.11/dist-packages/IPython/core/pylabtools.py:151: UserWarning: Glyph 49328 (\\N{HANGUL SYLLABLE SAN}) missing from font(s) DejaVu Sans.\n",
            "  fig.canvas.print_figure(bytes_io, **kw)\n",
            "/usr/local/lib/python3.11/dist-packages/IPython/core/pylabtools.py:151: UserWarning: Glyph 50629 (\\N{HANGUL SYLLABLE EOB}) missing from font(s) DejaVu Sans.\n",
            "  fig.canvas.print_figure(bytes_io, **kw)\n",
            "WARNING:matplotlib.font_manager:findfont: Font family 'NanumGothic' not found.\n",
            "WARNING:matplotlib.font_manager:findfont: Font family 'NanumGothic' not found.\n",
            "WARNING:matplotlib.font_manager:findfont: Font family 'NanumGothic' not found.\n",
            "/usr/local/lib/python3.11/dist-packages/IPython/core/pylabtools.py:151: UserWarning: Glyph 51473 (\\N{HANGUL SYLLABLE JUNG}) missing from font(s) DejaVu Sans.\n",
            "  fig.canvas.print_figure(bytes_io, **kw)\n",
            "/usr/local/lib/python3.11/dist-packages/IPython/core/pylabtools.py:151: UserWarning: Glyph 44397 (\\N{HANGUL SYLLABLE GUG}) missing from font(s) DejaVu Sans.\n",
            "  fig.canvas.print_figure(bytes_io, **kw)\n",
            "/usr/local/lib/python3.11/dist-packages/IPython/core/pylabtools.py:151: UserWarning: Glyph 47084 (\\N{HANGUL SYLLABLE REO}) missing from font(s) DejaVu Sans.\n",
            "  fig.canvas.print_figure(bytes_io, **kw)\n",
            "WARNING:matplotlib.font_manager:findfont: Font family 'NanumGothic' not found.\n",
            "WARNING:matplotlib.font_manager:findfont: Font family 'NanumGothic' not found.\n",
            "WARNING:matplotlib.font_manager:findfont: Font family 'NanumGothic' not found.\n",
            "WARNING:matplotlib.font_manager:findfont: Font family 'NanumGothic' not found.\n",
            "WARNING:matplotlib.font_manager:findfont: Font family 'NanumGothic' not found.\n",
            "WARNING:matplotlib.font_manager:findfont: Font family 'NanumGothic' not found.\n",
            "WARNING:matplotlib.font_manager:findfont: Font family 'NanumGothic' not found.\n",
            "WARNING:matplotlib.font_manager:findfont: Font family 'NanumGothic' not found.\n",
            "WARNING:matplotlib.font_manager:findfont: Font family 'NanumGothic' not found.\n",
            "WARNING:matplotlib.font_manager:findfont: Font family 'NanumGothic' not found.\n",
            "WARNING:matplotlib.font_manager:findfont: Font family 'NanumGothic' not found.\n",
            "/usr/local/lib/python3.11/dist-packages/IPython/core/pylabtools.py:151: UserWarning: Glyph 44221 (\\N{HANGUL SYLLABLE GYEONG}) missing from font(s) DejaVu Sans.\n",
            "  fig.canvas.print_figure(bytes_io, **kw)\n",
            "/usr/local/lib/python3.11/dist-packages/IPython/core/pylabtools.py:151: UserWarning: Glyph 51228 (\\N{HANGUL SYLLABLE JE}) missing from font(s) DejaVu Sans.\n",
            "  fig.canvas.print_figure(bytes_io, **kw)\n",
            "/usr/local/lib/python3.11/dist-packages/IPython/core/pylabtools.py:151: UserWarning: Glyph 51116 (\\N{HANGUL SYLLABLE JAE}) missing from font(s) DejaVu Sans.\n",
            "  fig.canvas.print_figure(bytes_io, **kw)\n",
            "/usr/local/lib/python3.11/dist-packages/IPython/core/pylabtools.py:151: UserWarning: Glyph 44048 (\\N{HANGUL SYLLABLE GAM}) missing from font(s) DejaVu Sans.\n",
            "  fig.canvas.print_figure(bytes_io, **kw)\n",
            "/usr/local/lib/python3.11/dist-packages/IPython/core/pylabtools.py:151: UserWarning: Glyph 51613 (\\N{HANGUL SYLLABLE JEUNG}) missing from font(s) DejaVu Sans.\n",
            "  fig.canvas.print_figure(bytes_io, **kw)\n",
            "/usr/local/lib/python3.11/dist-packages/IPython/core/pylabtools.py:151: UserWarning: Glyph 49688 (\\N{HANGUL SYLLABLE SU}) missing from font(s) DejaVu Sans.\n",
            "  fig.canvas.print_figure(bytes_io, **kw)\n",
            "/usr/local/lib/python3.11/dist-packages/IPython/core/pylabtools.py:151: UserWarning: Glyph 50836 (\\N{HANGUL SYLLABLE YO}) missing from font(s) DejaVu Sans.\n",
            "  fig.canvas.print_figure(bytes_io, **kw)\n",
            "WARNING:matplotlib.font_manager:findfont: Font family 'NanumGothic' not found.\n",
            "/usr/local/lib/python3.11/dist-packages/IPython/core/pylabtools.py:151: UserWarning: Glyph 47932 (\\N{HANGUL SYLLABLE MUL}) missing from font(s) DejaVu Sans.\n",
            "  fig.canvas.print_figure(bytes_io, **kw)\n",
            "/usr/local/lib/python3.11/dist-packages/IPython/core/pylabtools.py:151: UserWarning: Glyph 55148 (\\N{HANGUL SYLLABLE HYI}) missing from font(s) DejaVu Sans.\n",
            "  fig.canvas.print_figure(bytes_io, **kw)\n",
            "/usr/local/lib/python3.11/dist-packages/IPython/core/pylabtools.py:151: UserWarning: Glyph 44480 (\\N{HANGUL SYLLABLE GWI}) missing from font(s) DejaVu Sans.\n",
            "  fig.canvas.print_figure(bytes_io, **kw)\n",
            "/usr/local/lib/python3.11/dist-packages/IPython/core/pylabtools.py:151: UserWarning: Glyph 48516 (\\N{HANGUL SYLLABLE BUN}) missing from font(s) DejaVu Sans.\n",
            "  fig.canvas.print_figure(bytes_io, **kw)\n",
            "/usr/local/lib/python3.11/dist-packages/IPython/core/pylabtools.py:151: UserWarning: Glyph 51137 (\\N{HANGUL SYLLABLE JAENG}) missing from font(s) DejaVu Sans.\n",
            "  fig.canvas.print_figure(bytes_io, **kw)\n",
            "/usr/local/lib/python3.11/dist-packages/IPython/core/pylabtools.py:151: UserWarning: Glyph 52293 (\\N{HANGUL SYLLABLE CAEG}) missing from font(s) DejaVu Sans.\n",
            "  fig.canvas.print_figure(bytes_io, **kw)\n",
            "/usr/local/lib/python3.11/dist-packages/IPython/core/pylabtools.py:151: UserWarning: Glyph 51076 (\\N{HANGUL SYLLABLE IM}) missing from font(s) DejaVu Sans.\n",
            "  fig.canvas.print_figure(bytes_io, **kw)\n",
            "WARNING:matplotlib.font_manager:findfont: Font family 'NanumGothic' not found.\n",
            "/usr/local/lib/python3.11/dist-packages/IPython/core/pylabtools.py:151: UserWarning: Glyph 52384 (\\N{HANGUL SYLLABLE CEOL}) missing from font(s) DejaVu Sans.\n",
            "  fig.canvas.print_figure(bytes_io, **kw)\n",
            "/usr/local/lib/python3.11/dist-packages/IPython/core/pylabtools.py:151: UserWarning: Glyph 44053 (\\N{HANGUL SYLLABLE GANG}) missing from font(s) DejaVu Sans.\n",
            "  fig.canvas.print_figure(bytes_io, **kw)\n",
            "/usr/local/lib/python3.11/dist-packages/IPython/core/pylabtools.py:151: UserWarning: Glyph 51060 (\\N{HANGUL SYLLABLE I}) missing from font(s) DejaVu Sans.\n",
            "  fig.canvas.print_figure(bytes_io, **kw)\n",
            "/usr/local/lib/python3.11/dist-packages/IPython/core/pylabtools.py:151: UserWarning: Glyph 52264 (\\N{HANGUL SYLLABLE CA}) missing from font(s) DejaVu Sans.\n",
            "  fig.canvas.print_figure(bytes_io, **kw)\n",
            "/usr/local/lib/python3.11/dist-packages/IPython/core/pylabtools.py:151: UserWarning: Glyph 51204 (\\N{HANGUL SYLLABLE JEON}) missing from font(s) DejaVu Sans.\n",
            "  fig.canvas.print_figure(bytes_io, **kw)\n",
            "/usr/local/lib/python3.11/dist-packages/IPython/core/pylabtools.py:151: UserWarning: Glyph 51648 (\\N{HANGUL SYLLABLE JI}) missing from font(s) DejaVu Sans.\n",
            "  fig.canvas.print_figure(bytes_io, **kw)\n",
            "WARNING:matplotlib.font_manager:findfont: Font family 'NanumGothic' not found.\n",
            "WARNING:matplotlib.font_manager:findfont: Font family 'NanumGothic' not found.\n",
            "WARNING:matplotlib.font_manager:findfont: Font family 'NanumGothic' not found.\n",
            "WARNING:matplotlib.font_manager:findfont: Font family 'NanumGothic' not found.\n",
            "WARNING:matplotlib.font_manager:findfont: Font family 'NanumGothic' not found.\n",
            "WARNING:matplotlib.font_manager:findfont: Font family 'NanumGothic' not found.\n",
            "/usr/local/lib/python3.11/dist-packages/IPython/core/pylabtools.py:151: UserWarning: Glyph 48652 (\\N{HANGUL SYLLABLE BEU}) missing from font(s) DejaVu Sans.\n",
            "  fig.canvas.print_figure(bytes_io, **kw)\n",
            "/usr/local/lib/python3.11/dist-packages/IPython/core/pylabtools.py:151: UserWarning: Glyph 46972 (\\N{HANGUL SYLLABLE RA}) missing from font(s) DejaVu Sans.\n",
            "  fig.canvas.print_figure(bytes_io, **kw)\n",
            "/usr/local/lib/python3.11/dist-packages/IPython/core/pylabtools.py:151: UserWarning: Glyph 51656 (\\N{HANGUL SYLLABLE JIL}) missing from font(s) DejaVu Sans.\n",
            "  fig.canvas.print_figure(bytes_io, **kw)\n",
            "/usr/local/lib/python3.11/dist-packages/IPython/core/pylabtools.py:151: UserWarning: Glyph 52880 (\\N{HANGUL SYLLABLE KAE}) missing from font(s) DejaVu Sans.\n",
            "  fig.canvas.print_figure(bytes_io, **kw)\n",
            "/usr/local/lib/python3.11/dist-packages/IPython/core/pylabtools.py:151: UserWarning: Glyph 45208 (\\N{HANGUL SYLLABLE NA}) missing from font(s) DejaVu Sans.\n",
            "  fig.canvas.print_figure(bytes_io, **kw)\n",
            "/usr/local/lib/python3.11/dist-packages/IPython/core/pylabtools.py:151: UserWarning: Glyph 45796 (\\N{HANGUL SYLLABLE DA}) missing from font(s) DejaVu Sans.\n",
            "  fig.canvas.print_figure(bytes_io, **kw)\n",
            "WARNING:matplotlib.font_manager:findfont: Font family 'NanumGothic' not found.\n",
            "WARNING:matplotlib.font_manager:findfont: Font family 'NanumGothic' not found.\n",
            "WARNING:matplotlib.font_manager:findfont: Font family 'NanumGothic' not found.\n",
            "WARNING:matplotlib.font_manager:findfont: Font family 'NanumGothic' not found.\n",
            "WARNING:matplotlib.font_manager:findfont: Font family 'NanumGothic' not found.\n",
            "WARNING:matplotlib.font_manager:findfont: Font family 'NanumGothic' not found.\n",
            "WARNING:matplotlib.font_manager:findfont: Font family 'NanumGothic' not found.\n",
            "WARNING:matplotlib.font_manager:findfont: Font family 'NanumGothic' not found.\n",
            "WARNING:matplotlib.font_manager:findfont: Font family 'NanumGothic' not found.\n",
            "WARNING:matplotlib.font_manager:findfont: Font family 'NanumGothic' not found.\n",
            "/usr/local/lib/python3.11/dist-packages/IPython/core/pylabtools.py:151: UserWarning: Glyph 48372 (\\N{HANGUL SYLLABLE BO}) missing from font(s) DejaVu Sans.\n",
            "  fig.canvas.print_figure(bytes_io, **kw)\n",
            "/usr/local/lib/python3.11/dist-packages/IPython/core/pylabtools.py:151: UserWarning: Glyph 51312 (\\N{HANGUL SYLLABLE JO}) missing from font(s) DejaVu Sans.\n",
            "  fig.canvas.print_figure(bytes_io, **kw)\n",
            "/usr/local/lib/python3.11/dist-packages/IPython/core/pylabtools.py:151: UserWarning: Glyph 44552 (\\N{HANGUL SYLLABLE GEUM}) missing from font(s) DejaVu Sans.\n",
            "  fig.canvas.print_figure(bytes_io, **kw)\n",
            "WARNING:matplotlib.font_manager:findfont: Font family 'NanumGothic' not found.\n",
            "WARNING:matplotlib.font_manager:findfont: Font family 'NanumGothic' not found.\n",
            "WARNING:matplotlib.font_manager:findfont: Font family 'NanumGothic' not found.\n",
            "WARNING:matplotlib.font_manager:findfont: Font family 'NanumGothic' not found.\n",
            "WARNING:matplotlib.font_manager:findfont: Font family 'NanumGothic' not found.\n",
            "WARNING:matplotlib.font_manager:findfont: Font family 'NanumGothic' not found.\n",
            "WARNING:matplotlib.font_manager:findfont: Font family 'NanumGothic' not found.\n",
            "WARNING:matplotlib.font_manager:findfont: Font family 'NanumGothic' not found.\n",
            "WARNING:matplotlib.font_manager:findfont: Font family 'NanumGothic' not found.\n",
            "WARNING:matplotlib.font_manager:findfont: Font family 'NanumGothic' not found.\n",
            "WARNING:matplotlib.font_manager:findfont: Font family 'NanumGothic' not found.\n",
            "WARNING:matplotlib.font_manager:findfont: Font family 'NanumGothic' not found.\n",
            "WARNING:matplotlib.font_manager:findfont: Font family 'NanumGothic' not found.\n",
            "WARNING:matplotlib.font_manager:findfont: Font family 'NanumGothic' not found.\n",
            "WARNING:matplotlib.font_manager:findfont: Font family 'NanumGothic' not found.\n",
            "/usr/local/lib/python3.11/dist-packages/IPython/core/pylabtools.py:151: UserWarning: Glyph 45684 (\\N{HANGUL SYLLABLE NYU}) missing from font(s) DejaVu Sans.\n",
            "  fig.canvas.print_figure(bytes_io, **kw)\n",
            "/usr/local/lib/python3.11/dist-packages/IPython/core/pylabtools.py:151: UserWarning: Glyph 52860 (\\N{HANGUL SYLLABLE KAL}) missing from font(s) DejaVu Sans.\n",
            "  fig.canvas.print_figure(bytes_io, **kw)\n",
            "/usr/local/lib/python3.11/dist-packages/IPython/core/pylabtools.py:151: UserWarning: Glyph 47112 (\\N{HANGUL SYLLABLE RE}) missing from font(s) DejaVu Sans.\n",
            "  fig.canvas.print_figure(bytes_io, **kw)\n",
            "WARNING:matplotlib.font_manager:findfont: Font family 'NanumGothic' not found.\n",
            "WARNING:matplotlib.font_manager:findfont: Font family 'NanumGothic' not found.\n",
            "WARNING:matplotlib.font_manager:findfont: Font family 'NanumGothic' not found.\n",
            "WARNING:matplotlib.font_manager:findfont: Font family 'NanumGothic' not found.\n",
            "WARNING:matplotlib.font_manager:findfont: Font family 'NanumGothic' not found.\n"
          ]
        },
        {
          "output_type": "display_data",
          "data": {
            "text/plain": [
              "<Figure size 1200x1000 with 1 Axes>"
            ],
            "image/png": "[encoded data removed]"
          },
          "metadata": {}
        }
      ]
    },
    {
      "cell_type": "code",
      "source": [
        "!pip install 'git+https://github.com/SKTBrain/KoBERT.git#egg=kobert_tokenizer&subdirectory=kobert_hf'"
      ],
      "metadata": {
        "id": "LWYsWx3uz2KS",
        "outputId": "6a00c671-6da7-4025-c66b-532993788aae",
        "colab": {
          "base_uri": "https://localhost:8080/"
        }
      },
      "execution_count": 17,
      "outputs": [
        {
          "output_type": "stream",
          "name": "stdout",
          "text": [
            "Collecting kobert_tokenizer\n",
            "  Cloning https://github.com/SKTBrain/KoBERT.git to /tmp/pip-install-vpszykz5/kobert-tokenizer_621151b3fc224240815b69446b019c41\n",
            "  Running command git clone --filter=blob:none --quiet https://github.com/SKTBrain/KoBERT.git /tmp/pip-install-vpszykz5/kobert-tokenizer_621151b3fc224240815b69446b019c41\n",
            "  Resolved https://github.com/SKTBrain/KoBERT.git to commit 5c46b1c68e4755b54879431bd302db621f4d2f47\n",
            "  Preparing metadata (setup.py) ... \u001b[?25l\u001b[?25hdone\n",
            "Building wheels for collected packages: kobert_tokenizer\n",
            "  Building wheel for kobert_tokenizer (setup.py) ... \u001b[?25l\u001b[?25hdone\n",
            "  Created wheel for kobert_tokenizer: filename=kobert_tokenizer-0.1-py3-none-any.whl size=4633 sha256=982cf996864154fc7b78fccff67a2e5c85a9238acb6a3d68937d3a28c381f3bb\n",
            "  Stored in directory: /tmp/pip-ephem-wheel-cache-_xgh8pcx/wheels/b7/95/7c/3f38b039ae9422cc4a51702b37e352d0585442cbe60285f1f2\n",
            "Successfully built kobert_tokenizer\n",
            "Installing collected packages: kobert_tokenizer\n",
            "Successfully installed kobert_tokenizer-0.1\n"
          ]
        }
      ]
    },
    {
      "cell_type": "code",
      "source": [
        "from transformers import AutoTokenizer, AutoModel\n",
        "tokenizer = AutoTokenizer.from_pretrained(\"skt/kobert-base-v1\")\n",
        "model = AutoModel.from_pretrained(\"skt/kobert-base-v1\")\n",
        "sentences = merged_df['summary'].tolist()\n",
        "embeddings = tokenizer.tokenize(sentences)"
      ],
      "metadata": {
        "id": "WvmtEjQ_-DDS",
        "outputId": "84c83a90-2491-4753-b377-c9694129d2e0",
        "colab": {
          "base_uri": "https://localhost:8080/",
          "height": 373
        }
      },
      "execution_count": 42,
      "outputs": [
        {
          "output_type": "error",
          "ename": "TypeError",
          "evalue": "TextEncodeInput must be Union[TextInputSequence, Tuple[InputSequence, InputSequence]]",
          "traceback": [
            "\u001b[0;31m---------------------------------------------------------------------------\u001b[0m",
            "\u001b[0;31mTypeError\u001b[0m                                 Traceback (most recent call last)",
            "\u001b[0;32m<ipython-input-42-f7003e4366f0>\u001b[0m in \u001b[0;36m<cell line: 0>\u001b[0;34m()\u001b[0m\n\u001b[1;32m      3\u001b[0m \u001b[0mmodel\u001b[0m \u001b[0;34m=\u001b[0m \u001b[0mAutoModel\u001b[0m\u001b[0;34m.\u001b[0m\u001b[0mfrom_pretrained\u001b[0m\u001b[0;34m(\u001b[0m\u001b[0;34m\"skt/kobert-base-v1\"\u001b[0m\u001b[0;34m)\u001b[0m\u001b[0;34m\u001b[0m\u001b[0;34m\u001b[0m\u001b[0m\n\u001b[1;32m      4\u001b[0m \u001b[0msentences\u001b[0m \u001b[0;34m=\u001b[0m \u001b[0mmerged_df\u001b[0m\u001b[0;34m[\u001b[0m\u001b[0;34m'summary'\u001b[0m\u001b[0;34m]\u001b[0m\u001b[0;34m.\u001b[0m\u001b[0mtolist\u001b[0m\u001b[0;34m(\u001b[0m\u001b[0;34m)\u001b[0m\u001b[0;34m\u001b[0m\u001b[0;34m\u001b[0m\u001b[0m\n\u001b[0;32m----> 5\u001b[0;31m \u001b[0membeddings\u001b[0m \u001b[0;34m=\u001b[0m \u001b[0mtokenizer\u001b[0m\u001b[0;34m.\u001b[0m\u001b[0mtokenize\u001b[0m\u001b[0;34m(\u001b[0m\u001b[0msentences\u001b[0m\u001b[0;34m)\u001b[0m\u001b[0;34m\u001b[0m\u001b[0;34m\u001b[0m\u001b[0m\n\u001b[0m",
            "\u001b[0;32m/usr/local/lib/python3.11/dist-packages/transformers/tokenization_utils_fast.py\u001b[0m in \u001b[0;36mtokenize\u001b[0;34m(self, text, pair, add_special_tokens, **kwargs)\u001b[0m\n\u001b[1;32m    419\u001b[0m \u001b[0;34m\u001b[0m\u001b[0m\n\u001b[1;32m    420\u001b[0m     \u001b[0;32mdef\u001b[0m \u001b[0mtokenize\u001b[0m\u001b[0;34m(\u001b[0m\u001b[0mself\u001b[0m\u001b[0;34m,\u001b[0m \u001b[0mtext\u001b[0m\u001b[0;34m:\u001b[0m \u001b[0mstr\u001b[0m\u001b[0;34m,\u001b[0m \u001b[0mpair\u001b[0m\u001b[0;34m:\u001b[0m \u001b[0mOptional\u001b[0m\u001b[0;34m[\u001b[0m\u001b[0mstr\u001b[0m\u001b[0;34m]\u001b[0m \u001b[0;34m=\u001b[0m \u001b[0;32mNone\u001b[0m\u001b[0;34m,\u001b[0m \u001b[0madd_special_tokens\u001b[0m\u001b[0;34m:\u001b[0m \u001b[0mbool\u001b[0m \u001b[0;34m=\u001b[0m \u001b[0;32mFalse\u001b[0m\u001b[0;34m,\u001b[0m \u001b[0;34m**\u001b[0m\u001b[0mkwargs\u001b[0m\u001b[0;34m)\u001b[0m \u001b[0;34m->\u001b[0m \u001b[0mlist\u001b[0m\u001b[0;34m[\u001b[0m\u001b[0mstr\u001b[0m\u001b[0;34m]\u001b[0m\u001b[0;34m:\u001b[0m\u001b[0;34m\u001b[0m\u001b[0;34m\u001b[0m\u001b[0m\n\u001b[0;32m--> 421\u001b[0;31m         \u001b[0;32mreturn\u001b[0m \u001b[0mself\u001b[0m\u001b[0;34m.\u001b[0m\u001b[0mencode_plus\u001b[0m\u001b[0;34m(\u001b[0m\u001b[0mtext\u001b[0m\u001b[0;34m=\u001b[0m\u001b[0mtext\u001b[0m\u001b[0;34m,\u001b[0m \u001b[0mtext_pair\u001b[0m\u001b[0;34m=\u001b[0m\u001b[0mpair\u001b[0m\u001b[0;34m,\u001b[0m \u001b[0madd_special_tokens\u001b[0m\u001b[0;34m=\u001b[0m\u001b[0madd_special_tokens\u001b[0m\u001b[0;34m,\u001b[0m \u001b[0;34m**\u001b[0m\u001b[0mkwargs\u001b[0m\u001b[0;34m)\u001b[0m\u001b[0;34m.\u001b[0m\u001b[0mtokens\u001b[0m\u001b[0;34m(\u001b[0m\u001b[0;34m)\u001b[0m\u001b[0;34m\u001b[0m\u001b[0;34m\u001b[0m\u001b[0m\n\u001b[0m\u001b[1;32m    422\u001b[0m \u001b[0;34m\u001b[0m\u001b[0m\n\u001b[1;32m    423\u001b[0m     def set_truncation_and_padding(\n",
            "\u001b[0;32m/usr/local/lib/python3.11/dist-packages/transformers/tokenization_utils_base.py\u001b[0m in \u001b[0;36mencode_plus\u001b[0;34m(self, text, text_pair, add_special_tokens, padding, truncation, max_length, stride, is_split_into_words, pad_to_multiple_of, padding_side, return_tensors, return_token_type_ids, return_attention_mask, return_overflowing_tokens, return_special_tokens_mask, return_offsets_mapping, return_length, verbose, **kwargs)\u001b[0m\n\u001b[1;32m   3071\u001b[0m         )\n\u001b[1;32m   3072\u001b[0m \u001b[0;34m\u001b[0m\u001b[0m\n\u001b[0;32m-> 3073\u001b[0;31m         return self._encode_plus(\n\u001b[0m\u001b[1;32m   3074\u001b[0m             \u001b[0mtext\u001b[0m\u001b[0;34m=\u001b[0m\u001b[0mtext\u001b[0m\u001b[0;34m,\u001b[0m\u001b[0;34m\u001b[0m\u001b[0;34m\u001b[0m\u001b[0m\n\u001b[1;32m   3075\u001b[0m             \u001b[0mtext_pair\u001b[0m\u001b[0;34m=\u001b[0m\u001b[0mtext_pair\u001b[0m\u001b[0;34m,\u001b[0m\u001b[0;34m\u001b[0m\u001b[0;34m\u001b[0m\u001b[0m\n",
            "\u001b[0;32m/usr/local/lib/python3.11/dist-packages/transformers/tokenization_utils_fast.py\u001b[0m in \u001b[0;36m_encode_plus\u001b[0;34m(self, text, text_pair, add_special_tokens, padding_strategy, truncation_strategy, max_length, stride, is_split_into_words, pad_to_multiple_of, padding_side, return_tensors, return_token_type_ids, return_attention_mask, return_overflowing_tokens, return_special_tokens_mask, return_offsets_mapping, return_length, verbose, split_special_tokens, **kwargs)\u001b[0m\n\u001b[1;32m    611\u001b[0m     ) -> BatchEncoding:\n\u001b[1;32m    612\u001b[0m         \u001b[0mbatched_input\u001b[0m \u001b[0;34m=\u001b[0m \u001b[0;34m[\u001b[0m\u001b[0;34m(\u001b[0m\u001b[0mtext\u001b[0m\u001b[0;34m,\u001b[0m \u001b[0mtext_pair\u001b[0m\u001b[0;34m)\u001b[0m\u001b[0;34m]\u001b[0m \u001b[0;32mif\u001b[0m \u001b[0mtext_pair\u001b[0m \u001b[0;32melse\u001b[0m \u001b[0;34m[\u001b[0m\u001b[0mtext\u001b[0m\u001b[0;34m]\u001b[0m\u001b[0;34m\u001b[0m\u001b[0;34m\u001b[0m\u001b[0m\n\u001b[0;32m--> 613\u001b[0;31m         batched_output = self._batch_encode_plus(\n\u001b[0m\u001b[1;32m    614\u001b[0m             \u001b[0mbatched_input\u001b[0m\u001b[0;34m,\u001b[0m\u001b[0;34m\u001b[0m\u001b[0;34m\u001b[0m\u001b[0m\n\u001b[1;32m    615\u001b[0m             \u001b[0mis_split_into_words\u001b[0m\u001b[0;34m=\u001b[0m\u001b[0mis_split_into_words\u001b[0m\u001b[0;34m,\u001b[0m\u001b[0;34m\u001b[0m\u001b[0;34m\u001b[0m\u001b[0m\n",
            "\u001b[0;32m/usr/local/lib/python3.11/dist-packages/transformers/tokenization_utils_fast.py\u001b[0m in \u001b[0;36m_batch_encode_plus\u001b[0;34m(self, batch_text_or_text_pairs, add_special_tokens, padding_strategy, truncation_strategy, max_length, stride, is_split_into_words, pad_to_multiple_of, padding_side, return_tensors, return_token_type_ids, return_attention_mask, return_overflowing_tokens, return_special_tokens_mask, return_offsets_mapping, return_length, verbose, split_special_tokens)\u001b[0m\n\u001b[1;32m    537\u001b[0m             \u001b[0mself\u001b[0m\u001b[0;34m.\u001b[0m\u001b[0m_tokenizer\u001b[0m\u001b[0;34m.\u001b[0m\u001b[0mencode_special_tokens\u001b[0m \u001b[0;34m=\u001b[0m \u001b[0msplit_special_tokens\u001b[0m\u001b[0;34m\u001b[0m\u001b[0;34m\u001b[0m\u001b[0m\n\u001b[1;32m    538\u001b[0m \u001b[0;34m\u001b[0m\u001b[0m\n\u001b[0;32m--> 539\u001b[0;31m         encodings = self._tokenizer.encode_batch(\n\u001b[0m\u001b[1;32m    540\u001b[0m             \u001b[0mbatch_text_or_text_pairs\u001b[0m\u001b[0;34m,\u001b[0m\u001b[0;34m\u001b[0m\u001b[0;34m\u001b[0m\u001b[0m\n\u001b[1;32m    541\u001b[0m             \u001b[0madd_special_tokens\u001b[0m\u001b[0;34m=\u001b[0m\u001b[0madd_special_tokens\u001b[0m\u001b[0;34m,\u001b[0m\u001b[0;34m\u001b[0m\u001b[0;34m\u001b[0m\u001b[0m\n",
            "\u001b[0;31mTypeError\u001b[0m: TextEncodeInput must be Union[TextInputSequence, Tuple[InputSequence, InputSequence]]"
          ]
        }
      ]
    },
    {
      "cell_type": "code",
      "source": [
        "from sentence_transformers import SentenceTransformer, models\n",
        "#from kobert_transformers import get_tokenizer\n",
        "#tokenizer = get_tokenizer()\n",
        "\n",
        "#pip install 'git+https://github.com/SKTBrain/KoBERT.git#egg=kobert_tokenizer&subdirectory=kobert_hf'\n",
        "from kobert_tokenizer import KoBERTTokenizer\n",
        "# KoBERT 모델과 토크나이저 로드\n",
        "model_name = \"skt/kobert-base-v1\"\n",
        "tokenizer = KoBERTTokenizer.from_pretrained(model_name)\n",
        "\n",
        "# SentenceTransformer 모델 구성\n",
        "#word_embedding_model = models.Transformer(model_name, max_seq_length=256)\n",
        "#pooling_model = models.Pooling(word_embedding_model.get_word_embedding_dimension(), pooling_mode_mean_tokens=True)\n",
        "\n",
        "# SentenceTransformer 모델 생성\n",
        "#model = SentenceTransformer(modules=[word_embedding_model, pooling_model])\n",
        "\n",
        "# 문장 리스트\n",
        "sentences = merged_df['summary'].tolist()\n",
        "print(len(sentences), len(sentences[0]), sentences[0][:127])\n",
        "\n",
        "# 문장 임베딩 생성\n",
        "inputs = tokenizer(sentences)\n",
        "len(inputs)"
      ],
      "metadata": {
        "id": "7Q_YZOLGyAom",
        "outputId": "4bbe2d8d-ef9a-4740-afda-b6ce2126e92e",
        "colab": {
          "base_uri": "https://localhost:8080/"
        }
      },
      "execution_count": 38,
      "outputs": [
        {
          "output_type": "stream",
          "name": "stderr",
          "text": [
            "The tokenizer class you load from this checkpoint is not the same type as the class this function is called from. It may result in unexpected tokenization. \n",
            "The tokenizer class you load from this checkpoint is 'XLNetTokenizer'. \n",
            "The class this function is called from is 'KoBERTTokenizer'.\n"
          ]
        },
        {
          "output_type": "stream",
          "name": "stdout",
          "text": [
            "380 191 포트 헤들랜드에서 철광석 운송을 담당하는 호주 포트레스큐 메탈스 그룹(FMG)의 철도 운영이 1월 3일까지 정상화될 것으로 예상됩니다. 12월 30일 발생한 열차 탈선 사고로 인한 영향은 없으며, 충분한 재고로 인해 수출량에 미\n"
          ]
        },
        {
          "output_type": "execute_result",
          "data": {
            "text/plain": [
              "3"
            ]
          },
          "metadata": {},
          "execution_count": 38
        }
      ]
    },
    {
      "cell_type": "code",
      "source": [
        "# https://github.com/jhgan00/ko-sentence-transformers\n",
        "# https://pypi.org/project/ko-sentence-transformers/\n",
        "\n",
        "from sentence_transformers import SentenceTransformer, util\n",
        "import numpy as np\n",
        "\n",
        "model_name = \"jhgan/ko-sroberta-multitask\"\n",
        "#model_name = \"monologg/kobert\"\n",
        "#model_name = \"jhgan/ko-sbert-sts\"\n",
        "embedder = SentenceTransformer(model_name)\n",
        "\n",
        "sentences = merged_df['summary'].tolist()\n",
        "corpus_embeddings = embedder.encode(documents, convert_to_tensor=True, show_progress_bar=True)\n",
        "\n",
        "# Query sentences:\n",
        "#queries = ['니켈', '공급망']\n",
        "queries = [query]\n",
        "\n",
        "# Find the closest 5 sentences of the corpus for each query sentence based on cosine similarity\n",
        "top_k = 10\n",
        "for q in queries:\n",
        " query_embedding = embedder.encode(q, convert_to_tensor=True)\n",
        " cos_scores = util.pytorch_cos_sim(query_embedding, corpus_embeddings)[0]\n",
        " cos_scores = cos_scores.cpu()\n",
        "\n",
        " #We use np.argpartition, to only partially sort the top_k results\n",
        " top_results = np.argpartition(-cos_scores, range(top_k))[0:top_k]\n",
        "\n",
        " print(\"\\n\\n======================\\n\\n\")\n",
        " print(\"Query:\", q)\n",
        " print(\"\\nTop 5 most similar sentences in corpus:\")\n",
        "\n",
        " for idx in top_results[0:top_k]:\n",
        "  print(documents[idx].strip(), \"(Score: %.4f)\" % (cos_scores[idx]))"
      ],
      "metadata": {
        "id": "N-Ah6M08-_LW",
        "outputId": "696c30ab-17e6-4cd2-f7a1-b3dd8c26b6c3",
        "colab": {
          "base_uri": "https://localhost:8080/",
          "height": 308,
          "referenced_widgets": [
            "a279819a203d47498e4cfad1a7b6c9be",
            "79404b575b844615bc3d909a9a7157c7",
            "fe403f6f20ca466297c131ec018d778d",
            "92e165933c3c4c4d8e8883d739fb3efa",
            "d769345ef7084bf6bf34117c28c7e6da",
            "00c3cf3fa22d4c0492c1a03fe7a42ae3",
            "298a58cc496e45a091c2b5665551597c",
            "85eaac4f43094a758598fcc3c3551fd9",
            "ab7e140db6af40ecbcdc135d82c1d54e",
            "c5f45f7c46fb4b0caead8c96b75b1a14",
            "007b85ee59554d1d996482e2abf988d6"
          ]
        }
      },
      "execution_count": 54,
      "outputs": [
        {
          "output_type": "display_data",
          "data": {
            "text/plain": [
              "Batches:   0%|          | 0/12 [00:00<?, ?it/s]"
            ],
            "application/vnd.jupyter.widget-view+json": {
              "version_major": 2,
              "version_minor": 0,
              "model_id": "a279819a203d47498e4cfad1a7b6c9be"
            }
          },
          "metadata": {}
        },
        {
          "output_type": "stream",
          "name": "stdout",
          "text": [
            "\n",
            "\n",
            "======================\n",
            "\n",
            "\n",
            "Query: 니켈 공급망\n",
            "\n",
            "Top 5 most similar sentences in corpus:\n",
            "LME 니켈가격은 최근 5거래일 연속 1만 6천 달러대에서 하락세를 면치 못하는 중이다. BHP사의 서호주 니켈 사업 잠정 중단 소식으로 니켈가격은 소폭 상승하기도 했다. BHP사의 서호주 니켈 사업 중단은 Glencore사의 호주 황산염 생산에도 영향을 줄 것으로 알려졌다. 황산은 니켈제련에서 나오는 부산물이기 때문이다. Glencore와 IGO Limited사의 경우 BHP의 공급업체로, 인도네시아의 니켈 공급 과잉 우려 속에서 호주에 몇 개 남지 않은 니켈 생산업체이기도 하다. Glencore는 인도네시아의 저가 공급량 증가가 전 세계 니켈 시장의 구조적 변화를 이끌어내고 가격하락으로 이끌었다고 설명했다.BHP사는 서호주 광산 프로젝트 중단 배경에 대해 글로벌 니켈 공급과잉과 가격약세로 인한 경제적 어려움을 극복하지 못했으며 공급과잉이 최소 3년 이상 지속될 것으로 전망했다. SMM은 중국 내 니켈 및 황산염 공장에서 판매 촉진을 위해 과도한 할인율을 적용하면서 손실이 발생하고 있어 공장 가동률 저하 및 7월 중국의 니켈 생산량 감소가 불가피할 것으로 예상했다. 올해 4월 2일 이후 최근 니켈가격은 가장 낮은 수준을 기록 중이며, 우량 광산 기업들의 손익분기점에 도달한 수준의 가격대가 형성되어 있다고 지적했다. 광산들의 감산이 이어질 경우 가격은 상방 압력을 받을 수 있을 것으로 예상되기도 했다. 반면, 중국의 지난 6월 정련니켈 생산량은 2만 6,600톤으로 전년비 40.5% 증가했다. SMM은 오는 7월 생산량은 3만 300톤으로 전월대비 큰 폭으로 증가할 것으로 예측했다. 인도네시아의 니켈선철(NPI)의 6월 생산량은 11만 2,200톤으로 전년비 8.5% 증가했으며, 상반기 니켈선철 생산량은 69만 400톤으로 전년비 6.8% 증가했다. LME 재고의 경우 증가세 지속되며 지난 7월 12일 기준 니켈 재고는 9만 8,526톤으로 2년래 최고치 기록하기도 했다. 이는 중국의 제련 시설 증설, 인도네시아 클래스2 니켈의 클래스 1 니켈 변환 증가 등의 영향이 큰 것으로 분석됐다. LME 재고 유입은 올해 말까지 계속될 것으로 전망됐다. (Score: 0.5938)\n",
            "니켈 생산업체들이 낮아진 니켈 가격에 대응하기 위해 생산 가이던스 하향, 오퍼레이션 점검, 프로젝트 연기, 비용절감 조치 등을 강구하고 있다. Fastmarkets에 따르면 니켈 생산업체들이 가격하락 대응에 돌입하면서 연간 65.8만 톤 규모의 시설이 영향 받게 될 것으로 전망했다. Glencore는 New Caledonia Koniambo 니켈 오퍼레이션에 대해 시설 점검에 돌입하며 구매자를 찾는다고 공시했다. Glencore사는 지난 10년 간 해당 광산 운영에서 이익을 본 적이 없다고 밝혔다.BHP는 니켈 가격 하락으로 인해 Nickel West 광산 관리 및 유지보수에 돌입하는 것을 고려하고 있다. Horizonte Minerals사가 브라질 Araguaia 니켈 광산 프로젝트의 가동 시기를 2024년에서 2026년 상반기로 연기했다. Araguaia 프로젝트의 건설 비용 추산치는 기존의 5억 3,700만 달러에서 10억 달러로 상승한 영향이다. Horizonte사는 프로젝트 투자금을 확보하는데 어려움을 겪고 있다.한편, 호주정부가 니켈을 Critical Minerals(중요 광물) 목록에 추가하면서 관련업체는 약 39억 달러의 정부기금을 받을 수 있게 됐다. 호주정부는 작년 12월 중순 니켈을 strategic materials(전략광물)에 포함했었으나 이후 6개 니켈시설이 감산 혹은 시설점 검을 발표함에 따라 분류를 상향했다. (Score: 0.5933)\n",
            "가전과 자동차 , 건설 등 주요 연관 수요 산업의 내수 부진이 이어지는 가운데 최근 스테인리스의 주 원료인 LME 니켈 가격이 간만에 1만 7천 달러대를 넘어서면서 관련업계의 이목이 집중되고 있다. 최근 1년 간 LME 니켈 일일 거래가격 추이니켈가격의 강세장이 이어질 경우 보통 스테인리스 제품의 가격인상으로 이어지기 때문이다. 물론 최근 LME 니켈가격은 2거래일 연속 상승세를 보였다. 강세장의 지속 여부는 좀 더 지켜봐야 할 것으로 보인다. 스테인리스 유통 거래 가격이 상당 기간 보합세로 유지된 가운데 니켈의 상승 움직임이 시장 내 거래 활기를 불어넣을지도 관전포인트다. 그러나 스테인리스 연관 수요 산업의 침체가 지속되고 있는 점과 환율 강세, AD 규제 등에 따른 국내 가격 상대적 고점 형성 등으로 스테인리스 소재를 사용하는 제조 및 수요업체들의 경우 니켈 가격의 상승은 소재 매입원가 상승으로 이어져 달갑지 않은 상황이다. 매입원가를 판매 가격에 반영하기가 어려운 상황이 이어지고 있기 때문이다. 이는 유통업계도 마찬가지다. 니켈가격의 상승으로 시장 내 활기가 돌고 가격인상의 분위기가 형성되는 것은 긍정적이지만, 메이커들이 선제적으로 매입단가를 먼저 인상하여 제시할 경우 단가 적용의 시차 발생으로 손실 부담 가능성도 커지기 때문이다. 니켈가격의 상승이 상당 기간 지속될 경우 일단 해외 밀들의 한국향 오퍼가격은 묻고 따지지도 않고 인상 제시할 것으로 예상된다. 국내 밀들의 경우 속내는 좀 더 복잡해질 것으로 보인다. 최근 시장의 분위기와 중소 제조업체들의 상황을 고려했을 때 매입원가를 당장 며칠의 니켈가격 상승만으로 가격을 인상하는데 부담이 따를 수밖에 없기 때문이다. 특히 니켈가격이 한참 내려가는 시점에서는 시장안정화 명목 하에 인하에 적극적으로 나서지 않았던 영향도 있다. 최근 3년 간 LME 니켈 월 평균 가격 추이 니켈가격 상승 요인은LME 니켈 3개월물 official 가격이 22일 기준 전 거래일 대비 515달러 상승하여 톤당 17,240달러로 거래됐다. 니켈 시장의 약세 흐름이 장기간 나타나면서 니켈 제련 및 생산업체들 중심의 공급 조절이 확산된 가운데 니켈 가격이은 올해 들어 처음으로 톤당 1만 7천 달러대를 넘어섰다.메이저 니켈 광산 기업인 Anglo American사가 보유 자산 리뷰를 실시하겠다고 밝히면서 브라질 Barro Alto 니켈 광산에 대해 5억 달러에 달하는 상각 처리를 진행했다. Anglo American사가 적자를 내고 있는 니켈 광산의 조업을 중단할 가능성도 제기됐다. 메이저 니켈 광산 기업인 BHP사도 호주 Nickel West 사업부의 조업을 중단할 가능성을 최근 시사한 바 있으며, 프랑스 광산 기업인 Eramet사는 뉴칼레도니아 니켈 사업부인 SLN사의 부채 탕감을 위해 프랑스 정부와 협상을 진행하고 있는 것으로 알려졌다. 니켈 광산 기업인 First Quantum사는 호주 Ravensthorpe 니켈 광산의 조업을 중단했다. 뉴칼레도니아 Koniambo 니켈 광산의 다수 지분을 보유한 Glencore사도 지난주 니켈 광산 가동 중단을 결정했다. 주요 니켈 광산 기업들의 감산 혹은 가동 중단 뿐 아니라 최근 미국 정부가 러시아 비철금속 산업을 제재할 가능성이 높아지면서 니켈가격 상승에 영향을 준 것으로 분석됐다. 최근 백악관은 러시아 야권 지도자 알렉세이 나발니 사망의 책임이 러시아 정부에게 있다고 지적하며, 러시아에 대한 추가 제재를 실시할 것이라고 밝혔다. 러시아 Norilsk사는 인도네시아 기업을 제외하고 세계 2위 니켈 광산생산 기업이다. 한편, 중국 정부의 경기 부양 정책이 부동산 경기 회복으로 이어질 것이라는 기대도 니켈 가격을 지지한 것으로 분석됐다. 지난 20일 중국 인민은행은 5년물 대출우대금리(LPR)를 25bp 인하한다고 발표한 바 있다. (Score: 0.5737)\n",
            "호주 정부가 지난 16일(현지 시각) 니켈을 핵심 광물로 등재했다. 호주 총리는 친환경 정책에 대한 광범위한 정책 지원을 준비하고 향후 전기차 관련 광물 산업에서 핵심 우위를 점하기 위해 니켈을 핵심 광물로 분류해 위기에 처한 업계가 수십억 달러의 저렴한 정부 대출을 받을 수 있도록 하겠다고 밝혔다. 니켈이 중요 광물 목록에 포함되면서 니켈 회사는 중요 광물 시설에 26억 달러(60억 호주 달러) 규모의 저금리 대출을 제공하는 관련 보조금 프로그램에 따라 자금 조달을 받을 수 있게 됐다. 현재 호주 니켈 산업은 인도네시아 저가 니켈이 시장에 유입되며 어려움을 겪고 있다. 호주는 풍부한 광물로부터 더 많은 가치를 얻기 위해 배터리 화학 산업을 건설하기를 원하지만, 인도네시아 공급 급증으로 니켈 가격이 1년 만에 40% 급락한 후 수천 명의 일자리 삭감에 직면했다. BHP는 지난 15일 서호주 니켈 사업에 대해 25억 달러 손상 비용을 기록할 것이라고 밝혔으며 최근 몇 달간 광산 폐쇄, 생산량 감축 등이 이뤄진 바 있다. 매들린 킹(Madeleine King) 자원부 장관은 성명을 통해 국제 니켈 가격은 올해까지 상대적으로 낮은 수준을 유지할 것으로 예상되며 시장의 니켈 과잉이 조정될 때까지 수년 동안 지속될 가능성이 높다며 이에 따라 호주의 니켈 사업이 더 위험해졌다라고 말했다. 더불어 서호주(Western Australia)는 어려움을 겪고 있는 니켈 산업을 부양하기 위해 올해 3월 분기부터 지역 니켈 생산업체에 50%의 로열티 리베이트를 제공할 것이라고 밝혔다. 로저 쿡 서호주 총리를 17일(현지 시각) 성명을 통해 니켈 재정 지원 프로그램을 발표했다. 이는 정광 니켈의 평균 가격이 특정 분기 동안 톤당 2만 달러 미만일 경우 리베이트가 제공되며 회사는 향후 24개월 동안 분기별로 균등하게 분할하여 상환할 수 있다. 쿡 총리는 쿡 정부는 서호주의 중요한 니켈 산업에 로열티 리베이트를 제공해 수천 개의 지역 일자리를 지원할 뿐만 아니라 글로벌 배터리 광물 처리 허브가 되겠다는 주의 비전을 지원할 것이다라고 말했다. 한편, AFR(Australian Financial Review)는 보고서에서 호주가 청정에너지 기술의 국내 개발을 촉진하기 위해 녹색 에너지 부문에 대한 상당한 자금 지원 패키지를 공개할 계획이라고 전했다. (Score: 0.5461)\n",
            "세계 최대 규모의 광산업체인 BHP가 니켈 가격 급락과 인도네시아의 생산 급증에 따른 전 세계적인 공급 과잉으로 인해 올해 10월부터 니켈 웨스트(Nickel West) 사업을 중단하기로 결정했다. 해당 사업에는 퀸나나 정련소와 칼쿠를리 제련소, 마운트 키이쓰와 라인스터 광산, 웨스트 머스그레이브(West Musgrave) 개발이 포함된다. 올해 초 시장에 니켈 가격이 급락함에 따라 니켈 웨스트 사업부를 폐쇄하는 것을 고려한다고 밝혔던 BHP는 2027년 2월까지 니켈 웨스트와 웨스트 머스그레이브 프로젝트에 영향을 미치는 결정을 재검토할 것이라고 밝혔다. 제랄딘 슬래터리(Geraldine Slattery) BHP 호주 사장은 성명을 통해 호주에서의 다른 니켈 기업들과 마찬가지로 우리는 니켈의 세계적 과잉 공급으로 인한 상당한 경제적 어려움을 극복하지 못했다라고 말했다. BHP는 해당 사업부의 2,500명의 직원에게 회사의 다른 사업부로의 재배치 기회나 해고 수당을 제공할 것이라고 전했다. 또한 사업 중단으로 인해 영향을 받는 지역사회와 기업을 지원하기 위해 2,000만 호주 달러의 기금을 설립할 예정이다. 또한 2월에 발표한 사업의 장부 가치에 대한 35억 달러의 손상 비용에 3억 달러의 비현금 손상을 추가했다. 마들렌 킹(Madeleine King) 호주 자원부 장관은 BHP의 결정에 대해 실망의 뜻을 나타내며 연방 정부가 BHP와 니켈 부문과 협력해 호주 니켈 생산의 지속을 지원하기 위한 정책 대응에 임했다고 언급했다. 인도네시아에서 저렴한 니켈 공급이 급증하면서 서호주에서 오랫동안 이어져 온 니켈 광산 가동이 점차 중단되고 있다. 지난해 인도네시아의 니켈 생산량은 전 세계의 49%를 차지한 것으로 추산되는데, 인도네시아의 생산비중은 불과 8년 전만 해도 5% 미만에 그쳤었다. BHP의 니켈 웨스트(Nickel West) BHP의 니켈 웨스트 프로젝트가 중단되면 호주에는 IGO의 노바(Nova)와 포레스태니아(Forrestania), 글렌코어의 무린무린(Murrin Murrin) 등 3개의 니켈 광산만 운영하게 된다. 그마저도 노바와 포레스태니아 광산도 2년 내에 폐쇄될 예정이다. 인도네시아발 공급 상황은 여전하지만 호주는 지난 2월 니켈을 핵심 광물로 등재했다. 호주 총리는 친환경 정책에 대한 광범위한 정책 지원을 준비하고 향후 전기차 관련 광물 산업에서 핵심 우위를 점하기 위해 니켈을 핵심 광물로 분류해 위기에 처한 업계가 수십억 달러의 저렴한 정부 대출을 받을 수 있도록 하겠다고 밝힌 바 있다. 니켈이 중요 광물 목록에 포함되면서 니켈 회사는 중요 광물 시설에 26억 달러(60억 호주 달러) 규모의 저금리 대출을 제공하는 관련 보조금 프로그램에 따라 자금 조달을 받을 수 있게 됐다. 맥쿼리(Macquarie)를 포함한 전문가들은 가격이 바닥을 친 것은 최대 생산국인 인도네시아에서 나오는 니켈 생산량이 증가했기 때문이라고 분석했다. 이러한 과잉 공급으로 인해 니켈 광산의 절반이 현재 가격으로는 수익을 낼 수 없어 니켈 산업이 위기에 처하게 됐다. 전 세계 니켈 생산업체는 이러한 영향을 줄이기 위한 조치를 취하고 있다. 앵글로아메리칸(Anglo American)은 니켈 사업부를 매각하거나 폐쇄하는 옵션을 모색하고 있으며 글렌코어는 뉴칼레도니아 섬에서 일부 사업을 중단하고 매각하기로 결정했다 . (Score: 0.5390)\n"
          ]
        }
      ]
    },
    {
      "cell_type": "code",
      "source": [
        "import squarify\n",
        "\n",
        "# BM25 점수를 기준으로 상위 10개의 키워드와 점수를 딕셔너리로 생성\n",
        "top_10 = sorted_df.nlargest(10, 'bm25_score')\n",
        "top_10['keywords'] = top_10['keywords'].apply(lambda x: ','.join([x.split(',')[i] + ('\\n' if (i + 1) % 3 == 0 else '') for i in range(len(x.split(',')))]))\n",
        "#top_10['keywords'] = top_10['keywords'].apply(lambda x: '\\n'.join([x[i:i+20] for i in range(0, len(x), 20)]))  # 20자 단위로 줄바꿈\n",
        "sorted_twos = list(zip(top_10['keywords'], top_10['bm25_score']))\n",
        "sorted_dict = dict(sorted_twos)\n",
        "\n",
        "plt.figure(figsize=(12, 10))\n",
        "\n",
        "# 빈도값을 0~1까지 값을 갖도록 min-max 표준화\n",
        "norm = mpl.colors.Normalize(vmin=min(sorted_dict.values()),\n",
        "                            vmax=max(sorted_dict.values()))\n",
        "\n",
        "# 정규화된 값을 matplotlib의 cm(color map)에서 Blue 에 적용\n",
        "colors = [mpl.cm.Blues(norm(value)) for value in sorted_dict.values()]\n",
        "\n",
        "# squarify 플랏생성(label 단어, 박스 크기는 빈도, 색깔르 cm.Blue, 투명도는 30%\n",
        "squarify.plot(label=sorted_dict.keys(),\n",
        "              sizes=sorted_dict.values(),\n",
        "              color=colors,\n",
        "              alpha=.7)\n",
        "#plt.show()"
      ],
      "metadata": {
        "id": "yOkLTG0Jf48T"
      },
      "execution_count": null,
      "outputs": []
    },
    {
      "cell_type": "code",
      "source": [
        "!pip install feedparser goose3 --upgrade --quiet"
      ],
      "metadata": {
        "id": "NrCqX6gqgHdS",
        "outputId": "202da88b-10ae-4304-b4ab-7455fd77b2bf",
        "colab": {
          "base_uri": "https://localhost:8080/"
        }
      },
      "execution_count": 2,
      "outputs": [
        {
          "output_type": "stream",
          "name": "stdout",
          "text": [
            "  Preparing metadata (setup.py) ... \u001b[?25l\u001b[?25hdone\n",
            "\u001b[?25l     \u001b[90m━━━━━━━━━━━━━━━━━━━━━━━━━━━━━━━━━━━━━━━━\u001b[0m \u001b[32m0.0/981.5 kB\u001b[0m \u001b[31m?\u001b[0m eta \u001b[36m-:--:--\u001b[0m\r\u001b[2K     \u001b[91m━━━━━━━━━━━━━━━━━━━━━━━━━━━━━━━━━━━━━\u001b[0m\u001b[91m╸\u001b[0m \u001b[32m972.8/981.5 kB\u001b[0m \u001b[31m39.8 MB/s\u001b[0m eta \u001b[36m0:00:01\u001b[0m\r\u001b[2K     \u001b[90m━━━━━━━━━━━━━━━━━━━━━━━━━━━━━━━━━━━━━━\u001b[0m \u001b[32m981.5/981.5 kB\u001b[0m \u001b[31m22.1 MB/s\u001b[0m eta \u001b[36m0:00:00\u001b[0m\n",
            "\u001b[?25h  Preparing metadata (setup.py) ... \u001b[?25l\u001b[?25hdone\n",
            "\u001b[2K   \u001b[90m━━━━━━━━━━━━━━━━━━━━━━━━━━━━━━━━━━━━━━━━\u001b[0m \u001b[32m81.3/81.3 kB\u001b[0m \u001b[31m6.8 MB/s\u001b[0m eta \u001b[36m0:00:00\u001b[0m\n",
            "\u001b[2K   \u001b[90m━━━━━━━━━━━━━━━━━━━━━━━━━━━━━━━━━━━━━━━━\u001b[0m \u001b[32m113.4/113.4 kB\u001b[0m \u001b[31m9.0 MB/s\u001b[0m eta \u001b[36m0:00:00\u001b[0m\n",
            "\u001b[2K   \u001b[90m━━━━━━━━━━━━━━━━━━━━━━━━━━━━━━━━━━━━━━━━\u001b[0m \u001b[32m118.3/118.3 kB\u001b[0m \u001b[31m8.8 MB/s\u001b[0m eta \u001b[36m0:00:00\u001b[0m\n",
            "\u001b[?25h  Building wheel for langdetect (setup.py) ... \u001b[?25l\u001b[?25hdone\n",
            "  Building wheel for sgmllib3k (setup.py) ... \u001b[?25l\u001b[?25hdone\n"
          ]
        }
      ]
    },
    {
      "cell_type": "code",
      "source": [
        "import pandas as pd\n",
        "import feedparser\n",
        "import requests\n",
        "from goose3 import Goose\n",
        "from goose3.text import StopWordsKorean"
      ],
      "metadata": {
        "id": "VmbLUBSCgEN1"
      },
      "execution_count": 3,
      "outputs": []
    },
    {
      "cell_type": "code",
      "source": [
        "def get_data(url):\n",
        "    try:\n",
        "        res = requests.get(url)\n",
        "        html = res.text\n",
        "        data = feedparser.parse(html)\n",
        "        print(data.feed.title)\n",
        "        return data\n",
        "    except:\n",
        "        return None\n",
        "\n",
        "url = 'https://www.yna.co.kr/rss/industry.xml'\n",
        "url = 'https://www.chosun.com/arc/outboundfeeds/rss/category/economy/?outputType=xml'\n",
        "parsed_data = get_data(url)\n",
        "\n",
        "num_entries = 2 # article 정보 확인을 위해 임의로 번호를 지정했습니다.\n",
        "article = parsed_data['entries'][num_entries]\n",
        "article"
      ],
      "metadata": {
        "id": "XENg_TxLg54Y",
        "outputId": "808a41da-0596-4fc6-c969-c6afb70709ab",
        "colab": {
          "base_uri": "https://localhost:8080/"
        }
      },
      "execution_count": 14,
      "outputs": [
        {
          "output_type": "stream",
          "name": "stdout",
          "text": [
            "조선일보\n"
          ]
        },
        {
          "output_type": "execute_result",
          "data": {
            "text/plain": [
              "{'title': '31평 아파트 낙찰받자 선도지구 선정…1년도 안돼 9천만원 벌었다',\n",
              " 'title_detail': {'type': 'text/plain',\n",
              "  'language': None,\n",
              "  'base': '',\n",
              "  'value': '31평 아파트 낙찰받자 선도지구 선정…1년도 안돼 9천만원 벌었다'},\n",
              " 'links': [{'rel': 'alternate',\n",
              "   'type': 'text/html',\n",
              "   'href': 'https://www.chosun.com/economy/realty/investment_trends/2025/05/13/KTVP5NXI3EKBWQ7IFA2I2CFS7A/'}],\n",
              " 'link': 'https://www.chosun.com/economy/realty/investment_trends/2025/05/13/KTVP5NXI3EKBWQ7IFA2I2CFS7A/',\n",
              " 'id': 'https://www.chosun.com/economy/realty/investment_trends/2025/05/13/KTVP5NXI3EKBWQ7IFA2I2CFS7A/',\n",
              " 'guidislink': False,\n",
              " 'authors': [{'name': '이승우 기자(땅집고)'}],\n",
              " 'author': '이승우 기자(땅집고)',\n",
              " 'author_detail': {'name': '이승우 기자(땅집고)'},\n",
              " 'summary': '[땅집고] 재건축 아파트 경매에 관심이 많았던 A씨. 지난해 수도권 1기 신도시인 경기도 군포시 산본신도시 한 아파트 매물을 주목했다. 지상 20층, 822가구로 초등학교를 품고 있는 이른바 ‘초품아’였다. 1993년 준공해 30년이 넘었지만 산본 중심에 있어 기본적인 인프라는 좋았다. 무엇보다 노후계획도시 특별법에 따른 재건축을 기대할 수 있는 곳이었다.',\n",
              " 'summary_detail': {'type': 'text/html',\n",
              "  'language': None,\n",
              "  'base': '',\n",
              "  'value': '[땅집고] 재건축 아파트 경매에 관심이 많았던 A씨. 지난해 수도권 1기 신도시인 경기도 군포시 산본신도시 한 아파트 매물을 주목했다. 지상 20층, 822가구로 초등학교를 품고 있는 이른바 ‘초품아’였다. 1993년 준공해 30년이 넘었지만 산본 중심에 있어 기본적인 인프라는 좋았다. 무엇보다 노후계획도시 특별법에 따른 재건축을 기대할 수 있는 곳이었다.'},\n",
              " 'published': 'Tue, 13 May 2025 02:18:46 +0000',\n",
              " 'published_parsed': time.struct_time(tm_year=2025, tm_mon=5, tm_mday=13, tm_hour=2, tm_min=18, tm_sec=46, tm_wday=1, tm_yday=133, tm_isdst=0),\n",
              " 'content': [{'type': 'text/html',\n",
              "   'language': None,\n",
              "   'base': '',\n",
              "   'value': '<p><b>[땅집고]</b> 재건축 아파트 경매에 관심이 많았던 A씨. 지난해 수도권 1기 신도시인 경기도 군포시 산본신도시 한 아파트 매물을 주목했다. 지상 20층, 822가구로 초등학교를 품고 있는 이른바 \\'초품아\\'였다. 1993년 준공해 30년이 넘었지만 산본 중심에 있어 기본적인 인프라는 좋았다. 무엇보다 노후계획도시 특별법에 따른 재건축을 기대할 수 있는 곳이었다.</p><p>땅집고옥션(<a href=\"https://zipgoai.com/\">☞바로가기</a>)에 따르면 그는 작년 4월 이 아파트 12층, 전용면적 101㎡(약 31평)를 낙찰받았다. 감정가는 주변 시세(6억2000만원)와 비슷한 6억1000만원. 한 차례 유찰돼 최저입찰가는 4억8800만원까지 떨어졌다. 감정가의 약 90%인 5억5059만원을 써내 매수하는데 성공했다. 다소 높은 금액이라고 생각할 수도 있지만 A씨는 향후 매매 가격이 많이 오를 것으로 봤다.</p>'}],\n",
              " 'media_content': [{'url': 'https://www.chosun.com/resizer/v2/Q4VYYUXLIZQ3TTV3KO5OTQHLR4.jpg?auth=e548cdc25cfd8bebcd3191022ae2c40a66f764907662971879326c0fb54e9e01&smart=true&width=600&height=547',\n",
              "   'type': 'image/jpeg',\n",
              "   'height': '547',\n",
              "   'width': '600'}]}"
            ]
          },
          "metadata": {},
          "execution_count": 14
        }
      ]
    },
    {
      "cell_type": "code",
      "source": [
        "article['content']['value']"
      ],
      "metadata": {
        "id": "4OimpKNdhTHZ",
        "outputId": "6cb8ff38-3d6e-41cb-e6df-69490ef5eda8",
        "colab": {
          "base_uri": "https://localhost:8080/",
          "height": 147
        }
      },
      "execution_count": 15,
      "outputs": [
        {
          "output_type": "error",
          "ename": "TypeError",
          "evalue": "list indices must be integers or slices, not str",
          "traceback": [
            "\u001b[0;31m---------------------------------------------------------------------------\u001b[0m",
            "\u001b[0;31mTypeError\u001b[0m                                 Traceback (most recent call last)",
            "\u001b[0;32m<ipython-input-15-e80cea8b2c60>\u001b[0m in \u001b[0;36m<cell line: 0>\u001b[0;34m()\u001b[0m\n\u001b[0;32m----> 1\u001b[0;31m \u001b[0marticle\u001b[0m\u001b[0;34m[\u001b[0m\u001b[0;34m'content'\u001b[0m\u001b[0;34m]\u001b[0m\u001b[0;34m[\u001b[0m\u001b[0;34m'value'\u001b[0m\u001b[0;34m]\u001b[0m\u001b[0;34m\u001b[0m\u001b[0;34m\u001b[0m\u001b[0m\n\u001b[0m",
            "\u001b[0;31mTypeError\u001b[0m: list indices must be integers or slices, not str"
          ]
        }
      ]
    },
    {
      "cell_type": "code",
      "source": [
        "reader = Goose({'stopwords_class':StopWordsKorean})"
      ],
      "metadata": {
        "id": "ERzpcNAPgTva"
      },
      "execution_count": 4,
      "outputs": []
    },
    {
      "cell_type": "code",
      "source": [
        "url = 'https://news.chosun.com/site/data/html_dir/2020/02/13/2020021301270.html'\n",
        "contents = reader.extract(url=url)\n",
        "contents"
      ],
      "metadata": {
        "id": "OMYOGyEKgZAi",
        "outputId": "23f10b38-b45e-4d24-97c0-b71392e69b8a",
        "colab": {
          "base_uri": "https://localhost:8080/"
        }
      },
      "execution_count": 5,
      "outputs": [
        {
          "output_type": "execute_result",
          "data": {
            "text/plain": [
              "<goose3.article.Article at 0x7b466b583a10>"
            ]
          },
          "metadata": {},
          "execution_count": 5
        }
      ]
    },
    {
      "cell_type": "code",
      "source": [
        "print(contents.cleaned_text)"
      ],
      "metadata": {
        "id": "dqfyGrWUgkPT",
        "outputId": "cd3ba44b-eb66-4ba8-9d1c-0ef62708b85b",
        "colab": {
          "base_uri": "https://localhost:8080/"
        }
      },
      "execution_count": 7,
      "outputs": [
        {
          "output_type": "stream",
          "name": "stdout",
          "text": [
            "\n"
          ]
        }
      ]
    }
  ]
}