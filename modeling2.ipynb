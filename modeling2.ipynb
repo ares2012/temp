{
  "nbformat": 4,
  "nbformat_minor": 0,
  "metadata": {
    "colab": {
      "provenance": []
    },
    "kernelspec": {
      "name": "python3",
      "display_name": "Python 3"
    },
    "language_info": {
      "name": "python"
    },
    "widgets": {
      "application/vnd.jupyter.widget-state+json": {
        "8d3b65e775db42d79bec6f7f04a48143": {
          "model_module": "@jupyter-widgets/controls",
          "model_name": "HBoxModel",
          "model_module_version": "1.5.0",
          "state": {
            "_dom_classes": [],
            "_model_module": "@jupyter-widgets/controls",
            "_model_module_version": "1.5.0",
            "_model_name": "HBoxModel",
            "_view_count": null,
            "_view_module": "@jupyter-widgets/controls",
            "_view_module_version": "1.5.0",
            "_view_name": "HBoxView",
            "box_style": "",
            "children": [
              "IPY_MODEL_75344bedd9b74d4a988fc1bcb7670a52",
              "IPY_MODEL_bb765ea54fd943788828861210be5b8f",
              "IPY_MODEL_8874ffc88ece496c91bc6d36a2bc8484"
            ],
            "layout": "IPY_MODEL_4edbf79563414f1cbdb83a906c5ef900"
          }
        },
        "75344bedd9b74d4a988fc1bcb7670a52": {
          "model_module": "@jupyter-widgets/controls",
          "model_name": "HTMLModel",
          "model_module_version": "1.5.0",
          "state": {
            "_dom_classes": [],
            "_model_module": "@jupyter-widgets/controls",
            "_model_module_version": "1.5.0",
            "_model_name": "HTMLModel",
            "_view_count": null,
            "_view_module": "@jupyter-widgets/controls",
            "_view_module_version": "1.5.0",
            "_view_name": "HTMLView",
            "description": "",
            "description_tooltip": null,
            "layout": "IPY_MODEL_5e08570ef77243bd8c4c3b3f35b5c48d",
            "placeholder": "​",
            "style": "IPY_MODEL_e752b65929fd448bb2837175da7cc94d",
            "value": "Batches:   0%"
          }
        },
        "bb765ea54fd943788828861210be5b8f": {
          "model_module": "@jupyter-widgets/controls",
          "model_name": "FloatProgressModel",
          "model_module_version": "1.5.0",
          "state": {
            "_dom_classes": [],
            "_model_module": "@jupyter-widgets/controls",
            "_model_module_version": "1.5.0",
            "_model_name": "FloatProgressModel",
            "_view_count": null,
            "_view_module": "@jupyter-widgets/controls",
            "_view_module_version": "1.5.0",
            "_view_name": "ProgressView",
            "bar_style": "danger",
            "description": "",
            "description_tooltip": null,
            "layout": "IPY_MODEL_7b7bcb4960864ae1836ead87b80f9ce7",
            "max": 1,
            "min": 0,
            "orientation": "horizontal",
            "style": "IPY_MODEL_faee68eb4fbe4504b47edb89d237c2e0",
            "value": 0
          }
        },
        "8874ffc88ece496c91bc6d36a2bc8484": {
          "model_module": "@jupyter-widgets/controls",
          "model_name": "HTMLModel",
          "model_module_version": "1.5.0",
          "state": {
            "_dom_classes": [],
            "_model_module": "@jupyter-widgets/controls",
            "_model_module_version": "1.5.0",
            "_model_name": "HTMLModel",
            "_view_count": null,
            "_view_module": "@jupyter-widgets/controls",
            "_view_module_version": "1.5.0",
            "_view_name": "HTMLView",
            "description": "",
            "description_tooltip": null,
            "layout": "IPY_MODEL_9d340a8749f04f9088555d82a44cfcd1",
            "placeholder": "​",
            "style": "IPY_MODEL_fcc668de2032463e886681017b25765c",
            "value": " 0/1 [00:00&lt;?, ?it/s]"
          }
        },
        "4edbf79563414f1cbdb83a906c5ef900": {
          "model_module": "@jupyter-widgets/base",
          "model_name": "LayoutModel",
          "model_module_version": "1.2.0",
          "state": {
            "_model_module": "@jupyter-widgets/base",
            "_model_module_version": "1.2.0",
            "_model_name": "LayoutModel",
            "_view_count": null,
            "_view_module": "@jupyter-widgets/base",
            "_view_module_version": "1.2.0",
            "_view_name": "LayoutView",
            "align_content": null,
            "align_items": null,
            "align_self": null,
            "border": null,
            "bottom": null,
            "display": null,
            "flex": null,
            "flex_flow": null,
            "grid_area": null,
            "grid_auto_columns": null,
            "grid_auto_flow": null,
            "grid_auto_rows": null,
            "grid_column": null,
            "grid_gap": null,
            "grid_row": null,
            "grid_template_areas": null,
            "grid_template_columns": null,
            "grid_template_rows": null,
            "height": null,
            "justify_content": null,
            "justify_items": null,
            "left": null,
            "margin": null,
            "max_height": null,
            "max_width": null,
            "min_height": null,
            "min_width": null,
            "object_fit": null,
            "object_position": null,
            "order": null,
            "overflow": null,
            "overflow_x": null,
            "overflow_y": null,
            "padding": null,
            "right": null,
            "top": null,
            "visibility": null,
            "width": null
          }
        },
        "5e08570ef77243bd8c4c3b3f35b5c48d": {
          "model_module": "@jupyter-widgets/base",
          "model_name": "LayoutModel",
          "model_module_version": "1.2.0",
          "state": {
            "_model_module": "@jupyter-widgets/base",
            "_model_module_version": "1.2.0",
            "_model_name": "LayoutModel",
            "_view_count": null,
            "_view_module": "@jupyter-widgets/base",
            "_view_module_version": "1.2.0",
            "_view_name": "LayoutView",
            "align_content": null,
            "align_items": null,
            "align_self": null,
            "border": null,
            "bottom": null,
            "display": null,
            "flex": null,
            "flex_flow": null,
            "grid_area": null,
            "grid_auto_columns": null,
            "grid_auto_flow": null,
            "grid_auto_rows": null,
            "grid_column": null,
            "grid_gap": null,
            "grid_row": null,
            "grid_template_areas": null,
            "grid_template_columns": null,
            "grid_template_rows": null,
            "height": null,
            "justify_content": null,
            "justify_items": null,
            "left": null,
            "margin": null,
            "max_height": null,
            "max_width": null,
            "min_height": null,
            "min_width": null,
            "object_fit": null,
            "object_position": null,
            "order": null,
            "overflow": null,
            "overflow_x": null,
            "overflow_y": null,
            "padding": null,
            "right": null,
            "top": null,
            "visibility": null,
            "width": null
          }
        },
        "e752b65929fd448bb2837175da7cc94d": {
          "model_module": "@jupyter-widgets/controls",
          "model_name": "DescriptionStyleModel",
          "model_module_version": "1.5.0",
          "state": {
            "_model_module": "@jupyter-widgets/controls",
            "_model_module_version": "1.5.0",
            "_model_name": "DescriptionStyleModel",
            "_view_count": null,
            "_view_module": "@jupyter-widgets/base",
            "_view_module_version": "1.2.0",
            "_view_name": "StyleView",
            "description_width": ""
          }
        },
        "7b7bcb4960864ae1836ead87b80f9ce7": {
          "model_module": "@jupyter-widgets/base",
          "model_name": "LayoutModel",
          "model_module_version": "1.2.0",
          "state": {
            "_model_module": "@jupyter-widgets/base",
            "_model_module_version": "1.2.0",
            "_model_name": "LayoutModel",
            "_view_count": null,
            "_view_module": "@jupyter-widgets/base",
            "_view_module_version": "1.2.0",
            "_view_name": "LayoutView",
            "align_content": null,
            "align_items": null,
            "align_self": null,
            "border": null,
            "bottom": null,
            "display": null,
            "flex": null,
            "flex_flow": null,
            "grid_area": null,
            "grid_auto_columns": null,
            "grid_auto_flow": null,
            "grid_auto_rows": null,
            "grid_column": null,
            "grid_gap": null,
            "grid_row": null,
            "grid_template_areas": null,
            "grid_template_columns": null,
            "grid_template_rows": null,
            "height": null,
            "justify_content": null,
            "justify_items": null,
            "left": null,
            "margin": null,
            "max_height": null,
            "max_width": null,
            "min_height": null,
            "min_width": null,
            "object_fit": null,
            "object_position": null,
            "order": null,
            "overflow": null,
            "overflow_x": null,
            "overflow_y": null,
            "padding": null,
            "right": null,
            "top": null,
            "visibility": null,
            "width": null
          }
        },
        "faee68eb4fbe4504b47edb89d237c2e0": {
          "model_module": "@jupyter-widgets/controls",
          "model_name": "ProgressStyleModel",
          "model_module_version": "1.5.0",
          "state": {
            "_model_module": "@jupyter-widgets/controls",
            "_model_module_version": "1.5.0",
            "_model_name": "ProgressStyleModel",
            "_view_count": null,
            "_view_module": "@jupyter-widgets/base",
            "_view_module_version": "1.2.0",
            "_view_name": "StyleView",
            "bar_color": null,
            "description_width": ""
          }
        },
        "9d340a8749f04f9088555d82a44cfcd1": {
          "model_module": "@jupyter-widgets/base",
          "model_name": "LayoutModel",
          "model_module_version": "1.2.0",
          "state": {
            "_model_module": "@jupyter-widgets/base",
            "_model_module_version": "1.2.0",
            "_model_name": "LayoutModel",
            "_view_count": null,
            "_view_module": "@jupyter-widgets/base",
            "_view_module_version": "1.2.0",
            "_view_name": "LayoutView",
            "align_content": null,
            "align_items": null,
            "align_self": null,
            "border": null,
            "bottom": null,
            "display": null,
            "flex": null,
            "flex_flow": null,
            "grid_area": null,
            "grid_auto_columns": null,
            "grid_auto_flow": null,
            "grid_auto_rows": null,
            "grid_column": null,
            "grid_gap": null,
            "grid_row": null,
            "grid_template_areas": null,
            "grid_template_columns": null,
            "grid_template_rows": null,
            "height": null,
            "justify_content": null,
            "justify_items": null,
            "left": null,
            "margin": null,
            "max_height": null,
            "max_width": null,
            "min_height": null,
            "min_width": null,
            "object_fit": null,
            "object_position": null,
            "order": null,
            "overflow": null,
            "overflow_x": null,
            "overflow_y": null,
            "padding": null,
            "right": null,
            "top": null,
            "visibility": null,
            "width": null
          }
        },
        "fcc668de2032463e886681017b25765c": {
          "model_module": "@jupyter-widgets/controls",
          "model_name": "DescriptionStyleModel",
          "model_module_version": "1.5.0",
          "state": {
            "_model_module": "@jupyter-widgets/controls",
            "_model_module_version": "1.5.0",
            "_model_name": "DescriptionStyleModel",
            "_view_count": null,
            "_view_module": "@jupyter-widgets/base",
            "_view_module_version": "1.2.0",
            "_view_name": "StyleView",
            "description_width": ""
          }
        },
        "6cbbe7b1248b4a8ea492a93240f01a23": {
          "model_module": "@jupyter-widgets/controls",
          "model_name": "HBoxModel",
          "model_module_version": "1.5.0",
          "state": {
            "_dom_classes": [],
            "_model_module": "@jupyter-widgets/controls",
            "_model_module_version": "1.5.0",
            "_model_name": "HBoxModel",
            "_view_count": null,
            "_view_module": "@jupyter-widgets/controls",
            "_view_module_version": "1.5.0",
            "_view_name": "HBoxView",
            "box_style": "",
            "children": [
              "IPY_MODEL_69ae9dafaa654cc2a1b9e1647953ae4b",
              "IPY_MODEL_1fd18514bbfa4a1b8d9a9404284495d4",
              "IPY_MODEL_8f1ddfac2b75442faff35905539a7d52"
            ],
            "layout": "IPY_MODEL_95cb0ae900b74359986082d817bc08e0"
          }
        },
        "69ae9dafaa654cc2a1b9e1647953ae4b": {
          "model_module": "@jupyter-widgets/controls",
          "model_name": "HTMLModel",
          "model_module_version": "1.5.0",
          "state": {
            "_dom_classes": [],
            "_model_module": "@jupyter-widgets/controls",
            "_model_module_version": "1.5.0",
            "_model_name": "HTMLModel",
            "_view_count": null,
            "_view_module": "@jupyter-widgets/controls",
            "_view_module_version": "1.5.0",
            "_view_name": "HTMLView",
            "description": "",
            "description_tooltip": null,
            "layout": "IPY_MODEL_48f269d30c4f47c185c6ee172ec31785",
            "placeholder": "​",
            "style": "IPY_MODEL_a7a0673945d2447e961752b38683d39b",
            "value": "Batches: 100%"
          }
        },
        "1fd18514bbfa4a1b8d9a9404284495d4": {
          "model_module": "@jupyter-widgets/controls",
          "model_name": "FloatProgressModel",
          "model_module_version": "1.5.0",
          "state": {
            "_dom_classes": [],
            "_model_module": "@jupyter-widgets/controls",
            "_model_module_version": "1.5.0",
            "_model_name": "FloatProgressModel",
            "_view_count": null,
            "_view_module": "@jupyter-widgets/controls",
            "_view_module_version": "1.5.0",
            "_view_name": "ProgressView",
            "bar_style": "success",
            "description": "",
            "description_tooltip": null,
            "layout": "IPY_MODEL_4a50458ebe444642be29a6a57c3a3e04",
            "max": 12,
            "min": 0,
            "orientation": "horizontal",
            "style": "IPY_MODEL_c360cd41963248139d0c19104fc46dbe",
            "value": 12
          }
        },
        "8f1ddfac2b75442faff35905539a7d52": {
          "model_module": "@jupyter-widgets/controls",
          "model_name": "HTMLModel",
          "model_module_version": "1.5.0",
          "state": {
            "_dom_classes": [],
            "_model_module": "@jupyter-widgets/controls",
            "_model_module_version": "1.5.0",
            "_model_name": "HTMLModel",
            "_view_count": null,
            "_view_module": "@jupyter-widgets/controls",
            "_view_module_version": "1.5.0",
            "_view_name": "HTMLView",
            "description": "",
            "description_tooltip": null,
            "layout": "IPY_MODEL_67807efde674448fb83bae0787c639c7",
            "placeholder": "​",
            "style": "IPY_MODEL_c247ba3f0dcb4e04a3064f9ce6388f46",
            "value": " 12/12 [02:14&lt;00:00,  9.34s/it]"
          }
        },
        "95cb0ae900b74359986082d817bc08e0": {
          "model_module": "@jupyter-widgets/base",
          "model_name": "LayoutModel",
          "model_module_version": "1.2.0",
          "state": {
            "_model_module": "@jupyter-widgets/base",
            "_model_module_version": "1.2.0",
            "_model_name": "LayoutModel",
            "_view_count": null,
            "_view_module": "@jupyter-widgets/base",
            "_view_module_version": "1.2.0",
            "_view_name": "LayoutView",
            "align_content": null,
            "align_items": null,
            "align_self": null,
            "border": null,
            "bottom": null,
            "display": null,
            "flex": null,
            "flex_flow": null,
            "grid_area": null,
            "grid_auto_columns": null,
            "grid_auto_flow": null,
            "grid_auto_rows": null,
            "grid_column": null,
            "grid_gap": null,
            "grid_row": null,
            "grid_template_areas": null,
            "grid_template_columns": null,
            "grid_template_rows": null,
            "height": null,
            "justify_content": null,
            "justify_items": null,
            "left": null,
            "margin": null,
            "max_height": null,
            "max_width": null,
            "min_height": null,
            "min_width": null,
            "object_fit": null,
            "object_position": null,
            "order": null,
            "overflow": null,
            "overflow_x": null,
            "overflow_y": null,
            "padding": null,
            "right": null,
            "top": null,
            "visibility": null,
            "width": null
          }
        },
        "48f269d30c4f47c185c6ee172ec31785": {
          "model_module": "@jupyter-widgets/base",
          "model_name": "LayoutModel",
          "model_module_version": "1.2.0",
          "state": {
            "_model_module": "@jupyter-widgets/base",
            "_model_module_version": "1.2.0",
            "_model_name": "LayoutModel",
            "_view_count": null,
            "_view_module": "@jupyter-widgets/base",
            "_view_module_version": "1.2.0",
            "_view_name": "LayoutView",
            "align_content": null,
            "align_items": null,
            "align_self": null,
            "border": null,
            "bottom": null,
            "display": null,
            "flex": null,
            "flex_flow": null,
            "grid_area": null,
            "grid_auto_columns": null,
            "grid_auto_flow": null,
            "grid_auto_rows": null,
            "grid_column": null,
            "grid_gap": null,
            "grid_row": null,
            "grid_template_areas": null,
            "grid_template_columns": null,
            "grid_template_rows": null,
            "height": null,
            "justify_content": null,
            "justify_items": null,
            "left": null,
            "margin": null,
            "max_height": null,
            "max_width": null,
            "min_height": null,
            "min_width": null,
            "object_fit": null,
            "object_position": null,
            "order": null,
            "overflow": null,
            "overflow_x": null,
            "overflow_y": null,
            "padding": null,
            "right": null,
            "top": null,
            "visibility": null,
            "width": null
          }
        },
        "a7a0673945d2447e961752b38683d39b": {
          "model_module": "@jupyter-widgets/controls",
          "model_name": "DescriptionStyleModel",
          "model_module_version": "1.5.0",
          "state": {
            "_model_module": "@jupyter-widgets/controls",
            "_model_module_version": "1.5.0",
            "_model_name": "DescriptionStyleModel",
            "_view_count": null,
            "_view_module": "@jupyter-widgets/base",
            "_view_module_version": "1.2.0",
            "_view_name": "StyleView",
            "description_width": ""
          }
        },
        "4a50458ebe444642be29a6a57c3a3e04": {
          "model_module": "@jupyter-widgets/base",
          "model_name": "LayoutModel",
          "model_module_version": "1.2.0",
          "state": {
            "_model_module": "@jupyter-widgets/base",
            "_model_module_version": "1.2.0",
            "_model_name": "LayoutModel",
            "_view_count": null,
            "_view_module": "@jupyter-widgets/base",
            "_view_module_version": "1.2.0",
            "_view_name": "LayoutView",
            "align_content": null,
            "align_items": null,
            "align_self": null,
            "border": null,
            "bottom": null,
            "display": null,
            "flex": null,
            "flex_flow": null,
            "grid_area": null,
            "grid_auto_columns": null,
            "grid_auto_flow": null,
            "grid_auto_rows": null,
            "grid_column": null,
            "grid_gap": null,
            "grid_row": null,
            "grid_template_areas": null,
            "grid_template_columns": null,
            "grid_template_rows": null,
            "height": null,
            "justify_content": null,
            "justify_items": null,
            "left": null,
            "margin": null,
            "max_height": null,
            "max_width": null,
            "min_height": null,
            "min_width": null,
            "object_fit": null,
            "object_position": null,
            "order": null,
            "overflow": null,
            "overflow_x": null,
            "overflow_y": null,
            "padding": null,
            "right": null,
            "top": null,
            "visibility": null,
            "width": null
          }
        },
        "c360cd41963248139d0c19104fc46dbe": {
          "model_module": "@jupyter-widgets/controls",
          "model_name": "ProgressStyleModel",
          "model_module_version": "1.5.0",
          "state": {
            "_model_module": "@jupyter-widgets/controls",
            "_model_module_version": "1.5.0",
            "_model_name": "ProgressStyleModel",
            "_view_count": null,
            "_view_module": "@jupyter-widgets/base",
            "_view_module_version": "1.2.0",
            "_view_name": "StyleView",
            "bar_color": null,
            "description_width": ""
          }
        },
        "67807efde674448fb83bae0787c639c7": {
          "model_module": "@jupyter-widgets/base",
          "model_name": "LayoutModel",
          "model_module_version": "1.2.0",
          "state": {
            "_model_module": "@jupyter-widgets/base",
            "_model_module_version": "1.2.0",
            "_model_name": "LayoutModel",
            "_view_count": null,
            "_view_module": "@jupyter-widgets/base",
            "_view_module_version": "1.2.0",
            "_view_name": "LayoutView",
            "align_content": null,
            "align_items": null,
            "align_self": null,
            "border": null,
            "bottom": null,
            "display": null,
            "flex": null,
            "flex_flow": null,
            "grid_area": null,
            "grid_auto_columns": null,
            "grid_auto_flow": null,
            "grid_auto_rows": null,
            "grid_column": null,
            "grid_gap": null,
            "grid_row": null,
            "grid_template_areas": null,
            "grid_template_columns": null,
            "grid_template_rows": null,
            "height": null,
            "justify_content": null,
            "justify_items": null,
            "left": null,
            "margin": null,
            "max_height": null,
            "max_width": null,
            "min_height": null,
            "min_width": null,
            "object_fit": null,
            "object_position": null,
            "order": null,
            "overflow": null,
            "overflow_x": null,
            "overflow_y": null,
            "padding": null,
            "right": null,
            "top": null,
            "visibility": null,
            "width": null
          }
        },
        "c247ba3f0dcb4e04a3064f9ce6388f46": {
          "model_module": "@jupyter-widgets/controls",
          "model_name": "DescriptionStyleModel",
          "model_module_version": "1.5.0",
          "state": {
            "_model_module": "@jupyter-widgets/controls",
            "_model_module_version": "1.5.0",
            "_model_name": "DescriptionStyleModel",
            "_view_count": null,
            "_view_module": "@jupyter-widgets/base",
            "_view_module_version": "1.2.0",
            "_view_name": "StyleView",
            "description_width": ""
          }
        },
        "1be9b086ad1842c1ae9b1c5dcc5dadfa": {
          "model_module": "@jupyter-widgets/controls",
          "model_name": "HBoxModel",
          "model_module_version": "1.5.0",
          "state": {
            "_dom_classes": [],
            "_model_module": "@jupyter-widgets/controls",
            "_model_module_version": "1.5.0",
            "_model_name": "HBoxModel",
            "_view_count": null,
            "_view_module": "@jupyter-widgets/controls",
            "_view_module_version": "1.5.0",
            "_view_name": "HBoxView",
            "box_style": "",
            "children": [
              "IPY_MODEL_ff6f24d4f93f4329aac6d38e9e8ad39d",
              "IPY_MODEL_9d7fe4a863994bbbac35f82742a12aa1",
              "IPY_MODEL_a028c0431624473d8d5bf0a3906a4384"
            ],
            "layout": "IPY_MODEL_61246370b9ea4172807470079b10b532"
          }
        },
        "ff6f24d4f93f4329aac6d38e9e8ad39d": {
          "model_module": "@jupyter-widgets/controls",
          "model_name": "HTMLModel",
          "model_module_version": "1.5.0",
          "state": {
            "_dom_classes": [],
            "_model_module": "@jupyter-widgets/controls",
            "_model_module_version": "1.5.0",
            "_model_name": "HTMLModel",
            "_view_count": null,
            "_view_module": "@jupyter-widgets/controls",
            "_view_module_version": "1.5.0",
            "_view_name": "HTMLView",
            "description": "",
            "description_tooltip": null,
            "layout": "IPY_MODEL_632307965d7c46168f34b7a37d6c8c3e",
            "placeholder": "​",
            "style": "IPY_MODEL_36f673513b4b41abbab32cd135536075",
            "value": "Batches: 100%"
          }
        },
        "9d7fe4a863994bbbac35f82742a12aa1": {
          "model_module": "@jupyter-widgets/controls",
          "model_name": "FloatProgressModel",
          "model_module_version": "1.5.0",
          "state": {
            "_dom_classes": [],
            "_model_module": "@jupyter-widgets/controls",
            "_model_module_version": "1.5.0",
            "_model_name": "FloatProgressModel",
            "_view_count": null,
            "_view_module": "@jupyter-widgets/controls",
            "_view_module_version": "1.5.0",
            "_view_name": "ProgressView",
            "bar_style": "success",
            "description": "",
            "description_tooltip": null,
            "layout": "IPY_MODEL_0fa2f80a76b340f3a4f54c821f57ef6c",
            "max": 12,
            "min": 0,
            "orientation": "horizontal",
            "style": "IPY_MODEL_a05981184a4747528fd69e200ec5183f",
            "value": 12
          }
        },
        "a028c0431624473d8d5bf0a3906a4384": {
          "model_module": "@jupyter-widgets/controls",
          "model_name": "HTMLModel",
          "model_module_version": "1.5.0",
          "state": {
            "_dom_classes": [],
            "_model_module": "@jupyter-widgets/controls",
            "_model_module_version": "1.5.0",
            "_model_name": "HTMLModel",
            "_view_count": null,
            "_view_module": "@jupyter-widgets/controls",
            "_view_module_version": "1.5.0",
            "_view_name": "HTMLView",
            "description": "",
            "description_tooltip": null,
            "layout": "IPY_MODEL_20a2626b43c743a4ab2cd225d68d9853",
            "placeholder": "​",
            "style": "IPY_MODEL_92e8831e6e3f476f9536e0ea419667db",
            "value": " 12/12 [02:34&lt;00:00, 12.49s/it]"
          }
        },
        "61246370b9ea4172807470079b10b532": {
          "model_module": "@jupyter-widgets/base",
          "model_name": "LayoutModel",
          "model_module_version": "1.2.0",
          "state": {
            "_model_module": "@jupyter-widgets/base",
            "_model_module_version": "1.2.0",
            "_model_name": "LayoutModel",
            "_view_count": null,
            "_view_module": "@jupyter-widgets/base",
            "_view_module_version": "1.2.0",
            "_view_name": "LayoutView",
            "align_content": null,
            "align_items": null,
            "align_self": null,
            "border": null,
            "bottom": null,
            "display": null,
            "flex": null,
            "flex_flow": null,
            "grid_area": null,
            "grid_auto_columns": null,
            "grid_auto_flow": null,
            "grid_auto_rows": null,
            "grid_column": null,
            "grid_gap": null,
            "grid_row": null,
            "grid_template_areas": null,
            "grid_template_columns": null,
            "grid_template_rows": null,
            "height": null,
            "justify_content": null,
            "justify_items": null,
            "left": null,
            "margin": null,
            "max_height": null,
            "max_width": null,
            "min_height": null,
            "min_width": null,
            "object_fit": null,
            "object_position": null,
            "order": null,
            "overflow": null,
            "overflow_x": null,
            "overflow_y": null,
            "padding": null,
            "right": null,
            "top": null,
            "visibility": null,
            "width": null
          }
        },
        "632307965d7c46168f34b7a37d6c8c3e": {
          "model_module": "@jupyter-widgets/base",
          "model_name": "LayoutModel",
          "model_module_version": "1.2.0",
          "state": {
            "_model_module": "@jupyter-widgets/base",
            "_model_module_version": "1.2.0",
            "_model_name": "LayoutModel",
            "_view_count": null,
            "_view_module": "@jupyter-widgets/base",
            "_view_module_version": "1.2.0",
            "_view_name": "LayoutView",
            "align_content": null,
            "align_items": null,
            "align_self": null,
            "border": null,
            "bottom": null,
            "display": null,
            "flex": null,
            "flex_flow": null,
            "grid_area": null,
            "grid_auto_columns": null,
            "grid_auto_flow": null,
            "grid_auto_rows": null,
            "grid_column": null,
            "grid_gap": null,
            "grid_row": null,
            "grid_template_areas": null,
            "grid_template_columns": null,
            "grid_template_rows": null,
            "height": null,
            "justify_content": null,
            "justify_items": null,
            "left": null,
            "margin": null,
            "max_height": null,
            "max_width": null,
            "min_height": null,
            "min_width": null,
            "object_fit": null,
            "object_position": null,
            "order": null,
            "overflow": null,
            "overflow_x": null,
            "overflow_y": null,
            "padding": null,
            "right": null,
            "top": null,
            "visibility": null,
            "width": null
          }
        },
        "36f673513b4b41abbab32cd135536075": {
          "model_module": "@jupyter-widgets/controls",
          "model_name": "DescriptionStyleModel",
          "model_module_version": "1.5.0",
          "state": {
            "_model_module": "@jupyter-widgets/controls",
            "_model_module_version": "1.5.0",
            "_model_name": "DescriptionStyleModel",
            "_view_count": null,
            "_view_module": "@jupyter-widgets/base",
            "_view_module_version": "1.2.0",
            "_view_name": "StyleView",
            "description_width": ""
          }
        },
        "0fa2f80a76b340f3a4f54c821f57ef6c": {
          "model_module": "@jupyter-widgets/base",
          "model_name": "LayoutModel",
          "model_module_version": "1.2.0",
          "state": {
            "_model_module": "@jupyter-widgets/base",
            "_model_module_version": "1.2.0",
            "_model_name": "LayoutModel",
            "_view_count": null,
            "_view_module": "@jupyter-widgets/base",
            "_view_module_version": "1.2.0",
            "_view_name": "LayoutView",
            "align_content": null,
            "align_items": null,
            "align_self": null,
            "border": null,
            "bottom": null,
            "display": null,
            "flex": null,
            "flex_flow": null,
            "grid_area": null,
            "grid_auto_columns": null,
            "grid_auto_flow": null,
            "grid_auto_rows": null,
            "grid_column": null,
            "grid_gap": null,
            "grid_row": null,
            "grid_template_areas": null,
            "grid_template_columns": null,
            "grid_template_rows": null,
            "height": null,
            "justify_content": null,
            "justify_items": null,
            "left": null,
            "margin": null,
            "max_height": null,
            "max_width": null,
            "min_height": null,
            "min_width": null,
            "object_fit": null,
            "object_position": null,
            "order": null,
            "overflow": null,
            "overflow_x": null,
            "overflow_y": null,
            "padding": null,
            "right": null,
            "top": null,
            "visibility": null,
            "width": null
          }
        },
        "a05981184a4747528fd69e200ec5183f": {
          "model_module": "@jupyter-widgets/controls",
          "model_name": "ProgressStyleModel",
          "model_module_version": "1.5.0",
          "state": {
            "_model_module": "@jupyter-widgets/controls",
            "_model_module_version": "1.5.0",
            "_model_name": "ProgressStyleModel",
            "_view_count": null,
            "_view_module": "@jupyter-widgets/base",
            "_view_module_version": "1.2.0",
            "_view_name": "StyleView",
            "bar_color": null,
            "description_width": ""
          }
        },
        "20a2626b43c743a4ab2cd225d68d9853": {
          "model_module": "@jupyter-widgets/base",
          "model_name": "LayoutModel",
          "model_module_version": "1.2.0",
          "state": {
            "_model_module": "@jupyter-widgets/base",
            "_model_module_version": "1.2.0",
            "_model_name": "LayoutModel",
            "_view_count": null,
            "_view_module": "@jupyter-widgets/base",
            "_view_module_version": "1.2.0",
            "_view_name": "LayoutView",
            "align_content": null,
            "align_items": null,
            "align_self": null,
            "border": null,
            "bottom": null,
            "display": null,
            "flex": null,
            "flex_flow": null,
            "grid_area": null,
            "grid_auto_columns": null,
            "grid_auto_flow": null,
            "grid_auto_rows": null,
            "grid_column": null,
            "grid_gap": null,
            "grid_row": null,
            "grid_template_areas": null,
            "grid_template_columns": null,
            "grid_template_rows": null,
            "height": null,
            "justify_content": null,
            "justify_items": null,
            "left": null,
            "margin": null,
            "max_height": null,
            "max_width": null,
            "min_height": null,
            "min_width": null,
            "object_fit": null,
            "object_position": null,
            "order": null,
            "overflow": null,
            "overflow_x": null,
            "overflow_y": null,
            "padding": null,
            "right": null,
            "top": null,
            "visibility": null,
            "width": null
          }
        },
        "92e8831e6e3f476f9536e0ea419667db": {
          "model_module": "@jupyter-widgets/controls",
          "model_name": "DescriptionStyleModel",
          "model_module_version": "1.5.0",
          "state": {
            "_model_module": "@jupyter-widgets/controls",
            "_model_module_version": "1.5.0",
            "_model_name": "DescriptionStyleModel",
            "_view_count": null,
            "_view_module": "@jupyter-widgets/base",
            "_view_module_version": "1.2.0",
            "_view_name": "StyleView",
            "description_width": ""
          }
        },
        "c042483a7b5b47aca7c3eecb98fa7952": {
          "model_module": "@jupyter-widgets/controls",
          "model_name": "HBoxModel",
          "model_module_version": "1.5.0",
          "state": {
            "_dom_classes": [],
            "_model_module": "@jupyter-widgets/controls",
            "_model_module_version": "1.5.0",
            "_model_name": "HBoxModel",
            "_view_count": null,
            "_view_module": "@jupyter-widgets/controls",
            "_view_module_version": "1.5.0",
            "_view_name": "HBoxView",
            "box_style": "",
            "children": [
              "IPY_MODEL_4286b4370baf416ab1eba33c13868151",
              "IPY_MODEL_ea2f644b296948988974a8dccaa0baaf",
              "IPY_MODEL_dfc1b55918bd442790443573fd2d9339"
            ],
            "layout": "IPY_MODEL_a5bc37bc3b6d4a14a3a523ca9337b710"
          }
        },
        "4286b4370baf416ab1eba33c13868151": {
          "model_module": "@jupyter-widgets/controls",
          "model_name": "HTMLModel",
          "model_module_version": "1.5.0",
          "state": {
            "_dom_classes": [],
            "_model_module": "@jupyter-widgets/controls",
            "_model_module_version": "1.5.0",
            "_model_name": "HTMLModel",
            "_view_count": null,
            "_view_module": "@jupyter-widgets/controls",
            "_view_module_version": "1.5.0",
            "_view_name": "HTMLView",
            "description": "",
            "description_tooltip": null,
            "layout": "IPY_MODEL_fa8cdcf6c31e476bb604e5bdc2b2be1a",
            "placeholder": "​",
            "style": "IPY_MODEL_732bc264f301414daf3ada664acb08c2",
            "value": "Batches: 100%"
          }
        },
        "ea2f644b296948988974a8dccaa0baaf": {
          "model_module": "@jupyter-widgets/controls",
          "model_name": "FloatProgressModel",
          "model_module_version": "1.5.0",
          "state": {
            "_dom_classes": [],
            "_model_module": "@jupyter-widgets/controls",
            "_model_module_version": "1.5.0",
            "_model_name": "FloatProgressModel",
            "_view_count": null,
            "_view_module": "@jupyter-widgets/controls",
            "_view_module_version": "1.5.0",
            "_view_name": "ProgressView",
            "bar_style": "success",
            "description": "",
            "description_tooltip": null,
            "layout": "IPY_MODEL_41d58c8760b644c0913c5bc8c98922e7",
            "max": 12,
            "min": 0,
            "orientation": "horizontal",
            "style": "IPY_MODEL_b5d9e87a690440d9b3479dc89fc5904e",
            "value": 12
          }
        },
        "dfc1b55918bd442790443573fd2d9339": {
          "model_module": "@jupyter-widgets/controls",
          "model_name": "HTMLModel",
          "model_module_version": "1.5.0",
          "state": {
            "_dom_classes": [],
            "_model_module": "@jupyter-widgets/controls",
            "_model_module_version": "1.5.0",
            "_model_name": "HTMLModel",
            "_view_count": null,
            "_view_module": "@jupyter-widgets/controls",
            "_view_module_version": "1.5.0",
            "_view_name": "HTMLView",
            "description": "",
            "description_tooltip": null,
            "layout": "IPY_MODEL_99c9edc42bd741ae80fccb54066f2d67",
            "placeholder": "​",
            "style": "IPY_MODEL_6b2fce3308d347a0b91f7de83f4b10a2",
            "value": " 12/12 [02:36&lt;00:00, 12.77s/it]"
          }
        },
        "a5bc37bc3b6d4a14a3a523ca9337b710": {
          "model_module": "@jupyter-widgets/base",
          "model_name": "LayoutModel",
          "model_module_version": "1.2.0",
          "state": {
            "_model_module": "@jupyter-widgets/base",
            "_model_module_version": "1.2.0",
            "_model_name": "LayoutModel",
            "_view_count": null,
            "_view_module": "@jupyter-widgets/base",
            "_view_module_version": "1.2.0",
            "_view_name": "LayoutView",
            "align_content": null,
            "align_items": null,
            "align_self": null,
            "border": null,
            "bottom": null,
            "display": null,
            "flex": null,
            "flex_flow": null,
            "grid_area": null,
            "grid_auto_columns": null,
            "grid_auto_flow": null,
            "grid_auto_rows": null,
            "grid_column": null,
            "grid_gap": null,
            "grid_row": null,
            "grid_template_areas": null,
            "grid_template_columns": null,
            "grid_template_rows": null,
            "height": null,
            "justify_content": null,
            "justify_items": null,
            "left": null,
            "margin": null,
            "max_height": null,
            "max_width": null,
            "min_height": null,
            "min_width": null,
            "object_fit": null,
            "object_position": null,
            "order": null,
            "overflow": null,
            "overflow_x": null,
            "overflow_y": null,
            "padding": null,
            "right": null,
            "top": null,
            "visibility": null,
            "width": null
          }
        },
        "fa8cdcf6c31e476bb604e5bdc2b2be1a": {
          "model_module": "@jupyter-widgets/base",
          "model_name": "LayoutModel",
          "model_module_version": "1.2.0",
          "state": {
            "_model_module": "@jupyter-widgets/base",
            "_model_module_version": "1.2.0",
            "_model_name": "LayoutModel",
            "_view_count": null,
            "_view_module": "@jupyter-widgets/base",
            "_view_module_version": "1.2.0",
            "_view_name": "LayoutView",
            "align_content": null,
            "align_items": null,
            "align_self": null,
            "border": null,
            "bottom": null,
            "display": null,
            "flex": null,
            "flex_flow": null,
            "grid_area": null,
            "grid_auto_columns": null,
            "grid_auto_flow": null,
            "grid_auto_rows": null,
            "grid_column": null,
            "grid_gap": null,
            "grid_row": null,
            "grid_template_areas": null,
            "grid_template_columns": null,
            "grid_template_rows": null,
            "height": null,
            "justify_content": null,
            "justify_items": null,
            "left": null,
            "margin": null,
            "max_height": null,
            "max_width": null,
            "min_height": null,
            "min_width": null,
            "object_fit": null,
            "object_position": null,
            "order": null,
            "overflow": null,
            "overflow_x": null,
            "overflow_y": null,
            "padding": null,
            "right": null,
            "top": null,
            "visibility": null,
            "width": null
          }
        },
        "732bc264f301414daf3ada664acb08c2": {
          "model_module": "@jupyter-widgets/controls",
          "model_name": "DescriptionStyleModel",
          "model_module_version": "1.5.0",
          "state": {
            "_model_module": "@jupyter-widgets/controls",
            "_model_module_version": "1.5.0",
            "_model_name": "DescriptionStyleModel",
            "_view_count": null,
            "_view_module": "@jupyter-widgets/base",
            "_view_module_version": "1.2.0",
            "_view_name": "StyleView",
            "description_width": ""
          }
        },
        "41d58c8760b644c0913c5bc8c98922e7": {
          "model_module": "@jupyter-widgets/base",
          "model_name": "LayoutModel",
          "model_module_version": "1.2.0",
          "state": {
            "_model_module": "@jupyter-widgets/base",
            "_model_module_version": "1.2.0",
            "_model_name": "LayoutModel",
            "_view_count": null,
            "_view_module": "@jupyter-widgets/base",
            "_view_module_version": "1.2.0",
            "_view_name": "LayoutView",
            "align_content": null,
            "align_items": null,
            "align_self": null,
            "border": null,
            "bottom": null,
            "display": null,
            "flex": null,
            "flex_flow": null,
            "grid_area": null,
            "grid_auto_columns": null,
            "grid_auto_flow": null,
            "grid_auto_rows": null,
            "grid_column": null,
            "grid_gap": null,
            "grid_row": null,
            "grid_template_areas": null,
            "grid_template_columns": null,
            "grid_template_rows": null,
            "height": null,
            "justify_content": null,
            "justify_items": null,
            "left": null,
            "margin": null,
            "max_height": null,
            "max_width": null,
            "min_height": null,
            "min_width": null,
            "object_fit": null,
            "object_position": null,
            "order": null,
            "overflow": null,
            "overflow_x": null,
            "overflow_y": null,
            "padding": null,
            "right": null,
            "top": null,
            "visibility": null,
            "width": null
          }
        },
        "b5d9e87a690440d9b3479dc89fc5904e": {
          "model_module": "@jupyter-widgets/controls",
          "model_name": "ProgressStyleModel",
          "model_module_version": "1.5.0",
          "state": {
            "_model_module": "@jupyter-widgets/controls",
            "_model_module_version": "1.5.0",
            "_model_name": "ProgressStyleModel",
            "_view_count": null,
            "_view_module": "@jupyter-widgets/base",
            "_view_module_version": "1.2.0",
            "_view_name": "StyleView",
            "bar_color": null,
            "description_width": ""
          }
        },
        "99c9edc42bd741ae80fccb54066f2d67": {
          "model_module": "@jupyter-widgets/base",
          "model_name": "LayoutModel",
          "model_module_version": "1.2.0",
          "state": {
            "_model_module": "@jupyter-widgets/base",
            "_model_module_version": "1.2.0",
            "_model_name": "LayoutModel",
            "_view_count": null,
            "_view_module": "@jupyter-widgets/base",
            "_view_module_version": "1.2.0",
            "_view_name": "LayoutView",
            "align_content": null,
            "align_items": null,
            "align_self": null,
            "border": null,
            "bottom": null,
            "display": null,
            "flex": null,
            "flex_flow": null,
            "grid_area": null,
            "grid_auto_columns": null,
            "grid_auto_flow": null,
            "grid_auto_rows": null,
            "grid_column": null,
            "grid_gap": null,
            "grid_row": null,
            "grid_template_areas": null,
            "grid_template_columns": null,
            "grid_template_rows": null,
            "height": null,
            "justify_content": null,
            "justify_items": null,
            "left": null,
            "margin": null,
            "max_height": null,
            "max_width": null,
            "min_height": null,
            "min_width": null,
            "object_fit": null,
            "object_position": null,
            "order": null,
            "overflow": null,
            "overflow_x": null,
            "overflow_y": null,
            "padding": null,
            "right": null,
            "top": null,
            "visibility": null,
            "width": null
          }
        },
        "6b2fce3308d347a0b91f7de83f4b10a2": {
          "model_module": "@jupyter-widgets/controls",
          "model_name": "DescriptionStyleModel",
          "model_module_version": "1.5.0",
          "state": {
            "_model_module": "@jupyter-widgets/controls",
            "_model_module_version": "1.5.0",
            "_model_name": "DescriptionStyleModel",
            "_view_count": null,
            "_view_module": "@jupyter-widgets/base",
            "_view_module_version": "1.2.0",
            "_view_name": "StyleView",
            "description_width": ""
          }
        }
      }
    }
  },
  "cells": [
    {
      "cell_type": "code",
      "source": [
        "# Upload ipynb\n",
        "from google.colab import files\n",
        "uploaded = files.upload()"
      ],
      "metadata": {
        "id": "5un1Xi3eyJZP",
        "outputId": "fb7b8bbe-d680-491f-a546-ac2568f397e6",
        "colab": {
          "base_uri": "https://localhost:8080/",
          "height": 77
        }
      },
      "execution_count": 2,
      "outputs": [
        {
          "output_type": "display_data",
          "data": {
            "text/plain": [
              "<IPython.core.display.HTML object>"
            ],
            "text/html": [
              "\n",
              "     <input type=\"file\" id=\"files-0f45785a-b2af-4c99-bf8c-6e0ac1af94c8\" name=\"files[]\" multiple disabled\n",
              "        style=\"border:none\" />\n",
              "     <output id=\"result-0f45785a-b2af-4c99-bf8c-6e0ac1af94c8\">\n",
              "      Upload widget is only available when the cell has been executed in the\n",
              "      current browser session. Please rerun this cell to enable.\n",
              "      </output>\n",
              "      <script>// Copyright 2017 Google LLC\n",
              "//\n",
              "// Licensed under the Apache License, Version 2.0 (the \"License\");\n",
              "// you may not use this file except in compliance with the License.\n",
              "// You may obtain a copy of the License at\n",
              "//\n",
              "//      http://www.apache.org/licenses/LICENSE-2.0\n",
              "//\n",
              "// Unless required by applicable law or agreed to in writing, software\n",
              "// distributed under the License is distributed on an \"AS IS\" BASIS,\n",
              "// WITHOUT WARRANTIES OR CONDITIONS OF ANY KIND, either express or implied.\n",
              "// See the License for the specific language governing permissions and\n",
              "// limitations under the License.\n",
              "\n",
              "/**\n",
              " * @fileoverview Helpers for google.colab Python module.\n",
              " */\n",
              "(function(scope) {\n",
              "function span(text, styleAttributes = {}) {\n",
              "  const element = document.createElement('span');\n",
              "  element.textContent = text;\n",
              "  for (const key of Object.keys(styleAttributes)) {\n",
              "    element.style[key] = styleAttributes[key];\n",
              "  }\n",
              "  return element;\n",
              "}\n",
              "\n",
              "// Max number of bytes which will be uploaded at a time.\n",
              "const MAX_PAYLOAD_SIZE = 100 * 1024;\n",
              "\n",
              "function _uploadFiles(inputId, outputId) {\n",
              "  const steps = uploadFilesStep(inputId, outputId);\n",
              "  const outputElement = document.getElementById(outputId);\n",
              "  // Cache steps on the outputElement to make it available for the next call\n",
              "  // to uploadFilesContinue from Python.\n",
              "  outputElement.steps = steps;\n",
              "\n",
              "  return _uploadFilesContinue(outputId);\n",
              "}\n",
              "\n",
              "// This is roughly an async generator (not supported in the browser yet),\n",
              "// where there are multiple asynchronous steps and the Python side is going\n",
              "// to poll for completion of each step.\n",
              "// This uses a Promise to block the python side on completion of each step,\n",
              "// then passes the result of the previous step as the input to the next step.\n",
              "function _uploadFilesContinue(outputId) {\n",
              "  const outputElement = document.getElementById(outputId);\n",
              "  const steps = outputElement.steps;\n",
              "\n",
              "  const next = steps.next(outputElement.lastPromiseValue);\n",
              "  return Promise.resolve(next.value.promise).then((value) => {\n",
              "    // Cache the last promise value to make it available to the next\n",
              "    // step of the generator.\n",
              "    outputElement.lastPromiseValue = value;\n",
              "    return next.value.response;\n",
              "  });\n",
              "}\n",
              "\n",
              "/**\n",
              " * Generator function which is called between each async step of the upload\n",
              " * process.\n",
              " * @param {string} inputId Element ID of the input file picker element.\n",
              " * @param {string} outputId Element ID of the output display.\n",
              " * @return {!Iterable<!Object>} Iterable of next steps.\n",
              " */\n",
              "function* uploadFilesStep(inputId, outputId) {\n",
              "  const inputElement = document.getElementById(inputId);\n",
              "  inputElement.disabled = false;\n",
              "\n",
              "  const outputElement = document.getElementById(outputId);\n",
              "  outputElement.innerHTML = '';\n",
              "\n",
              "  const pickedPromise = new Promise((resolve) => {\n",
              "    inputElement.addEventListener('change', (e) => {\n",
              "      resolve(e.target.files);\n",
              "    });\n",
              "  });\n",
              "\n",
              "  const cancel = document.createElement('button');\n",
              "  inputElement.parentElement.appendChild(cancel);\n",
              "  cancel.textContent = 'Cancel upload';\n",
              "  const cancelPromise = new Promise((resolve) => {\n",
              "    cancel.onclick = () => {\n",
              "      resolve(null);\n",
              "    };\n",
              "  });\n",
              "\n",
              "  // Wait for the user to pick the files.\n",
              "  const files = yield {\n",
              "    promise: Promise.race([pickedPromise, cancelPromise]),\n",
              "    response: {\n",
              "      action: 'starting',\n",
              "    }\n",
              "  };\n",
              "\n",
              "  cancel.remove();\n",
              "\n",
              "  // Disable the input element since further picks are not allowed.\n",
              "  inputElement.disabled = true;\n",
              "\n",
              "  if (!files) {\n",
              "    return {\n",
              "      response: {\n",
              "        action: 'complete',\n",
              "      }\n",
              "    };\n",
              "  }\n",
              "\n",
              "  for (const file of files) {\n",
              "    const li = document.createElement('li');\n",
              "    li.append(span(file.name, {fontWeight: 'bold'}));\n",
              "    li.append(span(\n",
              "        `(${file.type || 'n/a'}) - ${file.size} bytes, ` +\n",
              "        `last modified: ${\n",
              "            file.lastModifiedDate ? file.lastModifiedDate.toLocaleDateString() :\n",
              "                                    'n/a'} - `));\n",
              "    const percent = span('0% done');\n",
              "    li.appendChild(percent);\n",
              "\n",
              "    outputElement.appendChild(li);\n",
              "\n",
              "    const fileDataPromise = new Promise((resolve) => {\n",
              "      const reader = new FileReader();\n",
              "      reader.onload = (e) => {\n",
              "        resolve(e.target.result);\n",
              "      };\n",
              "      reader.readAsArrayBuffer(file);\n",
              "    });\n",
              "    // Wait for the data to be ready.\n",
              "    let fileData = yield {\n",
              "      promise: fileDataPromise,\n",
              "      response: {\n",
              "        action: 'continue',\n",
              "      }\n",
              "    };\n",
              "\n",
              "    // Use a chunked sending to avoid message size limits. See b/62115660.\n",
              "    let position = 0;\n",
              "    do {\n",
              "      const length = Math.min(fileData.byteLength - position, MAX_PAYLOAD_SIZE);\n",
              "      const chunk = new Uint8Array(fileData, position, length);\n",
              "      position += length;\n",
              "\n",
              "      const base64 = btoa(String.fromCharCode.apply(null, chunk));\n",
              "      yield {\n",
              "        response: {\n",
              "          action: 'append',\n",
              "          file: file.name,\n",
              "          data: base64,\n",
              "        },\n",
              "      };\n",
              "\n",
              "      let percentDone = fileData.byteLength === 0 ?\n",
              "          100 :\n",
              "          Math.round((position / fileData.byteLength) * 100);\n",
              "      percent.textContent = `${percentDone}% done`;\n",
              "\n",
              "    } while (position < fileData.byteLength);\n",
              "  }\n",
              "\n",
              "  // All done.\n",
              "  yield {\n",
              "    response: {\n",
              "      action: 'complete',\n",
              "    }\n",
              "  };\n",
              "}\n",
              "\n",
              "scope.google = scope.google || {};\n",
              "scope.google.colab = scope.google.colab || {};\n",
              "scope.google.colab._files = {\n",
              "  _uploadFiles,\n",
              "  _uploadFilesContinue,\n",
              "};\n",
              "})(self);\n",
              "</script> "
            ]
          },
          "metadata": {}
        },
        {
          "output_type": "stream",
          "name": "stdout",
          "text": [
            "Saving summary_kw_clob2.csv to summary_kw_clob2.csv\n"
          ]
        }
      ]
    },
    {
      "cell_type": "code",
      "source": [
        "# -*- coding: utf-8 -*-\n",
        "import matplotlib.pyplot as plt\n",
        "import matplotlib as mpl\n",
        "from matplotlib import rc\n",
        "import platform\n",
        "\n",
        "# 한글 폰트 설정\n",
        "if platform.system() == 'Windows':\n",
        "    fontprop = 'Malgun Gothic'\n",
        "    rc('font', family=fontprop)  # Windows의 경우\n",
        "elif platform.system() == 'Darwin':  # macOS\n",
        "    rc('font', family='AppleGothic')\n",
        "else:  # Linux\n",
        "    rc('font', family='NanumGothic')\n",
        "\n",
        "\n",
        "import pandas as pd\n",
        "import numpy as np\n",
        "\n",
        "f0='New_Clob.csv'; f3='summary_kw_clob2.csv'\n",
        "df0 = pd.read_csv(f0); df3 = pd.read_csv(f3)\n",
        "#print(df0.index, df3.index)  # Print the indices of both DataFrames\n",
        "\n",
        "\n",
        "merged_df = df0.join(df3, how='inner')\n",
        "#print(merged_df)\n",
        "\n",
        "filtered_df = merged_df[merged_df['news_importance'] >= 4]\n",
        "#print(filtered_df.keywords, filtered_df.CONTENTS, filtered_df.summary, filtered_df.keyword_reason, filtered_df.importance_reason)  # Print the filtered DataFrame\n",
        "#print(filtered_df)"
      ],
      "metadata": {
        "id": "kgTMqykzx9B2"
      },
      "execution_count": 3,
      "outputs": []
    },
    {
      "cell_type": "code",
      "source": [
        "!pip install rank_bm25 squarify --quiet --upgrade"
      ],
      "metadata": {
        "id": "2rK__ZF0zbq4"
      },
      "execution_count": 4,
      "outputs": []
    },
    {
      "cell_type": "code",
      "source": [
        "from rank_bm25 import BM25Okapi\n",
        "\n",
        "# 문서 데이터\n",
        "#documents = filtered_df['CONTENTS'].tolist()\n",
        "documents = merged_df['CONTENTS'].tolist()\n",
        "\n",
        "# 문서를 토큰화\n",
        "def tokenizer(sent):\n",
        "  return sent.split(\" \")\n",
        "tokenized_documents = [tokenizer(str(doc)) for doc in documents]\n",
        "\n",
        "# BM25 모델 생성\n",
        "bm25 = BM25Okapi(tokenized_documents)\n",
        "\n",
        "# 쿼리\n",
        "query = \"철광석 공급망\"\n",
        "tokenized_query = tokenizer(query)\n",
        "\n",
        "# 각 문서와 쿼리 간의 BM25 점수 계산\n",
        "scores = bm25.get_scores(tokenized_query)\n",
        "\n",
        "'''\n",
        "# 결과 출력\n",
        "for i, score in enumerate(scores):\n",
        "    print(f\"Document {i + 1}: BM25 Score = {score:.4f}\")\n",
        "'''\n",
        "\n",
        "print(bm25.get_top_n(tokenized_query, documents, n=2))\n",
        "\n",
        "# BM25 점수를 merged_df에 추가\n",
        "merged_df['bm25_score'] = scores\n",
        "# BM25 점수를 기준으로 내림차순 정렬\n",
        "sorted_df = merged_df.sort_values(by='bm25_score', ascending=False)\n",
        "\n",
        "\n",
        "\n",
        "\n"
      ],
      "metadata": {
        "collapsed": true,
        "id": "343LFxabzaPB",
        "outputId": "b8f718c4-e1c9-4782-a034-7105fbf7363e",
        "colab": {
          "base_uri": "https://localhost:8080/"
        }
      },
      "execution_count": 5,
      "outputs": [
        {
          "output_type": "stream",
          "name": "stdout",
          "text": [
            "['호주의 세계 4위 철광석 생산업체 Fortescue가 2024년 하반기 철광석 출하 실적에서 역대 최대 기록을 달성했다. Iron Bridge 프로젝트의 조업 중단과 Pilbara 지역 폭우에도 불구하고 철광석 출하 차질을 최소화하는 데 성공한 결과다.마이닝닷컴에 따르면 Fortescue는 2024년 7월부터 12월까지 철광석 출하량이 9,710만 톤에 달해 반기 기준 역대 최고 실적을 달성했다고 밝혔다. 특히 10월부터 12월 출하량은 4,940만 톤으로, 전년 동기 4,870만 톤을 소폭 웃돌았다. 이는 악재 속에서도 안정적인 공급망 운영을 이어간 성과로 풀이된다.동사는 이번 실적 발표에서 2025 회계연도 철광석 출하량 전망치를 1억 9,000만 톤에서 최대 2억 톤으로 유지한다고 밝혔다. Iron Bridge 프로젝트가 연내 전면 가동될 것으로 예상됨에 따라 철광석 증산이 기대되며, Fortescue의 공급 역량 강화에 긍정적 영향을 미칠 전망이다.한편, 1월 22일 기준 중국 칭다오항에서 62% Fe 분광 철광석 가격은 톤당 103.61달러로 전일 대비 1.1% 하락했다. 글로벌 수요와 공급 요인이 복합적으로 작용하는 가운데, 향후 철광석 가격 변동성이 주목된다.', '중동 지역 대표 철강·건축 자재 생산업체인 Emsteel이 2020~2024년 5년간 혁신 및 기술 개발 투자를 127% 확대했다고 밝혔다. Emsteel 그룹의 사이드 그무란 알 레메이티(Saeed Ghumran Al Remeithi) 최고경영자(CEO)는 걸프비즈니스(Gulf Business)와의 인터뷰에서 이같이 밝혔다.Emsteel은 아부다비 제조업의 10%, 아랍에미리트(UAE) 철강 시장의 60%를 점유하고 있으며, 70개국 이상에 제품을 수출하고 있다. 알 레메이티 CEO는 혁신을 시장 교란, 글로벌 공급망 차질, 규제 환경 변화에 대응할 수 있는 전략적 차별화 수단으로 보고 있다고 강조했다.그는 디지털 전환과 첨단 제조기술 도입을 주요 성장동력으로 꼽았다. 핵심 기술 중 하나로는 탄소 포집 기술이 있으며, Emsteel은 세계 최대 재생에너지 투자사 중 하나인 마스다르(Masdar)와 협력해 중동·북아프리카(MENA) 지역 최초로 녹색수소 기반 철광석 환원 파일럿 프로젝트를 가동 중이다. 현재 이 설비는 완전 가동에 돌입했으며, 녹색철강(그린스틸) 생산도 시작됐다.그는 “해당 파일럿 프로젝트는 2.1메가와트(MW) 규모로 연간 368톤의 녹색수소를 생산할 수 있으며, 이를 통해 연간 최대 5,000톤의 녹색철강 생산이 가능하다”고 설명했다.이외에도 Emsteel은 폐수 순환 시스템, 폐열 회수 기술, 대체 원자재 도입 등 다양한 방식으로 환경 성과를 제고하고 있으며, 저탄소 철 공급망 구축을 위한 대형 프로젝트도 추진 중이다. 현재는 이를 위한 종합 타당성 조사가 진행되고 있다.Emsteel은 올해 2월 탈탄소 전략을 공개하며, 2030년까지 철강 부문에서는 2019년 대비 절대 온실가스 배출량을 40%, 시멘트 부문에서는 30% 감축하겠다는 목표를 제시했다. 나아가 2050년까지 탄소중립을 달성할 계획이다.']\n"
          ]
        }
      ]
    },
    {
      "cell_type": "code",
      "source": [
        "import squarify\n",
        "\n",
        "# BM25 점수를 기준으로 상위 10개의 키워드와 점수를 딕셔너리로 생성\n",
        "top_10 = sorted_df.nlargest(10, 'bm25_score')\n",
        "top_10['keywords'] = top_10['keywords'].apply(lambda x: ','.join([x.split(',')[i] + ('\\n' if (i + 1) % 3 == 0 else '') for i in range(len(x.split(',')))]))\n",
        "#top_10['keywords'] = top_10['keywords'].apply(lambda x: '\\n'.join([x[i:i+20] for i in range(0, len(x), 20)]))  # 20자 단위로 줄바꿈\n",
        "sorted_twos = list(zip(top_10['keywords'], top_10['bm25_score']))\n",
        "sorted_dict = dict(sorted_twos)\n",
        "\n",
        "plt.figure(figsize=(12, 10))\n",
        "\n",
        "# 빈도값을 0~1까지 값을 갖도록 min-max 표준화\n",
        "norm = mpl.colors.Normalize(vmin=min(sorted_dict.values()),\n",
        "                            vmax=max(sorted_dict.values()))\n",
        "\n",
        "# 정규화된 값을 matplotlib의 cm(color map)에서 Blue 에 적용\n",
        "colors = [mpl.cm.Blues(norm(value)) for value in sorted_dict.values()]\n",
        "\n",
        "# squarify 플랏생성(label 단어, 박스 크기는 빈도, 색깔르 cm.Blue, 투명도는 30%\n",
        "squarify.plot(label=sorted_dict.keys(),\n",
        "              sizes=sorted_dict.values(),\n",
        "              color=colors,\n",
        "              alpha=.7)\n",
        "#plt.show()\n"
      ],
      "metadata": {
        "id": "yT13uUpcUHHJ"
      },
      "execution_count": null,
      "outputs": []
    },
    {
      "cell_type": "code",
      "source": [
        "sorted_df.describe()"
      ],
      "metadata": {
        "id": "WarVJchvZImf",
        "outputId": "0219b30d-a9b5-4d43-b2c7-2d9dd0845359",
        "colab": {
          "base_uri": "https://localhost:8080/",
          "height": 300
        }
      },
      "execution_count": 12,
      "outputs": [
        {
          "output_type": "execute_result",
          "data": {
            "text/plain": [
              "       CREATION_DATE  SENTIMENTAL  IMPORTANCE  news_importance  bm25_score\n",
              "count   3.800000e+02   380.000000  380.000000       380.000000  380.000000\n",
              "mean    2.024589e+07    -0.126316    3.350000         3.528947    0.629175\n",
              "std     4.803774e+03     0.995951    0.860217         0.535499    1.243376\n",
              "min     2.024010e+07    -5.000000    1.000000         1.000000    0.000000\n",
              "25%     2.024071e+07     0.000000    3.000000         3.000000    0.000000\n",
              "50%     2.025011e+07     0.000000    3.000000         4.000000    0.000000\n",
              "75%     2.025022e+07     0.000000    4.000000         4.000000    1.105271\n",
              "max     2.025043e+07     5.000000    5.000000         5.000000    7.528504"
            ],
            "text/html": [
              "\n",
              "  <div id=\"df-0710c35b-ee54-4c62-9211-5c866ee4a44c\" class=\"colab-df-container\">\n",
              "    <div>\n",
              "<style scoped>\n",
              "    .dataframe tbody tr th:only-of-type {\n",
              "        vertical-align: middle;\n",
              "    }\n",
              "\n",
              "    .dataframe tbody tr th {\n",
              "        vertical-align: top;\n",
              "    }\n",
              "\n",
              "    .dataframe thead th {\n",
              "        text-align: right;\n",
              "    }\n",
              "</style>\n",
              "<table border=\"1\" class=\"dataframe\">\n",
              "  <thead>\n",
              "    <tr style=\"text-align: right;\">\n",
              "      <th></th>\n",
              "      <th>CREATION_DATE</th>\n",
              "      <th>SENTIMENTAL</th>\n",
              "      <th>IMPORTANCE</th>\n",
              "      <th>news_importance</th>\n",
              "      <th>bm25_score</th>\n",
              "    </tr>\n",
              "  </thead>\n",
              "  <tbody>\n",
              "    <tr>\n",
              "      <th>count</th>\n",
              "      <td>3.800000e+02</td>\n",
              "      <td>380.000000</td>\n",
              "      <td>380.000000</td>\n",
              "      <td>380.000000</td>\n",
              "      <td>380.000000</td>\n",
              "    </tr>\n",
              "    <tr>\n",
              "      <th>mean</th>\n",
              "      <td>2.024589e+07</td>\n",
              "      <td>-0.126316</td>\n",
              "      <td>3.350000</td>\n",
              "      <td>3.528947</td>\n",
              "      <td>0.629175</td>\n",
              "    </tr>\n",
              "    <tr>\n",
              "      <th>std</th>\n",
              "      <td>4.803774e+03</td>\n",
              "      <td>0.995951</td>\n",
              "      <td>0.860217</td>\n",
              "      <td>0.535499</td>\n",
              "      <td>1.243376</td>\n",
              "    </tr>\n",
              "    <tr>\n",
              "      <th>min</th>\n",
              "      <td>2.024010e+07</td>\n",
              "      <td>-5.000000</td>\n",
              "      <td>1.000000</td>\n",
              "      <td>1.000000</td>\n",
              "      <td>0.000000</td>\n",
              "    </tr>\n",
              "    <tr>\n",
              "      <th>25%</th>\n",
              "      <td>2.024071e+07</td>\n",
              "      <td>0.000000</td>\n",
              "      <td>3.000000</td>\n",
              "      <td>3.000000</td>\n",
              "      <td>0.000000</td>\n",
              "    </tr>\n",
              "    <tr>\n",
              "      <th>50%</th>\n",
              "      <td>2.025011e+07</td>\n",
              "      <td>0.000000</td>\n",
              "      <td>3.000000</td>\n",
              "      <td>4.000000</td>\n",
              "      <td>0.000000</td>\n",
              "    </tr>\n",
              "    <tr>\n",
              "      <th>75%</th>\n",
              "      <td>2.025022e+07</td>\n",
              "      <td>0.000000</td>\n",
              "      <td>4.000000</td>\n",
              "      <td>4.000000</td>\n",
              "      <td>1.105271</td>\n",
              "    </tr>\n",
              "    <tr>\n",
              "      <th>max</th>\n",
              "      <td>2.025043e+07</td>\n",
              "      <td>5.000000</td>\n",
              "      <td>5.000000</td>\n",
              "      <td>5.000000</td>\n",
              "      <td>7.528504</td>\n",
              "    </tr>\n",
              "  </tbody>\n",
              "</table>\n",
              "</div>\n",
              "    <div class=\"colab-df-buttons\">\n",
              "\n",
              "  <div class=\"colab-df-container\">\n",
              "    <button class=\"colab-df-convert\" onclick=\"convertToInteractive('df-0710c35b-ee54-4c62-9211-5c866ee4a44c')\"\n",
              "            title=\"Convert this dataframe to an interactive table.\"\n",
              "            style=\"display:none;\">\n",
              "\n",
              "  <svg xmlns=\"http://www.w3.org/2000/svg\" height=\"24px\" viewBox=\"0 -960 960 960\">\n",
              "    <path d=\"M120-120v-720h720v720H120Zm60-500h600v-160H180v160Zm220 220h160v-160H400v160Zm0 220h160v-160H400v160ZM180-400h160v-160H180v160Zm440 0h160v-160H620v160ZM180-180h160v-160H180v160Zm440 0h160v-160H620v160Z\"/>\n",
              "  </svg>\n",
              "    </button>\n",
              "\n",
              "  <style>\n",
              "    .colab-df-container {\n",
              "      display:flex;\n",
              "      gap: 12px;\n",
              "    }\n",
              "\n",
              "    .colab-df-convert {\n",
              "      background-color: #E8F0FE;\n",
              "      border: none;\n",
              "      border-radius: 50%;\n",
              "      cursor: pointer;\n",
              "      display: none;\n",
              "      fill: #1967D2;\n",
              "      height: 32px;\n",
              "      padding: 0 0 0 0;\n",
              "      width: 32px;\n",
              "    }\n",
              "\n",
              "    .colab-df-convert:hover {\n",
              "      background-color: #E2EBFA;\n",
              "      box-shadow: 0px 1px 2px rgba(60, 64, 67, 0.3), 0px 1px 3px 1px rgba(60, 64, 67, 0.15);\n",
              "      fill: #174EA6;\n",
              "    }\n",
              "\n",
              "    .colab-df-buttons div {\n",
              "      margin-bottom: 4px;\n",
              "    }\n",
              "\n",
              "    [theme=dark] .colab-df-convert {\n",
              "      background-color: #3B4455;\n",
              "      fill: #D2E3FC;\n",
              "    }\n",
              "\n",
              "    [theme=dark] .colab-df-convert:hover {\n",
              "      background-color: #434B5C;\n",
              "      box-shadow: 0px 1px 3px 1px rgba(0, 0, 0, 0.15);\n",
              "      filter: drop-shadow(0px 1px 2px rgba(0, 0, 0, 0.3));\n",
              "      fill: #FFFFFF;\n",
              "    }\n",
              "  </style>\n",
              "\n",
              "    <script>\n",
              "      const buttonEl =\n",
              "        document.querySelector('#df-0710c35b-ee54-4c62-9211-5c866ee4a44c button.colab-df-convert');\n",
              "      buttonEl.style.display =\n",
              "        google.colab.kernel.accessAllowed ? 'block' : 'none';\n",
              "\n",
              "      async function convertToInteractive(key) {\n",
              "        const element = document.querySelector('#df-0710c35b-ee54-4c62-9211-5c866ee4a44c');\n",
              "        const dataTable =\n",
              "          await google.colab.kernel.invokeFunction('convertToInteractive',\n",
              "                                                    [key], {});\n",
              "        if (!dataTable) return;\n",
              "\n",
              "        const docLinkHtml = 'Like what you see? Visit the ' +\n",
              "          '<a target=\"_blank\" href=https://colab.research.google.com/notebooks/data_table.ipynb>data table notebook</a>'\n",
              "          + ' to learn more about interactive tables.';\n",
              "        element.innerHTML = '';\n",
              "        dataTable['output_type'] = 'display_data';\n",
              "        await google.colab.output.renderOutput(dataTable, element);\n",
              "        const docLink = document.createElement('div');\n",
              "        docLink.innerHTML = docLinkHtml;\n",
              "        element.appendChild(docLink);\n",
              "      }\n",
              "    </script>\n",
              "  </div>\n",
              "\n",
              "\n",
              "    <div id=\"df-cf89e767-34fa-4183-8f01-2db911e4be7d\">\n",
              "      <button class=\"colab-df-quickchart\" onclick=\"quickchart('df-cf89e767-34fa-4183-8f01-2db911e4be7d')\"\n",
              "                title=\"Suggest charts\"\n",
              "                style=\"display:none;\">\n",
              "\n",
              "<svg xmlns=\"http://www.w3.org/2000/svg\" height=\"24px\"viewBox=\"0 0 24 24\"\n",
              "     width=\"24px\">\n",
              "    <g>\n",
              "        <path d=\"M19 3H5c-1.1 0-2 .9-2 2v14c0 1.1.9 2 2 2h14c1.1 0 2-.9 2-2V5c0-1.1-.9-2-2-2zM9 17H7v-7h2v7zm4 0h-2V7h2v10zm4 0h-2v-4h2v4z\"/>\n",
              "    </g>\n",
              "</svg>\n",
              "      </button>\n",
              "\n",
              "<style>\n",
              "  .colab-df-quickchart {\n",
              "      --bg-color: #E8F0FE;\n",
              "      --fill-color: #1967D2;\n",
              "      --hover-bg-color: #E2EBFA;\n",
              "      --hover-fill-color: #174EA6;\n",
              "      --disabled-fill-color: #AAA;\n",
              "      --disabled-bg-color: #DDD;\n",
              "  }\n",
              "\n",
              "  [theme=dark] .colab-df-quickchart {\n",
              "      --bg-color: #3B4455;\n",
              "      --fill-color: #D2E3FC;\n",
              "      --hover-bg-color: #434B5C;\n",
              "      --hover-fill-color: #FFFFFF;\n",
              "      --disabled-bg-color: #3B4455;\n",
              "      --disabled-fill-color: #666;\n",
              "  }\n",
              "\n",
              "  .colab-df-quickchart {\n",
              "    background-color: var(--bg-color);\n",
              "    border: none;\n",
              "    border-radius: 50%;\n",
              "    cursor: pointer;\n",
              "    display: none;\n",
              "    fill: var(--fill-color);\n",
              "    height: 32px;\n",
              "    padding: 0;\n",
              "    width: 32px;\n",
              "  }\n",
              "\n",
              "  .colab-df-quickchart:hover {\n",
              "    background-color: var(--hover-bg-color);\n",
              "    box-shadow: 0 1px 2px rgba(60, 64, 67, 0.3), 0 1px 3px 1px rgba(60, 64, 67, 0.15);\n",
              "    fill: var(--button-hover-fill-color);\n",
              "  }\n",
              "\n",
              "  .colab-df-quickchart-complete:disabled,\n",
              "  .colab-df-quickchart-complete:disabled:hover {\n",
              "    background-color: var(--disabled-bg-color);\n",
              "    fill: var(--disabled-fill-color);\n",
              "    box-shadow: none;\n",
              "  }\n",
              "\n",
              "  .colab-df-spinner {\n",
              "    border: 2px solid var(--fill-color);\n",
              "    border-color: transparent;\n",
              "    border-bottom-color: var(--fill-color);\n",
              "    animation:\n",
              "      spin 1s steps(1) infinite;\n",
              "  }\n",
              "\n",
              "  @keyframes spin {\n",
              "    0% {\n",
              "      border-color: transparent;\n",
              "      border-bottom-color: var(--fill-color);\n",
              "      border-left-color: var(--fill-color);\n",
              "    }\n",
              "    20% {\n",
              "      border-color: transparent;\n",
              "      border-left-color: var(--fill-color);\n",
              "      border-top-color: var(--fill-color);\n",
              "    }\n",
              "    30% {\n",
              "      border-color: transparent;\n",
              "      border-left-color: var(--fill-color);\n",
              "      border-top-color: var(--fill-color);\n",
              "      border-right-color: var(--fill-color);\n",
              "    }\n",
              "    40% {\n",
              "      border-color: transparent;\n",
              "      border-right-color: var(--fill-color);\n",
              "      border-top-color: var(--fill-color);\n",
              "    }\n",
              "    60% {\n",
              "      border-color: transparent;\n",
              "      border-right-color: var(--fill-color);\n",
              "    }\n",
              "    80% {\n",
              "      border-color: transparent;\n",
              "      border-right-color: var(--fill-color);\n",
              "      border-bottom-color: var(--fill-color);\n",
              "    }\n",
              "    90% {\n",
              "      border-color: transparent;\n",
              "      border-bottom-color: var(--fill-color);\n",
              "    }\n",
              "  }\n",
              "</style>\n",
              "\n",
              "      <script>\n",
              "        async function quickchart(key) {\n",
              "          const quickchartButtonEl =\n",
              "            document.querySelector('#' + key + ' button');\n",
              "          quickchartButtonEl.disabled = true;  // To prevent multiple clicks.\n",
              "          quickchartButtonEl.classList.add('colab-df-spinner');\n",
              "          try {\n",
              "            const charts = await google.colab.kernel.invokeFunction(\n",
              "                'suggestCharts', [key], {});\n",
              "          } catch (error) {\n",
              "            console.error('Error during call to suggestCharts:', error);\n",
              "          }\n",
              "          quickchartButtonEl.classList.remove('colab-df-spinner');\n",
              "          quickchartButtonEl.classList.add('colab-df-quickchart-complete');\n",
              "        }\n",
              "        (() => {\n",
              "          let quickchartButtonEl =\n",
              "            document.querySelector('#df-cf89e767-34fa-4183-8f01-2db911e4be7d button');\n",
              "          quickchartButtonEl.style.display =\n",
              "            google.colab.kernel.accessAllowed ? 'block' : 'none';\n",
              "        })();\n",
              "      </script>\n",
              "    </div>\n",
              "\n",
              "    </div>\n",
              "  </div>\n"
            ],
            "application/vnd.google.colaboratory.intrinsic+json": {
              "type": "dataframe",
              "summary": "{\n  \"name\": \"sorted_df\",\n  \"rows\": 8,\n  \"fields\": [\n    {\n      \"column\": \"CREATION_DATE\",\n      \"properties\": {\n        \"dtype\": \"number\",\n        \"std\": 9370991.584465213,\n        \"min\": 380.0,\n        \"max\": 20250429.0,\n        \"num_unique_values\": 8,\n        \"samples\": [\n          20245893.663157895,\n          20250110.0,\n          380.0\n        ],\n        \"semantic_type\": \"\",\n        \"description\": \"\"\n      }\n    },\n    {\n      \"column\": \"SENTIMENTAL\",\n      \"properties\": {\n        \"dtype\": \"number\",\n        \"std\": 134.33343271992118,\n        \"min\": -5.0,\n        \"max\": 380.0,\n        \"num_unique_values\": 6,\n        \"samples\": [\n          380.0,\n          -0.12631578947368421,\n          5.0\n        ],\n        \"semantic_type\": \"\",\n        \"description\": \"\"\n      }\n    },\n    {\n      \"column\": \"IMPORTANCE\",\n      \"properties\": {\n        \"dtype\": \"number\",\n        \"std\": 133.33681049489437,\n        \"min\": 0.8602171904674588,\n        \"max\": 380.0,\n        \"num_unique_values\": 7,\n        \"samples\": [\n          380.0,\n          3.35,\n          4.0\n        ],\n        \"semantic_type\": \"\",\n        \"description\": \"\"\n      }\n    },\n    {\n      \"column\": \"news_importance\",\n      \"properties\": {\n        \"dtype\": \"number\",\n        \"std\": 133.2951365513696,\n        \"min\": 0.535498630719343,\n        \"max\": 380.0,\n        \"num_unique_values\": 7,\n        \"samples\": [\n          380.0,\n          3.528947368421053,\n          4.0\n        ],\n        \"semantic_type\": \"\",\n        \"description\": \"\"\n      }\n    },\n    {\n      \"column\": \"bm25_score\",\n      \"properties\": {\n        \"dtype\": \"number\",\n        \"std\": 133.84316140989586,\n        \"min\": 0.0,\n        \"max\": 380.0,\n        \"num_unique_values\": 6,\n        \"samples\": [\n          380.0,\n          0.6291752838219979,\n          7.528504198554481\n        ],\n        \"semantic_type\": \"\",\n        \"description\": \"\"\n      }\n    }\n  ]\n}"
            }
          },
          "metadata": {},
          "execution_count": 12
        }
      ]
    },
    {
      "cell_type": "code",
      "source": [
        "!pip install 'git+https://github.com/SKTBrain/KoBERT.git#egg=kobert_tokenizer&subdirectory=kobert_hf'"
      ],
      "metadata": {
        "id": "LWYsWx3uz2KS",
        "outputId": "6a00c671-6da7-4025-c66b-532993788aae",
        "colab": {
          "base_uri": "https://localhost:8080/"
        }
      },
      "execution_count": null,
      "outputs": [
        {
          "output_type": "stream",
          "name": "stdout",
          "text": [
            "Collecting kobert_tokenizer\n",
            "  Cloning https://github.com/SKTBrain/KoBERT.git to /tmp/pip-install-vpszykz5/kobert-tokenizer_621151b3fc224240815b69446b019c41\n",
            "  Running command git clone --filter=blob:none --quiet https://github.com/SKTBrain/KoBERT.git /tmp/pip-install-vpszykz5/kobert-tokenizer_621151b3fc224240815b69446b019c41\n",
            "  Resolved https://github.com/SKTBrain/KoBERT.git to commit 5c46b1c68e4755b54879431bd302db621f4d2f47\n",
            "  Preparing metadata (setup.py) ... \u001b[?25l\u001b[?25hdone\n",
            "Building wheels for collected packages: kobert_tokenizer\n",
            "  Building wheel for kobert_tokenizer (setup.py) ... \u001b[?25l\u001b[?25hdone\n",
            "  Created wheel for kobert_tokenizer: filename=kobert_tokenizer-0.1-py3-none-any.whl size=4633 sha256=982cf996864154fc7b78fccff67a2e5c85a9238acb6a3d68937d3a28c381f3bb\n",
            "  Stored in directory: /tmp/pip-ephem-wheel-cache-_xgh8pcx/wheels/b7/95/7c/3f38b039ae9422cc4a51702b37e352d0585442cbe60285f1f2\n",
            "Successfully built kobert_tokenizer\n",
            "Installing collected packages: kobert_tokenizer\n",
            "Successfully installed kobert_tokenizer-0.1\n"
          ]
        }
      ]
    },
    {
      "cell_type": "code",
      "source": [
        "from transformers import AutoTokenizer, AutoModel\n",
        "tokenizer = AutoTokenizer.from_pretrained(\"skt/kobert-base-v1\")\n",
        "model = AutoModel.from_pretrained(\"skt/kobert-base-v1\")\n",
        "sentences = merged_df['summary'].tolist()\n",
        "embeddings = tokenizer.tokenize(sentences)"
      ],
      "metadata": {
        "id": "WvmtEjQ_-DDS",
        "outputId": "84c83a90-2491-4753-b377-c9694129d2e0",
        "colab": {
          "base_uri": "https://localhost:8080/",
          "height": 373
        }
      },
      "execution_count": null,
      "outputs": [
        {
          "output_type": "error",
          "ename": "TypeError",
          "evalue": "TextEncodeInput must be Union[TextInputSequence, Tuple[InputSequence, InputSequence]]",
          "traceback": [
            "\u001b[0;31m---------------------------------------------------------------------------\u001b[0m",
            "\u001b[0;31mTypeError\u001b[0m                                 Traceback (most recent call last)",
            "\u001b[0;32m<ipython-input-42-f7003e4366f0>\u001b[0m in \u001b[0;36m<cell line: 0>\u001b[0;34m()\u001b[0m\n\u001b[1;32m      3\u001b[0m \u001b[0mmodel\u001b[0m \u001b[0;34m=\u001b[0m \u001b[0mAutoModel\u001b[0m\u001b[0;34m.\u001b[0m\u001b[0mfrom_pretrained\u001b[0m\u001b[0;34m(\u001b[0m\u001b[0;34m\"skt/kobert-base-v1\"\u001b[0m\u001b[0;34m)\u001b[0m\u001b[0;34m\u001b[0m\u001b[0;34m\u001b[0m\u001b[0m\n\u001b[1;32m      4\u001b[0m \u001b[0msentences\u001b[0m \u001b[0;34m=\u001b[0m \u001b[0mmerged_df\u001b[0m\u001b[0;34m[\u001b[0m\u001b[0;34m'summary'\u001b[0m\u001b[0;34m]\u001b[0m\u001b[0;34m.\u001b[0m\u001b[0mtolist\u001b[0m\u001b[0;34m(\u001b[0m\u001b[0;34m)\u001b[0m\u001b[0;34m\u001b[0m\u001b[0;34m\u001b[0m\u001b[0m\n\u001b[0;32m----> 5\u001b[0;31m \u001b[0membeddings\u001b[0m \u001b[0;34m=\u001b[0m \u001b[0mtokenizer\u001b[0m\u001b[0;34m.\u001b[0m\u001b[0mtokenize\u001b[0m\u001b[0;34m(\u001b[0m\u001b[0msentences\u001b[0m\u001b[0;34m)\u001b[0m\u001b[0;34m\u001b[0m\u001b[0;34m\u001b[0m\u001b[0m\n\u001b[0m",
            "\u001b[0;32m/usr/local/lib/python3.11/dist-packages/transformers/tokenization_utils_fast.py\u001b[0m in \u001b[0;36mtokenize\u001b[0;34m(self, text, pair, add_special_tokens, **kwargs)\u001b[0m\n\u001b[1;32m    419\u001b[0m \u001b[0;34m\u001b[0m\u001b[0m\n\u001b[1;32m    420\u001b[0m     \u001b[0;32mdef\u001b[0m \u001b[0mtokenize\u001b[0m\u001b[0;34m(\u001b[0m\u001b[0mself\u001b[0m\u001b[0;34m,\u001b[0m \u001b[0mtext\u001b[0m\u001b[0;34m:\u001b[0m \u001b[0mstr\u001b[0m\u001b[0;34m,\u001b[0m \u001b[0mpair\u001b[0m\u001b[0;34m:\u001b[0m \u001b[0mOptional\u001b[0m\u001b[0;34m[\u001b[0m\u001b[0mstr\u001b[0m\u001b[0;34m]\u001b[0m \u001b[0;34m=\u001b[0m \u001b[0;32mNone\u001b[0m\u001b[0;34m,\u001b[0m \u001b[0madd_special_tokens\u001b[0m\u001b[0;34m:\u001b[0m \u001b[0mbool\u001b[0m \u001b[0;34m=\u001b[0m \u001b[0;32mFalse\u001b[0m\u001b[0;34m,\u001b[0m \u001b[0;34m**\u001b[0m\u001b[0mkwargs\u001b[0m\u001b[0;34m)\u001b[0m \u001b[0;34m->\u001b[0m \u001b[0mlist\u001b[0m\u001b[0;34m[\u001b[0m\u001b[0mstr\u001b[0m\u001b[0;34m]\u001b[0m\u001b[0;34m:\u001b[0m\u001b[0;34m\u001b[0m\u001b[0;34m\u001b[0m\u001b[0m\n\u001b[0;32m--> 421\u001b[0;31m         \u001b[0;32mreturn\u001b[0m \u001b[0mself\u001b[0m\u001b[0;34m.\u001b[0m\u001b[0mencode_plus\u001b[0m\u001b[0;34m(\u001b[0m\u001b[0mtext\u001b[0m\u001b[0;34m=\u001b[0m\u001b[0mtext\u001b[0m\u001b[0;34m,\u001b[0m \u001b[0mtext_pair\u001b[0m\u001b[0;34m=\u001b[0m\u001b[0mpair\u001b[0m\u001b[0;34m,\u001b[0m \u001b[0madd_special_tokens\u001b[0m\u001b[0;34m=\u001b[0m\u001b[0madd_special_tokens\u001b[0m\u001b[0;34m,\u001b[0m \u001b[0;34m**\u001b[0m\u001b[0mkwargs\u001b[0m\u001b[0;34m)\u001b[0m\u001b[0;34m.\u001b[0m\u001b[0mtokens\u001b[0m\u001b[0;34m(\u001b[0m\u001b[0;34m)\u001b[0m\u001b[0;34m\u001b[0m\u001b[0;34m\u001b[0m\u001b[0m\n\u001b[0m\u001b[1;32m    422\u001b[0m \u001b[0;34m\u001b[0m\u001b[0m\n\u001b[1;32m    423\u001b[0m     def set_truncation_and_padding(\n",
            "\u001b[0;32m/usr/local/lib/python3.11/dist-packages/transformers/tokenization_utils_base.py\u001b[0m in \u001b[0;36mencode_plus\u001b[0;34m(self, text, text_pair, add_special_tokens, padding, truncation, max_length, stride, is_split_into_words, pad_to_multiple_of, padding_side, return_tensors, return_token_type_ids, return_attention_mask, return_overflowing_tokens, return_special_tokens_mask, return_offsets_mapping, return_length, verbose, **kwargs)\u001b[0m\n\u001b[1;32m   3071\u001b[0m         )\n\u001b[1;32m   3072\u001b[0m \u001b[0;34m\u001b[0m\u001b[0m\n\u001b[0;32m-> 3073\u001b[0;31m         return self._encode_plus(\n\u001b[0m\u001b[1;32m   3074\u001b[0m             \u001b[0mtext\u001b[0m\u001b[0;34m=\u001b[0m\u001b[0mtext\u001b[0m\u001b[0;34m,\u001b[0m\u001b[0;34m\u001b[0m\u001b[0;34m\u001b[0m\u001b[0m\n\u001b[1;32m   3075\u001b[0m             \u001b[0mtext_pair\u001b[0m\u001b[0;34m=\u001b[0m\u001b[0mtext_pair\u001b[0m\u001b[0;34m,\u001b[0m\u001b[0;34m\u001b[0m\u001b[0;34m\u001b[0m\u001b[0m\n",
            "\u001b[0;32m/usr/local/lib/python3.11/dist-packages/transformers/tokenization_utils_fast.py\u001b[0m in \u001b[0;36m_encode_plus\u001b[0;34m(self, text, text_pair, add_special_tokens, padding_strategy, truncation_strategy, max_length, stride, is_split_into_words, pad_to_multiple_of, padding_side, return_tensors, return_token_type_ids, return_attention_mask, return_overflowing_tokens, return_special_tokens_mask, return_offsets_mapping, return_length, verbose, split_special_tokens, **kwargs)\u001b[0m\n\u001b[1;32m    611\u001b[0m     ) -> BatchEncoding:\n\u001b[1;32m    612\u001b[0m         \u001b[0mbatched_input\u001b[0m \u001b[0;34m=\u001b[0m \u001b[0;34m[\u001b[0m\u001b[0;34m(\u001b[0m\u001b[0mtext\u001b[0m\u001b[0;34m,\u001b[0m \u001b[0mtext_pair\u001b[0m\u001b[0;34m)\u001b[0m\u001b[0;34m]\u001b[0m \u001b[0;32mif\u001b[0m \u001b[0mtext_pair\u001b[0m \u001b[0;32melse\u001b[0m \u001b[0;34m[\u001b[0m\u001b[0mtext\u001b[0m\u001b[0;34m]\u001b[0m\u001b[0;34m\u001b[0m\u001b[0;34m\u001b[0m\u001b[0m\n\u001b[0;32m--> 613\u001b[0;31m         batched_output = self._batch_encode_plus(\n\u001b[0m\u001b[1;32m    614\u001b[0m             \u001b[0mbatched_input\u001b[0m\u001b[0;34m,\u001b[0m\u001b[0;34m\u001b[0m\u001b[0;34m\u001b[0m\u001b[0m\n\u001b[1;32m    615\u001b[0m             \u001b[0mis_split_into_words\u001b[0m\u001b[0;34m=\u001b[0m\u001b[0mis_split_into_words\u001b[0m\u001b[0;34m,\u001b[0m\u001b[0;34m\u001b[0m\u001b[0;34m\u001b[0m\u001b[0m\n",
            "\u001b[0;32m/usr/local/lib/python3.11/dist-packages/transformers/tokenization_utils_fast.py\u001b[0m in \u001b[0;36m_batch_encode_plus\u001b[0;34m(self, batch_text_or_text_pairs, add_special_tokens, padding_strategy, truncation_strategy, max_length, stride, is_split_into_words, pad_to_multiple_of, padding_side, return_tensors, return_token_type_ids, return_attention_mask, return_overflowing_tokens, return_special_tokens_mask, return_offsets_mapping, return_length, verbose, split_special_tokens)\u001b[0m\n\u001b[1;32m    537\u001b[0m             \u001b[0mself\u001b[0m\u001b[0;34m.\u001b[0m\u001b[0m_tokenizer\u001b[0m\u001b[0;34m.\u001b[0m\u001b[0mencode_special_tokens\u001b[0m \u001b[0;34m=\u001b[0m \u001b[0msplit_special_tokens\u001b[0m\u001b[0;34m\u001b[0m\u001b[0;34m\u001b[0m\u001b[0m\n\u001b[1;32m    538\u001b[0m \u001b[0;34m\u001b[0m\u001b[0m\n\u001b[0;32m--> 539\u001b[0;31m         encodings = self._tokenizer.encode_batch(\n\u001b[0m\u001b[1;32m    540\u001b[0m             \u001b[0mbatch_text_or_text_pairs\u001b[0m\u001b[0;34m,\u001b[0m\u001b[0;34m\u001b[0m\u001b[0;34m\u001b[0m\u001b[0m\n\u001b[1;32m    541\u001b[0m             \u001b[0madd_special_tokens\u001b[0m\u001b[0;34m=\u001b[0m\u001b[0madd_special_tokens\u001b[0m\u001b[0;34m,\u001b[0m\u001b[0;34m\u001b[0m\u001b[0;34m\u001b[0m\u001b[0m\n",
            "\u001b[0;31mTypeError\u001b[0m: TextEncodeInput must be Union[TextInputSequence, Tuple[InputSequence, InputSequence]]"
          ]
        }
      ]
    },
    {
      "cell_type": "code",
      "source": [
        "from sentence_transformers import SentenceTransformer, models\n",
        "#from kobert_transformers import get_tokenizer\n",
        "#tokenizer = get_tokenizer()\n",
        "\n",
        "#pip install 'git+https://github.com/SKTBrain/KoBERT.git#egg=kobert_tokenizer&subdirectory=kobert_hf'\n",
        "from kobert_tokenizer import KoBERTTokenizer\n",
        "# KoBERT 모델과 토크나이저 로드\n",
        "model_name = \"skt/kobert-base-v1\"\n",
        "tokenizer = KoBERTTokenizer.from_pretrained(model_name)\n",
        "\n",
        "# SentenceTransformer 모델 구성\n",
        "#word_embedding_model = models.Transformer(model_name, max_seq_length=256)\n",
        "#pooling_model = models.Pooling(word_embedding_model.get_word_embedding_dimension(), pooling_mode_mean_tokens=True)\n",
        "\n",
        "# SentenceTransformer 모델 생성\n",
        "#model = SentenceTransformer(modules=[word_embedding_model, pooling_model])\n",
        "\n",
        "# 문장 리스트\n",
        "sentences = merged_df['summary'].tolist()\n",
        "print(len(sentences), len(sentences[0]), sentences[0][:127])\n",
        "\n",
        "# 문장 임베딩 생성\n",
        "inputs = tokenizer(sentences)\n",
        "len(inputs)"
      ],
      "metadata": {
        "id": "7Q_YZOLGyAom",
        "outputId": "4bbe2d8d-ef9a-4740-afda-b6ce2126e92e",
        "colab": {
          "base_uri": "https://localhost:8080/"
        }
      },
      "execution_count": null,
      "outputs": [
        {
          "output_type": "stream",
          "name": "stderr",
          "text": [
            "The tokenizer class you load from this checkpoint is not the same type as the class this function is called from. It may result in unexpected tokenization. \n",
            "The tokenizer class you load from this checkpoint is 'XLNetTokenizer'. \n",
            "The class this function is called from is 'KoBERTTokenizer'.\n"
          ]
        },
        {
          "output_type": "stream",
          "name": "stdout",
          "text": [
            "380 191 포트 헤들랜드에서 철광석 운송을 담당하는 호주 포트레스큐 메탈스 그룹(FMG)의 철도 운영이 1월 3일까지 정상화될 것으로 예상됩니다. 12월 30일 발생한 열차 탈선 사고로 인한 영향은 없으며, 충분한 재고로 인해 수출량에 미\n"
          ]
        },
        {
          "output_type": "execute_result",
          "data": {
            "text/plain": [
              "3"
            ]
          },
          "metadata": {},
          "execution_count": 38
        }
      ]
    },
    {
      "cell_type": "code",
      "source": [
        "# https://github.com/jhgan00/ko-sentence-transformers\n",
        "# https://pypi.org/project/ko-sentence-transformers/\n",
        "\n",
        "from sentence_transformers import SentenceTransformer, util\n",
        "import numpy as np\n",
        "\n",
        "#model_name = \"snunlp/KR-SBERT-V40K-klueNLI-augSTS\"\n",
        "model_name = \"jhgan/ko-sroberta-multitask\"\n",
        "#model_name = \"monologg/kobert\"\n",
        "#model_name = \"jhgan/ko-sbert-sts\"\n",
        "#model_name = \"distiluse-base-multilingual-cased-v1\"\n",
        "\n",
        "embedder = SentenceTransformer(model_name, trust_remote_code=True)\n"
      ],
      "metadata": {
        "collapsed": true,
        "id": "_I_n4Q5MeUl1"
      },
      "execution_count": 28,
      "outputs": []
    },
    {
      "cell_type": "code",
      "source": [
        "sentences = '국가유산청이 한반도 고대 제철기술을 재현하는 행사를 추진한다. 당국은 이번 행사를 통해 중원지역 고대 제철기술도 표준화하겠단 계획이다. 국가유산청 국립문화유산연구원 국립중원문화유산연구소는 오는 4월 24일, 충북 청주시 중원연구소 제철기술 복원실험장에서 ‘2025년도 고대 제철기술 복원(제련)실험’을 진행한다고 밝혔다. 제련(製鍊)은 철광석을 녹여 철을 만드는 생산과정을 뜻한다. 이번 복원실험은 중원지역 고대 철 생산기술의 실체를 밝히고 이를 기반으로 한 표준실험지침(매뉴얼)을 마련하기 위해 진행된다. 이에 따라 당일, ‘제련실험’과 ‘사용실험’이 각각 진행될 예정이다. 중원연구소는 지난 2014년부터 진천 석장리, 충주 칠금동 등 삼국시대 제철유적에서 확인된 제련로를 토대로 송풍 방식, 조업 조건 등 고대 제철기술을 고증·재현해왔다. 이번 16차 제련실험은 생산된 철과 슬래그 등 제련 부산물의 과학적 분석 결과가 제철유적 출토 유물과 가장 유사한 특성을 보였던 15차 실험(‘24년 실시)을 통해 복원된 고대 철 제련기술의 신뢰성과 반복 재현 가능성을 검증하기 위해 동일한 환경에서 진행될 예정이다. 국가유산청은 실험을 통해 수집되는 온도 변화, 생산된 철의 양, 부산물의 구성 등 과학적 자료는 향후 고대 철 생산기술 표준실험지침(매뉴얼) 수립을 위한 핵심 자료로 활용할 예정이다. 이번 실험이 성공적으로 마무리될 경우, 중원지역 고대 제철기술에 대한 정확한 공정 기준이 마련되어 향후 고대 철기문화 연구와 전통 철기 복원 분야에서 획기적인 진전을 가져올 것으로 기대된다. 24일 진행되는 제련실험은 별도의 사전 신청 없이 현장 접수로 참가할 수 있으며, 참가자들은 철 생산과정을 학예연구사의 전문적인 해설과 함께 관찰할 수 있다. 한편, 국가유산청은 올해 하반기엔 고대 제련 과정을 통한 ‘사용실험’을 진행하여 복원한 고대 철제 무기의 실제 활용성과 성능을 검증할 계획이다. 2024년 15차 제련실험 장면 (국가유산청)'\n",
        "corpus_embeddings = embedder.encode(sentences, convert_to_tensor=True, show_progress_bar=True)\n",
        "\n",
        "queries = '국가유산청이 중원지역 고대 제철기술을 재현하는 행사를 추진하며, 이를 통해 고대 철 생산기술의 표준화된 실험지침을 마련할 계획이다. 이번 실험은 고대 철 제련기술의 신뢰성과 반복 재현 가능성을 검증하기 위해 진행되며, 성공 시 고대 철기문화 연구와 전통 철기 복원 분야에서 획기적인 진전을 기대하고 있다. 이 뉴스는 고대 제철기술의 복원과 관련된 내용으로, 현재 철강 산업의 원자재 시장에 직접적인 영향을 미치지는 않지만, 전통 기술 연구와 복원 분야에 일부 영향을 미칠 수 있다.'\n",
        "query_embeddings = embedder.encode(queries, convert_to_tensor=True, show_progress_bar=True)\n",
        "\n",
        "util.pytorch_cos_sim(query_embeddings, corpus_embeddings)\n"
      ],
      "metadata": {
        "id": "03I5jTjh94cE",
        "outputId": "3aee9e9b-0206-4443-b7fa-d4f2dd0d41bc",
        "colab": {
          "base_uri": "https://localhost:8080/",
          "height": 589,
          "referenced_widgets": [
            "8d3b65e775db42d79bec6f7f04a48143",
            "75344bedd9b74d4a988fc1bcb7670a52",
            "bb765ea54fd943788828861210be5b8f",
            "8874ffc88ece496c91bc6d36a2bc8484",
            "4edbf79563414f1cbdb83a906c5ef900",
            "5e08570ef77243bd8c4c3b3f35b5c48d",
            "e752b65929fd448bb2837175da7cc94d",
            "7b7bcb4960864ae1836ead87b80f9ce7",
            "faee68eb4fbe4504b47edb89d237c2e0",
            "9d340a8749f04f9088555d82a44cfcd1",
            "fcc668de2032463e886681017b25765c"
          ]
        }
      },
      "execution_count": 266,
      "outputs": [
        {
          "output_type": "display_data",
          "data": {
            "text/plain": [
              "Batches:   0%|          | 0/1 [00:00<?, ?it/s]"
            ],
            "application/vnd.jupyter.widget-view+json": {
              "version_major": 2,
              "version_minor": 0,
              "model_id": "8d3b65e775db42d79bec6f7f04a48143"
            }
          },
          "metadata": {}
        },
        {
          "output_type": "error",
          "ename": "IndexError",
          "evalue": "index out of range in self",
          "traceback": [
            "\u001b[0;31m---------------------------------------------------------------------------\u001b[0m",
            "\u001b[0;31mIndexError\u001b[0m                                Traceback (most recent call last)",
            "\u001b[0;32m<ipython-input-266-0632a7c21d00>\u001b[0m in \u001b[0;36m<cell line: 0>\u001b[0;34m()\u001b[0m\n\u001b[1;32m      1\u001b[0m \u001b[0msentences\u001b[0m \u001b[0;34m=\u001b[0m \u001b[0;34m'국가유산청이 한반도 고대 제철기술을 재현하는 행사를 추진한다. 당국은 이번 행사를 통해 중원지역 고대 제철기술도 표준화하겠단 계획이다. 국가유산청 국립문화유산연구원 국립중원문화유산연구소는 오는 4월 24일, 충북 청주시 중원연구소 제철기술 복원실험장에서 ‘2025년도 고대 제철기술 복원(제련)실험’을 진행한다고 밝혔다. 제련(製鍊)은 철광석을 녹여 철을 만드는 생산과정을 뜻한다. 이번 복원실험은 중원지역 고대 철 생산기술의 실체를 밝히고 이를 기반으로 한 표준실험지침(매뉴얼)을 마련하기 위해 진행된다. 이에 따라 당일, ‘제련실험’과 ‘사용실험’이 각각 진행될 예정이다. 중원연구소는 지난 2014년부터 진천 석장리, 충주 칠금동 등 삼국시대 제철유적에서 확인된 제련로를 토대로 송풍 방식, 조업 조건 등 고대 제철기술을 고증·재현해왔다. 이번 16차 제련실험은 생산된 철과 슬래그 등 제련 부산물의 과학적 분석 결과가 제철유적 출토 유물과 가장 유사한 특성을 보였던 15차 실험(‘24년 실시)을 통해 복원된 고대 철 제련기술의 신뢰성과 반복 재현 가능성을 검증하기 위해 동일한 환경에서 진행될 예정이다. 국가유산청은 실험을 통해 수집되는 온도 변화, 생산된 철의 양, 부산물의 구성 등 과학적 자료는 향후 고대 철 생산기술 표준실험지침(매뉴얼) 수립을 위한 핵심 자료로 활용할 예정이다. 이번 실험이 성공적으로 마무리될 경우, 중원지역 고대 제철기술에 대한 정확한 공정 기준이 마련되어 향후 고대 철기문화 연구와 전통 철기 복원 분야에서 획기적인 진전을 가져올 것으로 기대된다. 24일 진행되는 제련실험은 별도의 사전 신청 없이 현장 접수로 참가할 수 있으며, 참가자들은 철 생산과정을 학예연구사의 전문적인 해설과 함께 관찰할 수 있다. 한편, 국가유산청은 올해 하반기엔 고대 제련 과정을 통한 ‘사용실험’을 진행하여 복원한 고대 철제 무기의 실제 활용성과 성능을 검증할 계획이다. 2024년 15차 제련실험 장면 (국가유산청)'\u001b[0m\u001b[0;34m\u001b[0m\u001b[0;34m\u001b[0m\u001b[0m\n\u001b[0;32m----> 2\u001b[0;31m \u001b[0mcorpus_embeddings\u001b[0m \u001b[0;34m=\u001b[0m \u001b[0membedder\u001b[0m\u001b[0;34m.\u001b[0m\u001b[0mencode\u001b[0m\u001b[0;34m(\u001b[0m\u001b[0msentences\u001b[0m\u001b[0;34m,\u001b[0m \u001b[0mconvert_to_tensor\u001b[0m\u001b[0;34m=\u001b[0m\u001b[0;32mTrue\u001b[0m\u001b[0;34m,\u001b[0m \u001b[0mshow_progress_bar\u001b[0m\u001b[0;34m=\u001b[0m\u001b[0;32mTrue\u001b[0m\u001b[0;34m)\u001b[0m\u001b[0;34m\u001b[0m\u001b[0;34m\u001b[0m\u001b[0m\n\u001b[0m\u001b[1;32m      3\u001b[0m \u001b[0;34m\u001b[0m\u001b[0m\n\u001b[1;32m      4\u001b[0m \u001b[0mqueries\u001b[0m \u001b[0;34m=\u001b[0m \u001b[0;34m'국가유산청이 중원지역 고대 제철기술을 재현하는 행사를 추진하며, 이를 통해 고대 철 생산기술의 표준화된 실험지침을 마련할 계획이다. 이번 실험은 고대 철 제련기술의 신뢰성과 반복 재현 가능성을 검증하기 위해 진행되며, 성공 시 고대 철기문화 연구와 전통 철기 복원 분야에서 획기적인 진전을 기대하고 있다. 이 뉴스는 고대 제철기술의 복원과 관련된 내용으로, 현재 철강 산업의 원자재 시장에 직접적인 영향을 미치지는 않지만, 전통 기술 연구와 복원 분야에 일부 영향을 미칠 수 있다.'\u001b[0m\u001b[0;34m\u001b[0m\u001b[0;34m\u001b[0m\u001b[0m\n\u001b[1;32m      5\u001b[0m \u001b[0mquery_embeddings\u001b[0m \u001b[0;34m=\u001b[0m \u001b[0membedder\u001b[0m\u001b[0;34m.\u001b[0m\u001b[0mencode\u001b[0m\u001b[0;34m(\u001b[0m\u001b[0mqueries\u001b[0m\u001b[0;34m,\u001b[0m \u001b[0mconvert_to_tensor\u001b[0m\u001b[0;34m=\u001b[0m\u001b[0;32mTrue\u001b[0m\u001b[0;34m,\u001b[0m \u001b[0mshow_progress_bar\u001b[0m\u001b[0;34m=\u001b[0m\u001b[0;32mTrue\u001b[0m\u001b[0;34m)\u001b[0m\u001b[0;34m\u001b[0m\u001b[0;34m\u001b[0m\u001b[0m\n",
            "\u001b[0;32m/usr/local/lib/python3.11/dist-packages/sentence_transformers/SentenceTransformer.py\u001b[0m in \u001b[0;36mencode\u001b[0;34m(self, sentences, prompt_name, prompt, batch_size, show_progress_bar, output_value, precision, convert_to_numpy, convert_to_tensor, device, normalize_embeddings, **kwargs)\u001b[0m\n\u001b[1;32m    683\u001b[0m \u001b[0;34m\u001b[0m\u001b[0m\n\u001b[1;32m    684\u001b[0m             \u001b[0;32mwith\u001b[0m \u001b[0mtorch\u001b[0m\u001b[0;34m.\u001b[0m\u001b[0mno_grad\u001b[0m\u001b[0;34m(\u001b[0m\u001b[0;34m)\u001b[0m\u001b[0;34m:\u001b[0m\u001b[0;34m\u001b[0m\u001b[0;34m\u001b[0m\u001b[0m\n\u001b[0;32m--> 685\u001b[0;31m                 \u001b[0mout_features\u001b[0m \u001b[0;34m=\u001b[0m \u001b[0mself\u001b[0m\u001b[0;34m.\u001b[0m\u001b[0mforward\u001b[0m\u001b[0;34m(\u001b[0m\u001b[0mfeatures\u001b[0m\u001b[0;34m,\u001b[0m \u001b[0;34m**\u001b[0m\u001b[0mkwargs\u001b[0m\u001b[0;34m)\u001b[0m\u001b[0;34m\u001b[0m\u001b[0;34m\u001b[0m\u001b[0m\n\u001b[0m\u001b[1;32m    686\u001b[0m                 \u001b[0;32mif\u001b[0m \u001b[0mself\u001b[0m\u001b[0;34m.\u001b[0m\u001b[0mdevice\u001b[0m\u001b[0;34m.\u001b[0m\u001b[0mtype\u001b[0m \u001b[0;34m==\u001b[0m \u001b[0;34m\"hpu\"\u001b[0m\u001b[0;34m:\u001b[0m\u001b[0;34m\u001b[0m\u001b[0;34m\u001b[0m\u001b[0m\n\u001b[1;32m    687\u001b[0m                     \u001b[0mout_features\u001b[0m \u001b[0;34m=\u001b[0m \u001b[0mcopy\u001b[0m\u001b[0;34m.\u001b[0m\u001b[0mdeepcopy\u001b[0m\u001b[0;34m(\u001b[0m\u001b[0mout_features\u001b[0m\u001b[0;34m)\u001b[0m\u001b[0;34m\u001b[0m\u001b[0;34m\u001b[0m\u001b[0m\n",
            "\u001b[0;32m/usr/local/lib/python3.11/dist-packages/sentence_transformers/SentenceTransformer.py\u001b[0m in \u001b[0;36mforward\u001b[0;34m(self, input, **kwargs)\u001b[0m\n\u001b[1;32m    751\u001b[0m     \u001b[0;32mdef\u001b[0m \u001b[0mforward\u001b[0m\u001b[0;34m(\u001b[0m\u001b[0mself\u001b[0m\u001b[0;34m,\u001b[0m \u001b[0minput\u001b[0m\u001b[0;34m:\u001b[0m \u001b[0mdict\u001b[0m\u001b[0;34m[\u001b[0m\u001b[0mstr\u001b[0m\u001b[0;34m,\u001b[0m \u001b[0mTensor\u001b[0m\u001b[0;34m]\u001b[0m\u001b[0;34m,\u001b[0m \u001b[0;34m**\u001b[0m\u001b[0mkwargs\u001b[0m\u001b[0;34m)\u001b[0m \u001b[0;34m->\u001b[0m \u001b[0mdict\u001b[0m\u001b[0;34m[\u001b[0m\u001b[0mstr\u001b[0m\u001b[0;34m,\u001b[0m \u001b[0mTensor\u001b[0m\u001b[0;34m]\u001b[0m\u001b[0;34m:\u001b[0m\u001b[0;34m\u001b[0m\u001b[0;34m\u001b[0m\u001b[0m\n\u001b[1;32m    752\u001b[0m         \u001b[0;32mif\u001b[0m \u001b[0mself\u001b[0m\u001b[0;34m.\u001b[0m\u001b[0mmodule_kwargs\u001b[0m \u001b[0;32mis\u001b[0m \u001b[0;32mNone\u001b[0m\u001b[0;34m:\u001b[0m\u001b[0;34m\u001b[0m\u001b[0;34m\u001b[0m\u001b[0m\n\u001b[0;32m--> 753\u001b[0;31m             \u001b[0;32mreturn\u001b[0m \u001b[0msuper\u001b[0m\u001b[0;34m(\u001b[0m\u001b[0;34m)\u001b[0m\u001b[0;34m.\u001b[0m\u001b[0mforward\u001b[0m\u001b[0;34m(\u001b[0m\u001b[0minput\u001b[0m\u001b[0;34m)\u001b[0m\u001b[0;34m\u001b[0m\u001b[0;34m\u001b[0m\u001b[0m\n\u001b[0m\u001b[1;32m    754\u001b[0m \u001b[0;34m\u001b[0m\u001b[0m\n\u001b[1;32m    755\u001b[0m         \u001b[0;32mfor\u001b[0m \u001b[0mmodule_name\u001b[0m\u001b[0;34m,\u001b[0m \u001b[0mmodule\u001b[0m \u001b[0;32min\u001b[0m \u001b[0mself\u001b[0m\u001b[0;34m.\u001b[0m\u001b[0mnamed_children\u001b[0m\u001b[0;34m(\u001b[0m\u001b[0;34m)\u001b[0m\u001b[0;34m:\u001b[0m\u001b[0;34m\u001b[0m\u001b[0;34m\u001b[0m\u001b[0m\n",
            "\u001b[0;32m/usr/local/lib/python3.11/dist-packages/torch/nn/modules/container.py\u001b[0m in \u001b[0;36mforward\u001b[0;34m(self, input)\u001b[0m\n\u001b[1;32m    248\u001b[0m     \u001b[0;32mdef\u001b[0m \u001b[0mforward\u001b[0m\u001b[0;34m(\u001b[0m\u001b[0mself\u001b[0m\u001b[0;34m,\u001b[0m \u001b[0minput\u001b[0m\u001b[0;34m)\u001b[0m\u001b[0;34m:\u001b[0m\u001b[0;34m\u001b[0m\u001b[0;34m\u001b[0m\u001b[0m\n\u001b[1;32m    249\u001b[0m         \u001b[0;32mfor\u001b[0m \u001b[0mmodule\u001b[0m \u001b[0;32min\u001b[0m \u001b[0mself\u001b[0m\u001b[0;34m:\u001b[0m\u001b[0;34m\u001b[0m\u001b[0;34m\u001b[0m\u001b[0m\n\u001b[0;32m--> 250\u001b[0;31m             \u001b[0minput\u001b[0m \u001b[0;34m=\u001b[0m \u001b[0mmodule\u001b[0m\u001b[0;34m(\u001b[0m\u001b[0minput\u001b[0m\u001b[0;34m)\u001b[0m\u001b[0;34m\u001b[0m\u001b[0;34m\u001b[0m\u001b[0m\n\u001b[0m\u001b[1;32m    251\u001b[0m         \u001b[0;32mreturn\u001b[0m \u001b[0minput\u001b[0m\u001b[0;34m\u001b[0m\u001b[0;34m\u001b[0m\u001b[0m\n\u001b[1;32m    252\u001b[0m \u001b[0;34m\u001b[0m\u001b[0m\n",
            "\u001b[0;32m/usr/local/lib/python3.11/dist-packages/torch/nn/modules/module.py\u001b[0m in \u001b[0;36m_wrapped_call_impl\u001b[0;34m(self, *args, **kwargs)\u001b[0m\n\u001b[1;32m   1737\u001b[0m             \u001b[0;32mreturn\u001b[0m \u001b[0mself\u001b[0m\u001b[0;34m.\u001b[0m\u001b[0m_compiled_call_impl\u001b[0m\u001b[0;34m(\u001b[0m\u001b[0;34m*\u001b[0m\u001b[0margs\u001b[0m\u001b[0;34m,\u001b[0m \u001b[0;34m**\u001b[0m\u001b[0mkwargs\u001b[0m\u001b[0;34m)\u001b[0m  \u001b[0;31m# type: ignore[misc]\u001b[0m\u001b[0;34m\u001b[0m\u001b[0;34m\u001b[0m\u001b[0m\n\u001b[1;32m   1738\u001b[0m         \u001b[0;32melse\u001b[0m\u001b[0;34m:\u001b[0m\u001b[0;34m\u001b[0m\u001b[0;34m\u001b[0m\u001b[0m\n\u001b[0;32m-> 1739\u001b[0;31m             \u001b[0;32mreturn\u001b[0m \u001b[0mself\u001b[0m\u001b[0;34m.\u001b[0m\u001b[0m_call_impl\u001b[0m\u001b[0;34m(\u001b[0m\u001b[0;34m*\u001b[0m\u001b[0margs\u001b[0m\u001b[0;34m,\u001b[0m \u001b[0;34m**\u001b[0m\u001b[0mkwargs\u001b[0m\u001b[0;34m)\u001b[0m\u001b[0;34m\u001b[0m\u001b[0;34m\u001b[0m\u001b[0m\n\u001b[0m\u001b[1;32m   1740\u001b[0m \u001b[0;34m\u001b[0m\u001b[0m\n\u001b[1;32m   1741\u001b[0m     \u001b[0;31m# torchrec tests the code consistency with the following code\u001b[0m\u001b[0;34m\u001b[0m\u001b[0;34m\u001b[0m\u001b[0m\n",
            "\u001b[0;32m/usr/local/lib/python3.11/dist-packages/torch/nn/modules/module.py\u001b[0m in \u001b[0;36m_call_impl\u001b[0;34m(self, *args, **kwargs)\u001b[0m\n\u001b[1;32m   1748\u001b[0m                 \u001b[0;32mor\u001b[0m \u001b[0m_global_backward_pre_hooks\u001b[0m \u001b[0;32mor\u001b[0m \u001b[0m_global_backward_hooks\u001b[0m\u001b[0;34m\u001b[0m\u001b[0;34m\u001b[0m\u001b[0m\n\u001b[1;32m   1749\u001b[0m                 or _global_forward_hooks or _global_forward_pre_hooks):\n\u001b[0;32m-> 1750\u001b[0;31m             \u001b[0;32mreturn\u001b[0m \u001b[0mforward_call\u001b[0m\u001b[0;34m(\u001b[0m\u001b[0;34m*\u001b[0m\u001b[0margs\u001b[0m\u001b[0;34m,\u001b[0m \u001b[0;34m**\u001b[0m\u001b[0mkwargs\u001b[0m\u001b[0;34m)\u001b[0m\u001b[0;34m\u001b[0m\u001b[0;34m\u001b[0m\u001b[0m\n\u001b[0m\u001b[1;32m   1751\u001b[0m \u001b[0;34m\u001b[0m\u001b[0m\n\u001b[1;32m   1752\u001b[0m         \u001b[0mresult\u001b[0m \u001b[0;34m=\u001b[0m \u001b[0;32mNone\u001b[0m\u001b[0;34m\u001b[0m\u001b[0;34m\u001b[0m\u001b[0m\n",
            "\u001b[0;32m/usr/local/lib/python3.11/dist-packages/sentence_transformers/models/Transformer.py\u001b[0m in \u001b[0;36mforward\u001b[0;34m(self, features, **kwargs)\u001b[0m\n\u001b[1;32m    440\u001b[0m         }\n\u001b[1;32m    441\u001b[0m \u001b[0;34m\u001b[0m\u001b[0m\n\u001b[0;32m--> 442\u001b[0;31m         \u001b[0moutputs\u001b[0m \u001b[0;34m=\u001b[0m \u001b[0mself\u001b[0m\u001b[0;34m.\u001b[0m\u001b[0mauto_model\u001b[0m\u001b[0;34m(\u001b[0m\u001b[0;34m**\u001b[0m\u001b[0mtrans_features\u001b[0m\u001b[0;34m,\u001b[0m \u001b[0;34m**\u001b[0m\u001b[0mkwargs\u001b[0m\u001b[0;34m,\u001b[0m \u001b[0mreturn_dict\u001b[0m\u001b[0;34m=\u001b[0m\u001b[0;32mTrue\u001b[0m\u001b[0;34m)\u001b[0m\u001b[0;34m\u001b[0m\u001b[0;34m\u001b[0m\u001b[0m\n\u001b[0m\u001b[1;32m    443\u001b[0m         \u001b[0mtoken_embeddings\u001b[0m \u001b[0;34m=\u001b[0m \u001b[0moutputs\u001b[0m\u001b[0;34m[\u001b[0m\u001b[0;36m0\u001b[0m\u001b[0;34m]\u001b[0m\u001b[0;34m\u001b[0m\u001b[0;34m\u001b[0m\u001b[0m\n\u001b[1;32m    444\u001b[0m         \u001b[0mfeatures\u001b[0m\u001b[0;34m[\u001b[0m\u001b[0;34m\"token_embeddings\"\u001b[0m\u001b[0;34m]\u001b[0m \u001b[0;34m=\u001b[0m \u001b[0mtoken_embeddings\u001b[0m\u001b[0;34m\u001b[0m\u001b[0;34m\u001b[0m\u001b[0m\n",
            "\u001b[0;32m/usr/local/lib/python3.11/dist-packages/torch/nn/modules/module.py\u001b[0m in \u001b[0;36m_wrapped_call_impl\u001b[0;34m(self, *args, **kwargs)\u001b[0m\n\u001b[1;32m   1737\u001b[0m             \u001b[0;32mreturn\u001b[0m \u001b[0mself\u001b[0m\u001b[0;34m.\u001b[0m\u001b[0m_compiled_call_impl\u001b[0m\u001b[0;34m(\u001b[0m\u001b[0;34m*\u001b[0m\u001b[0margs\u001b[0m\u001b[0;34m,\u001b[0m \u001b[0;34m**\u001b[0m\u001b[0mkwargs\u001b[0m\u001b[0;34m)\u001b[0m  \u001b[0;31m# type: ignore[misc]\u001b[0m\u001b[0;34m\u001b[0m\u001b[0;34m\u001b[0m\u001b[0m\n\u001b[1;32m   1738\u001b[0m         \u001b[0;32melse\u001b[0m\u001b[0;34m:\u001b[0m\u001b[0;34m\u001b[0m\u001b[0;34m\u001b[0m\u001b[0m\n\u001b[0;32m-> 1739\u001b[0;31m             \u001b[0;32mreturn\u001b[0m \u001b[0mself\u001b[0m\u001b[0;34m.\u001b[0m\u001b[0m_call_impl\u001b[0m\u001b[0;34m(\u001b[0m\u001b[0;34m*\u001b[0m\u001b[0margs\u001b[0m\u001b[0;34m,\u001b[0m \u001b[0;34m**\u001b[0m\u001b[0mkwargs\u001b[0m\u001b[0;34m)\u001b[0m\u001b[0;34m\u001b[0m\u001b[0;34m\u001b[0m\u001b[0m\n\u001b[0m\u001b[1;32m   1740\u001b[0m \u001b[0;34m\u001b[0m\u001b[0m\n\u001b[1;32m   1741\u001b[0m     \u001b[0;31m# torchrec tests the code consistency with the following code\u001b[0m\u001b[0;34m\u001b[0m\u001b[0;34m\u001b[0m\u001b[0m\n",
            "\u001b[0;32m/usr/local/lib/python3.11/dist-packages/torch/nn/modules/module.py\u001b[0m in \u001b[0;36m_call_impl\u001b[0;34m(self, *args, **kwargs)\u001b[0m\n\u001b[1;32m   1748\u001b[0m                 \u001b[0;32mor\u001b[0m \u001b[0m_global_backward_pre_hooks\u001b[0m \u001b[0;32mor\u001b[0m \u001b[0m_global_backward_hooks\u001b[0m\u001b[0;34m\u001b[0m\u001b[0;34m\u001b[0m\u001b[0m\n\u001b[1;32m   1749\u001b[0m                 or _global_forward_hooks or _global_forward_pre_hooks):\n\u001b[0;32m-> 1750\u001b[0;31m             \u001b[0;32mreturn\u001b[0m \u001b[0mforward_call\u001b[0m\u001b[0;34m(\u001b[0m\u001b[0;34m*\u001b[0m\u001b[0margs\u001b[0m\u001b[0;34m,\u001b[0m \u001b[0;34m**\u001b[0m\u001b[0mkwargs\u001b[0m\u001b[0;34m)\u001b[0m\u001b[0;34m\u001b[0m\u001b[0;34m\u001b[0m\u001b[0m\n\u001b[0m\u001b[1;32m   1751\u001b[0m \u001b[0;34m\u001b[0m\u001b[0m\n\u001b[1;32m   1752\u001b[0m         \u001b[0mresult\u001b[0m \u001b[0;34m=\u001b[0m \u001b[0;32mNone\u001b[0m\u001b[0;34m\u001b[0m\u001b[0;34m\u001b[0m\u001b[0m\n",
            "\u001b[0;32m/usr/local/lib/python3.11/dist-packages/transformers/models/bert/modeling_bert.py\u001b[0m in \u001b[0;36mforward\u001b[0;34m(self, input_ids, attention_mask, token_type_ids, position_ids, head_mask, inputs_embeds, encoder_hidden_states, encoder_attention_mask, past_key_values, use_cache, output_attentions, output_hidden_states, return_dict)\u001b[0m\n\u001b[1;32m    950\u001b[0m                 \u001b[0mtoken_type_ids\u001b[0m \u001b[0;34m=\u001b[0m \u001b[0mtorch\u001b[0m\u001b[0;34m.\u001b[0m\u001b[0mzeros\u001b[0m\u001b[0;34m(\u001b[0m\u001b[0minput_shape\u001b[0m\u001b[0;34m,\u001b[0m \u001b[0mdtype\u001b[0m\u001b[0;34m=\u001b[0m\u001b[0mtorch\u001b[0m\u001b[0;34m.\u001b[0m\u001b[0mlong\u001b[0m\u001b[0;34m,\u001b[0m \u001b[0mdevice\u001b[0m\u001b[0;34m=\u001b[0m\u001b[0mdevice\u001b[0m\u001b[0;34m)\u001b[0m\u001b[0;34m\u001b[0m\u001b[0;34m\u001b[0m\u001b[0m\n\u001b[1;32m    951\u001b[0m \u001b[0;34m\u001b[0m\u001b[0m\n\u001b[0;32m--> 952\u001b[0;31m         embedding_output = self.embeddings(\n\u001b[0m\u001b[1;32m    953\u001b[0m             \u001b[0minput_ids\u001b[0m\u001b[0;34m=\u001b[0m\u001b[0minput_ids\u001b[0m\u001b[0;34m,\u001b[0m\u001b[0;34m\u001b[0m\u001b[0;34m\u001b[0m\u001b[0m\n\u001b[1;32m    954\u001b[0m             \u001b[0mposition_ids\u001b[0m\u001b[0;34m=\u001b[0m\u001b[0mposition_ids\u001b[0m\u001b[0;34m,\u001b[0m\u001b[0;34m\u001b[0m\u001b[0;34m\u001b[0m\u001b[0m\n",
            "\u001b[0;32m/usr/local/lib/python3.11/dist-packages/torch/nn/modules/module.py\u001b[0m in \u001b[0;36m_wrapped_call_impl\u001b[0;34m(self, *args, **kwargs)\u001b[0m\n\u001b[1;32m   1737\u001b[0m             \u001b[0;32mreturn\u001b[0m \u001b[0mself\u001b[0m\u001b[0;34m.\u001b[0m\u001b[0m_compiled_call_impl\u001b[0m\u001b[0;34m(\u001b[0m\u001b[0;34m*\u001b[0m\u001b[0margs\u001b[0m\u001b[0;34m,\u001b[0m \u001b[0;34m**\u001b[0m\u001b[0mkwargs\u001b[0m\u001b[0;34m)\u001b[0m  \u001b[0;31m# type: ignore[misc]\u001b[0m\u001b[0;34m\u001b[0m\u001b[0;34m\u001b[0m\u001b[0m\n\u001b[1;32m   1738\u001b[0m         \u001b[0;32melse\u001b[0m\u001b[0;34m:\u001b[0m\u001b[0;34m\u001b[0m\u001b[0;34m\u001b[0m\u001b[0m\n\u001b[0;32m-> 1739\u001b[0;31m             \u001b[0;32mreturn\u001b[0m \u001b[0mself\u001b[0m\u001b[0;34m.\u001b[0m\u001b[0m_call_impl\u001b[0m\u001b[0;34m(\u001b[0m\u001b[0;34m*\u001b[0m\u001b[0margs\u001b[0m\u001b[0;34m,\u001b[0m \u001b[0;34m**\u001b[0m\u001b[0mkwargs\u001b[0m\u001b[0;34m)\u001b[0m\u001b[0;34m\u001b[0m\u001b[0;34m\u001b[0m\u001b[0m\n\u001b[0m\u001b[1;32m   1740\u001b[0m \u001b[0;34m\u001b[0m\u001b[0m\n\u001b[1;32m   1741\u001b[0m     \u001b[0;31m# torchrec tests the code consistency with the following code\u001b[0m\u001b[0;34m\u001b[0m\u001b[0;34m\u001b[0m\u001b[0m\n",
            "\u001b[0;32m/usr/local/lib/python3.11/dist-packages/torch/nn/modules/module.py\u001b[0m in \u001b[0;36m_call_impl\u001b[0;34m(self, *args, **kwargs)\u001b[0m\n\u001b[1;32m   1748\u001b[0m                 \u001b[0;32mor\u001b[0m \u001b[0m_global_backward_pre_hooks\u001b[0m \u001b[0;32mor\u001b[0m \u001b[0m_global_backward_hooks\u001b[0m\u001b[0;34m\u001b[0m\u001b[0;34m\u001b[0m\u001b[0m\n\u001b[1;32m   1749\u001b[0m                 or _global_forward_hooks or _global_forward_pre_hooks):\n\u001b[0;32m-> 1750\u001b[0;31m             \u001b[0;32mreturn\u001b[0m \u001b[0mforward_call\u001b[0m\u001b[0;34m(\u001b[0m\u001b[0;34m*\u001b[0m\u001b[0margs\u001b[0m\u001b[0;34m,\u001b[0m \u001b[0;34m**\u001b[0m\u001b[0mkwargs\u001b[0m\u001b[0;34m)\u001b[0m\u001b[0;34m\u001b[0m\u001b[0;34m\u001b[0m\u001b[0m\n\u001b[0m\u001b[1;32m   1751\u001b[0m \u001b[0;34m\u001b[0m\u001b[0m\n\u001b[1;32m   1752\u001b[0m         \u001b[0mresult\u001b[0m \u001b[0;34m=\u001b[0m \u001b[0;32mNone\u001b[0m\u001b[0;34m\u001b[0m\u001b[0;34m\u001b[0m\u001b[0m\n",
            "\u001b[0;32m/usr/local/lib/python3.11/dist-packages/transformers/models/bert/modeling_bert.py\u001b[0m in \u001b[0;36mforward\u001b[0;34m(self, input_ids, token_type_ids, position_ids, inputs_embeds, past_key_values_length)\u001b[0m\n\u001b[1;32m    177\u001b[0m         \u001b[0;32mif\u001b[0m \u001b[0minputs_embeds\u001b[0m \u001b[0;32mis\u001b[0m \u001b[0;32mNone\u001b[0m\u001b[0;34m:\u001b[0m\u001b[0;34m\u001b[0m\u001b[0;34m\u001b[0m\u001b[0m\n\u001b[1;32m    178\u001b[0m             \u001b[0minputs_embeds\u001b[0m \u001b[0;34m=\u001b[0m \u001b[0mself\u001b[0m\u001b[0;34m.\u001b[0m\u001b[0mword_embeddings\u001b[0m\u001b[0;34m(\u001b[0m\u001b[0minput_ids\u001b[0m\u001b[0;34m)\u001b[0m\u001b[0;34m\u001b[0m\u001b[0;34m\u001b[0m\u001b[0m\n\u001b[0;32m--> 179\u001b[0;31m         \u001b[0mtoken_type_embeddings\u001b[0m \u001b[0;34m=\u001b[0m \u001b[0mself\u001b[0m\u001b[0;34m.\u001b[0m\u001b[0mtoken_type_embeddings\u001b[0m\u001b[0;34m(\u001b[0m\u001b[0mtoken_type_ids\u001b[0m\u001b[0;34m)\u001b[0m\u001b[0;34m\u001b[0m\u001b[0;34m\u001b[0m\u001b[0m\n\u001b[0m\u001b[1;32m    180\u001b[0m \u001b[0;34m\u001b[0m\u001b[0m\n\u001b[1;32m    181\u001b[0m         \u001b[0membeddings\u001b[0m \u001b[0;34m=\u001b[0m \u001b[0minputs_embeds\u001b[0m \u001b[0;34m+\u001b[0m \u001b[0mtoken_type_embeddings\u001b[0m\u001b[0;34m\u001b[0m\u001b[0;34m\u001b[0m\u001b[0m\n",
            "\u001b[0;32m/usr/local/lib/python3.11/dist-packages/torch/nn/modules/module.py\u001b[0m in \u001b[0;36m_wrapped_call_impl\u001b[0;34m(self, *args, **kwargs)\u001b[0m\n\u001b[1;32m   1737\u001b[0m             \u001b[0;32mreturn\u001b[0m \u001b[0mself\u001b[0m\u001b[0;34m.\u001b[0m\u001b[0m_compiled_call_impl\u001b[0m\u001b[0;34m(\u001b[0m\u001b[0;34m*\u001b[0m\u001b[0margs\u001b[0m\u001b[0;34m,\u001b[0m \u001b[0;34m**\u001b[0m\u001b[0mkwargs\u001b[0m\u001b[0;34m)\u001b[0m  \u001b[0;31m# type: ignore[misc]\u001b[0m\u001b[0;34m\u001b[0m\u001b[0;34m\u001b[0m\u001b[0m\n\u001b[1;32m   1738\u001b[0m         \u001b[0;32melse\u001b[0m\u001b[0;34m:\u001b[0m\u001b[0;34m\u001b[0m\u001b[0;34m\u001b[0m\u001b[0m\n\u001b[0;32m-> 1739\u001b[0;31m             \u001b[0;32mreturn\u001b[0m \u001b[0mself\u001b[0m\u001b[0;34m.\u001b[0m\u001b[0m_call_impl\u001b[0m\u001b[0;34m(\u001b[0m\u001b[0;34m*\u001b[0m\u001b[0margs\u001b[0m\u001b[0;34m,\u001b[0m \u001b[0;34m**\u001b[0m\u001b[0mkwargs\u001b[0m\u001b[0;34m)\u001b[0m\u001b[0;34m\u001b[0m\u001b[0;34m\u001b[0m\u001b[0m\n\u001b[0m\u001b[1;32m   1740\u001b[0m \u001b[0;34m\u001b[0m\u001b[0m\n\u001b[1;32m   1741\u001b[0m     \u001b[0;31m# torchrec tests the code consistency with the following code\u001b[0m\u001b[0;34m\u001b[0m\u001b[0;34m\u001b[0m\u001b[0m\n",
            "\u001b[0;32m/usr/local/lib/python3.11/dist-packages/torch/nn/modules/module.py\u001b[0m in \u001b[0;36m_call_impl\u001b[0;34m(self, *args, **kwargs)\u001b[0m\n\u001b[1;32m   1748\u001b[0m                 \u001b[0;32mor\u001b[0m \u001b[0m_global_backward_pre_hooks\u001b[0m \u001b[0;32mor\u001b[0m \u001b[0m_global_backward_hooks\u001b[0m\u001b[0;34m\u001b[0m\u001b[0;34m\u001b[0m\u001b[0m\n\u001b[1;32m   1749\u001b[0m                 or _global_forward_hooks or _global_forward_pre_hooks):\n\u001b[0;32m-> 1750\u001b[0;31m             \u001b[0;32mreturn\u001b[0m \u001b[0mforward_call\u001b[0m\u001b[0;34m(\u001b[0m\u001b[0;34m*\u001b[0m\u001b[0margs\u001b[0m\u001b[0;34m,\u001b[0m \u001b[0;34m**\u001b[0m\u001b[0mkwargs\u001b[0m\u001b[0;34m)\u001b[0m\u001b[0;34m\u001b[0m\u001b[0;34m\u001b[0m\u001b[0m\n\u001b[0m\u001b[1;32m   1751\u001b[0m \u001b[0;34m\u001b[0m\u001b[0m\n\u001b[1;32m   1752\u001b[0m         \u001b[0mresult\u001b[0m \u001b[0;34m=\u001b[0m \u001b[0;32mNone\u001b[0m\u001b[0;34m\u001b[0m\u001b[0;34m\u001b[0m\u001b[0m\n",
            "\u001b[0;32m/usr/local/lib/python3.11/dist-packages/torch/nn/modules/sparse.py\u001b[0m in \u001b[0;36mforward\u001b[0;34m(self, input)\u001b[0m\n\u001b[1;32m    188\u001b[0m \u001b[0;34m\u001b[0m\u001b[0m\n\u001b[1;32m    189\u001b[0m     \u001b[0;32mdef\u001b[0m \u001b[0mforward\u001b[0m\u001b[0;34m(\u001b[0m\u001b[0mself\u001b[0m\u001b[0;34m,\u001b[0m \u001b[0minput\u001b[0m\u001b[0;34m:\u001b[0m \u001b[0mTensor\u001b[0m\u001b[0;34m)\u001b[0m \u001b[0;34m->\u001b[0m \u001b[0mTensor\u001b[0m\u001b[0;34m:\u001b[0m\u001b[0;34m\u001b[0m\u001b[0;34m\u001b[0m\u001b[0m\n\u001b[0;32m--> 190\u001b[0;31m         return F.embedding(\n\u001b[0m\u001b[1;32m    191\u001b[0m             \u001b[0minput\u001b[0m\u001b[0;34m,\u001b[0m\u001b[0;34m\u001b[0m\u001b[0;34m\u001b[0m\u001b[0m\n\u001b[1;32m    192\u001b[0m             \u001b[0mself\u001b[0m\u001b[0;34m.\u001b[0m\u001b[0mweight\u001b[0m\u001b[0;34m,\u001b[0m\u001b[0;34m\u001b[0m\u001b[0;34m\u001b[0m\u001b[0m\n",
            "\u001b[0;32m/usr/local/lib/python3.11/dist-packages/torch/nn/functional.py\u001b[0m in \u001b[0;36membedding\u001b[0;34m(input, weight, padding_idx, max_norm, norm_type, scale_grad_by_freq, sparse)\u001b[0m\n\u001b[1;32m   2549\u001b[0m         \u001b[0;31m# remove once script supports set_grad_enabled\u001b[0m\u001b[0;34m\u001b[0m\u001b[0;34m\u001b[0m\u001b[0m\n\u001b[1;32m   2550\u001b[0m         \u001b[0m_no_grad_embedding_renorm_\u001b[0m\u001b[0;34m(\u001b[0m\u001b[0mweight\u001b[0m\u001b[0;34m,\u001b[0m \u001b[0minput\u001b[0m\u001b[0;34m,\u001b[0m \u001b[0mmax_norm\u001b[0m\u001b[0;34m,\u001b[0m \u001b[0mnorm_type\u001b[0m\u001b[0;34m)\u001b[0m\u001b[0;34m\u001b[0m\u001b[0;34m\u001b[0m\u001b[0m\n\u001b[0;32m-> 2551\u001b[0;31m     \u001b[0;32mreturn\u001b[0m \u001b[0mtorch\u001b[0m\u001b[0;34m.\u001b[0m\u001b[0membedding\u001b[0m\u001b[0;34m(\u001b[0m\u001b[0mweight\u001b[0m\u001b[0;34m,\u001b[0m \u001b[0minput\u001b[0m\u001b[0;34m,\u001b[0m \u001b[0mpadding_idx\u001b[0m\u001b[0;34m,\u001b[0m \u001b[0mscale_grad_by_freq\u001b[0m\u001b[0;34m,\u001b[0m \u001b[0msparse\u001b[0m\u001b[0;34m)\u001b[0m\u001b[0;34m\u001b[0m\u001b[0;34m\u001b[0m\u001b[0m\n\u001b[0m\u001b[1;32m   2552\u001b[0m \u001b[0;34m\u001b[0m\u001b[0m\n\u001b[1;32m   2553\u001b[0m \u001b[0;34m\u001b[0m\u001b[0m\n",
            "\u001b[0;31mIndexError\u001b[0m: index out of range in self"
          ]
        }
      ]
    },
    {
      "cell_type": "code",
      "source": [
        "rouge.get_scores(' '.join(okt.nouns(queries)), ' '.join(okt.nouns(sentences)), avg=True)"
      ],
      "metadata": {
        "id": "nADR1oLFIlyI",
        "outputId": "06170897-53f6-43b8-cbdd-dbb039c35c3a",
        "colab": {
          "base_uri": "https://localhost:8080/"
        }
      },
      "execution_count": 264,
      "outputs": [
        {
          "output_type": "execute_result",
          "data": {
            "text/plain": [
              "{'rouge-1': {'r': 0.30708661417322836,\n",
              "  'p': 0.7647058823529411,\n",
              "  'f': 0.4382022431025124},\n",
              " 'rouge-2': {'r': 0.17733990147783252,\n",
              "  'p': 0.5538461538461539,\n",
              "  'f': 0.2686567127436512},\n",
              " 'rouge-l': {'r': 0.25984251968503935,\n",
              "  'p': 0.6470588235294118,\n",
              "  'f': 0.3707865127654336}}"
            ]
          },
          "metadata": {},
          "execution_count": 264
        }
      ]
    },
    {
      "cell_type": "code",
      "source": [
        "from konlpy.tag import Okt\n",
        "okt = Okt() # 객체 생성\n",
        "\n",
        "#okt.pos(sentences, norm=True, stem=True)  # 어떤 형태소 종류인지 튜플로 반환\n",
        "' '.join(okt.nouns(sentences))"
      ],
      "metadata": {
        "id": "e0fEVfMmEJ0J",
        "outputId": "af60293e-5cda-46ba-fdab-66f8bb0366b3",
        "colab": {
          "base_uri": "https://localhost:8080/",
          "height": 54
        }
      },
      "execution_count": 167,
      "outputs": [
        {
          "output_type": "execute_result",
          "data": {
            "text/plain": [
              "'중국 철 강재 수출 톤 기록 중국 해관 총서 발표 이 누적 수출 톤 년 동기 대비 증가 철 강재 수입 톤 기록 누적 수입량 톤 년 동기 대비 감소 철광석 및 정광 수입 톤 기록 누적 수입량 톤 년 동기 대비 감소 석탄 및 갈탄 수입량 톤 누적 수입 톤 년 기간'"
            ],
            "application/vnd.google.colaboratory.intrinsic+json": {
              "type": "string"
            }
          },
          "metadata": {},
          "execution_count": 167
        }
      ]
    },
    {
      "cell_type": "code",
      "source": [
        "from rouge import Rouge\n",
        "\n",
        "rouge = Rouge()\n",
        "rouge.get_scores(' '.join(okt.nouns(queries)), ' '.join(okt.nouns(sentences)), avg=True)\n",
        "#rouge.get_scores(' '.join(okt.morphs(queries)), ' '.join(okt.morphs(sentences)), avg=True)"
      ],
      "metadata": {
        "id": "IPU3jJ3S7Pbr",
        "outputId": "08188796-94cc-49d9-a457-3d8fc2df42ff",
        "colab": {
          "base_uri": "https://localhost:8080/"
        }
      },
      "execution_count": 174,
      "outputs": [
        {
          "output_type": "execute_result",
          "data": {
            "text/plain": [
              "{'rouge-1': {'r': 0.3333333333333333,\n",
              "  'p': 0.9473684210526315,\n",
              "  'f': 0.49315068108087823},\n",
              " 'rouge-2': {'r': 0.1342281879194631,\n",
              "  'p': 0.4878048780487805,\n",
              "  'f': 0.21052631240498618},\n",
              " 'rouge-l': {'r': 0.28703703703703703,\n",
              "  'p': 0.8157894736842105,\n",
              "  'f': 0.4246575303959467}}"
            ]
          },
          "metadata": {},
          "execution_count": 174
        }
      ]
    },
    {
      "cell_type": "code",
      "source": [
        "from rouge_score import rouge_scorer\n",
        "\n",
        "# Initialize a scorer for multiple ROUGE variants\n",
        "scorer = rouge_scorer.RougeScorer(['rouge1', 'rouge2', 'rougeL'], use_stemmer=True)\n",
        "\n",
        "# Calculate scores\n",
        "scores = scorer.score(sentences, queries)\n",
        "scores"
      ],
      "metadata": {
        "id": "UFn_c-txAr8g",
        "outputId": "37812263-8797-4806-f81c-1e698611fccf",
        "colab": {
          "base_uri": "https://localhost:8080/"
        }
      },
      "execution_count": 155,
      "outputs": [
        {
          "output_type": "execute_result",
          "data": {
            "text/plain": [
              "{'rouge1': Score(precision=1.0, recall=0.10638297872340426, fmeasure=0.1923076923076923),\n",
              " 'rouge2': Score(precision=1.0, recall=0.08695652173913043, fmeasure=0.16),\n",
              " 'rougeL': Score(precision=1.0, recall=0.10638297872340426, fmeasure=0.1923076923076923)}"
            ]
          },
          "metadata": {},
          "execution_count": 155
        }
      ]
    },
    {
      "cell_type": "code",
      "source": [
        "!pip install rouge_score rouge evaluate KoNLPy --upgrade --quiet"
      ],
      "metadata": {
        "collapsed": true,
        "id": "MUdfvLVmKqrI",
        "outputId": "243971e2-7590-4fd4-84aa-a6e68830e111",
        "colab": {
          "base_uri": "https://localhost:8080/"
        }
      },
      "execution_count": 161,
      "outputs": [
        {
          "output_type": "stream",
          "name": "stdout",
          "text": [
            "\u001b[2K   \u001b[90m━━━━━━━━━━━━━━━━━━━━━━━━━━━━━━━━━━━━━━━━\u001b[0m \u001b[32m19.4/19.4 MB\u001b[0m \u001b[31m28.3 MB/s\u001b[0m eta \u001b[36m0:00:00\u001b[0m\n",
            "\u001b[2K   \u001b[90m━━━━━━━━━━━━━━━━━━━━━━━━━━━━━━━━━━━━━━━━\u001b[0m \u001b[32m494.1/494.1 kB\u001b[0m \u001b[31m21.0 MB/s\u001b[0m eta \u001b[36m0:00:00\u001b[0m\n",
            "\u001b[?25h"
          ]
        }
      ]
    },
    {
      "cell_type": "code",
      "source": [
        "from rouge_score import rouge_scorer"
      ],
      "metadata": {
        "id": "nM67OiI7Kofc"
      },
      "execution_count": 86,
      "outputs": []
    },
    {
      "cell_type": "code",
      "source": [
        "l = rouge_scorer.RougeScorer(['rouge1', 'rouge2', 'rougeL'], use_stemmer=True)\n",
        "l.score(sentences, queries)"
      ],
      "metadata": {
        "id": "MlhiRYZxKaHX",
        "outputId": "11b0bb44-24d1-46cd-c724-29aa53ff981c",
        "colab": {
          "base_uri": "https://localhost:8080/"
        }
      },
      "execution_count": 88,
      "outputs": [
        {
          "output_type": "execute_result",
          "data": {
            "text/plain": [
              "{'rouge1': Score(precision=0.0, recall=0.0, fmeasure=0.0),\n",
              " 'rouge2': Score(precision=0.0, recall=0.0, fmeasure=0.0),\n",
              " 'rougeL': Score(precision=0, recall=0, fmeasure=0)}"
            ]
          },
          "metadata": {},
          "execution_count": 88
        }
      ]
    },
    {
      "cell_type": "code",
      "source": [
        "sentences = merged_df['summary'].tolist()\n",
        "corpus_embeddings = embedder.encode(sentences, convert_to_tensor=True, show_progress_bar=True)\n",
        "\n",
        "queries = merged_df['CONTENTS'].tolist()\n",
        "query_embeddings = embedder.encode(queries, convert_to_tensor=True, show_progress_bar=True)\n"
      ],
      "metadata": {
        "collapsed": true,
        "colab": {
          "base_uri": "https://localhost:8080/",
          "height": 81,
          "referenced_widgets": [
            "6cbbe7b1248b4a8ea492a93240f01a23",
            "69ae9dafaa654cc2a1b9e1647953ae4b",
            "1fd18514bbfa4a1b8d9a9404284495d4",
            "8f1ddfac2b75442faff35905539a7d52",
            "95cb0ae900b74359986082d817bc08e0",
            "48f269d30c4f47c185c6ee172ec31785",
            "a7a0673945d2447e961752b38683d39b",
            "4a50458ebe444642be29a6a57c3a3e04",
            "c360cd41963248139d0c19104fc46dbe",
            "67807efde674448fb83bae0787c639c7",
            "c247ba3f0dcb4e04a3064f9ce6388f46",
            "1be9b086ad1842c1ae9b1c5dcc5dadfa",
            "ff6f24d4f93f4329aac6d38e9e8ad39d",
            "9d7fe4a863994bbbac35f82742a12aa1",
            "a028c0431624473d8d5bf0a3906a4384",
            "61246370b9ea4172807470079b10b532",
            "632307965d7c46168f34b7a37d6c8c3e",
            "36f673513b4b41abbab32cd135536075",
            "0fa2f80a76b340f3a4f54c821f57ef6c",
            "a05981184a4747528fd69e200ec5183f",
            "20a2626b43c743a4ab2cd225d68d9853",
            "92e8831e6e3f476f9536e0ea419667db"
          ]
        },
        "id": "C2TVXMbbfcRm",
        "outputId": "d7ae5a35-0441-4028-878f-391ed36f01a0"
      },
      "execution_count": 29,
      "outputs": [
        {
          "output_type": "display_data",
          "data": {
            "text/plain": [
              "Batches:   0%|          | 0/12 [00:00<?, ?it/s]"
            ],
            "application/vnd.jupyter.widget-view+json": {
              "version_major": 2,
              "version_minor": 0,
              "model_id": "6cbbe7b1248b4a8ea492a93240f01a23"
            }
          },
          "metadata": {}
        },
        {
          "output_type": "display_data",
          "data": {
            "text/plain": [
              "Batches:   0%|          | 0/12 [00:00<?, ?it/s]"
            ],
            "application/vnd.jupyter.widget-view+json": {
              "version_major": 2,
              "version_minor": 0,
              "model_id": "1be9b086ad1842c1ae9b1c5dcc5dadfa"
            }
          },
          "metadata": {}
        }
      ]
    },
    {
      "cell_type": "code",
      "source": [
        "list_scores = []\n",
        "for i in range(len(sentences)):\n",
        "  cos_scores = util.pytorch_cos_sim(query_embeddings[i], corpus_embeddings[i])#[0]\n",
        "  #print(cos_scores)\n",
        "  cos_scores = cos_scores.cpu()\n",
        "  list_scores.append(cos_scores)\n",
        "np.mean(list_scores)"
      ],
      "metadata": {
        "id": "MNcPuP2ztdFW",
        "outputId": "848d4246-20a8-48c4-8dc0-717869cfca5f",
        "colab": {
          "base_uri": "https://localhost:8080/"
        }
      },
      "execution_count": 30,
      "outputs": [
        {
          "output_type": "execute_result",
          "data": {
            "text/plain": [
              "np.float32(0.66564524)"
            ]
          },
          "metadata": {},
          "execution_count": 30
        }
      ]
    },
    {
      "cell_type": "code",
      "source": [
        "list_scores = []\n",
        "for i in range(len(sentences)):\n",
        "  cos_scores = util.pytorch_cos_sim(query_embeddings[i], corpus_embeddings[i])#[0]\n",
        "  #print(cos_scores)\n",
        "  cos_scores = cos_scores.cpu()\n",
        "  list_scores.append(cos_scores)\n",
        "np.mean(list_scores)"
      ],
      "metadata": {
        "colab": {
          "base_uri": "https://localhost:8080/"
        },
        "id": "rr4t3nepflDy",
        "outputId": "06aea8b6-9915-4200-c22f-41715a403951"
      },
      "execution_count": 30,
      "outputs": [
        {
          "output_type": "execute_result",
          "data": {
            "text/plain": [
              "np.float32(0.66564524)"
            ]
          },
          "metadata": {},
          "execution_count": 30
        }
      ]
    },
    {
      "cell_type": "code",
      "source": [
        "# https://github.com/jhgan00/ko-sentence-transformers\n",
        "# https://pypi.org/project/ko-sentence-transformers/\n",
        "\n",
        "from sentence_transformers import SentenceTransformer, util\n",
        "import numpy as np\n",
        "\n",
        "model_name = \"jhgan/ko-sroberta-multitask\"\n",
        "#model_name = \"monologg/kobert\"\n",
        "#model_name = \"jhgan/ko-sbert-sts\"\n",
        "embedder = SentenceTransformer(model_name)\n",
        "\n",
        "#sentences = merged_df['summary'].tolist()\n",
        "#sentences = merged_df['CONTENTS'].tolist()\n",
        "corpus_embeddings = embedder.encode(documents, convert_to_tensor=True, show_progress_bar=True)\n",
        "\n",
        "# Query sentences:\n",
        "#queries = ['니켈', '공급망']\n",
        "queries = [query]\n",
        "queries = ['철광석', '공급망']\n",
        "\n",
        "# Find the closest 5 sentences of the corpus for each query sentence based on cosine similarity\n",
        "top_k = 10\n",
        "i=0\n",
        "for q in queries:\n",
        " i = i+1\n",
        " query_embedding = embedder.encode(q, convert_to_tensor=True)\n",
        " cos_scores = util.pytorch_cos_sim(query_embedding, corpus_embeddings)[0]\n",
        " cos_scores = cos_scores.cpu()\n",
        " if i==1:\n",
        "  merged_df['bert_score1']=cos_scores\n",
        " elif i==2:\n",
        "  merged_df['bert_score2']=cos_scores\n",
        "\n",
        " #We use np.argpartition, to only partially sort the top_k results\n",
        " top_results = np.argpartition(-cos_scores, range(top_k))[0:top_k]\n",
        "\n",
        " print(\"\\n\\n======================\\n\\n\")\n",
        " print(\"Query:\", q)\n",
        " print(\"\\nTop 5 most similar sentences in corpus:\")\n",
        "\n",
        " for idx in top_results[0:top_k]:\n",
        "  print(documents[idx].strip(), \"(Score: %.4f)\" % (cos_scores[idx]))"
      ],
      "metadata": {
        "id": "N-Ah6M08-_LW",
        "outputId": "4c367d77-9047-42a9-e4b5-ec7b288bb1b4",
        "colab": {
          "base_uri": "https://localhost:8080/",
          "height": 730,
          "referenced_widgets": [
            "c042483a7b5b47aca7c3eecb98fa7952",
            "4286b4370baf416ab1eba33c13868151",
            "ea2f644b296948988974a8dccaa0baaf",
            "dfc1b55918bd442790443573fd2d9339",
            "a5bc37bc3b6d4a14a3a523ca9337b710",
            "fa8cdcf6c31e476bb604e5bdc2b2be1a",
            "732bc264f301414daf3ada664acb08c2",
            "41d58c8760b644c0913c5bc8c98922e7",
            "b5d9e87a690440d9b3479dc89fc5904e",
            "99c9edc42bd741ae80fccb54066f2d67",
            "6b2fce3308d347a0b91f7de83f4b10a2"
          ]
        }
      },
      "execution_count": 21,
      "outputs": [
        {
          "output_type": "display_data",
          "data": {
            "text/plain": [
              "Batches:   0%|          | 0/12 [00:00<?, ?it/s]"
            ],
            "application/vnd.jupyter.widget-view+json": {
              "version_major": 2,
              "version_minor": 0,
              "model_id": "c042483a7b5b47aca7c3eecb98fa7952"
            }
          },
          "metadata": {}
        },
        {
          "output_type": "stream",
          "name": "stdout",
          "text": [
            "\n",
            "\n",
            "======================\n",
            "\n",
            "\n",
            "Query: 철광석\n",
            "\n",
            "Top 5 most similar sentences in corpus:\n",
            "우드맥킨지의 철광석? 2024년 5가지 볼거리 보고서 표지. (출처우드맥킨지) 시장조사기관 우드맥킨지(WoodMckenzie)는 최근 철광석? 2024년 5가지 볼거리(Iron ore? 5 things to look for in 2024)라는 보고서를 발표하고, 세계 최대 철강 생산국인 중국의 경기 부진 및 정책 변동성, 고품위 철광석 수요 급증에 따른 광산 개발 복잡성 증가, 아프리카의 시만두(Simandou) 프로젝트, 중국의 자체 생산 확대 지연, 철강산업의 탈탄소화에 따른 새로운 녹색 허브 탄생 등 5가지 주요 이슈를 제기했다. 2024년 중국 경제, 인프라 및 제조업 중심 개선에도 부동산 부진에 철강 수요 1% 미만 증가 첫째, 보고서는 세계 최대의 철강 생산국인 중국이 올해 일정 수준의 경기 회복에도 부동산 부문의 침체가 지속되며 철강 수요는 크게 늘지 않을 것으로 예상했다. 2023년은 중국 경제에 유망한 한 해가 될 예정이었다. 이는 제로코로나 정책의 폐지를 의미하며 봉쇄 규제 완화와 산업 활동의 강력한 반등을 기대하게 했다. 그러나 현실은 매우 달라 보였는데, 중국의 둔화로 인해 철강 시장이 연중 침체됐다. 국내적으로는 부동산 경기 침체, 지방정부 부채 증가, 낮은 시장 신뢰도가 중국의 경제 성장을 위협하고 있으며, 대외적으로는 지정학적 리스크와 공급망의 재배치로 인해 고부가가치 부문을 개발하고 품질 중심의 개발로 전환하려는 중국의 야망이 꺾였다. 그럼에도 불구하고 중국의 조강 생산량은 2023년에 10억 톤을 약간 넘는 수준으로 증가했으며, 기계, 자동차 및 인프라의 수출 및 수요 증가로 어려움을 겪고 있는 부동산 부문의 손실을 부분적으로 상쇄했다. 보고서는 중국의 2024년 부동산 시장 전망에 대해 경기가 이미 바닥에 이르렀고, 서서히 반등할 것이라는 전망을 내놓았다. 우드맥킨지는 우리는 베이징이 더 많은 부동산 개발업체들에게 신용 유동성을 제공하고, 1급 도시의 주택 구매 제한을 폐지하고, 계약금금리를 추가로 낮추는 등 시장 안정을 위해 2024년에 더 많은 지원 조치를 도입할 것으로 예상한다. 다만, 우리는 중국 인구가 정점에 도달하고 도시화가 크게 둔화되었다는 점을 고려할 때, 그 부문의 회복이 약할 것으로 예상한다고 밝혔다. 이어 중국 정부는 다른 선택권을 가지고 있지만, 인프라 투자는 특히 금융위기 기간 동안 경제 성장을 직접적으로 촉진하기 위해 수십 년 동안 시도되고 시험된 방법이다. 최근 재난 후 복구 및 재건을 목표로 하는 1조 위안 규모의 특별 국채 발행은 그러한 조치 중 하나의 좋은 예이다. 이외에도, 우리는 중국 정부가 더 많은 지방 정부 특별 채권을 할당하고 다른 대출 시설을 활용하여 2024년 철강의 주요 수요 동인을 구성하는 저렴한 주택, 도시 마을 개조 및 평시 및 비상 공공 인프라 건설과 같은 3대 프로젝트에 충분한 유동성과 자금 공급을 제공할 것으로 기대한다고 덧붙였다. 보고서는 2024년 중국의 철강 수요는 인프라 및 제조업 개선을 중심으로 1% 미만으로 소폭 증가할 것으로 예상된다. 특히, 부동산 부문이 규제 완화에도 인구 감소 및 도시화 속도 둔화에 부딪치고 있어 철강 수요가 기존 전망치 대비 큰 폭으로 증가하기는 어려울 전망이다고 밝혔다. 고품위 철광석 수요 증가 속 기존 광산 고갈 및 ESG 요구 증가에 신규 광산 개발 차질 둘째, 2024년 철광석 공급 전망은 중국의 수요 회복과 비교할 때 더 예측 가능하고 안정적으로 보인다. 다만 철강업체들이 고품위 철광석을 요구하는 데다 기존 광산의 고갈 및 ESG 요구 증가 등으로 인해 새로운 광산 개발에 큰 차질을 빚을 전망이다. 세계 최대 철광석 생산국인 호주의 경우 리오 틴토와 중견 광산업체들이 생산량을 늘리면서 지난해 공급이 원활했고, 2024년에는 공급이 계속 증가하지만 작년에 비해 더 작은 폭으로 증가할 것이다. 포테스큐의 아이언 브릿지와 리오 틴토의 구다이 다리 광산은 계속해서 생산량이 증가할 것이다. BHP의 사우스 플랭크 광산도 최적의 용량에 도달하지만 얀디 광산의 단계적 중단을 상쇄할 뿐이므로 전체 물량을 범위 내로 유지할 수 있다. 미네랄의 슬로우 아이언 프로젝트(이전에는 애쉬버튼 프로젝트)는 2024년에 가동될 것으로 예상된다. 2023년에 거의 지속적인 공급 물량 증가를 기록한 브라질은 2024년에도 소폭의 성장을 계속할 것이다. 브라질 최대 광산업체 발레(Vale)는 올해 철광석 3억1,000만~3억2,000만 톤을 생산할 계획인데 이는 지난해 목표였던 3억1,500만 톤과 같은 수준이다. 그러나 중기적으로는 2026년까지 500만 톤의 신규 철광석 생산능력을 추가하여 연간 생산량을 3억4,000만3억6,000만 톤까지 늘릴 계획이다. 브라질은 라이선스 및 기상 관련 불확실성에도 국제 철광석 시장에서 공급을 지속하여 늘릴 것으로 보인다. 그리고 지난해에는 대중국 수출 증가로 인해 인도 또한 새로운 저등급 철광석 공급국으로 부상했다. 인도의 철광석 수출은 2021년 350만 톤, 2022년 150만 톤을 기록했으나 지난해에는 무려 400만 톤을 수출했다. 다만 최근 인도 철강업체들이 공급망 안정화를 이유로 철광석 수출 금지를 요청하고 있어 올해에는 다시 철광석 수출이 감소할 전망이다. 2023년 하락세를 보였던 중국 제철소의 수익성은 2024년 다소 완만하게 회복되어 저등급 광석 수요가 상대적으로 약화될 것이다. 이는 올해 저등급 공급이 수요를 추월할 것으로 예상됨에 따라 프리미엄을 뒷받침하는 데 도움이 될 것입니다. 기존 광산의 생산 고갈이 점점 더 심화되고, 고품위 철광석 수요는 증가함에 따라 글로벌 광산업체들은 추가적인 광산 개발을 추진하고 있다. 하지만 노후화된 광산을 대체하는 것은 예전보다 더 복잡하고 긴 과정이 됐다. 예를 들어, 호주에서는 최근 원주민 장로들이 유산 문제로 리오 틴토 현장 조사를 중단하기도 했는데, 새로운 프로젝트의 성공을 위해서는 고려해야 할 점이 이전보다 훨씬 많아졌다. 특히 ESG 문제를 중심으로 모든 이해 관계자 그룹의 조사가 증가하고 있다. 이러한 현상이 계속될 것으로 예상되는 상황에서 철광석 채굴업체들은 ESG 우선 순위와 생산 목표의 균형을 맞춰야 할 것으로 보인다. 시만두 프로젝트, 리오 틴토의 재무적 문제에도 프로젝트 큰 차질 없이 진행 예상 셋째, 아프리카의 대표적 고품위 철광석 생산 프로젝트로 불리는 시만두 프로젝트(Simandou Project)는 큰 차질 없이 진행될 것으로 예상된다. 현재 2025년까지 첫 물량을 해상 시장에 공급하기 위해 빡빡하고 야심찬 일정을 소화하고 있는 기니의 시만두 프로젝트는 향후 국제 철광석 시장에 매우 큰 영향을 미칠 것으로 보인다. 이 프로젝트는 지난 2년 동안 상당한 진전을 이루었다. 수주한 컨소시엄 시만두(WCS)의 블록 1과 2 및 관련 인프라 개발은 1만 명 이상의 인력으로 꾸준히 진행되고 있다. 게다가 컨소시엄 참가업체 심퍼(Simfer)는 광산, 항만 및 철도 건설의 진전을 보장하기 위한 중요한 경로 작업을 지원하기 위해 현장에서 거의 6,000명의 인력을 동원하고 있다. 컨소시엄을 이끌고 있는 리오 틴토는 2025년에 첫 생산을 시작할 것으로 예상하며, 계획된 용량으로 늘리는 데 약 30개월이 걸릴 것으로 예상하고 있다. 공동 개발한 인프라 용량 및 관련 비용은 시만두 프로젝트 3, 4블록에 6,000만 톤 규모의 광산을 개발, 소유 및 운영할 심퍼(Simfer)와 1, 2블록을 개발 중인 WCS가 동일하게 분담한다. 리오 틴토는 심퍼 광산과 공동 개발된 철도 및 항만 인프라 프로젝트를 개발하기 위한 초기 자본 지출 비중을 약 62억 달러로 추정하고 있다. 심퍼와 WCS는 공동 개발 계약에 따라 전문 지식을 활용하기 위해 별도의 인프라 범위를 제공할 예정이다. 심퍼는 약 70km의 심퍼 스퍼 레일 라인과 60Mtpa 운송 선박(TSV) 포트를 건설하고 WCS는 약 536km 길이의 이중 선로 메인 레일 라인과 약 16km의 WCS 스퍼 레일 라인 및 60Mtpa 바지선 부두를 건설할 예정이다. 완료되면 공동 개발한 모든 인프라 및 롤링 스톡은 심퍼와 WCS가 각각 42.5%의 지분을 보유하고 기니 주가 15%의 지분을 보유하는 CTG(Compagnie du Transguinen) 합작회사로 이전되고 운영된다. 한편 빠른 속도로 진행되는 것으로 보이는 시만두 프로젝트가 컨소시엄을 이끌고 있는 리오 틴토의 재무적 문제로 다소 지연될 수 있다는 의견도 있다. 다만 다른 업체들과 공동으로 진행 중인 프로젝트가 리오 틴토 1개사만의 문제로 크게 지연되지는 않고, 약간의 일정 조정만 뒤따를 것이라는 의견이 지배적이다. 경제성 부족으로 인한 철광석 광산 프로젝트 지연·CMRG 영향력 부족에 中 철광석 자급 지연 넷째, 보고서는 중국 정부가 야심차게 계획한 철광석 자체 수급 능력 강화 프로젝트가 지연될 것으로 예상했다. 다른 지역의 철광석 채굴이 증가하는 가운데 중장기적으로 정부의 철강 자원 확보 의사를 천명한 중국의 코너스톤 플랜에도 불구하고, 올해 중국 국내 철광석 생산량은 아직 계획보다 부족한 상황이 지속될 전망이다. 2022년 초 시작된 이 플랜에서 정부는 2025년까지 국내 철광석 생산량을 3억7,000만 톤까지 끌어올리는 것을 목표로 하고 있다. 중국은 광산 권리 이전 제도 개혁, 채굴 전 절차 승인 기간 단축 등 국내 광산 개발과 건설을 가속화하기 위한 많은 조치를 시행해 왔다. 하지만 2024~2025년 국내 생산 능력 증가는 1,000만~1,300만 톤에 그칠 것으로 예상하고 있어 당초 목표로 한 플랜의 진행 기간 동안 코너스톤 플랜의 목표 달성이 어려울 것으로 보이다. 국내 철광석 생산량의 증가세가 더딘 것은 자원 부존 및 자본 지출과 관련이 있다. 국내 광석 자본 지출은 2021년부터 2022년까지 급격히 확대되기 시작했지만 2023년에 다시 약화되었다. 게다가 중국 내 철광석 광산의 건설 주기는 비교적 긴 이며, 신규 프로젝트의 대부분은 낮은 등급의 광석을 보유한 지하 광산으로 경제성이 부족하다. 일례로 마청과 시산링 철광석 광산은 각각 2009년과 2012년에 건설을 시작했는데, 시장 환경 및 복잡한 지질 조건의 영향으로 생산 시기가 반복적으로 지연됐다. 시산링 광산(1단계)은 2023년 12월 29일에 시범 생산 단계에 들어갔고, 마청 광산은 2024년에 가동될 예정이다. 또한 2022년 7월에 설립된 중국광물자원그룹(CMRG)의 다중책임에 주목할 필요가 있다. CMRG는 광물자원의 탐사와 채굴, 광물의 수출입, 그리고 이들 자원과 관련된 공급망 서비스 관리, 투자활동 및 자산관리를 담당하고 있다. 또한 중국의 철광석 구매 주체로서 중앙집권적이고 조정적인 역할을 하기 위한 목적도 가지고 있으며, 중국의 철광석 수입에 대해서도 공급자들과 가격 협상을 주도한다. 보고서는 CMRG가 향후에도 막강한 영향력을 발휘할 것으로 예상했지만, 국제 철광석 시장에서 광범위한 통제권을 확보하는 것에 대해서는 회의적 시각이 지배적이라고 지적했다. 특히, 국내 제철소들에 대해서도 철광석 구매를 직접 통제하지 못하고 있어 영향력은 더욱 제한적이라고 부연했다. 이처럼 경제성 부족에 따른 중국 내 철광석 광산 프로젝트의 지연과 CMRG의 공급망 영향력 부족으로 인해 중국의 철광석 자체 수급은 상당기간 지연될 것으로 예상된다. 철강 탈탄소화에 제강 원료 중 DRI 비중 증가, 중동 및 호주가 그린 DRI 생산허브로 부상 마지막으로 보고서는 그린 DRI 생산 허브로 중동 및 호주 부상 새로운 기술의 채택이 가속화되면 새로운 녹색 생산 허브가 탄생할 것이라고 전망했다. 탈탄소화는 2024년은 물론 향후에도 핵심 이슈가 될 것이며, 저탄소 철강의 새로운 생산, 가공 및 거래 허브의 출현을 가져올 것이다. 녹색 철강에 대한 수요 증가에 힘입어 산업계의 탄소중립 추진은 산업 세계에 필수적인 상품의 가치 사슬을 변화시킬 것이다. 철강산업의 탈탄소화는 제강 원료에서 그린 수소 기반의 DRI 활용 증가를 가져올 것이며, 전체 원료에서 DRI가 차지하는 비중은 현재 6%에서 2050년 13%까지 증가할 것이다. 중동과 호주는 그린 수소 및 천연가스 등 청정 에너지와 고품위 철광석이 생산되는 지역으로 미래 그린 DRI 생산 허브의 최적 입지로 부상할? (Score: 0.5113)\n",
            "중국 고로업체들이 춘절 연휴 기간 생산을 유지하거나 소폭 늘렸다. 업체들이 보유한 철광석 재고는 연휴 동안의 철광석 거래 제한으로 크게 줄어, 철광석 가격이 단기적으로 상승할 가능성이 엿보인다. 산업통상자원부 통계에 따르면, 철광석 가격(Fe 62%, 북중국 CFR 현물 기준)은 2월 첫째 주(3~7일) 톤당 평균 105.62달러로, 한 주 전과 비교해 0.46달러 상승했다. 원료탄 가격(강점탄, 동호주 FOB 현물 기준)은 같은 기간 톤당 평균 191달러로, 한 주 전 대비 1.20달러 하락했다. 마이스틸에 따르면, 매체가 정기적으로 조사하는 중국 고로 제철업체 247곳의 일일 쇳물 생산량은 지난달 24일부터 이달 5일까지 평균 228만 톤으로, 연휴 전 수준과 비교해 1.3%(29만9천 톤) 늘었다. 업체들의 가동률은 같은 기간 평균 85.76%로, 연휴 전 마지막 조사와 비교해 1.12% 포인트(p) 올랐다. 매체는 대부분의 고로 제철업체들이 연휴 기간 동안 생산을 유지했고, 일부 제철업체들은 수익 증가를 기대하며 생산을 늘렸다고 전했다. 철광석 가격이 단기적으로 상승할 가능성이 있다. 마이스틸에 따르면, 고로 제철업체 247곳이 보유한 수입 철광석 재고는 5일 기준 9,460만 톤으로, 지난달 23일과 비교해 12.7%(1,380만 톤) 감소했다. 매체는 연휴 동안 철광석 거래 시장은 조용했고, 업체들은 생산을 위해 재고를 활용할 수 밖에 없었다며 결과적으로 업체들의 재고가 급속도로 줄었다는 분석을 내놨다. (Score: 0.4744)\n",
            "Australias Fortescue Metals Group, or FMG, shipped 47.7 million wmt of iron over JulySeptember, up 4% on the year, the mining company said Oct. 24, a record against past quarters of the corresponding period. The JulySeptember result was supported by a 1.6 million wmt contribution from FMGs Iron Bridge magnetite mine, which started shipments in July 2023. The 1.6 million wmt was higher than fullyear shipments posted for the fiscal year 202324 (JulyJune), which stood at 1.2 million wmt. Amid the higher shipments, FMG kept its annual guidance for the year ending June 30, 2025, at 190 million200 million wmt, unchanged from the initial guidance projected on July 25. The annual shipment guidance includes 5 million9 million wmt from the Iron Bridge magnetite mine, which was also left the same as the initial forecast. Overall, Australian iron ore exports for 202425 are expected to reach 915 million mt, amid higher productivity in existing mines and ongoing ramp up of newer operations, the Department of Industry, Science and Resources projected Sept. 30. Regarding its decarbonization goals, FMG expects to begin production of green iron metal in 2025 from its pilot 1,600 mtyear Green Metal Project located at the Green Energy Hub at Christmas Creek. FMG said the 50 million pilot project will use renewable energy and green hydrogen reduction technology, together with an electric smelting furnace, to produce highpurity green iron suitable for use in almost any steel plant globally. Based on the project, FMG plans to start a feasibility study in 2025 to establish a 1 million mtyear green iron metal project in the Pilbara, Western Australia. Platts, part of S&P Global Commodity Insights, assessed the 62% Fe Iron Ore Index at 98.25dry mt CFR North China on Oct. 23, down 1.75dmt on the day and its lowest since 99.75dmt CFR North China on Oct. 17. (Score: 0.4646)\n",
            "철광석 가격이 5주 연속 상승세를 보였다. 중국 고로업체들의 철광석 재고 보충과 3월 초 중국 양회에 대한 시장 기대감이 가격 상승세에 영향을 준 것으로 보인다. 산업통상자원부 통계에 따르면, 철광석 가격(Fe 62%, 북중국 CFR 현물 기준)은 2월 둘째 주 톤당 평균 107.36달러로, 한 주 전과 비교해 1.74달러 상승했다. 원료탄 가격(강점탄, 동호주 FOB 현물 기준)은 같은 기간 톤당 평균 190달러로, 한 주 전 대비 0.60달러 하락했다. 중국 고로업체들이 철광석 재고 확보에 나선 것으로 보인다. 중국 고로업체들이 춘절 연휴 기간 생산을 유지하거나 소폭 늘렸고, 이로 인해 고로업체들의 수입 철광석 재고가 크게 감소한 바 있다. 마이스틸에 따르면, 고로 제철업체 247곳이 보유한 수입 철광석 재고는 5일 기준 9,460만 톤으로, 지난달 23일과 비교해 12.7%(1,380만 톤) 감소했다. 다가온 양회(전국인민대표대회, 중국인민정치협상회의)에 대한 기대감도 철광석 가격 상승세에 영향을 준 것으로 보인다. 두 회의에서 몇 가지 새로운 경기 부양책이 도입될 것이라는 기대가 커지고 있는 것으로 알려졌다. 한편, 호주 최대 철광석 수출항 헤들랜드 항구 부근에 14일(현지시각) 사이클론(남반구 열대성 저기압)이 지나갔지만 주요 시설이 큰 피해를 입지는 않은 것으로 알려졌다. 당초 최고 등급 사이클론 젤리아가 헤들랜드 근처에 상륙할 것으로 예측됨에 따라, 글로벌 광산업체 비에이치피(BHP), 리오틴토, 포테스큐 등이 광산 운영과 물류를 중단했었다. 하지만 필바라 지역에 홍수가 발생해 일부 광산 및 물류에 차질이 있을 가능성이 있다. 호주 당국은 필바라 지역의 홍수로 인한 범람 상태가 이번 주까지는 해소되지는 않을 것으로 예측하고 있다. (Score: 0.4552)\n",
            "Australias two largest iron ore producers, BHP and Rio Tinto, and the countrys biggest steelmaker, BlueScope, said Feb. 9 they will partner to jointly investigate the development of Australias first ironmaking electric smelting furnace pilot plant to accelerate efforts to decarbonize steelmaking. Under a new framework agreement, the three companies will consolidate the work each party has completed to date, leveraging BHP and Rio Tintos knowledge of Pilbara iron ores and BlueScopes operating experience in electric smelting furnace technology, according to a joint statement. The collaboration provides a platform to develop and potentially invest in a pilot facility and aims to demonstrate that production of molten iron from Pilbara ores is feasible using renewable power when combined with direct reduced iron process technology, the companies said. If successful, it could help open a potential pathway to nearzero greenhouse gas emissionintensity operations for steelmakers that rely on Australian iron ore to meet global steel demand. A prefeasibility study is expected to be completed at the end of 2024 and if approved, the pilot facility could be commissioned as early as 2027. Several locations in Australia will be assessed for the potential pilot facility, they said, considering factors like supporting infrastructure, available workforce, access to target industry and supply chain partners, and suitability for operational trials. ESF technology The electric smelting furnace technology, or ESF, being developed is capable of producing iron suitable for the basic oxygen steelmaking process, the companies said. Through the technology, iron ore is first converted to direct reduced iron before being charged into the ESF. According to the companies, the DRIESF equipment can replace the blast furnace and eliminate the need for metallurgical coal. Estimates show that reductions of more than 80% in carbon dioxide emission intensity are potentially achievable processing Pilbara iron ores through a DRIESF pathway, compared with the current industry average for the conventional blast furnace steel route, the companies said. According to the companies, the ESF allows for greater flexibility in input raw materials, addressing one of the key barriers to wider adoption of low carbon emissions technology, and also has the potential to be integrated into a steel plants existing downstream production units. We believe DRI is the most prospective technology to decarbonize our Australian business, and the development of ESF technology is key to unlocking Australias unique advantages in this decarbonization journey? and, more importantly, has the potential for wider adaptation across the global steel industry, BlueScope Chief Executive Tania Archibald said in a statement. We believe that this collaboration where we can contribute BlueScopes unique experience in operating an ESF will be key to cracking the code for Pilbara ores in low emissionintensity ironmaking. (Score: 0.4548)\n",
            "철광석 가격이 1월 중순부터 지난 주까지 오름세를 보였다. 중국 제철업체들이 춘절 연휴를 앞두고 재고 비축에 나섬에 따른 단기적 현상으로 보인다. 산업통상자원부 통계에 따르면 철광석 가격은 1월 다섯째 주(27일~31일) 톤당 평균 105.55달러(Fe 62%, 북중국 CFR 현물 기준)로, 넷째 주 대비 1.15달러 상승했다. 원료탄 가격은 같은 기간 톤당 평균 193달러(강점탄, 동호주 FOB 현물 기준)로, 넷째 주보다 1.20달러 상승했다. 춘절 연휴 기간에는 중국 항구 및 물류 운영이 축소되기에 중국 제철업체들은 연휴 이전에 원료를 미리 비축하는 경향이 있다. 연휴 이후 원할한 조업 재개, 춘절 이후 수요 증가 가능성도 그 이유다. 이에 따른 일시적 수요 증가가 가격 오름세를 이끈 것으로 보인다. 에와 만테이(Ewa Manthey) 네덜란드 최대은행 ING 상품전략분석가도 철광석 가격이 2025년 1분기에 춘절(음력 1월1일) 연휴를 앞두고 이루어지는 재고 보충으로 잠깐 강세를 보일 것이지만 1분기 후엔 가격이 하락추세를 보일 것이라고 예측한 바 있다. 한편, 원자재 시장 분석 기관 케이플러(Kpler)에 따르면, 1월 중국의 철광석 수입량은 9,950만 톤으로, 지난해 12월(1억1,250만 톤) 대비 12% 감소했을 것으로 추정된다. (Score: 0.4452)\n",
            "Australias Fortescue Metals Group, or FMG, shipped 191.6 million wmt of iron ore in fiscal year 202324 (JulyJune), dipping 0.2% on the year, the company said July 25. As FMG projected in April, FY 202324 shipments fell within the lower end of its annual guidance of 192 million197 million wmt due to a rail accident and adverse weather conditions. The FY 202324 performance was supported by a 10% yearonyear increase in shipments for the quarter ended June 30. This record result demonstrated the efficiencies gained through our recovery plan following the ore car derailment in December 2023, FMG CEO Dino Otranto said, referring to the AprilJune performance. Looking ahead to the year ending June 30, 2025, FMG has widened and raised its annual guidance to 190 million200 million wmt. The new guidance includes about 5 million9 million wmt from FMGs Iron Bridge magnetite mine, which began shipments in July 2023. Iron Bridge shipped 1.2 million wmt of iron ore in FY 202324. FMG said Iron Bridge has a strong start to FY 202425, with shipments totaling 0.4 million wmt in July 2024 to date. Platts, part of S&P Global Commodity Insights, assessed the 62% Fe Iron Ore Index at 100.85dry mt CFR North China on July 24, up 45 centsdmt on the session. (Score: 0.4423)\n",
            "Australian miner BHP expects modest demand for steel across developed countries, it said Feb. 20, citing a delayed impact of higher interest rates globally on household consumption over 2024, as well as demand for steelmaking iron ore and metallurgical coal. Nevertheless, it projected firmer demand from China and India, though it was more cautious about its outlook for the former. While BHP expects ...demand will all be modestly firmer across the Organisation for Economic Cooperation and Development (OECD) in the coming 12 months, its outlook for China will remain cautious and conditional pending favorable outcomes from Chinas economic policies. Coinciding with the release of BHPs economic and commodity outlook, the Peoples Bank of China reduced the fiveyear loan prime rate to 3.95% from 4.2% Feb. 20. The key caveat on the outlook for Chinese steel, as it has been for some years now, is the annual status of mandated production cuts. Each and every year, the breadth, timing and severity of any prospective cuts are uncertain, BHP said. Chinas crude steel output in 2023 was unchanged from 2022 at 1.019 billion mt while steel exports were at their highest since 2016. BHPs cautious outlook came after S&P Global Commodity Insights had projected that Chinas iron demand over Q1 may fall on negative steel margins. The demand picture has been more balanced in India, supported by increasing capital investment, and commodity demand has been accordingly robust, BHP said. As a result, the supply and demand of iron ore in 2024 is expected to slow from 2023 as lowcost supply is not growing at a rate sufficient to displace the highcost production which is required to keep the market balanced, BHP said. Over the next two years we expect a small further improvement in global steel production with growth led by India, Southeast Asia and to a lesser extent China. BHP projected that Chinas demand for iron ore will fall as it moves beyond its crude steel production plateau and the scraptosteel ratio rises but it will be offset by demand from elsewhere in developing Asia. Nevertheless, BHP is working to increase its iron ore production from Western Australia Iron Ore hub to more than 305 million mtyear and to 330 million mtyear after 2025 when feasibility studies are expected to be completed. For the year ending June 30, 2024, WAIO iron ore output is expected to be between 282 million mtyear and 294 million mtyear. Platts assessed the 62% Fe Iron Ore Index at 128.8dry mt CFR North China Feb. 19, down 1.2dmt from Feb. 16, showed S&P Global data. Metallurgical coal outlook For metallurgical coal, India is even more firmly embedded as the largest and fastest growing import region, as Chinas imports from Australia stood at a meager 2.8 million mt in 2023, amid competing tons from Mongolia and Russia. In 2023, Chinas imports from Mongolia and Russia totaled 92 million mt, about 80% of the 115 million mt imported for the full year, up from 57 million mt, or 77% of 74 million mt in 2022. This uplift in neighboring supply is clearly limiting Chinas call on seaborne trade, BHP said, amid a bearish outlook for 2024 by S&P Global. Platts assessed the benchmark premium lowvol hard coking coal 50 cents lower from Feb. 16 at 314.5mt FOB Australia Feb. 19 while CFR China prices were assessed 1mt lower at 319mt, S&P Global data showed. (Score: 0.4414)\n",
            "Diversified miner Anglo American said May 14 that it will divest its metallurgical coal business and instead focus on copper and premium iron ore businesses, a move it said is critical for delivering products aimed at energy transition. The move comes just a day after it rejected a revised bid by another large miner BHP. As part of its strategy to make a simpler portfolio of worldclass assets, Anglo said it plans to implement a number of major structural changes, including divesting its met coal operations. Anglo said the company is currently responding to strong buyer interest for its met coal business. Anglos move represents the most radical changes to the company in decades, according to the company. The company is also exploring options for care, maintenance and divestments for its nickel operations. Meanwhile, Anglo said it will retain its crop nutrients business as it looks to unlock significant value for all these assets. We set out our clear strategic priorities earlier this year? operational excellence, portfolio simplification, and growth. Our decision to focus Anglo Americans portfolio in our worldclass resource asset base in copper and premium iron ore? while retaining our crop nutrients optionality at Woodsmith? marks a major new phase in executing our strategy, Anglo American CEO Duncan Wanblad said. Anglo said its iron ore business focuses fully on premium products, which are ideally suited to support steel decarbonization. The company has major resources in Brazil and South Africa. The company is taking decisive action to deliver value in the companys longterm interests and deliver products that are so critical to enabling the energy transition and supporting improved global living standards and food security, Wanblad said. Besides this, Anglo said the company is also looking to demerge its platinum and diamond businesses. Anglo Americans met coal production reached 16 million mt in 2023, while its iron ore output was at 59.9 million mt. Anglo also produced 826,000 mt of copper and 40,000 mt of nickel in 2023, according to the company. (Score: 0.4371)\n",
            "메이저 광산업체인 리오 틴토(Rio Tinto)의 호주산 철광석 공급에 차질이 발생할 우려가 나타났다. 리오 틴토는 지난 11일(현지시간)에 서호주 댐피어 항구에서 120 떨어진 곳에서 자율주행으로 운행 중이던 철광석 운송열차가 탈선하는 사고가 발생했다고 밝혔다. 복선 구간에서의 탈선으로 운송이 전면 중단된 것은 아니지만 사고 수습이 완료될 때까지 광산과 항구를 오가는 열차의 운행 차질은 불가피한 상황이다. 선로가 언제 정상화 될 지 여부도 불분명하다. 지난해 6월에도 이와 비슷한 자율주행열차의 털선이 있었기 때문 리오 틴토는 안전성 조사에 착수한 상황이다. 리토 틴토 외에 또 다른 광산업체인 BHP도 최근 몇 달 동안 철광석 작업장에서 탈선사고가 발생한 바 있다. 이번 탈선으로 인해 이번 주 서호주 철광석 수출에 차질이 빚어질 것으로 보인다. 또한 BHP는 2월 16일에 열차 운전사 파업에 직면해 있고 로이힐 광산은 분기별 정기 정비에 돌입해 있다. 다른 광산기업인 포테스큐(Fortescue)는 지난해 연말에 포트 헤들랜드(Port Hedland) 외곽에서 탈선 사고가 발생한 이후 주간 평균 이상의 선적량을 회복하지 못하고 있는 상황이다. 리오 틴토가 서호주에서 운영하고 있는 자율주행 운송열차(사진 출처리오 틴토) (Score: 0.4333)\n",
            "\n",
            "\n",
            "======================\n",
            "\n",
            "\n",
            "Query: 공급망\n",
            "\n",
            "Top 5 most similar sentences in corpus:\n",
            "The sluggish demand for lump from major Chinese steel mills which started in early 2024, along with expectations that the prevailing bearish demand will persist until at least early March, has prompted miners to widen their term discounts for lumps, market sources said. The poor demand for lump will likely continue as market participants do not expect the Chinese government to implement sintering cuts during the China Two Sessions in early March. According to market sources, Australian miner Rio Tinto widened its term contract discount for Marchloading SP10L to 7% basis the March average of Platts 62% Fe Iron Ore Index, from 3.7% previously, the highest since October 2023, which was led by weak lump demand. Most market sources were not surprised that the lump discount was widened as demand has been weak and, furthermore, other Australian miners such as BHP and FMG had also widened their February term lump discounts. Platts assessed seaborne lump premium at 13.25 centsdmtu Feb. 7, S&P Global Commodity Insights data showed. Also contributing to the downward pressure on lump prices in the seaborne market was the abundant supply of pellets, an alternate direct feedstock to lump, which are comparatively cheaper at Chinas portside. Some steel mills have been incorporating more domestic pellets, which are of higher Fe content and more costeffective than lumps, as their source of direct feed material, according to market sources. Platts 63% Fe blast furnace pellet was assessed at 133.25dmt CFR China, 5 centsdmt below that of iron ore lump which was assessed at 133.30dmt CFR China Feb. 7, S&P Global data showed. Poor steel mills production margins and ample pellet stocks at Chinas major ports impacted lump demand, a Chinabased iron ore trader said. Profit margins of mills producing hotrolled coil and rebar in China stood at minus 39.01mt and minus 47.35mt, respectively, Feb. 7, S&P Global data showed. Several market sources said it may be difficult for lump demand to pick up during the China Two Sessions, annual plenary sessions of the National Peoples Congress and of the Chinese Peoples Political Consultative Conference which are typically held every March in Beijing. The Chinese government implements environmental sintering cuts regularly during the China Two Sessions, typically affecting production. However, the central government is unlikely to request production controls during this years sessions as it needed to support the countrys economy, market sources said. (Score: 0.5129)\n",
            "The improving liquidity of May and June arrival cargoes for blast furnace direct charge ores Australian Pilbara Blend Lump (PBL) and Newman Blend Lump (NBL) coupled with the relative tightness for the former in the seaborne market has pushed PBL to a remium over its marginally higher iron content counterpart, market sources told S&P Global Commodity Insights. Trade sources surveyed by S&P Global in the week starting April 11 indicated there was a differential between 0.5 centsdmtu to 1.7 centsdmtu of PBL over NBL, where the buying interests for PBL in spot market from mills were more abundant than NBL. Mills are more receptive of using direct charge ores that are readily available on the market, and that PBL I see has better liquidity, said a north Chinabased iron ore trader. As PBL typically has a lower Fe content than NBL, some mills may favor that factor more leading to a spread between PBL and NBL, said an east Chinabased iron ore trader. In addition, he noted the strong liquidity of PBL in the market and thus indicated a 0.5 centsdmtu spread over NBL. Market sources said that the relatively tight supply of halfloaded PBL cargoes in the market compared to NBL was another reason for the spread between the two brands. According to S&P Global data, BHP had sold 15 spot cargoes of NBL for loading in May since the end of March as of April 26, while Rio Tinto only sold one May loading PBL cargo during the same period. On April 26, Rio Tinto sold two cargoes of PBL at IODEX 62% 0.10dmtu CFR China over June average pricing via globalORE, loading 30 May? 8 Jun from Dampier to Qingdao. This was a notch higher as compared to a previous cargo sold by Rio Tinto on April 11 at IODEX 62% plus 0.0702dmtu CFR China May 131 avg pricing on April 11, by bilateral negotiation, for loading May 110 from Dampier to Qingdao. A Chinabased iron ore trader meanwhile reckoned that there have been quite a few traders looking for PBL cargoes in the spot market, but in the form of a coloaded cargo together with PB Fines. There has been a lot of volumes of NBL in terms of supply and availability at portside, so overall its premium should be comparatively lower than PBL, said a Singaporebased iron ore trader. (Score: 0.5091)\n",
            "In this weeks Market Movers Asia with Pollock Mondal IranChina petroleum flows in focus Thermal coal demand from India may rise Eyes on BHPs next move after Anglo American rejects takeover offer Palm oil demand rises on bargain buying (Score: 0.4874)\n",
            "Global commodity markets, including steel raw materials, are closely watching for any potential tariff action that the US President Donald Trump may launch, as such a decision could alter existing global trade flows. An interesting connection can be highlighted here between Chinas steel markets and how that can impact markets like iron ore if such tariffs come to pass. In 2024, Chinas steel markets saw the domestic manufacturing sector as a silver lining in the clouds amid a weaker show from major steel consumers? property and infrastructure sectors. Chinese steel firms preferred to produce more manufacturingfocused flat steel. This is because Chinas manufacturing sector did exceptionally well, mostly due to robust exports of steelintensive manufacturing goods. But markets have become wary amid potential tariff threats on Chinese goods, which could weigh on Chinas manufacturing exports and impact manufacturing output growth in 2025. That would mean added pressure on Chinas steel markets in the absence of strong domestic demand, which could be felt in markets like iron ore. Iron ore price forecast has already been downgraded for 2025, in part, due to potentially growing trade frictions. (Score: 0.4866)\n",
            "After the Lunar New Year holidays ended on Feb. 17 in China, its domestic steel markets remained subdued, with market players wary about steel demand recovery, market participants told S&P Global Commodity Insights. Steel production and inventories were like yearago levels, but market sentiment was generally weak, as demand recovery this spring was expected to remain slow amid property sector woes and local governments entering deleveraging mode, market sources said. The average utilization of Chinas blast furnaces was about 84%, up from an average of 83% in January but slightly lower than a year ago, several market sources said. Poor sales margins have dampened Chinese steelmakers enthusiasm to ramp up steel production, the sources said. The Chinese domestic rebar and hot rolled coil sales profit margins stood at minus 57.67mt and minus 49.32mt, respectively, on Feb. 19, S&P Global data showed. Besides property steel demand remaining downwards, I think the growth of infrastructure steel demand will also slow from 2023 levels, not just because of local government debt problems, but also because Chinas urbanization is largely complete and no more brandnew roads, railways and airports are needed, a trading source said. China chops lending rate A few days into the Year of the Dragon, China cut its benchmark lending rate Feb. 20 but it failed to boost steel market sentiment, as concerns remained around demand recovery for the metal in the coming months, market sources said. The Peoples Bank of China (PBOC) on Feb. 20 cut its overfiveyear loan prime interest rate by 25 basis points to 3.95%. Many home buyers in China base their mortgage rates on this lending rate. The cut to the lending rate is the biggest reduction the Chinese central bank has made since it launched the Loan Prime Rate system in 2019. Deteriorating home sales in JanuaryFebruary were a major reason behind the cut, but it may still only give a limited boost to home sales, some steel market sources said. Chinese property weakens The value of new home sales by Chinas top 100 property developers in January plunged 47.9% on the month and 34.2% on the year at Yuan 235.06 billion (32.673 billion), according to China Real Estate Information Corporation (CRIC), a Chinese property data provider. During Chinas Lunar New Year holidays from Feb. 1017, when migrant workers typically buy homes in their hometowns, the floor space of new home sales in Chinas 44 major cities fell by 40% from the 2023 Lunar New Year week and 82% from 2022s holiday, CRIC data showed. Some trading and mill sources expected new home construction starts, a major steeldemand driver in China, would continue to drop significantly in 2024 because of poor home sales. Amid the Chinese activity, Australian miner BHPs release of its economic and commodity outlook coincided with the PBOC rate cut. BHP projected that in the coming 12 months, its outlook for China will remain cautious and conditional pending favorable outcomes from Chinas economic policies. The key caveat on the outlook for Chinese steel, as it has been for some years now, is the annual status of mandated production cuts. Each and every year, the breadth, timing and severity of any prospective cuts are uncertain, BHP said. Chinas crude steel output in 2023 was unchanged from 2022 at 1.019 billion mt while steel exports were at their highest since 2016. Over the next two years we expect a small further improvement in global steel production with growth led by India, Southeast Asia and to a lesser extent China, BHP said. (Score: 0.4840)\n",
            "Asias iron market is set to see more endusers retreating back to the lowgrade product pool, as supply woes stemming from the western Australia tropical cyclone season, together with deteriorating mill margins, are set to intensify procurement pressures, market sources said. Australia miner Rio Tinto further announced Feb. 4 that it would move iron ore ships due to inclement weather from tropical cyclones resulting in some market participants expecting its flagship brand PBF to see some upward push in prices due to potential supply disruptions, which could lend support to the other medium grade Australian brands as well. The notice informed by Rio Tinto had ignited some supply concerns amongst other market participants. The secondary market has also seen some decline in PBF offers lately, as sellers are probably trying to reassess their positions again, said one international trader source. Moreover, with a weaker Asian spot market prior to the Lunar New Year holiday period in China, most market participants had expected the market to return on a stronger note, only to be met with slowerthanexpected demand as a bearish downstream outlook ate away most of the positive mill margins previously gained prior to the holidays, sources said. Market participants said the outlook for mediumgrade products was weary among endusers experiencing tight margins, with the market expecting a gradual shift back to discounted lowgrade product consumption for the time being. Downstream outlook is not looking the best right now, production levels too, margins are tough right now, the focus cannot be on premium products at this moment, said one Chinese steel mill source. Steel mills are still largely focused on buying low grade material at the moment, with most of the blast furnaces output iron percentage ranging around 58%60% Fe, coupled with how it would take some time to change blending ratios in the blast furnaces, I would think mills would continue to favor the low grade products for a little longer, a second steel mill source said. On Feb. 6, FMG sold a 188,000 mt cargo of Australian Super Special Fines basis 56.5% Fe at a discount of 10.10% CFR China over the March IODEX average, by bilateral negotiation, with load port laycan of March 110. The spot sale fetched a 0.9% level higher than its monthly February term discount level of 11%, released by the miner on Jan. 31. Rio Tinto was also heard to have held a sell tender on the same day for 90,000 mt of Supplementary Product (SP10) Fines basis 58.50% Fe at a discount of 8.93% CFR China over the March IODEX average by bilateral negotiation, with a load port laycan of March 413. Its February term discount level was heard to be at 9.7% basis February average of Platts 62% Fe index, according to market sources. Platts, part of S&P Global Commodity Insights, assessed 58% Fe Iron Ore Index at 92.85dmt Feb. 7. Ample supplies Low grade port stock supplies by the Chinese portside continue to stand tall amidst the recalibrating demand patterns. A lag in price catchup for the domestic market could be observed during this period, pressuring down import margins, according to sources. There was quite a number of ships with Australian lowgrade fines heading into the Chinese Northern ports just right before holidays. Apart from the direct cargoes offered by miners, quite a few trader cargoes have also landed at the port, keeping supply levels elevated and market backwardated, another Chinese trader source said. However, as trades by the portside see a small pickup in momentum, optimistic market participants are expecting to see some trickling down effect onto the seaborne market, as import margins could pick up too. Platts assessed 58% Super Special Fines FOT North China and FOT East Asia at Yuan 680wmt and Yuan 670wmt respectively on Feb. 7. (Score: 0.4838)\n",
            "Russian mining and steel company Mechel saw its last years own made steel shipments drop 6% from 2023 to 3.1 million mt affected by repairs at basic oxygen furnace and rolling shops, sanctionsbarred exports, and weak domestic demand, but coking coal sales outside the group soared almost by half. The company said in its Feb. 20 results report that in 2024 it faced yet more challenges? primarily new sanctions and Bank of Russias record high key rate that slowed investment activity in Russia, and Mechel had to adjust its sales and supply chains accordingly. Starting from second quarter 2024, the company redirected coal sales from foreign destinations to the domestic market, and as a result sales to third parties of pulverized coal injection (PCI) and coke fell by 33% each to 950,000 mt and to 500,000 mt, respectively. The volume of anthracite sales to third parties, at 920,000 mt, remained comparable to a year earlier. That said, as Mechel grew its crude coal output in 2024 by 5% year over year to 10.86 million mt thanks to technical upgrades and production efficiency initiatives, shipments to third parties of its core mined product? coking coal concentrate? jumped by 46% yearonyear to 2.72 million mt. On top of that, Mechel used 1.3 million mt of own coking coal concentrate for its inhouse steelmaking. Deliveries of iron ore concentrate from Korshunovsky GOK and Yakutsk Mining Company to Mechels Chelyabinsk Metallurgical Plant (ChMK) helped total iron ore deliveries climb 43% to 1.47 million mt. Ferrosilicon sales increased by 7% as production at the Bratsk Ferroalloy Plant was supported by expanded domestic customer base. In 2024, Mechels liquid iron and steel production was affected by repairs in the oxygen converter and rolling shops at ChMK and went down by 6% and 4% to respectively 3 million mt and 3.35 million mt. Sales of long products, at 2.44 million mt, gained 2% on higher production of rebar and rails, but having lost its network in Europe, Mechel saw a 41% drop in flat steel shipments, which came to 220,000 mt, and a 14% decrease to 391,000 mt in hardware product sales. The company also sells thermal coal and power and forged and stamped steel products, and its trading arm MechelServis grew steel deliveries last year by 5% on the year to 1.8 million mt. (Score: 0.4836)\n",
            "Brazilian miner Vale and metals producer GreenIron H2 have agreed to proceed with feasibility studies for establishment of a direct reduction facility in Brazil, and for Vale to supply iron ore agglomerates to GreenIrons commercial operations in Sandviken, Sweden, with a view to advancing metals and mining supply chain decarbonization, Vale said Jan. 7. GreenIron has patented energyefficient technology for reducing metal oxides to pure metals, which was suitable for metals extraction from ore, residues and waste, Vale said, adding the technology was hydrogenbased and its only residual product was water. The direct reduction facility in Brazil would be operated by GreenIron, Vale said. Studies for the facility would include selecting a suitable site and assessment of renewable energy and resource supply options, including the feasibility of using green hydrogen? in which Brazil has a competitive advantage? to reduce environmental impact, it said. GreenIrons technology was lowcost, flexible on feedstock options and capacity, compatible with green hydrogen use, and tailored to clients, Vale said. Its commercial operations in Sandviken were being commissioned and scaleup was expected for 2025. The two companies have been working for the past two years testing the use of iron ore pellets produced by Vale at GreenIrons facilities in Sweden. According to their agreement, future tests would also include iron ore briquettes, an innovative product developed by Vale that emits less CO2 in its production than pellets. (Score: 0.4829)\n",
            "Concerns about a shortage of highgrade iron ore bottlenecking steel producers path to lower emissions have eased, painting a more optimistic picture for lower emissions steel production. Steel accounts for around 2,800 million mt of CO2 emissionsyear, equivalent to about 8% of total energy system emissions, according to a 2023 report from the International Energy Agency. Steelmakers are under pressure to slash those emissions to meet demand from customers looking to reduce their own upstream greenhouse gas emissions. However, the leading green steel technology uses hydrogen for fuel and highergrade iron ore pellets as a raw material. The necessary iron ore was in short supply, and the price jumped in 2022 as steelmakers scrambled. In a 2022 report, the Institute for Energy Economics and Financial Analysis, or IEEFA, a think tank, flagged concerns that a shortage of direct reduced grade (DRgrade) iron ore containing over 67% iron could thwart the steel industrys climate ambitions. In the two years since, miners have advanced highgrade ore mining projects and begun piloting new processing technology, easing those concerns. With iron ore demand also lagging from a construction slowdown in China, the Platts Iron Ore 67.5% Fe DR Pellet Premium price assessment fell to 58.75dry metric ton Feb. 1, dropping 45.1% from its July 2022 high of 107dmt. Platts is part of S&P Global Commodity Insights. Im definitely more optimistic than I was two years ago, Simon Nicholas, lead global steel analyst at IEEFA and author of the 2022 report, told S&P Global. I thought iron ore quality could be a bit of a bottleneck. Now, I think its not too much of an issue, and its just a question of how quickly the cost of green hydrogen comes down. Production revs up DRIbased steelmaking projects totaling 94.3 million mtyear of steelmaking capacity are in the project pipeline through 2030, according to a 2023 report from Agora Industry, a consultant. Vale, a major global iron ore miner looking to supply netzero steelmakers, expects a 70 million mt annual gap between supply and demand of DRgrade iron ore by 2030, according to a December 2023 presentation to investors. However, iron producers are stepping up their activity to meet the demand. Rio Tinto is advancing the Simandou mine in Guinea, West Africa, hoping to tap into the worlds largest reserve of highgrade iron ore as soon as 2025. Fortescue started production at its Iron Bridge mine in Australias Pilbara region in July 2023, representing its foray into highgrade iron ore markets. In December 2023, the company shipped its first iron ore from the Belinga mine in Gabon that the company expects to produce highgrade iron ore. Low grade to high grade Electrasteel, a Boulder, Colorado, startup, says its technology can refine lowgrade ores below 55% iron into a product with a purity suitable for use in electricitypowered arc furnaces, including using waste materials from mining operations. The process design actually permits us to take this stranded ore from the miner, and basically, we have the opportunity to extend the life of the mine, Electra Chief Commercial Officer Francois Perras said. We take some stranded ore out thats already been mined, and the CO2 footprint is already embedded in it. In 2021, Rio Tinto and BlueScope Steel announced plans to explore lowcarbon steelmaking pathways to use lowergrade iron ores from Australias Pilbara region, including a process using an electric melter to refine the mined material. In early 2023, mining giant BHP Group announced an agreement to construct an electric smelting furnace pilot facility to facilitate steelmaking using renewable electricity and hydrogen, replacing coking coal with a DRI step. Earlier in February, Rio Tinto and BHP Group, the two largest iron ore producers in Australia, announced they would work together with BlueScope to investigate the countrys first ironmaking electric smelting furnace that would produce nearzero greenhouse gas emissions using lowergrade ores. The pilot facility, the companies announced, could be commissioned as early as 2027. Vale announced in late 2023 that it signed an agreement with H2 Green Steel to study the development of green industrial hubs in Brazil and North America to pair highquality iron ore with green hydrogenbased steel production techniques. Whether it is the cost of hydrogen or improving the quality of the iron ore inputs, all of these new technologies are likely to mean more expensive steel in the future, Chris Barrington from the International Iron Metallics Association said in an interview. If youre producing green steel, youll need to sell it at a premium because your costs will be higher, Barrington said. I think the message is getting out there that life will be more expensive. But I dont think we really know to what extent. (Score: 0.4808)\n",
            "The Asian seaborne iron ore concentrates market saw a marginal improvement in buyers interest during the week to Jan. 10, albeit their focus remained on cost control, sources told S&P Global Commodity Insight. Steel mills are experiencing a modest recovery in margins, and with the uptick in seasonal maintenance in winter, some mills are opting for more highgrade materials, such as concentrates, to enhance furnace feedstock grades, one Chinese steel mill source said, adding that nonetheless buyers were still carefully evaluating discounts to maximize cost efficiency. A deal for 70,000 mt of Peruvian concentrate basis over 70% Fe was heard midweek at a premium of 1.69dmt CFR China on January average pricing of 65% Fe index, with a delivery period of Jan. 2031. Some market participants noted that seaborne concentrates currently seemed a more costeffective option compared to other highgrade products, although with steel mill margins remaining under pressure and prices at portside markets not improving, seaborne cargoes were unable to fetch better prices. Compared to other highgrade products like lump and Carajas fines, imported concentrates offer relatively higher costeffectiveness, one Chinabased trader said. However, port prices for concentrates have stayed stable, and overall liquidity remains weak, making it difficult for seaborne concentrate discounts to return to earlier high levels. Platts, part of S&P Global Commodity Insights, assessed the spot lump premium at 14.2 centsdmtu on Jan. 10, down 0.05 centsdmtu on the day, while the 65% Fe North China Index was assessed at 111.6dry mt CFR North China on Jan. 10, up 10 centsdmt from Jan 9. However, with the Chinese New Year holidays approaching, liquidity in the seaborne concentrates market is expected to come under further pressure in the near term. Liquidity is drying up and there will not be much buying as we near Chinese New Year, one Singaporebased trader said. (Score: 0.4787)\n"
          ]
        }
      ]
    },
    {
      "cell_type": "code",
      "source": [
        "import pandas as pd\n",
        "from sklearn.preprocessing import MinMaxScaler\n",
        "\n",
        "scaler1 = MinMaxScaler(feature_range=(0, .5))\n",
        "scaler2 = MinMaxScaler(feature_range=(0, 1))\n",
        "\n",
        "# min-max scaling 수행\n",
        "#norm1 = scaler1.fit_transform(merged_df['bm25_score'].values.reshape(-1, 1))\n",
        "#norm2 = scaler2.fit_transform(merged_df['bert_score'].values.reshape(-1, 1))\n",
        "norm3 = scaler2.fit_transform(merged_df['bert_score1'].values.reshape(-1, 1))\n",
        "norm4 = scaler2.fit_transform(merged_df['bert_score2'].values.reshape(-1, 1))"
      ],
      "metadata": {
        "id": "ix9NObUxin__"
      },
      "execution_count": 22,
      "outputs": []
    },
    {
      "cell_type": "code",
      "source": [
        "#merged_df['bm25_norm']=norm1\n",
        "#merged_df['bert_norm']=norm2\n",
        "merged_df['bert_norm1']=norm3\n",
        "merged_df['bert_norm2']=norm4"
      ],
      "metadata": {
        "id": "NRYXSGtNkHiV"
      },
      "execution_count": 23,
      "outputs": []
    },
    {
      "cell_type": "code",
      "source": [
        "merged_df['mean_score'] = merged_df[['bm25_norm', 'bert_norm']].mean(axis=1)"
      ],
      "metadata": {
        "id": "Mmcme65DkRlM"
      },
      "execution_count": 24,
      "outputs": []
    },
    {
      "cell_type": "code",
      "source": [
        "sorted_df = merged_df.sort_values(by='mean_score', ascending=False)\n",
        "sorted_df.to_csv('sorted_df2.csv', index=False)\n",
        "sorted_df.to_excel('sorted_df2.xlsx', index=False)"
      ],
      "metadata": {
        "id": "1qswlEEflAna"
      },
      "execution_count": 25,
      "outputs": []
    },
    {
      "cell_type": "code",
      "source": [
        "import squarify\n",
        "\n",
        "# BM25 점수를 기준으로 상위 10개의 키워드와 점수를 딕셔너리로 생성\n",
        "top_10 = sorted_df.nlargest(10, 'bm25_score')\n",
        "top_10['keywords'] = top_10['keywords'].apply(lambda x: ','.join([x.split(',')[i] + ('\\n' if (i + 1) % 3 == 0 else '') for i in range(len(x.split(',')))]))\n",
        "#top_10['keywords'] = top_10['keywords'].apply(lambda x: '\\n'.join([x[i:i+20] for i in range(0, len(x), 20)]))  # 20자 단위로 줄바꿈\n",
        "sorted_twos = list(zip(top_10['keywords'], top_10['bm25_score']))\n",
        "sorted_dict = dict(sorted_twos)\n",
        "\n",
        "plt.figure(figsize=(12, 10))\n",
        "\n",
        "# 빈도값을 0~1까지 값을 갖도록 min-max 표준화\n",
        "norm = mpl.colors.Normalize(vmin=min(sorted_dict.values()),\n",
        "                            vmax=max(sorted_dict.values()))\n",
        "\n",
        "# 정규화된 값을 matplotlib의 cm(color map)에서 Blue 에 적용\n",
        "colors = [mpl.cm.Blues(norm(value)) for value in sorted_dict.values()]\n",
        "\n",
        "# squarify 플랏생성(label 단어, 박스 크기는 빈도, 색깔르 cm.Blue, 투명도는 30%\n",
        "squarify.plot(label=sorted_dict.keys(),\n",
        "              sizes=sorted_dict.values(),\n",
        "              color=colors,\n",
        "              alpha=.7)\n",
        "#plt.show()"
      ],
      "metadata": {
        "id": "yOkLTG0Jf48T"
      },
      "execution_count": null,
      "outputs": []
    },
    {
      "cell_type": "code",
      "source": [
        "!pip install feedparser goose3 --upgrade --quiet"
      ],
      "metadata": {
        "id": "NrCqX6gqgHdS",
        "outputId": "202da88b-10ae-4304-b4ab-7455fd77b2bf",
        "colab": {
          "base_uri": "https://localhost:8080/"
        }
      },
      "execution_count": null,
      "outputs": [
        {
          "output_type": "stream",
          "name": "stdout",
          "text": [
            "  Preparing metadata (setup.py) ... \u001b[?25l\u001b[?25hdone\n",
            "\u001b[?25l     \u001b[90m━━━━━━━━━━━━━━━━━━━━━━━━━━━━━━━━━━━━━━━━\u001b[0m \u001b[32m0.0/981.5 kB\u001b[0m \u001b[31m?\u001b[0m eta \u001b[36m-:--:--\u001b[0m\r\u001b[2K     \u001b[91m━━━━━━━━━━━━━━━━━━━━━━━━━━━━━━━━━━━━━\u001b[0m\u001b[91m╸\u001b[0m \u001b[32m972.8/981.5 kB\u001b[0m \u001b[31m39.8 MB/s\u001b[0m eta \u001b[36m0:00:01\u001b[0m\r\u001b[2K     \u001b[90m━━━━━━━━━━━━━━━━━━━━━━━━━━━━━━━━━━━━━━\u001b[0m \u001b[32m981.5/981.5 kB\u001b[0m \u001b[31m22.1 MB/s\u001b[0m eta \u001b[36m0:00:00\u001b[0m\n",
            "\u001b[?25h  Preparing metadata (setup.py) ... \u001b[?25l\u001b[?25hdone\n",
            "\u001b[2K   \u001b[90m━━━━━━━━━━━━━━━━━━━━━━━━━━━━━━━━━━━━━━━━\u001b[0m \u001b[32m81.3/81.3 kB\u001b[0m \u001b[31m6.8 MB/s\u001b[0m eta \u001b[36m0:00:00\u001b[0m\n",
            "\u001b[2K   \u001b[90m━━━━━━━━━━━━━━━━━━━━━━━━━━━━━━━━━━━━━━━━\u001b[0m \u001b[32m113.4/113.4 kB\u001b[0m \u001b[31m9.0 MB/s\u001b[0m eta \u001b[36m0:00:00\u001b[0m\n",
            "\u001b[2K   \u001b[90m━━━━━━━━━━━━━━━━━━━━━━━━━━━━━━━━━━━━━━━━\u001b[0m \u001b[32m118.3/118.3 kB\u001b[0m \u001b[31m8.8 MB/s\u001b[0m eta \u001b[36m0:00:00\u001b[0m\n",
            "\u001b[?25h  Building wheel for langdetect (setup.py) ... \u001b[?25l\u001b[?25hdone\n",
            "  Building wheel for sgmllib3k (setup.py) ... \u001b[?25l\u001b[?25hdone\n"
          ]
        }
      ]
    },
    {
      "cell_type": "code",
      "source": [
        "import pandas as pd\n",
        "import feedparser\n",
        "import requests\n",
        "from goose3 import Goose\n",
        "from goose3.text import StopWordsKorean"
      ],
      "metadata": {
        "id": "VmbLUBSCgEN1"
      },
      "execution_count": null,
      "outputs": []
    },
    {
      "cell_type": "code",
      "source": [
        "def get_data(url):\n",
        "    try:\n",
        "        res = requests.get(url)\n",
        "        html = res.text\n",
        "        data = feedparser.parse(html)\n",
        "        print(data.feed.title)\n",
        "        return data\n",
        "    except:\n",
        "        return None\n",
        "\n",
        "url = 'https://www.yna.co.kr/rss/industry.xml'\n",
        "url = 'https://www.chosun.com/arc/outboundfeeds/rss/category/economy/?outputType=xml'\n",
        "parsed_data = get_data(url)\n",
        "\n",
        "num_entries = 2 # article 정보 확인을 위해 임의로 번호를 지정했습니다.\n",
        "article = parsed_data['entries'][num_entries]\n",
        "article"
      ],
      "metadata": {
        "id": "XENg_TxLg54Y",
        "outputId": "808a41da-0596-4fc6-c969-c6afb70709ab",
        "colab": {
          "base_uri": "https://localhost:8080/"
        }
      },
      "execution_count": null,
      "outputs": [
        {
          "output_type": "stream",
          "name": "stdout",
          "text": [
            "조선일보\n"
          ]
        },
        {
          "output_type": "execute_result",
          "data": {
            "text/plain": [
              "{'title': '31평 아파트 낙찰받자 선도지구 선정…1년도 안돼 9천만원 벌었다',\n",
              " 'title_detail': {'type': 'text/plain',\n",
              "  'language': None,\n",
              "  'base': '',\n",
              "  'value': '31평 아파트 낙찰받자 선도지구 선정…1년도 안돼 9천만원 벌었다'},\n",
              " 'links': [{'rel': 'alternate',\n",
              "   'type': 'text/html',\n",
              "   'href': 'https://www.chosun.com/economy/realty/investment_trends/2025/05/13/KTVP5NXI3EKBWQ7IFA2I2CFS7A/'}],\n",
              " 'link': 'https://www.chosun.com/economy/realty/investment_trends/2025/05/13/KTVP5NXI3EKBWQ7IFA2I2CFS7A/',\n",
              " 'id': 'https://www.chosun.com/economy/realty/investment_trends/2025/05/13/KTVP5NXI3EKBWQ7IFA2I2CFS7A/',\n",
              " 'guidislink': False,\n",
              " 'authors': [{'name': '이승우 기자(땅집고)'}],\n",
              " 'author': '이승우 기자(땅집고)',\n",
              " 'author_detail': {'name': '이승우 기자(땅집고)'},\n",
              " 'summary': '[땅집고] 재건축 아파트 경매에 관심이 많았던 A씨. 지난해 수도권 1기 신도시인 경기도 군포시 산본신도시 한 아파트 매물을 주목했다. 지상 20층, 822가구로 초등학교를 품고 있는 이른바 ‘초품아’였다. 1993년 준공해 30년이 넘었지만 산본 중심에 있어 기본적인 인프라는 좋았다. 무엇보다 노후계획도시 특별법에 따른 재건축을 기대할 수 있는 곳이었다.',\n",
              " 'summary_detail': {'type': 'text/html',\n",
              "  'language': None,\n",
              "  'base': '',\n",
              "  'value': '[땅집고] 재건축 아파트 경매에 관심이 많았던 A씨. 지난해 수도권 1기 신도시인 경기도 군포시 산본신도시 한 아파트 매물을 주목했다. 지상 20층, 822가구로 초등학교를 품고 있는 이른바 ‘초품아’였다. 1993년 준공해 30년이 넘었지만 산본 중심에 있어 기본적인 인프라는 좋았다. 무엇보다 노후계획도시 특별법에 따른 재건축을 기대할 수 있는 곳이었다.'},\n",
              " 'published': 'Tue, 13 May 2025 02:18:46 +0000',\n",
              " 'published_parsed': time.struct_time(tm_year=2025, tm_mon=5, tm_mday=13, tm_hour=2, tm_min=18, tm_sec=46, tm_wday=1, tm_yday=133, tm_isdst=0),\n",
              " 'content': [{'type': 'text/html',\n",
              "   'language': None,\n",
              "   'base': '',\n",
              "   'value': '<p><b>[땅집고]</b> 재건축 아파트 경매에 관심이 많았던 A씨. 지난해 수도권 1기 신도시인 경기도 군포시 산본신도시 한 아파트 매물을 주목했다. 지상 20층, 822가구로 초등학교를 품고 있는 이른바 \\'초품아\\'였다. 1993년 준공해 30년이 넘었지만 산본 중심에 있어 기본적인 인프라는 좋았다. 무엇보다 노후계획도시 특별법에 따른 재건축을 기대할 수 있는 곳이었다.</p><p>땅집고옥션(<a href=\"https://zipgoai.com/\">☞바로가기</a>)에 따르면 그는 작년 4월 이 아파트 12층, 전용면적 101㎡(약 31평)를 낙찰받았다. 감정가는 주변 시세(6억2000만원)와 비슷한 6억1000만원. 한 차례 유찰돼 최저입찰가는 4억8800만원까지 떨어졌다. 감정가의 약 90%인 5억5059만원을 써내 매수하는데 성공했다. 다소 높은 금액이라고 생각할 수도 있지만 A씨는 향후 매매 가격이 많이 오를 것으로 봤다.</p>'}],\n",
              " 'media_content': [{'url': 'https://www.chosun.com/resizer/v2/Q4VYYUXLIZQ3TTV3KO5OTQHLR4.jpg?auth=e548cdc25cfd8bebcd3191022ae2c40a66f764907662971879326c0fb54e9e01&smart=true&width=600&height=547',\n",
              "   'type': 'image/jpeg',\n",
              "   'height': '547',\n",
              "   'width': '600'}]}"
            ]
          },
          "metadata": {},
          "execution_count": 14
        }
      ]
    },
    {
      "cell_type": "code",
      "source": [
        "article['content']['value']"
      ],
      "metadata": {
        "id": "4OimpKNdhTHZ",
        "outputId": "6cb8ff38-3d6e-41cb-e6df-69490ef5eda8",
        "colab": {
          "base_uri": "https://localhost:8080/",
          "height": 147
        }
      },
      "execution_count": null,
      "outputs": [
        {
          "output_type": "error",
          "ename": "TypeError",
          "evalue": "list indices must be integers or slices, not str",
          "traceback": [
            "\u001b[0;31m---------------------------------------------------------------------------\u001b[0m",
            "\u001b[0;31mTypeError\u001b[0m                                 Traceback (most recent call last)",
            "\u001b[0;32m<ipython-input-15-e80cea8b2c60>\u001b[0m in \u001b[0;36m<cell line: 0>\u001b[0;34m()\u001b[0m\n\u001b[0;32m----> 1\u001b[0;31m \u001b[0marticle\u001b[0m\u001b[0;34m[\u001b[0m\u001b[0;34m'content'\u001b[0m\u001b[0;34m]\u001b[0m\u001b[0;34m[\u001b[0m\u001b[0;34m'value'\u001b[0m\u001b[0;34m]\u001b[0m\u001b[0;34m\u001b[0m\u001b[0;34m\u001b[0m\u001b[0m\n\u001b[0m",
            "\u001b[0;31mTypeError\u001b[0m: list indices must be integers or slices, not str"
          ]
        }
      ]
    },
    {
      "cell_type": "code",
      "source": [
        "reader = Goose({'stopwords_class':StopWordsKorean})"
      ],
      "metadata": {
        "id": "ERzpcNAPgTva"
      },
      "execution_count": null,
      "outputs": []
    },
    {
      "cell_type": "code",
      "source": [
        "url = 'https://news.chosun.com/site/data/html_dir/2020/02/13/2020021301270.html'\n",
        "contents = reader.extract(url=url)\n",
        "contents"
      ],
      "metadata": {
        "id": "OMYOGyEKgZAi",
        "outputId": "23f10b38-b45e-4d24-97c0-b71392e69b8a",
        "colab": {
          "base_uri": "https://localhost:8080/"
        }
      },
      "execution_count": null,
      "outputs": [
        {
          "output_type": "execute_result",
          "data": {
            "text/plain": [
              "<goose3.article.Article at 0x7b466b583a10>"
            ]
          },
          "metadata": {},
          "execution_count": 5
        }
      ]
    },
    {
      "cell_type": "code",
      "source": [
        "print(contents.cleaned_text)"
      ],
      "metadata": {
        "id": "dqfyGrWUgkPT",
        "outputId": "cd3ba44b-eb66-4ba8-9d1c-0ef62708b85b",
        "colab": {
          "base_uri": "https://localhost:8080/"
        }
      },
      "execution_count": null,
      "outputs": [
        {
          "output_type": "stream",
          "name": "stdout",
          "text": [
            "\n"
          ]
        }
      ]
    }
  ]
}